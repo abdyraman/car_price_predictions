{
 "cells": [
  {
   "cell_type": "code",
   "execution_count": 1,
   "id": "403f3df1",
   "metadata": {
    "_cell_guid": "b1076dfc-b9ad-4769-8c92-a6c4dae69d19",
    "_uuid": "8f2839f25d086af736a60e9eeb907d3b93b6e0e5",
    "execution": {
     "iopub.execute_input": "2024-06-20T15:54:46.197895Z",
     "iopub.status.busy": "2024-06-20T15:54:46.197479Z",
     "iopub.status.idle": "2024-06-20T15:54:48.541592Z",
     "shell.execute_reply": "2024-06-20T15:54:48.540112Z"
    },
    "papermill": {
     "duration": 2.36871,
     "end_time": "2024-06-20T15:54:48.544791",
     "exception": false,
     "start_time": "2024-06-20T15:54:46.176081",
     "status": "completed"
    },
    "tags": []
   },
   "outputs": [
    {
     "name": "stdout",
     "output_type": "stream",
     "text": [
      "/kaggle/input/kagglexfellowship/kagglex-cohort4/sample_submission.csv\n",
      "/kaggle/input/kagglexfellowship/kagglex-cohort4/train.csv\n",
      "/kaggle/input/kagglexfellowship/kagglex-cohort4/test.csv\n"
     ]
    }
   ],
   "source": [
    "# This Python 3 environment comes with many helpful analytics libraries installed\n",
    "# It is defined by the kaggle/python Docker image: https://github.com/kaggle/docker-python\n",
    "# For example, here's several helpful packages to load\n",
    "\n",
    "import numpy as np # linear algebra\n",
    "import pandas as pd # data processing, CSV file I/O (e.g. pd.read_csv)\n",
    "import seaborn as sns\n",
    "import matplotlib.pyplot as plt\n",
    "\n",
    "# Input data files are available in the read-only \"../input/\" directory\n",
    "# For example, running this (by clicking run or pressing Shift+Enter) will list all files under the input directory\n",
    "\n",
    "import os\n",
    "for dirname, _, filenames in os.walk('/kaggle/input'):\n",
    "    for filename in filenames:\n",
    "        print(os.path.join(dirname, filename))\n",
    "\n",
    "# You can write up to 20GB to the current directory (/kaggle/working/) that gets preserved as output when you create a version using \"Save & Run All\" \n",
    "# You can also write temporary files to /kaggle/temp/, but they won't be saved outside of the current session"
   ]
  },
  {
   "cell_type": "code",
   "execution_count": 2,
   "id": "ea947e28",
   "metadata": {
    "execution": {
     "iopub.execute_input": "2024-06-20T15:54:48.584974Z",
     "iopub.status.busy": "2024-06-20T15:54:48.584346Z",
     "iopub.status.idle": "2024-06-20T15:54:49.127116Z",
     "shell.execute_reply": "2024-06-20T15:54:49.125925Z"
    },
    "papermill": {
     "duration": 0.565996,
     "end_time": "2024-06-20T15:54:49.130193",
     "exception": false,
     "start_time": "2024-06-20T15:54:48.564197",
     "status": "completed"
    },
    "tags": []
   },
   "outputs": [],
   "source": [
    "#  Import and read the data \n",
    "train = pd.read_csv('/kaggle/input/kagglexfellowship/kagglex-cohort4/train.csv')\n",
    "test=pd.read_csv('/kaggle/input/kagglexfellowship/kagglex-cohort4/test.csv')\n",
    "subm=pd.read_csv('/kaggle/input/kagglexfellowship/kagglex-cohort4/sample_submission.csv')\n"
   ]
  },
  {
   "cell_type": "code",
   "execution_count": 3,
   "id": "edc7b1a5",
   "metadata": {
    "execution": {
     "iopub.execute_input": "2024-06-20T15:54:49.170035Z",
     "iopub.status.busy": "2024-06-20T15:54:49.169539Z",
     "iopub.status.idle": "2024-06-20T15:54:49.186429Z",
     "shell.execute_reply": "2024-06-20T15:54:49.185063Z"
    },
    "papermill": {
     "duration": 0.039911,
     "end_time": "2024-06-20T15:54:49.189062",
     "exception": false,
     "start_time": "2024-06-20T15:54:49.149151",
     "status": "completed"
    },
    "tags": []
   },
   "outputs": [],
   "source": [
    "#Drop the non-beneficial ID columns and assign ID column as labels\n",
    "def set_index (df):\n",
    "    df.set_index('id', inplace=True)\n",
    "    return df\n",
    "\n",
    "train_df=set_index(train)\n",
    "test_df=set_index(test)"
   ]
  },
  {
   "cell_type": "markdown",
   "id": "1c45d3c2",
   "metadata": {
    "papermill": {
     "duration": 0.018501,
     "end_time": "2024-06-20T15:54:49.227234",
     "exception": false,
     "start_time": "2024-06-20T15:54:49.208733",
     "status": "completed"
    },
    "tags": []
   },
   "source": [
    "# Data Exploration"
   ]
  },
  {
   "cell_type": "code",
   "execution_count": 4,
   "id": "00af7286",
   "metadata": {
    "execution": {
     "iopub.execute_input": "2024-06-20T15:54:49.267915Z",
     "iopub.status.busy": "2024-06-20T15:54:49.266761Z",
     "iopub.status.idle": "2024-06-20T15:54:49.277264Z",
     "shell.execute_reply": "2024-06-20T15:54:49.276160Z"
    },
    "papermill": {
     "duration": 0.033737,
     "end_time": "2024-06-20T15:54:49.280371",
     "exception": false,
     "start_time": "2024-06-20T15:54:49.246634",
     "status": "completed"
    },
    "tags": []
   },
   "outputs": [
    {
     "data": {
      "text/plain": [
       "brand           object\n",
       "model           object\n",
       "model_year       int64\n",
       "milage           int64\n",
       "fuel_type       object\n",
       "engine          object\n",
       "transmission    object\n",
       "ext_col         object\n",
       "int_col         object\n",
       "accident        object\n",
       "clean_title     object\n",
       "price            int64\n",
       "dtype: object"
      ]
     },
     "execution_count": 4,
     "metadata": {},
     "output_type": "execute_result"
    }
   ],
   "source": [
    "# Checking the datatypes for train dataset\n",
    "train_df.dtypes"
   ]
  },
  {
   "cell_type": "code",
   "execution_count": 5,
   "id": "8068f29a",
   "metadata": {
    "execution": {
     "iopub.execute_input": "2024-06-20T15:54:49.320082Z",
     "iopub.status.busy": "2024-06-20T15:54:49.319598Z",
     "iopub.status.idle": "2024-06-20T15:54:49.329123Z",
     "shell.execute_reply": "2024-06-20T15:54:49.327988Z"
    },
    "papermill": {
     "duration": 0.031742,
     "end_time": "2024-06-20T15:54:49.331527",
     "exception": false,
     "start_time": "2024-06-20T15:54:49.299785",
     "status": "completed"
    },
    "tags": []
   },
   "outputs": [
    {
     "data": {
      "text/plain": [
       "brand           object\n",
       "model           object\n",
       "model_year       int64\n",
       "milage           int64\n",
       "fuel_type       object\n",
       "engine          object\n",
       "transmission    object\n",
       "ext_col         object\n",
       "int_col         object\n",
       "accident        object\n",
       "clean_title     object\n",
       "dtype: object"
      ]
     },
     "execution_count": 5,
     "metadata": {},
     "output_type": "execute_result"
    }
   ],
   "source": [
    "test_df.dtypes"
   ]
  },
  {
   "cell_type": "code",
   "execution_count": 6,
   "id": "de16737b",
   "metadata": {
    "execution": {
     "iopub.execute_input": "2024-06-20T15:54:49.372180Z",
     "iopub.status.busy": "2024-06-20T15:54:49.371210Z",
     "iopub.status.idle": "2024-06-20T15:54:49.376936Z",
     "shell.execute_reply": "2024-06-20T15:54:49.375732Z"
    },
    "papermill": {
     "duration": 0.029023,
     "end_time": "2024-06-20T15:54:49.379389",
     "exception": false,
     "start_time": "2024-06-20T15:54:49.350366",
     "status": "completed"
    },
    "tags": []
   },
   "outputs": [],
   "source": [
    "#Determine the number of unique values in each column\n",
    "def dataset_unique_counts(df):\n",
    "    unique_counts = df.nunique()\n",
    "    print(unique_counts)"
   ]
  },
  {
   "cell_type": "code",
   "execution_count": 7,
   "id": "a93cd251",
   "metadata": {
    "execution": {
     "iopub.execute_input": "2024-06-20T15:54:49.419418Z",
     "iopub.status.busy": "2024-06-20T15:54:49.418965Z",
     "iopub.status.idle": "2024-06-20T15:54:49.482394Z",
     "shell.execute_reply": "2024-06-20T15:54:49.481241Z"
    },
    "papermill": {
     "duration": 0.086809,
     "end_time": "2024-06-20T15:54:49.485067",
     "exception": false,
     "start_time": "2024-06-20T15:54:49.398258",
     "status": "completed"
    },
    "tags": []
   },
   "outputs": [
    {
     "name": "stdout",
     "output_type": "stream",
     "text": [
      "brand             53\n",
      "model           1827\n",
      "model_year        34\n",
      "milage          3212\n",
      "fuel_type          7\n",
      "engine          1061\n",
      "transmission      46\n",
      "ext_col          260\n",
      "int_col          124\n",
      "accident           2\n",
      "clean_title        1\n",
      "price           1481\n",
      "dtype: int64\n"
     ]
    }
   ],
   "source": [
    "#Unique values for train dataset\n",
    "dataset_unique_counts(train_df)"
   ]
  },
  {
   "cell_type": "code",
   "execution_count": 8,
   "id": "2225acd3",
   "metadata": {
    "execution": {
     "iopub.execute_input": "2024-06-20T15:54:49.525093Z",
     "iopub.status.busy": "2024-06-20T15:54:49.524631Z",
     "iopub.status.idle": "2024-06-20T15:54:49.565053Z",
     "shell.execute_reply": "2024-06-20T15:54:49.563866Z"
    },
    "papermill": {
     "duration": 0.063602,
     "end_time": "2024-06-20T15:54:49.567730",
     "exception": false,
     "start_time": "2024-06-20T15:54:49.504128",
     "status": "completed"
    },
    "tags": []
   },
   "outputs": [
    {
     "name": "stdout",
     "output_type": "stream",
     "text": [
      "brand             53\n",
      "model           1791\n",
      "model_year        34\n",
      "milage          2973\n",
      "fuel_type          7\n",
      "engine          1038\n",
      "transmission      44\n",
      "ext_col          230\n",
      "int_col          111\n",
      "accident           2\n",
      "clean_title        1\n",
      "dtype: int64\n"
     ]
    }
   ],
   "source": [
    "#Unique values for test dataset\n",
    "dataset_unique_counts(test_df)"
   ]
  },
  {
   "cell_type": "code",
   "execution_count": 9,
   "id": "d7d47c4b",
   "metadata": {
    "execution": {
     "iopub.execute_input": "2024-06-20T15:54:49.608572Z",
     "iopub.status.busy": "2024-06-20T15:54:49.607709Z",
     "iopub.status.idle": "2024-06-20T15:54:49.614811Z",
     "shell.execute_reply": "2024-06-20T15:54:49.613544Z"
    },
    "papermill": {
     "duration": 0.030257,
     "end_time": "2024-06-20T15:54:49.617234",
     "exception": false,
     "start_time": "2024-06-20T15:54:49.586977",
     "status": "completed"
    },
    "tags": []
   },
   "outputs": [],
   "source": [
    "def price_plot(df):\n",
    "    plt.figure(figsize=(8, 6))\n",
    "    sns.stripplot(data=df, y='price', jitter=True, color='purple', alpha=0.5)\n",
    "    plt.title('Strip Plot: Price Distribution')\n",
    "    plt.ylabel('Price')\n",
    "    plt.grid(True)\n",
    "    plt.show()"
   ]
  },
  {
   "cell_type": "code",
   "execution_count": 10,
   "id": "08d15ef1",
   "metadata": {
    "execution": {
     "iopub.execute_input": "2024-06-20T15:54:49.657921Z",
     "iopub.status.busy": "2024-06-20T15:54:49.656917Z",
     "iopub.status.idle": "2024-06-20T15:54:50.175751Z",
     "shell.execute_reply": "2024-06-20T15:54:50.174376Z"
    },
    "papermill": {
     "duration": 0.541836,
     "end_time": "2024-06-20T15:54:50.178202",
     "exception": false,
     "start_time": "2024-06-20T15:54:49.636366",
     "status": "completed"
    },
    "tags": []
   },
   "outputs": [
    {
     "name": "stderr",
     "output_type": "stream",
     "text": [
      "/opt/conda/lib/python3.10/site-packages/seaborn/_oldcore.py:1119: FutureWarning: use_inf_as_na option is deprecated and will be removed in a future version. Convert inf values to NaN before operating instead.\n",
      "  with pd.option_context('mode.use_inf_as_na', True):\n",
      "/opt/conda/lib/python3.10/site-packages/seaborn/_oldcore.py:1119: FutureWarning: use_inf_as_na option is deprecated and will be removed in a future version. Convert inf values to NaN before operating instead.\n",
      "  with pd.option_context('mode.use_inf_as_na', True):\n",
      "/opt/conda/lib/python3.10/site-packages/seaborn/_oldcore.py:1075: FutureWarning: When grouping with a length-1 list-like, you will need to pass a length-1 tuple to get_group in a future version of pandas. Pass `(name,)` instead of `name` to silence this warning.\n",
      "  data_subset = grouped_data.get_group(pd_key)\n"
     ]
    },
    {
     "data": {
      "image/png": "[encoded data removed]",
      "text/plain": [
       "<Figure size 800x600 with 1 Axes>"
      ]
     },
     "metadata": {},
     "output_type": "display_data"
    }
   ],
   "source": [
    "price_plot(train_df)"
   ]
  },
  {
   "cell_type": "markdown",
   "id": "4a5a32e8",
   "metadata": {
    "papermill": {
     "duration": 0.020399,
     "end_time": "2024-06-20T15:54:50.218951",
     "exception": false,
     "start_time": "2024-06-20T15:54:50.198552",
     "status": "completed"
    },
    "tags": []
   },
   "source": [
    "Above Histogram shows that most cars lie in the lower range of price.\n",
    "The above graph has outliers from 0.4 onwards, which need to be removed."
   ]
  },
  {
   "cell_type": "code",
   "execution_count": 11,
   "id": "ca67b614",
   "metadata": {
    "execution": {
     "iopub.execute_input": "2024-06-20T15:54:50.267338Z",
     "iopub.status.busy": "2024-06-20T15:54:50.266219Z",
     "iopub.status.idle": "2024-06-20T15:54:50.290853Z",
     "shell.execute_reply": "2024-06-20T15:54:50.289530Z"
    },
    "papermill": {
     "duration": 0.054029,
     "end_time": "2024-06-20T15:54:50.294129",
     "exception": false,
     "start_time": "2024-06-20T15:54:50.240100",
     "status": "completed"
    },
    "tags": []
   },
   "outputs": [
    {
     "data": {
      "text/plain": [
       "count    5.427300e+04\n",
       "mean     3.921844e+04\n",
       "std      7.282634e+04\n",
       "min      2.000000e+03\n",
       "25%      1.550000e+04\n",
       "50%      2.800000e+04\n",
       "75%      4.500000e+04\n",
       "max      2.954083e+06\n",
       "Name: price, dtype: float64"
      ]
     },
     "execution_count": 11,
     "metadata": {},
     "output_type": "execute_result"
    }
   ],
   "source": [
    "#Train data needs to be cleaned from outliers\n",
    "train_df['price'].describe()\n"
   ]
  },
  {
   "cell_type": "code",
   "execution_count": 12,
   "id": "2d2805d8",
   "metadata": {
    "execution": {
     "iopub.execute_input": "2024-06-20T15:54:50.340658Z",
     "iopub.status.busy": "2024-06-20T15:54:50.340211Z",
     "iopub.status.idle": "2024-06-20T15:54:50.351240Z",
     "shell.execute_reply": "2024-06-20T15:54:50.349952Z"
    },
    "papermill": {
     "duration": 0.034613,
     "end_time": "2024-06-20T15:54:50.353541",
     "exception": false,
     "start_time": "2024-06-20T15:54:50.318928",
     "status": "completed"
    },
    "tags": []
   },
   "outputs": [
    {
     "name": "stdout",
     "output_type": "stream",
     "text": [
      "29500.0\n"
     ]
    }
   ],
   "source": [
    "#identify and remove outliers from the data df in relation to price column using IQR method\n",
    "Q1 = train_df['price'].quantile(0.25)\n",
    "Q3 = train_df['price'].quantile(0.75)\n",
    "IQR = Q3 - Q1\n",
    "print(IQR)"
   ]
  },
  {
   "cell_type": "code",
   "execution_count": 13,
   "id": "716f0300",
   "metadata": {
    "execution": {
     "iopub.execute_input": "2024-06-20T15:54:50.401740Z",
     "iopub.status.busy": "2024-06-20T15:54:50.401126Z",
     "iopub.status.idle": "2024-06-20T15:54:50.424544Z",
     "shell.execute_reply": "2024-06-20T15:54:50.423022Z"
    },
    "papermill": {
     "duration": 0.054694,
     "end_time": "2024-06-20T15:54:50.428106",
     "exception": false,
     "start_time": "2024-06-20T15:54:50.373412",
     "status": "completed"
    },
    "tags": []
   },
   "outputs": [
    {
     "data": {
      "text/plain": [
       "(47678, 12)"
      ]
     },
     "execution_count": 13,
     "metadata": {},
     "output_type": "execute_result"
    }
   ],
   "source": [
    "#use IQR value to filter out the outliers\n",
    "outliersfree_df = train_df[~((train_df['price'] < (Q1 - 1.5 * IQR)) |(train_df['price'] > (Q3 + 0.7 * IQR)))]\n",
    "outliersfree_df.shape"
   ]
  },
  {
   "cell_type": "markdown",
   "id": "af4f7cb9",
   "metadata": {
    "papermill": {
     "duration": 0.028057,
     "end_time": "2024-06-20T15:54:50.481360",
     "exception": false,
     "start_time": "2024-06-20T15:54:50.453303",
     "status": "completed"
    },
    "tags": []
   },
   "source": [
    "The above plot looks more homogeneous than the previous one after removal of outliers."
   ]
  },
  {
   "cell_type": "code",
   "execution_count": 14,
   "id": "0db14869",
   "metadata": {
    "execution": {
     "iopub.execute_input": "2024-06-20T15:54:50.533704Z",
     "iopub.status.busy": "2024-06-20T15:54:50.532463Z",
     "iopub.status.idle": "2024-06-20T15:54:50.547297Z",
     "shell.execute_reply": "2024-06-20T15:54:50.545908Z"
    },
    "papermill": {
     "duration": 0.042732,
     "end_time": "2024-06-20T15:54:50.549737",
     "exception": false,
     "start_time": "2024-06-20T15:54:50.507005",
     "status": "completed"
    },
    "tags": []
   },
   "outputs": [
    {
     "data": {
      "text/plain": [
       "count    47678.000000\n",
       "mean     26943.079219\n",
       "std      15404.132778\n",
       "min       2000.000000\n",
       "25%      14500.000000\n",
       "50%      24900.000000\n",
       "75%      37475.500000\n",
       "max      65500.000000\n",
       "Name: price, dtype: float64"
      ]
     },
     "execution_count": 14,
     "metadata": {},
     "output_type": "execute_result"
    }
   ],
   "source": [
    "#Train data needs to be cleaned from outliers\n",
    "outliersfree_df['price'].describe()"
   ]
  },
  {
   "cell_type": "markdown",
   "id": "ec9e9139",
   "metadata": {
    "papermill": {
     "duration": 0.019993,
     "end_time": "2024-06-20T15:54:50.589872",
     "exception": false,
     "start_time": "2024-06-20T15:54:50.569879",
     "status": "completed"
    },
    "tags": []
   },
   "source": [
    "# **Data wrangling**"
   ]
  },
  {
   "cell_type": "markdown",
   "id": "f324abd6",
   "metadata": {
    "papermill": {
     "duration": 0.022376,
     "end_time": "2024-06-20T15:54:50.635808",
     "exception": false,
     "start_time": "2024-06-20T15:54:50.613432",
     "status": "completed"
    },
    "tags": []
   },
   "source": [
    "I will reduce the number of features in string data categories, and will remain the numeric categories as they are."
   ]
  },
  {
   "cell_type": "code",
   "execution_count": 15,
   "id": "d76e07f9",
   "metadata": {
    "execution": {
     "iopub.execute_input": "2024-06-20T15:54:50.681366Z",
     "iopub.status.busy": "2024-06-20T15:54:50.680912Z",
     "iopub.status.idle": "2024-06-20T15:54:50.732615Z",
     "shell.execute_reply": "2024-06-20T15:54:50.731272Z"
    },
    "papermill": {
     "duration": 0.079248,
     "end_time": "2024-06-20T15:54:50.735482",
     "exception": false,
     "start_time": "2024-06-20T15:54:50.656234",
     "status": "completed"
    },
    "tags": []
   },
   "outputs": [
    {
     "name": "stdout",
     "output_type": "stream",
     "text": [
      "brand             51\n",
      "model           1795\n",
      "model_year        34\n",
      "milage          3093\n",
      "fuel_type          7\n",
      "engine          1045\n",
      "transmission      43\n",
      "ext_col          245\n",
      "int_col          118\n",
      "accident           2\n",
      "clean_title        1\n",
      "price           1108\n",
      "dtype: int64\n"
     ]
    }
   ],
   "source": [
    "#Determine the number of unique values in each column.\n",
    "dataset_unique_counts(outliersfree_df)"
   ]
  },
  {
   "cell_type": "code",
   "execution_count": 16,
   "id": "0bfa1cf7",
   "metadata": {
    "execution": {
     "iopub.execute_input": "2024-06-20T15:54:50.779281Z",
     "iopub.status.busy": "2024-06-20T15:54:50.778838Z",
     "iopub.status.idle": "2024-06-20T15:54:50.820849Z",
     "shell.execute_reply": "2024-06-20T15:54:50.819127Z"
    },
    "papermill": {
     "duration": 0.06708,
     "end_time": "2024-06-20T15:54:50.823516",
     "exception": false,
     "start_time": "2024-06-20T15:54:50.756436",
     "status": "completed"
    },
    "tags": []
   },
   "outputs": [
    {
     "name": "stdout",
     "output_type": "stream",
     "text": [
      "brand             53\n",
      "model           1791\n",
      "model_year        34\n",
      "milage          2973\n",
      "fuel_type          7\n",
      "engine          1038\n",
      "transmission      44\n",
      "ext_col          230\n",
      "int_col          111\n",
      "accident           2\n",
      "clean_title        1\n",
      "dtype: int64\n"
     ]
    }
   ],
   "source": [
    "#Determine the number of unique values in each column.\n",
    "dataset_unique_counts(test_df)"
   ]
  },
  {
   "cell_type": "markdown",
   "id": "633ac9ac",
   "metadata": {
    "papermill": {
     "duration": 0.020092,
     "end_time": "2024-06-20T15:54:50.864018",
     "exception": false,
     "start_time": "2024-06-20T15:54:50.843926",
     "status": "completed"
    },
    "tags": []
   },
   "source": [
    "***Model cleaning***"
   ]
  },
  {
   "cell_type": "code",
   "execution_count": 17,
   "id": "344fe479",
   "metadata": {
    "execution": {
     "iopub.execute_input": "2024-06-20T15:54:50.976040Z",
     "iopub.status.busy": "2024-06-20T15:54:50.975570Z",
     "iopub.status.idle": "2024-06-20T15:54:50.981633Z",
     "shell.execute_reply": "2024-06-20T15:54:50.980519Z"
    },
    "papermill": {
     "duration": 0.099828,
     "end_time": "2024-06-20T15:54:50.984224",
     "exception": false,
     "start_time": "2024-06-20T15:54:50.884396",
     "status": "completed"
    },
    "tags": []
   },
   "outputs": [],
   "source": [
    "# Value counts function \n",
    "def feature_value_counts(df, column_name):\n",
    "    value_counts = df[column_name].value_counts()\n",
    "    return value_counts"
   ]
  },
  {
   "cell_type": "markdown",
   "id": "9f46cbc3",
   "metadata": {
    "papermill": {
     "duration": 0.020956,
     "end_time": "2024-06-20T15:54:51.026754",
     "exception": false,
     "start_time": "2024-06-20T15:54:51.005798",
     "status": "completed"
    },
    "tags": []
   },
   "source": [
    "Brand feature"
   ]
  },
  {
   "cell_type": "code",
   "execution_count": 18,
   "id": "9be38bd5",
   "metadata": {
    "execution": {
     "iopub.execute_input": "2024-06-20T15:54:51.071301Z",
     "iopub.status.busy": "2024-06-20T15:54:51.070310Z",
     "iopub.status.idle": "2024-06-20T15:54:51.456529Z",
     "shell.execute_reply": "2024-06-20T15:54:51.455433Z"
    },
    "papermill": {
     "duration": 0.411725,
     "end_time": "2024-06-20T15:54:51.459447",
     "exception": false,
     "start_time": "2024-06-20T15:54:51.047722",
     "status": "completed"
    },
    "tags": []
   },
   "outputs": [],
   "source": [
    "brand_counts_train = feature_value_counts(outliersfree_df, 'brand')\n",
    "brand_counts_test = feature_value_counts(test_df, 'brand')\n",
    "\n",
    "cutoff_value = 400 # Keep if database has 451 and more records of this car model\n",
    "brand_types_to_replace = brand_counts_train[brand_counts_train < cutoff_value].index\n",
    "\n",
    "# Replace models in the training dataframe\n",
    "for brand_c in brand_types_to_replace:\n",
    "    outliersfree_df.loc[outliersfree_df['brand'] == brand_c, 'brand'] = \"Other\"\n",
    "\n",
    "# Apply the same replacements to the test dataframe\n",
    "test_df.loc[test_df['brand'].isin(brand_types_to_replace), 'brand'] = \"Other\"\n",
    "test_df.loc[~test_df['brand'].isin(outliersfree_df['brand'].unique()), 'brand'] = \"Other\"\n",
    "\n",
    "# Check the updated value counts\n",
    "brand_counts_train_updated = outliersfree_df['brand'].value_counts()\n",
    "brand_counts_test_updated = test_df['brand'].value_counts()\n"
   ]
  },
  {
   "cell_type": "markdown",
   "id": "b68e4f66",
   "metadata": {
    "papermill": {
     "duration": 0.022199,
     "end_time": "2024-06-20T15:54:51.502228",
     "exception": false,
     "start_time": "2024-06-20T15:54:51.480029",
     "status": "completed"
    },
    "tags": []
   },
   "source": [
    "*Model feature*"
   ]
  },
  {
   "cell_type": "code",
   "execution_count": 19,
   "id": "39792eb2",
   "metadata": {
    "execution": {
     "iopub.execute_input": "2024-06-20T15:54:51.545617Z",
     "iopub.status.busy": "2024-06-20T15:54:51.545241Z",
     "iopub.status.idle": "2024-06-20T15:55:08.511252Z",
     "shell.execute_reply": "2024-06-20T15:55:08.509946Z"
    },
    "papermill": {
     "duration": 16.991457,
     "end_time": "2024-06-20T15:55:08.514246",
     "exception": false,
     "start_time": "2024-06-20T15:54:51.522789",
     "status": "completed"
    },
    "tags": []
   },
   "outputs": [],
   "source": [
    "model_counts_train = feature_value_counts(outliersfree_df, 'model')\n",
    "model_counts_test = feature_value_counts(test_df, 'model')\n",
    "\n",
    "cutoff_value = 400 # Keep if database has 451 and more records of this car model\n",
    "model_types_to_replace = model_counts_train[model_counts_train < cutoff_value].index\n",
    "\n",
    "# Replace models in the training dataframe\n",
    "for model_c in model_types_to_replace:\n",
    "    outliersfree_df.loc[outliersfree_df['model'] == model_c, 'model'] = \"Other\"\n",
    "\n",
    "# Apply the same replacements to the test dataframe\n",
    "test_df.loc[test_df['model'].isin(model_types_to_replace), 'model'] = \"Other\"\n",
    "test_df.loc[~test_df['model'].isin(outliersfree_df['model'].unique()), 'model'] = \"Other\"\n",
    "\n",
    "# Check the updated value counts\n",
    "model_counts_train_updated = outliersfree_df['model'].value_counts()\n",
    "model_counts_test_updated = test_df['model'].value_counts()\n"
   ]
  },
  {
   "cell_type": "markdown",
   "id": "7de27ecb",
   "metadata": {
    "papermill": {
     "duration": 0.020743,
     "end_time": "2024-06-20T15:55:08.556047",
     "exception": false,
     "start_time": "2024-06-20T15:55:08.535304",
     "status": "completed"
    },
    "tags": []
   },
   "source": [
    "*Fuel feature*"
   ]
  },
  {
   "cell_type": "code",
   "execution_count": 20,
   "id": "510f6f81",
   "metadata": {
    "execution": {
     "iopub.execute_input": "2024-06-20T15:55:08.599764Z",
     "iopub.status.busy": "2024-06-20T15:55:08.599329Z",
     "iopub.status.idle": "2024-06-20T15:55:08.606322Z",
     "shell.execute_reply": "2024-06-20T15:55:08.605059Z"
    },
    "papermill": {
     "duration": 0.032104,
     "end_time": "2024-06-20T15:55:08.609139",
     "exception": false,
     "start_time": "2024-06-20T15:55:08.577035",
     "status": "completed"
    },
    "tags": []
   },
   "outputs": [],
   "source": [
    "# Replace '–' with 'Other' in the 'fuel_type' column\n",
    "def cleaning_not_supported_and_dashes(df):\n",
    "    # Replace unsupported dashes with 'Other'\n",
    "    df.loc[df['fuel_type'] == '–', 'fuel_type'] = 'Other'\n",
    "    # Remove rows where 'fuel_type' is 'not supported'\n",
    "    cleaned_df = df[df['fuel_type'] != 'not supported']\n",
    "    # Calculate and return the value counts of the cleaned 'fuel_type' column\n",
    "    fuel_counts = cleaned_df['fuel_type'].value_counts()\n",
    "    return cleaned_df"
   ]
  },
  {
   "cell_type": "code",
   "execution_count": 21,
   "id": "bb5a4ccc",
   "metadata": {
    "execution": {
     "iopub.execute_input": "2024-06-20T15:55:08.652834Z",
     "iopub.status.busy": "2024-06-20T15:55:08.652339Z",
     "iopub.status.idle": "2024-06-20T15:55:08.703627Z",
     "shell.execute_reply": "2024-06-20T15:55:08.702197Z"
    },
    "papermill": {
     "duration": 0.076002,
     "end_time": "2024-06-20T15:55:08.706200",
     "exception": false,
     "start_time": "2024-06-20T15:55:08.630198",
     "status": "completed"
    },
    "tags": []
   },
   "outputs": [
    {
     "data": {
      "text/plain": [
       "fuel_type\n",
       "Gasoline          43613\n",
       "E85 Flex Fuel      1435\n",
       "Hybrid             1323\n",
       "Diesel              889\n",
       "Other               266\n",
       "Plug-In Hybrid      148\n",
       "Name: count, dtype: int64"
      ]
     },
     "execution_count": 21,
     "metadata": {},
     "output_type": "execute_result"
    }
   ],
   "source": [
    "cleaned_train=cleaning_not_supported_and_dashes(outliersfree_df)\n",
    "feature_value_counts(cleaned_train, 'fuel_type')"
   ]
  },
  {
   "cell_type": "code",
   "execution_count": 22,
   "id": "2e64dfad",
   "metadata": {
    "execution": {
     "iopub.execute_input": "2024-06-20T15:55:08.750998Z",
     "iopub.status.busy": "2024-06-20T15:55:08.749558Z",
     "iopub.status.idle": "2024-06-20T15:55:08.791821Z",
     "shell.execute_reply": "2024-06-20T15:55:08.790448Z"
    },
    "papermill": {
     "duration": 0.06767,
     "end_time": "2024-06-20T15:55:08.794392",
     "exception": false,
     "start_time": "2024-06-20T15:55:08.726722",
     "status": "completed"
    },
    "tags": []
   },
   "outputs": [
    {
     "data": {
      "text/plain": [
       "fuel_type\n",
       "Gasoline          33033\n",
       "Hybrid             1112\n",
       "E85 Flex Fuel      1018\n",
       "Diesel              671\n",
       "Other               197\n",
       "Plug-In Hybrid      148\n",
       "Name: count, dtype: int64"
      ]
     },
     "execution_count": 22,
     "metadata": {},
     "output_type": "execute_result"
    }
   ],
   "source": [
    "cleaned_test=cleaning_not_supported_and_dashes(test_df)\n",
    "feature_value_counts(cleaned_test, 'fuel_type')"
   ]
  },
  {
   "cell_type": "markdown",
   "id": "45d7078f",
   "metadata": {
    "papermill": {
     "duration": 0.020566,
     "end_time": "2024-06-20T15:55:08.836387",
     "exception": false,
     "start_time": "2024-06-20T15:55:08.815821",
     "status": "completed"
    },
    "tags": []
   },
   "source": [
    "*Engine feature*"
   ]
  },
  {
   "cell_type": "code",
   "execution_count": 23,
   "id": "6cfa3e10",
   "metadata": {
    "execution": {
     "iopub.execute_input": "2024-06-20T15:55:08.880106Z",
     "iopub.status.busy": "2024-06-20T15:55:08.879642Z",
     "iopub.status.idle": "2024-06-20T15:55:18.897889Z",
     "shell.execute_reply": "2024-06-20T15:55:18.896544Z"
    },
    "papermill": {
     "duration": 10.043687,
     "end_time": "2024-06-20T15:55:18.900918",
     "exception": false,
     "start_time": "2024-06-20T15:55:08.857231",
     "status": "completed"
    },
    "tags": []
   },
   "outputs": [],
   "source": [
    "#Reducing the features unique values\n",
    "engine_counts_train = feature_value_counts(cleaned_train, 'engine')\n",
    "engine_counts_test = feature_value_counts(cleaned_test, 'engine')\n",
    "\n",
    "cutoff_value = 400 # Keep if database has 451 and more records of this car model\n",
    "engine_types_to_replace = engine_counts_train[engine_counts_train < cutoff_value].index\n",
    "\n",
    "# Replace models in the training dataframe\n",
    "for engine_c in engine_types_to_replace:\n",
    "    cleaned_train.loc[cleaned_train['engine'] == engine_c, 'engine'] = \"Other\"\n",
    "\n",
    "# Apply the same replacements to the test dataframe\n",
    "cleaned_test.loc[cleaned_test['engine'].isin(engine_types_to_replace), 'engine'] = \"Other\"\n",
    "cleaned_test.loc[~cleaned_test['engine'].isin(cleaned_train['engine'].unique()), 'engine'] = \"Other\"\n",
    "\n",
    "# Check the updated value counts\n",
    "engine_counts_train_updated = cleaned_train['engine'].value_counts()\n",
    "engine_counts_test_updated = cleaned_test['engine'].value_counts()\n"
   ]
  },
  {
   "cell_type": "markdown",
   "id": "ad1db886",
   "metadata": {
    "papermill": {
     "duration": 0.02072,
     "end_time": "2024-06-20T15:55:18.943257",
     "exception": false,
     "start_time": "2024-06-20T15:55:18.922537",
     "status": "completed"
    },
    "tags": []
   },
   "source": [
    "*Transmission feature*"
   ]
  },
  {
   "cell_type": "code",
   "execution_count": 24,
   "id": "df692b31",
   "metadata": {
    "execution": {
     "iopub.execute_input": "2024-06-20T15:55:18.988246Z",
     "iopub.status.busy": "2024-06-20T15:55:18.987267Z",
     "iopub.status.idle": "2024-06-20T15:55:19.273849Z",
     "shell.execute_reply": "2024-06-20T15:55:19.272720Z"
    },
    "papermill": {
     "duration": 0.31245,
     "end_time": "2024-06-20T15:55:19.276851",
     "exception": false,
     "start_time": "2024-06-20T15:55:18.964401",
     "status": "completed"
    },
    "tags": []
   },
   "outputs": [],
   "source": [
    "#Reducing the features unique values\n",
    "trans_counts_train = feature_value_counts(cleaned_train, 'transmission')\n",
    "trans_counts_test = feature_value_counts(cleaned_test, 'transmission')\n",
    "\n",
    "cutoff_value = 100 # Keep if database has 451 and more records of this car model\n",
    "trans_types_to_replace = trans_counts_train[trans_counts_train < cutoff_value].index\n",
    "\n",
    "# Replace models in the training dataframe\n",
    "for trans_c in trans_types_to_replace:\n",
    "    cleaned_train.loc[cleaned_train['transmission'] == trans_c, 'transmission'] = \"Other\"\n",
    "\n",
    "# Apply the same replacements to the test dataframe\n",
    "cleaned_test.loc[cleaned_test['transmission'].isin(trans_types_to_replace), 'transmission'] = \"Other\"\n",
    "cleaned_test.loc[~cleaned_test['transmission'].isin(cleaned_train['transmission'].unique()), 'transmission'] = \"Other\"\n",
    "\n",
    "# Check the updated value counts\n",
    "trans_counts_train_updated = cleaned_train['transmission'].value_counts()\n",
    "trans_counts_test_updated = cleaned_test['transmission'].value_counts()\n"
   ]
  },
  {
   "cell_type": "markdown",
   "id": "9f73a0d2",
   "metadata": {
    "papermill": {
     "duration": 0.020344,
     "end_time": "2024-06-20T15:55:19.317993",
     "exception": false,
     "start_time": "2024-06-20T15:55:19.297649",
     "status": "completed"
    },
    "tags": []
   },
   "source": [
    "*External colour feature*"
   ]
  },
  {
   "cell_type": "code",
   "execution_count": 25,
   "id": "f8fd928c",
   "metadata": {
    "execution": {
     "iopub.execute_input": "2024-06-20T15:55:19.360757Z",
     "iopub.status.busy": "2024-06-20T15:55:19.360381Z",
     "iopub.status.idle": "2024-06-20T15:55:21.718199Z",
     "shell.execute_reply": "2024-06-20T15:55:21.716964Z"
    },
    "papermill": {
     "duration": 2.383145,
     "end_time": "2024-06-20T15:55:21.721642",
     "exception": false,
     "start_time": "2024-06-20T15:55:19.338497",
     "status": "completed"
    },
    "tags": []
   },
   "outputs": [],
   "source": [
    "#Reducing the features unique values\n",
    "ext_col_counts_train = feature_value_counts(cleaned_train, 'ext_col')\n",
    "ext_col_counts_test = feature_value_counts(cleaned_test, 'ext_col')\n",
    "\n",
    "cutoff_value = 1000 # Keep if database has 451 and more records of this car model\n",
    "ext_col_types_to_replace =ext_col_counts_train[ext_col_counts_train < cutoff_value].index\n",
    "\n",
    "# Replace models in the training dataframe\n",
    "for ext_col_c in ext_col_types_to_replace:\n",
    "    cleaned_train.loc[cleaned_train['ext_col'] == ext_col_c, 'ext_col'] = \"Other\"\n",
    "\n",
    "# Apply the same replacements to the test dataframe\n",
    "cleaned_test.loc[cleaned_test['ext_col'].isin(ext_col_types_to_replace), 'ext_col'] = \"Other\"\n",
    "cleaned_test.loc[~cleaned_test['ext_col'].isin(cleaned_train['ext_col'].unique()), 'ext_col'] = \"Other\"\n",
    "\n",
    "# Check the updated value counts\n",
    "ext_col_counts_train_updated = cleaned_train['ext_col'].value_counts()\n",
    "ext_col_counts_test_updated = cleaned_test['ext_col'].value_counts()"
   ]
  },
  {
   "cell_type": "markdown",
   "id": "69323282",
   "metadata": {
    "papermill": {
     "duration": 0.021292,
     "end_time": "2024-06-20T15:55:21.764588",
     "exception": false,
     "start_time": "2024-06-20T15:55:21.743296",
     "status": "completed"
    },
    "tags": []
   },
   "source": [
    "*Internal colour feature*"
   ]
  },
  {
   "cell_type": "code",
   "execution_count": 26,
   "id": "3e08daed",
   "metadata": {
    "execution": {
     "iopub.execute_input": "2024-06-20T15:55:21.809294Z",
     "iopub.status.busy": "2024-06-20T15:55:21.808878Z",
     "iopub.status.idle": "2024-06-20T15:55:22.932780Z",
     "shell.execute_reply": "2024-06-20T15:55:22.931550Z"
    },
    "papermill": {
     "duration": 1.149569,
     "end_time": "2024-06-20T15:55:22.935788",
     "exception": false,
     "start_time": "2024-06-20T15:55:21.786219",
     "status": "completed"
    },
    "tags": []
   },
   "outputs": [],
   "source": [
    "#Reducing the features unique values\n",
    "int_col_counts_train = feature_value_counts(cleaned_train, 'int_col')\n",
    "int_col_counts_test = feature_value_counts(cleaned_test, 'int_col')\n",
    "\n",
    "cutoff_value = 1050 # Keep if database has 451 and more records of this car model\n",
    "int_col_types_to_replace =int_col_counts_train[int_col_counts_train < cutoff_value].index\n",
    "\n",
    "# Replace models in the training dataframe\n",
    "for int_col_c in int_col_types_to_replace:\n",
    "    cleaned_train.loc[cleaned_train['int_col'] == int_col_c, 'int_col'] = \"Other\"\n",
    "\n",
    "# Apply the same replacements to the test dataframe\n",
    "cleaned_test.loc[cleaned_test['int_col'].isin(int_col_types_to_replace), 'int_col'] = \"Other\"\n",
    "cleaned_test.loc[~cleaned_test['int_col'].isin(cleaned_train['int_col'].unique()), 'int_col'] = \"Other\"\n",
    "\n",
    "# Check the updated value counts\n",
    "int_col_counts_train_updated = cleaned_train['int_col'].value_counts()\n",
    "int_col_counts_test_updated = cleaned_test['int_col'].value_counts()"
   ]
  },
  {
   "cell_type": "markdown",
   "id": "78e1ef6f",
   "metadata": {
    "papermill": {
     "duration": 0.020991,
     "end_time": "2024-06-20T15:55:22.977946",
     "exception": false,
     "start_time": "2024-06-20T15:55:22.956955",
     "status": "completed"
    },
    "tags": []
   },
   "source": [
    "*Drop clean title that has only one value 'clean_title'*"
   ]
  },
  {
   "cell_type": "code",
   "execution_count": 27,
   "id": "5a2ea5c1",
   "metadata": {
    "execution": {
     "iopub.execute_input": "2024-06-20T15:55:23.022592Z",
     "iopub.status.busy": "2024-06-20T15:55:23.022185Z",
     "iopub.status.idle": "2024-06-20T15:55:23.041347Z",
     "shell.execute_reply": "2024-06-20T15:55:23.040131Z"
    },
    "papermill": {
     "duration": 0.045159,
     "end_time": "2024-06-20T15:55:23.044390",
     "exception": false,
     "start_time": "2024-06-20T15:55:22.999231",
     "status": "completed"
    },
    "tags": []
   },
   "outputs": [],
   "source": [
    "#The last column \"Clean_title\" is the same \"Yes\" answer for all rows, that gives no value to analysis. \n",
    "#Drop this column.\n",
    "final_train=cleaned_train.drop(columns=['clean_title'])\n",
    "final_test=cleaned_test.drop(columns=['clean_title'])\n"
   ]
  },
  {
   "cell_type": "code",
   "execution_count": 28,
   "id": "49eed085",
   "metadata": {
    "execution": {
     "iopub.execute_input": "2024-06-20T15:55:23.090048Z",
     "iopub.status.busy": "2024-06-20T15:55:23.089603Z",
     "iopub.status.idle": "2024-06-20T15:55:23.134425Z",
     "shell.execute_reply": "2024-06-20T15:55:23.132764Z"
    },
    "papermill": {
     "duration": 0.07056,
     "end_time": "2024-06-20T15:55:23.137014",
     "exception": false,
     "start_time": "2024-06-20T15:55:23.066454",
     "status": "completed"
    },
    "tags": []
   },
   "outputs": [
    {
     "name": "stdout",
     "output_type": "stream",
     "text": [
      "brand             27\n",
      "model              6\n",
      "model_year        34\n",
      "milage          3093\n",
      "fuel_type          6\n",
      "engine            18\n",
      "transmission      19\n",
      "ext_col            7\n",
      "int_col            6\n",
      "accident           2\n",
      "price           1108\n",
      "dtype: int64\n"
     ]
    }
   ],
   "source": [
    "dataset_unique_counts(final_train)"
   ]
  },
  {
   "cell_type": "code",
   "execution_count": 29,
   "id": "24dc419e",
   "metadata": {
    "execution": {
     "iopub.execute_input": "2024-06-20T15:55:23.180862Z",
     "iopub.status.busy": "2024-06-20T15:55:23.180461Z",
     "iopub.status.idle": "2024-06-20T15:55:23.215537Z",
     "shell.execute_reply": "2024-06-20T15:55:23.214166Z"
    },
    "papermill": {
     "duration": 0.060179,
     "end_time": "2024-06-20T15:55:23.218165",
     "exception": false,
     "start_time": "2024-06-20T15:55:23.157986",
     "status": "completed"
    },
    "tags": []
   },
   "outputs": [
    {
     "name": "stdout",
     "output_type": "stream",
     "text": [
      "brand             27\n",
      "model              6\n",
      "model_year        34\n",
      "milage          2973\n",
      "fuel_type          6\n",
      "engine            18\n",
      "transmission      19\n",
      "ext_col            7\n",
      "int_col            6\n",
      "accident           2\n",
      "dtype: int64\n"
     ]
    }
   ],
   "source": [
    "dataset_unique_counts(final_test)"
   ]
  },
  {
   "cell_type": "markdown",
   "id": "e1e7f33d",
   "metadata": {
    "papermill": {
     "duration": 0.021917,
     "end_time": "2024-06-20T15:55:23.265339",
     "exception": false,
     "start_time": "2024-06-20T15:55:23.243422",
     "status": "completed"
    },
    "tags": []
   },
   "source": [
    "***Liner Regression***"
   ]
  },
  {
   "cell_type": "code",
   "execution_count": 30,
   "id": "0bb3e0a9",
   "metadata": {
    "execution": {
     "iopub.execute_input": "2024-06-20T15:55:23.314171Z",
     "iopub.status.busy": "2024-06-20T15:55:23.313737Z",
     "iopub.status.idle": "2024-06-20T15:55:23.723358Z",
     "shell.execute_reply": "2024-06-20T15:55:23.722018Z"
    },
    "papermill": {
     "duration": 0.435647,
     "end_time": "2024-06-20T15:55:23.726245",
     "exception": false,
     "start_time": "2024-06-20T15:55:23.290598",
     "status": "completed"
    },
    "tags": []
   },
   "outputs": [],
   "source": [
    "from sklearn.linear_model import LinearRegression"
   ]
  },
  {
   "cell_type": "code",
   "execution_count": 31,
   "id": "9db47c3f",
   "metadata": {
    "execution": {
     "iopub.execute_input": "2024-06-20T15:55:23.771046Z",
     "iopub.status.busy": "2024-06-20T15:55:23.770536Z",
     "iopub.status.idle": "2024-06-20T15:55:23.854865Z",
     "shell.execute_reply": "2024-06-20T15:55:23.853391Z"
    },
    "papermill": {
     "duration": 0.109602,
     "end_time": "2024-06-20T15:55:23.857463",
     "exception": false,
     "start_time": "2024-06-20T15:55:23.747861",
     "status": "completed"
    },
    "tags": []
   },
   "outputs": [
    {
     "data": {
      "text/plain": [
       "(47674, 94)"
      ]
     },
     "execution_count": 31,
     "metadata": {},
     "output_type": "execute_result"
    }
   ],
   "source": [
    "# Convert categorical data to numeric with `pd.get_dummies`\n",
    "X = pd.get_dummies(final_train)\n",
    "X.shape\n"
   ]
  },
  {
   "cell_type": "code",
   "execution_count": 32,
   "id": "76e44b0a",
   "metadata": {
    "execution": {
     "iopub.execute_input": "2024-06-20T15:55:23.901873Z",
     "iopub.status.busy": "2024-06-20T15:55:23.901383Z",
     "iopub.status.idle": "2024-06-20T15:55:23.964267Z",
     "shell.execute_reply": "2024-06-20T15:55:23.962904Z"
    },
    "papermill": {
     "duration": 0.088532,
     "end_time": "2024-06-20T15:55:23.967072",
     "exception": false,
     "start_time": "2024-06-20T15:55:23.878540",
     "status": "completed"
    },
    "tags": []
   },
   "outputs": [
    {
     "data": {
      "text/plain": [
       "(36179, 93)"
      ]
     },
     "execution_count": 32,
     "metadata": {},
     "output_type": "execute_result"
    }
   ],
   "source": [
    "# Convert categorical data to numeric with `pd.get_dummies`\n",
    "X_test = pd.get_dummies(final_test)\n",
    "X_test.shape\n"
   ]
  },
  {
   "cell_type": "code",
   "execution_count": 33,
   "id": "f107938a",
   "metadata": {
    "execution": {
     "iopub.execute_input": "2024-06-20T15:55:24.015140Z",
     "iopub.status.busy": "2024-06-20T15:55:24.014619Z",
     "iopub.status.idle": "2024-06-20T15:55:24.021208Z",
     "shell.execute_reply": "2024-06-20T15:55:24.019795Z"
    },
    "papermill": {
     "duration": 0.034532,
     "end_time": "2024-06-20T15:55:24.023725",
     "exception": false,
     "start_time": "2024-06-20T15:55:23.989193",
     "status": "completed"
    },
    "tags": []
   },
   "outputs": [],
   "source": [
    "# Split our preprocessed data into our features and target arrays\n",
    "y=X['price'].values.reshape(-1, 1)"
   ]
  },
  {
   "cell_type": "code",
   "execution_count": 34,
   "id": "54c30171",
   "metadata": {
    "execution": {
     "iopub.execute_input": "2024-06-20T15:55:24.068806Z",
     "iopub.status.busy": "2024-06-20T15:55:24.068270Z",
     "iopub.status.idle": "2024-06-20T15:55:24.081948Z",
     "shell.execute_reply": "2024-06-20T15:55:24.080413Z"
    },
    "papermill": {
     "duration": 0.039724,
     "end_time": "2024-06-20T15:55:24.085017",
     "exception": false,
     "start_time": "2024-06-20T15:55:24.045293",
     "status": "completed"
    },
    "tags": []
   },
   "outputs": [
    {
     "data": {
      "text/plain": [
       "(47674, 93)"
      ]
     },
     "execution_count": 34,
     "metadata": {},
     "output_type": "execute_result"
    }
   ],
   "source": [
    "#Removing the price from the prediction features\n",
    "X = X.drop(['price'], axis=1)\n",
    "X.shape"
   ]
  },
  {
   "cell_type": "code",
   "execution_count": 35,
   "id": "9977ff8c",
   "metadata": {
    "execution": {
     "iopub.execute_input": "2024-06-20T15:55:24.132149Z",
     "iopub.status.busy": "2024-06-20T15:55:24.131126Z",
     "iopub.status.idle": "2024-06-20T15:55:24.529894Z",
     "shell.execute_reply": "2024-06-20T15:55:24.528400Z"
    },
    "papermill": {
     "duration": 0.426831,
     "end_time": "2024-06-20T15:55:24.534302",
     "exception": false,
     "start_time": "2024-06-20T15:55:24.107471",
     "status": "completed"
    },
    "tags": []
   },
   "outputs": [
    {
     "data": {
      "text/html": [
       "<style>#sk-container-id-1 {color: black;background-color: white;}#sk-container-id-1 pre{padding: 0;}#sk-container-id-1 div.sk-toggleable {background-color: white;}#sk-container-id-1 label.sk-toggleable__label {cursor: pointer;display: block;width: 100%;margin-bottom: 0;padding: 0.3em;box-sizing: border-box;text-align: center;}#sk-container-id-1 label.sk-toggleable__label-arrow:before {content: \"▸\";float: left;margin-right: 0.25em;color: #696969;}#sk-container-id-1 label.sk-toggleable__label-arrow:hover:before {color: black;}#sk-container-id-1 div.sk-estimator:hover label.sk-toggleable__label-arrow:before {color: black;}#sk-container-id-1 div.sk-toggleable__content {max-height: 0;max-width: 0;overflow: hidden;text-align: left;background-color: #f0f8ff;}#sk-container-id-1 div.sk-toggleable__content pre {margin: 0.2em;color: black;border-radius: 0.25em;background-color: #f0f8ff;}#sk-container-id-1 input.sk-toggleable__control:checked~div.sk-toggleable__content {max-height: 200px;max-width: 100%;overflow: auto;}#sk-container-id-1 input.sk-toggleable__control:checked~label.sk-toggleable__label-arrow:before {content: \"▾\";}#sk-container-id-1 div.sk-estimator input.sk-toggleable__control:checked~label.sk-toggleable__label {background-color: #d4ebff;}#sk-container-id-1 div.sk-label input.sk-toggleable__control:checked~label.sk-toggleable__label {background-color: #d4ebff;}#sk-container-id-1 input.sk-hidden--visually {border: 0;clip: rect(1px 1px 1px 1px);clip: rect(1px, 1px, 1px, 1px);height: 1px;margin: -1px;overflow: hidden;padding: 0;position: absolute;width: 1px;}#sk-container-id-1 div.sk-estimator {font-family: monospace;background-color: #f0f8ff;border: 1px dotted black;border-radius: 0.25em;box-sizing: border-box;margin-bottom: 0.5em;}#sk-container-id-1 div.sk-estimator:hover {background-color: #d4ebff;}#sk-container-id-1 div.sk-parallel-item::after {content: \"\";width: 100%;border-bottom: 1px solid gray;flex-grow: 1;}#sk-container-id-1 div.sk-label:hover label.sk-toggleable__label {background-color: #d4ebff;}#sk-container-id-1 div.sk-serial::before {content: \"\";position: absolute;border-left: 1px solid gray;box-sizing: border-box;top: 0;bottom: 0;left: 50%;z-index: 0;}#sk-container-id-1 div.sk-serial {display: flex;flex-direction: column;align-items: center;background-color: white;padding-right: 0.2em;padding-left: 0.2em;position: relative;}#sk-container-id-1 div.sk-item {position: relative;z-index: 1;}#sk-container-id-1 div.sk-parallel {display: flex;align-items: stretch;justify-content: center;background-color: white;position: relative;}#sk-container-id-1 div.sk-item::before, #sk-container-id-1 div.sk-parallel-item::before {content: \"\";position: absolute;border-left: 1px solid gray;box-sizing: border-box;top: 0;bottom: 0;left: 50%;z-index: -1;}#sk-container-id-1 div.sk-parallel-item {display: flex;flex-direction: column;z-index: 1;position: relative;background-color: white;}#sk-container-id-1 div.sk-parallel-item:first-child::after {align-self: flex-end;width: 50%;}#sk-container-id-1 div.sk-parallel-item:last-child::after {align-self: flex-start;width: 50%;}#sk-container-id-1 div.sk-parallel-item:only-child::after {width: 0;}#sk-container-id-1 div.sk-dashed-wrapped {border: 1px dashed gray;margin: 0 0.4em 0.5em 0.4em;box-sizing: border-box;padding-bottom: 0.4em;background-color: white;}#sk-container-id-1 div.sk-label label {font-family: monospace;font-weight: bold;display: inline-block;line-height: 1.2em;}#sk-container-id-1 div.sk-label-container {text-align: center;}#sk-container-id-1 div.sk-container {/* jupyter's `normalize.less` sets `[hidden] { display: none; }` but bootstrap.min.css set `[hidden] { display: none !important; }` so we also need the `!important` here to be able to override the default hidden behavior on the sphinx rendered scikit-learn.org. See: https://github.com/scikit-learn/scikit-learn/issues/21755 */display: inline-block !important;position: relative;}#sk-container-id-1 div.sk-text-repr-fallback {display: none;}</style><div id=\"sk-container-id-1\" class=\"sk-top-container\"><div class=\"sk-text-repr-fallback\"><pre>LinearRegression()</pre><b>In a Jupyter environment, please rerun this cell to show the HTML representation or trust the notebook. <br />On GitHub, the HTML representation is unable to render, please try loading this page with nbviewer.org.</b></div><div class=\"sk-container\" hidden><div class=\"sk-item\"><div class=\"sk-estimator sk-toggleable\"><input class=\"sk-toggleable__control sk-hidden--visually\" id=\"sk-estimator-id-1\" type=\"checkbox\" checked><label for=\"sk-estimator-id-1\" class=\"sk-toggleable__label sk-toggleable__label-arrow\">LinearRegression</label><div class=\"sk-toggleable__content\"><pre>LinearRegression()</pre></div></div></div></div></div>"
      ],
      "text/plain": [
       "LinearRegression()"
      ]
     },
     "execution_count": 35,
     "metadata": {},
     "output_type": "execute_result"
    }
   ],
   "source": [
    "lm = LinearRegression()\n",
    "lm.fit(X,y)"
   ]
  },
  {
   "cell_type": "code",
   "execution_count": 36,
   "id": "90eccca0",
   "metadata": {
    "execution": {
     "iopub.execute_input": "2024-06-20T15:55:24.632637Z",
     "iopub.status.busy": "2024-06-20T15:55:24.632032Z",
     "iopub.status.idle": "2024-06-20T15:55:24.696162Z",
     "shell.execute_reply": "2024-06-20T15:55:24.694749Z"
    },
    "papermill": {
     "duration": 0.118695,
     "end_time": "2024-06-20T15:55:24.701263",
     "exception": false,
     "start_time": "2024-06-20T15:55:24.582568",
     "status": "completed"
    },
    "tags": []
   },
   "outputs": [
    {
     "data": {
      "text/plain": [
       "array([[41873.09637451],\n",
       "       [15701.23382568],\n",
       "       [19036.22875977],\n",
       "       [48699.51989746],\n",
       "       [ 7557.17590332]])"
      ]
     },
     "execution_count": 36,
     "metadata": {},
     "output_type": "execute_result"
    }
   ],
   "source": [
    "#make predictions train\n",
    "yhat = lm.predict(X)\n",
    "yhat[0:5]"
   ]
  },
  {
   "cell_type": "code",
   "execution_count": 37,
   "id": "e192cc67",
   "metadata": {
    "execution": {
     "iopub.execute_input": "2024-06-20T15:55:24.802422Z",
     "iopub.status.busy": "2024-06-20T15:55:24.801634Z",
     "iopub.status.idle": "2024-06-20T15:55:24.812708Z",
     "shell.execute_reply": "2024-06-20T15:55:24.811468Z"
    },
    "papermill": {
     "duration": 0.065898,
     "end_time": "2024-06-20T15:55:24.815310",
     "exception": false,
     "start_time": "2024-06-20T15:55:24.749412",
     "status": "completed"
    },
    "tags": []
   },
   "outputs": [
    {
     "data": {
      "text/plain": [
       "array([-3.81357569e+11])"
      ]
     },
     "execution_count": 37,
     "metadata": {},
     "output_type": "execute_result"
    }
   ],
   "source": [
    "#find the intercept\n",
    "lm.intercept_"
   ]
  },
  {
   "cell_type": "code",
   "execution_count": 38,
   "id": "5b949a20",
   "metadata": {
    "execution": {
     "iopub.execute_input": "2024-06-20T15:55:24.860902Z",
     "iopub.status.busy": "2024-06-20T15:55:24.860474Z",
     "iopub.status.idle": "2024-06-20T15:55:24.869804Z",
     "shell.execute_reply": "2024-06-20T15:55:24.868590Z"
    },
    "papermill": {
     "duration": 0.035005,
     "end_time": "2024-06-20T15:55:24.872234",
     "exception": false,
     "start_time": "2024-06-20T15:55:24.837229",
     "status": "completed"
    },
    "tags": []
   },
   "outputs": [
    {
     "data": {
      "text/plain": [
       "array([[ 1.03959621e+03, -9.85426584e-02,  3.15709358e+10,\n",
       "         3.15709380e+10,  3.15709409e+10,  3.15709370e+10,\n",
       "         3.15709399e+10,  3.15709393e+10,  3.15709396e+10,\n",
       "         3.15709375e+10,  3.15709370e+10,  3.15709327e+10,\n",
       "         3.15709367e+10,  3.15709411e+10,  3.15709376e+10,\n",
       "         3.15709340e+10,  3.15709417e+10,  3.15709403e+10,\n",
       "         3.15709396e+10,  3.15709347e+10,  3.15709414e+10,\n",
       "         3.15709362e+10,  3.15709375e+10,  3.15709426e+10,\n",
       "         3.15709413e+10,  3.15709342e+10,  3.15709408e+10,\n",
       "         3.15709337e+10,  3.15709372e+10, -1.28403372e+10,\n",
       "        -1.28403407e+10, -1.28403377e+10, -1.28403407e+10,\n",
       "        -1.28403404e+10, -1.28403401e+10,  1.95168181e+11,\n",
       "         1.95168173e+11,  1.95168172e+11,  1.95168172e+11,\n",
       "         1.95168178e+11,  1.95168170e+11, -1.75769273e+10,\n",
       "        -1.75769292e+10, -1.75769314e+10, -1.75769284e+10,\n",
       "        -1.75769302e+10, -1.75769218e+10, -1.75769238e+10,\n",
       "        -1.75769298e+10, -1.75769301e+10, -1.75769232e+10,\n",
       "        -1.75769259e+10, -1.75769183e+10, -1.75769257e+10,\n",
       "        -1.75769203e+10, -1.75769163e+10, -1.75769178e+10,\n",
       "        -1.75769195e+10, -1.75769233e+10,  7.62488663e+10,\n",
       "         7.62488664e+10,  7.62488634e+10,  7.62488616e+10,\n",
       "         7.62488639e+10,  7.62488599e+10,  7.62488611e+10,\n",
       "         7.62488631e+10,  7.62488643e+10,  7.62488647e+10,\n",
       "         7.62488632e+10,  7.62488655e+10,  7.62488636e+10,\n",
       "         7.62488613e+10,  7.62488640e+10,  7.62488595e+10,\n",
       "         7.62488632e+10,  7.62488645e+10,  7.62488642e+10,\n",
       "        -3.03466760e+10, -3.03466757e+10, -3.03466757e+10,\n",
       "        -3.03466759e+10, -3.03466761e+10, -3.03466769e+10,\n",
       "        -3.03466761e+10,  1.45777838e+11,  1.45777839e+11,\n",
       "         1.45777841e+11,  1.45777839e+11,  1.45777839e+11,\n",
       "         1.45777841e+11, -6.64636578e+09, -6.64636353e+09]])"
      ]
     },
     "execution_count": 38,
     "metadata": {},
     "output_type": "execute_result"
    }
   ],
   "source": [
    "#find the slope\n",
    "lm.coef_"
   ]
  },
  {
   "cell_type": "code",
   "execution_count": 39,
   "id": "3f20f76a",
   "metadata": {
    "execution": {
     "iopub.execute_input": "2024-06-20T15:55:24.918570Z",
     "iopub.status.busy": "2024-06-20T15:55:24.918189Z",
     "iopub.status.idle": "2024-06-20T15:55:24.927003Z",
     "shell.execute_reply": "2024-06-20T15:55:24.925473Z"
    },
    "papermill": {
     "duration": 0.035018,
     "end_time": "2024-06-20T15:55:24.929706",
     "exception": false,
     "start_time": "2024-06-20T15:55:24.894688",
     "status": "completed"
    },
    "tags": []
   },
   "outputs": [
    {
     "name": "stdout",
     "output_type": "stream",
     "text": [
      "Mean Squared Error (MSE): 100875230.18026106\n"
     ]
    }
   ],
   "source": [
    "#find the MSE\n",
    "from sklearn.metrics import mean_squared_error\n",
    "\n",
    "# Calculate the mean squared error\n",
    "mse = mean_squared_error(y, yhat)\n",
    "\n",
    "# Print the MSE\n",
    "print(\"Mean Squared Error (MSE):\", mse)\n"
   ]
  },
  {
   "cell_type": "code",
   "execution_count": 40,
   "id": "b1b0046d",
   "metadata": {
    "execution": {
     "iopub.execute_input": "2024-06-20T15:55:24.978191Z",
     "iopub.status.busy": "2024-06-20T15:55:24.977800Z",
     "iopub.status.idle": "2024-06-20T15:55:24.985887Z",
     "shell.execute_reply": "2024-06-20T15:55:24.984704Z"
    },
    "papermill": {
     "duration": 0.034945,
     "end_time": "2024-06-20T15:55:24.988388",
     "exception": false,
     "start_time": "2024-06-20T15:55:24.953443",
     "status": "completed"
    },
    "tags": []
   },
   "outputs": [
    {
     "data": {
      "text/plain": [
       "10043.666172282961"
      ]
     },
     "execution_count": 40,
     "metadata": {},
     "output_type": "execute_result"
    }
   ],
   "source": [
    "#find the RMSE\n",
    "rmse = np.sqrt(mse)\n",
    "rmse"
   ]
  },
  {
   "cell_type": "code",
   "execution_count": 41,
   "id": "7e8aab59",
   "metadata": {
    "execution": {
     "iopub.execute_input": "2024-06-20T15:55:25.036813Z",
     "iopub.status.busy": "2024-06-20T15:55:25.036365Z",
     "iopub.status.idle": "2024-06-20T15:55:25.045869Z",
     "shell.execute_reply": "2024-06-20T15:55:25.044501Z"
    },
    "papermill": {
     "duration": 0.036851,
     "end_time": "2024-06-20T15:55:25.048569",
     "exception": false,
     "start_time": "2024-06-20T15:55:25.011718",
     "status": "completed"
    },
    "tags": []
   },
   "outputs": [
    {
     "data": {
      "text/plain": [
       "0.5748755539105683"
      ]
     },
     "execution_count": 41,
     "metadata": {},
     "output_type": "execute_result"
    }
   ],
   "source": [
    "#find rscore\n",
    "from sklearn.metrics import r2_score\n",
    "r2_score(y, yhat)"
   ]
  },
  {
   "cell_type": "markdown",
   "id": "6b2dd03c",
   "metadata": {
    "papermill": {
     "duration": 0.023243,
     "end_time": "2024-06-20T15:55:25.095729",
     "exception": false,
     "start_time": "2024-06-20T15:55:25.072486",
     "status": "completed"
    },
    "tags": []
   },
   "source": []
  },
  {
   "cell_type": "markdown",
   "id": "01e7418e",
   "metadata": {
    "papermill": {
     "duration": 0.023049,
     "end_time": "2024-06-20T15:55:25.142479",
     "exception": false,
     "start_time": "2024-06-20T15:55:25.119430",
     "status": "completed"
    },
    "tags": []
   },
   "source": [
    "Given the statistics of the \"price\" variable:\n",
    "\n",
    "Comparison to Mean: The RMSE (10,043.67) is a significant portion of the mean price (26,943.08). Specifically, it's about 37.3% of the mean.\n",
    "Comparison to Standard Deviation: The RMSE is also a substantial portion of the standard deviation (15,404.13), around 65.2%.\n",
    "Range: The price data ranges from 2,000 to 65,500, giving a total range of 63,500. The RMSE (10,043.67) is about 15.8% of this range.\n",
    "Interpretation:\n",
    "High RMSE: The RMSE of 10,043.67 suggests that the model's predictions have a relatively high average error compared to the mean price. This could indicate that the model has room for improvement, especially if lower prediction errors are desirable for the given context.\n",
    "Impact on Predictions: For prices around the mean value, an error of 10,043.67 is quite significant. This means that for a typical house priced around 26,943, the predicted price could vary by ±10,043.67 on average, which might be too large depending on the use case.\n",
    "Relative Error: Given the standard deviation and the interquartile range (IQR = 37,475.5 - 14,500 = 22,975.5), the RMSE is quite high. This suggests that the model might not be capturing the variance in the data well."
   ]
  },
  {
   "cell_type": "markdown",
   "id": "54274319",
   "metadata": {
    "papermill": {
     "duration": 0.022905,
     "end_time": "2024-06-20T15:55:25.188404",
     "exception": false,
     "start_time": "2024-06-20T15:55:25.165499",
     "status": "completed"
    },
    "tags": []
   },
   "source": [
    "***XGBRegressor***"
   ]
  },
  {
   "cell_type": "code",
   "execution_count": 42,
   "id": "6b337463",
   "metadata": {
    "execution": {
     "iopub.execute_input": "2024-06-20T15:55:25.236202Z",
     "iopub.status.busy": "2024-06-20T15:55:25.235782Z",
     "iopub.status.idle": "2024-06-20T15:55:25.432362Z",
     "shell.execute_reply": "2024-06-20T15:55:25.431139Z"
    },
    "papermill": {
     "duration": 0.224274,
     "end_time": "2024-06-20T15:55:25.435567",
     "exception": false,
     "start_time": "2024-06-20T15:55:25.211293",
     "status": "completed"
    },
    "tags": []
   },
   "outputs": [],
   "source": [
    "from xgboost import XGBRegressor"
   ]
  },
  {
   "cell_type": "code",
   "execution_count": 43,
   "id": "7c544fe8",
   "metadata": {
    "execution": {
     "iopub.execute_input": "2024-06-20T15:55:25.486336Z",
     "iopub.status.busy": "2024-06-20T15:55:25.485927Z",
     "iopub.status.idle": "2024-06-20T16:23:49.993690Z",
     "shell.execute_reply": "2024-06-20T16:23:49.992743Z"
    },
    "papermill": {
     "duration": 1704.535392,
     "end_time": "2024-06-20T16:23:49.996386",
     "exception": false,
     "start_time": "2024-06-20T15:55:25.460994",
     "status": "completed"
    },
    "tags": []
   },
   "outputs": [
    {
     "name": "stdout",
     "output_type": "stream",
     "text": [
      "Fitting 3 folds for each of 64 candidates, totalling 192 fits\n",
      "[CV 1/3; 1/64] START learning_rate=0.01, max_depth=3, n_estimators=100..........\n",
      "[CV 1/3; 1/64] END learning_rate=0.01, max_depth=3, n_estimators=100;, score=-11062.988 total time=   1.5s\n",
      "[CV 2/3; 1/64] START learning_rate=0.01, max_depth=3, n_estimators=100..........\n",
      "[CV 2/3; 1/64] END learning_rate=0.01, max_depth=3, n_estimators=100;, score=-11261.549 total time=   1.5s\n",
      "[CV 3/3; 1/64] START learning_rate=0.01, max_depth=3, n_estimators=100..........\n",
      "[CV 3/3; 1/64] END learning_rate=0.01, max_depth=3, n_estimators=100;, score=-11041.588 total time=   1.4s\n",
      "[CV 1/3; 2/64] START learning_rate=0.01, max_depth=3, n_estimators=500..........\n",
      "[CV 1/3; 2/64] END learning_rate=0.01, max_depth=3, n_estimators=500;, score=-9716.628 total time=   3.9s\n",
      "[CV 2/3; 2/64] START learning_rate=0.01, max_depth=3, n_estimators=500..........\n",
      "[CV 2/3; 2/64] END learning_rate=0.01, max_depth=3, n_estimators=500;, score=-9958.562 total time=   4.7s\n",
      "[CV 3/3; 2/64] START learning_rate=0.01, max_depth=3, n_estimators=500..........\n",
      "[CV 3/3; 2/64] END learning_rate=0.01, max_depth=3, n_estimators=500;, score=-9708.741 total time=   3.9s\n",
      "[CV 1/3; 3/64] START learning_rate=0.01, max_depth=3, n_estimators=1000.........\n",
      "[CV 1/3; 3/64] END learning_rate=0.01, max_depth=3, n_estimators=1000;, score=-9546.297 total time=   6.2s\n",
      "[CV 2/3; 3/64] START learning_rate=0.01, max_depth=3, n_estimators=1000.........\n",
      "[CV 2/3; 3/64] END learning_rate=0.01, max_depth=3, n_estimators=1000;, score=-9778.094 total time=   6.3s\n",
      "[CV 3/3; 3/64] START learning_rate=0.01, max_depth=3, n_estimators=1000.........\n",
      "[CV 3/3; 3/64] END learning_rate=0.01, max_depth=3, n_estimators=1000;, score=-9537.629 total time=   6.3s\n",
      "[CV 1/3; 4/64] START learning_rate=0.01, max_depth=3, n_estimators=2000.........\n",
      "[CV 1/3; 4/64] END learning_rate=0.01, max_depth=3, n_estimators=2000;, score=-9429.294 total time=  12.4s\n",
      "[CV 2/3; 4/64] START learning_rate=0.01, max_depth=3, n_estimators=2000.........\n",
      "[CV 2/3; 4/64] END learning_rate=0.01, max_depth=3, n_estimators=2000;, score=-9674.243 total time=  11.1s\n",
      "[CV 3/3; 4/64] START learning_rate=0.01, max_depth=3, n_estimators=2000.........\n",
      "[CV 3/3; 4/64] END learning_rate=0.01, max_depth=3, n_estimators=2000;, score=-9425.720 total time=  11.0s\n",
      "[CV 1/3; 5/64] START learning_rate=0.01, max_depth=5, n_estimators=100..........\n",
      "[CV 1/3; 5/64] END learning_rate=0.01, max_depth=5, n_estimators=100;, score=-10827.615 total time=   3.0s\n",
      "[CV 2/3; 5/64] START learning_rate=0.01, max_depth=5, n_estimators=100..........\n",
      "[CV 2/3; 5/64] END learning_rate=0.01, max_depth=5, n_estimators=100;, score=-11046.406 total time=   1.7s\n",
      "[CV 3/3; 5/64] START learning_rate=0.01, max_depth=5, n_estimators=100..........\n",
      "[CV 3/3; 5/64] END learning_rate=0.01, max_depth=5, n_estimators=100;, score=-10816.551 total time=   1.7s\n",
      "[CV 1/3; 6/64] START learning_rate=0.01, max_depth=5, n_estimators=500..........\n",
      "[CV 1/3; 6/64] END learning_rate=0.01, max_depth=5, n_estimators=500;, score=-9493.634 total time=   4.7s\n",
      "[CV 2/3; 6/64] START learning_rate=0.01, max_depth=5, n_estimators=500..........\n",
      "[CV 2/3; 6/64] END learning_rate=0.01, max_depth=5, n_estimators=500;, score=-9734.711 total time=   4.9s\n",
      "[CV 3/3; 6/64] START learning_rate=0.01, max_depth=5, n_estimators=500..........\n",
      "[CV 3/3; 6/64] END learning_rate=0.01, max_depth=5, n_estimators=500;, score=-9480.033 total time=   4.7s\n",
      "[CV 1/3; 7/64] START learning_rate=0.01, max_depth=5, n_estimators=1000.........\n",
      "[CV 1/3; 7/64] END learning_rate=0.01, max_depth=5, n_estimators=1000;, score=-9372.098 total time=   7.8s\n",
      "[CV 2/3; 7/64] START learning_rate=0.01, max_depth=5, n_estimators=1000.........\n",
      "[CV 2/3; 7/64] END learning_rate=0.01, max_depth=5, n_estimators=1000;, score=-9614.051 total time=   9.2s\n",
      "[CV 3/3; 7/64] START learning_rate=0.01, max_depth=5, n_estimators=1000.........\n",
      "[CV 3/3; 7/64] END learning_rate=0.01, max_depth=5, n_estimators=1000;, score=-9364.202 total time=   7.8s\n",
      "[CV 1/3; 8/64] START learning_rate=0.01, max_depth=5, n_estimators=2000.........\n",
      "[CV 1/3; 8/64] END learning_rate=0.01, max_depth=5, n_estimators=2000;, score=-9290.983 total time=  13.8s\n",
      "[CV 2/3; 8/64] START learning_rate=0.01, max_depth=5, n_estimators=2000.........\n",
      "[CV 2/3; 8/64] END learning_rate=0.01, max_depth=5, n_estimators=2000;, score=-9552.629 total time=  15.1s\n",
      "[CV 3/3; 8/64] START learning_rate=0.01, max_depth=5, n_estimators=2000.........\n",
      "[CV 3/3; 8/64] END learning_rate=0.01, max_depth=5, n_estimators=2000;, score=-9305.093 total time=  13.9s\n",
      "[CV 1/3; 9/64] START learning_rate=0.01, max_depth=8, n_estimators=100..........\n",
      "[CV 1/3; 9/64] END learning_rate=0.01, max_depth=8, n_estimators=100;, score=-10631.072 total time=   2.2s\n",
      "[CV 2/3; 9/64] START learning_rate=0.01, max_depth=8, n_estimators=100..........\n",
      "[CV 2/3; 9/64] END learning_rate=0.01, max_depth=8, n_estimators=100;, score=-10836.020 total time=   2.1s\n",
      "[CV 3/3; 9/64] START learning_rate=0.01, max_depth=8, n_estimators=100..........\n",
      "[CV 3/3; 9/64] END learning_rate=0.01, max_depth=8, n_estimators=100;, score=-10626.937 total time=   2.2s\n",
      "[CV 1/3; 10/64] START learning_rate=0.01, max_depth=8, n_estimators=500.........\n",
      "[CV 1/3; 10/64] END learning_rate=0.01, max_depth=8, n_estimators=500;, score=-9379.165 total time=   8.0s\n",
      "[CV 2/3; 10/64] START learning_rate=0.01, max_depth=8, n_estimators=500.........\n",
      "[CV 2/3; 10/64] END learning_rate=0.01, max_depth=8, n_estimators=500;, score=-9598.995 total time=   6.9s\n",
      "[CV 3/3; 10/64] START learning_rate=0.01, max_depth=8, n_estimators=500.........\n",
      "[CV 3/3; 10/64] END learning_rate=0.01, max_depth=8, n_estimators=500;, score=-9365.520 total time=   6.9s\n",
      "[CV 1/3; 11/64] START learning_rate=0.01, max_depth=8, n_estimators=1000........\n",
      "[CV 1/3; 11/64] END learning_rate=0.01, max_depth=8, n_estimators=1000;, score=-9325.603 total time=  11.5s\n",
      "[CV 2/3; 11/64] START learning_rate=0.01, max_depth=8, n_estimators=1000........\n",
      "[CV 2/3; 11/64] END learning_rate=0.01, max_depth=8, n_estimators=1000;, score=-9563.939 total time=  11.6s\n",
      "[CV 3/3; 11/64] START learning_rate=0.01, max_depth=8, n_estimators=1000........\n",
      "[CV 3/3; 11/64] END learning_rate=0.01, max_depth=8, n_estimators=1000;, score=-9329.046 total time=  11.5s\n",
      "[CV 1/3; 12/64] START learning_rate=0.01, max_depth=8, n_estimators=2000........\n",
      "[CV 1/3; 12/64] END learning_rate=0.01, max_depth=8, n_estimators=2000;, score=-9310.515 total time=  21.9s\n",
      "[CV 2/3; 12/64] START learning_rate=0.01, max_depth=8, n_estimators=2000........\n",
      "[CV 2/3; 12/64] END learning_rate=0.01, max_depth=8, n_estimators=2000;, score=-9573.407 total time=  22.0s\n",
      "[CV 3/3; 12/64] START learning_rate=0.01, max_depth=8, n_estimators=2000........\n",
      "[CV 3/3; 12/64] END learning_rate=0.01, max_depth=8, n_estimators=2000;, score=-9350.119 total time=  20.3s\n",
      "[CV 1/3; 13/64] START learning_rate=0.01, max_depth=10, n_estimators=100........\n",
      "[CV 1/3; 13/64] END learning_rate=0.01, max_depth=10, n_estimators=100;, score=-10563.391 total time=   2.7s\n",
      "[CV 2/3; 13/64] START learning_rate=0.01, max_depth=10, n_estimators=100........\n",
      "[CV 2/3; 13/64] END learning_rate=0.01, max_depth=10, n_estimators=100;, score=-10774.092 total time=   2.7s\n",
      "[CV 3/3; 13/64] START learning_rate=0.01, max_depth=10, n_estimators=100........\n",
      "[CV 3/3; 13/64] END learning_rate=0.01, max_depth=10, n_estimators=100;, score=-10574.302 total time=   4.0s\n",
      "[CV 1/3; 14/64] START learning_rate=0.01, max_depth=10, n_estimators=500........\n",
      "[CV 1/3; 14/64] END learning_rate=0.01, max_depth=10, n_estimators=500;, score=-9384.876 total time=   8.8s\n",
      "[CV 2/3; 14/64] START learning_rate=0.01, max_depth=10, n_estimators=500........\n",
      "[CV 2/3; 14/64] END learning_rate=0.01, max_depth=10, n_estimators=500;, score=-9617.671 total time=   8.9s\n",
      "[CV 3/3; 14/64] START learning_rate=0.01, max_depth=10, n_estimators=500........\n",
      "[CV 3/3; 14/64] END learning_rate=0.01, max_depth=10, n_estimators=500;, score=-9395.729 total time=   9.0s\n",
      "[CV 1/3; 15/64] START learning_rate=0.01, max_depth=10, n_estimators=1000.......\n",
      "[CV 1/3; 15/64] END learning_rate=0.01, max_depth=10, n_estimators=1000;, score=-9376.021 total time=  16.3s\n",
      "[CV 2/3; 15/64] START learning_rate=0.01, max_depth=10, n_estimators=1000.......\n",
      "[CV 2/3; 15/64] END learning_rate=0.01, max_depth=10, n_estimators=1000;, score=-9620.405 total time=  15.2s\n",
      "[CV 3/3; 15/64] START learning_rate=0.01, max_depth=10, n_estimators=1000.......\n",
      "[CV 3/3; 15/64] END learning_rate=0.01, max_depth=10, n_estimators=1000;, score=-9401.021 total time=  16.5s\n",
      "[CV 1/3; 16/64] START learning_rate=0.01, max_depth=10, n_estimators=2000.......\n",
      "[CV 1/3; 16/64] END learning_rate=0.01, max_depth=10, n_estimators=2000;, score=-9423.333 total time=  28.3s\n",
      "[CV 2/3; 16/64] START learning_rate=0.01, max_depth=10, n_estimators=2000.......\n",
      "[CV 2/3; 16/64] END learning_rate=0.01, max_depth=10, n_estimators=2000;, score=-9692.682 total time=  28.6s\n",
      "[CV 3/3; 16/64] START learning_rate=0.01, max_depth=10, n_estimators=2000.......\n",
      "[CV 3/3; 16/64] END learning_rate=0.01, max_depth=10, n_estimators=2000;, score=-9487.494 total time=  28.2s\n",
      "[CV 1/3; 17/64] START learning_rate=0.05, max_depth=3, n_estimators=100.........\n",
      "[CV 1/3; 17/64] END learning_rate=0.05, max_depth=3, n_estimators=100;, score=-9708.958 total time=   1.3s\n",
      "[CV 2/3; 17/64] START learning_rate=0.05, max_depth=3, n_estimators=100.........\n",
      "[CV 2/3; 17/64] END learning_rate=0.05, max_depth=3, n_estimators=100;, score=-9952.494 total time=   1.3s\n",
      "[CV 3/3; 17/64] START learning_rate=0.05, max_depth=3, n_estimators=100.........\n",
      "[CV 3/3; 17/64] END learning_rate=0.05, max_depth=3, n_estimators=100;, score=-9704.786 total time=   1.3s\n",
      "[CV 1/3; 18/64] START learning_rate=0.05, max_depth=3, n_estimators=500.........\n",
      "[CV 1/3; 18/64] END learning_rate=0.05, max_depth=3, n_estimators=500;, score=-9392.070 total time=   3.2s\n",
      "[CV 2/3; 18/64] START learning_rate=0.05, max_depth=3, n_estimators=500.........\n",
      "[CV 2/3; 18/64] END learning_rate=0.05, max_depth=3, n_estimators=500;, score=-9642.083 total time=   3.3s\n",
      "[CV 3/3; 18/64] START learning_rate=0.05, max_depth=3, n_estimators=500.........\n",
      "[CV 3/3; 18/64] END learning_rate=0.05, max_depth=3, n_estimators=500;, score=-9392.967 total time=   3.2s\n",
      "[CV 1/3; 19/64] START learning_rate=0.05, max_depth=3, n_estimators=1000........\n",
      "[CV 1/3; 19/64] END learning_rate=0.05, max_depth=3, n_estimators=1000;, score=-9296.562 total time=   5.7s\n",
      "[CV 2/3; 19/64] START learning_rate=0.05, max_depth=3, n_estimators=1000........\n",
      "[CV 2/3; 19/64] END learning_rate=0.05, max_depth=3, n_estimators=1000;, score=-9578.821 total time=   5.8s\n",
      "[CV 3/3; 19/64] START learning_rate=0.05, max_depth=3, n_estimators=1000........\n",
      "[CV 3/3; 19/64] END learning_rate=0.05, max_depth=3, n_estimators=1000;, score=-9328.851 total time=   7.1s\n",
      "[CV 1/3; 20/64] START learning_rate=0.05, max_depth=3, n_estimators=2000........\n",
      "[CV 1/3; 20/64] END learning_rate=0.05, max_depth=3, n_estimators=2000;, score=-9237.652 total time=  11.0s\n",
      "[CV 2/3; 20/64] START learning_rate=0.05, max_depth=3, n_estimators=2000........\n",
      "[CV 2/3; 20/64] END learning_rate=0.05, max_depth=3, n_estimators=2000;, score=-9546.266 total time=  10.9s\n",
      "[CV 3/3; 20/64] START learning_rate=0.05, max_depth=3, n_estimators=2000........\n",
      "[CV 3/3; 20/64] END learning_rate=0.05, max_depth=3, n_estimators=2000;, score=-9304.564 total time=  12.1s\n",
      "[CV 1/3; 21/64] START learning_rate=0.05, max_depth=5, n_estimators=100.........\n",
      "[CV 1/3; 21/64] END learning_rate=0.05, max_depth=5, n_estimators=100;, score=-9495.605 total time=   1.5s\n",
      "[CV 2/3; 21/64] START learning_rate=0.05, max_depth=5, n_estimators=100.........\n",
      "[CV 2/3; 21/64] END learning_rate=0.05, max_depth=5, n_estimators=100;, score=-9737.070 total time=   1.5s\n",
      "[CV 3/3; 21/64] START learning_rate=0.05, max_depth=5, n_estimators=100.........\n",
      "[CV 3/3; 21/64] END learning_rate=0.05, max_depth=5, n_estimators=100;, score=-9482.018 total time=   1.6s\n",
      "[CV 1/3; 22/64] START learning_rate=0.05, max_depth=5, n_estimators=500.........\n",
      "[CV 1/3; 22/64] END learning_rate=0.05, max_depth=5, n_estimators=500;, score=-9280.512 total time=   3.9s\n",
      "[CV 2/3; 22/64] START learning_rate=0.05, max_depth=5, n_estimators=500.........\n",
      "[CV 2/3; 22/64] END learning_rate=0.05, max_depth=5, n_estimators=500;, score=-9543.912 total time=   3.9s\n",
      "[CV 3/3; 22/64] START learning_rate=0.05, max_depth=5, n_estimators=500.........\n",
      "[CV 3/3; 22/64] END learning_rate=0.05, max_depth=5, n_estimators=500;, score=-9300.604 total time=   4.1s\n",
      "[CV 1/3; 23/64] START learning_rate=0.05, max_depth=5, n_estimators=1000........\n",
      "[CV 1/3; 23/64] END learning_rate=0.05, max_depth=5, n_estimators=1000;, score=-9252.914 total time=   7.0s\n",
      "[CV 2/3; 23/64] START learning_rate=0.05, max_depth=5, n_estimators=1000........\n",
      "[CV 2/3; 23/64] END learning_rate=0.05, max_depth=5, n_estimators=1000;, score=-9540.091 total time=   8.3s\n",
      "[CV 3/3; 23/64] START learning_rate=0.05, max_depth=5, n_estimators=1000........\n",
      "[CV 3/3; 23/64] END learning_rate=0.05, max_depth=5, n_estimators=1000;, score=-9303.484 total time=   7.1s\n",
      "[CV 1/3; 24/64] START learning_rate=0.05, max_depth=5, n_estimators=2000........\n",
      "[CV 1/3; 24/64] END learning_rate=0.05, max_depth=5, n_estimators=2000;, score=-9299.738 total time=  13.3s\n",
      "[CV 2/3; 24/64] START learning_rate=0.05, max_depth=5, n_estimators=2000........\n",
      "[CV 2/3; 24/64] END learning_rate=0.05, max_depth=5, n_estimators=2000;, score=-9595.356 total time=  14.8s\n",
      "[CV 3/3; 24/64] START learning_rate=0.05, max_depth=5, n_estimators=2000........\n",
      "[CV 3/3; 24/64] END learning_rate=0.05, max_depth=5, n_estimators=2000;, score=-9384.794 total time=  13.4s\n",
      "[CV 1/3; 25/64] START learning_rate=0.05, max_depth=8, n_estimators=100.........\n",
      "[CV 1/3; 25/64] END learning_rate=0.05, max_depth=8, n_estimators=100;, score=-9371.334 total time=   1.9s\n",
      "[CV 2/3; 25/64] START learning_rate=0.05, max_depth=8, n_estimators=100.........\n",
      "[CV 2/3; 25/64] END learning_rate=0.05, max_depth=8, n_estimators=100;, score=-9596.673 total time=   2.0s\n",
      "[CV 3/3; 25/64] START learning_rate=0.05, max_depth=8, n_estimators=100.........\n",
      "[CV 3/3; 25/64] END learning_rate=0.05, max_depth=8, n_estimators=100;, score=-9370.475 total time=   1.9s\n",
      "[CV 1/3; 26/64] START learning_rate=0.05, max_depth=8, n_estimators=500.........\n",
      "[CV 1/3; 26/64] END learning_rate=0.05, max_depth=8, n_estimators=500;, score=-9324.668 total time=   6.8s\n",
      "[CV 2/3; 26/64] START learning_rate=0.05, max_depth=8, n_estimators=500.........\n",
      "[CV 2/3; 26/64] END learning_rate=0.05, max_depth=8, n_estimators=500;, score=-9599.833 total time=   5.6s\n",
      "[CV 3/3; 26/64] START learning_rate=0.05, max_depth=8, n_estimators=500.........\n",
      "[CV 3/3; 26/64] END learning_rate=0.05, max_depth=8, n_estimators=500;, score=-9388.652 total time=   5.5s\n",
      "[CV 1/3; 27/64] START learning_rate=0.05, max_depth=8, n_estimators=1000........\n",
      "[CV 1/3; 27/64] END learning_rate=0.05, max_depth=8, n_estimators=1000;, score=-9451.031 total time=   9.9s\n",
      "[CV 2/3; 27/64] START learning_rate=0.05, max_depth=8, n_estimators=1000........\n",
      "[CV 2/3; 27/64] END learning_rate=0.05, max_depth=8, n_estimators=1000;, score=-9732.986 total time=  11.4s\n",
      "[CV 3/3; 27/64] START learning_rate=0.05, max_depth=8, n_estimators=1000........\n",
      "[CV 3/3; 27/64] END learning_rate=0.05, max_depth=8, n_estimators=1000;, score=-9523.921 total time=  10.1s\n",
      "[CV 1/3; 28/64] START learning_rate=0.05, max_depth=8, n_estimators=2000........\n",
      "[CV 1/3; 28/64] END learning_rate=0.05, max_depth=8, n_estimators=2000;, score=-9668.144 total time=  20.5s\n",
      "[CV 2/3; 28/64] START learning_rate=0.05, max_depth=8, n_estimators=2000........\n",
      "[CV 2/3; 28/64] END learning_rate=0.05, max_depth=8, n_estimators=2000;, score=-9959.252 total time=  18.9s\n",
      "[CV 3/3; 28/64] START learning_rate=0.05, max_depth=8, n_estimators=2000........\n",
      "[CV 3/3; 28/64] END learning_rate=0.05, max_depth=8, n_estimators=2000;, score=-9775.173 total time=  20.2s\n",
      "[CV 1/3; 29/64] START learning_rate=0.05, max_depth=10, n_estimators=100........\n",
      "[CV 1/3; 29/64] END learning_rate=0.05, max_depth=10, n_estimators=100;, score=-9388.361 total time=   2.3s\n",
      "[CV 2/3; 29/64] START learning_rate=0.05, max_depth=10, n_estimators=100........\n",
      "[CV 2/3; 29/64] END learning_rate=0.05, max_depth=10, n_estimators=100;, score=-9619.545 total time=   2.3s\n",
      "[CV 3/3; 29/64] START learning_rate=0.05, max_depth=10, n_estimators=100........\n",
      "[CV 3/3; 29/64] END learning_rate=0.05, max_depth=10, n_estimators=100;, score=-9403.071 total time=   2.3s\n",
      "[CV 1/3; 30/64] START learning_rate=0.05, max_depth=10, n_estimators=500........\n",
      "[CV 1/3; 30/64] END learning_rate=0.05, max_depth=10, n_estimators=500;, score=-9469.451 total time=   7.0s\n",
      "[CV 2/3; 30/64] START learning_rate=0.05, max_depth=10, n_estimators=500........\n",
      "[CV 2/3; 30/64] END learning_rate=0.05, max_depth=10, n_estimators=500;, score=-9727.178 total time=   8.3s\n",
      "[CV 3/3; 30/64] START learning_rate=0.05, max_depth=10, n_estimators=500........\n",
      "[CV 3/3; 30/64] END learning_rate=0.05, max_depth=10, n_estimators=500;, score=-9533.338 total time=   7.1s\n",
      "[CV 1/3; 31/64] START learning_rate=0.05, max_depth=10, n_estimators=1000.......\n",
      "[CV 1/3; 31/64] END learning_rate=0.05, max_depth=10, n_estimators=1000;, score=-9672.452 total time=  12.8s\n",
      "[CV 2/3; 31/64] START learning_rate=0.05, max_depth=10, n_estimators=1000.......\n",
      "[CV 2/3; 31/64] END learning_rate=0.05, max_depth=10, n_estimators=1000;, score=-9915.276 total time=  14.3s\n",
      "[CV 3/3; 31/64] START learning_rate=0.05, max_depth=10, n_estimators=1000.......\n",
      "[CV 3/3; 31/64] END learning_rate=0.05, max_depth=10, n_estimators=1000;, score=-9745.133 total time=  13.1s\n",
      "[CV 1/3; 32/64] START learning_rate=0.05, max_depth=10, n_estimators=2000.......\n",
      "[CV 1/3; 32/64] END learning_rate=0.05, max_depth=10, n_estimators=2000;, score=-9961.804 total time=  26.9s\n",
      "[CV 2/3; 32/64] START learning_rate=0.05, max_depth=10, n_estimators=2000.......\n",
      "[CV 2/3; 32/64] END learning_rate=0.05, max_depth=10, n_estimators=2000;, score=-10194.428 total time=  26.8s\n",
      "[CV 3/3; 32/64] START learning_rate=0.05, max_depth=10, n_estimators=2000.......\n",
      "[CV 3/3; 32/64] END learning_rate=0.05, max_depth=10, n_estimators=2000;, score=-10028.170 total time=  26.8s\n",
      "[CV 1/3; 33/64] START learning_rate=0.1, max_depth=3, n_estimators=100..........\n",
      "[CV 1/3; 33/64] END learning_rate=0.1, max_depth=3, n_estimators=100;, score=-9538.079 total time=   1.3s\n",
      "[CV 2/3; 33/64] START learning_rate=0.1, max_depth=3, n_estimators=100..........\n",
      "[CV 2/3; 33/64] END learning_rate=0.1, max_depth=3, n_estimators=100;, score=-9770.467 total time=   1.3s\n",
      "[CV 3/3; 33/64] START learning_rate=0.1, max_depth=3, n_estimators=100..........\n",
      "[CV 3/3; 33/64] END learning_rate=0.1, max_depth=3, n_estimators=100;, score=-9528.705 total time=   1.3s\n",
      "[CV 1/3; 34/64] START learning_rate=0.1, max_depth=3, n_estimators=500..........\n",
      "[CV 1/3; 34/64] END learning_rate=0.1, max_depth=3, n_estimators=500;, score=-9299.153 total time=   3.2s\n",
      "[CV 2/3; 34/64] START learning_rate=0.1, max_depth=3, n_estimators=500..........\n",
      "[CV 2/3; 34/64] END learning_rate=0.1, max_depth=3, n_estimators=500;, score=-9570.948 total time=   3.3s\n",
      "[CV 3/3; 34/64] START learning_rate=0.1, max_depth=3, n_estimators=500..........\n",
      "[CV 3/3; 34/64] END learning_rate=0.1, max_depth=3, n_estimators=500;, score=-9319.026 total time=   3.2s\n",
      "[CV 1/3; 35/64] START learning_rate=0.1, max_depth=3, n_estimators=1000.........\n",
      "[CV 1/3; 35/64] END learning_rate=0.1, max_depth=3, n_estimators=1000;, score=-9232.978 total time=   5.9s\n",
      "[CV 2/3; 35/64] START learning_rate=0.1, max_depth=3, n_estimators=1000.........\n",
      "[CV 2/3; 35/64] END learning_rate=0.1, max_depth=3, n_estimators=1000;, score=-9533.476 total time=   5.8s\n",
      "[CV 3/3; 35/64] START learning_rate=0.1, max_depth=3, n_estimators=1000.........\n",
      "[CV 3/3; 35/64] END learning_rate=0.1, max_depth=3, n_estimators=1000;, score=-9296.484 total time=   7.2s\n",
      "[CV 1/3; 36/64] START learning_rate=0.1, max_depth=3, n_estimators=2000.........\n",
      "[CV 1/3; 36/64] END learning_rate=0.1, max_depth=3, n_estimators=2000;, score=-9234.665 total time=  11.3s\n",
      "[CV 2/3; 36/64] START learning_rate=0.1, max_depth=3, n_estimators=2000.........\n",
      "[CV 2/3; 36/64] END learning_rate=0.1, max_depth=3, n_estimators=2000;, score=-9544.235 total time=  11.3s\n",
      "[CV 3/3; 36/64] START learning_rate=0.1, max_depth=3, n_estimators=2000.........\n",
      "[CV 3/3; 36/64] END learning_rate=0.1, max_depth=3, n_estimators=2000;, score=-9309.970 total time=  12.5s\n",
      "[CV 1/3; 37/64] START learning_rate=0.1, max_depth=5, n_estimators=100..........\n",
      "[CV 1/3; 37/64] END learning_rate=0.1, max_depth=5, n_estimators=100;, score=-9374.235 total time=   1.5s\n",
      "[CV 2/3; 37/64] START learning_rate=0.1, max_depth=5, n_estimators=100..........\n",
      "[CV 2/3; 37/64] END learning_rate=0.1, max_depth=5, n_estimators=100;, score=-9608.452 total time=   1.4s\n",
      "[CV 3/3; 37/64] START learning_rate=0.1, max_depth=5, n_estimators=100..........\n",
      "[CV 3/3; 37/64] END learning_rate=0.1, max_depth=5, n_estimators=100;, score=-9361.660 total time=   1.4s\n",
      "[CV 1/3; 38/64] START learning_rate=0.1, max_depth=5, n_estimators=500..........\n",
      "[CV 1/3; 38/64] END learning_rate=0.1, max_depth=5, n_estimators=500;, score=-9263.513 total time=   3.9s\n",
      "[CV 2/3; 38/64] START learning_rate=0.1, max_depth=5, n_estimators=500..........\n",
      "[CV 2/3; 38/64] END learning_rate=0.1, max_depth=5, n_estimators=500;, score=-9537.202 total time=   4.0s\n",
      "[CV 3/3; 38/64] START learning_rate=0.1, max_depth=5, n_estimators=500..........\n",
      "[CV 3/3; 38/64] END learning_rate=0.1, max_depth=5, n_estimators=500;, score=-9307.599 total time=   3.9s\n",
      "[CV 1/3; 39/64] START learning_rate=0.1, max_depth=5, n_estimators=1000.........\n",
      "[CV 1/3; 39/64] END learning_rate=0.1, max_depth=5, n_estimators=1000;, score=-9303.453 total time=   7.0s\n",
      "[CV 2/3; 39/64] START learning_rate=0.1, max_depth=5, n_estimators=1000.........\n",
      "[CV 2/3; 39/64] END learning_rate=0.1, max_depth=5, n_estimators=1000;, score=-9605.803 total time=   7.8s\n",
      "[CV 3/3; 39/64] START learning_rate=0.1, max_depth=5, n_estimators=1000.........\n",
      "[CV 3/3; 39/64] END learning_rate=0.1, max_depth=5, n_estimators=1000;, score=-9386.654 total time=   7.1s\n",
      "[CV 1/3; 40/64] START learning_rate=0.1, max_depth=5, n_estimators=2000.........\n",
      "[CV 1/3; 40/64] END learning_rate=0.1, max_depth=5, n_estimators=2000;, score=-9453.982 total time=  13.5s\n",
      "[CV 2/3; 40/64] START learning_rate=0.1, max_depth=5, n_estimators=2000.........\n",
      "[CV 2/3; 40/64] END learning_rate=0.1, max_depth=5, n_estimators=2000;, score=-9754.621 total time=  14.7s\n",
      "[CV 3/3; 40/64] START learning_rate=0.1, max_depth=5, n_estimators=2000.........\n",
      "[CV 3/3; 40/64] END learning_rate=0.1, max_depth=5, n_estimators=2000;, score=-9576.489 total time=  13.5s\n",
      "[CV 1/3; 41/64] START learning_rate=0.1, max_depth=8, n_estimators=100..........\n",
      "[CV 1/3; 41/64] END learning_rate=0.1, max_depth=8, n_estimators=100;, score=-9337.570 total time=   1.8s\n",
      "[CV 2/3; 41/64] START learning_rate=0.1, max_depth=8, n_estimators=100..........\n",
      "[CV 2/3; 41/64] END learning_rate=0.1, max_depth=8, n_estimators=100;, score=-9557.675 total time=   1.7s\n",
      "[CV 3/3; 41/64] START learning_rate=0.1, max_depth=8, n_estimators=100..........\n",
      "[CV 3/3; 41/64] END learning_rate=0.1, max_depth=8, n_estimators=100;, score=-9351.050 total time=   1.7s\n",
      "[CV 1/3; 42/64] START learning_rate=0.1, max_depth=8, n_estimators=500..........\n",
      "[CV 1/3; 42/64] END learning_rate=0.1, max_depth=8, n_estimators=500;, score=-9451.320 total time=   6.7s\n",
      "[CV 2/3; 42/64] START learning_rate=0.1, max_depth=8, n_estimators=500..........\n",
      "[CV 2/3; 42/64] END learning_rate=0.1, max_depth=8, n_estimators=500;, score=-9733.149 total time=   5.3s\n",
      "[CV 3/3; 42/64] START learning_rate=0.1, max_depth=8, n_estimators=500..........\n",
      "[CV 3/3; 42/64] END learning_rate=0.1, max_depth=8, n_estimators=500;, score=-9538.419 total time=   5.4s\n",
      "[CV 1/3; 43/64] START learning_rate=0.1, max_depth=8, n_estimators=1000.........\n",
      "[CV 1/3; 43/64] END learning_rate=0.1, max_depth=8, n_estimators=1000;, score=-9680.760 total time=   9.9s\n",
      "[CV 2/3; 43/64] START learning_rate=0.1, max_depth=8, n_estimators=1000.........\n",
      "[CV 2/3; 43/64] END learning_rate=0.1, max_depth=8, n_estimators=1000;, score=-9971.098 total time=  11.2s\n",
      "[CV 3/3; 43/64] START learning_rate=0.1, max_depth=8, n_estimators=1000.........\n",
      "[CV 3/3; 43/64] END learning_rate=0.1, max_depth=8, n_estimators=1000;, score=-9771.962 total time=  10.0s\n",
      "[CV 1/3; 44/64] START learning_rate=0.1, max_depth=8, n_estimators=2000.........\n",
      "[CV 1/3; 44/64] END learning_rate=0.1, max_depth=8, n_estimators=2000;, score=-10017.885 total time=  20.7s\n",
      "[CV 2/3; 44/64] START learning_rate=0.1, max_depth=8, n_estimators=2000.........\n",
      "[CV 2/3; 44/64] END learning_rate=0.1, max_depth=8, n_estimators=2000;, score=-10257.540 total time=  19.4s\n",
      "[CV 3/3; 44/64] START learning_rate=0.1, max_depth=8, n_estimators=2000.........\n",
      "[CV 3/3; 44/64] END learning_rate=0.1, max_depth=8, n_estimators=2000;, score=-10115.660 total time=  20.7s\n",
      "[CV 1/3; 45/64] START learning_rate=0.1, max_depth=10, n_estimators=100.........\n",
      "[CV 1/3; 45/64] END learning_rate=0.1, max_depth=10, n_estimators=100;, score=-9389.413 total time=   2.1s\n",
      "[CV 2/3; 45/64] START learning_rate=0.1, max_depth=10, n_estimators=100.........\n",
      "[CV 2/3; 45/64] END learning_rate=0.1, max_depth=10, n_estimators=100;, score=-9641.933 total time=   2.1s\n",
      "[CV 3/3; 45/64] START learning_rate=0.1, max_depth=10, n_estimators=100.........\n",
      "[CV 3/3; 45/64] END learning_rate=0.1, max_depth=10, n_estimators=100;, score=-9426.167 total time=   2.1s\n",
      "[CV 1/3; 46/64] START learning_rate=0.1, max_depth=10, n_estimators=500.........\n",
      "[CV 1/3; 46/64] END learning_rate=0.1, max_depth=10, n_estimators=500;, score=-9714.293 total time=   6.8s\n",
      "[CV 2/3; 46/64] START learning_rate=0.1, max_depth=10, n_estimators=500.........\n",
      "[CV 2/3; 46/64] END learning_rate=0.1, max_depth=10, n_estimators=500;, score=-9929.515 total time=   8.2s\n",
      "[CV 3/3; 46/64] START learning_rate=0.1, max_depth=10, n_estimators=500.........\n",
      "[CV 3/3; 46/64] END learning_rate=0.1, max_depth=10, n_estimators=500;, score=-9785.379 total time=   6.8s\n",
      "[CV 1/3; 47/64] START learning_rate=0.1, max_depth=10, n_estimators=1000........\n",
      "[CV 1/3; 47/64] END learning_rate=0.1, max_depth=10, n_estimators=1000;, score=-9993.053 total time=  13.0s\n",
      "[CV 2/3; 47/64] START learning_rate=0.1, max_depth=10, n_estimators=1000........\n",
      "[CV 2/3; 47/64] END learning_rate=0.1, max_depth=10, n_estimators=1000;, score=-10188.129 total time=  14.3s\n",
      "[CV 3/3; 47/64] START learning_rate=0.1, max_depth=10, n_estimators=1000........\n",
      "[CV 3/3; 47/64] END learning_rate=0.1, max_depth=10, n_estimators=1000;, score=-10087.758 total time=  13.2s\n",
      "[CV 1/3; 48/64] START learning_rate=0.1, max_depth=10, n_estimators=2000........\n",
      "[CV 1/3; 48/64] END learning_rate=0.1, max_depth=10, n_estimators=2000;, score=-10292.187 total time=  27.6s\n",
      "[CV 2/3; 48/64] START learning_rate=0.1, max_depth=10, n_estimators=2000........\n",
      "[CV 2/3; 48/64] END learning_rate=0.1, max_depth=10, n_estimators=2000;, score=-10468.252 total time=  27.6s\n",
      "[CV 3/3; 48/64] START learning_rate=0.1, max_depth=10, n_estimators=2000........\n",
      "[CV 3/3; 48/64] END learning_rate=0.1, max_depth=10, n_estimators=2000;, score=-10373.004 total time=  27.6s\n",
      "[CV 1/3; 49/64] START learning_rate=0.15, max_depth=3, n_estimators=100.........\n",
      "[CV 1/3; 49/64] END learning_rate=0.15, max_depth=3, n_estimators=100;, score=-9467.752 total time=   1.3s\n",
      "[CV 2/3; 49/64] START learning_rate=0.15, max_depth=3, n_estimators=100.........\n",
      "[CV 2/3; 49/64] END learning_rate=0.15, max_depth=3, n_estimators=100;, score=-9707.224 total time=   1.2s\n",
      "[CV 3/3; 49/64] START learning_rate=0.15, max_depth=3, n_estimators=100.........\n",
      "[CV 3/3; 49/64] END learning_rate=0.15, max_depth=3, n_estimators=100;, score=-9452.590 total time=   1.2s\n",
      "[CV 1/3; 50/64] START learning_rate=0.15, max_depth=3, n_estimators=500.........\n",
      "[CV 1/3; 50/64] END learning_rate=0.15, max_depth=3, n_estimators=500;, score=-9255.228 total time=   3.3s\n",
      "[CV 2/3; 50/64] START learning_rate=0.15, max_depth=3, n_estimators=500.........\n",
      "[CV 2/3; 50/64] END learning_rate=0.15, max_depth=3, n_estimators=500;, score=-9554.768 total time=   3.2s\n",
      "[CV 3/3; 50/64] START learning_rate=0.15, max_depth=3, n_estimators=500.........\n",
      "[CV 3/3; 50/64] END learning_rate=0.15, max_depth=3, n_estimators=500;, score=-9301.576 total time=   3.2s\n",
      "[CV 1/3; 51/64] START learning_rate=0.15, max_depth=3, n_estimators=1000........\n",
      "[CV 1/3; 51/64] END learning_rate=0.15, max_depth=3, n_estimators=1000;, score=-9235.994 total time=   6.0s\n",
      "[CV 2/3; 51/64] START learning_rate=0.15, max_depth=3, n_estimators=1000........\n",
      "[CV 2/3; 51/64] END learning_rate=0.15, max_depth=3, n_estimators=1000;, score=-9553.579 total time=   5.9s\n",
      "[CV 3/3; 51/64] START learning_rate=0.15, max_depth=3, n_estimators=1000........\n",
      "[CV 3/3; 51/64] END learning_rate=0.15, max_depth=3, n_estimators=1000;, score=-9299.422 total time=   6.4s\n",
      "[CV 1/3; 52/64] START learning_rate=0.15, max_depth=3, n_estimators=2000........\n",
      "[CV 1/3; 52/64] END learning_rate=0.15, max_depth=3, n_estimators=2000;, score=-9270.310 total time=  11.2s\n",
      "[CV 2/3; 52/64] START learning_rate=0.15, max_depth=3, n_estimators=2000........\n",
      "[CV 2/3; 52/64] END learning_rate=0.15, max_depth=3, n_estimators=2000;, score=-9581.603 total time=  11.0s\n",
      "[CV 3/3; 52/64] START learning_rate=0.15, max_depth=3, n_estimators=2000........\n",
      "[CV 3/3; 52/64] END learning_rate=0.15, max_depth=3, n_estimators=2000;, score=-9355.863 total time=  12.5s\n",
      "[CV 1/3; 53/64] START learning_rate=0.15, max_depth=5, n_estimators=100.........\n",
      "[CV 1/3; 53/64] END learning_rate=0.15, max_depth=5, n_estimators=100;, score=-9320.709 total time=   1.4s\n",
      "[CV 2/3; 53/64] START learning_rate=0.15, max_depth=5, n_estimators=100.........\n",
      "[CV 2/3; 53/64] END learning_rate=0.15, max_depth=5, n_estimators=100;, score=-9592.962 total time=   1.4s\n",
      "[CV 3/3; 53/64] START learning_rate=0.15, max_depth=5, n_estimators=100.........\n",
      "[CV 3/3; 53/64] END learning_rate=0.15, max_depth=5, n_estimators=100;, score=-9321.739 total time=   1.4s\n",
      "[CV 1/3; 54/64] START learning_rate=0.15, max_depth=5, n_estimators=500.........\n",
      "[CV 1/3; 54/64] END learning_rate=0.15, max_depth=5, n_estimators=500;, score=-9292.805 total time=   3.9s\n",
      "[CV 2/3; 54/64] START learning_rate=0.15, max_depth=5, n_estimators=500.........\n",
      "[CV 2/3; 54/64] END learning_rate=0.15, max_depth=5, n_estimators=500;, score=-9586.094 total time=   3.9s\n",
      "[CV 3/3; 54/64] START learning_rate=0.15, max_depth=5, n_estimators=500.........\n",
      "[CV 3/3; 54/64] END learning_rate=0.15, max_depth=5, n_estimators=500;, score=-9358.173 total time=   3.9s\n",
      "[CV 1/3; 55/64] START learning_rate=0.15, max_depth=5, n_estimators=1000........\n",
      "[CV 1/3; 55/64] END learning_rate=0.15, max_depth=5, n_estimators=1000;, score=-9402.928 total time=   8.5s\n",
      "[CV 2/3; 55/64] START learning_rate=0.15, max_depth=5, n_estimators=1000........\n",
      "[CV 2/3; 55/64] END learning_rate=0.15, max_depth=5, n_estimators=1000;, score=-9693.533 total time=   7.1s\n",
      "[CV 3/3; 55/64] START learning_rate=0.15, max_depth=5, n_estimators=1000........\n",
      "[CV 3/3; 55/64] END learning_rate=0.15, max_depth=5, n_estimators=1000;, score=-9498.484 total time=   7.0s\n",
      "[CV 1/3; 56/64] START learning_rate=0.15, max_depth=5, n_estimators=2000........\n",
      "[CV 1/3; 56/64] END learning_rate=0.15, max_depth=5, n_estimators=2000;, score=-9596.829 total time=  13.5s\n",
      "[CV 2/3; 56/64] START learning_rate=0.15, max_depth=5, n_estimators=2000........\n",
      "[CV 2/3; 56/64] END learning_rate=0.15, max_depth=5, n_estimators=2000;, score=-9888.857 total time=  14.9s\n",
      "[CV 3/3; 56/64] START learning_rate=0.15, max_depth=5, n_estimators=2000........\n",
      "[CV 3/3; 56/64] END learning_rate=0.15, max_depth=5, n_estimators=2000;, score=-9728.841 total time=  13.7s\n",
      "[CV 1/3; 57/64] START learning_rate=0.15, max_depth=8, n_estimators=100.........\n",
      "[CV 1/3; 57/64] END learning_rate=0.15, max_depth=8, n_estimators=100;, score=-9339.896 total time=   1.7s\n",
      "[CV 2/3; 57/64] START learning_rate=0.15, max_depth=8, n_estimators=100.........\n",
      "[CV 2/3; 57/64] END learning_rate=0.15, max_depth=8, n_estimators=100;, score=-9607.841 total time=   1.7s\n",
      "[CV 3/3; 57/64] START learning_rate=0.15, max_depth=8, n_estimators=100.........\n",
      "[CV 3/3; 57/64] END learning_rate=0.15, max_depth=8, n_estimators=100;, score=-9349.230 total time=   3.0s\n",
      "[CV 1/3; 58/64] START learning_rate=0.15, max_depth=8, n_estimators=500.........\n",
      "[CV 1/3; 58/64] END learning_rate=0.15, max_depth=8, n_estimators=500;, score=-9619.286 total time=   5.3s\n",
      "[CV 2/3; 58/64] START learning_rate=0.15, max_depth=8, n_estimators=500.........\n",
      "[CV 2/3; 58/64] END learning_rate=0.15, max_depth=8, n_estimators=500;, score=-9927.826 total time=   5.3s\n",
      "[CV 3/3; 58/64] START learning_rate=0.15, max_depth=8, n_estimators=500.........\n",
      "[CV 3/3; 58/64] END learning_rate=0.15, max_depth=8, n_estimators=500;, score=-9706.394 total time=   5.4s\n",
      "[CV 1/3; 59/64] START learning_rate=0.15, max_depth=8, n_estimators=1000........\n",
      "[CV 1/3; 59/64] END learning_rate=0.15, max_depth=8, n_estimators=1000;, score=-9919.119 total time=  10.1s\n",
      "[CV 2/3; 59/64] START learning_rate=0.15, max_depth=8, n_estimators=1000........\n",
      "[CV 2/3; 59/64] END learning_rate=0.15, max_depth=8, n_estimators=1000;, score=-10199.579 total time=  11.4s\n",
      "[CV 3/3; 59/64] START learning_rate=0.15, max_depth=8, n_estimators=1000........\n",
      "[CV 3/3; 59/64] END learning_rate=0.15, max_depth=8, n_estimators=1000;, score=-10015.174 total time=  10.1s\n",
      "[CV 1/3; 60/64] START learning_rate=0.15, max_depth=8, n_estimators=2000........\n",
      "[CV 1/3; 60/64] END learning_rate=0.15, max_depth=8, n_estimators=2000;, score=-10285.244 total time=  21.1s\n",
      "[CV 2/3; 60/64] START learning_rate=0.15, max_depth=8, n_estimators=2000........\n",
      "[CV 2/3; 60/64] END learning_rate=0.15, max_depth=8, n_estimators=2000;, score=-10525.298 total time=  19.8s\n",
      "[CV 3/3; 60/64] START learning_rate=0.15, max_depth=8, n_estimators=2000........\n",
      "[CV 3/3; 60/64] END learning_rate=0.15, max_depth=8, n_estimators=2000;, score=-10355.989 total time=  21.0s\n",
      "[CV 1/3; 61/64] START learning_rate=0.15, max_depth=10, n_estimators=100........\n",
      "[CV 1/3; 61/64] END learning_rate=0.15, max_depth=10, n_estimators=100;, score=-9475.349 total time=   2.1s\n",
      "[CV 2/3; 61/64] START learning_rate=0.15, max_depth=10, n_estimators=100........\n",
      "[CV 2/3; 61/64] END learning_rate=0.15, max_depth=10, n_estimators=100;, score=-9711.834 total time=   2.0s\n",
      "[CV 3/3; 61/64] START learning_rate=0.15, max_depth=10, n_estimators=100........\n",
      "[CV 3/3; 61/64] END learning_rate=0.15, max_depth=10, n_estimators=100;, score=-9478.674 total time=   2.0s\n",
      "[CV 1/3; 62/64] START learning_rate=0.15, max_depth=10, n_estimators=500........\n",
      "[CV 1/3; 62/64] END learning_rate=0.15, max_depth=10, n_estimators=500;, score=-9941.542 total time=   7.1s\n",
      "[CV 2/3; 62/64] START learning_rate=0.15, max_depth=10, n_estimators=500........\n",
      "[CV 2/3; 62/64] END learning_rate=0.15, max_depth=10, n_estimators=500;, score=-10150.049 total time=   8.2s\n",
      "[CV 3/3; 62/64] START learning_rate=0.15, max_depth=10, n_estimators=500........\n",
      "[CV 3/3; 62/64] END learning_rate=0.15, max_depth=10, n_estimators=500;, score=-9997.417 total time=   6.9s\n",
      "[CV 1/3; 63/64] START learning_rate=0.15, max_depth=10, n_estimators=1000.......\n",
      "[CV 1/3; 63/64] END learning_rate=0.15, max_depth=10, n_estimators=1000;, score=-10240.461 total time=  13.4s\n",
      "[CV 2/3; 63/64] START learning_rate=0.15, max_depth=10, n_estimators=1000.......\n",
      "[CV 2/3; 63/64] END learning_rate=0.15, max_depth=10, n_estimators=1000;, score=-10450.309 total time=  14.7s\n",
      "[CV 3/3; 63/64] START learning_rate=0.15, max_depth=10, n_estimators=1000.......\n",
      "[CV 3/3; 63/64] END learning_rate=0.15, max_depth=10, n_estimators=1000;, score=-10294.975 total time=  13.3s\n",
      "[CV 1/3; 64/64] START learning_rate=0.15, max_depth=10, n_estimators=2000.......\n",
      "[CV 1/3; 64/64] END learning_rate=0.15, max_depth=10, n_estimators=2000;, score=-10448.481 total time=  28.1s\n",
      "[CV 2/3; 64/64] START learning_rate=0.15, max_depth=10, n_estimators=2000.......\n",
      "[CV 2/3; 64/64] END learning_rate=0.15, max_depth=10, n_estimators=2000;, score=-10656.923 total time=  28.0s\n",
      "[CV 3/3; 64/64] START learning_rate=0.15, max_depth=10, n_estimators=2000.......\n",
      "[CV 3/3; 64/64] END learning_rate=0.15, max_depth=10, n_estimators=2000;, score=-10500.069 total time=  28.1s\n",
      "XGBRegressor(base_score=None, booster=None, callbacks=None,\n",
      "             colsample_bylevel=None, colsample_bynode=None,\n",
      "             colsample_bytree=None, device=None, early_stopping_rounds=None,\n",
      "             enable_categorical=False, eval_metric=None, feature_types=None,\n",
      "             gamma=None, grow_policy=None, importance_type=None,\n",
      "             interaction_constraints=None, learning_rate=0.1, max_bin=None,\n",
      "             max_cat_threshold=None, max_cat_to_onehot=None,\n",
      "             max_delta_step=None, max_depth=3, max_leaves=None,\n",
      "             min_child_weight=None, missing=nan, monotone_constraints=None,\n",
      "             multi_strategy=None, n_estimators=1000, n_jobs=None,\n",
      "             num_parallel_tree=None, random_state=None, ...)\n",
      "-9354.312963958679\n",
      "{'learning_rate': 0.1, 'max_depth': 3, 'n_estimators': 1000}\n",
      "CPU times: user 1h 45min 20s, sys: 22.8 s, total: 1h 45min 43s\n",
      "Wall time: 28min 24s\n"
     ]
    }
   ],
   "source": [
    "%%time\n",
    "\n",
    "from sklearn.model_selection import GridSearchCV\n",
    "\n",
    "param_grid={'n_estimators':[100,500,1000,2000],\n",
    "            'max_depth':[3,5,8,10],\n",
    "            'learning_rate':[0.01,0.05,0.1,0.15]}\n",
    "\n",
    "grid_search_cv=GridSearchCV(estimator=XGBRegressor(),\n",
    "                         param_grid=param_grid,\n",
    "                         scoring='neg_root_mean_squared_error',\n",
    "                         cv=3,\n",
    "                         verbose=10)\n",
    "\n",
    "grid_search_cv.fit(X,y)\n",
    "\n",
    "best_model=grid_search_cv.best_estimator_\n",
    "print(grid_search_cv.best_estimator_)\n",
    "print(grid_search_cv.best_score_)\n",
    "print(grid_search_cv.best_params_)"
   ]
  },
  {
   "cell_type": "code",
   "execution_count": 44,
   "id": "0670637a",
   "metadata": {
    "execution": {
     "iopub.execute_input": "2024-06-20T16:23:50.082006Z",
     "iopub.status.busy": "2024-06-20T16:23:50.081523Z",
     "iopub.status.idle": "2024-06-20T16:23:50.923123Z",
     "shell.execute_reply": "2024-06-20T16:23:50.922099Z"
    },
    "papermill": {
     "duration": 0.887687,
     "end_time": "2024-06-20T16:23:50.925825",
     "exception": false,
     "start_time": "2024-06-20T16:23:50.038138",
     "status": "completed"
    },
    "tags": []
   },
   "outputs": [],
   "source": [
    "train_prediction=best_model.predict(X)"
   ]
  },
  {
   "cell_type": "code",
   "execution_count": 45,
   "id": "391cbc34",
   "metadata": {
    "execution": {
     "iopub.execute_input": "2024-06-20T16:23:51.014324Z",
     "iopub.status.busy": "2024-06-20T16:23:51.013861Z",
     "iopub.status.idle": "2024-06-20T16:23:51.025791Z",
     "shell.execute_reply": "2024-06-20T16:23:51.024490Z"
    },
    "papermill": {
     "duration": 0.057661,
     "end_time": "2024-06-20T16:23:51.028725",
     "exception": false,
     "start_time": "2024-06-20T16:23:50.971064",
     "status": "completed"
    },
    "tags": []
   },
   "outputs": [
    {
     "name": "stdout",
     "output_type": "stream",
     "text": [
      "{'R2_train': 0.4673693475383335, 'MAE_train': 6652.780736584668, 'RMSE_train': 8965.993303190306}\n"
     ]
    }
   ],
   "source": [
    "from sklearn import metrics\n",
    "\n",
    "r2_train=metrics.r2_score(train_prediction,y)\n",
    "mae_train=metrics.mean_absolute_error(train_prediction,y)\n",
    "rmse_train=metrics.mean_squared_error(train_prediction,y,squared=False)\n",
    "train_scores={'R2_train':r2_train,'MAE_train':mae_train,'RMSE_train':rmse_train}\n",
    "print(train_scores)"
   ]
  },
  {
   "cell_type": "markdown",
   "id": "e9489af0",
   "metadata": {
    "papermill": {
     "duration": 0.042639,
     "end_time": "2024-06-20T16:23:51.114569",
     "exception": false,
     "start_time": "2024-06-20T16:23:51.071930",
     "status": "completed"
    },
    "tags": []
   },
   "source": [
    "# Validation with test data"
   ]
  },
  {
   "cell_type": "code",
   "execution_count": 46,
   "id": "9ab88151",
   "metadata": {
    "execution": {
     "iopub.execute_input": "2024-06-20T16:23:51.202003Z",
     "iopub.status.busy": "2024-06-20T16:23:51.201498Z",
     "iopub.status.idle": "2024-06-20T16:23:51.820029Z",
     "shell.execute_reply": "2024-06-20T16:23:51.818812Z"
    },
    "papermill": {
     "duration": 0.665835,
     "end_time": "2024-06-20T16:23:51.822958",
     "exception": false,
     "start_time": "2024-06-20T16:23:51.157123",
     "status": "completed"
    },
    "tags": []
   },
   "outputs": [
    {
     "data": {
      "text/plain": [
       "array([19371.71 , 23231.467, 36089.152, ..., 12225.616, 46245.383,\n",
       "       12903.699], dtype=float32)"
      ]
     },
     "execution_count": 46,
     "metadata": {},
     "output_type": "execute_result"
    }
   ],
   "source": [
    "#make predictions test\n",
    "test_prediction=best_model.predict(X_test)\n",
    "test_prediction"
   ]
  }
 ],
 "metadata": {
  "kaggle": {
   "accelerator": "none",
   "dataSources": [
    {
     "datasetId": 5130497,
     "sourceId": 8579062,
     "sourceType": "datasetVersion"
    }
   ],
   "dockerImageVersionId": 30715,
   "isGpuEnabled": false,
   "isInternetEnabled": true,
   "language": "python",
   "sourceType": "notebook"
  },
  "kernelspec": {
   "display_name": "Python 3",
   "language": "python",
   "name": "python3"
  },
  "language_info": {
   "codemirror_mode": {
    "name": "ipython",
    "version": 3
   },
   "file_extension": ".py",
   "mimetype": "text/x-python",
   "name": "python",
   "nbconvert_exporter": "python",
   "pygments_lexer": "ipython3",
   "version": "3.10.13"
  },
  "papermill": {
   "default_parameters": {},
   "duration": 1749.854898,
   "end_time": "2024-06-20T16:23:52.796177",
   "environment_variables": {},
   "exception": null,
   "input_path": "__notebook__.ipynb",
   "output_path": "__notebook__.ipynb",
   "parameters": {},
   "start_time": "2024-06-20T15:54:42.941279",
   "version": "2.5.0"
  }
 },
 "nbformat": 4,
 "nbformat_minor": 5
}
