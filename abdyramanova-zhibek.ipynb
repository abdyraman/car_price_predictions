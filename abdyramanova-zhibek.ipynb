{
 "cells": [
  {
   "cell_type": "code",
   "execution_count": 1,
   "id": "be329950",
   "metadata": {
    "_cell_guid": "b1076dfc-b9ad-4769-8c92-a6c4dae69d19",
    "_uuid": "8f2839f25d086af736a60e9eeb907d3b93b6e0e5",
    "execution": {
     "iopub.execute_input": "2024-06-22T06:31:13.022323Z",
     "iopub.status.busy": "2024-06-22T06:31:13.021833Z",
     "iopub.status.idle": "2024-06-22T06:31:15.424579Z",
     "shell.execute_reply": "2024-06-22T06:31:15.422864Z"
    },
    "papermill": {
     "duration": 2.42318,
     "end_time": "2024-06-22T06:31:15.427054",
     "exception": false,
     "start_time": "2024-06-22T06:31:13.003874",
     "status": "completed"
    },
    "tags": []
   },
   "outputs": [
    {
     "name": "stdout",
     "output_type": "stream",
     "text": [
      "/kaggle/input/kagglexfellowship/kagglex-cohort4/sample_submission.csv\n",
      "/kaggle/input/kagglexfellowship/kagglex-cohort4/train.csv\n",
      "/kaggle/input/kagglexfellowship/kagglex-cohort4/test.csv\n"
     ]
    }
   ],
   "source": [
    "# This Python 3 environment comes with many helpful analytics libraries installed\n",
    "# It is defined by the kaggle/python Docker image: https://github.com/kaggle/docker-python\n",
    "# For example, here's several helpful packages to load\n",
    "\n",
    "import numpy as np # linear algebra\n",
    "import pandas as pd # data processing, CSV file I/O (e.g. pd.read_csv)\n",
    "import seaborn as sns\n",
    "import matplotlib.pyplot as plt\n",
    "\n",
    "# Input data files are available in the read-only \"../input/\" directory\n",
    "# For example, running this (by clicking run or pressing Shift+Enter) will list all files under the input directory\n",
    "\n",
    "import os\n",
    "for dirname, _, filenames in os.walk('/kaggle/input'):\n",
    "    for filename in filenames:\n",
    "        print(os.path.join(dirname, filename))\n",
    "\n",
    "# You can write up to 20GB to the current directory (/kaggle/working/) that gets preserved as output when you create a version using \"Save & Run All\" \n",
    "# You can also write temporary files to /kaggle/temp/, but they won't be saved outside of the current session"
   ]
  },
  {
   "cell_type": "code",
   "execution_count": 2,
   "id": "ea118b9e",
   "metadata": {
    "execution": {
     "iopub.execute_input": "2024-06-22T06:31:15.459846Z",
     "iopub.status.busy": "2024-06-22T06:31:15.459340Z",
     "iopub.status.idle": "2024-06-22T06:31:15.907268Z",
     "shell.execute_reply": "2024-06-22T06:31:15.906198Z"
    },
    "papermill": {
     "duration": 0.466386,
     "end_time": "2024-06-22T06:31:15.909883",
     "exception": false,
     "start_time": "2024-06-22T06:31:15.443497",
     "status": "completed"
    },
    "tags": []
   },
   "outputs": [],
   "source": [
    "#  Import and read the data \n",
    "train = pd.read_csv('/kaggle/input/kagglexfellowship/kagglex-cohort4/train.csv')\n",
    "test=pd.read_csv('/kaggle/input/kagglexfellowship/kagglex-cohort4/test.csv')\n",
    "subm=pd.read_csv('/kaggle/input/kagglexfellowship/kagglex-cohort4/sample_submission.csv')\n"
   ]
  },
  {
   "cell_type": "code",
   "execution_count": 3,
   "id": "3868ef11",
   "metadata": {
    "execution": {
     "iopub.execute_input": "2024-06-22T06:31:15.940048Z",
     "iopub.status.busy": "2024-06-22T06:31:15.939634Z",
     "iopub.status.idle": "2024-06-22T06:31:15.957367Z",
     "shell.execute_reply": "2024-06-22T06:31:15.956065Z"
    },
    "papermill": {
     "duration": 0.035415,
     "end_time": "2024-06-22T06:31:15.959811",
     "exception": false,
     "start_time": "2024-06-22T06:31:15.924396",
     "status": "completed"
    },
    "tags": []
   },
   "outputs": [],
   "source": [
    "#Drop the non-beneficial ID columns and assign ID column as labels\n",
    "def set_index (df):\n",
    "    df.set_index('id', inplace=True)\n",
    "    return df\n",
    "\n",
    "train_df=set_index(train)\n",
    "test_df=set_index(test)"
   ]
  },
  {
   "cell_type": "markdown",
   "id": "33a7ccd6",
   "metadata": {
    "papermill": {
     "duration": 0.013472,
     "end_time": "2024-06-22T06:31:15.988734",
     "exception": false,
     "start_time": "2024-06-22T06:31:15.975262",
     "status": "completed"
    },
    "tags": []
   },
   "source": [
    "# Data Exploration"
   ]
  },
  {
   "cell_type": "code",
   "execution_count": 4,
   "id": "492c6e95",
   "metadata": {
    "execution": {
     "iopub.execute_input": "2024-06-22T06:31:16.020034Z",
     "iopub.status.busy": "2024-06-22T06:31:16.019642Z",
     "iopub.status.idle": "2024-06-22T06:31:16.030071Z",
     "shell.execute_reply": "2024-06-22T06:31:16.028912Z"
    },
    "papermill": {
     "duration": 0.029032,
     "end_time": "2024-06-22T06:31:16.032320",
     "exception": false,
     "start_time": "2024-06-22T06:31:16.003288",
     "status": "completed"
    },
    "tags": []
   },
   "outputs": [
    {
     "data": {
      "text/plain": [
       "brand           object\n",
       "model           object\n",
       "model_year       int64\n",
       "milage           int64\n",
       "fuel_type       object\n",
       "engine          object\n",
       "transmission    object\n",
       "ext_col         object\n",
       "int_col         object\n",
       "accident        object\n",
       "clean_title     object\n",
       "price            int64\n",
       "dtype: object"
      ]
     },
     "execution_count": 4,
     "metadata": {},
     "output_type": "execute_result"
    }
   ],
   "source": [
    "# Checking the datatypes for train dataset\n",
    "train_df.dtypes"
   ]
  },
  {
   "cell_type": "code",
   "execution_count": 5,
   "id": "ec37de74",
   "metadata": {
    "execution": {
     "iopub.execute_input": "2024-06-22T06:31:16.063636Z",
     "iopub.status.busy": "2024-06-22T06:31:16.063224Z",
     "iopub.status.idle": "2024-06-22T06:31:16.072028Z",
     "shell.execute_reply": "2024-06-22T06:31:16.070692Z"
    },
    "papermill": {
     "duration": 0.028041,
     "end_time": "2024-06-22T06:31:16.074825",
     "exception": false,
     "start_time": "2024-06-22T06:31:16.046784",
     "status": "completed"
    },
    "tags": []
   },
   "outputs": [
    {
     "data": {
      "text/plain": [
       "brand           object\n",
       "model           object\n",
       "model_year       int64\n",
       "milage           int64\n",
       "fuel_type       object\n",
       "engine          object\n",
       "transmission    object\n",
       "ext_col         object\n",
       "int_col         object\n",
       "accident        object\n",
       "clean_title     object\n",
       "dtype: object"
      ]
     },
     "execution_count": 5,
     "metadata": {},
     "output_type": "execute_result"
    }
   ],
   "source": [
    "test_df.dtypes"
   ]
  },
  {
   "cell_type": "code",
   "execution_count": 6,
   "id": "eb577267",
   "metadata": {
    "execution": {
     "iopub.execute_input": "2024-06-22T06:31:16.105159Z",
     "iopub.status.busy": "2024-06-22T06:31:16.104737Z",
     "iopub.status.idle": "2024-06-22T06:31:16.110191Z",
     "shell.execute_reply": "2024-06-22T06:31:16.109004Z"
    },
    "papermill": {
     "duration": 0.023319,
     "end_time": "2024-06-22T06:31:16.112593",
     "exception": false,
     "start_time": "2024-06-22T06:31:16.089274",
     "status": "completed"
    },
    "tags": []
   },
   "outputs": [],
   "source": [
    "#Determine the number of unique values in each column\n",
    "def dataset_unique_counts(df):\n",
    "    unique_counts = df.nunique()\n",
    "    print(unique_counts)"
   ]
  },
  {
   "cell_type": "code",
   "execution_count": 7,
   "id": "a4e50bda",
   "metadata": {
    "execution": {
     "iopub.execute_input": "2024-06-22T06:31:16.142755Z",
     "iopub.status.busy": "2024-06-22T06:31:16.142346Z",
     "iopub.status.idle": "2024-06-22T06:31:16.194341Z",
     "shell.execute_reply": "2024-06-22T06:31:16.193232Z"
    },
    "papermill": {
     "duration": 0.070318,
     "end_time": "2024-06-22T06:31:16.197154",
     "exception": false,
     "start_time": "2024-06-22T06:31:16.126836",
     "status": "completed"
    },
    "tags": []
   },
   "outputs": [
    {
     "name": "stdout",
     "output_type": "stream",
     "text": [
      "brand             53\n",
      "model           1827\n",
      "model_year        34\n",
      "milage          3212\n",
      "fuel_type          7\n",
      "engine          1061\n",
      "transmission      46\n",
      "ext_col          260\n",
      "int_col          124\n",
      "accident           2\n",
      "clean_title        1\n",
      "price           1481\n",
      "dtype: int64\n"
     ]
    }
   ],
   "source": [
    "#Unique values for train dataset\n",
    "dataset_unique_counts(train_df)"
   ]
  },
  {
   "cell_type": "code",
   "execution_count": 8,
   "id": "7004dd19",
   "metadata": {
    "execution": {
     "iopub.execute_input": "2024-06-22T06:31:16.227561Z",
     "iopub.status.busy": "2024-06-22T06:31:16.227082Z",
     "iopub.status.idle": "2024-06-22T06:31:16.259330Z",
     "shell.execute_reply": "2024-06-22T06:31:16.257946Z"
    },
    "papermill": {
     "duration": 0.050657,
     "end_time": "2024-06-22T06:31:16.262047",
     "exception": false,
     "start_time": "2024-06-22T06:31:16.211390",
     "status": "completed"
    },
    "tags": []
   },
   "outputs": [
    {
     "name": "stdout",
     "output_type": "stream",
     "text": [
      "brand             53\n",
      "model           1791\n",
      "model_year        34\n",
      "milage          2973\n",
      "fuel_type          7\n",
      "engine          1038\n",
      "transmission      44\n",
      "ext_col          230\n",
      "int_col          111\n",
      "accident           2\n",
      "clean_title        1\n",
      "dtype: int64\n"
     ]
    }
   ],
   "source": [
    "#Unique values for test dataset\n",
    "dataset_unique_counts(test_df)"
   ]
  },
  {
   "cell_type": "code",
   "execution_count": 9,
   "id": "aebca63b",
   "metadata": {
    "execution": {
     "iopub.execute_input": "2024-06-22T06:31:16.292990Z",
     "iopub.status.busy": "2024-06-22T06:31:16.292083Z",
     "iopub.status.idle": "2024-06-22T06:31:16.298294Z",
     "shell.execute_reply": "2024-06-22T06:31:16.297071Z"
    },
    "papermill": {
     "duration": 0.024145,
     "end_time": "2024-06-22T06:31:16.300718",
     "exception": false,
     "start_time": "2024-06-22T06:31:16.276573",
     "status": "completed"
    },
    "tags": []
   },
   "outputs": [],
   "source": [
    "def price_plot(df):\n",
    "    plt.figure(figsize=(8, 6))\n",
    "    sns.stripplot(data=df, y='price', jitter=True, color='purple', alpha=0.5)\n",
    "    plt.title('Strip Plot: Price Distribution')\n",
    "    plt.ylabel('Price')\n",
    "    plt.grid(True)\n",
    "    plt.show()"
   ]
  },
  {
   "cell_type": "code",
   "execution_count": 10,
   "id": "f674f24b",
   "metadata": {
    "execution": {
     "iopub.execute_input": "2024-06-22T06:31:16.331262Z",
     "iopub.status.busy": "2024-06-22T06:31:16.330703Z",
     "iopub.status.idle": "2024-06-22T06:31:16.729122Z",
     "shell.execute_reply": "2024-06-22T06:31:16.728061Z"
    },
    "papermill": {
     "duration": 0.416525,
     "end_time": "2024-06-22T06:31:16.731602",
     "exception": false,
     "start_time": "2024-06-22T06:31:16.315077",
     "status": "completed"
    },
    "tags": []
   },
   "outputs": [
    {
     "name": "stderr",
     "output_type": "stream",
     "text": [
      "/opt/conda/lib/python3.10/site-packages/seaborn/_oldcore.py:1119: FutureWarning: use_inf_as_na option is deprecated and will be removed in a future version. Convert inf values to NaN before operating instead.\n",
      "  with pd.option_context('mode.use_inf_as_na', True):\n",
      "/opt/conda/lib/python3.10/site-packages/seaborn/_oldcore.py:1119: FutureWarning: use_inf_as_na option is deprecated and will be removed in a future version. Convert inf values to NaN before operating instead.\n",
      "  with pd.option_context('mode.use_inf_as_na', True):\n",
      "/opt/conda/lib/python3.10/site-packages/seaborn/_oldcore.py:1075: FutureWarning: When grouping with a length-1 list-like, you will need to pass a length-1 tuple to get_group in a future version of pandas. Pass `(name,)` instead of `name` to silence this warning.\n",
      "  data_subset = grouped_data.get_group(pd_key)\n"
     ]
    },
    {
     "data": {
      "image/png": "[encoded data removed]",
      "text/plain": [
       "<Figure size 800x600 with 1 Axes>"
      ]
     },
     "metadata": {},
     "output_type": "display_data"
    }
   ],
   "source": [
    "price_plot(train_df)"
   ]
  },
  {
   "cell_type": "markdown",
   "id": "3f205614",
   "metadata": {
    "papermill": {
     "duration": 0.015156,
     "end_time": "2024-06-22T06:31:16.762014",
     "exception": false,
     "start_time": "2024-06-22T06:31:16.746858",
     "status": "completed"
    },
    "tags": []
   },
   "source": [
    "Above Histogram shows that most cars lie in the lower range of price.\n",
    "The above graph has outliers from 0.4 onwards, which need to be removed."
   ]
  },
  {
   "cell_type": "code",
   "execution_count": 11,
   "id": "54b75701",
   "metadata": {
    "execution": {
     "iopub.execute_input": "2024-06-22T06:31:16.793771Z",
     "iopub.status.busy": "2024-06-22T06:31:16.793363Z",
     "iopub.status.idle": "2024-06-22T06:31:16.811465Z",
     "shell.execute_reply": "2024-06-22T06:31:16.810381Z"
    },
    "papermill": {
     "duration": 0.036875,
     "end_time": "2024-06-22T06:31:16.813795",
     "exception": false,
     "start_time": "2024-06-22T06:31:16.776920",
     "status": "completed"
    },
    "tags": []
   },
   "outputs": [
    {
     "data": {
      "text/plain": [
       "count    5.427300e+04\n",
       "mean     3.921844e+04\n",
       "std      7.282634e+04\n",
       "min      2.000000e+03\n",
       "25%      1.550000e+04\n",
       "50%      2.800000e+04\n",
       "75%      4.500000e+04\n",
       "max      2.954083e+06\n",
       "Name: price, dtype: float64"
      ]
     },
     "execution_count": 11,
     "metadata": {},
     "output_type": "execute_result"
    }
   ],
   "source": [
    "#Train data needs to be cleaned from outliers\n",
    "train_df['price'].describe()\n"
   ]
  },
  {
   "cell_type": "code",
   "execution_count": 12,
   "id": "f88c87d8",
   "metadata": {
    "execution": {
     "iopub.execute_input": "2024-06-22T06:31:16.847353Z",
     "iopub.status.busy": "2024-06-22T06:31:16.845958Z",
     "iopub.status.idle": "2024-06-22T06:31:16.856849Z",
     "shell.execute_reply": "2024-06-22T06:31:16.855648Z"
    },
    "papermill": {
     "duration": 0.030361,
     "end_time": "2024-06-22T06:31:16.859394",
     "exception": false,
     "start_time": "2024-06-22T06:31:16.829033",
     "status": "completed"
    },
    "tags": []
   },
   "outputs": [
    {
     "name": "stdout",
     "output_type": "stream",
     "text": [
      "29500.0\n"
     ]
    }
   ],
   "source": [
    "#identify and remove outliers from the data df in relation to price column using IQR method\n",
    "Q1 = train_df['price'].quantile(0.25)\n",
    "Q3 = train_df['price'].quantile(0.75)\n",
    "IQR = Q3 - Q1\n",
    "print(IQR)"
   ]
  },
  {
   "cell_type": "code",
   "execution_count": 13,
   "id": "3982bc42",
   "metadata": {
    "execution": {
     "iopub.execute_input": "2024-06-22T06:31:16.891877Z",
     "iopub.status.busy": "2024-06-22T06:31:16.891486Z",
     "iopub.status.idle": "2024-06-22T06:31:16.908527Z",
     "shell.execute_reply": "2024-06-22T06:31:16.907364Z"
    },
    "papermill": {
     "duration": 0.036443,
     "end_time": "2024-06-22T06:31:16.911041",
     "exception": false,
     "start_time": "2024-06-22T06:31:16.874598",
     "status": "completed"
    },
    "tags": []
   },
   "outputs": [
    {
     "data": {
      "text/plain": [
       "(47678, 12)"
      ]
     },
     "execution_count": 13,
     "metadata": {},
     "output_type": "execute_result"
    }
   ],
   "source": [
    "#use IQR value to filter out the outliers\n",
    "outliersfree_df = train_df[~((train_df['price'] < (Q1 - 1.5 * IQR)) |(train_df['price'] > (Q3 + 0.7 * IQR)))]\n",
    "outliersfree_df.shape"
   ]
  },
  {
   "cell_type": "markdown",
   "id": "8d8107c9",
   "metadata": {
    "papermill": {
     "duration": 0.014806,
     "end_time": "2024-06-22T06:31:16.941291",
     "exception": false,
     "start_time": "2024-06-22T06:31:16.926485",
     "status": "completed"
    },
    "tags": []
   },
   "source": [
    "The above plot looks more homogeneous than the previous one after removal of outliers."
   ]
  },
  {
   "cell_type": "code",
   "execution_count": 14,
   "id": "6287d060",
   "metadata": {
    "execution": {
     "iopub.execute_input": "2024-06-22T06:31:16.974098Z",
     "iopub.status.busy": "2024-06-22T06:31:16.973213Z",
     "iopub.status.idle": "2024-06-22T06:31:16.986431Z",
     "shell.execute_reply": "2024-06-22T06:31:16.985246Z"
    },
    "papermill": {
     "duration": 0.032587,
     "end_time": "2024-06-22T06:31:16.989239",
     "exception": false,
     "start_time": "2024-06-22T06:31:16.956652",
     "status": "completed"
    },
    "tags": []
   },
   "outputs": [
    {
     "data": {
      "text/plain": [
       "count    47678.000000\n",
       "mean     26943.079219\n",
       "std      15404.132778\n",
       "min       2000.000000\n",
       "25%      14500.000000\n",
       "50%      24900.000000\n",
       "75%      37475.500000\n",
       "max      65500.000000\n",
       "Name: price, dtype: float64"
      ]
     },
     "execution_count": 14,
     "metadata": {},
     "output_type": "execute_result"
    }
   ],
   "source": [
    "#Train data needs to be cleaned from outliers\n",
    "outliersfree_df['price'].describe()"
   ]
  },
  {
   "cell_type": "markdown",
   "id": "25d9b3b8",
   "metadata": {
    "papermill": {
     "duration": 0.015413,
     "end_time": "2024-06-22T06:31:17.021185",
     "exception": false,
     "start_time": "2024-06-22T06:31:17.005772",
     "status": "completed"
    },
    "tags": []
   },
   "source": [
    "# **Data wrangling**"
   ]
  },
  {
   "cell_type": "markdown",
   "id": "ea753bfb",
   "metadata": {
    "papermill": {
     "duration": 0.015106,
     "end_time": "2024-06-22T06:31:17.051695",
     "exception": false,
     "start_time": "2024-06-22T06:31:17.036589",
     "status": "completed"
    },
    "tags": []
   },
   "source": [
    "I will reduce the number of features in string data categories, and will remain the numeric categories as they are."
   ]
  },
  {
   "cell_type": "code",
   "execution_count": 15,
   "id": "34ece84a",
   "metadata": {
    "execution": {
     "iopub.execute_input": "2024-06-22T06:31:17.084906Z",
     "iopub.status.busy": "2024-06-22T06:31:17.084485Z",
     "iopub.status.idle": "2024-06-22T06:31:17.124679Z",
     "shell.execute_reply": "2024-06-22T06:31:17.123058Z"
    },
    "papermill": {
     "duration": 0.059808,
     "end_time": "2024-06-22T06:31:17.127110",
     "exception": false,
     "start_time": "2024-06-22T06:31:17.067302",
     "status": "completed"
    },
    "tags": []
   },
   "outputs": [
    {
     "name": "stdout",
     "output_type": "stream",
     "text": [
      "brand             51\n",
      "model           1795\n",
      "model_year        34\n",
      "milage          3093\n",
      "fuel_type          7\n",
      "engine          1045\n",
      "transmission      43\n",
      "ext_col          245\n",
      "int_col          118\n",
      "accident           2\n",
      "clean_title        1\n",
      "price           1108\n",
      "dtype: int64\n"
     ]
    }
   ],
   "source": [
    "#Determine the number of unique values in each column.\n",
    "dataset_unique_counts(outliersfree_df)"
   ]
  },
  {
   "cell_type": "code",
   "execution_count": 16,
   "id": "cea9c7c9",
   "metadata": {
    "execution": {
     "iopub.execute_input": "2024-06-22T06:31:17.160070Z",
     "iopub.status.busy": "2024-06-22T06:31:17.159691Z",
     "iopub.status.idle": "2024-06-22T06:31:17.191413Z",
     "shell.execute_reply": "2024-06-22T06:31:17.190311Z"
    },
    "papermill": {
     "duration": 0.050942,
     "end_time": "2024-06-22T06:31:17.193783",
     "exception": false,
     "start_time": "2024-06-22T06:31:17.142841",
     "status": "completed"
    },
    "tags": []
   },
   "outputs": [
    {
     "name": "stdout",
     "output_type": "stream",
     "text": [
      "brand             53\n",
      "model           1791\n",
      "model_year        34\n",
      "milage          2973\n",
      "fuel_type          7\n",
      "engine          1038\n",
      "transmission      44\n",
      "ext_col          230\n",
      "int_col          111\n",
      "accident           2\n",
      "clean_title        1\n",
      "dtype: int64\n"
     ]
    }
   ],
   "source": [
    "#Determine the number of unique values in each column.\n",
    "dataset_unique_counts(test_df)"
   ]
  },
  {
   "cell_type": "markdown",
   "id": "fdb2c01e",
   "metadata": {
    "papermill": {
     "duration": 0.075385,
     "end_time": "2024-06-22T06:31:17.284858",
     "exception": false,
     "start_time": "2024-06-22T06:31:17.209473",
     "status": "completed"
    },
    "tags": []
   },
   "source": [
    "***Model cleaning***"
   ]
  },
  {
   "cell_type": "code",
   "execution_count": 17,
   "id": "3f83db7e",
   "metadata": {
    "execution": {
     "iopub.execute_input": "2024-06-22T06:31:17.317466Z",
     "iopub.status.busy": "2024-06-22T06:31:17.317059Z",
     "iopub.status.idle": "2024-06-22T06:31:17.322487Z",
     "shell.execute_reply": "2024-06-22T06:31:17.321381Z"
    },
    "papermill": {
     "duration": 0.024529,
     "end_time": "2024-06-22T06:31:17.324884",
     "exception": false,
     "start_time": "2024-06-22T06:31:17.300355",
     "status": "completed"
    },
    "tags": []
   },
   "outputs": [],
   "source": [
    "# Value counts function \n",
    "def feature_value_counts(df, column_name):\n",
    "    value_counts = df[column_name].value_counts()\n",
    "    return value_counts"
   ]
  },
  {
   "cell_type": "markdown",
   "id": "510974af",
   "metadata": {
    "papermill": {
     "duration": 0.015375,
     "end_time": "2024-06-22T06:31:17.356106",
     "exception": false,
     "start_time": "2024-06-22T06:31:17.340731",
     "status": "completed"
    },
    "tags": []
   },
   "source": [
    "Brand feature"
   ]
  },
  {
   "cell_type": "code",
   "execution_count": 18,
   "id": "08b6f165",
   "metadata": {
    "execution": {
     "iopub.execute_input": "2024-06-22T06:31:17.389511Z",
     "iopub.status.busy": "2024-06-22T06:31:17.389103Z",
     "iopub.status.idle": "2024-06-22T06:31:17.551561Z",
     "shell.execute_reply": "2024-06-22T06:31:17.550358Z"
    },
    "papermill": {
     "duration": 0.18252,
     "end_time": "2024-06-22T06:31:17.554262",
     "exception": false,
     "start_time": "2024-06-22T06:31:17.371742",
     "status": "completed"
    },
    "tags": []
   },
   "outputs": [],
   "source": [
    "brand_counts_train = feature_value_counts(outliersfree_df, 'brand')\n",
    "brand_counts_test = feature_value_counts(test_df, 'brand')\n",
    "\n",
    "cutoff_value = 50 # Keep if database has 451 and more records of this car model\n",
    "brand_types_to_replace = brand_counts_train[brand_counts_train < cutoff_value].index\n",
    "\n",
    "# Replace models in the training dataframe\n",
    "for brand_c in brand_types_to_replace:\n",
    "    outliersfree_df.loc[outliersfree_df['brand'] == brand_c, 'brand'] = \"Other\"\n",
    "\n",
    "# Apply the same replacements to the test dataframe\n",
    "test_df.loc[test_df['brand'].isin(brand_types_to_replace), 'brand'] = \"Other\"\n",
    "test_df.loc[~test_df['brand'].isin(outliersfree_df['brand'].unique()), 'brand'] = \"Other\"\n",
    "\n",
    "# Check the updated value counts\n",
    "brand_counts_train_updated = outliersfree_df['brand'].value_counts()\n",
    "brand_counts_test_updated = test_df['brand'].value_counts()\n"
   ]
  },
  {
   "cell_type": "markdown",
   "id": "bd94bf3b",
   "metadata": {
    "papermill": {
     "duration": 0.015375,
     "end_time": "2024-06-22T06:31:17.585527",
     "exception": false,
     "start_time": "2024-06-22T06:31:17.570152",
     "status": "completed"
    },
    "tags": []
   },
   "source": [
    "*Model feature*"
   ]
  },
  {
   "cell_type": "code",
   "execution_count": 19,
   "id": "69835cda",
   "metadata": {
    "execution": {
     "iopub.execute_input": "2024-06-22T06:31:17.618594Z",
     "iopub.status.busy": "2024-06-22T06:31:17.618189Z",
     "iopub.status.idle": "2024-06-22T06:31:25.613799Z",
     "shell.execute_reply": "2024-06-22T06:31:25.612526Z"
    },
    "papermill": {
     "duration": 8.015116,
     "end_time": "2024-06-22T06:31:25.616341",
     "exception": false,
     "start_time": "2024-06-22T06:31:17.601225",
     "status": "completed"
    },
    "tags": []
   },
   "outputs": [],
   "source": [
    "model_counts_train = feature_value_counts(outliersfree_df, 'model')\n",
    "model_counts_test = feature_value_counts(test_df, 'model')\n",
    "\n",
    "cutoff_value = 300 # Keep if database has 451 and more records of this car model\n",
    "model_types_to_replace = model_counts_train[model_counts_train < cutoff_value].index\n",
    "\n",
    "# Replace models in the training dataframe\n",
    "for model_c in model_types_to_replace:\n",
    "    outliersfree_df.loc[outliersfree_df['model'] == model_c, 'model'] = \"Other\"\n",
    "\n",
    "# Apply the same replacements to the test dataframe\n",
    "test_df.loc[test_df['model'].isin(model_types_to_replace), 'model'] = \"Other\"\n",
    "test_df.loc[~test_df['model'].isin(outliersfree_df['model'].unique()), 'model'] = \"Other\"\n",
    "\n",
    "# Check the updated value counts\n",
    "model_counts_train_updated = outliersfree_df['model'].value_counts()\n",
    "model_counts_test_updated = test_df['model'].value_counts()\n"
   ]
  },
  {
   "cell_type": "markdown",
   "id": "f55f20e7",
   "metadata": {
    "papermill": {
     "duration": 0.015454,
     "end_time": "2024-06-22T06:31:25.647695",
     "exception": false,
     "start_time": "2024-06-22T06:31:25.632241",
     "status": "completed"
    },
    "tags": []
   },
   "source": [
    "*Fuel feature*"
   ]
  },
  {
   "cell_type": "code",
   "execution_count": 20,
   "id": "baadbddd",
   "metadata": {
    "execution": {
     "iopub.execute_input": "2024-06-22T06:31:25.681588Z",
     "iopub.status.busy": "2024-06-22T06:31:25.680568Z",
     "iopub.status.idle": "2024-06-22T06:31:25.686536Z",
     "shell.execute_reply": "2024-06-22T06:31:25.685497Z"
    },
    "papermill": {
     "duration": 0.025398,
     "end_time": "2024-06-22T06:31:25.688910",
     "exception": false,
     "start_time": "2024-06-22T06:31:25.663512",
     "status": "completed"
    },
    "tags": []
   },
   "outputs": [],
   "source": [
    "# Replace '–' with 'Other' in the 'fuel_type' column\n",
    "def cleaning_not_supported_and_dashes(df):\n",
    "    # Replace unsupported dashes with 'Other'\n",
    "    df.loc[df['fuel_type'] == '–', 'fuel_type'] = 'Other'\n",
    "    # Remove rows where 'fuel_type' is 'not supported'\n",
    "    cleaned_df = df\n",
    "    # Calculate and return the value counts of the cleaned 'fuel_type' column\n",
    "    fuel_counts = cleaned_df['fuel_type'].value_counts()\n",
    "    return cleaned_df\n",
    "\n"
   ]
  },
  {
   "cell_type": "code",
   "execution_count": 21,
   "id": "6eaab5dd",
   "metadata": {
    "execution": {
     "iopub.execute_input": "2024-06-22T06:31:25.722930Z",
     "iopub.status.busy": "2024-06-22T06:31:25.722536Z",
     "iopub.status.idle": "2024-06-22T06:31:25.751721Z",
     "shell.execute_reply": "2024-06-22T06:31:25.750645Z"
    },
    "papermill": {
     "duration": 0.04916,
     "end_time": "2024-06-22T06:31:25.754014",
     "exception": false,
     "start_time": "2024-06-22T06:31:25.704854",
     "status": "completed"
    },
    "tags": []
   },
   "outputs": [
    {
     "data": {
      "text/html": [
       "<div>\n",
       "<style scoped>\n",
       "    .dataframe tbody tr th:only-of-type {\n",
       "        vertical-align: middle;\n",
       "    }\n",
       "\n",
       "    .dataframe tbody tr th {\n",
       "        vertical-align: top;\n",
       "    }\n",
       "\n",
       "    .dataframe thead th {\n",
       "        text-align: right;\n",
       "    }\n",
       "</style>\n",
       "<table border=\"1\" class=\"dataframe\">\n",
       "  <thead>\n",
       "    <tr style=\"text-align: right;\">\n",
       "      <th></th>\n",
       "      <th>brand</th>\n",
       "      <th>model</th>\n",
       "      <th>model_year</th>\n",
       "      <th>milage</th>\n",
       "      <th>fuel_type</th>\n",
       "      <th>engine</th>\n",
       "      <th>transmission</th>\n",
       "      <th>ext_col</th>\n",
       "      <th>int_col</th>\n",
       "      <th>accident</th>\n",
       "      <th>clean_title</th>\n",
       "      <th>price</th>\n",
       "    </tr>\n",
       "    <tr>\n",
       "      <th>id</th>\n",
       "      <th></th>\n",
       "      <th></th>\n",
       "      <th></th>\n",
       "      <th></th>\n",
       "      <th></th>\n",
       "      <th></th>\n",
       "      <th></th>\n",
       "      <th></th>\n",
       "      <th></th>\n",
       "      <th></th>\n",
       "      <th></th>\n",
       "      <th></th>\n",
       "    </tr>\n",
       "  </thead>\n",
       "  <tbody>\n",
       "    <tr>\n",
       "      <th>0</th>\n",
       "      <td>Ford</td>\n",
       "      <td>F-150 Lariat</td>\n",
       "      <td>2018</td>\n",
       "      <td>74349</td>\n",
       "      <td>Gasoline</td>\n",
       "      <td>375.0HP 3.5L V6 Cylinder Engine Gasoline Fuel</td>\n",
       "      <td>10-Speed A/T</td>\n",
       "      <td>Blue</td>\n",
       "      <td>Gray</td>\n",
       "      <td>None reported</td>\n",
       "      <td>Yes</td>\n",
       "      <td>11000</td>\n",
       "    </tr>\n",
       "    <tr>\n",
       "      <th>1</th>\n",
       "      <td>BMW</td>\n",
       "      <td>Other</td>\n",
       "      <td>2007</td>\n",
       "      <td>80000</td>\n",
       "      <td>Gasoline</td>\n",
       "      <td>300.0HP 3.0L Straight 6 Cylinder Engine Gasoli...</td>\n",
       "      <td>6-Speed M/T</td>\n",
       "      <td>Black</td>\n",
       "      <td>Black</td>\n",
       "      <td>None reported</td>\n",
       "      <td>Yes</td>\n",
       "      <td>8250</td>\n",
       "    </tr>\n",
       "    <tr>\n",
       "      <th>2</th>\n",
       "      <td>Jaguar</td>\n",
       "      <td>Other</td>\n",
       "      <td>2009</td>\n",
       "      <td>91491</td>\n",
       "      <td>Gasoline</td>\n",
       "      <td>300.0HP 4.2L 8 Cylinder Engine Gasoline Fuel</td>\n",
       "      <td>6-Speed A/T</td>\n",
       "      <td>Purple</td>\n",
       "      <td>Beige</td>\n",
       "      <td>None reported</td>\n",
       "      <td>Yes</td>\n",
       "      <td>15000</td>\n",
       "    </tr>\n",
       "    <tr>\n",
       "      <th>3</th>\n",
       "      <td>BMW</td>\n",
       "      <td>Other</td>\n",
       "      <td>2022</td>\n",
       "      <td>2437</td>\n",
       "      <td>Hybrid</td>\n",
       "      <td>335.0HP 3.0L Straight 6 Cylinder Engine Gasoli...</td>\n",
       "      <td>Transmission w/Dual Shift Mode</td>\n",
       "      <td>Gray</td>\n",
       "      <td>Brown</td>\n",
       "      <td>None reported</td>\n",
       "      <td>Yes</td>\n",
       "      <td>63500</td>\n",
       "    </tr>\n",
       "    <tr>\n",
       "      <th>4</th>\n",
       "      <td>Pontiac</td>\n",
       "      <td>Other</td>\n",
       "      <td>2001</td>\n",
       "      <td>111000</td>\n",
       "      <td>Gasoline</td>\n",
       "      <td>200.0HP 3.8L V6 Cylinder Engine Gasoline Fuel</td>\n",
       "      <td>A/T</td>\n",
       "      <td>White</td>\n",
       "      <td>Black</td>\n",
       "      <td>None reported</td>\n",
       "      <td>Yes</td>\n",
       "      <td>7850</td>\n",
       "    </tr>\n",
       "    <tr>\n",
       "      <th>...</th>\n",
       "      <td>...</td>\n",
       "      <td>...</td>\n",
       "      <td>...</td>\n",
       "      <td>...</td>\n",
       "      <td>...</td>\n",
       "      <td>...</td>\n",
       "      <td>...</td>\n",
       "      <td>...</td>\n",
       "      <td>...</td>\n",
       "      <td>...</td>\n",
       "      <td>...</td>\n",
       "      <td>...</td>\n",
       "    </tr>\n",
       "    <tr>\n",
       "      <th>54267</th>\n",
       "      <td>Land</td>\n",
       "      <td>Other</td>\n",
       "      <td>2020</td>\n",
       "      <td>69000</td>\n",
       "      <td>Hybrid</td>\n",
       "      <td>395.0HP 3.0L Straight 6 Cylinder Engine Gasoli...</td>\n",
       "      <td>Transmission w/Dual Shift Mode</td>\n",
       "      <td>Silver</td>\n",
       "      <td>Black</td>\n",
       "      <td>None reported</td>\n",
       "      <td>Yes</td>\n",
       "      <td>32500</td>\n",
       "    </tr>\n",
       "    <tr>\n",
       "      <th>54268</th>\n",
       "      <td>BMW</td>\n",
       "      <td>Other</td>\n",
       "      <td>2017</td>\n",
       "      <td>29000</td>\n",
       "      <td>Gasoline</td>\n",
       "      <td>445.0HP 4.4L 8 Cylinder Engine Gasoline Fuel</td>\n",
       "      <td>8-Speed A/T</td>\n",
       "      <td>White</td>\n",
       "      <td>Brown</td>\n",
       "      <td>None reported</td>\n",
       "      <td>Yes</td>\n",
       "      <td>29000</td>\n",
       "    </tr>\n",
       "    <tr>\n",
       "      <th>54269</th>\n",
       "      <td>Audi</td>\n",
       "      <td>Other</td>\n",
       "      <td>2015</td>\n",
       "      <td>94634</td>\n",
       "      <td>E85 Flex Fuel</td>\n",
       "      <td>220.0HP 2.0L 4 Cylinder Engine Flex Fuel Capab...</td>\n",
       "      <td>6-Speed A/T</td>\n",
       "      <td>Black</td>\n",
       "      <td>Black</td>\n",
       "      <td>At least 1 accident or damage reported</td>\n",
       "      <td>Yes</td>\n",
       "      <td>6500</td>\n",
       "    </tr>\n",
       "    <tr>\n",
       "      <th>54270</th>\n",
       "      <td>Porsche</td>\n",
       "      <td>Other</td>\n",
       "      <td>2013</td>\n",
       "      <td>40989</td>\n",
       "      <td>Gasoline</td>\n",
       "      <td>420.0HP 3.6L V6 Cylinder Engine Gasoline Fuel</td>\n",
       "      <td>Transmission w/Dual Shift Mode</td>\n",
       "      <td>White</td>\n",
       "      <td>Black</td>\n",
       "      <td>At least 1 accident or damage reported</td>\n",
       "      <td>Yes</td>\n",
       "      <td>18950</td>\n",
       "    </tr>\n",
       "    <tr>\n",
       "      <th>54272</th>\n",
       "      <td>Audi</td>\n",
       "      <td>Other</td>\n",
       "      <td>2021</td>\n",
       "      <td>35000</td>\n",
       "      <td>Hybrid</td>\n",
       "      <td>261.0HP 2.0L 4 Cylinder Engine Gasoline/Mild E...</td>\n",
       "      <td>8-Speed A/T</td>\n",
       "      <td>Black</td>\n",
       "      <td>Black</td>\n",
       "      <td>None reported</td>\n",
       "      <td>Yes</td>\n",
       "      <td>37499</td>\n",
       "    </tr>\n",
       "  </tbody>\n",
       "</table>\n",
       "<p>47678 rows × 12 columns</p>\n",
       "</div>"
      ],
      "text/plain": [
       "         brand         model  model_year  milage      fuel_type  \\\n",
       "id                                                                \n",
       "0         Ford  F-150 Lariat        2018   74349       Gasoline   \n",
       "1          BMW         Other        2007   80000       Gasoline   \n",
       "2       Jaguar         Other        2009   91491       Gasoline   \n",
       "3          BMW         Other        2022    2437         Hybrid   \n",
       "4      Pontiac         Other        2001  111000       Gasoline   \n",
       "...        ...           ...         ...     ...            ...   \n",
       "54267     Land         Other        2020   69000         Hybrid   \n",
       "54268      BMW         Other        2017   29000       Gasoline   \n",
       "54269     Audi         Other        2015   94634  E85 Flex Fuel   \n",
       "54270  Porsche         Other        2013   40989       Gasoline   \n",
       "54272     Audi         Other        2021   35000         Hybrid   \n",
       "\n",
       "                                                  engine  \\\n",
       "id                                                         \n",
       "0          375.0HP 3.5L V6 Cylinder Engine Gasoline Fuel   \n",
       "1      300.0HP 3.0L Straight 6 Cylinder Engine Gasoli...   \n",
       "2           300.0HP 4.2L 8 Cylinder Engine Gasoline Fuel   \n",
       "3      335.0HP 3.0L Straight 6 Cylinder Engine Gasoli...   \n",
       "4          200.0HP 3.8L V6 Cylinder Engine Gasoline Fuel   \n",
       "...                                                  ...   \n",
       "54267  395.0HP 3.0L Straight 6 Cylinder Engine Gasoli...   \n",
       "54268       445.0HP 4.4L 8 Cylinder Engine Gasoline Fuel   \n",
       "54269  220.0HP 2.0L 4 Cylinder Engine Flex Fuel Capab...   \n",
       "54270      420.0HP 3.6L V6 Cylinder Engine Gasoline Fuel   \n",
       "54272  261.0HP 2.0L 4 Cylinder Engine Gasoline/Mild E...   \n",
       "\n",
       "                         transmission ext_col int_col  \\\n",
       "id                                                      \n",
       "0                        10-Speed A/T    Blue    Gray   \n",
       "1                         6-Speed M/T   Black   Black   \n",
       "2                         6-Speed A/T  Purple   Beige   \n",
       "3      Transmission w/Dual Shift Mode    Gray   Brown   \n",
       "4                                 A/T   White   Black   \n",
       "...                               ...     ...     ...   \n",
       "54267  Transmission w/Dual Shift Mode  Silver   Black   \n",
       "54268                     8-Speed A/T   White   Brown   \n",
       "54269                     6-Speed A/T   Black   Black   \n",
       "54270  Transmission w/Dual Shift Mode   White   Black   \n",
       "54272                     8-Speed A/T   Black   Black   \n",
       "\n",
       "                                     accident clean_title  price  \n",
       "id                                                                \n",
       "0                               None reported         Yes  11000  \n",
       "1                               None reported         Yes   8250  \n",
       "2                               None reported         Yes  15000  \n",
       "3                               None reported         Yes  63500  \n",
       "4                               None reported         Yes   7850  \n",
       "...                                       ...         ...    ...  \n",
       "54267                           None reported         Yes  32500  \n",
       "54268                           None reported         Yes  29000  \n",
       "54269  At least 1 accident or damage reported         Yes   6500  \n",
       "54270  At least 1 accident or damage reported         Yes  18950  \n",
       "54272                           None reported         Yes  37499  \n",
       "\n",
       "[47678 rows x 12 columns]"
      ]
     },
     "execution_count": 21,
     "metadata": {},
     "output_type": "execute_result"
    }
   ],
   "source": [
    "cleaned_train=cleaning_not_supported_and_dashes(outliersfree_df)\n",
    "cleaned_train"
   ]
  },
  {
   "cell_type": "code",
   "execution_count": 22,
   "id": "331cd49c",
   "metadata": {
    "execution": {
     "iopub.execute_input": "2024-06-22T06:31:25.788235Z",
     "iopub.status.busy": "2024-06-22T06:31:25.787830Z",
     "iopub.status.idle": "2024-06-22T06:31:25.801397Z",
     "shell.execute_reply": "2024-06-22T06:31:25.800299Z"
    },
    "papermill": {
     "duration": 0.033515,
     "end_time": "2024-06-22T06:31:25.803627",
     "exception": false,
     "start_time": "2024-06-22T06:31:25.770112",
     "status": "completed"
    },
    "tags": []
   },
   "outputs": [
    {
     "data": {
      "text/plain": [
       "(36183, 11)"
      ]
     },
     "execution_count": 22,
     "metadata": {},
     "output_type": "execute_result"
    }
   ],
   "source": [
    "cleaned_test=cleaning_not_supported_and_dashes(test_df)\n",
    "cleaned_test.shape"
   ]
  },
  {
   "cell_type": "markdown",
   "id": "6402e6cf",
   "metadata": {
    "papermill": {
     "duration": 0.015956,
     "end_time": "2024-06-22T06:31:25.835783",
     "exception": false,
     "start_time": "2024-06-22T06:31:25.819827",
     "status": "completed"
    },
    "tags": []
   },
   "source": [
    "*Engine feature*"
   ]
  },
  {
   "cell_type": "code",
   "execution_count": 23,
   "id": "71ebb42c",
   "metadata": {
    "execution": {
     "iopub.execute_input": "2024-06-22T06:31:25.870283Z",
     "iopub.status.busy": "2024-06-22T06:31:25.869878Z",
     "iopub.status.idle": "2024-06-22T06:31:30.467748Z",
     "shell.execute_reply": "2024-06-22T06:31:30.466803Z"
    },
    "papermill": {
     "duration": 4.618101,
     "end_time": "2024-06-22T06:31:30.470371",
     "exception": false,
     "start_time": "2024-06-22T06:31:25.852270",
     "status": "completed"
    },
    "tags": []
   },
   "outputs": [],
   "source": [
    "#Reducing the features unique values\n",
    "engine_counts_train = feature_value_counts(cleaned_train, 'engine')\n",
    "engine_counts_test = feature_value_counts(cleaned_test, 'engine')\n",
    "\n",
    "cutoff_value = 300 \n",
    "engine_types_to_replace = engine_counts_train[engine_counts_train < cutoff_value].index\n",
    "\n",
    "# Replace models in the training dataframe\n",
    "for engine_c in engine_types_to_replace:\n",
    "    cleaned_train.loc[cleaned_train['engine'] == engine_c, 'engine'] = \"Other\"\n",
    "\n",
    "# Apply the same replacements to the test dataframe\n",
    "cleaned_test.loc[cleaned_test['engine'].isin(engine_types_to_replace), 'engine'] = \"Other\"\n",
    "cleaned_test.loc[~cleaned_test['engine'].isin(cleaned_train['engine'].unique()), 'engine'] = \"Other\"\n",
    "\n",
    "# Check the updated value counts\n",
    "engine_counts_train_updated = cleaned_train['engine'].value_counts()\n",
    "engine_counts_test_updated = cleaned_test['engine'].value_counts()\n"
   ]
  },
  {
   "cell_type": "markdown",
   "id": "3169adca",
   "metadata": {
    "papermill": {
     "duration": 0.01602,
     "end_time": "2024-06-22T06:31:30.502808",
     "exception": false,
     "start_time": "2024-06-22T06:31:30.486788",
     "status": "completed"
    },
    "tags": []
   },
   "source": [
    "*Transmission feature*"
   ]
  },
  {
   "cell_type": "code",
   "execution_count": 24,
   "id": "f0fe6eef",
   "metadata": {
    "execution": {
     "iopub.execute_input": "2024-06-22T06:31:30.538880Z",
     "iopub.status.busy": "2024-06-22T06:31:30.538523Z",
     "iopub.status.idle": "2024-06-22T06:31:30.680019Z",
     "shell.execute_reply": "2024-06-22T06:31:30.678951Z"
    },
    "papermill": {
     "duration": 0.161996,
     "end_time": "2024-06-22T06:31:30.682868",
     "exception": false,
     "start_time": "2024-06-22T06:31:30.520872",
     "status": "completed"
    },
    "tags": []
   },
   "outputs": [],
   "source": [
    "#Reducing the features unique values\n",
    "trans_counts_train = feature_value_counts(cleaned_train, 'transmission')\n",
    "trans_counts_test = feature_value_counts(cleaned_test, 'transmission')\n",
    "\n",
    "cutoff_value = 100\n",
    "trans_types_to_replace = trans_counts_train[trans_counts_train < cutoff_value].index\n",
    "\n",
    "# Replace models in the training dataframe\n",
    "for trans_c in trans_types_to_replace:\n",
    "    cleaned_train.loc[cleaned_train['transmission'] == trans_c, 'transmission'] = \"Other\"\n",
    "\n",
    "# Apply the same replacements to the test dataframe\n",
    "cleaned_test.loc[cleaned_test['transmission'].isin(trans_types_to_replace), 'transmission'] = \"Other\"\n",
    "cleaned_test.loc[~cleaned_test['transmission'].isin(cleaned_train['transmission'].unique()), 'transmission'] = \"Other\"\n",
    "\n",
    "# Check the updated value counts\n",
    "trans_counts_train_updated = cleaned_train['transmission'].value_counts()\n",
    "trans_counts_test_updated = cleaned_test['transmission'].value_counts()\n"
   ]
  },
  {
   "cell_type": "markdown",
   "id": "81528e96",
   "metadata": {
    "papermill": {
     "duration": 0.016946,
     "end_time": "2024-06-22T06:31:30.717756",
     "exception": false,
     "start_time": "2024-06-22T06:31:30.700810",
     "status": "completed"
    },
    "tags": []
   },
   "source": [
    "*External colour feature*"
   ]
  },
  {
   "cell_type": "code",
   "execution_count": 25,
   "id": "52373148",
   "metadata": {
    "execution": {
     "iopub.execute_input": "2024-06-22T06:31:30.752547Z",
     "iopub.status.busy": "2024-06-22T06:31:30.751642Z",
     "iopub.status.idle": "2024-06-22T06:31:31.829411Z",
     "shell.execute_reply": "2024-06-22T06:31:31.828343Z"
    },
    "papermill": {
     "duration": 1.098061,
     "end_time": "2024-06-22T06:31:31.832151",
     "exception": false,
     "start_time": "2024-06-22T06:31:30.734090",
     "status": "completed"
    },
    "tags": []
   },
   "outputs": [],
   "source": [
    "#Reducing the features unique values\n",
    "ext_col_counts_train = feature_value_counts(cleaned_train, 'ext_col')\n",
    "ext_col_counts_test = feature_value_counts(cleaned_test, 'ext_col')\n",
    "\n",
    "cutoff_value = 500 # Keep if database has 451 and more records of this car model\n",
    "ext_col_types_to_replace =ext_col_counts_train[ext_col_counts_train < cutoff_value].index\n",
    "\n",
    "# Replace models in the training dataframe\n",
    "for ext_col_c in ext_col_types_to_replace:\n",
    "    cleaned_train.loc[cleaned_train['ext_col'] == ext_col_c, 'ext_col'] = \"Other\"\n",
    "\n",
    "# Apply the same replacements to the test dataframe\n",
    "cleaned_test.loc[cleaned_test['ext_col'].isin(ext_col_types_to_replace), 'ext_col'] = \"Other\"\n",
    "cleaned_test.loc[~cleaned_test['ext_col'].isin(cleaned_train['ext_col'].unique()), 'ext_col'] = \"Other\"\n",
    "\n",
    "# Check the updated value counts\n",
    "ext_col_counts_train_updated = cleaned_train['ext_col'].value_counts()\n",
    "ext_col_counts_test_updated = cleaned_test['ext_col'].value_counts()"
   ]
  },
  {
   "cell_type": "markdown",
   "id": "22e537e6",
   "metadata": {
    "papermill": {
     "duration": 0.015999,
     "end_time": "2024-06-22T06:31:31.864426",
     "exception": false,
     "start_time": "2024-06-22T06:31:31.848427",
     "status": "completed"
    },
    "tags": []
   },
   "source": [
    "*Internal colour feature*"
   ]
  },
  {
   "cell_type": "code",
   "execution_count": 26,
   "id": "eeb0b4c8",
   "metadata": {
    "execution": {
     "iopub.execute_input": "2024-06-22T06:31:31.899375Z",
     "iopub.status.busy": "2024-06-22T06:31:31.898982Z",
     "iopub.status.idle": "2024-06-22T06:31:32.417666Z",
     "shell.execute_reply": "2024-06-22T06:31:32.416536Z"
    },
    "papermill": {
     "duration": 0.539584,
     "end_time": "2024-06-22T06:31:32.420225",
     "exception": false,
     "start_time": "2024-06-22T06:31:31.880641",
     "status": "completed"
    },
    "tags": []
   },
   "outputs": [],
   "source": [
    "#Reducing the features unique values\n",
    "int_col_counts_train = feature_value_counts(cleaned_train, 'int_col')\n",
    "int_col_counts_test = feature_value_counts(cleaned_test, 'int_col')\n",
    "\n",
    "cutoff_value = 500 # Keep if database has 451 and more records of this car model\n",
    "int_col_types_to_replace =int_col_counts_train[int_col_counts_train < cutoff_value].index\n",
    "\n",
    "# Replace models in the training dataframe\n",
    "for int_col_c in int_col_types_to_replace:\n",
    "    cleaned_train.loc[cleaned_train['int_col'] == int_col_c, 'int_col'] = \"Other\"\n",
    "\n",
    "# Apply the same replacements to the test dataframe\n",
    "cleaned_test.loc[cleaned_test['int_col'].isin(int_col_types_to_replace), 'int_col'] = \"Other\"\n",
    "cleaned_test.loc[~cleaned_test['int_col'].isin(cleaned_train['int_col'].unique()), 'int_col'] = \"Other\"\n",
    "\n",
    "# Check the updated value counts\n",
    "int_col_counts_train_updated = cleaned_train['int_col'].value_counts()\n",
    "int_col_counts_test_updated = cleaned_test['int_col'].value_counts()"
   ]
  },
  {
   "cell_type": "markdown",
   "id": "e2d7ee35",
   "metadata": {
    "papermill": {
     "duration": 0.016163,
     "end_time": "2024-06-22T06:31:32.453396",
     "exception": false,
     "start_time": "2024-06-22T06:31:32.437233",
     "status": "completed"
    },
    "tags": []
   },
   "source": [
    "*Drop clean title that has only one value 'clean_title'*"
   ]
  },
  {
   "cell_type": "code",
   "execution_count": 27,
   "id": "092c54fa",
   "metadata": {
    "execution": {
     "iopub.execute_input": "2024-06-22T06:31:32.487626Z",
     "iopub.status.busy": "2024-06-22T06:31:32.487236Z",
     "iopub.status.idle": "2024-06-22T06:31:32.502030Z",
     "shell.execute_reply": "2024-06-22T06:31:32.501029Z"
    },
    "papermill": {
     "duration": 0.034997,
     "end_time": "2024-06-22T06:31:32.504631",
     "exception": false,
     "start_time": "2024-06-22T06:31:32.469634",
     "status": "completed"
    },
    "tags": []
   },
   "outputs": [],
   "source": [
    "#The last column \"Clean_title\" is the same \"Yes\" answer for all rows, that gives no value to analysis. \n",
    "#Drop this column.\n",
    "final_train=cleaned_train.drop(columns=['clean_title'])\n",
    "final_test=cleaned_test.drop(columns=['clean_title'])\n"
   ]
  },
  {
   "cell_type": "code",
   "execution_count": 28,
   "id": "dc052728",
   "metadata": {
    "execution": {
     "iopub.execute_input": "2024-06-22T06:31:32.541225Z",
     "iopub.status.busy": "2024-06-22T06:31:32.540805Z",
     "iopub.status.idle": "2024-06-22T06:31:32.575136Z",
     "shell.execute_reply": "2024-06-22T06:31:32.573700Z"
    },
    "papermill": {
     "duration": 0.054787,
     "end_time": "2024-06-22T06:31:32.577644",
     "exception": false,
     "start_time": "2024-06-22T06:31:32.522857",
     "status": "completed"
    },
    "tags": []
   },
   "outputs": [
    {
     "name": "stdout",
     "output_type": "stream",
     "text": [
      "brand             41\n",
      "model             13\n",
      "model_year        34\n",
      "milage          3093\n",
      "fuel_type          7\n",
      "engine            25\n",
      "transmission      19\n",
      "ext_col            8\n",
      "int_col            8\n",
      "accident           2\n",
      "price           1108\n",
      "dtype: int64\n"
     ]
    }
   ],
   "source": [
    "dataset_unique_counts(final_train)"
   ]
  },
  {
   "cell_type": "code",
   "execution_count": 29,
   "id": "c134661e",
   "metadata": {
    "execution": {
     "iopub.execute_input": "2024-06-22T06:31:32.612508Z",
     "iopub.status.busy": "2024-06-22T06:31:32.612082Z",
     "iopub.status.idle": "2024-06-22T06:31:32.629301Z",
     "shell.execute_reply": "2024-06-22T06:31:32.628222Z"
    },
    "papermill": {
     "duration": 0.037681,
     "end_time": "2024-06-22T06:31:32.631860",
     "exception": false,
     "start_time": "2024-06-22T06:31:32.594179",
     "status": "completed"
    },
    "tags": []
   },
   "outputs": [
    {
     "data": {
      "text/html": [
       "<div>\n",
       "<style scoped>\n",
       "    .dataframe tbody tr th:only-of-type {\n",
       "        vertical-align: middle;\n",
       "    }\n",
       "\n",
       "    .dataframe tbody tr th {\n",
       "        vertical-align: top;\n",
       "    }\n",
       "\n",
       "    .dataframe thead th {\n",
       "        text-align: right;\n",
       "    }\n",
       "</style>\n",
       "<table border=\"1\" class=\"dataframe\">\n",
       "  <thead>\n",
       "    <tr style=\"text-align: right;\">\n",
       "      <th></th>\n",
       "      <th>brand</th>\n",
       "      <th>model</th>\n",
       "      <th>model_year</th>\n",
       "      <th>milage</th>\n",
       "      <th>fuel_type</th>\n",
       "      <th>engine</th>\n",
       "      <th>transmission</th>\n",
       "      <th>ext_col</th>\n",
       "      <th>int_col</th>\n",
       "      <th>accident</th>\n",
       "      <th>price</th>\n",
       "    </tr>\n",
       "    <tr>\n",
       "      <th>id</th>\n",
       "      <th></th>\n",
       "      <th></th>\n",
       "      <th></th>\n",
       "      <th></th>\n",
       "      <th></th>\n",
       "      <th></th>\n",
       "      <th></th>\n",
       "      <th></th>\n",
       "      <th></th>\n",
       "      <th></th>\n",
       "      <th></th>\n",
       "    </tr>\n",
       "  </thead>\n",
       "  <tbody>\n",
       "    <tr>\n",
       "      <th>0</th>\n",
       "      <td>Ford</td>\n",
       "      <td>F-150 Lariat</td>\n",
       "      <td>2018</td>\n",
       "      <td>74349</td>\n",
       "      <td>Gasoline</td>\n",
       "      <td>375.0HP 3.5L V6 Cylinder Engine Gasoline Fuel</td>\n",
       "      <td>10-Speed A/T</td>\n",
       "      <td>Blue</td>\n",
       "      <td>Gray</td>\n",
       "      <td>None reported</td>\n",
       "      <td>11000</td>\n",
       "    </tr>\n",
       "    <tr>\n",
       "      <th>1</th>\n",
       "      <td>BMW</td>\n",
       "      <td>Other</td>\n",
       "      <td>2007</td>\n",
       "      <td>80000</td>\n",
       "      <td>Gasoline</td>\n",
       "      <td>300.0HP 3.0L Straight 6 Cylinder Engine Gasoli...</td>\n",
       "      <td>6-Speed M/T</td>\n",
       "      <td>Black</td>\n",
       "      <td>Black</td>\n",
       "      <td>None reported</td>\n",
       "      <td>8250</td>\n",
       "    </tr>\n",
       "    <tr>\n",
       "      <th>2</th>\n",
       "      <td>Jaguar</td>\n",
       "      <td>Other</td>\n",
       "      <td>2009</td>\n",
       "      <td>91491</td>\n",
       "      <td>Gasoline</td>\n",
       "      <td>Other</td>\n",
       "      <td>6-Speed A/T</td>\n",
       "      <td>Other</td>\n",
       "      <td>Beige</td>\n",
       "      <td>None reported</td>\n",
       "      <td>15000</td>\n",
       "    </tr>\n",
       "    <tr>\n",
       "      <th>3</th>\n",
       "      <td>BMW</td>\n",
       "      <td>Other</td>\n",
       "      <td>2022</td>\n",
       "      <td>2437</td>\n",
       "      <td>Hybrid</td>\n",
       "      <td>Other</td>\n",
       "      <td>Transmission w/Dual Shift Mode</td>\n",
       "      <td>Gray</td>\n",
       "      <td>Brown</td>\n",
       "      <td>None reported</td>\n",
       "      <td>63500</td>\n",
       "    </tr>\n",
       "    <tr>\n",
       "      <th>4</th>\n",
       "      <td>Pontiac</td>\n",
       "      <td>Other</td>\n",
       "      <td>2001</td>\n",
       "      <td>111000</td>\n",
       "      <td>Gasoline</td>\n",
       "      <td>Other</td>\n",
       "      <td>A/T</td>\n",
       "      <td>White</td>\n",
       "      <td>Black</td>\n",
       "      <td>None reported</td>\n",
       "      <td>7850</td>\n",
       "    </tr>\n",
       "    <tr>\n",
       "      <th>...</th>\n",
       "      <td>...</td>\n",
       "      <td>...</td>\n",
       "      <td>...</td>\n",
       "      <td>...</td>\n",
       "      <td>...</td>\n",
       "      <td>...</td>\n",
       "      <td>...</td>\n",
       "      <td>...</td>\n",
       "      <td>...</td>\n",
       "      <td>...</td>\n",
       "      <td>...</td>\n",
       "    </tr>\n",
       "    <tr>\n",
       "      <th>54267</th>\n",
       "      <td>Land</td>\n",
       "      <td>Other</td>\n",
       "      <td>2020</td>\n",
       "      <td>69000</td>\n",
       "      <td>Hybrid</td>\n",
       "      <td>Other</td>\n",
       "      <td>Transmission w/Dual Shift Mode</td>\n",
       "      <td>Silver</td>\n",
       "      <td>Black</td>\n",
       "      <td>None reported</td>\n",
       "      <td>32500</td>\n",
       "    </tr>\n",
       "    <tr>\n",
       "      <th>54268</th>\n",
       "      <td>BMW</td>\n",
       "      <td>Other</td>\n",
       "      <td>2017</td>\n",
       "      <td>29000</td>\n",
       "      <td>Gasoline</td>\n",
       "      <td>445.0HP 4.4L 8 Cylinder Engine Gasoline Fuel</td>\n",
       "      <td>8-Speed A/T</td>\n",
       "      <td>White</td>\n",
       "      <td>Brown</td>\n",
       "      <td>None reported</td>\n",
       "      <td>29000</td>\n",
       "    </tr>\n",
       "    <tr>\n",
       "      <th>54269</th>\n",
       "      <td>Audi</td>\n",
       "      <td>Other</td>\n",
       "      <td>2015</td>\n",
       "      <td>94634</td>\n",
       "      <td>E85 Flex Fuel</td>\n",
       "      <td>Other</td>\n",
       "      <td>6-Speed A/T</td>\n",
       "      <td>Black</td>\n",
       "      <td>Black</td>\n",
       "      <td>At least 1 accident or damage reported</td>\n",
       "      <td>6500</td>\n",
       "    </tr>\n",
       "    <tr>\n",
       "      <th>54270</th>\n",
       "      <td>Porsche</td>\n",
       "      <td>Other</td>\n",
       "      <td>2013</td>\n",
       "      <td>40989</td>\n",
       "      <td>Gasoline</td>\n",
       "      <td>Other</td>\n",
       "      <td>Transmission w/Dual Shift Mode</td>\n",
       "      <td>White</td>\n",
       "      <td>Black</td>\n",
       "      <td>At least 1 accident or damage reported</td>\n",
       "      <td>18950</td>\n",
       "    </tr>\n",
       "    <tr>\n",
       "      <th>54272</th>\n",
       "      <td>Audi</td>\n",
       "      <td>Other</td>\n",
       "      <td>2021</td>\n",
       "      <td>35000</td>\n",
       "      <td>Hybrid</td>\n",
       "      <td>Other</td>\n",
       "      <td>8-Speed A/T</td>\n",
       "      <td>Black</td>\n",
       "      <td>Black</td>\n",
       "      <td>None reported</td>\n",
       "      <td>37499</td>\n",
       "    </tr>\n",
       "  </tbody>\n",
       "</table>\n",
       "<p>47678 rows × 11 columns</p>\n",
       "</div>"
      ],
      "text/plain": [
       "         brand         model  model_year  milage      fuel_type  \\\n",
       "id                                                                \n",
       "0         Ford  F-150 Lariat        2018   74349       Gasoline   \n",
       "1          BMW         Other        2007   80000       Gasoline   \n",
       "2       Jaguar         Other        2009   91491       Gasoline   \n",
       "3          BMW         Other        2022    2437         Hybrid   \n",
       "4      Pontiac         Other        2001  111000       Gasoline   \n",
       "...        ...           ...         ...     ...            ...   \n",
       "54267     Land         Other        2020   69000         Hybrid   \n",
       "54268      BMW         Other        2017   29000       Gasoline   \n",
       "54269     Audi         Other        2015   94634  E85 Flex Fuel   \n",
       "54270  Porsche         Other        2013   40989       Gasoline   \n",
       "54272     Audi         Other        2021   35000         Hybrid   \n",
       "\n",
       "                                                  engine  \\\n",
       "id                                                         \n",
       "0          375.0HP 3.5L V6 Cylinder Engine Gasoline Fuel   \n",
       "1      300.0HP 3.0L Straight 6 Cylinder Engine Gasoli...   \n",
       "2                                                  Other   \n",
       "3                                                  Other   \n",
       "4                                                  Other   \n",
       "...                                                  ...   \n",
       "54267                                              Other   \n",
       "54268       445.0HP 4.4L 8 Cylinder Engine Gasoline Fuel   \n",
       "54269                                              Other   \n",
       "54270                                              Other   \n",
       "54272                                              Other   \n",
       "\n",
       "                         transmission ext_col int_col  \\\n",
       "id                                                      \n",
       "0                        10-Speed A/T    Blue    Gray   \n",
       "1                         6-Speed M/T   Black   Black   \n",
       "2                         6-Speed A/T   Other   Beige   \n",
       "3      Transmission w/Dual Shift Mode    Gray   Brown   \n",
       "4                                 A/T   White   Black   \n",
       "...                               ...     ...     ...   \n",
       "54267  Transmission w/Dual Shift Mode  Silver   Black   \n",
       "54268                     8-Speed A/T   White   Brown   \n",
       "54269                     6-Speed A/T   Black   Black   \n",
       "54270  Transmission w/Dual Shift Mode   White   Black   \n",
       "54272                     8-Speed A/T   Black   Black   \n",
       "\n",
       "                                     accident  price  \n",
       "id                                                    \n",
       "0                               None reported  11000  \n",
       "1                               None reported   8250  \n",
       "2                               None reported  15000  \n",
       "3                               None reported  63500  \n",
       "4                               None reported   7850  \n",
       "...                                       ...    ...  \n",
       "54267                           None reported  32500  \n",
       "54268                           None reported  29000  \n",
       "54269  At least 1 accident or damage reported   6500  \n",
       "54270  At least 1 accident or damage reported  18950  \n",
       "54272                           None reported  37499  \n",
       "\n",
       "[47678 rows x 11 columns]"
      ]
     },
     "execution_count": 29,
     "metadata": {},
     "output_type": "execute_result"
    }
   ],
   "source": [
    "final_train"
   ]
  },
  {
   "cell_type": "code",
   "execution_count": 30,
   "id": "166b241b",
   "metadata": {
    "execution": {
     "iopub.execute_input": "2024-06-22T06:31:32.666956Z",
     "iopub.status.busy": "2024-06-22T06:31:32.666567Z",
     "iopub.status.idle": "2024-06-22T06:31:32.694828Z",
     "shell.execute_reply": "2024-06-22T06:31:32.693697Z"
    },
    "papermill": {
     "duration": 0.048909,
     "end_time": "2024-06-22T06:31:32.697512",
     "exception": false,
     "start_time": "2024-06-22T06:31:32.648603",
     "status": "completed"
    },
    "tags": []
   },
   "outputs": [
    {
     "name": "stdout",
     "output_type": "stream",
     "text": [
      "brand             41\n",
      "model             13\n",
      "model_year        34\n",
      "milage          2973\n",
      "fuel_type          7\n",
      "engine            25\n",
      "transmission      19\n",
      "ext_col            8\n",
      "int_col            8\n",
      "accident           2\n",
      "dtype: int64\n"
     ]
    }
   ],
   "source": [
    "dataset_unique_counts(final_test)"
   ]
  },
  {
   "cell_type": "code",
   "execution_count": 31,
   "id": "d460ec41",
   "metadata": {
    "execution": {
     "iopub.execute_input": "2024-06-22T06:31:32.732740Z",
     "iopub.status.busy": "2024-06-22T06:31:32.732361Z",
     "iopub.status.idle": "2024-06-22T06:31:32.748744Z",
     "shell.execute_reply": "2024-06-22T06:31:32.747724Z"
    },
    "papermill": {
     "duration": 0.036965,
     "end_time": "2024-06-22T06:31:32.751317",
     "exception": false,
     "start_time": "2024-06-22T06:31:32.714352",
     "status": "completed"
    },
    "tags": []
   },
   "outputs": [
    {
     "data": {
      "text/html": [
       "<div>\n",
       "<style scoped>\n",
       "    .dataframe tbody tr th:only-of-type {\n",
       "        vertical-align: middle;\n",
       "    }\n",
       "\n",
       "    .dataframe tbody tr th {\n",
       "        vertical-align: top;\n",
       "    }\n",
       "\n",
       "    .dataframe thead th {\n",
       "        text-align: right;\n",
       "    }\n",
       "</style>\n",
       "<table border=\"1\" class=\"dataframe\">\n",
       "  <thead>\n",
       "    <tr style=\"text-align: right;\">\n",
       "      <th></th>\n",
       "      <th>brand</th>\n",
       "      <th>model</th>\n",
       "      <th>model_year</th>\n",
       "      <th>milage</th>\n",
       "      <th>fuel_type</th>\n",
       "      <th>engine</th>\n",
       "      <th>transmission</th>\n",
       "      <th>ext_col</th>\n",
       "      <th>int_col</th>\n",
       "      <th>accident</th>\n",
       "    </tr>\n",
       "    <tr>\n",
       "      <th>id</th>\n",
       "      <th></th>\n",
       "      <th></th>\n",
       "      <th></th>\n",
       "      <th></th>\n",
       "      <th></th>\n",
       "      <th></th>\n",
       "      <th></th>\n",
       "      <th></th>\n",
       "      <th></th>\n",
       "      <th></th>\n",
       "    </tr>\n",
       "  </thead>\n",
       "  <tbody>\n",
       "    <tr>\n",
       "      <th>54273</th>\n",
       "      <td>Mercedes-Benz</td>\n",
       "      <td>E-Class E 350</td>\n",
       "      <td>2014</td>\n",
       "      <td>73000</td>\n",
       "      <td>Gasoline</td>\n",
       "      <td>302.0HP 3.5L V6 Cylinder Engine Gasoline Fuel</td>\n",
       "      <td>A/T</td>\n",
       "      <td>White</td>\n",
       "      <td>Beige</td>\n",
       "      <td>None reported</td>\n",
       "    </tr>\n",
       "    <tr>\n",
       "      <th>54274</th>\n",
       "      <td>Lexus</td>\n",
       "      <td>Other</td>\n",
       "      <td>2015</td>\n",
       "      <td>128032</td>\n",
       "      <td>Gasoline</td>\n",
       "      <td>Other</td>\n",
       "      <td>8-Speed A/T</td>\n",
       "      <td>Silver</td>\n",
       "      <td>Black</td>\n",
       "      <td>None reported</td>\n",
       "    </tr>\n",
       "    <tr>\n",
       "      <th>54275</th>\n",
       "      <td>Mercedes-Benz</td>\n",
       "      <td>Other</td>\n",
       "      <td>2015</td>\n",
       "      <td>51983</td>\n",
       "      <td>Gasoline</td>\n",
       "      <td>Other</td>\n",
       "      <td>7-Speed A/T</td>\n",
       "      <td>Blue</td>\n",
       "      <td>White</td>\n",
       "      <td>None reported</td>\n",
       "    </tr>\n",
       "    <tr>\n",
       "      <th>54276</th>\n",
       "      <td>Land</td>\n",
       "      <td>Other</td>\n",
       "      <td>2018</td>\n",
       "      <td>29500</td>\n",
       "      <td>Gasoline</td>\n",
       "      <td>Other</td>\n",
       "      <td>Transmission w/Dual Shift Mode</td>\n",
       "      <td>White</td>\n",
       "      <td>White</td>\n",
       "      <td>At least 1 accident or damage reported</td>\n",
       "    </tr>\n",
       "    <tr>\n",
       "      <th>54277</th>\n",
       "      <td>BMW</td>\n",
       "      <td>Other</td>\n",
       "      <td>2020</td>\n",
       "      <td>90000</td>\n",
       "      <td>Gasoline</td>\n",
       "      <td>335.0HP 3.0L Straight 6 Cylinder Engine Gasoli...</td>\n",
       "      <td>8-Speed A/T</td>\n",
       "      <td>White</td>\n",
       "      <td>Black</td>\n",
       "      <td>At least 1 accident or damage reported</td>\n",
       "    </tr>\n",
       "    <tr>\n",
       "      <th>...</th>\n",
       "      <td>...</td>\n",
       "      <td>...</td>\n",
       "      <td>...</td>\n",
       "      <td>...</td>\n",
       "      <td>...</td>\n",
       "      <td>...</td>\n",
       "      <td>...</td>\n",
       "      <td>...</td>\n",
       "      <td>...</td>\n",
       "      <td>...</td>\n",
       "    </tr>\n",
       "    <tr>\n",
       "      <th>90451</th>\n",
       "      <td>GMC</td>\n",
       "      <td>Other</td>\n",
       "      <td>2019</td>\n",
       "      <td>4500</td>\n",
       "      <td>Gasoline</td>\n",
       "      <td>420.0HP 6.2L 8 Cylinder Engine Gasoline Fuel</td>\n",
       "      <td>10-Speed A/T</td>\n",
       "      <td>Gray</td>\n",
       "      <td>Black</td>\n",
       "      <td>None reported</td>\n",
       "    </tr>\n",
       "    <tr>\n",
       "      <th>90452</th>\n",
       "      <td>Chevrolet</td>\n",
       "      <td>Other</td>\n",
       "      <td>2004</td>\n",
       "      <td>185000</td>\n",
       "      <td>Gasoline</td>\n",
       "      <td>Other</td>\n",
       "      <td>4-Speed A/T</td>\n",
       "      <td>Red</td>\n",
       "      <td>Gray</td>\n",
       "      <td>At least 1 accident or damage reported</td>\n",
       "    </tr>\n",
       "    <tr>\n",
       "      <th>90453</th>\n",
       "      <td>Toyota</td>\n",
       "      <td>Other</td>\n",
       "      <td>2011</td>\n",
       "      <td>116000</td>\n",
       "      <td>Gasoline</td>\n",
       "      <td>Other</td>\n",
       "      <td>5-Speed M/T</td>\n",
       "      <td>Other</td>\n",
       "      <td>Gray</td>\n",
       "      <td>None reported</td>\n",
       "    </tr>\n",
       "    <tr>\n",
       "      <th>90454</th>\n",
       "      <td>Lincoln</td>\n",
       "      <td>Other</td>\n",
       "      <td>2019</td>\n",
       "      <td>39000</td>\n",
       "      <td>Gasoline</td>\n",
       "      <td>Other</td>\n",
       "      <td>10-Speed A/T</td>\n",
       "      <td>Black</td>\n",
       "      <td>Other</td>\n",
       "      <td>None reported</td>\n",
       "    </tr>\n",
       "    <tr>\n",
       "      <th>90455</th>\n",
       "      <td>Chevrolet</td>\n",
       "      <td>Other</td>\n",
       "      <td>2012</td>\n",
       "      <td>162731</td>\n",
       "      <td>E85 Flex Fuel</td>\n",
       "      <td>Other</td>\n",
       "      <td>A/T</td>\n",
       "      <td>Black</td>\n",
       "      <td>Black</td>\n",
       "      <td>At least 1 accident or damage reported</td>\n",
       "    </tr>\n",
       "  </tbody>\n",
       "</table>\n",
       "<p>36183 rows × 10 columns</p>\n",
       "</div>"
      ],
      "text/plain": [
       "               brand          model  model_year  milage      fuel_type  \\\n",
       "id                                                                       \n",
       "54273  Mercedes-Benz  E-Class E 350        2014   73000       Gasoline   \n",
       "54274          Lexus          Other        2015  128032       Gasoline   \n",
       "54275  Mercedes-Benz          Other        2015   51983       Gasoline   \n",
       "54276           Land          Other        2018   29500       Gasoline   \n",
       "54277            BMW          Other        2020   90000       Gasoline   \n",
       "...              ...            ...         ...     ...            ...   \n",
       "90451            GMC          Other        2019    4500       Gasoline   \n",
       "90452      Chevrolet          Other        2004  185000       Gasoline   \n",
       "90453         Toyota          Other        2011  116000       Gasoline   \n",
       "90454        Lincoln          Other        2019   39000       Gasoline   \n",
       "90455      Chevrolet          Other        2012  162731  E85 Flex Fuel   \n",
       "\n",
       "                                                  engine  \\\n",
       "id                                                         \n",
       "54273      302.0HP 3.5L V6 Cylinder Engine Gasoline Fuel   \n",
       "54274                                              Other   \n",
       "54275                                              Other   \n",
       "54276                                              Other   \n",
       "54277  335.0HP 3.0L Straight 6 Cylinder Engine Gasoli...   \n",
       "...                                                  ...   \n",
       "90451       420.0HP 6.2L 8 Cylinder Engine Gasoline Fuel   \n",
       "90452                                              Other   \n",
       "90453                                              Other   \n",
       "90454                                              Other   \n",
       "90455                                              Other   \n",
       "\n",
       "                         transmission ext_col int_col  \\\n",
       "id                                                      \n",
       "54273                             A/T   White   Beige   \n",
       "54274                     8-Speed A/T  Silver   Black   \n",
       "54275                     7-Speed A/T    Blue   White   \n",
       "54276  Transmission w/Dual Shift Mode   White   White   \n",
       "54277                     8-Speed A/T   White   Black   \n",
       "...                               ...     ...     ...   \n",
       "90451                    10-Speed A/T    Gray   Black   \n",
       "90452                     4-Speed A/T     Red    Gray   \n",
       "90453                     5-Speed M/T   Other    Gray   \n",
       "90454                    10-Speed A/T   Black   Other   \n",
       "90455                             A/T   Black   Black   \n",
       "\n",
       "                                     accident  \n",
       "id                                             \n",
       "54273                           None reported  \n",
       "54274                           None reported  \n",
       "54275                           None reported  \n",
       "54276  At least 1 accident or damage reported  \n",
       "54277  At least 1 accident or damage reported  \n",
       "...                                       ...  \n",
       "90451                           None reported  \n",
       "90452  At least 1 accident or damage reported  \n",
       "90453                           None reported  \n",
       "90454                           None reported  \n",
       "90455  At least 1 accident or damage reported  \n",
       "\n",
       "[36183 rows x 10 columns]"
      ]
     },
     "execution_count": 31,
     "metadata": {},
     "output_type": "execute_result"
    }
   ],
   "source": [
    "final_test"
   ]
  },
  {
   "cell_type": "code",
   "execution_count": 32,
   "id": "ddb02cc0",
   "metadata": {
    "execution": {
     "iopub.execute_input": "2024-06-22T06:31:32.788477Z",
     "iopub.status.busy": "2024-06-22T06:31:32.788073Z",
     "iopub.status.idle": "2024-06-22T06:31:32.794722Z",
     "shell.execute_reply": "2024-06-22T06:31:32.793663Z"
    },
    "papermill": {
     "duration": 0.027871,
     "end_time": "2024-06-22T06:31:32.797059",
     "exception": false,
     "start_time": "2024-06-22T06:31:32.769188",
     "status": "completed"
    },
    "tags": []
   },
   "outputs": [
    {
     "data": {
      "text/plain": [
       "(36183, 10)"
      ]
     },
     "execution_count": 32,
     "metadata": {},
     "output_type": "execute_result"
    }
   ],
   "source": [
    "final_test.shape"
   ]
  },
  {
   "cell_type": "markdown",
   "id": "1b1366b2",
   "metadata": {
    "papermill": {
     "duration": 0.017642,
     "end_time": "2024-06-22T06:31:32.832964",
     "exception": false,
     "start_time": "2024-06-22T06:31:32.815322",
     "status": "completed"
    },
    "tags": []
   },
   "source": [
    "***Liner Regression***"
   ]
  },
  {
   "cell_type": "code",
   "execution_count": 33,
   "id": "3f167f62",
   "metadata": {
    "execution": {
     "iopub.execute_input": "2024-06-22T06:31:32.870769Z",
     "iopub.status.busy": "2024-06-22T06:31:32.870397Z",
     "iopub.status.idle": "2024-06-22T06:31:33.261642Z",
     "shell.execute_reply": "2024-06-22T06:31:33.260549Z"
    },
    "papermill": {
     "duration": 0.413044,
     "end_time": "2024-06-22T06:31:33.264158",
     "exception": false,
     "start_time": "2024-06-22T06:31:32.851114",
     "status": "completed"
    },
    "tags": []
   },
   "outputs": [],
   "source": [
    "from sklearn.linear_model import LinearRegression"
   ]
  },
  {
   "cell_type": "code",
   "execution_count": 34,
   "id": "a761286b",
   "metadata": {
    "execution": {
     "iopub.execute_input": "2024-06-22T06:31:33.301756Z",
     "iopub.status.busy": "2024-06-22T06:31:33.301003Z",
     "iopub.status.idle": "2024-06-22T06:31:33.380612Z",
     "shell.execute_reply": "2024-06-22T06:31:33.379579Z"
    },
    "papermill": {
     "duration": 0.101456,
     "end_time": "2024-06-22T06:31:33.382988",
     "exception": false,
     "start_time": "2024-06-22T06:31:33.281532",
     "status": "completed"
    },
    "tags": []
   },
   "outputs": [
    {
     "data": {
      "text/plain": [
       "(47678, 126)"
      ]
     },
     "execution_count": 34,
     "metadata": {},
     "output_type": "execute_result"
    }
   ],
   "source": [
    "# Convert categorical data to numeric with `pd.get_dummies`\n",
    "X = pd.get_dummies(final_train)\n",
    "X.shape\n"
   ]
  },
  {
   "cell_type": "code",
   "execution_count": 35,
   "id": "9956a50f",
   "metadata": {
    "execution": {
     "iopub.execute_input": "2024-06-22T06:31:33.420448Z",
     "iopub.status.busy": "2024-06-22T06:31:33.420050Z",
     "iopub.status.idle": "2024-06-22T06:31:33.472978Z",
     "shell.execute_reply": "2024-06-22T06:31:33.471958Z"
    },
    "papermill": {
     "duration": 0.074291,
     "end_time": "2024-06-22T06:31:33.475246",
     "exception": false,
     "start_time": "2024-06-22T06:31:33.400955",
     "status": "completed"
    },
    "tags": []
   },
   "outputs": [
    {
     "data": {
      "text/plain": [
       "(36183, 125)"
      ]
     },
     "execution_count": 35,
     "metadata": {},
     "output_type": "execute_result"
    }
   ],
   "source": [
    "# Convert categorical data to numeric with `pd.get_dummies`\n",
    "X_test = pd.get_dummies(final_test)\n",
    "X_test.shape\n"
   ]
  },
  {
   "cell_type": "code",
   "execution_count": 36,
   "id": "53aa85d2",
   "metadata": {
    "execution": {
     "iopub.execute_input": "2024-06-22T06:31:33.512297Z",
     "iopub.status.busy": "2024-06-22T06:31:33.511884Z",
     "iopub.status.idle": "2024-06-22T06:31:33.517414Z",
     "shell.execute_reply": "2024-06-22T06:31:33.516102Z"
    },
    "papermill": {
     "duration": 0.026885,
     "end_time": "2024-06-22T06:31:33.520062",
     "exception": false,
     "start_time": "2024-06-22T06:31:33.493177",
     "status": "completed"
    },
    "tags": []
   },
   "outputs": [],
   "source": [
    "# Split our preprocessed data into our features and target arrays\n",
    "y=X['price'].values.reshape(-1, 1)"
   ]
  },
  {
   "cell_type": "code",
   "execution_count": 37,
   "id": "93be7184",
   "metadata": {
    "execution": {
     "iopub.execute_input": "2024-06-22T06:31:33.557671Z",
     "iopub.status.busy": "2024-06-22T06:31:33.557288Z",
     "iopub.status.idle": "2024-06-22T06:31:33.570036Z",
     "shell.execute_reply": "2024-06-22T06:31:33.568872Z"
    },
    "papermill": {
     "duration": 0.034477,
     "end_time": "2024-06-22T06:31:33.572480",
     "exception": false,
     "start_time": "2024-06-22T06:31:33.538003",
     "status": "completed"
    },
    "tags": []
   },
   "outputs": [
    {
     "data": {
      "text/plain": [
       "(47678, 125)"
      ]
     },
     "execution_count": 37,
     "metadata": {},
     "output_type": "execute_result"
    }
   ],
   "source": [
    "#Removing the price from the prediction features\n",
    "X = X.drop(['price'], axis=1)\n",
    "X.shape"
   ]
  },
  {
   "cell_type": "code",
   "execution_count": 38,
   "id": "4409aa20",
   "metadata": {
    "execution": {
     "iopub.execute_input": "2024-06-22T06:31:33.609634Z",
     "iopub.status.busy": "2024-06-22T06:31:33.609254Z",
     "iopub.status.idle": "2024-06-22T06:31:34.198457Z",
     "shell.execute_reply": "2024-06-22T06:31:34.197386Z"
    },
    "papermill": {
     "duration": 0.611595,
     "end_time": "2024-06-22T06:31:34.201794",
     "exception": false,
     "start_time": "2024-06-22T06:31:33.590199",
     "status": "completed"
    },
    "tags": []
   },
   "outputs": [
    {
     "data": {
      "text/html": [
       "<style>#sk-container-id-1 {color: black;background-color: white;}#sk-container-id-1 pre{padding: 0;}#sk-container-id-1 div.sk-toggleable {background-color: white;}#sk-container-id-1 label.sk-toggleable__label {cursor: pointer;display: block;width: 100%;margin-bottom: 0;padding: 0.3em;box-sizing: border-box;text-align: center;}#sk-container-id-1 label.sk-toggleable__label-arrow:before {content: \"▸\";float: left;margin-right: 0.25em;color: #696969;}#sk-container-id-1 label.sk-toggleable__label-arrow:hover:before {color: black;}#sk-container-id-1 div.sk-estimator:hover label.sk-toggleable__label-arrow:before {color: black;}#sk-container-id-1 div.sk-toggleable__content {max-height: 0;max-width: 0;overflow: hidden;text-align: left;background-color: #f0f8ff;}#sk-container-id-1 div.sk-toggleable__content pre {margin: 0.2em;color: black;border-radius: 0.25em;background-color: #f0f8ff;}#sk-container-id-1 input.sk-toggleable__control:checked~div.sk-toggleable__content {max-height: 200px;max-width: 100%;overflow: auto;}#sk-container-id-1 input.sk-toggleable__control:checked~label.sk-toggleable__label-arrow:before {content: \"▾\";}#sk-container-id-1 div.sk-estimator input.sk-toggleable__control:checked~label.sk-toggleable__label {background-color: #d4ebff;}#sk-container-id-1 div.sk-label input.sk-toggleable__control:checked~label.sk-toggleable__label {background-color: #d4ebff;}#sk-container-id-1 input.sk-hidden--visually {border: 0;clip: rect(1px 1px 1px 1px);clip: rect(1px, 1px, 1px, 1px);height: 1px;margin: -1px;overflow: hidden;padding: 0;position: absolute;width: 1px;}#sk-container-id-1 div.sk-estimator {font-family: monospace;background-color: #f0f8ff;border: 1px dotted black;border-radius: 0.25em;box-sizing: border-box;margin-bottom: 0.5em;}#sk-container-id-1 div.sk-estimator:hover {background-color: #d4ebff;}#sk-container-id-1 div.sk-parallel-item::after {content: \"\";width: 100%;border-bottom: 1px solid gray;flex-grow: 1;}#sk-container-id-1 div.sk-label:hover label.sk-toggleable__label {background-color: #d4ebff;}#sk-container-id-1 div.sk-serial::before {content: \"\";position: absolute;border-left: 1px solid gray;box-sizing: border-box;top: 0;bottom: 0;left: 50%;z-index: 0;}#sk-container-id-1 div.sk-serial {display: flex;flex-direction: column;align-items: center;background-color: white;padding-right: 0.2em;padding-left: 0.2em;position: relative;}#sk-container-id-1 div.sk-item {position: relative;z-index: 1;}#sk-container-id-1 div.sk-parallel {display: flex;align-items: stretch;justify-content: center;background-color: white;position: relative;}#sk-container-id-1 div.sk-item::before, #sk-container-id-1 div.sk-parallel-item::before {content: \"\";position: absolute;border-left: 1px solid gray;box-sizing: border-box;top: 0;bottom: 0;left: 50%;z-index: -1;}#sk-container-id-1 div.sk-parallel-item {display: flex;flex-direction: column;z-index: 1;position: relative;background-color: white;}#sk-container-id-1 div.sk-parallel-item:first-child::after {align-self: flex-end;width: 50%;}#sk-container-id-1 div.sk-parallel-item:last-child::after {align-self: flex-start;width: 50%;}#sk-container-id-1 div.sk-parallel-item:only-child::after {width: 0;}#sk-container-id-1 div.sk-dashed-wrapped {border: 1px dashed gray;margin: 0 0.4em 0.5em 0.4em;box-sizing: border-box;padding-bottom: 0.4em;background-color: white;}#sk-container-id-1 div.sk-label label {font-family: monospace;font-weight: bold;display: inline-block;line-height: 1.2em;}#sk-container-id-1 div.sk-label-container {text-align: center;}#sk-container-id-1 div.sk-container {/* jupyter's `normalize.less` sets `[hidden] { display: none; }` but bootstrap.min.css set `[hidden] { display: none !important; }` so we also need the `!important` here to be able to override the default hidden behavior on the sphinx rendered scikit-learn.org. See: https://github.com/scikit-learn/scikit-learn/issues/21755 */display: inline-block !important;position: relative;}#sk-container-id-1 div.sk-text-repr-fallback {display: none;}</style><div id=\"sk-container-id-1\" class=\"sk-top-container\"><div class=\"sk-text-repr-fallback\"><pre>LinearRegression()</pre><b>In a Jupyter environment, please rerun this cell to show the HTML representation or trust the notebook. <br />On GitHub, the HTML representation is unable to render, please try loading this page with nbviewer.org.</b></div><div class=\"sk-container\" hidden><div class=\"sk-item\"><div class=\"sk-estimator sk-toggleable\"><input class=\"sk-toggleable__control sk-hidden--visually\" id=\"sk-estimator-id-1\" type=\"checkbox\" checked><label for=\"sk-estimator-id-1\" class=\"sk-toggleable__label sk-toggleable__label-arrow\">LinearRegression</label><div class=\"sk-toggleable__content\"><pre>LinearRegression()</pre></div></div></div></div></div>"
      ],
      "text/plain": [
       "LinearRegression()"
      ]
     },
     "execution_count": 38,
     "metadata": {},
     "output_type": "execute_result"
    }
   ],
   "source": [
    "lm = LinearRegression()\n",
    "lm.fit(X,y)"
   ]
  },
  {
   "cell_type": "code",
   "execution_count": 39,
   "id": "2452ba87",
   "metadata": {
    "execution": {
     "iopub.execute_input": "2024-06-22T06:31:34.265651Z",
     "iopub.status.busy": "2024-06-22T06:31:34.265039Z",
     "iopub.status.idle": "2024-06-22T06:31:34.361350Z",
     "shell.execute_reply": "2024-06-22T06:31:34.360164Z"
    },
    "papermill": {
     "duration": 0.132896,
     "end_time": "2024-06-22T06:31:34.365186",
     "exception": false,
     "start_time": "2024-06-22T06:31:34.232290",
     "status": "completed"
    },
    "tags": []
   },
   "outputs": [
    {
     "data": {
      "text/plain": [
       "array([[42040.00094069],\n",
       "       [15799.64868148],\n",
       "       [18391.71504794],\n",
       "       [48352.85235611],\n",
       "       [ 8849.73136169]])"
      ]
     },
     "execution_count": 39,
     "metadata": {},
     "output_type": "execute_result"
    }
   ],
   "source": [
    "#make predictions train\n",
    "yhat = lm.predict(X)\n",
    "yhat[0:5]"
   ]
  },
  {
   "cell_type": "code",
   "execution_count": 40,
   "id": "d6fb9938",
   "metadata": {
    "execution": {
     "iopub.execute_input": "2024-06-22T06:31:34.429600Z",
     "iopub.status.busy": "2024-06-22T06:31:34.429043Z",
     "iopub.status.idle": "2024-06-22T06:31:34.438530Z",
     "shell.execute_reply": "2024-06-22T06:31:34.437169Z"
    },
    "papermill": {
     "duration": 0.051115,
     "end_time": "2024-06-22T06:31:34.447532",
     "exception": false,
     "start_time": "2024-06-22T06:31:34.396417",
     "status": "completed"
    },
    "tags": []
   },
   "outputs": [
    {
     "data": {
      "text/plain": [
       "array([-2103588.75137601])"
      ]
     },
     "execution_count": 40,
     "metadata": {},
     "output_type": "execute_result"
    }
   ],
   "source": [
    "#find the intercept\n",
    "lm.intercept_"
   ]
  },
  {
   "cell_type": "code",
   "execution_count": 41,
   "id": "e1bb77ad",
   "metadata": {
    "execution": {
     "iopub.execute_input": "2024-06-22T06:31:34.498084Z",
     "iopub.status.busy": "2024-06-22T06:31:34.497405Z",
     "iopub.status.idle": "2024-06-22T06:31:34.505298Z",
     "shell.execute_reply": "2024-06-22T06:31:34.504281Z"
    },
    "papermill": {
     "duration": 0.029674,
     "end_time": "2024-06-22T06:31:34.507431",
     "exception": false,
     "start_time": "2024-06-22T06:31:34.477757",
     "status": "completed"
    },
    "tags": []
   },
   "outputs": [
    {
     "data": {
      "text/plain": [
       "array([[ 1.06014236e+03, -9.55455578e-02, -2.55325211e+03,\n",
       "        -1.53054136e+03,  6.13166509e+02,  2.63989906e+03,\n",
       "         4.81712874e+03, -2.30597168e+03, -1.29048850e+03,\n",
       "         1.03803935e+03, -4.07462453e+03,  1.30822161e+03,\n",
       "         1.33375789e+03, -8.98994125e+02,  4.33046804e+02,\n",
       "        -1.25984803e+03,  3.49086957e+03, -5.63070640e+03,\n",
       "        -1.61391911e+03,  2.82154688e+03, -2.62647242e+02,\n",
       "        -4.34915350e+03,  3.40841244e+03,  1.42171649e+03,\n",
       "         1.38048644e+03, -6.01117775e+03,  2.35387156e+03,\n",
       "        -3.76868969e+03,  3.13160934e+03, -3.72327497e+03,\n",
       "        -2.10891825e+03,  2.54927008e+03,  8.21846808e+02,\n",
       "         4.42620865e+03,  3.13051355e+03,  1.37950251e+04,\n",
       "        -2.70692036e+03, -7.62132445e+03, -4.19057542e+03,\n",
       "         4.33886585e+03,  2.38185463e+03, -4.63761775e+03,\n",
       "        -1.09671213e+03, -2.00607652e+03,  6.10509973e+03,\n",
       "        -2.35988786e+03, -2.65625734e+03,  3.13003772e+03,\n",
       "        -5.54797634e+02,  2.50321033e+03, -5.19245364e+02,\n",
       "        -1.04786108e+02, -5.27095558e+02, -1.66009417e+03,\n",
       "         1.80964852e+02, -1.53107207e+03,  1.09086663e+04,\n",
       "         2.66073365e+03,  2.13394154e+03,  2.25581165e+03,\n",
       "         4.01396401e+02,  1.25449373e-01, -1.83606750e+04,\n",
       "        -3.20050374e+03, -1.01940640e+03, -6.19307794e+03,\n",
       "        -7.63604537e+03, -4.61753863e+03, -3.76716230e+03,\n",
       "        -5.09166869e+03,  2.10821256e+03,  3.30135743e+02,\n",
       "         9.05181357e+02, -5.91512214e+03,  3.74395959e+03,\n",
       "        -4.31762959e+03, -1.97292628e+03,  1.50310311e+03,\n",
       "        -2.09544915e+03,  5.96598078e+03, -1.88498034e+03,\n",
       "         3.43416891e+03,  7.57214967e+03,  6.03761899e+03,\n",
       "         1.39016105e+03,  5.96021850e+03,  5.11257259e+02,\n",
       "         8.24936305e+03,  2.90585351e+03,  3.29414844e+03,\n",
       "        -5.84607997e+02, -1.76915568e+03,  6.09205866e+02,\n",
       "        -3.49814848e+03, -1.67731353e+03, -1.39399582e+02,\n",
       "         9.70339496e+02,  1.07867459e+03, -3.22388148e+02,\n",
       "         2.14755451e+03,  9.08348544e+02, -2.25960373e+03,\n",
       "         1.06686021e+03, -3.85883146e+03, -3.09633974e+02,\n",
       "         8.06304088e+02,  6.31793324e+02, -2.84088109e+02,\n",
       "         1.02947021e+02,  2.89105116e+01,  2.73387801e+03,\n",
       "        -5.78306050e+02, -4.95857665e+02, -1.10812174e+03,\n",
       "        -3.99361977e+02, -1.46647174e+03, -8.11070152e+01,\n",
       "         1.52672014e+03, -7.52510574e+02, -5.47772237e+02,\n",
       "         9.91953417e+02,  8.73980671e+02, -5.44792660e+02,\n",
       "        -1.07699239e+03,  1.07699239e+03]])"
      ]
     },
     "execution_count": 41,
     "metadata": {},
     "output_type": "execute_result"
    }
   ],
   "source": [
    "#find the slope\n",
    "lm.coef_"
   ]
  },
  {
   "cell_type": "code",
   "execution_count": 42,
   "id": "06261033",
   "metadata": {
    "execution": {
     "iopub.execute_input": "2024-06-22T06:31:34.547042Z",
     "iopub.status.busy": "2024-06-22T06:31:34.546651Z",
     "iopub.status.idle": "2024-06-22T06:31:34.554041Z",
     "shell.execute_reply": "2024-06-22T06:31:34.552817Z"
    },
    "papermill": {
     "duration": 0.029261,
     "end_time": "2024-06-22T06:31:34.556448",
     "exception": false,
     "start_time": "2024-06-22T06:31:34.527187",
     "status": "completed"
    },
    "tags": []
   },
   "outputs": [
    {
     "name": "stdout",
     "output_type": "stream",
     "text": [
      "Mean Squared Error (MSE): 99268276.82706574\n"
     ]
    }
   ],
   "source": [
    "#find the MSE\n",
    "from sklearn.metrics import mean_squared_error\n",
    "\n",
    "# Calculate the mean squared error\n",
    "mse = mean_squared_error(y, yhat)\n",
    "\n",
    "# Print the MSE\n",
    "print(\"Mean Squared Error (MSE):\", mse)\n"
   ]
  },
  {
   "cell_type": "code",
   "execution_count": 43,
   "id": "3c6ea357",
   "metadata": {
    "execution": {
     "iopub.execute_input": "2024-06-22T06:31:34.595523Z",
     "iopub.status.busy": "2024-06-22T06:31:34.594478Z",
     "iopub.status.idle": "2024-06-22T06:31:34.601404Z",
     "shell.execute_reply": "2024-06-22T06:31:34.600375Z"
    },
    "papermill": {
     "duration": 0.028816,
     "end_time": "2024-06-22T06:31:34.603625",
     "exception": false,
     "start_time": "2024-06-22T06:31:34.574809",
     "status": "completed"
    },
    "tags": []
   },
   "outputs": [
    {
     "data": {
      "text/plain": [
       "9963.34666801601"
      ]
     },
     "execution_count": 43,
     "metadata": {},
     "output_type": "execute_result"
    }
   ],
   "source": [
    "#find the RMSE\n",
    "rmse = np.sqrt(mse)\n",
    "rmse"
   ]
  },
  {
   "cell_type": "code",
   "execution_count": 44,
   "id": "14408b16",
   "metadata": {
    "execution": {
     "iopub.execute_input": "2024-06-22T06:31:34.642889Z",
     "iopub.status.busy": "2024-06-22T06:31:34.642487Z",
     "iopub.status.idle": "2024-06-22T06:31:34.651227Z",
     "shell.execute_reply": "2024-06-22T06:31:34.650099Z"
    },
    "papermill": {
     "duration": 0.031258,
     "end_time": "2024-06-22T06:31:34.653734",
     "exception": false,
     "start_time": "2024-06-22T06:31:34.622476",
     "status": "completed"
    },
    "tags": []
   },
   "outputs": [
    {
     "data": {
      "text/plain": [
       "0.581644883000576"
      ]
     },
     "execution_count": 44,
     "metadata": {},
     "output_type": "execute_result"
    }
   ],
   "source": [
    "#find rscore\n",
    "from sklearn.metrics import r2_score\n",
    "r2_score(y, yhat)"
   ]
  },
  {
   "cell_type": "markdown",
   "id": "d73f4208",
   "metadata": {
    "papermill": {
     "duration": 0.018447,
     "end_time": "2024-06-22T06:31:34.691307",
     "exception": false,
     "start_time": "2024-06-22T06:31:34.672860",
     "status": "completed"
    },
    "tags": []
   },
   "source": []
  },
  {
   "cell_type": "markdown",
   "id": "5846e916",
   "metadata": {
    "papermill": {
     "duration": 0.018005,
     "end_time": "2024-06-22T06:31:34.727882",
     "exception": false,
     "start_time": "2024-06-22T06:31:34.709877",
     "status": "completed"
    },
    "tags": []
   },
   "source": [
    "Given the statistics of the \"price\" variable:\n",
    "\n",
    "Comparison to Mean: The RMSE (10,043.67) is a significant portion of the mean price (26,943.08). Specifically, it's about 37.3% of the mean.\n",
    "Comparison to Standard Deviation: The RMSE is also a substantial portion of the standard deviation (15,404.13), around 65.2%.\n",
    "Range: The price data ranges from 2,000 to 65,500, giving a total range of 63,500. The RMSE (10,043.67) is about 15.8% of this range.\n",
    "Interpretation:\n",
    "High RMSE: The RMSE of 10,043.67 suggests that the model's predictions have a relatively high average error compared to the mean price. This could indicate that the model has room for improvement, especially if lower prediction errors are desirable for the given context.\n",
    "Impact on Predictions: For prices around the mean value, an error of 10,043.67 is quite significant. This means that for a typical house priced around 26,943, the predicted price could vary by ±10,043.67 on average, which might be too large depending on the use case.\n",
    "Relative Error: Given the standard deviation and the interquartile range (IQR = 37,475.5 - 14,500 = 22,975.5), the RMSE is quite high. This suggests that the model might not be capturing the variance in the data well."
   ]
  },
  {
   "cell_type": "markdown",
   "id": "5dac5064",
   "metadata": {
    "papermill": {
     "duration": 0.018302,
     "end_time": "2024-06-22T06:31:34.764878",
     "exception": false,
     "start_time": "2024-06-22T06:31:34.746576",
     "status": "completed"
    },
    "tags": []
   },
   "source": [
    "***XGBRegressor***"
   ]
  },
  {
   "cell_type": "code",
   "execution_count": 45,
   "id": "b7f0b287",
   "metadata": {
    "execution": {
     "iopub.execute_input": "2024-06-22T06:31:34.804889Z",
     "iopub.status.busy": "2024-06-22T06:31:34.804464Z",
     "iopub.status.idle": "2024-06-22T06:31:34.992453Z",
     "shell.execute_reply": "2024-06-22T06:31:34.991233Z"
    },
    "papermill": {
     "duration": 0.211057,
     "end_time": "2024-06-22T06:31:34.995312",
     "exception": false,
     "start_time": "2024-06-22T06:31:34.784255",
     "status": "completed"
    },
    "tags": []
   },
   "outputs": [],
   "source": [
    "from xgboost import XGBRegressor"
   ]
  },
  {
   "cell_type": "code",
   "execution_count": 46,
   "id": "f0aefc06",
   "metadata": {
    "execution": {
     "iopub.execute_input": "2024-06-22T06:31:35.036412Z",
     "iopub.status.busy": "2024-06-22T06:31:35.035995Z",
     "iopub.status.idle": "2024-06-22T07:03:22.708974Z",
     "shell.execute_reply": "2024-06-22T07:03:22.707683Z"
    },
    "papermill": {
     "duration": 1907.69599,
     "end_time": "2024-06-22T07:03:22.711554",
     "exception": false,
     "start_time": "2024-06-22T06:31:35.015564",
     "status": "completed"
    },
    "tags": []
   },
   "outputs": [
    {
     "name": "stdout",
     "output_type": "stream",
     "text": [
      "Fitting 3 folds for each of 64 candidates, totalling 192 fits\n",
      "[CV 1/3; 1/64] START learning_rate=0.01, max_depth=3, n_estimators=100..........\n",
      "[CV 1/3; 1/64] END learning_rate=0.01, max_depth=3, n_estimators=100;, score=-11066.721 total time=   1.6s\n",
      "[CV 2/3; 1/64] START learning_rate=0.01, max_depth=3, n_estimators=100..........\n",
      "[CV 2/3; 1/64] END learning_rate=0.01, max_depth=3, n_estimators=100;, score=-11261.867 total time=   1.5s\n",
      "[CV 3/3; 1/64] START learning_rate=0.01, max_depth=3, n_estimators=100..........\n",
      "[CV 3/3; 1/64] END learning_rate=0.01, max_depth=3, n_estimators=100;, score=-11042.940 total time=   1.6s\n",
      "[CV 1/3; 2/64] START learning_rate=0.01, max_depth=3, n_estimators=500..........\n",
      "[CV 1/3; 2/64] END learning_rate=0.01, max_depth=3, n_estimators=500;, score=-9723.592 total time=   4.5s\n",
      "[CV 2/3; 2/64] START learning_rate=0.01, max_depth=3, n_estimators=500..........\n",
      "[CV 2/3; 2/64] END learning_rate=0.01, max_depth=3, n_estimators=500;, score=-9952.592 total time=   4.5s\n",
      "[CV 3/3; 2/64] START learning_rate=0.01, max_depth=3, n_estimators=500..........\n",
      "[CV 3/3; 2/64] END learning_rate=0.01, max_depth=3, n_estimators=500;, score=-9709.198 total time=   5.7s\n",
      "[CV 1/3; 3/64] START learning_rate=0.01, max_depth=3, n_estimators=1000.........\n",
      "[CV 1/3; 3/64] END learning_rate=0.01, max_depth=3, n_estimators=1000;, score=-9551.221 total time=   7.4s\n",
      "[CV 2/3; 3/64] START learning_rate=0.01, max_depth=3, n_estimators=1000.........\n",
      "[CV 2/3; 3/64] END learning_rate=0.01, max_depth=3, n_estimators=1000;, score=-9773.058 total time=   7.5s\n",
      "[CV 3/3; 3/64] START learning_rate=0.01, max_depth=3, n_estimators=1000.........\n",
      "[CV 3/3; 3/64] END learning_rate=0.01, max_depth=3, n_estimators=1000;, score=-9525.052 total time=   7.4s\n",
      "[CV 1/3; 4/64] START learning_rate=0.01, max_depth=3, n_estimators=2000.........\n",
      "[CV 1/3; 4/64] END learning_rate=0.01, max_depth=3, n_estimators=2000;, score=-9425.921 total time=  14.7s\n",
      "[CV 2/3; 4/64] START learning_rate=0.01, max_depth=3, n_estimators=2000.........\n",
      "[CV 2/3; 4/64] END learning_rate=0.01, max_depth=3, n_estimators=2000;, score=-9657.814 total time=  13.3s\n",
      "[CV 3/3; 4/64] START learning_rate=0.01, max_depth=3, n_estimators=2000.........\n",
      "[CV 3/3; 4/64] END learning_rate=0.01, max_depth=3, n_estimators=2000;, score=-9402.716 total time=  14.6s\n",
      "[CV 1/3; 5/64] START learning_rate=0.01, max_depth=5, n_estimators=100..........\n",
      "[CV 1/3; 5/64] END learning_rate=0.01, max_depth=5, n_estimators=100;, score=-10833.331 total time=   1.8s\n",
      "[CV 2/3; 5/64] START learning_rate=0.01, max_depth=5, n_estimators=100..........\n",
      "[CV 2/3; 5/64] END learning_rate=0.01, max_depth=5, n_estimators=100;, score=-11044.078 total time=   1.8s\n",
      "[CV 3/3; 5/64] START learning_rate=0.01, max_depth=5, n_estimators=100..........\n",
      "[CV 3/3; 5/64] END learning_rate=0.01, max_depth=5, n_estimators=100;, score=-10817.436 total time=   1.8s\n",
      "[CV 1/3; 6/64] START learning_rate=0.01, max_depth=5, n_estimators=500..........\n",
      "[CV 1/3; 6/64] END learning_rate=0.01, max_depth=5, n_estimators=500;, score=-9500.491 total time=   5.6s\n",
      "[CV 2/3; 6/64] START learning_rate=0.01, max_depth=5, n_estimators=500..........\n",
      "[CV 2/3; 6/64] END learning_rate=0.01, max_depth=5, n_estimators=500;, score=-9729.640 total time=   5.6s\n",
      "[CV 3/3; 6/64] START learning_rate=0.01, max_depth=5, n_estimators=500..........\n",
      "[CV 3/3; 6/64] END learning_rate=0.01, max_depth=5, n_estimators=500;, score=-9472.308 total time=   5.6s\n",
      "[CV 1/3; 7/64] START learning_rate=0.01, max_depth=5, n_estimators=1000.........\n",
      "[CV 1/3; 7/64] END learning_rate=0.01, max_depth=5, n_estimators=1000;, score=-9379.179 total time=  10.4s\n",
      "[CV 2/3; 7/64] START learning_rate=0.01, max_depth=5, n_estimators=1000.........\n",
      "[CV 2/3; 7/64] END learning_rate=0.01, max_depth=5, n_estimators=1000;, score=-9606.411 total time=   9.1s\n",
      "[CV 3/3; 7/64] START learning_rate=0.01, max_depth=5, n_estimators=1000.........\n",
      "[CV 3/3; 7/64] END learning_rate=0.01, max_depth=5, n_estimators=1000;, score=-9347.497 total time=   9.1s\n",
      "[CV 1/3; 8/64] START learning_rate=0.01, max_depth=5, n_estimators=2000.........\n",
      "[CV 1/3; 8/64] END learning_rate=0.01, max_depth=5, n_estimators=2000;, score=-9298.976 total time=  17.4s\n",
      "[CV 2/3; 8/64] START learning_rate=0.01, max_depth=5, n_estimators=2000.........\n",
      "[CV 2/3; 8/64] END learning_rate=0.01, max_depth=5, n_estimators=2000;, score=-9537.848 total time=  16.2s\n",
      "[CV 3/3; 8/64] START learning_rate=0.01, max_depth=5, n_estimators=2000.........\n",
      "[CV 3/3; 8/64] END learning_rate=0.01, max_depth=5, n_estimators=2000;, score=-9279.576 total time=  17.5s\n",
      "[CV 1/3; 9/64] START learning_rate=0.01, max_depth=8, n_estimators=100..........\n",
      "[CV 1/3; 9/64] END learning_rate=0.01, max_depth=8, n_estimators=100;, score=-10634.815 total time=   2.3s\n",
      "[CV 2/3; 9/64] START learning_rate=0.01, max_depth=8, n_estimators=100..........\n",
      "[CV 2/3; 9/64] END learning_rate=0.01, max_depth=8, n_estimators=100;, score=-10824.724 total time=   2.3s\n",
      "[CV 3/3; 9/64] START learning_rate=0.01, max_depth=8, n_estimators=100..........\n",
      "[CV 3/3; 9/64] END learning_rate=0.01, max_depth=8, n_estimators=100;, score=-10622.961 total time=   2.3s\n",
      "[CV 1/3; 10/64] START learning_rate=0.01, max_depth=8, n_estimators=500.........\n",
      "[CV 1/3; 10/64] END learning_rate=0.01, max_depth=8, n_estimators=500;, score=-9367.492 total time=   7.7s\n",
      "[CV 2/3; 10/64] START learning_rate=0.01, max_depth=8, n_estimators=500.........\n",
      "[CV 2/3; 10/64] END learning_rate=0.01, max_depth=8, n_estimators=500;, score=-9574.639 total time=   9.1s\n",
      "[CV 3/3; 10/64] START learning_rate=0.01, max_depth=8, n_estimators=500.........\n",
      "[CV 3/3; 10/64] END learning_rate=0.01, max_depth=8, n_estimators=500;, score=-9345.928 total time=   7.7s\n",
      "[CV 1/3; 11/64] START learning_rate=0.01, max_depth=8, n_estimators=1000........\n",
      "[CV 1/3; 11/64] END learning_rate=0.01, max_depth=8, n_estimators=1000;, score=-9299.353 total time=  12.6s\n",
      "[CV 2/3; 11/64] START learning_rate=0.01, max_depth=8, n_estimators=1000........\n",
      "[CV 2/3; 11/64] END learning_rate=0.01, max_depth=8, n_estimators=1000;, score=-9526.595 total time=  14.0s\n",
      "[CV 3/3; 11/64] START learning_rate=0.01, max_depth=8, n_estimators=1000........\n",
      "[CV 3/3; 11/64] END learning_rate=0.01, max_depth=8, n_estimators=1000;, score=-9299.569 total time=  12.6s\n",
      "[CV 1/3; 12/64] START learning_rate=0.01, max_depth=8, n_estimators=2000........\n",
      "[CV 1/3; 12/64] END learning_rate=0.01, max_depth=8, n_estimators=2000;, score=-9276.110 total time=  24.2s\n",
      "[CV 2/3; 12/64] START learning_rate=0.01, max_depth=8, n_estimators=2000........\n",
      "[CV 2/3; 12/64] END learning_rate=0.01, max_depth=8, n_estimators=2000;, score=-9517.141 total time=  22.9s\n",
      "[CV 3/3; 12/64] START learning_rate=0.01, max_depth=8, n_estimators=2000........\n",
      "[CV 3/3; 12/64] END learning_rate=0.01, max_depth=8, n_estimators=2000;, score=-9291.892 total time=  23.2s\n",
      "[CV 1/3; 13/64] START learning_rate=0.01, max_depth=10, n_estimators=100........\n",
      "[CV 1/3; 13/64] END learning_rate=0.01, max_depth=10, n_estimators=100;, score=-10571.759 total time=   2.9s\n",
      "[CV 2/3; 13/64] START learning_rate=0.01, max_depth=10, n_estimators=100........\n",
      "[CV 2/3; 13/64] END learning_rate=0.01, max_depth=10, n_estimators=100;, score=-10757.071 total time=   2.9s\n",
      "[CV 3/3; 13/64] START learning_rate=0.01, max_depth=10, n_estimators=100........\n",
      "[CV 3/3; 13/64] END learning_rate=0.01, max_depth=10, n_estimators=100;, score=-10564.161 total time=   4.3s\n",
      "[CV 1/3; 14/64] START learning_rate=0.01, max_depth=10, n_estimators=500........\n",
      "[CV 1/3; 14/64] END learning_rate=0.01, max_depth=10, n_estimators=500;, score=-9369.173 total time=  10.1s\n",
      "[CV 2/3; 14/64] START learning_rate=0.01, max_depth=10, n_estimators=500........\n",
      "[CV 2/3; 14/64] END learning_rate=0.01, max_depth=10, n_estimators=500;, score=-9580.364 total time=  10.1s\n",
      "[CV 3/3; 14/64] START learning_rate=0.01, max_depth=10, n_estimators=500........\n",
      "[CV 3/3; 14/64] END learning_rate=0.01, max_depth=10, n_estimators=500;, score=-9347.506 total time=  10.0s\n",
      "[CV 1/3; 15/64] START learning_rate=0.01, max_depth=10, n_estimators=1000.......\n",
      "[CV 1/3; 15/64] END learning_rate=0.01, max_depth=10, n_estimators=1000;, score=-9345.362 total time=  17.4s\n",
      "[CV 2/3; 15/64] START learning_rate=0.01, max_depth=10, n_estimators=1000.......\n",
      "[CV 2/3; 15/64] END learning_rate=0.01, max_depth=10, n_estimators=1000;, score=-9563.895 total time=  17.5s\n",
      "[CV 3/3; 15/64] START learning_rate=0.01, max_depth=10, n_estimators=1000.......\n",
      "[CV 3/3; 15/64] END learning_rate=0.01, max_depth=10, n_estimators=1000;, score=-9333.149 total time=  16.2s\n",
      "[CV 1/3; 16/64] START learning_rate=0.01, max_depth=10, n_estimators=2000.......\n",
      "[CV 1/3; 16/64] END learning_rate=0.01, max_depth=10, n_estimators=2000;, score=-9374.028 total time=  30.8s\n",
      "[CV 2/3; 16/64] START learning_rate=0.01, max_depth=10, n_estimators=2000.......\n",
      "[CV 2/3; 16/64] END learning_rate=0.01, max_depth=10, n_estimators=2000;, score=-9594.721 total time=  30.5s\n",
      "[CV 3/3; 16/64] START learning_rate=0.01, max_depth=10, n_estimators=2000.......\n",
      "[CV 3/3; 16/64] END learning_rate=0.01, max_depth=10, n_estimators=2000;, score=-9388.193 total time=  30.9s\n",
      "[CV 1/3; 17/64] START learning_rate=0.05, max_depth=3, n_estimators=100.........\n",
      "[CV 1/3; 17/64] END learning_rate=0.05, max_depth=3, n_estimators=100;, score=-9716.774 total time=   1.4s\n",
      "[CV 2/3; 17/64] START learning_rate=0.05, max_depth=3, n_estimators=100.........\n",
      "[CV 2/3; 17/64] END learning_rate=0.05, max_depth=3, n_estimators=100;, score=-9953.388 total time=   1.3s\n",
      "[CV 3/3; 17/64] START learning_rate=0.05, max_depth=3, n_estimators=100.........\n",
      "[CV 3/3; 17/64] END learning_rate=0.05, max_depth=3, n_estimators=100;, score=-9703.751 total time=   1.4s\n",
      "[CV 1/3; 18/64] START learning_rate=0.05, max_depth=3, n_estimators=500.........\n",
      "[CV 1/3; 18/64] END learning_rate=0.05, max_depth=3, n_estimators=500;, score=-9386.928 total time=   3.7s\n",
      "[CV 2/3; 18/64] START learning_rate=0.05, max_depth=3, n_estimators=500.........\n",
      "[CV 2/3; 18/64] END learning_rate=0.05, max_depth=3, n_estimators=500;, score=-9624.438 total time=   3.7s\n",
      "[CV 3/3; 18/64] START learning_rate=0.05, max_depth=3, n_estimators=500.........\n",
      "[CV 3/3; 18/64] END learning_rate=0.05, max_depth=3, n_estimators=500;, score=-9371.839 total time=   3.8s\n",
      "[CV 1/3; 19/64] START learning_rate=0.05, max_depth=3, n_estimators=1000........\n",
      "[CV 1/3; 19/64] END learning_rate=0.05, max_depth=3, n_estimators=1000;, score=-9296.989 total time=   8.1s\n",
      "[CV 2/3; 19/64] START learning_rate=0.05, max_depth=3, n_estimators=1000........\n",
      "[CV 2/3; 19/64] END learning_rate=0.05, max_depth=3, n_estimators=1000;, score=-9557.086 total time=   6.8s\n",
      "[CV 3/3; 19/64] START learning_rate=0.05, max_depth=3, n_estimators=1000........\n",
      "[CV 3/3; 19/64] END learning_rate=0.05, max_depth=3, n_estimators=1000;, score=-9302.061 total time=   6.8s\n",
      "[CV 1/3; 20/64] START learning_rate=0.05, max_depth=3, n_estimators=2000........\n",
      "[CV 1/3; 20/64] END learning_rate=0.05, max_depth=3, n_estimators=2000;, score=-9227.387 total time=  14.4s\n",
      "[CV 2/3; 20/64] START learning_rate=0.05, max_depth=3, n_estimators=2000........\n",
      "[CV 2/3; 20/64] END learning_rate=0.05, max_depth=3, n_estimators=2000;, score=-9519.368 total time=  13.2s\n",
      "[CV 3/3; 20/64] START learning_rate=0.05, max_depth=3, n_estimators=2000........\n",
      "[CV 3/3; 20/64] END learning_rate=0.05, max_depth=3, n_estimators=2000;, score=-9276.465 total time=  13.1s\n",
      "[CV 1/3; 21/64] START learning_rate=0.05, max_depth=5, n_estimators=100.........\n",
      "[CV 1/3; 21/64] END learning_rate=0.05, max_depth=5, n_estimators=100;, score=-9500.369 total time=   1.6s\n",
      "[CV 2/3; 21/64] START learning_rate=0.05, max_depth=5, n_estimators=100.........\n",
      "[CV 2/3; 21/64] END learning_rate=0.05, max_depth=5, n_estimators=100;, score=-9724.436 total time=   2.9s\n",
      "[CV 3/3; 21/64] START learning_rate=0.05, max_depth=5, n_estimators=100.........\n",
      "[CV 3/3; 21/64] END learning_rate=0.05, max_depth=5, n_estimators=100;, score=-9465.183 total time=   1.7s\n",
      "[CV 1/3; 22/64] START learning_rate=0.05, max_depth=5, n_estimators=500.........\n",
      "[CV 1/3; 22/64] END learning_rate=0.05, max_depth=5, n_estimators=500;, score=-9269.599 total time=   4.5s\n",
      "[CV 2/3; 22/64] START learning_rate=0.05, max_depth=5, n_estimators=500.........\n",
      "[CV 2/3; 22/64] END learning_rate=0.05, max_depth=5, n_estimators=500;, score=-9511.857 total time=   4.4s\n",
      "[CV 3/3; 22/64] START learning_rate=0.05, max_depth=5, n_estimators=500.........\n",
      "[CV 3/3; 22/64] END learning_rate=0.05, max_depth=5, n_estimators=500;, score=-9257.975 total time=   4.4s\n",
      "[CV 1/3; 23/64] START learning_rate=0.05, max_depth=5, n_estimators=1000........\n",
      "[CV 1/3; 23/64] END learning_rate=0.05, max_depth=5, n_estimators=1000;, score=-9240.735 total time=   8.3s\n",
      "[CV 2/3; 23/64] START learning_rate=0.05, max_depth=5, n_estimators=1000........\n",
      "[CV 2/3; 23/64] END learning_rate=0.05, max_depth=5, n_estimators=1000;, score=-9501.811 total time=   9.4s\n",
      "[CV 3/3; 23/64] START learning_rate=0.05, max_depth=5, n_estimators=1000........\n",
      "[CV 3/3; 23/64] END learning_rate=0.05, max_depth=5, n_estimators=1000;, score=-9253.283 total time=   8.2s\n",
      "[CV 1/3; 24/64] START learning_rate=0.05, max_depth=5, n_estimators=2000........\n",
      "[CV 1/3; 24/64] END learning_rate=0.05, max_depth=5, n_estimators=2000;, score=-9256.851 total time=  15.7s\n",
      "[CV 2/3; 24/64] START learning_rate=0.05, max_depth=5, n_estimators=2000........\n",
      "[CV 2/3; 24/64] END learning_rate=0.05, max_depth=5, n_estimators=2000;, score=-9542.113 total time=  17.0s\n",
      "[CV 3/3; 24/64] START learning_rate=0.05, max_depth=5, n_estimators=2000........\n",
      "[CV 3/3; 24/64] END learning_rate=0.05, max_depth=5, n_estimators=2000;, score=-9304.692 total time=  15.7s\n",
      "[CV 1/3; 25/64] START learning_rate=0.05, max_depth=8, n_estimators=100.........\n",
      "[CV 1/3; 25/64] END learning_rate=0.05, max_depth=8, n_estimators=100;, score=-9372.977 total time=   2.1s\n",
      "[CV 2/3; 25/64] START learning_rate=0.05, max_depth=8, n_estimators=100.........\n",
      "[CV 2/3; 25/64] END learning_rate=0.05, max_depth=8, n_estimators=100;, score=-9578.078 total time=   2.0s\n",
      "[CV 3/3; 25/64] START learning_rate=0.05, max_depth=8, n_estimators=100.........\n",
      "[CV 3/3; 25/64] END learning_rate=0.05, max_depth=8, n_estimators=100;, score=-9348.534 total time=   3.3s\n",
      "[CV 1/3; 26/64] START learning_rate=0.05, max_depth=8, n_estimators=500.........\n",
      "[CV 1/3; 26/64] END learning_rate=0.05, max_depth=8, n_estimators=500;, score=-9291.284 total time=   6.1s\n",
      "[CV 2/3; 26/64] START learning_rate=0.05, max_depth=8, n_estimators=500.........\n",
      "[CV 2/3; 26/64] END learning_rate=0.05, max_depth=8, n_estimators=500;, score=-9539.926 total time=   5.9s\n",
      "[CV 3/3; 26/64] START learning_rate=0.05, max_depth=8, n_estimators=500.........\n",
      "[CV 3/3; 26/64] END learning_rate=0.05, max_depth=8, n_estimators=500;, score=-9313.816 total time=   6.0s\n",
      "[CV 1/3; 27/64] START learning_rate=0.05, max_depth=8, n_estimators=1000........\n",
      "[CV 1/3; 27/64] END learning_rate=0.05, max_depth=8, n_estimators=1000;, score=-9377.684 total time=  11.3s\n",
      "[CV 2/3; 27/64] START learning_rate=0.05, max_depth=8, n_estimators=1000........\n",
      "[CV 2/3; 27/64] END learning_rate=0.05, max_depth=8, n_estimators=1000;, score=-9629.237 total time=  11.7s\n",
      "[CV 3/3; 27/64] START learning_rate=0.05, max_depth=8, n_estimators=1000........\n",
      "[CV 3/3; 27/64] END learning_rate=0.05, max_depth=8, n_estimators=1000;, score=-9442.885 total time=  11.1s\n",
      "[CV 1/3; 28/64] START learning_rate=0.05, max_depth=8, n_estimators=2000........\n",
      "[CV 1/3; 28/64] END learning_rate=0.05, max_depth=8, n_estimators=2000;, score=-9586.568 total time=  23.1s\n",
      "[CV 2/3; 28/64] START learning_rate=0.05, max_depth=8, n_estimators=2000........\n",
      "[CV 2/3; 28/64] END learning_rate=0.05, max_depth=8, n_estimators=2000;, score=-9848.622 total time=  22.7s\n",
      "[CV 3/3; 28/64] START learning_rate=0.05, max_depth=8, n_estimators=2000........\n",
      "[CV 3/3; 28/64] END learning_rate=0.05, max_depth=8, n_estimators=2000;, score=-9673.505 total time=  21.3s\n",
      "[CV 1/3; 29/64] START learning_rate=0.05, max_depth=10, n_estimators=100........\n",
      "[CV 1/3; 29/64] END learning_rate=0.05, max_depth=10, n_estimators=100;, score=-9371.561 total time=   2.4s\n",
      "[CV 2/3; 29/64] START learning_rate=0.05, max_depth=10, n_estimators=100........\n",
      "[CV 2/3; 29/64] END learning_rate=0.05, max_depth=10, n_estimators=100;, score=-9576.323 total time=   2.5s\n",
      "[CV 3/3; 29/64] START learning_rate=0.05, max_depth=10, n_estimators=100........\n",
      "[CV 3/3; 29/64] END learning_rate=0.05, max_depth=10, n_estimators=100;, score=-9351.088 total time=   3.7s\n",
      "[CV 1/3; 30/64] START learning_rate=0.05, max_depth=10, n_estimators=500........\n",
      "[CV 1/3; 30/64] END learning_rate=0.05, max_depth=10, n_estimators=500;, score=-9417.500 total time=   7.6s\n",
      "[CV 2/3; 30/64] START learning_rate=0.05, max_depth=10, n_estimators=500........\n",
      "[CV 2/3; 30/64] END learning_rate=0.05, max_depth=10, n_estimators=500;, score=-9634.952 total time=   7.4s\n",
      "[CV 3/3; 30/64] START learning_rate=0.05, max_depth=10, n_estimators=500........\n",
      "[CV 3/3; 30/64] END learning_rate=0.05, max_depth=10, n_estimators=500;, score=-9431.854 total time=   7.6s\n",
      "[CV 1/3; 31/64] START learning_rate=0.05, max_depth=10, n_estimators=1000.......\n",
      "[CV 1/3; 31/64] END learning_rate=0.05, max_depth=10, n_estimators=1000;, score=-9584.929 total time=  15.4s\n",
      "[CV 2/3; 31/64] START learning_rate=0.05, max_depth=10, n_estimators=1000.......\n",
      "[CV 2/3; 31/64] END learning_rate=0.05, max_depth=10, n_estimators=1000;, score=-9801.283 total time=  13.9s\n",
      "[CV 3/3; 31/64] START learning_rate=0.05, max_depth=10, n_estimators=1000.......\n",
      "[CV 3/3; 31/64] END learning_rate=0.05, max_depth=10, n_estimators=1000;, score=-9614.833 total time=  15.4s\n",
      "[CV 1/3; 32/64] START learning_rate=0.05, max_depth=10, n_estimators=2000.......\n",
      "[CV 1/3; 32/64] END learning_rate=0.05, max_depth=10, n_estimators=2000;, score=-9867.671 total time=  28.9s\n",
      "[CV 2/3; 32/64] START learning_rate=0.05, max_depth=10, n_estimators=2000.......\n",
      "[CV 2/3; 32/64] END learning_rate=0.05, max_depth=10, n_estimators=2000;, score=-10062.450 total time=  27.2s\n",
      "[CV 3/3; 32/64] START learning_rate=0.05, max_depth=10, n_estimators=2000.......\n",
      "[CV 3/3; 32/64] END learning_rate=0.05, max_depth=10, n_estimators=2000;, score=-9906.570 total time=  28.9s\n",
      "[CV 1/3; 33/64] START learning_rate=0.1, max_depth=3, n_estimators=100..........\n",
      "[CV 1/3; 33/64] END learning_rate=0.1, max_depth=3, n_estimators=100;, score=-9545.082 total time=   1.3s\n",
      "[CV 2/3; 33/64] START learning_rate=0.1, max_depth=3, n_estimators=100..........\n",
      "[CV 2/3; 33/64] END learning_rate=0.1, max_depth=3, n_estimators=100;, score=-9753.564 total time=   1.3s\n",
      "[CV 3/3; 33/64] START learning_rate=0.1, max_depth=3, n_estimators=100..........\n",
      "[CV 3/3; 33/64] END learning_rate=0.1, max_depth=3, n_estimators=100;, score=-9519.384 total time=   1.3s\n",
      "[CV 1/3; 34/64] START learning_rate=0.1, max_depth=3, n_estimators=500..........\n",
      "[CV 1/3; 34/64] END learning_rate=0.1, max_depth=3, n_estimators=500;, score=-9293.885 total time=   4.9s\n",
      "[CV 2/3; 34/64] START learning_rate=0.1, max_depth=3, n_estimators=500..........\n",
      "[CV 2/3; 34/64] END learning_rate=0.1, max_depth=3, n_estimators=500;, score=-9544.010 total time=   3.6s\n",
      "[CV 3/3; 34/64] START learning_rate=0.1, max_depth=3, n_estimators=500..........\n",
      "[CV 3/3; 34/64] END learning_rate=0.1, max_depth=3, n_estimators=500;, score=-9295.269 total time=   3.8s\n",
      "[CV 1/3; 35/64] START learning_rate=0.1, max_depth=3, n_estimators=1000.........\n",
      "[CV 1/3; 35/64] END learning_rate=0.1, max_depth=3, n_estimators=1000;, score=-9228.562 total time=   6.8s\n",
      "[CV 2/3; 35/64] START learning_rate=0.1, max_depth=3, n_estimators=1000.........\n",
      "[CV 2/3; 35/64] END learning_rate=0.1, max_depth=3, n_estimators=1000;, score=-9516.398 total time=   6.9s\n",
      "[CV 3/3; 35/64] START learning_rate=0.1, max_depth=3, n_estimators=1000.........\n",
      "[CV 3/3; 35/64] END learning_rate=0.1, max_depth=3, n_estimators=1000;, score=-9269.706 total time=   8.2s\n",
      "[CV 1/3; 36/64] START learning_rate=0.1, max_depth=3, n_estimators=2000.........\n",
      "[CV 1/3; 36/64] END learning_rate=0.1, max_depth=3, n_estimators=2000;, score=-9205.304 total time=  13.3s\n",
      "[CV 2/3; 36/64] START learning_rate=0.1, max_depth=3, n_estimators=2000.........\n",
      "[CV 2/3; 36/64] END learning_rate=0.1, max_depth=3, n_estimators=2000;, score=-9517.093 total time=  13.3s\n",
      "[CV 3/3; 36/64] START learning_rate=0.1, max_depth=3, n_estimators=2000.........\n",
      "[CV 3/3; 36/64] END learning_rate=0.1, max_depth=3, n_estimators=2000;, score=-9273.030 total time=  14.5s\n",
      "[CV 1/3; 37/64] START learning_rate=0.1, max_depth=5, n_estimators=100..........\n",
      "[CV 1/3; 37/64] END learning_rate=0.1, max_depth=5, n_estimators=100;, score=-9373.175 total time=   1.4s\n",
      "[CV 2/3; 37/64] START learning_rate=0.1, max_depth=5, n_estimators=100..........\n",
      "[CV 2/3; 37/64] END learning_rate=0.1, max_depth=5, n_estimators=100;, score=-9603.675 total time=   1.4s\n",
      "[CV 3/3; 37/64] START learning_rate=0.1, max_depth=5, n_estimators=100..........\n",
      "[CV 3/3; 37/64] END learning_rate=0.1, max_depth=5, n_estimators=100;, score=-9341.519 total time=   1.4s\n",
      "[CV 1/3; 38/64] START learning_rate=0.1, max_depth=5, n_estimators=500..........\n",
      "[CV 1/3; 38/64] END learning_rate=0.1, max_depth=5, n_estimators=500;, score=-9242.953 total time=   4.4s\n",
      "[CV 2/3; 38/64] START learning_rate=0.1, max_depth=5, n_estimators=500..........\n",
      "[CV 2/3; 38/64] END learning_rate=0.1, max_depth=5, n_estimators=500;, score=-9511.159 total time=   4.3s\n",
      "[CV 3/3; 38/64] START learning_rate=0.1, max_depth=5, n_estimators=500..........\n",
      "[CV 3/3; 38/64] END learning_rate=0.1, max_depth=5, n_estimators=500;, score=-9251.500 total time=   4.4s\n",
      "[CV 1/3; 39/64] START learning_rate=0.1, max_depth=5, n_estimators=1000.........\n",
      "[CV 1/3; 39/64] END learning_rate=0.1, max_depth=5, n_estimators=1000;, score=-9277.029 total time=   9.5s\n",
      "[CV 2/3; 39/64] START learning_rate=0.1, max_depth=5, n_estimators=1000.........\n",
      "[CV 2/3; 39/64] END learning_rate=0.1, max_depth=5, n_estimators=1000;, score=-9568.246 total time=   8.1s\n",
      "[CV 3/3; 39/64] START learning_rate=0.1, max_depth=5, n_estimators=1000.........\n",
      "[CV 3/3; 39/64] END learning_rate=0.1, max_depth=5, n_estimators=1000;, score=-9321.395 total time=   8.0s\n",
      "[CV 1/3; 40/64] START learning_rate=0.1, max_depth=5, n_estimators=2000.........\n",
      "[CV 1/3; 40/64] END learning_rate=0.1, max_depth=5, n_estimators=2000;, score=-9424.594 total time=  17.1s\n",
      "[CV 2/3; 40/64] START learning_rate=0.1, max_depth=5, n_estimators=2000.........\n",
      "[CV 2/3; 40/64] END learning_rate=0.1, max_depth=5, n_estimators=2000;, score=-9714.370 total time=  15.7s\n",
      "[CV 3/3; 40/64] START learning_rate=0.1, max_depth=5, n_estimators=2000.........\n",
      "[CV 3/3; 40/64] END learning_rate=0.1, max_depth=5, n_estimators=2000;, score=-9487.828 total time=  16.9s\n",
      "[CV 1/3; 41/64] START learning_rate=0.1, max_depth=8, n_estimators=100..........\n",
      "[CV 1/3; 41/64] END learning_rate=0.1, max_depth=8, n_estimators=100;, score=-9329.500 total time=   1.7s\n",
      "[CV 2/3; 41/64] START learning_rate=0.1, max_depth=8, n_estimators=100..........\n",
      "[CV 2/3; 41/64] END learning_rate=0.1, max_depth=8, n_estimators=100;, score=-9532.206 total time=   1.8s\n",
      "[CV 3/3; 41/64] START learning_rate=0.1, max_depth=8, n_estimators=100..........\n",
      "[CV 3/3; 41/64] END learning_rate=0.1, max_depth=8, n_estimators=100;, score=-9309.751 total time=   1.7s\n",
      "[CV 1/3; 42/64] START learning_rate=0.1, max_depth=8, n_estimators=500..........\n",
      "[CV 1/3; 42/64] END learning_rate=0.1, max_depth=8, n_estimators=500;, score=-9414.177 total time=   5.8s\n",
      "[CV 2/3; 42/64] START learning_rate=0.1, max_depth=8, n_estimators=500..........\n",
      "[CV 2/3; 42/64] END learning_rate=0.1, max_depth=8, n_estimators=500;, score=-9643.525 total time=   5.9s\n",
      "[CV 3/3; 42/64] START learning_rate=0.1, max_depth=8, n_estimators=500..........\n",
      "[CV 3/3; 42/64] END learning_rate=0.1, max_depth=8, n_estimators=500;, score=-9450.503 total time=   5.8s\n",
      "[CV 1/3; 43/64] START learning_rate=0.1, max_depth=8, n_estimators=1000.........\n",
      "[CV 1/3; 43/64] END learning_rate=0.1, max_depth=8, n_estimators=1000;, score=-9621.600 total time=  12.4s\n",
      "[CV 2/3; 43/64] START learning_rate=0.1, max_depth=8, n_estimators=1000.........\n",
      "[CV 2/3; 43/64] END learning_rate=0.1, max_depth=8, n_estimators=1000;, score=-9870.253 total time=  11.1s\n",
      "[CV 3/3; 43/64] START learning_rate=0.1, max_depth=8, n_estimators=1000.........\n",
      "[CV 3/3; 43/64] END learning_rate=0.1, max_depth=8, n_estimators=1000;, score=-9692.062 total time=  12.4s\n",
      "[CV 1/3; 44/64] START learning_rate=0.1, max_depth=8, n_estimators=2000.........\n",
      "[CV 1/3; 44/64] END learning_rate=0.1, max_depth=8, n_estimators=2000;, score=-9951.549 total time=  22.0s\n",
      "[CV 2/3; 44/64] START learning_rate=0.1, max_depth=8, n_estimators=2000.........\n",
      "[CV 2/3; 44/64] END learning_rate=0.1, max_depth=8, n_estimators=2000;, score=-10170.558 total time=  23.4s\n",
      "[CV 3/3; 44/64] START learning_rate=0.1, max_depth=8, n_estimators=2000.........\n",
      "[CV 3/3; 44/64] END learning_rate=0.1, max_depth=8, n_estimators=2000;, score=-10050.630 total time=  23.2s\n",
      "[CV 1/3; 45/64] START learning_rate=0.1, max_depth=10, n_estimators=100.........\n",
      "[CV 1/3; 45/64] END learning_rate=0.1, max_depth=10, n_estimators=100;, score=-9353.116 total time=   2.1s\n",
      "[CV 2/3; 45/64] START learning_rate=0.1, max_depth=10, n_estimators=100.........\n",
      "[CV 2/3; 45/64] END learning_rate=0.1, max_depth=10, n_estimators=100;, score=-9584.027 total time=   2.1s\n",
      "[CV 3/3; 45/64] START learning_rate=0.1, max_depth=10, n_estimators=100.........\n",
      "[CV 3/3; 45/64] END learning_rate=0.1, max_depth=10, n_estimators=100;, score=-9341.618 total time=   2.2s\n",
      "[CV 1/3; 46/64] START learning_rate=0.1, max_depth=10, n_estimators=500.........\n",
      "[CV 1/3; 46/64] END learning_rate=0.1, max_depth=10, n_estimators=500;, score=-9605.177 total time=   7.2s\n",
      "[CV 2/3; 46/64] START learning_rate=0.1, max_depth=10, n_estimators=500.........\n",
      "[CV 2/3; 46/64] END learning_rate=0.1, max_depth=10, n_estimators=500;, score=-9841.636 total time=   7.3s\n",
      "[CV 3/3; 46/64] START learning_rate=0.1, max_depth=10, n_estimators=500.........\n",
      "[CV 3/3; 46/64] END learning_rate=0.1, max_depth=10, n_estimators=500;, score=-9637.274 total time=   8.6s\n",
      "[CV 1/3; 47/64] START learning_rate=0.1, max_depth=10, n_estimators=1000........\n",
      "[CV 1/3; 47/64] END learning_rate=0.1, max_depth=10, n_estimators=1000;, score=-9895.422 total time=  14.1s\n",
      "[CV 2/3; 47/64] START learning_rate=0.1, max_depth=10, n_estimators=1000........\n",
      "[CV 2/3; 47/64] END learning_rate=0.1, max_depth=10, n_estimators=1000;, score=-10103.368 total time=  15.5s\n",
      "[CV 3/3; 47/64] START learning_rate=0.1, max_depth=10, n_estimators=1000........\n",
      "[CV 3/3; 47/64] END learning_rate=0.1, max_depth=10, n_estimators=1000;, score=-9964.995 total time=  14.3s\n",
      "[CV 1/3; 48/64] START learning_rate=0.1, max_depth=10, n_estimators=2000........\n",
      "[CV 1/3; 48/64] END learning_rate=0.1, max_depth=10, n_estimators=2000;, score=-10217.717 total time=  30.0s\n",
      "[CV 2/3; 48/64] START learning_rate=0.1, max_depth=10, n_estimators=2000........\n",
      "[CV 2/3; 48/64] END learning_rate=0.1, max_depth=10, n_estimators=2000;, score=-10391.782 total time=  29.8s\n",
      "[CV 3/3; 48/64] START learning_rate=0.1, max_depth=10, n_estimators=2000........\n",
      "[CV 3/3; 48/64] END learning_rate=0.1, max_depth=10, n_estimators=2000;, score=-10278.387 total time=  29.8s\n",
      "[CV 1/3; 49/64] START learning_rate=0.15, max_depth=3, n_estimators=100.........\n",
      "[CV 1/3; 49/64] END learning_rate=0.15, max_depth=3, n_estimators=100;, score=-9465.403 total time=   1.2s\n",
      "[CV 2/3; 49/64] START learning_rate=0.15, max_depth=3, n_estimators=100.........\n",
      "[CV 2/3; 49/64] END learning_rate=0.15, max_depth=3, n_estimators=100;, score=-9691.423 total time=   1.3s\n",
      "[CV 3/3; 49/64] START learning_rate=0.15, max_depth=3, n_estimators=100.........\n",
      "[CV 3/3; 49/64] END learning_rate=0.15, max_depth=3, n_estimators=100;, score=-9437.597 total time=   1.2s\n",
      "[CV 1/3; 50/64] START learning_rate=0.15, max_depth=3, n_estimators=500.........\n",
      "[CV 1/3; 50/64] END learning_rate=0.15, max_depth=3, n_estimators=500;, score=-9235.596 total time=   3.6s\n",
      "[CV 2/3; 50/64] START learning_rate=0.15, max_depth=3, n_estimators=500.........\n",
      "[CV 2/3; 50/64] END learning_rate=0.15, max_depth=3, n_estimators=500;, score=-9523.378 total time=   3.6s\n",
      "[CV 3/3; 50/64] START learning_rate=0.15, max_depth=3, n_estimators=500.........\n",
      "[CV 3/3; 50/64] END learning_rate=0.15, max_depth=3, n_estimators=500;, score=-9262.602 total time=   3.7s\n",
      "[CV 1/3; 51/64] START learning_rate=0.15, max_depth=3, n_estimators=1000........\n",
      "[CV 1/3; 51/64] END learning_rate=0.15, max_depth=3, n_estimators=1000;, score=-9197.370 total time=   8.2s\n",
      "[CV 2/3; 51/64] START learning_rate=0.15, max_depth=3, n_estimators=1000........\n",
      "[CV 2/3; 51/64] END learning_rate=0.15, max_depth=3, n_estimators=1000;, score=-9515.737 total time=   6.8s\n",
      "[CV 3/3; 51/64] START learning_rate=0.15, max_depth=3, n_estimators=1000........\n",
      "[CV 3/3; 51/64] END learning_rate=0.15, max_depth=3, n_estimators=1000;, score=-9258.448 total time=   6.9s\n",
      "[CV 1/3; 52/64] START learning_rate=0.15, max_depth=3, n_estimators=2000........\n",
      "[CV 1/3; 52/64] END learning_rate=0.15, max_depth=3, n_estimators=2000;, score=-9222.413 total time=  13.5s\n",
      "[CV 2/3; 52/64] START learning_rate=0.15, max_depth=3, n_estimators=2000........\n",
      "[CV 2/3; 52/64] END learning_rate=0.15, max_depth=3, n_estimators=2000;, score=-9543.947 total time=  14.7s\n",
      "[CV 3/3; 52/64] START learning_rate=0.15, max_depth=3, n_estimators=2000........\n",
      "[CV 3/3; 52/64] END learning_rate=0.15, max_depth=3, n_estimators=2000;, score=-9296.756 total time=  13.3s\n",
      "[CV 1/3; 53/64] START learning_rate=0.15, max_depth=5, n_estimators=100.........\n",
      "[CV 1/3; 53/64] END learning_rate=0.15, max_depth=5, n_estimators=100;, score=-9320.251 total time=   1.4s\n",
      "[CV 2/3; 53/64] START learning_rate=0.15, max_depth=5, n_estimators=100.........\n",
      "[CV 2/3; 53/64] END learning_rate=0.15, max_depth=5, n_estimators=100;, score=-9567.689 total time=   1.3s\n",
      "[CV 3/3; 53/64] START learning_rate=0.15, max_depth=5, n_estimators=100.........\n",
      "[CV 3/3; 53/64] END learning_rate=0.15, max_depth=5, n_estimators=100;, score=-9303.107 total time=   1.4s\n",
      "[CV 1/3; 54/64] START learning_rate=0.15, max_depth=5, n_estimators=500.........\n",
      "[CV 1/3; 54/64] END learning_rate=0.15, max_depth=5, n_estimators=500;, score=-9264.111 total time=   5.6s\n",
      "[CV 2/3; 54/64] START learning_rate=0.15, max_depth=5, n_estimators=500.........\n",
      "[CV 2/3; 54/64] END learning_rate=0.15, max_depth=5, n_estimators=500;, score=-9546.554 total time=   4.4s\n",
      "[CV 3/3; 54/64] START learning_rate=0.15, max_depth=5, n_estimators=500.........\n",
      "[CV 3/3; 54/64] END learning_rate=0.15, max_depth=5, n_estimators=500;, score=-9303.944 total time=   4.3s\n",
      "[CV 1/3; 55/64] START learning_rate=0.15, max_depth=5, n_estimators=1000........\n",
      "[CV 1/3; 55/64] END learning_rate=0.15, max_depth=5, n_estimators=1000;, score=-9352.643 total time=   8.1s\n",
      "[CV 2/3; 55/64] START learning_rate=0.15, max_depth=5, n_estimators=1000........\n",
      "[CV 2/3; 55/64] END learning_rate=0.15, max_depth=5, n_estimators=1000;, score=-9649.671 total time=   8.2s\n",
      "[CV 3/3; 55/64] START learning_rate=0.15, max_depth=5, n_estimators=1000........\n",
      "[CV 3/3; 55/64] END learning_rate=0.15, max_depth=5, n_estimators=1000;, score=-9417.972 total time=   9.4s\n",
      "[CV 1/3; 56/64] START learning_rate=0.15, max_depth=5, n_estimators=2000........\n",
      "[CV 1/3; 56/64] END learning_rate=0.15, max_depth=5, n_estimators=2000;, score=-9560.238 total time=  15.6s\n",
      "[CV 2/3; 56/64] START learning_rate=0.15, max_depth=5, n_estimators=2000........\n",
      "[CV 2/3; 56/64] END learning_rate=0.15, max_depth=5, n_estimators=2000;, score=-9832.241 total time=  17.0s\n",
      "[CV 3/3; 56/64] START learning_rate=0.15, max_depth=5, n_estimators=2000........\n",
      "[CV 3/3; 56/64] END learning_rate=0.15, max_depth=5, n_estimators=2000;, score=-9663.664 total time=  15.7s\n",
      "[CV 1/3; 57/64] START learning_rate=0.15, max_depth=8, n_estimators=100.........\n",
      "[CV 1/3; 57/64] END learning_rate=0.15, max_depth=8, n_estimators=100;, score=-9300.152 total time=   1.8s\n",
      "[CV 2/3; 57/64] START learning_rate=0.15, max_depth=8, n_estimators=100.........\n",
      "[CV 2/3; 57/64] END learning_rate=0.15, max_depth=8, n_estimators=100;, score=-9556.818 total time=   1.7s\n",
      "[CV 3/3; 57/64] START learning_rate=0.15, max_depth=8, n_estimators=100.........\n",
      "[CV 3/3; 57/64] END learning_rate=0.15, max_depth=8, n_estimators=100;, score=-9326.003 total time=   1.7s\n",
      "[CV 1/3; 58/64] START learning_rate=0.15, max_depth=8, n_estimators=500.........\n",
      "[CV 1/3; 58/64] END learning_rate=0.15, max_depth=8, n_estimators=500;, score=-9509.913 total time=   7.1s\n",
      "[CV 2/3; 58/64] START learning_rate=0.15, max_depth=8, n_estimators=500.........\n",
      "[CV 2/3; 58/64] END learning_rate=0.15, max_depth=8, n_estimators=500;, score=-9795.773 total time=   5.8s\n",
      "[CV 3/3; 58/64] START learning_rate=0.15, max_depth=8, n_estimators=500.........\n",
      "[CV 3/3; 58/64] END learning_rate=0.15, max_depth=8, n_estimators=500;, score=-9614.065 total time=   5.9s\n",
      "[CV 1/3; 59/64] START learning_rate=0.15, max_depth=8, n_estimators=1000........\n",
      "[CV 1/3; 59/64] END learning_rate=0.15, max_depth=8, n_estimators=1000;, score=-9807.055 total time=  11.2s\n",
      "[CV 2/3; 59/64] START learning_rate=0.15, max_depth=8, n_estimators=1000........\n",
      "[CV 2/3; 59/64] END learning_rate=0.15, max_depth=8, n_estimators=1000;, score=-10057.195 total time=  12.5s\n",
      "[CV 3/3; 59/64] START learning_rate=0.15, max_depth=8, n_estimators=1000........\n",
      "[CV 3/3; 59/64] END learning_rate=0.15, max_depth=8, n_estimators=1000;, score=-9934.761 total time=  11.1s\n",
      "[CV 1/3; 60/64] START learning_rate=0.15, max_depth=8, n_estimators=2000........\n",
      "[CV 1/3; 60/64] END learning_rate=0.15, max_depth=8, n_estimators=2000;, score=-10172.758 total time=  23.8s\n",
      "[CV 2/3; 60/64] START learning_rate=0.15, max_depth=8, n_estimators=2000........\n",
      "[CV 2/3; 60/64] END learning_rate=0.15, max_depth=8, n_estimators=2000;, score=-10369.261 total time=  22.3s\n",
      "[CV 3/3; 60/64] START learning_rate=0.15, max_depth=8, n_estimators=2000........\n",
      "[CV 3/3; 60/64] END learning_rate=0.15, max_depth=8, n_estimators=2000;, score=-10317.831 total time=  23.7s\n",
      "[CV 1/3; 61/64] START learning_rate=0.15, max_depth=10, n_estimators=100........\n",
      "[CV 1/3; 61/64] END learning_rate=0.15, max_depth=10, n_estimators=100;, score=-9407.534 total time=   2.0s\n",
      "[CV 2/3; 61/64] START learning_rate=0.15, max_depth=10, n_estimators=100........\n",
      "[CV 2/3; 61/64] END learning_rate=0.15, max_depth=10, n_estimators=100;, score=-9601.166 total time=   2.1s\n",
      "[CV 3/3; 61/64] START learning_rate=0.15, max_depth=10, n_estimators=100........\n",
      "[CV 3/3; 61/64] END learning_rate=0.15, max_depth=10, n_estimators=100;, score=-9415.184 total time=   2.0s\n",
      "[CV 1/3; 62/64] START learning_rate=0.15, max_depth=10, n_estimators=500........\n",
      "[CV 1/3; 62/64] END learning_rate=0.15, max_depth=10, n_estimators=500;, score=-9815.655 total time=   8.8s\n",
      "[CV 2/3; 62/64] START learning_rate=0.15, max_depth=10, n_estimators=500........\n",
      "[CV 2/3; 62/64] END learning_rate=0.15, max_depth=10, n_estimators=500;, score=-10029.566 total time=   7.4s\n",
      "[CV 3/3; 62/64] START learning_rate=0.15, max_depth=10, n_estimators=500........\n",
      "[CV 3/3; 62/64] END learning_rate=0.15, max_depth=10, n_estimators=500;, score=-9864.144 total time=   7.3s\n",
      "[CV 1/3; 63/64] START learning_rate=0.15, max_depth=10, n_estimators=1000.......\n",
      "[CV 1/3; 63/64] END learning_rate=0.15, max_depth=10, n_estimators=1000;, score=-10119.146 total time=  15.9s\n",
      "[CV 2/3; 63/64] START learning_rate=0.15, max_depth=10, n_estimators=1000.......\n",
      "[CV 2/3; 63/64] END learning_rate=0.15, max_depth=10, n_estimators=1000;, score=-10325.405 total time=  14.6s\n",
      "[CV 3/3; 63/64] START learning_rate=0.15, max_depth=10, n_estimators=1000.......\n",
      "[CV 3/3; 63/64] END learning_rate=0.15, max_depth=10, n_estimators=1000;, score=-10175.981 total time=  15.8s\n",
      "[CV 1/3; 64/64] START learning_rate=0.15, max_depth=10, n_estimators=2000.......\n",
      "[CV 1/3; 64/64] END learning_rate=0.15, max_depth=10, n_estimators=2000;, score=-10367.336 total time=  30.0s\n",
      "[CV 2/3; 64/64] START learning_rate=0.15, max_depth=10, n_estimators=2000.......\n",
      "[CV 2/3; 64/64] END learning_rate=0.15, max_depth=10, n_estimators=2000;, score=-10549.201 total time=  29.4s\n",
      "[CV 3/3; 64/64] START learning_rate=0.15, max_depth=10, n_estimators=2000.......\n",
      "[CV 3/3; 64/64] END learning_rate=0.15, max_depth=10, n_estimators=2000;, score=-10406.312 total time=  30.8s\n",
      "XGBRegressor(base_score=None, booster=None, callbacks=None,\n",
      "             colsample_bylevel=None, colsample_bynode=None,\n",
      "             colsample_bytree=None, device=None, early_stopping_rounds=None,\n",
      "             enable_categorical=False, eval_metric=None, feature_types=None,\n",
      "             gamma=None, grow_policy=None, importance_type=None,\n",
      "             interaction_constraints=None, learning_rate=0.15, max_bin=None,\n",
      "             max_cat_threshold=None, max_cat_to_onehot=None,\n",
      "             max_delta_step=None, max_depth=3, max_leaves=None,\n",
      "             min_child_weight=None, missing=nan, monotone_constraints=None,\n",
      "             multi_strategy=None, n_estimators=1000, n_jobs=None,\n",
      "             num_parallel_tree=None, random_state=None, ...)\n",
      "-9323.851691516988\n",
      "{'learning_rate': 0.15, 'max_depth': 3, 'n_estimators': 1000}\n",
      "CPU times: user 1h 59min 50s, sys: 20.8 s, total: 2h 11s\n",
      "Wall time: 31min 47s\n"
     ]
    }
   ],
   "source": [
    "%%time\n",
    "\n",
    "from sklearn.model_selection import GridSearchCV\n",
    "\n",
    "param_grid={'n_estimators':[100,500,1000,2000],\n",
    "            'max_depth':[3,5,8,10],\n",
    "            'learning_rate':[0.01,0.05,0.1,0.15]}\n",
    "\n",
    "grid_search_cv=GridSearchCV(estimator=XGBRegressor(),\n",
    "                         param_grid=param_grid,\n",
    "                         scoring='neg_root_mean_squared_error',\n",
    "                         cv=3,\n",
    "                         verbose=10)\n",
    "\n",
    "grid_search_cv.fit(X,y)\n",
    "\n",
    "best_model=grid_search_cv.best_estimator_\n",
    "print(grid_search_cv.best_estimator_)\n",
    "print(grid_search_cv.best_score_)\n",
    "print(grid_search_cv.best_params_)"
   ]
  },
  {
   "cell_type": "code",
   "execution_count": 47,
   "id": "4b30148b",
   "metadata": {
    "execution": {
     "iopub.execute_input": "2024-06-22T07:03:22.776587Z",
     "iopub.status.busy": "2024-06-22T07:03:22.776189Z",
     "iopub.status.idle": "2024-06-22T07:03:23.475301Z",
     "shell.execute_reply": "2024-06-22T07:03:23.474417Z"
    },
    "papermill": {
     "duration": 0.734053,
     "end_time": "2024-06-22T07:03:23.477634",
     "exception": false,
     "start_time": "2024-06-22T07:03:22.743581",
     "status": "completed"
    },
    "tags": []
   },
   "outputs": [],
   "source": [
    "train_prediction=best_model.predict(X)"
   ]
  },
  {
   "cell_type": "code",
   "execution_count": 48,
   "id": "e4a3115f",
   "metadata": {
    "execution": {
     "iopub.execute_input": "2024-06-22T07:03:23.542280Z",
     "iopub.status.busy": "2024-06-22T07:03:23.541864Z",
     "iopub.status.idle": "2024-06-22T07:03:23.551918Z",
     "shell.execute_reply": "2024-06-22T07:03:23.550474Z"
    },
    "papermill": {
     "duration": 0.045123,
     "end_time": "2024-06-22T07:03:23.554208",
     "exception": false,
     "start_time": "2024-06-22T07:03:23.509085",
     "status": "completed"
    },
    "tags": []
   },
   "outputs": [
    {
     "name": "stdout",
     "output_type": "stream",
     "text": [
      "{'R2_train': 0.49807498968052655, 'MAE_train': 6503.399951184165, 'RMSE_train': 8775.029974313033}\n"
     ]
    }
   ],
   "source": [
    "from sklearn import metrics\n",
    "\n",
    "r2_train=metrics.r2_score(train_prediction,y)\n",
    "mae_train=metrics.mean_absolute_error(train_prediction,y)\n",
    "rmse_train=metrics.mean_squared_error(train_prediction,y,squared=False)\n",
    "train_scores={'R2_train':r2_train,'MAE_train':mae_train,'RMSE_train':rmse_train}\n",
    "print(train_scores)"
   ]
  },
  {
   "cell_type": "markdown",
   "id": "5a6ab9f3",
   "metadata": {
    "papermill": {
     "duration": 0.031597,
     "end_time": "2024-06-22T07:03:23.618448",
     "exception": false,
     "start_time": "2024-06-22T07:03:23.586851",
     "status": "completed"
    },
    "tags": []
   },
   "source": [
    "# Validation with test data"
   ]
  },
  {
   "cell_type": "code",
   "execution_count": 49,
   "id": "100a7c48",
   "metadata": {
    "execution": {
     "iopub.execute_input": "2024-06-22T07:03:23.683493Z",
     "iopub.status.busy": "2024-06-22T07:03:23.683027Z",
     "iopub.status.idle": "2024-06-22T07:03:24.213698Z",
     "shell.execute_reply": "2024-06-22T07:03:24.212716Z"
    },
    "papermill": {
     "duration": 0.565996,
     "end_time": "2024-06-22T07:03:24.216113",
     "exception": false,
     "start_time": "2024-06-22T07:03:23.650117",
     "status": "completed"
    },
    "tags": []
   },
   "outputs": [
    {
     "data": {
      "text/plain": [
       "array([19327.482, 23039.201, 37348.49 , ..., 12050.131, 44904.906,\n",
       "       13408.822], dtype=float32)"
      ]
     },
     "execution_count": 49,
     "metadata": {},
     "output_type": "execute_result"
    }
   ],
   "source": [
    "#make predictions test\n",
    "test_prediction=best_model.predict(X_test)\n",
    "test_prediction"
   ]
  },
  {
   "cell_type": "code",
   "execution_count": 50,
   "id": "83c3632c",
   "metadata": {
    "execution": {
     "iopub.execute_input": "2024-06-22T07:03:24.283020Z",
     "iopub.status.busy": "2024-06-22T07:03:24.282629Z",
     "iopub.status.idle": "2024-06-22T07:03:24.288757Z",
     "shell.execute_reply": "2024-06-22T07:03:24.287753Z"
    },
    "papermill": {
     "duration": 0.041831,
     "end_time": "2024-06-22T07:03:24.290952",
     "exception": false,
     "start_time": "2024-06-22T07:03:24.249121",
     "status": "completed"
    },
    "tags": []
   },
   "outputs": [],
   "source": [
    "# Replace 'Id' with the actual ID column name in X_test\n",
    "\n",
    "# Create a DataFrame with your predictions\n",
    "# Assuming your test set has an index or an ID column, include that as well\n",
    "results = pd.DataFrame({\n",
    "    'id': X_test.index,  # Replace 'Id' with the actual ID column if available\n",
    "    'Predicted_Price': test_prediction\n",
    "})\n",
    "\n"
   ]
  },
  {
   "cell_type": "code",
   "execution_count": 51,
   "id": "6c6cd809",
   "metadata": {
    "execution": {
     "iopub.execute_input": "2024-06-22T07:03:24.355980Z",
     "iopub.status.busy": "2024-06-22T07:03:24.355586Z",
     "iopub.status.idle": "2024-06-22T07:03:24.367658Z",
     "shell.execute_reply": "2024-06-22T07:03:24.366623Z"
    },
    "papermill": {
     "duration": 0.04766,
     "end_time": "2024-06-22T07:03:24.369905",
     "exception": false,
     "start_time": "2024-06-22T07:03:24.322245",
     "status": "completed"
    },
    "tags": []
   },
   "outputs": [
    {
     "data": {
      "text/html": [
       "<div>\n",
       "<style scoped>\n",
       "    .dataframe tbody tr th:only-of-type {\n",
       "        vertical-align: middle;\n",
       "    }\n",
       "\n",
       "    .dataframe tbody tr th {\n",
       "        vertical-align: top;\n",
       "    }\n",
       "\n",
       "    .dataframe thead th {\n",
       "        text-align: right;\n",
       "    }\n",
       "</style>\n",
       "<table border=\"1\" class=\"dataframe\">\n",
       "  <thead>\n",
       "    <tr style=\"text-align: right;\">\n",
       "      <th></th>\n",
       "      <th>Predicted_Price</th>\n",
       "    </tr>\n",
       "    <tr>\n",
       "      <th>id</th>\n",
       "      <th></th>\n",
       "    </tr>\n",
       "  </thead>\n",
       "  <tbody>\n",
       "    <tr>\n",
       "      <th>54273</th>\n",
       "      <td>19327.482422</td>\n",
       "    </tr>\n",
       "    <tr>\n",
       "      <th>54274</th>\n",
       "      <td>23039.201172</td>\n",
       "    </tr>\n",
       "    <tr>\n",
       "      <th>54275</th>\n",
       "      <td>37348.488281</td>\n",
       "    </tr>\n",
       "    <tr>\n",
       "      <th>54276</th>\n",
       "      <td>40378.800781</td>\n",
       "    </tr>\n",
       "    <tr>\n",
       "      <th>54277</th>\n",
       "      <td>32035.318359</td>\n",
       "    </tr>\n",
       "    <tr>\n",
       "      <th>...</th>\n",
       "      <td>...</td>\n",
       "    </tr>\n",
       "    <tr>\n",
       "      <th>90451</th>\n",
       "      <td>44871.171875</td>\n",
       "    </tr>\n",
       "    <tr>\n",
       "      <th>90452</th>\n",
       "      <td>7727.449219</td>\n",
       "    </tr>\n",
       "    <tr>\n",
       "      <th>90453</th>\n",
       "      <td>12050.130859</td>\n",
       "    </tr>\n",
       "    <tr>\n",
       "      <th>90454</th>\n",
       "      <td>44904.906250</td>\n",
       "    </tr>\n",
       "    <tr>\n",
       "      <th>90455</th>\n",
       "      <td>13408.822266</td>\n",
       "    </tr>\n",
       "  </tbody>\n",
       "</table>\n",
       "<p>36183 rows × 1 columns</p>\n",
       "</div>"
      ],
      "text/plain": [
       "       Predicted_Price\n",
       "id                    \n",
       "54273     19327.482422\n",
       "54274     23039.201172\n",
       "54275     37348.488281\n",
       "54276     40378.800781\n",
       "54277     32035.318359\n",
       "...                ...\n",
       "90451     44871.171875\n",
       "90452      7727.449219\n",
       "90453     12050.130859\n",
       "90454     44904.906250\n",
       "90455     13408.822266\n",
       "\n",
       "[36183 rows x 1 columns]"
      ]
     },
     "execution_count": 51,
     "metadata": {},
     "output_type": "execute_result"
    }
   ],
   "source": [
    "# Set 'Id' column as index\n",
    "results.set_index('id', inplace=True)\n",
    "results"
   ]
  },
  {
   "cell_type": "code",
   "execution_count": 52,
   "id": "1ec1a127",
   "metadata": {
    "execution": {
     "iopub.execute_input": "2024-06-22T07:03:24.436075Z",
     "iopub.status.busy": "2024-06-22T07:03:24.435373Z",
     "iopub.status.idle": "2024-06-22T07:03:24.495195Z",
     "shell.execute_reply": "2024-06-22T07:03:24.493984Z"
    },
    "papermill": {
     "duration": 0.096068,
     "end_time": "2024-06-22T07:03:24.497719",
     "exception": false,
     "start_time": "2024-06-22T07:03:24.401651",
     "status": "completed"
    },
    "tags": []
   },
   "outputs": [],
   "source": [
    "# Save to CSV without the default index\n",
    "results.to_csv('test_predictions.csv')"
   ]
  }
 ],
 "metadata": {
  "kaggle": {
   "accelerator": "none",
   "dataSources": [
    {
     "datasetId": 5130497,
     "sourceId": 8579062,
     "sourceType": "datasetVersion"
    }
   ],
   "dockerImageVersionId": 30715,
   "isGpuEnabled": false,
   "isInternetEnabled": true,
   "language": "python",
   "sourceType": "notebook"
  },
  "kernelspec": {
   "display_name": "Python 3",
   "language": "python",
   "name": "python3"
  },
  "language_info": {
   "codemirror_mode": {
    "name": "ipython",
    "version": 3
   },
   "file_extension": ".py",
   "mimetype": "text/x-python",
   "name": "python",
   "nbconvert_exporter": "python",
   "pygments_lexer": "ipython3",
   "version": "3.10.13"
  },
  "papermill": {
   "default_parameters": {},
   "duration": 1935.173108,
   "end_time": "2024-06-22T07:03:25.258161",
   "environment_variables": {},
   "exception": null,
   "input_path": "__notebook__.ipynb",
   "output_path": "__notebook__.ipynb",
   "parameters": {},
   "start_time": "2024-06-22T06:31:10.085053",
   "version": "2.5.0"
  }
 },
 "nbformat": 4,
 "nbformat_minor": 5
}
