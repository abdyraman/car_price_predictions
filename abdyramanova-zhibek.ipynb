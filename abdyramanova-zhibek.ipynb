{
 "cells": [
  {
   "cell_type": "code",
   "execution_count": 1,
   "id": "09b332fd",
   "metadata": {
    "_cell_guid": "b1076dfc-b9ad-4769-8c92-a6c4dae69d19",
    "_uuid": "8f2839f25d086af736a60e9eeb907d3b93b6e0e5",
    "execution": {
     "iopub.execute_input": "2024-06-15T09:43:50.298333Z",
     "iopub.status.busy": "2024-06-15T09:43:50.297578Z",
     "iopub.status.idle": "2024-06-15T09:43:52.531491Z",
     "shell.execute_reply": "2024-06-15T09:43:52.530139Z"
    },
    "papermill": {
     "duration": 2.249272,
     "end_time": "2024-06-15T09:43:52.533940",
     "exception": false,
     "start_time": "2024-06-15T09:43:50.284668",
     "status": "completed"
    },
    "tags": []
   },
   "outputs": [
    {
     "name": "stdout",
     "output_type": "stream",
     "text": [
      "/kaggle/input/kagglexfellowship/kagglex-cohort4/sample_submission.csv\n",
      "/kaggle/input/kagglexfellowship/kagglex-cohort4/train.csv\n",
      "/kaggle/input/kagglexfellowship/kagglex-cohort4/test.csv\n"
     ]
    }
   ],
   "source": [
    "# This Python 3 environment comes with many helpful analytics libraries installed\n",
    "# It is defined by the kaggle/python Docker image: https://github.com/kaggle/docker-python\n",
    "# For example, here's several helpful packages to load\n",
    "\n",
    "import numpy as np # linear algebra\n",
    "import pandas as pd # data processing, CSV file I/O (e.g. pd.read_csv)\n",
    "import seaborn as sns\n",
    "import matplotlib.pyplot as plt\n",
    "\n",
    "# Input data files are available in the read-only \"../input/\" directory\n",
    "# For example, running this (by clicking run or pressing Shift+Enter) will list all files under the input directory\n",
    "\n",
    "import os\n",
    "for dirname, _, filenames in os.walk('/kaggle/input'):\n",
    "    for filename in filenames:\n",
    "        print(os.path.join(dirname, filename))\n",
    "\n",
    "# You can write up to 20GB to the current directory (/kaggle/working/) that gets preserved as output when you create a version using \"Save & Run All\" \n",
    "# You can also write temporary files to /kaggle/temp/, but they won't be saved outside of the current session"
   ]
  },
  {
   "cell_type": "code",
   "execution_count": 2,
   "id": "a81581ef",
   "metadata": {
    "execution": {
     "iopub.execute_input": "2024-06-15T09:43:52.557750Z",
     "iopub.status.busy": "2024-06-15T09:43:52.557272Z",
     "iopub.status.idle": "2024-06-15T09:43:52.997369Z",
     "shell.execute_reply": "2024-06-15T09:43:52.995915Z"
    },
    "papermill": {
     "duration": 0.455046,
     "end_time": "2024-06-15T09:43:53.000222",
     "exception": false,
     "start_time": "2024-06-15T09:43:52.545176",
     "status": "completed"
    },
    "tags": []
   },
   "outputs": [],
   "source": [
    "#  Import and read the data \n",
    "train = pd.read_csv('/kaggle/input/kagglexfellowship/kagglex-cohort4/train.csv')\n",
    "test=pd.read_csv('/kaggle/input/kagglexfellowship/kagglex-cohort4/test.csv')\n",
    "subm=pd.read_csv('/kaggle/input/kagglexfellowship/kagglex-cohort4/sample_submission.csv')\n"
   ]
  },
  {
   "cell_type": "code",
   "execution_count": 3,
   "id": "5d947a4d",
   "metadata": {
    "execution": {
     "iopub.execute_input": "2024-06-15T09:43:53.025829Z",
     "iopub.status.busy": "2024-06-15T09:43:53.024551Z",
     "iopub.status.idle": "2024-06-15T09:43:53.040626Z",
     "shell.execute_reply": "2024-06-15T09:43:53.039570Z"
    },
    "papermill": {
     "duration": 0.030881,
     "end_time": "2024-06-15T09:43:53.043116",
     "exception": false,
     "start_time": "2024-06-15T09:43:53.012235",
     "status": "completed"
    },
    "tags": []
   },
   "outputs": [],
   "source": [
    "#Drop the non-beneficial ID columns and assign ID column as labels\n",
    "def set_index (df):\n",
    "    df.set_index('id', inplace=True)\n",
    "    return df\n",
    "\n",
    "train_df=set_index(train)\n",
    "test_df=set_index(test)\n",
    "submission_df=set_index(subm)\n"
   ]
  },
  {
   "cell_type": "markdown",
   "id": "2fe5fbd8",
   "metadata": {
    "papermill": {
     "duration": 0.010716,
     "end_time": "2024-06-15T09:43:53.064908",
     "exception": false,
     "start_time": "2024-06-15T09:43:53.054192",
     "status": "completed"
    },
    "tags": []
   },
   "source": [
    "# Data Exploration"
   ]
  },
  {
   "cell_type": "code",
   "execution_count": 4,
   "id": "382730c9",
   "metadata": {
    "execution": {
     "iopub.execute_input": "2024-06-15T09:43:53.089195Z",
     "iopub.status.busy": "2024-06-15T09:43:53.088810Z",
     "iopub.status.idle": "2024-06-15T09:43:53.142768Z",
     "shell.execute_reply": "2024-06-15T09:43:53.141581Z"
    },
    "papermill": {
     "duration": 0.068986,
     "end_time": "2024-06-15T09:43:53.145003",
     "exception": false,
     "start_time": "2024-06-15T09:43:53.076017",
     "status": "completed"
    },
    "tags": []
   },
   "outputs": [
    {
     "data": {
      "text/plain": [
       "brand             53\n",
       "model           1827\n",
       "model_year        34\n",
       "milage          3212\n",
       "fuel_type          7\n",
       "engine          1061\n",
       "transmission      46\n",
       "ext_col          260\n",
       "int_col          124\n",
       "accident           2\n",
       "clean_title        1\n",
       "price           1481\n",
       "dtype: int64"
      ]
     },
     "execution_count": 4,
     "metadata": {},
     "output_type": "execute_result"
    }
   ],
   "source": [
    "#Determine the number of unique values in each column.\n",
    "unique_counts = train_df.nunique()\n",
    "unique_counts"
   ]
  },
  {
   "cell_type": "code",
   "execution_count": 5,
   "id": "22e69a3b",
   "metadata": {
    "execution": {
     "iopub.execute_input": "2024-06-15T09:43:53.168742Z",
     "iopub.status.busy": "2024-06-15T09:43:53.168332Z",
     "iopub.status.idle": "2024-06-15T09:43:53.176582Z",
     "shell.execute_reply": "2024-06-15T09:43:53.175338Z"
    },
    "papermill": {
     "duration": 0.022793,
     "end_time": "2024-06-15T09:43:53.178844",
     "exception": false,
     "start_time": "2024-06-15T09:43:53.156051",
     "status": "completed"
    },
    "tags": []
   },
   "outputs": [
    {
     "data": {
      "text/plain": [
       "brand           object\n",
       "model           object\n",
       "model_year       int64\n",
       "milage           int64\n",
       "fuel_type       object\n",
       "engine          object\n",
       "transmission    object\n",
       "ext_col         object\n",
       "int_col         object\n",
       "accident        object\n",
       "clean_title     object\n",
       "price            int64\n",
       "dtype: object"
      ]
     },
     "execution_count": 5,
     "metadata": {},
     "output_type": "execute_result"
    }
   ],
   "source": [
    "# Checking the datatypes\n",
    "train_df.dtypes"
   ]
  },
  {
   "cell_type": "code",
   "execution_count": 6,
   "id": "7011216a",
   "metadata": {
    "execution": {
     "iopub.execute_input": "2024-06-15T09:43:53.203435Z",
     "iopub.status.busy": "2024-06-15T09:43:53.202622Z",
     "iopub.status.idle": "2024-06-15T09:43:53.209654Z",
     "shell.execute_reply": "2024-06-15T09:43:53.208444Z"
    },
    "papermill": {
     "duration": 0.021689,
     "end_time": "2024-06-15T09:43:53.211741",
     "exception": false,
     "start_time": "2024-06-15T09:43:53.190052",
     "status": "completed"
    },
    "tags": []
   },
   "outputs": [
    {
     "data": {
      "text/plain": [
       "(54273, 12)"
      ]
     },
     "execution_count": 6,
     "metadata": {},
     "output_type": "execute_result"
    }
   ],
   "source": [
    "train_df.shape"
   ]
  },
  {
   "cell_type": "code",
   "execution_count": 7,
   "id": "c6497e22",
   "metadata": {
    "execution": {
     "iopub.execute_input": "2024-06-15T09:43:53.236191Z",
     "iopub.status.busy": "2024-06-15T09:43:53.235799Z",
     "iopub.status.idle": "2024-06-15T09:43:53.268616Z",
     "shell.execute_reply": "2024-06-15T09:43:53.267512Z"
    },
    "papermill": {
     "duration": 0.04803,
     "end_time": "2024-06-15T09:43:53.271168",
     "exception": false,
     "start_time": "2024-06-15T09:43:53.223138",
     "status": "completed"
    },
    "tags": []
   },
   "outputs": [
    {
     "data": {
      "text/plain": [
       "brand           0\n",
       "model           0\n",
       "model_year      0\n",
       "milage          0\n",
       "fuel_type       0\n",
       "engine          0\n",
       "transmission    0\n",
       "ext_col         0\n",
       "int_col         0\n",
       "accident        0\n",
       "clean_title     0\n",
       "price           0\n",
       "dtype: int64"
      ]
     },
     "execution_count": 7,
     "metadata": {},
     "output_type": "execute_result"
    }
   ],
   "source": [
    "#Lets look for the total number of NaN values for each feature\n",
    "train_df.isnull().sum()"
   ]
  },
  {
   "cell_type": "code",
   "execution_count": 8,
   "id": "fad3ac49",
   "metadata": {
    "execution": {
     "iopub.execute_input": "2024-06-15T09:43:53.296309Z",
     "iopub.status.busy": "2024-06-15T09:43:53.295898Z",
     "iopub.status.idle": "2024-06-15T09:43:53.708876Z",
     "shell.execute_reply": "2024-06-15T09:43:53.707804Z"
    },
    "papermill": {
     "duration": 0.428519,
     "end_time": "2024-06-15T09:43:53.711497",
     "exception": false,
     "start_time": "2024-06-15T09:43:53.282978",
     "status": "completed"
    },
    "tags": []
   },
   "outputs": [
    {
     "name": "stderr",
     "output_type": "stream",
     "text": [
      "/opt/conda/lib/python3.10/site-packages/seaborn/_oldcore.py:1119: FutureWarning: use_inf_as_na option is deprecated and will be removed in a future version. Convert inf values to NaN before operating instead.\n",
      "  with pd.option_context('mode.use_inf_as_na', True):\n",
      "/opt/conda/lib/python3.10/site-packages/seaborn/_oldcore.py:1119: FutureWarning: use_inf_as_na option is deprecated and will be removed in a future version. Convert inf values to NaN before operating instead.\n",
      "  with pd.option_context('mode.use_inf_as_na', True):\n",
      "/opt/conda/lib/python3.10/site-packages/seaborn/_oldcore.py:1075: FutureWarning: When grouping with a length-1 list-like, you will need to pass a length-1 tuple to get_group in a future version of pandas. Pass `(name,)` instead of `name` to silence this warning.\n",
      "  data_subset = grouped_data.get_group(pd_key)\n"
     ]
    },
    {
     "data": {
      "image/png": "[encoded data removed]",
      "text/plain": [
       "<Figure size 800x600 with 1 Axes>"
      ]
     },
     "metadata": {},
     "output_type": "display_data"
    }
   ],
   "source": [
    "# Create a strip plot for the 'price' variable\n",
    "plt.figure(figsize=(8, 6))\n",
    "sns.stripplot(data=train_df, y='price', jitter=True, color='purple', alpha=0.5)\n",
    "plt.title('Strip Plot: Price Distribution')\n",
    "plt.ylabel('Price')\n",
    "plt.grid(True)\n",
    "plt.show()"
   ]
  },
  {
   "cell_type": "markdown",
   "id": "8ebbd4e9",
   "metadata": {
    "papermill": {
     "duration": 0.012707,
     "end_time": "2024-06-15T09:43:53.736895",
     "exception": false,
     "start_time": "2024-06-15T09:43:53.724188",
     "status": "completed"
    },
    "tags": []
   },
   "source": [
    "Above Histogram shows that most cars lie in the lower range of price.\n",
    "The above graph has outliers from 0.4 onwards, which need to be removed."
   ]
  },
  {
   "cell_type": "code",
   "execution_count": 9,
   "id": "32fa8218",
   "metadata": {
    "execution": {
     "iopub.execute_input": "2024-06-15T09:43:53.762630Z",
     "iopub.status.busy": "2024-06-15T09:43:53.762248Z",
     "iopub.status.idle": "2024-06-15T09:43:53.780634Z",
     "shell.execute_reply": "2024-06-15T09:43:53.779591Z"
    },
    "papermill": {
     "duration": 0.03406,
     "end_time": "2024-06-15T09:43:53.782999",
     "exception": false,
     "start_time": "2024-06-15T09:43:53.748939",
     "status": "completed"
    },
    "tags": []
   },
   "outputs": [
    {
     "data": {
      "text/plain": [
       "count    5.427300e+04\n",
       "mean     3.921844e+04\n",
       "std      7.282634e+04\n",
       "min      2.000000e+03\n",
       "25%      1.550000e+04\n",
       "50%      2.800000e+04\n",
       "75%      4.500000e+04\n",
       "max      2.954083e+06\n",
       "Name: price, dtype: float64"
      ]
     },
     "execution_count": 9,
     "metadata": {},
     "output_type": "execute_result"
    }
   ],
   "source": [
    "train_df['price'].describe()"
   ]
  },
  {
   "cell_type": "code",
   "execution_count": 10,
   "id": "10f8e4b5",
   "metadata": {
    "execution": {
     "iopub.execute_input": "2024-06-15T09:43:53.809375Z",
     "iopub.status.busy": "2024-06-15T09:43:53.808957Z",
     "iopub.status.idle": "2024-06-15T09:43:53.819984Z",
     "shell.execute_reply": "2024-06-15T09:43:53.818667Z"
    },
    "papermill": {
     "duration": 0.027096,
     "end_time": "2024-06-15T09:43:53.822445",
     "exception": false,
     "start_time": "2024-06-15T09:43:53.795349",
     "status": "completed"
    },
    "tags": []
   },
   "outputs": [
    {
     "name": "stdout",
     "output_type": "stream",
     "text": [
      "29500.0\n"
     ]
    }
   ],
   "source": [
    "#identify and remove outliers from the data df in relation to price column using IQR method\n",
    "Q1 = train_df['price'].quantile(0.25)\n",
    "Q3 = train_df['price'].quantile(0.75)\n",
    "IQR = Q3 - Q1\n",
    "print(IQR)"
   ]
  },
  {
   "cell_type": "code",
   "execution_count": 11,
   "id": "2595b09e",
   "metadata": {
    "execution": {
     "iopub.execute_input": "2024-06-15T09:43:53.849311Z",
     "iopub.status.busy": "2024-06-15T09:43:53.848916Z",
     "iopub.status.idle": "2024-06-15T09:43:53.866596Z",
     "shell.execute_reply": "2024-06-15T09:43:53.865520Z"
    },
    "papermill": {
     "duration": 0.033952,
     "end_time": "2024-06-15T09:43:53.869200",
     "exception": false,
     "start_time": "2024-06-15T09:43:53.835248",
     "status": "completed"
    },
    "tags": []
   },
   "outputs": [
    {
     "data": {
      "text/plain": [
       "(47678, 12)"
      ]
     },
     "execution_count": 11,
     "metadata": {},
     "output_type": "execute_result"
    }
   ],
   "source": [
    "#use IQR value to filter out the outliers\n",
    "outliersfree_df = train_df[~((train_df['price'] < (Q1 - 1.5 * IQR)) |(train_df['price'] > (Q3 + 0.7 * IQR)))]\n",
    "outliersfree_df.shape"
   ]
  },
  {
   "cell_type": "code",
   "execution_count": 12,
   "id": "0a21365d",
   "metadata": {
    "execution": {
     "iopub.execute_input": "2024-06-15T09:43:53.896219Z",
     "iopub.status.busy": "2024-06-15T09:43:53.895825Z",
     "iopub.status.idle": "2024-06-15T09:43:54.333690Z",
     "shell.execute_reply": "2024-06-15T09:43:54.332524Z"
    },
    "papermill": {
     "duration": 0.453983,
     "end_time": "2024-06-15T09:43:54.335938",
     "exception": false,
     "start_time": "2024-06-15T09:43:53.881955",
     "status": "completed"
    },
    "tags": []
   },
   "outputs": [
    {
     "name": "stderr",
     "output_type": "stream",
     "text": [
      "/opt/conda/lib/python3.10/site-packages/seaborn/_oldcore.py:1119: FutureWarning: use_inf_as_na option is deprecated and will be removed in a future version. Convert inf values to NaN before operating instead.\n",
      "  with pd.option_context('mode.use_inf_as_na', True):\n",
      "/opt/conda/lib/python3.10/site-packages/seaborn/_oldcore.py:1119: FutureWarning: use_inf_as_na option is deprecated and will be removed in a future version. Convert inf values to NaN before operating instead.\n",
      "  with pd.option_context('mode.use_inf_as_na', True):\n",
      "/opt/conda/lib/python3.10/site-packages/seaborn/_oldcore.py:1075: FutureWarning: When grouping with a length-1 list-like, you will need to pass a length-1 tuple to get_group in a future version of pandas. Pass `(name,)` instead of `name` to silence this warning.\n",
      "  data_subset = grouped_data.get_group(pd_key)\n"
     ]
    },
    {
     "data": {
      "image/png": "[encoded data removed]",
      "text/plain": [
       "<Figure size 800x600 with 1 Axes>"
      ]
     },
     "metadata": {},
     "output_type": "display_data"
    }
   ],
   "source": [
    "plt.figure(figsize=(8, 6))\n",
    "sns.stripplot(data=outliersfree_df, y='price', jitter=True, color='purple', alpha=0.5)\n",
    "plt.title('Strip Plot: Price Distribution')\n",
    "plt.ylabel('Price')\n",
    "plt.grid(True)\n",
    "plt.show()"
   ]
  },
  {
   "cell_type": "markdown",
   "id": "72b38b91",
   "metadata": {
    "papermill": {
     "duration": 0.012881,
     "end_time": "2024-06-15T09:43:54.361889",
     "exception": false,
     "start_time": "2024-06-15T09:43:54.349008",
     "status": "completed"
    },
    "tags": []
   },
   "source": [
    "The above plot looks more homogeneous than the previous one after removal of outliers."
   ]
  },
  {
   "cell_type": "markdown",
   "id": "b5d2a235",
   "metadata": {
    "papermill": {
     "duration": 0.012827,
     "end_time": "2024-06-15T09:43:54.387799",
     "exception": false,
     "start_time": "2024-06-15T09:43:54.374972",
     "status": "completed"
    },
    "tags": []
   },
   "source": [
    "# **Data wrangling**"
   ]
  },
  {
   "cell_type": "markdown",
   "id": "56dbb48d",
   "metadata": {
    "papermill": {
     "duration": 0.012697,
     "end_time": "2024-06-15T09:43:54.413661",
     "exception": false,
     "start_time": "2024-06-15T09:43:54.400964",
     "status": "completed"
    },
    "tags": []
   },
   "source": [
    "I will reduce the number of features in string data categories, and will remain the numeric categories as they are."
   ]
  },
  {
   "cell_type": "code",
   "execution_count": 13,
   "id": "83eb23f8",
   "metadata": {
    "execution": {
     "iopub.execute_input": "2024-06-15T09:43:54.442011Z",
     "iopub.status.busy": "2024-06-15T09:43:54.441610Z",
     "iopub.status.idle": "2024-06-15T09:43:54.455229Z",
     "shell.execute_reply": "2024-06-15T09:43:54.454110Z"
    },
    "papermill": {
     "duration": 0.03054,
     "end_time": "2024-06-15T09:43:54.457583",
     "exception": false,
     "start_time": "2024-06-15T09:43:54.427043",
     "status": "completed"
    },
    "tags": []
   },
   "outputs": [
    {
     "data": {
      "text/plain": [
       "brand\n",
       "BMW              6331\n",
       "Ford             6008\n",
       "Mercedes-Benz    4118\n",
       "Chevrolet        3829\n",
       "Audi             2676\n",
       "Toyota           2177\n",
       "Jeep             2138\n",
       "Lexus            2121\n",
       "Porsche          1805\n",
       "Land             1567\n",
       "Cadillac         1387\n",
       "Nissan           1179\n",
       "GMC               972\n",
       "Dodge             932\n",
       "INFINITI          904\n",
       "RAM               883\n",
       "Mazda             737\n",
       "Subaru            727\n",
       "Lincoln           724\n",
       "Hyundai           687\n",
       "Honda             620\n",
       "Volkswagen        617\n",
       "Jaguar            590\n",
       "Acura             559\n",
       "Kia               498\n",
       "Volvo             429\n",
       "MINI              360\n",
       "Chrysler          253\n",
       "Maserati          243\n",
       "Buick             219\n",
       "Genesis           211\n",
       "Mitsubishi        179\n",
       "Hummer            175\n",
       "Pontiac           146\n",
       "Alfa              130\n",
       "Bentley           127\n",
       "Tesla              93\n",
       "Saturn             58\n",
       "Rolls-Royce        53\n",
       "Scion              52\n",
       "Lamborghini        42\n",
       "McLaren            20\n",
       "Aston              20\n",
       "Mercury            20\n",
       "Ferrari            19\n",
       "FIAT               16\n",
       "Lotus              10\n",
       "Rivian              9\n",
       "Suzuki              4\n",
       "Maybach             3\n",
       "Plymouth            1\n",
       "Name: count, dtype: int64"
      ]
     },
     "execution_count": 13,
     "metadata": {},
     "output_type": "execute_result"
    }
   ],
   "source": [
    "#Look at brand value counts for binning\n",
    "brand_counts = outliersfree_df['brand'].value_counts()\n",
    "brand_counts #keep all car brands "
   ]
  },
  {
   "cell_type": "markdown",
   "id": "2128d75d",
   "metadata": {
    "papermill": {
     "duration": 0.013236,
     "end_time": "2024-06-15T09:43:54.484178",
     "exception": false,
     "start_time": "2024-06-15T09:43:54.470942",
     "status": "completed"
    },
    "tags": []
   },
   "source": [
    "***Model cleaning***"
   ]
  },
  {
   "cell_type": "code",
   "execution_count": 14,
   "id": "176fd910",
   "metadata": {
    "execution": {
     "iopub.execute_input": "2024-06-15T09:43:54.515196Z",
     "iopub.status.busy": "2024-06-15T09:43:54.514058Z",
     "iopub.status.idle": "2024-06-15T09:43:54.528774Z",
     "shell.execute_reply": "2024-06-15T09:43:54.527355Z"
    },
    "papermill": {
     "duration": 0.032516,
     "end_time": "2024-06-15T09:43:54.531075",
     "exception": false,
     "start_time": "2024-06-15T09:43:54.498559",
     "status": "completed"
    },
    "tags": []
   },
   "outputs": [
    {
     "data": {
      "text/plain": [
       "model\n",
       "F-150 XLT                733\n",
       "M3 Base                  610\n",
       "X5 xDrive35i             590\n",
       "F-150 Lariat             451\n",
       "Mustang GT Premium       440\n",
       "                        ... \n",
       "Suburban 2500              1\n",
       "G-Class G 63 AMG           1\n",
       "Rover Range Rover SWB      1\n",
       "RDX w/A-Spec Package       1\n",
       "S-10 LS                    1\n",
       "Name: count, Length: 1795, dtype: int64"
      ]
     },
     "execution_count": 14,
     "metadata": {},
     "output_type": "execute_result"
    }
   ],
   "source": [
    "# Look at model value counts for binning\n",
    "model_counts =outliersfree_df['model'].value_counts()\n",
    "model_counts"
   ]
  },
  {
   "cell_type": "code",
   "execution_count": 15,
   "id": "3bb1ee66",
   "metadata": {
    "execution": {
     "iopub.execute_input": "2024-06-15T09:43:54.559969Z",
     "iopub.status.busy": "2024-06-15T09:43:54.559588Z",
     "iopub.status.idle": "2024-06-15T09:44:02.062414Z",
     "shell.execute_reply": "2024-06-15T09:44:02.061146Z"
    },
    "papermill": {
     "duration": 7.520586,
     "end_time": "2024-06-15T09:44:02.065311",
     "exception": false,
     "start_time": "2024-06-15T09:43:54.544725",
     "status": "completed"
    },
    "tags": []
   },
   "outputs": [
    {
     "name": "stdout",
     "output_type": "stream",
     "text": [
      "model\n",
      "Other                      30231\n",
      "F-150 XLT                    733\n",
      "M3 Base                      610\n",
      "X5 xDrive35i                 590\n",
      "F-150 Lariat                 451\n",
      "                           ...  \n",
      "335 i xDrive                 103\n",
      "Sequoia Limited              100\n",
      "Golf GTI 2.0T SE 4-Door      100\n",
      "Civic EX                     100\n",
      "Cayman Base                  100\n",
      "Name: count, Length: 94, dtype: int64\n"
     ]
    }
   ],
   "source": [
    "#Reducing the number of car models as a fuature\n",
    "cutoff_value = 100 #keep if database has 100 and more records of this car model\n",
    "model_types_to_replace = model_counts[model_counts < cutoff_value].index\n",
    "\n",
    "# Replace in the dataframe\n",
    "for model_c in model_types_to_replace:\n",
    "    outliersfree_df.loc[outliersfree_df['model'] == model_c, 'model'] = \"Other\"\n",
    "\n",
    "# Check the updated value counts\n",
    "model_counts = outliersfree_df['model'].value_counts()\n",
    "print(model_counts)"
   ]
  },
  {
   "cell_type": "markdown",
   "id": "a503c5b0",
   "metadata": {
    "papermill": {
     "duration": 0.013344,
     "end_time": "2024-06-15T09:44:02.092408",
     "exception": false,
     "start_time": "2024-06-15T09:44:02.079064",
     "status": "completed"
    },
    "tags": []
   },
   "source": [
    "**Fuel cleaning**"
   ]
  },
  {
   "cell_type": "code",
   "execution_count": 16,
   "id": "93049710",
   "metadata": {
    "execution": {
     "iopub.execute_input": "2024-06-15T09:44:02.121965Z",
     "iopub.status.busy": "2024-06-15T09:44:02.121570Z",
     "iopub.status.idle": "2024-06-15T09:44:02.134017Z",
     "shell.execute_reply": "2024-06-15T09:44:02.132778Z"
    },
    "papermill": {
     "duration": 0.030404,
     "end_time": "2024-06-15T09:44:02.136296",
     "exception": false,
     "start_time": "2024-06-15T09:44:02.105892",
     "status": "completed"
    },
    "tags": []
   },
   "outputs": [
    {
     "data": {
      "text/plain": [
       "fuel_type\n",
       "Gasoline          43613\n",
       "E85 Flex Fuel      1435\n",
       "Hybrid             1323\n",
       "Diesel              889\n",
       "–                   266\n",
       "Plug-In Hybrid      148\n",
       "not supported         4\n",
       "Name: count, dtype: int64"
      ]
     },
     "execution_count": 16,
     "metadata": {},
     "output_type": "execute_result"
    }
   ],
   "source": [
    "# Look at fuel value counts for binning\n",
    "fuel_counts = outliersfree_df['fuel_type'].value_counts()\n",
    "fuel_counts"
   ]
  },
  {
   "cell_type": "code",
   "execution_count": 17,
   "id": "b6eea57a",
   "metadata": {
    "execution": {
     "iopub.execute_input": "2024-06-15T09:44:02.224798Z",
     "iopub.status.busy": "2024-06-15T09:44:02.224415Z",
     "iopub.status.idle": "2024-06-15T09:44:02.254684Z",
     "shell.execute_reply": "2024-06-15T09:44:02.253473Z"
    },
    "papermill": {
     "duration": 0.048005,
     "end_time": "2024-06-15T09:44:02.257356",
     "exception": false,
     "start_time": "2024-06-15T09:44:02.209351",
     "status": "completed"
    },
    "tags": []
   },
   "outputs": [
    {
     "data": {
      "text/plain": [
       "fuel_type\n",
       "Gasoline          43613\n",
       "E85 Flex Fuel      1435\n",
       "Hybrid             1323\n",
       "Diesel              889\n",
       "Other               266\n",
       "Plug-In Hybrid      148\n",
       "Name: count, dtype: int64"
      ]
     },
     "execution_count": 17,
     "metadata": {},
     "output_type": "execute_result"
    }
   ],
   "source": [
    "# Replace '–' with 'Other' in the 'fuel_type' column\n",
    "outliersfree_df.loc[outliersfree_df['fuel_type'] == '–', 'fuel_type'] = 'Other'\n",
    "cleaned_train = outliersfree_df[outliersfree_df['fuel_type'] != 'not supported']\n",
    "fuel_counts = cleaned_train['fuel_type'].value_counts()\n",
    "fuel_counts"
   ]
  },
  {
   "cell_type": "markdown",
   "id": "fac9a0f1",
   "metadata": {
    "papermill": {
     "duration": 0.013626,
     "end_time": "2024-06-15T09:44:02.286369",
     "exception": false,
     "start_time": "2024-06-15T09:44:02.272743",
     "status": "completed"
    },
    "tags": []
   },
   "source": [
    "***Engine cleaning***"
   ]
  },
  {
   "cell_type": "code",
   "execution_count": 18,
   "id": "1e6ba6bd",
   "metadata": {
    "execution": {
     "iopub.execute_input": "2024-06-15T09:44:02.316074Z",
     "iopub.status.busy": "2024-06-15T09:44:02.315663Z",
     "iopub.status.idle": "2024-06-15T09:44:02.328364Z",
     "shell.execute_reply": "2024-06-15T09:44:02.327359Z"
    },
    "papermill": {
     "duration": 0.030141,
     "end_time": "2024-06-15T09:44:02.330555",
     "exception": false,
     "start_time": "2024-06-15T09:44:02.300414",
     "status": "completed"
    },
    "tags": []
   },
   "outputs": [
    {
     "data": {
      "text/plain": [
       "engine\n",
       "300.0HP 3.0L Straight 6 Cylinder Engine Gasoline Fuel    1411\n",
       "355.0HP 5.3L 8 Cylinder Engine Gasoline Fuel             1067\n",
       "240.0HP 2.0L 4 Cylinder Engine Gasoline Fuel             1044\n",
       "285.0HP 3.6L V6 Cylinder Engine Gasoline Fuel             924\n",
       "420.0HP 6.2L 8 Cylinder Engine Gasoline Fuel              689\n",
       "                                                         ... \n",
       "290.0HP Electric Motor Electric Fuel System                 1\n",
       "3.6L V6 24V MPFI DOHC Hybrid                                1\n",
       "3.0 Liter SC ULEV                                           1\n",
       "483.0HP 4.3L 8 Cylinder Engine Gasoline Fuel                1\n",
       "3.2L V6 24V MPFI DOHC                                       1\n",
       "Name: count, Length: 1043, dtype: int64"
      ]
     },
     "execution_count": 18,
     "metadata": {},
     "output_type": "execute_result"
    }
   ],
   "source": [
    "# Look at endine value counts for binning\n",
    "engine_counts = cleaned_train['engine'].value_counts()\n",
    "engine_counts"
   ]
  },
  {
   "cell_type": "code",
   "execution_count": 19,
   "id": "51be1c52",
   "metadata": {
    "execution": {
     "iopub.execute_input": "2024-06-15T09:44:02.360291Z",
     "iopub.status.busy": "2024-06-15T09:44:02.359886Z",
     "iopub.status.idle": "2024-06-15T09:44:06.551207Z",
     "shell.execute_reply": "2024-06-15T09:44:06.549966Z"
    },
    "papermill": {
     "duration": 4.20903,
     "end_time": "2024-06-15T09:44:06.553696",
     "exception": false,
     "start_time": "2024-06-15T09:44:02.344666",
     "status": "completed"
    },
    "tags": []
   },
   "outputs": [
    {
     "data": {
      "text/plain": [
       "engine\n",
       "Other                                                    20309\n",
       "300.0HP 3.0L Straight 6 Cylinder Engine Gasoline Fuel     1411\n",
       "355.0HP 5.3L 8 Cylinder Engine Gasoline Fuel              1067\n",
       "240.0HP 2.0L 4 Cylinder Engine Gasoline Fuel              1044\n",
       "285.0HP 3.6L V6 Cylinder Engine Gasoline Fuel              924\n",
       "                                                         ...  \n",
       "280.0HP 3.6L V6 Cylinder Engine Gasoline Fuel              105\n",
       "300.0HP 4.2L 8 Cylinder Engine Gasoline Fuel               103\n",
       "188.0HP 3.0L V6 Cylinder Engine Diesel Fuel                103\n",
       "310.0HP 3.0L V6 Cylinder Engine Gasoline Fuel              102\n",
       "518.0HP 5.0L 8 Cylinder Engine Gasoline Fuel               102\n",
       "Name: count, Length: 106, dtype: int64"
      ]
     },
     "execution_count": 19,
     "metadata": {},
     "output_type": "execute_result"
    }
   ],
   "source": [
    "cutoff_value = 100\n",
    "engine_types_to_replace = engine_counts[engine_counts < cutoff_value].index\n",
    "\n",
    "# Replace in the dataframe\n",
    "for engine_c in engine_types_to_replace:\n",
    "    cleaned_train.loc[cleaned_train['engine'] == engine_c, 'engine'] = \"Other\"\n",
    "\n",
    "# Check the updated value counts\n",
    "engine_counts = cleaned_train['engine'].value_counts()\n",
    "engine_counts"
   ]
  },
  {
   "cell_type": "markdown",
   "id": "16a63e20",
   "metadata": {
    "papermill": {
     "duration": 0.013902,
     "end_time": "2024-06-15T09:44:06.582027",
     "exception": false,
     "start_time": "2024-06-15T09:44:06.568125",
     "status": "completed"
    },
    "tags": []
   },
   "source": [
    "***Transmission***"
   ]
  },
  {
   "cell_type": "code",
   "execution_count": 20,
   "id": "e4936ebb",
   "metadata": {
    "execution": {
     "iopub.execute_input": "2024-06-15T09:44:06.612309Z",
     "iopub.status.busy": "2024-06-15T09:44:06.611922Z",
     "iopub.status.idle": "2024-06-15T09:44:06.624175Z",
     "shell.execute_reply": "2024-06-15T09:44:06.622976Z"
    },
    "papermill": {
     "duration": 0.030043,
     "end_time": "2024-06-15T09:44:06.626346",
     "exception": false,
     "start_time": "2024-06-15T09:44:06.596303",
     "status": "completed"
    },
    "tags": []
   },
   "outputs": [
    {
     "data": {
      "text/plain": [
       "transmission\n",
       "A/T                                                   15558\n",
       "8-Speed A/T                                            5804\n",
       "6-Speed A/T                                            5791\n",
       "Transmission w/Dual Shift Mode                         5284\n",
       "6-Speed M/T                                            3384\n",
       "7-Speed A/T                                            2786\n",
       "10-Speed A/T                                           1603\n",
       "5-Speed A/T                                            1171\n",
       "8-Speed Automatic                                       953\n",
       "9-Speed A/T                                             805\n",
       "4-Speed A/T                                             739\n",
       "5-Speed M/T                                             711\n",
       "CVT Transmission                                        680\n",
       "10-Speed Automatic                                      519\n",
       "6-Speed Automatic                                       483\n",
       "Automatic                                               357\n",
       "M/T                                                     339\n",
       "9-Speed Automatic                                       279\n",
       "Automatic CVT                                            91\n",
       "7-Speed Automatic with Auto-Shift                        53\n",
       "Transmission Overdrive Switch                            53\n",
       "7-Speed M/T                                              46\n",
       "1-Speed A/T                                              43\n",
       "7-Speed Automatic                                        31\n",
       "5-Speed Automatic                                        22\n",
       "6-Speed Manual                                           18\n",
       "8-Speed Automatic with Auto-Shift                        17\n",
       "6-Speed Automatic with Auto-Shift                        13\n",
       "7-Speed Manual                                            7\n",
       "4-Speed Automatic                                         6\n",
       "6-Speed Electronically Controlled Automatic with O        5\n",
       "1-Speed Automatic                                         4\n",
       "8-Speed Manual                                            3\n",
       "7-Speed DCT Automatic                                     3\n",
       "SCHEDULED FOR OR IN PRODUCTION                            2\n",
       "6 Speed Mt                                                2\n",
       "10-Speed Automatic with Overdrive                         2\n",
       "6-Speed                                                   2\n",
       "F                                                         1\n",
       "6 Speed At/Mt                                             1\n",
       "CVT-F                                                     1\n",
       "2-Speed A/T                                               1\n",
       "–                                                         1\n",
       "Name: count, dtype: int64"
      ]
     },
     "execution_count": 20,
     "metadata": {},
     "output_type": "execute_result"
    }
   ],
   "source": [
    "# Look at trans value counts for binning\n",
    "trans_counts = cleaned_train['transmission'].value_counts()\n",
    "trans_counts"
   ]
  },
  {
   "cell_type": "code",
   "execution_count": 21,
   "id": "dc826aab",
   "metadata": {
    "execution": {
     "iopub.execute_input": "2024-06-15T09:44:06.657542Z",
     "iopub.status.busy": "2024-06-15T09:44:06.657161Z",
     "iopub.status.idle": "2024-06-15T09:44:06.739012Z",
     "shell.execute_reply": "2024-06-15T09:44:06.737919Z"
    },
    "papermill": {
     "duration": 0.100752,
     "end_time": "2024-06-15T09:44:06.741846",
     "exception": false,
     "start_time": "2024-06-15T09:44:06.641094",
     "status": "completed"
    },
    "tags": []
   },
   "outputs": [
    {
     "data": {
      "text/plain": [
       "transmission\n",
       "A/T                                  15558\n",
       "8-Speed A/T                           5804\n",
       "6-Speed A/T                           5791\n",
       "Transmission w/Dual Shift Mode        5284\n",
       "6-Speed M/T                           3384\n",
       "7-Speed A/T                           2786\n",
       "10-Speed A/T                          1603\n",
       "5-Speed A/T                           1171\n",
       "8-Speed Automatic                      953\n",
       "9-Speed A/T                            805\n",
       "4-Speed A/T                            739\n",
       "5-Speed M/T                            711\n",
       "CVT Transmission                       680\n",
       "10-Speed Automatic                     519\n",
       "6-Speed Automatic                      483\n",
       "Automatic                              357\n",
       "M/T                                    339\n",
       "9-Speed Automatic                      279\n",
       "Automatic CVT                           91\n",
       "Transmission Overdrive Switch           53\n",
       "7-Speed Automatic with Auto-Shift       53\n",
       "7-Speed M/T                             46\n",
       "1-Speed A/T                             43\n",
       "Other                                   41\n",
       "7-Speed Automatic                       31\n",
       "5-Speed Automatic                       22\n",
       "6-Speed Manual                          18\n",
       "8-Speed Automatic with Auto-Shift       17\n",
       "6-Speed Automatic with Auto-Shift       13\n",
       "Name: count, dtype: int64"
      ]
     },
     "execution_count": 21,
     "metadata": {},
     "output_type": "execute_result"
    }
   ],
   "source": [
    "cutoff_value = 10\n",
    "trans_types_to_replace = trans_counts[trans_counts < cutoff_value].index\n",
    "\n",
    "# Replace in the dataframe\n",
    "for trans_c in trans_types_to_replace:\n",
    "    cleaned_train.loc[cleaned_train['transmission'] == trans_c, 'transmission'] = \"Other\"\n",
    "\n",
    "# Check the updated value counts\n",
    "trans_counts = cleaned_train['transmission'].value_counts()\n",
    "trans_counts"
   ]
  },
  {
   "cell_type": "markdown",
   "id": "5c8c718b",
   "metadata": {
    "papermill": {
     "duration": 0.014159,
     "end_time": "2024-06-15T09:44:06.771394",
     "exception": false,
     "start_time": "2024-06-15T09:44:06.757235",
     "status": "completed"
    },
    "tags": []
   },
   "source": [
    "***External colour***"
   ]
  },
  {
   "cell_type": "code",
   "execution_count": 22,
   "id": "aa44eeff",
   "metadata": {
    "execution": {
     "iopub.execute_input": "2024-06-15T09:44:06.803142Z",
     "iopub.status.busy": "2024-06-15T09:44:06.802761Z",
     "iopub.status.idle": "2024-06-15T09:44:06.815471Z",
     "shell.execute_reply": "2024-06-15T09:44:06.814222Z"
    },
    "papermill": {
     "duration": 0.031602,
     "end_time": "2024-06-15T09:44:06.818138",
     "exception": false,
     "start_time": "2024-06-15T09:44:06.786536",
     "status": "completed"
    },
    "tags": []
   },
   "outputs": [
    {
     "data": {
      "text/plain": [
       "ext_col\n",
       "Black                                 13237\n",
       "White                                 12006\n",
       "Gray                                   6605\n",
       "Silver                                 4751\n",
       "Blue                                   4156\n",
       "Red                                    2699\n",
       "Green                                   565\n",
       "Gold                                    463\n",
       "Beige                                   433\n",
       "Brown                                   364\n",
       "Yellow                                  277\n",
       "Orange                                  243\n",
       "Agate Black Metallic                    105\n",
       "Bright White Clearcoat                   99\n",
       "Purple                                   90\n",
       "Black Clearcoat                          77\n",
       "Summit White                             71\n",
       "Diamond Black                            59\n",
       "Silver Ice Metallic                      57\n",
       "Delmonico Red Pearlcoat                  51\n",
       "Soul Red Crystal Metallic                45\n",
       "Snowflake White Pearl                    32\n",
       "Ebony Twilight Metallic                  27\n",
       "Jet Black Mica                           27\n",
       "Firecracker Red Clearcoat                25\n",
       "Sonic Silver Metallic                    23\n",
       "Cajun Red Tintcoat                       22\n",
       "Iconic Silver Metallic                   21\n",
       "Black Sapphire Metallic                  21\n",
       "Magnetic Metallic                        20\n",
       "Oxford White                             20\n",
       "Shadow Gray Metallic                     19\n",
       "Dark Matter Metallic                     18\n",
       "White Frost Tri-Coat                     17\n",
       "Brilliant Silver Metallic                16\n",
       "Mosaic Black Metallic                    16\n",
       "Glacial White Pearl                      15\n",
       "Patriot Blue Pearlcoat                   15\n",
       "Crystal Black Silica                     15\n",
       "Dark Moon Blue Metallic                  15\n",
       "Maroon                                   14\n",
       "White Knuckle Clearcoat                  14\n",
       "Polymetal Gray Metallic                  14\n",
       "Deep Black Pearl Effect                  14\n",
       "Velvet Red Pearlcoat                     14\n",
       "Midnight Black Metallic                  14\n",
       "Granite Crystal Clearcoat Metallic       13\n",
       "Maximum Steel Metallic                   13\n",
       "Tungsten Metallic                        13\n",
       "Black Obsidian                           13\n",
       "Name: count, dtype: int64"
      ]
     },
     "execution_count": 22,
     "metadata": {},
     "output_type": "execute_result"
    }
   ],
   "source": [
    "# Look at colours value counts for binning\n",
    "ext_col_counts = cleaned_train['ext_col'].value_counts()\n",
    "ext_col_counts.head(50)"
   ]
  },
  {
   "cell_type": "code",
   "execution_count": 23,
   "id": "30ce3077",
   "metadata": {
    "execution": {
     "iopub.execute_input": "2024-06-15T09:44:06.850086Z",
     "iopub.status.busy": "2024-06-15T09:44:06.849691Z",
     "iopub.status.idle": "2024-06-15T09:44:07.788644Z",
     "shell.execute_reply": "2024-06-15T09:44:07.787572Z"
    },
    "papermill": {
     "duration": 0.95807,
     "end_time": "2024-06-15T09:44:07.790976",
     "exception": false,
     "start_time": "2024-06-15T09:44:06.832906",
     "status": "completed"
    },
    "tags": []
   },
   "outputs": [
    {
     "data": {
      "text/plain": [
       "ext_col\n",
       "Black                        13237\n",
       "White                        12006\n",
       "Gray                          6605\n",
       "Silver                        4751\n",
       "Blue                          4156\n",
       "Red                           2699\n",
       "Other                          983\n",
       "Green                          565\n",
       "Gold                           463\n",
       "Beige                          433\n",
       "Brown                          364\n",
       "Yellow                         277\n",
       "Orange                         243\n",
       "Agate Black Metallic           105\n",
       "Bright White Clearcoat          99\n",
       "Purple                          90\n",
       "Black Clearcoat                 77\n",
       "Summit White                    71\n",
       "Diamond Black                   59\n",
       "Silver Ice Metallic             57\n",
       "Delmonico Red Pearlcoat         51\n",
       "Soul Red Crystal Metallic       45\n",
       "Snowflake White Pearl           32\n",
       "Jet Black Mica                  27\n",
       "Ebony Twilight Metallic         27\n",
       "Firecracker Red Clearcoat       25\n",
       "Sonic Silver Metallic           23\n",
       "Cajun Red Tintcoat              22\n",
       "Black Sapphire Metallic         21\n",
       "Iconic Silver Metallic          21\n",
       "Magnetic Metallic               20\n",
       "Oxford White                    20\n",
       "Name: count, dtype: int64"
      ]
     },
     "execution_count": 23,
     "metadata": {},
     "output_type": "execute_result"
    }
   ],
   "source": [
    "cutoff_value = 20\n",
    "ext_col_types_to_replace = ext_col_counts[ext_col_counts < cutoff_value].index\n",
    "\n",
    "# Replace in the dataframe\n",
    "for ext_col_c in ext_col_types_to_replace:\n",
    "    cleaned_train.loc[cleaned_train['ext_col'] == ext_col_c, 'ext_col'] = \"Other\"\n",
    "\n",
    "# Check the updated value counts\n",
    "ext_col_counts = cleaned_train['ext_col'].value_counts()\n",
    "ext_col_counts"
   ]
  },
  {
   "cell_type": "code",
   "execution_count": 24,
   "id": "fcae5e09",
   "metadata": {
    "execution": {
     "iopub.execute_input": "2024-06-15T09:44:07.822245Z",
     "iopub.status.busy": "2024-06-15T09:44:07.821841Z",
     "iopub.status.idle": "2024-06-15T09:44:07.833944Z",
     "shell.execute_reply": "2024-06-15T09:44:07.832794Z"
    },
    "papermill": {
     "duration": 0.030539,
     "end_time": "2024-06-15T09:44:07.836290",
     "exception": false,
     "start_time": "2024-06-15T09:44:07.805751",
     "status": "completed"
    },
    "tags": []
   },
   "outputs": [
    {
     "data": {
      "text/plain": [
       "int_col\n",
       "Black                         27600\n",
       "Beige                          7582\n",
       "Gray                           5901\n",
       "Brown                          1838\n",
       "Red                            1182\n",
       "–                               935\n",
       "White                           892\n",
       "Jet Black                       306\n",
       "Ebony                           201\n",
       "Orange                          173\n",
       "Blue                            147\n",
       "Silver                          100\n",
       "Gold                             89\n",
       "Green                            46\n",
       "Global Black                     44\n",
       "Medium Stone                     36\n",
       "Charcoal                         31\n",
       "Diesel Gray / Black              26\n",
       "Rioja Red                        25\n",
       "Black Onyx                       22\n",
       "Medium Dark Slate                22\n",
       "White / Brown                    22\n",
       "Graphite                         20\n",
       "Light Slate                      17\n",
       "Medium Earth Gray                17\n",
       "Shara Beige                      16\n",
       "Canberra Beige                   14\n",
       "Medium Light Camel               13\n",
       "Deep Chestnut                    13\n",
       "Ceramic                          13\n",
       "Sandstone                        12\n",
       "Tan                              11\n",
       "Ebony / Ebony Accents            11\n",
       "Charcoal Black                   10\n",
       "Ebony Black                      10\n",
       "Shale                            10\n",
       "Mesa                              9\n",
       "Nero Ade                          8\n",
       "Chestnut                          8\n",
       "Adrenaline Red                    7\n",
       "Light Titanium                    7\n",
       "Titan Black / Quarzit             7\n",
       "Portland                          6\n",
       "Platinum                          6\n",
       "Dark Galvanized                   6\n",
       "Light Platinum / Jet Black        6\n",
       "Charles Blue                      6\n",
       "Ice                               6\n",
       "Mountain Brown                    6\n",
       "Canberra Beige/Black              6\n",
       "Name: count, dtype: int64"
      ]
     },
     "execution_count": 24,
     "metadata": {},
     "output_type": "execute_result"
    }
   ],
   "source": [
    "# Look at colours value counts for binning\n",
    "int_col_counts = cleaned_train['int_col'].value_counts()\n",
    "int_col_counts.head(50)"
   ]
  },
  {
   "cell_type": "code",
   "execution_count": 25,
   "id": "af0bccb8",
   "metadata": {
    "execution": {
     "iopub.execute_input": "2024-06-15T09:44:07.868836Z",
     "iopub.status.busy": "2024-06-15T09:44:07.868477Z",
     "iopub.status.idle": "2024-06-15T09:44:07.879388Z",
     "shell.execute_reply": "2024-06-15T09:44:07.878254Z"
    },
    "papermill": {
     "duration": 0.030896,
     "end_time": "2024-06-15T09:44:07.882328",
     "exception": false,
     "start_time": "2024-06-15T09:44:07.851432",
     "status": "completed"
    },
    "tags": []
   },
   "outputs": [],
   "source": [
    "cleaned_train.loc[cleaned_train['int_col'] == '–', 'int_col'] = 'Other'"
   ]
  },
  {
   "cell_type": "code",
   "execution_count": 26,
   "id": "a0bdaecf",
   "metadata": {
    "execution": {
     "iopub.execute_input": "2024-06-15T09:44:07.915297Z",
     "iopub.status.busy": "2024-06-15T09:44:07.914133Z",
     "iopub.status.idle": "2024-06-15T09:44:08.292883Z",
     "shell.execute_reply": "2024-06-15T09:44:08.291605Z"
    },
    "papermill": {
     "duration": 0.397496,
     "end_time": "2024-06-15T09:44:08.295281",
     "exception": false,
     "start_time": "2024-06-15T09:44:07.897785",
     "status": "completed"
    },
    "tags": []
   },
   "outputs": [
    {
     "data": {
      "text/plain": [
       "int_col\n",
       "Black                    27600\n",
       "Beige                     7582\n",
       "Gray                      5901\n",
       "Brown                     1838\n",
       "Other                     1202\n",
       "Red                       1182\n",
       "White                      892\n",
       "Jet Black                  306\n",
       "Ebony                      201\n",
       "Orange                     173\n",
       "Blue                       147\n",
       "Silver                     100\n",
       "Gold                        89\n",
       "Green                       46\n",
       "Global Black                44\n",
       "Medium Stone                36\n",
       "Charcoal                    31\n",
       "Diesel Gray / Black         26\n",
       "Rioja Red                   25\n",
       "White / Brown               22\n",
       "Medium Dark Slate           22\n",
       "Black Onyx                  22\n",
       "Graphite                    20\n",
       "Light Slate                 17\n",
       "Medium Earth Gray           17\n",
       "Shara Beige                 16\n",
       "Canberra Beige              14\n",
       "Ceramic                     13\n",
       "Deep Chestnut               13\n",
       "Medium Light Camel          13\n",
       "Sandstone                   12\n",
       "Tan                         11\n",
       "Ebony / Ebony Accents       11\n",
       "Charcoal Black              10\n",
       "Ebony Black                 10\n",
       "Shale                       10\n",
       "Name: count, dtype: int64"
      ]
     },
     "execution_count": 26,
     "metadata": {},
     "output_type": "execute_result"
    }
   ],
   "source": [
    "cutoff_value = 10\n",
    "int_col_types_to_replace = int_col_counts[int_col_counts < cutoff_value].index\n",
    "\n",
    "# Replace in the dataframe\n",
    "for int_col_c in int_col_types_to_replace:\n",
    "    cleaned_train.loc[cleaned_train['int_col'] == int_col_c, 'int_col'] = \"Other\"\n",
    "\n",
    "# Check the updated value counts\n",
    "int_col_counts = cleaned_train['int_col'].value_counts()\n",
    "int_col_counts"
   ]
  },
  {
   "cell_type": "code",
   "execution_count": 27,
   "id": "bdbbf025",
   "metadata": {
    "execution": {
     "iopub.execute_input": "2024-06-15T09:44:08.328649Z",
     "iopub.status.busy": "2024-06-15T09:44:08.328275Z",
     "iopub.status.idle": "2024-06-15T09:44:08.367893Z",
     "shell.execute_reply": "2024-06-15T09:44:08.366681Z"
    },
    "papermill": {
     "duration": 0.059462,
     "end_time": "2024-06-15T09:44:08.370446",
     "exception": false,
     "start_time": "2024-06-15T09:44:08.310984",
     "status": "completed"
    },
    "tags": []
   },
   "outputs": [
    {
     "data": {
      "text/plain": [
       "brand             51\n",
       "model             94\n",
       "model_year        34\n",
       "milage          3093\n",
       "fuel_type          6\n",
       "engine           106\n",
       "transmission      29\n",
       "ext_col           32\n",
       "int_col           36\n",
       "accident           2\n",
       "clean_title        1\n",
       "price           1108\n",
       "dtype: int64"
      ]
     },
     "execution_count": 27,
     "metadata": {},
     "output_type": "execute_result"
    }
   ],
   "source": [
    "# Determine the cleaned number of unique values in each column.\n",
    "unique_counts = cleaned_train.nunique()\n",
    "unique_counts"
   ]
  },
  {
   "cell_type": "code",
   "execution_count": 28,
   "id": "c6a7a0e1",
   "metadata": {
    "execution": {
     "iopub.execute_input": "2024-06-15T09:44:08.403363Z",
     "iopub.status.busy": "2024-06-15T09:44:08.402847Z",
     "iopub.status.idle": "2024-06-15T09:44:08.415468Z",
     "shell.execute_reply": "2024-06-15T09:44:08.414218Z"
    },
    "papermill": {
     "duration": 0.03163,
     "end_time": "2024-06-15T09:44:08.417913",
     "exception": false,
     "start_time": "2024-06-15T09:44:08.386283",
     "status": "completed"
    },
    "tags": []
   },
   "outputs": [],
   "source": [
    "#The last column \"Clean_title\" is the same \"Yes\" answer for all rows, that gives no value to analysis. \n",
    "#Drop this column.\n",
    "final_train=cleaned_train.drop(columns=['clean_title'])\n"
   ]
  },
  {
   "cell_type": "code",
   "execution_count": 29,
   "id": "d6720cd8",
   "metadata": {
    "execution": {
     "iopub.execute_input": "2024-06-15T09:44:08.450488Z",
     "iopub.status.busy": "2024-06-15T09:44:08.450092Z",
     "iopub.status.idle": "2024-06-15T09:44:08.492901Z",
     "shell.execute_reply": "2024-06-15T09:44:08.491118Z"
    },
    "papermill": {
     "duration": 0.062749,
     "end_time": "2024-06-15T09:44:08.496062",
     "exception": false,
     "start_time": "2024-06-15T09:44:08.433313",
     "status": "completed"
    },
    "tags": []
   },
   "outputs": [
    {
     "name": "stdout",
     "output_type": "stream",
     "text": [
      "brand\n",
      "BMW              6331\n",
      "Ford             6008\n",
      "Mercedes-Benz    4118\n",
      "Chevrolet        3829\n",
      "Audi             2676\n",
      "Toyota           2174\n",
      "Jeep             2138\n",
      "Lexus            2121\n",
      "Porsche          1805\n",
      "Land             1567\n",
      "Cadillac         1387\n",
      "Nissan           1178\n",
      "GMC               972\n",
      "Dodge             932\n",
      "INFINITI          904\n",
      "RAM               883\n",
      "Mazda             737\n",
      "Subaru            727\n",
      "Lincoln           724\n",
      "Hyundai           687\n",
      "Honda             620\n",
      "Volkswagen        617\n",
      "Jaguar            590\n",
      "Acura             559\n",
      "Kia               498\n",
      "Volvo             429\n",
      "MINI              360\n",
      "Chrysler          253\n",
      "Maserati          243\n",
      "Buick             219\n",
      "Genesis           211\n",
      "Mitsubishi        179\n",
      "Hummer            175\n",
      "Pontiac           146\n",
      "Alfa              130\n",
      "Bentley           127\n",
      "Tesla              93\n",
      "Saturn             58\n",
      "Rolls-Royce        53\n",
      "Scion              52\n",
      "Lamborghini        42\n",
      "McLaren            20\n",
      "Aston              20\n",
      "Mercury            20\n",
      "Ferrari            19\n",
      "FIAT               16\n",
      "Lotus              10\n",
      "Rivian              9\n",
      "Suzuki              4\n",
      "Maybach             3\n",
      "Plymouth            1\n",
      "Name: count, dtype: int64\n",
      "model\n",
      "Other                      30227\n",
      "F-150 XLT                    733\n",
      "M3 Base                      610\n",
      "X5 xDrive35i                 590\n",
      "F-150 Lariat                 451\n",
      "                           ...  \n",
      "335 i xDrive                 103\n",
      "Sequoia Limited              100\n",
      "Golf GTI 2.0T SE 4-Door      100\n",
      "Civic EX                     100\n",
      "Cayman Base                  100\n",
      "Name: count, Length: 94, dtype: int64\n",
      "model_year\n",
      "2018    4428\n",
      "2016    4381\n",
      "2017    3693\n",
      "2019    3563\n",
      "2015    3492\n",
      "2020    3119\n",
      "2014    2853\n",
      "2021    2726\n",
      "2013    2360\n",
      "2012    2062\n",
      "2011    2056\n",
      "2022    2007\n",
      "2008    1694\n",
      "2007    1537\n",
      "2010    1455\n",
      "2005     935\n",
      "2009     924\n",
      "2006     844\n",
      "2004     731\n",
      "2023     685\n",
      "2003     551\n",
      "2001     455\n",
      "2002     385\n",
      "1999     175\n",
      "2000     147\n",
      "1998     114\n",
      "1997      79\n",
      "1996      71\n",
      "1993      46\n",
      "1995      42\n",
      "1994      35\n",
      "2024      15\n",
      "1992      12\n",
      "1974       2\n",
      "Name: count, dtype: int64\n",
      "milage\n",
      "60000     351\n",
      "120000    335\n",
      "110000    329\n",
      "170000    319\n",
      "87500     272\n",
      "         ... \n",
      "32580       1\n",
      "51803       1\n",
      "135570      1\n",
      "93100       1\n",
      "28750       1\n",
      "Name: count, Length: 3093, dtype: int64\n",
      "fuel_type\n",
      "Gasoline          43613\n",
      "E85 Flex Fuel      1435\n",
      "Hybrid             1323\n",
      "Diesel              889\n",
      "Other               266\n",
      "Plug-In Hybrid      148\n",
      "Name: count, dtype: int64\n",
      "engine\n",
      "Other                                                    20309\n",
      "300.0HP 3.0L Straight 6 Cylinder Engine Gasoline Fuel     1411\n",
      "355.0HP 5.3L 8 Cylinder Engine Gasoline Fuel              1067\n",
      "240.0HP 2.0L 4 Cylinder Engine Gasoline Fuel              1044\n",
      "285.0HP 3.6L V6 Cylinder Engine Gasoline Fuel              924\n",
      "                                                         ...  \n",
      "280.0HP 3.6L V6 Cylinder Engine Gasoline Fuel              105\n",
      "300.0HP 4.2L 8 Cylinder Engine Gasoline Fuel               103\n",
      "188.0HP 3.0L V6 Cylinder Engine Diesel Fuel                103\n",
      "310.0HP 3.0L V6 Cylinder Engine Gasoline Fuel              102\n",
      "518.0HP 5.0L 8 Cylinder Engine Gasoline Fuel               102\n",
      "Name: count, Length: 106, dtype: int64\n",
      "transmission\n",
      "A/T                                  15558\n",
      "8-Speed A/T                           5804\n",
      "6-Speed A/T                           5791\n",
      "Transmission w/Dual Shift Mode        5284\n",
      "6-Speed M/T                           3384\n",
      "7-Speed A/T                           2786\n",
      "10-Speed A/T                          1603\n",
      "5-Speed A/T                           1171\n",
      "8-Speed Automatic                      953\n",
      "9-Speed A/T                            805\n",
      "4-Speed A/T                            739\n",
      "5-Speed M/T                            711\n",
      "CVT Transmission                       680\n",
      "10-Speed Automatic                     519\n",
      "6-Speed Automatic                      483\n",
      "Automatic                              357\n",
      "M/T                                    339\n",
      "9-Speed Automatic                      279\n",
      "Automatic CVT                           91\n",
      "Transmission Overdrive Switch           53\n",
      "7-Speed Automatic with Auto-Shift       53\n",
      "7-Speed M/T                             46\n",
      "1-Speed A/T                             43\n",
      "Other                                   41\n",
      "7-Speed Automatic                       31\n",
      "5-Speed Automatic                       22\n",
      "6-Speed Manual                          18\n",
      "8-Speed Automatic with Auto-Shift       17\n",
      "6-Speed Automatic with Auto-Shift       13\n",
      "Name: count, dtype: int64\n",
      "ext_col\n",
      "Black                        13237\n",
      "White                        12006\n",
      "Gray                          6605\n",
      "Silver                        4751\n",
      "Blue                          4156\n",
      "Red                           2699\n",
      "Other                          983\n",
      "Green                          565\n",
      "Gold                           463\n",
      "Beige                          433\n",
      "Brown                          364\n",
      "Yellow                         277\n",
      "Orange                         243\n",
      "Agate Black Metallic           105\n",
      "Bright White Clearcoat          99\n",
      "Purple                          90\n",
      "Black Clearcoat                 77\n",
      "Summit White                    71\n",
      "Diamond Black                   59\n",
      "Silver Ice Metallic             57\n",
      "Delmonico Red Pearlcoat         51\n",
      "Soul Red Crystal Metallic       45\n",
      "Snowflake White Pearl           32\n",
      "Jet Black Mica                  27\n",
      "Ebony Twilight Metallic         27\n",
      "Firecracker Red Clearcoat       25\n",
      "Sonic Silver Metallic           23\n",
      "Cajun Red Tintcoat              22\n",
      "Black Sapphire Metallic         21\n",
      "Iconic Silver Metallic          21\n",
      "Magnetic Metallic               20\n",
      "Oxford White                    20\n",
      "Name: count, dtype: int64\n",
      "int_col\n",
      "Black                    27600\n",
      "Beige                     7582\n",
      "Gray                      5901\n",
      "Brown                     1838\n",
      "Other                     1202\n",
      "Red                       1182\n",
      "White                      892\n",
      "Jet Black                  306\n",
      "Ebony                      201\n",
      "Orange                     173\n",
      "Blue                       147\n",
      "Silver                     100\n",
      "Gold                        89\n",
      "Green                       46\n",
      "Global Black                44\n",
      "Medium Stone                36\n",
      "Charcoal                    31\n",
      "Diesel Gray / Black         26\n",
      "Rioja Red                   25\n",
      "White / Brown               22\n",
      "Medium Dark Slate           22\n",
      "Black Onyx                  22\n",
      "Graphite                    20\n",
      "Light Slate                 17\n",
      "Medium Earth Gray           17\n",
      "Shara Beige                 16\n",
      "Canberra Beige              14\n",
      "Ceramic                     13\n",
      "Deep Chestnut               13\n",
      "Medium Light Camel          13\n",
      "Sandstone                   12\n",
      "Tan                         11\n",
      "Ebony / Ebony Accents       11\n",
      "Charcoal Black              10\n",
      "Ebony Black                 10\n",
      "Shale                       10\n",
      "Name: count, dtype: int64\n",
      "accident\n",
      "None reported                             33864\n",
      "At least 1 accident or damage reported    13810\n",
      "Name: count, dtype: int64\n",
      "price\n",
      "15000    649\n",
      "12000    495\n",
      "30000    448\n",
      "8500     424\n",
      "17500    420\n",
      "        ... \n",
      "43389      1\n",
      "23739      1\n",
      "33531      1\n",
      "28906      1\n",
      "37998      1\n",
      "Name: count, Length: 1108, dtype: int64\n"
     ]
    }
   ],
   "source": [
    "# Display the value counts for each column\n",
    "for column in final_train.columns:\n",
    "    value_counts = final_train[column].value_counts()\n",
    "    print(value_counts)\n"
   ]
  },
  {
   "cell_type": "markdown",
   "id": "d0deae7d",
   "metadata": {
    "papermill": {
     "duration": 0.015817,
     "end_time": "2024-06-15T09:44:08.528577",
     "exception": false,
     "start_time": "2024-06-15T09:44:08.512760",
     "status": "completed"
    },
    "tags": []
   },
   "source": [
    "***Liner Regression***"
   ]
  },
  {
   "cell_type": "code",
   "execution_count": 30,
   "id": "8eb2f423",
   "metadata": {
    "execution": {
     "iopub.execute_input": "2024-06-15T09:44:08.562962Z",
     "iopub.status.busy": "2024-06-15T09:44:08.562573Z",
     "iopub.status.idle": "2024-06-15T09:44:08.962234Z",
     "shell.execute_reply": "2024-06-15T09:44:08.961209Z"
    },
    "papermill": {
     "duration": 0.4196,
     "end_time": "2024-06-15T09:44:08.964766",
     "exception": false,
     "start_time": "2024-06-15T09:44:08.545166",
     "status": "completed"
    },
    "tags": []
   },
   "outputs": [],
   "source": [
    "from sklearn.linear_model import LinearRegression"
   ]
  },
  {
   "cell_type": "code",
   "execution_count": 31,
   "id": "8008eac8",
   "metadata": {
    "execution": {
     "iopub.execute_input": "2024-06-15T09:44:08.998342Z",
     "iopub.status.busy": "2024-06-15T09:44:08.997953Z",
     "iopub.status.idle": "2024-06-15T09:44:09.094350Z",
     "shell.execute_reply": "2024-06-15T09:44:09.092981Z"
    },
    "papermill": {
     "duration": 0.11589,
     "end_time": "2024-06-15T09:44:09.096784",
     "exception": false,
     "start_time": "2024-06-15T09:44:08.980894",
     "status": "completed"
    },
    "tags": []
   },
   "outputs": [
    {
     "data": {
      "text/plain": [
       "(47674, 359)"
      ]
     },
     "execution_count": 31,
     "metadata": {},
     "output_type": "execute_result"
    }
   ],
   "source": [
    "# Convert categorical data to numeric with `pd.get_dummies`\n",
    "X = pd.get_dummies(final_train)\n",
    "X.shape\n"
   ]
  },
  {
   "cell_type": "code",
   "execution_count": 32,
   "id": "7b55891b",
   "metadata": {
    "execution": {
     "iopub.execute_input": "2024-06-15T09:44:09.129949Z",
     "iopub.status.busy": "2024-06-15T09:44:09.129555Z",
     "iopub.status.idle": "2024-06-15T09:44:09.134833Z",
     "shell.execute_reply": "2024-06-15T09:44:09.133772Z"
    },
    "papermill": {
     "duration": 0.024429,
     "end_time": "2024-06-15T09:44:09.136951",
     "exception": false,
     "start_time": "2024-06-15T09:44:09.112522",
     "status": "completed"
    },
    "tags": []
   },
   "outputs": [],
   "source": [
    "# Split our preprocessed data into our features and target arrays\n",
    "y=X['price'].values.reshape(-1, 1)"
   ]
  },
  {
   "cell_type": "code",
   "execution_count": 33,
   "id": "c233249f",
   "metadata": {
    "execution": {
     "iopub.execute_input": "2024-06-15T09:44:09.169792Z",
     "iopub.status.busy": "2024-06-15T09:44:09.169405Z",
     "iopub.status.idle": "2024-06-15T09:44:09.191628Z",
     "shell.execute_reply": "2024-06-15T09:44:09.190588Z"
    },
    "papermill": {
     "duration": 0.041992,
     "end_time": "2024-06-15T09:44:09.194489",
     "exception": false,
     "start_time": "2024-06-15T09:44:09.152497",
     "status": "completed"
    },
    "tags": []
   },
   "outputs": [],
   "source": [
    "#Removing the price from the prediction features\n",
    "X = X.drop(['price'], axis=1)\n"
   ]
  },
  {
   "cell_type": "code",
   "execution_count": 34,
   "id": "6fbeeb79",
   "metadata": {
    "execution": {
     "iopub.execute_input": "2024-06-15T09:44:09.228556Z",
     "iopub.status.busy": "2024-06-15T09:44:09.228176Z",
     "iopub.status.idle": "2024-06-15T09:44:10.704441Z",
     "shell.execute_reply": "2024-06-15T09:44:10.703032Z"
    },
    "papermill": {
     "duration": 1.49719,
     "end_time": "2024-06-15T09:44:10.707767",
     "exception": false,
     "start_time": "2024-06-15T09:44:09.210577",
     "status": "completed"
    },
    "tags": []
   },
   "outputs": [
    {
     "data": {
      "text/html": [
       "<style>#sk-container-id-1 {color: black;background-color: white;}#sk-container-id-1 pre{padding: 0;}#sk-container-id-1 div.sk-toggleable {background-color: white;}#sk-container-id-1 label.sk-toggleable__label {cursor: pointer;display: block;width: 100%;margin-bottom: 0;padding: 0.3em;box-sizing: border-box;text-align: center;}#sk-container-id-1 label.sk-toggleable__label-arrow:before {content: \"▸\";float: left;margin-right: 0.25em;color: #696969;}#sk-container-id-1 label.sk-toggleable__label-arrow:hover:before {color: black;}#sk-container-id-1 div.sk-estimator:hover label.sk-toggleable__label-arrow:before {color: black;}#sk-container-id-1 div.sk-toggleable__content {max-height: 0;max-width: 0;overflow: hidden;text-align: left;background-color: #f0f8ff;}#sk-container-id-1 div.sk-toggleable__content pre {margin: 0.2em;color: black;border-radius: 0.25em;background-color: #f0f8ff;}#sk-container-id-1 input.sk-toggleable__control:checked~div.sk-toggleable__content {max-height: 200px;max-width: 100%;overflow: auto;}#sk-container-id-1 input.sk-toggleable__control:checked~label.sk-toggleable__label-arrow:before {content: \"▾\";}#sk-container-id-1 div.sk-estimator input.sk-toggleable__control:checked~label.sk-toggleable__label {background-color: #d4ebff;}#sk-container-id-1 div.sk-label input.sk-toggleable__control:checked~label.sk-toggleable__label {background-color: #d4ebff;}#sk-container-id-1 input.sk-hidden--visually {border: 0;clip: rect(1px 1px 1px 1px);clip: rect(1px, 1px, 1px, 1px);height: 1px;margin: -1px;overflow: hidden;padding: 0;position: absolute;width: 1px;}#sk-container-id-1 div.sk-estimator {font-family: monospace;background-color: #f0f8ff;border: 1px dotted black;border-radius: 0.25em;box-sizing: border-box;margin-bottom: 0.5em;}#sk-container-id-1 div.sk-estimator:hover {background-color: #d4ebff;}#sk-container-id-1 div.sk-parallel-item::after {content: \"\";width: 100%;border-bottom: 1px solid gray;flex-grow: 1;}#sk-container-id-1 div.sk-label:hover label.sk-toggleable__label {background-color: #d4ebff;}#sk-container-id-1 div.sk-serial::before {content: \"\";position: absolute;border-left: 1px solid gray;box-sizing: border-box;top: 0;bottom: 0;left: 50%;z-index: 0;}#sk-container-id-1 div.sk-serial {display: flex;flex-direction: column;align-items: center;background-color: white;padding-right: 0.2em;padding-left: 0.2em;position: relative;}#sk-container-id-1 div.sk-item {position: relative;z-index: 1;}#sk-container-id-1 div.sk-parallel {display: flex;align-items: stretch;justify-content: center;background-color: white;position: relative;}#sk-container-id-1 div.sk-item::before, #sk-container-id-1 div.sk-parallel-item::before {content: \"\";position: absolute;border-left: 1px solid gray;box-sizing: border-box;top: 0;bottom: 0;left: 50%;z-index: -1;}#sk-container-id-1 div.sk-parallel-item {display: flex;flex-direction: column;z-index: 1;position: relative;background-color: white;}#sk-container-id-1 div.sk-parallel-item:first-child::after {align-self: flex-end;width: 50%;}#sk-container-id-1 div.sk-parallel-item:last-child::after {align-self: flex-start;width: 50%;}#sk-container-id-1 div.sk-parallel-item:only-child::after {width: 0;}#sk-container-id-1 div.sk-dashed-wrapped {border: 1px dashed gray;margin: 0 0.4em 0.5em 0.4em;box-sizing: border-box;padding-bottom: 0.4em;background-color: white;}#sk-container-id-1 div.sk-label label {font-family: monospace;font-weight: bold;display: inline-block;line-height: 1.2em;}#sk-container-id-1 div.sk-label-container {text-align: center;}#sk-container-id-1 div.sk-container {/* jupyter's `normalize.less` sets `[hidden] { display: none; }` but bootstrap.min.css set `[hidden] { display: none !important; }` so we also need the `!important` here to be able to override the default hidden behavior on the sphinx rendered scikit-learn.org. See: https://github.com/scikit-learn/scikit-learn/issues/21755 */display: inline-block !important;position: relative;}#sk-container-id-1 div.sk-text-repr-fallback {display: none;}</style><div id=\"sk-container-id-1\" class=\"sk-top-container\"><div class=\"sk-text-repr-fallback\"><pre>LinearRegression()</pre><b>In a Jupyter environment, please rerun this cell to show the HTML representation or trust the notebook. <br />On GitHub, the HTML representation is unable to render, please try loading this page with nbviewer.org.</b></div><div class=\"sk-container\" hidden><div class=\"sk-item\"><div class=\"sk-estimator sk-toggleable\"><input class=\"sk-toggleable__control sk-hidden--visually\" id=\"sk-estimator-id-1\" type=\"checkbox\" checked><label for=\"sk-estimator-id-1\" class=\"sk-toggleable__label sk-toggleable__label-arrow\">LinearRegression</label><div class=\"sk-toggleable__content\"><pre>LinearRegression()</pre></div></div></div></div></div>"
      ],
      "text/plain": [
       "LinearRegression()"
      ]
     },
     "execution_count": 34,
     "metadata": {},
     "output_type": "execute_result"
    }
   ],
   "source": [
    "lm = LinearRegression()\n",
    "lm.fit(X,y)"
   ]
  },
  {
   "cell_type": "code",
   "execution_count": 35,
   "id": "50ab5220",
   "metadata": {
    "execution": {
     "iopub.execute_input": "2024-06-15T09:44:10.763591Z",
     "iopub.status.busy": "2024-06-15T09:44:10.762969Z",
     "iopub.status.idle": "2024-06-15T09:44:10.960311Z",
     "shell.execute_reply": "2024-06-15T09:44:10.959042Z"
    },
    "papermill": {
     "duration": 0.230181,
     "end_time": "2024-06-15T09:44:10.964730",
     "exception": false,
     "start_time": "2024-06-15T09:44:10.734549",
     "status": "completed"
    },
    "tags": []
   },
   "outputs": [
    {
     "data": {
      "text/plain": [
       "array([[41478.50668335],\n",
       "       [15646.14181519],\n",
       "       [16779.60705566],\n",
       "       [51436.94760132],\n",
       "       [ 8594.50393677]])"
      ]
     },
     "execution_count": 35,
     "metadata": {},
     "output_type": "execute_result"
    }
   ],
   "source": [
    "#make predictions\n",
    "yhat = lm.predict(X)\n",
    "yhat[0:5]"
   ]
  },
  {
   "cell_type": "code",
   "execution_count": 36,
   "id": "ae0872ed",
   "metadata": {
    "execution": {
     "iopub.execute_input": "2024-06-15T09:44:11.021666Z",
     "iopub.status.busy": "2024-06-15T09:44:11.021165Z",
     "iopub.status.idle": "2024-06-15T09:44:11.028829Z",
     "shell.execute_reply": "2024-06-15T09:44:11.027739Z"
    },
    "papermill": {
     "duration": 0.043737,
     "end_time": "2024-06-15T09:44:11.036488",
     "exception": false,
     "start_time": "2024-06-15T09:44:10.992751",
     "status": "completed"
    },
    "tags": []
   },
   "outputs": [
    {
     "data": {
      "text/plain": [
       "array([-5.78806342e+10])"
      ]
     },
     "execution_count": 36,
     "metadata": {},
     "output_type": "execute_result"
    }
   ],
   "source": [
    "#find the intercept\n",
    "lm.intercept_"
   ]
  },
  {
   "cell_type": "code",
   "execution_count": 37,
   "id": "29ac24a4",
   "metadata": {
    "execution": {
     "iopub.execute_input": "2024-06-15T09:44:11.084431Z",
     "iopub.status.busy": "2024-06-15T09:44:11.084027Z",
     "iopub.status.idle": "2024-06-15T09:44:11.093728Z",
     "shell.execute_reply": "2024-06-15T09:44:11.092646Z"
    },
    "papermill": {
     "duration": 0.032656,
     "end_time": "2024-06-15T09:44:11.096032",
     "exception": false,
     "start_time": "2024-06-15T09:44:11.063376",
     "status": "completed"
    },
    "tags": []
   },
   "outputs": [
    {
     "data": {
      "text/plain": [
       "array([[ 1.04101121e+03, -9.14066169e-02,  5.84567407e+09,\n",
       "         5.84567505e+09,  5.84568304e+09,  5.84567819e+09,\n",
       "         5.84567821e+09,  5.84568112e+09,  5.84567410e+09,\n",
       "         5.84567498e+09,  5.84567648e+09,  5.84567185e+09,\n",
       "         5.84567747e+09,  5.84566276e+09,  5.84567719e+09,\n",
       "         5.84567775e+09,  5.84567416e+09,  5.84567705e+09,\n",
       "         5.84567472e+09,  5.84567595e+09,  5.84567034e+09,\n",
       "         5.84567549e+09,  5.84567664e+09,  5.84567532e+09,\n",
       "         5.84567178e+09,  5.84567836e+09,  5.84567731e+09,\n",
       "         5.84567704e+09,  5.84567577e+09,  5.84568672e+09,\n",
       "         5.84567010e+09,  5.84567890e+09,  5.84571338e+09,\n",
       "         5.84567207e+09,  5.84568160e+09,  5.84568067e+09,\n",
       "         5.84568057e+09,  5.84567180e+09,  5.84567407e+09,\n",
       "         5.84566212e+09,  5.84567739e+09,  5.84568110e+09,\n",
       "         5.84568040e+09,  5.84567911e+09,  5.84569007e+09,\n",
       "         5.84567450e+09,  5.84566869e+09,  5.84567214e+09,\n",
       "         5.84566721e+09,  5.84568089e+09,  5.84567739e+09,\n",
       "         5.84567233e+09,  5.84567475e+09,  8.06180035e+07,\n",
       "         8.06206104e+07,  8.06177487e+07,  8.06169907e+07,\n",
       "         8.06171113e+07,  8.06188426e+07,  8.06179659e+07,\n",
       "         8.06180235e+07,  8.06181467e+07,  8.06231328e+07,\n",
       "         8.06204045e+07,  8.06158169e+07,  8.06181980e+07,\n",
       "         8.06197551e+07,  8.06186571e+07,  8.06237473e+07,\n",
       "         8.06171072e+07,  8.06142525e+07,  8.06142927e+07,\n",
       "         8.06162958e+07,  8.06164768e+07,  8.06147987e+07,\n",
       "         8.06164233e+07,  8.06194436e+07,  8.06258657e+07,\n",
       "         8.06194232e+07,  8.06171684e+07,  8.06166442e+07,\n",
       "         8.06188631e+07,  8.06165918e+07,  8.06197287e+07,\n",
       "         8.06200326e+07,  8.06163812e+07,  8.06229615e+07,\n",
       "         8.06194174e+07,  8.06207792e+07,  8.06208336e+07,\n",
       "         8.06115996e+07,  8.06161987e+07,  8.06227299e+07,\n",
       "         8.06207911e+07,  8.06235168e+07,  8.06228257e+07,\n",
       "         8.06194151e+07,  8.06250553e+07,  8.06200890e+07,\n",
       "         8.06229666e+07,  8.06188363e+07,  8.06298193e+07,\n",
       "         8.06224630e+07,  8.06180881e+07,  8.06253450e+07,\n",
       "         8.06231763e+07,  8.06187183e+07,  8.06190680e+07,\n",
       "         8.06220847e+07,  8.06140118e+07,  8.06184038e+07,\n",
       "         8.06182090e+07,  8.06201403e+07,  8.06209366e+07,\n",
       "         8.06177881e+07,  8.06185835e+07,  8.06190426e+07,\n",
       "         8.06210869e+07,  8.06189889e+07,  8.06201659e+07,\n",
       "         8.06204123e+07,  8.06207019e+07,  8.06194389e+07,\n",
       "         8.06225642e+07,  8.06170937e+07,  8.06195779e+07,\n",
       "         8.06202154e+07,  8.06211863e+07,  8.06140889e+07,\n",
       "         8.06230278e+07,  8.06209702e+07,  8.06179671e+07,\n",
       "         8.06196700e+07,  8.06195325e+07,  8.06208219e+07,\n",
       "         8.06188875e+07,  8.06195870e+07,  8.06197954e+07,\n",
       "         8.06204470e+07,  8.06159837e+07,  8.06243902e+07,\n",
       "         8.06232606e+07,  8.06253635e+07,  8.06201763e+07,\n",
       "         8.06211626e+07,  8.06222105e+07,  8.06187557e+07,\n",
       "         1.77758107e+10,  1.77758044e+10,  1.77758045e+10,\n",
       "         1.77758030e+10,  1.77758036e+10,  1.77758029e+10,\n",
       "         2.24364644e+09,  2.24364270e+09,  2.24364343e+09,\n",
       "         2.24364215e+09,  2.24364784e+09,  2.24364026e+09,\n",
       "         2.24364220e+09,  2.24363909e+09,  2.24364237e+09,\n",
       "         2.24364235e+09,  2.24363714e+09,  2.24363838e+09,\n",
       "         2.24364033e+09,  2.24364216e+09,  2.24364077e+09,\n",
       "         2.24363625e+09,  2.24363645e+09,  2.24363876e+09,\n",
       "         2.24364083e+09,  2.24363894e+09,  2.24363745e+09,\n",
       "         2.24363892e+09,  2.24364420e+09,  2.24364007e+09,\n",
       "         2.24364349e+09,  2.24363880e+09,  2.24364200e+09,\n",
       "         2.24364192e+09,  2.24364267e+09,  2.24364151e+09,\n",
       "         2.24364192e+09,  2.24364261e+09,  2.24363782e+09,\n",
       "         2.24364221e+09,  2.24364277e+09,  2.24364343e+09,\n",
       "         2.24364366e+09,  2.24364030e+09,  2.24364551e+09,\n",
       "         2.24364263e+09,  2.24364459e+09,  2.24364375e+09,\n",
       "         2.24364511e+09,  2.24364131e+09,  2.24363868e+09,\n",
       "         2.24363735e+09,  2.24364256e+09,  2.24364319e+09,\n",
       "         2.24364600e+09,  2.24364523e+09,  2.24363841e+09,\n",
       "         2.24364159e+09,  2.24364135e+09,  2.24363834e+09,\n",
       "         2.24364385e+09,  2.24363979e+09,  2.24364274e+09,\n",
       "         2.24364297e+09,  2.24364585e+09,  2.24364146e+09,\n",
       "         2.24364638e+09,  2.24364404e+09,  2.24364112e+09,\n",
       "         2.24364001e+09,  2.24364366e+09,  2.24364401e+09,\n",
       "         2.24364486e+09,  2.24364830e+09,  2.24364304e+09,\n",
       "         2.24364960e+09,  2.24364201e+09,  2.24364091e+09,\n",
       "         2.24364702e+09,  2.24364802e+09,  2.24365009e+09,\n",
       "         2.24365206e+09,  2.24364374e+09,  2.24364788e+09,\n",
       "         2.24364999e+09,  2.24364374e+09,  2.24364520e+09,\n",
       "         2.24364411e+09,  2.24364538e+09,  2.24364231e+09,\n",
       "         2.24364401e+09,  2.24365007e+09,  2.24365178e+09,\n",
       "         2.24365155e+09,  2.24364707e+09,  2.24364667e+09,\n",
       "         2.24365298e+09,  2.24365205e+09,  2.24365250e+09,\n",
       "         2.24364838e+09,  2.24365266e+09,  2.24364849e+09,\n",
       "         2.24364583e+09,  2.24364218e+09,  2.24364903e+09,\n",
       "         2.24364576e+09,  2.24365268e+09,  2.24365380e+09,\n",
       "         2.24364723e+09,  2.24364949e+09,  2.24364384e+09,\n",
       "         2.24365047e+09,  3.78217503e+09,  3.78217834e+09,\n",
       "         3.78218055e+09,  3.78217532e+09,  3.78217445e+09,\n",
       "         3.78217717e+09,  3.78217654e+09,  3.78217299e+09,\n",
       "         3.78217494e+09,  3.78216962e+09,  3.78217615e+09,\n",
       "         3.78217883e+09,  3.78217640e+09,  3.78217510e+09,\n",
       "         3.78217664e+09,  3.78218764e+09,  3.78217665e+09,\n",
       "         3.78217590e+09,  3.78217501e+09,  3.78217802e+09,\n",
       "         3.78217708e+09,  3.78217403e+09,  3.78217736e+09,\n",
       "         3.78217389e+09,  3.78217284e+09,  3.78217566e+09,\n",
       "         3.78217974e+09,  3.78217505e+09,  3.78217641e+09,\n",
       "         1.38633798e+09,  1.38633921e+09,  1.38633920e+09,\n",
       "         1.38634073e+09,  1.38634105e+09,  1.38633964e+09,\n",
       "         1.38634132e+09,  1.38633808e+09,  1.38633556e+09,\n",
       "         1.38634076e+09,  1.38633946e+09,  1.38634113e+09,\n",
       "         1.38633823e+09,  1.38633874e+09,  1.38633961e+09,\n",
       "         1.38634190e+09,  1.38634030e+09,  1.38633901e+09,\n",
       "         1.38633589e+09,  1.38634057e+09,  1.38633896e+09,\n",
       "         1.38634002e+09,  1.38633938e+09,  1.38633903e+09,\n",
       "         1.38633844e+09,  1.38633961e+09,  1.38633968e+09,\n",
       "         1.38634066e+09,  1.38633817e+09,  1.38633946e+09,\n",
       "         1.38633918e+09,  1.38633869e+09, -5.39041332e+09,\n",
       "        -5.39041216e+09, -5.39041528e+09, -5.39041303e+09,\n",
       "        -5.39041094e+09, -5.39041201e+09, -5.39041696e+09,\n",
       "        -5.39041382e+09, -5.39041662e+09, -5.39040999e+09,\n",
       "        -5.39041365e+09, -5.39041535e+09, -5.39041376e+09,\n",
       "        -5.39041501e+09, -5.39040962e+09, -5.39041207e+09,\n",
       "        -5.39040883e+09, -5.39041294e+09, -5.39041229e+09,\n",
       "        -5.39041332e+09, -5.39041451e+09, -5.39041217e+09,\n",
       "        -5.39040925e+09, -5.39041167e+09, -5.39041456e+09,\n",
       "        -5.39041263e+09, -5.39041289e+09, -5.39041150e+09,\n",
       "        -5.39040618e+09, -5.39040741e+09, -5.39041238e+09,\n",
       "        -5.39041108e+09, -5.39041171e+09, -5.39041626e+09,\n",
       "        -5.39041127e+09, -5.39041149e+09,  3.21547225e+10,\n",
       "         3.21547244e+10]])"
      ]
     },
     "execution_count": 37,
     "metadata": {},
     "output_type": "execute_result"
    }
   ],
   "source": [
    "#find the slope\n",
    "lm.coef_"
   ]
  },
  {
   "cell_type": "code",
   "execution_count": 38,
   "id": "ace57cd7",
   "metadata": {
    "execution": {
     "iopub.execute_input": "2024-06-15T09:44:11.130313Z",
     "iopub.status.busy": "2024-06-15T09:44:11.129887Z",
     "iopub.status.idle": "2024-06-15T09:44:11.137311Z",
     "shell.execute_reply": "2024-06-15T09:44:11.136089Z"
    },
    "papermill": {
     "duration": 0.027149,
     "end_time": "2024-06-15T09:44:11.139483",
     "exception": false,
     "start_time": "2024-06-15T09:44:11.112334",
     "status": "completed"
    },
    "tags": []
   },
   "outputs": [
    {
     "name": "stdout",
     "output_type": "stream",
     "text": [
      "Mean Squared Error (MSE): 93163025.59848437\n"
     ]
    }
   ],
   "source": [
    "#find the MSE\n",
    "from sklearn.metrics import mean_squared_error\n",
    "\n",
    "# Calculate the mean squared error\n",
    "mse = mean_squared_error(y, yhat)\n",
    "\n",
    "# Print the MSE\n",
    "print(\"Mean Squared Error (MSE):\", mse)\n"
   ]
  },
  {
   "cell_type": "code",
   "execution_count": 39,
   "id": "8a308017",
   "metadata": {
    "execution": {
     "iopub.execute_input": "2024-06-15T09:44:11.173892Z",
     "iopub.status.busy": "2024-06-15T09:44:11.173503Z",
     "iopub.status.idle": "2024-06-15T09:44:11.180593Z",
     "shell.execute_reply": "2024-06-15T09:44:11.179347Z"
    },
    "papermill": {
     "duration": 0.027164,
     "end_time": "2024-06-15T09:44:11.182849",
     "exception": false,
     "start_time": "2024-06-15T09:44:11.155685",
     "status": "completed"
    },
    "tags": []
   },
   "outputs": [
    {
     "data": {
      "text/plain": [
       "9652.099543544107"
      ]
     },
     "execution_count": 39,
     "metadata": {},
     "output_type": "execute_result"
    }
   ],
   "source": [
    "#find the RMSE\n",
    "rmse = np.sqrt(mse)\n",
    "rmse"
   ]
  },
  {
   "cell_type": "code",
   "execution_count": 40,
   "id": "ab3af129",
   "metadata": {
    "execution": {
     "iopub.execute_input": "2024-06-15T09:44:11.218403Z",
     "iopub.status.busy": "2024-06-15T09:44:11.217039Z",
     "iopub.status.idle": "2024-06-15T09:44:11.225558Z",
     "shell.execute_reply": "2024-06-15T09:44:11.224532Z"
    },
    "papermill": {
     "duration": 0.028786,
     "end_time": "2024-06-15T09:44:11.227928",
     "exception": false,
     "start_time": "2024-06-15T09:44:11.199142",
     "status": "completed"
    },
    "tags": []
   },
   "outputs": [
    {
     "data": {
      "text/plain": [
       "0.6073775536095762"
      ]
     },
     "execution_count": 40,
     "metadata": {},
     "output_type": "execute_result"
    }
   ],
   "source": [
    "#find rscore\n",
    "from sklearn.metrics import r2_score\n",
    "r2_score(y, yhat)"
   ]
  },
  {
   "cell_type": "markdown",
   "id": "393e0081",
   "metadata": {
    "papermill": {
     "duration": 0.0163,
     "end_time": "2024-06-15T09:44:11.261376",
     "exception": false,
     "start_time": "2024-06-15T09:44:11.245076",
     "status": "completed"
    },
    "tags": []
   },
   "source": [
    "# Validation with test data"
   ]
  },
  {
   "cell_type": "code",
   "execution_count": 41,
   "id": "7bcca3aa",
   "metadata": {
    "execution": {
     "iopub.execute_input": "2024-06-15T09:44:11.296670Z",
     "iopub.status.busy": "2024-06-15T09:44:11.296232Z",
     "iopub.status.idle": "2024-06-15T09:44:11.317314Z",
     "shell.execute_reply": "2024-06-15T09:44:11.316168Z"
    },
    "papermill": {
     "duration": 0.041463,
     "end_time": "2024-06-15T09:44:11.319711",
     "exception": false,
     "start_time": "2024-06-15T09:44:11.278248",
     "status": "completed"
    },
    "tags": []
   },
   "outputs": [
    {
     "data": {
      "text/html": [
       "<div>\n",
       "<style scoped>\n",
       "    .dataframe tbody tr th:only-of-type {\n",
       "        vertical-align: middle;\n",
       "    }\n",
       "\n",
       "    .dataframe tbody tr th {\n",
       "        vertical-align: top;\n",
       "    }\n",
       "\n",
       "    .dataframe thead th {\n",
       "        text-align: right;\n",
       "    }\n",
       "</style>\n",
       "<table border=\"1\" class=\"dataframe\">\n",
       "  <thead>\n",
       "    <tr style=\"text-align: right;\">\n",
       "      <th></th>\n",
       "      <th>brand</th>\n",
       "      <th>model</th>\n",
       "      <th>model_year</th>\n",
       "      <th>milage</th>\n",
       "      <th>fuel_type</th>\n",
       "      <th>engine</th>\n",
       "      <th>transmission</th>\n",
       "      <th>ext_col</th>\n",
       "      <th>int_col</th>\n",
       "      <th>accident</th>\n",
       "      <th>clean_title</th>\n",
       "    </tr>\n",
       "    <tr>\n",
       "      <th>id</th>\n",
       "      <th></th>\n",
       "      <th></th>\n",
       "      <th></th>\n",
       "      <th></th>\n",
       "      <th></th>\n",
       "      <th></th>\n",
       "      <th></th>\n",
       "      <th></th>\n",
       "      <th></th>\n",
       "      <th></th>\n",
       "      <th></th>\n",
       "    </tr>\n",
       "  </thead>\n",
       "  <tbody>\n",
       "    <tr>\n",
       "      <th>54273</th>\n",
       "      <td>Mercedes-Benz</td>\n",
       "      <td>E-Class E 350</td>\n",
       "      <td>2014</td>\n",
       "      <td>73000</td>\n",
       "      <td>Gasoline</td>\n",
       "      <td>302.0HP 3.5L V6 Cylinder Engine Gasoline Fuel</td>\n",
       "      <td>A/T</td>\n",
       "      <td>White</td>\n",
       "      <td>Beige</td>\n",
       "      <td>None reported</td>\n",
       "      <td>Yes</td>\n",
       "    </tr>\n",
       "    <tr>\n",
       "      <th>54274</th>\n",
       "      <td>Lexus</td>\n",
       "      <td>RX 350 Base</td>\n",
       "      <td>2015</td>\n",
       "      <td>128032</td>\n",
       "      <td>Gasoline</td>\n",
       "      <td>275.0HP 3.5L V6 Cylinder Engine Gasoline Fuel</td>\n",
       "      <td>8-Speed A/T</td>\n",
       "      <td>Silver</td>\n",
       "      <td>Black</td>\n",
       "      <td>None reported</td>\n",
       "      <td>Yes</td>\n",
       "    </tr>\n",
       "    <tr>\n",
       "      <th>54275</th>\n",
       "      <td>Mercedes-Benz</td>\n",
       "      <td>C-Class C 300</td>\n",
       "      <td>2015</td>\n",
       "      <td>51983</td>\n",
       "      <td>Gasoline</td>\n",
       "      <td>241.0HP 2.0L 4 Cylinder Engine Gasoline Fuel</td>\n",
       "      <td>7-Speed A/T</td>\n",
       "      <td>Blue</td>\n",
       "      <td>White</td>\n",
       "      <td>None reported</td>\n",
       "      <td>Yes</td>\n",
       "    </tr>\n",
       "    <tr>\n",
       "      <th>54276</th>\n",
       "      <td>Land</td>\n",
       "      <td>Rover Range Rover 5.0L Supercharged Autobiogra...</td>\n",
       "      <td>2018</td>\n",
       "      <td>29500</td>\n",
       "      <td>Gasoline</td>\n",
       "      <td>518.0HP 5.0L 8 Cylinder Engine Gasoline Fuel</td>\n",
       "      <td>Transmission w/Dual Shift Mode</td>\n",
       "      <td>White</td>\n",
       "      <td>White</td>\n",
       "      <td>At least 1 accident or damage reported</td>\n",
       "      <td>Yes</td>\n",
       "    </tr>\n",
       "    <tr>\n",
       "      <th>54277</th>\n",
       "      <td>BMW</td>\n",
       "      <td>X6 xDrive40i</td>\n",
       "      <td>2020</td>\n",
       "      <td>90000</td>\n",
       "      <td>Gasoline</td>\n",
       "      <td>335.0HP 3.0L Straight 6 Cylinder Engine Gasoli...</td>\n",
       "      <td>8-Speed A/T</td>\n",
       "      <td>White</td>\n",
       "      <td>Black</td>\n",
       "      <td>At least 1 accident or damage reported</td>\n",
       "      <td>Yes</td>\n",
       "    </tr>\n",
       "    <tr>\n",
       "      <th>...</th>\n",
       "      <td>...</td>\n",
       "      <td>...</td>\n",
       "      <td>...</td>\n",
       "      <td>...</td>\n",
       "      <td>...</td>\n",
       "      <td>...</td>\n",
       "      <td>...</td>\n",
       "      <td>...</td>\n",
       "      <td>...</td>\n",
       "      <td>...</td>\n",
       "      <td>...</td>\n",
       "    </tr>\n",
       "    <tr>\n",
       "      <th>90451</th>\n",
       "      <td>GMC</td>\n",
       "      <td>Yukon Denali</td>\n",
       "      <td>2019</td>\n",
       "      <td>4500</td>\n",
       "      <td>Gasoline</td>\n",
       "      <td>420.0HP 6.2L 8 Cylinder Engine Gasoline Fuel</td>\n",
       "      <td>10-Speed A/T</td>\n",
       "      <td>Gray</td>\n",
       "      <td>Black</td>\n",
       "      <td>None reported</td>\n",
       "      <td>Yes</td>\n",
       "    </tr>\n",
       "    <tr>\n",
       "      <th>90452</th>\n",
       "      <td>Chevrolet</td>\n",
       "      <td>Silverado 1500 Z71 Extended Cab</td>\n",
       "      <td>2004</td>\n",
       "      <td>185000</td>\n",
       "      <td>Gasoline</td>\n",
       "      <td>295.0HP 5.3L 8 Cylinder Engine Gasoline Fuel</td>\n",
       "      <td>4-Speed A/T</td>\n",
       "      <td>Red</td>\n",
       "      <td>Gray</td>\n",
       "      <td>At least 1 accident or damage reported</td>\n",
       "      <td>Yes</td>\n",
       "    </tr>\n",
       "    <tr>\n",
       "      <th>90453</th>\n",
       "      <td>Toyota</td>\n",
       "      <td>Corolla LE</td>\n",
       "      <td>2011</td>\n",
       "      <td>116000</td>\n",
       "      <td>Gasoline</td>\n",
       "      <td>132.0HP 1.8L 4 Cylinder Engine Gasoline Fuel</td>\n",
       "      <td>5-Speed M/T</td>\n",
       "      <td>Beige</td>\n",
       "      <td>Gray</td>\n",
       "      <td>None reported</td>\n",
       "      <td>Yes</td>\n",
       "    </tr>\n",
       "    <tr>\n",
       "      <th>90454</th>\n",
       "      <td>Lincoln</td>\n",
       "      <td>Navigator Reserve</td>\n",
       "      <td>2019</td>\n",
       "      <td>39000</td>\n",
       "      <td>Gasoline</td>\n",
       "      <td>450.0HP 3.5L V6 Cylinder Engine Gasoline Fuel</td>\n",
       "      <td>10-Speed A/T</td>\n",
       "      <td>Black</td>\n",
       "      <td>Orange</td>\n",
       "      <td>None reported</td>\n",
       "      <td>Yes</td>\n",
       "    </tr>\n",
       "    <tr>\n",
       "      <th>90455</th>\n",
       "      <td>Chevrolet</td>\n",
       "      <td>Tahoe LT</td>\n",
       "      <td>2012</td>\n",
       "      <td>162731</td>\n",
       "      <td>E85 Flex Fuel</td>\n",
       "      <td>320.0HP 5.3L 8 Cylinder Engine Flex Fuel Capab...</td>\n",
       "      <td>A/T</td>\n",
       "      <td>Black</td>\n",
       "      <td>Black</td>\n",
       "      <td>At least 1 accident or damage reported</td>\n",
       "      <td>Yes</td>\n",
       "    </tr>\n",
       "  </tbody>\n",
       "</table>\n",
       "<p>36183 rows × 11 columns</p>\n",
       "</div>"
      ],
      "text/plain": [
       "               brand                                              model  \\\n",
       "id                                                                        \n",
       "54273  Mercedes-Benz                                      E-Class E 350   \n",
       "54274          Lexus                                        RX 350 Base   \n",
       "54275  Mercedes-Benz                                      C-Class C 300   \n",
       "54276           Land  Rover Range Rover 5.0L Supercharged Autobiogra...   \n",
       "54277            BMW                                       X6 xDrive40i   \n",
       "...              ...                                                ...   \n",
       "90451            GMC                                       Yukon Denali   \n",
       "90452      Chevrolet                    Silverado 1500 Z71 Extended Cab   \n",
       "90453         Toyota                                         Corolla LE   \n",
       "90454        Lincoln                                  Navigator Reserve   \n",
       "90455      Chevrolet                                           Tahoe LT   \n",
       "\n",
       "       model_year  milage      fuel_type  \\\n",
       "id                                         \n",
       "54273        2014   73000       Gasoline   \n",
       "54274        2015  128032       Gasoline   \n",
       "54275        2015   51983       Gasoline   \n",
       "54276        2018   29500       Gasoline   \n",
       "54277        2020   90000       Gasoline   \n",
       "...           ...     ...            ...   \n",
       "90451        2019    4500       Gasoline   \n",
       "90452        2004  185000       Gasoline   \n",
       "90453        2011  116000       Gasoline   \n",
       "90454        2019   39000       Gasoline   \n",
       "90455        2012  162731  E85 Flex Fuel   \n",
       "\n",
       "                                                  engine  \\\n",
       "id                                                         \n",
       "54273      302.0HP 3.5L V6 Cylinder Engine Gasoline Fuel   \n",
       "54274      275.0HP 3.5L V6 Cylinder Engine Gasoline Fuel   \n",
       "54275       241.0HP 2.0L 4 Cylinder Engine Gasoline Fuel   \n",
       "54276       518.0HP 5.0L 8 Cylinder Engine Gasoline Fuel   \n",
       "54277  335.0HP 3.0L Straight 6 Cylinder Engine Gasoli...   \n",
       "...                                                  ...   \n",
       "90451       420.0HP 6.2L 8 Cylinder Engine Gasoline Fuel   \n",
       "90452       295.0HP 5.3L 8 Cylinder Engine Gasoline Fuel   \n",
       "90453       132.0HP 1.8L 4 Cylinder Engine Gasoline Fuel   \n",
       "90454      450.0HP 3.5L V6 Cylinder Engine Gasoline Fuel   \n",
       "90455  320.0HP 5.3L 8 Cylinder Engine Flex Fuel Capab...   \n",
       "\n",
       "                         transmission ext_col int_col  \\\n",
       "id                                                      \n",
       "54273                             A/T   White   Beige   \n",
       "54274                     8-Speed A/T  Silver   Black   \n",
       "54275                     7-Speed A/T    Blue   White   \n",
       "54276  Transmission w/Dual Shift Mode   White   White   \n",
       "54277                     8-Speed A/T   White   Black   \n",
       "...                               ...     ...     ...   \n",
       "90451                    10-Speed A/T    Gray   Black   \n",
       "90452                     4-Speed A/T     Red    Gray   \n",
       "90453                     5-Speed M/T   Beige    Gray   \n",
       "90454                    10-Speed A/T   Black  Orange   \n",
       "90455                             A/T   Black   Black   \n",
       "\n",
       "                                     accident clean_title  \n",
       "id                                                         \n",
       "54273                           None reported         Yes  \n",
       "54274                           None reported         Yes  \n",
       "54275                           None reported         Yes  \n",
       "54276  At least 1 accident or damage reported         Yes  \n",
       "54277  At least 1 accident or damage reported         Yes  \n",
       "...                                       ...         ...  \n",
       "90451                           None reported         Yes  \n",
       "90452  At least 1 accident or damage reported         Yes  \n",
       "90453                           None reported         Yes  \n",
       "90454                           None reported         Yes  \n",
       "90455  At least 1 accident or damage reported         Yes  \n",
       "\n",
       "[36183 rows x 11 columns]"
      ]
     },
     "execution_count": 41,
     "metadata": {},
     "output_type": "execute_result"
    }
   ],
   "source": [
    "test_df\n"
   ]
  },
  {
   "cell_type": "code",
   "execution_count": 42,
   "id": "2e167bd7",
   "metadata": {
    "execution": {
     "iopub.execute_input": "2024-06-15T09:44:11.355662Z",
     "iopub.status.busy": "2024-06-15T09:44:11.354809Z",
     "iopub.status.idle": "2024-06-15T09:44:11.366159Z",
     "shell.execute_reply": "2024-06-15T09:44:11.365049Z"
    },
    "papermill": {
     "duration": 0.031509,
     "end_time": "2024-06-15T09:44:11.368263",
     "exception": false,
     "start_time": "2024-06-15T09:44:11.336754",
     "status": "completed"
    },
    "tags": []
   },
   "outputs": [
    {
     "data": {
      "text/html": [
       "<div>\n",
       "<style scoped>\n",
       "    .dataframe tbody tr th:only-of-type {\n",
       "        vertical-align: middle;\n",
       "    }\n",
       "\n",
       "    .dataframe tbody tr th {\n",
       "        vertical-align: top;\n",
       "    }\n",
       "\n",
       "    .dataframe thead th {\n",
       "        text-align: right;\n",
       "    }\n",
       "</style>\n",
       "<table border=\"1\" class=\"dataframe\">\n",
       "  <thead>\n",
       "    <tr style=\"text-align: right;\">\n",
       "      <th></th>\n",
       "      <th>price</th>\n",
       "    </tr>\n",
       "    <tr>\n",
       "      <th>id</th>\n",
       "      <th></th>\n",
       "    </tr>\n",
       "  </thead>\n",
       "  <tbody>\n",
       "    <tr>\n",
       "      <th>54273</th>\n",
       "      <td>39218.443</td>\n",
       "    </tr>\n",
       "    <tr>\n",
       "      <th>54274</th>\n",
       "      <td>39218.443</td>\n",
       "    </tr>\n",
       "    <tr>\n",
       "      <th>54275</th>\n",
       "      <td>39218.443</td>\n",
       "    </tr>\n",
       "    <tr>\n",
       "      <th>54276</th>\n",
       "      <td>39218.443</td>\n",
       "    </tr>\n",
       "    <tr>\n",
       "      <th>54277</th>\n",
       "      <td>39218.443</td>\n",
       "    </tr>\n",
       "    <tr>\n",
       "      <th>...</th>\n",
       "      <td>...</td>\n",
       "    </tr>\n",
       "    <tr>\n",
       "      <th>90451</th>\n",
       "      <td>39218.443</td>\n",
       "    </tr>\n",
       "    <tr>\n",
       "      <th>90452</th>\n",
       "      <td>39218.443</td>\n",
       "    </tr>\n",
       "    <tr>\n",
       "      <th>90453</th>\n",
       "      <td>39218.443</td>\n",
       "    </tr>\n",
       "    <tr>\n",
       "      <th>90454</th>\n",
       "      <td>39218.443</td>\n",
       "    </tr>\n",
       "    <tr>\n",
       "      <th>90455</th>\n",
       "      <td>39218.443</td>\n",
       "    </tr>\n",
       "  </tbody>\n",
       "</table>\n",
       "<p>36183 rows × 1 columns</p>\n",
       "</div>"
      ],
      "text/plain": [
       "           price\n",
       "id              \n",
       "54273  39218.443\n",
       "54274  39218.443\n",
       "54275  39218.443\n",
       "54276  39218.443\n",
       "54277  39218.443\n",
       "...          ...\n",
       "90451  39218.443\n",
       "90452  39218.443\n",
       "90453  39218.443\n",
       "90454  39218.443\n",
       "90455  39218.443\n",
       "\n",
       "[36183 rows x 1 columns]"
      ]
     },
     "execution_count": 42,
     "metadata": {},
     "output_type": "execute_result"
    }
   ],
   "source": [
    "submission_df"
   ]
  }
 ],
 "metadata": {
  "kaggle": {
   "accelerator": "none",
   "dataSources": [
    {
     "datasetId": 5130497,
     "sourceId": 8579062,
     "sourceType": "datasetVersion"
    }
   ],
   "dockerImageVersionId": 30715,
   "isGpuEnabled": false,
   "isInternetEnabled": true,
   "language": "python",
   "sourceType": "notebook"
  },
  "kernelspec": {
   "display_name": "Python 3",
   "language": "python",
   "name": "python3"
  },
  "language_info": {
   "codemirror_mode": {
    "name": "ipython",
    "version": 3
   },
   "file_extension": ".py",
   "mimetype": "text/x-python",
   "name": "python",
   "nbconvert_exporter": "python",
   "pygments_lexer": "ipython3",
   "version": "3.10.13"
  },
  "papermill": {
   "default_parameters": {},
   "duration": 24.579733,
   "end_time": "2024-06-15T09:44:12.006196",
   "environment_variables": {},
   "exception": null,
   "input_path": "__notebook__.ipynb",
   "output_path": "__notebook__.ipynb",
   "parameters": {},
   "start_time": "2024-06-15T09:43:47.426463",
   "version": "2.5.0"
  }
 },
 "nbformat": 4,
 "nbformat_minor": 5
}
