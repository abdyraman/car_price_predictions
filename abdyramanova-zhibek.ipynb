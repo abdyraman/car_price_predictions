{
 "cells": [
  {
   "cell_type": "code",
   "execution_count": 1,
   "id": "408d6eb4",
   "metadata": {
    "_cell_guid": "b1076dfc-b9ad-4769-8c92-a6c4dae69d19",
    "_uuid": "8f2839f25d086af736a60e9eeb907d3b93b6e0e5",
    "execution": {
     "iopub.execute_input": "2024-06-21T14:24:18.327487Z",
     "iopub.status.busy": "2024-06-21T14:24:18.326589Z",
     "iopub.status.idle": "2024-06-21T14:24:20.461906Z",
     "shell.execute_reply": "2024-06-21T14:24:20.460663Z"
    },
    "papermill": {
     "duration": 2.152568,
     "end_time": "2024-06-21T14:24:20.464404",
     "exception": false,
     "start_time": "2024-06-21T14:24:18.311836",
     "status": "completed"
    },
    "tags": []
   },
   "outputs": [
    {
     "name": "stdout",
     "output_type": "stream",
     "text": [
      "/kaggle/input/kagglexfellowship/kagglex-cohort4/sample_submission.csv\n",
      "/kaggle/input/kagglexfellowship/kagglex-cohort4/train.csv\n",
      "/kaggle/input/kagglexfellowship/kagglex-cohort4/test.csv\n"
     ]
    }
   ],
   "source": [
    "# This Python 3 environment comes with many helpful analytics libraries installed\n",
    "# It is defined by the kaggle/python Docker image: https://github.com/kaggle/docker-python\n",
    "# For example, here's several helpful packages to load\n",
    "\n",
    "import numpy as np # linear algebra\n",
    "import pandas as pd # data processing, CSV file I/O (e.g. pd.read_csv)\n",
    "import seaborn as sns\n",
    "import matplotlib.pyplot as plt\n",
    "\n",
    "# Input data files are available in the read-only \"../input/\" directory\n",
    "# For example, running this (by clicking run or pressing Shift+Enter) will list all files under the input directory\n",
    "\n",
    "import os\n",
    "for dirname, _, filenames in os.walk('/kaggle/input'):\n",
    "    for filename in filenames:\n",
    "        print(os.path.join(dirname, filename))\n",
    "\n",
    "# You can write up to 20GB to the current directory (/kaggle/working/) that gets preserved as output when you create a version using \"Save & Run All\" \n",
    "# You can also write temporary files to /kaggle/temp/, but they won't be saved outside of the current session"
   ]
  },
  {
   "cell_type": "code",
   "execution_count": 2,
   "id": "9ba4d96b",
   "metadata": {
    "execution": {
     "iopub.execute_input": "2024-06-21T14:24:20.492075Z",
     "iopub.status.busy": "2024-06-21T14:24:20.491574Z",
     "iopub.status.idle": "2024-06-21T14:24:20.932407Z",
     "shell.execute_reply": "2024-06-21T14:24:20.931485Z"
    },
    "papermill": {
     "duration": 0.457616,
     "end_time": "2024-06-21T14:24:20.935044",
     "exception": false,
     "start_time": "2024-06-21T14:24:20.477428",
     "status": "completed"
    },
    "tags": []
   },
   "outputs": [],
   "source": [
    "#  Import and read the data \n",
    "train = pd.read_csv('/kaggle/input/kagglexfellowship/kagglex-cohort4/train.csv')\n",
    "test=pd.read_csv('/kaggle/input/kagglexfellowship/kagglex-cohort4/test.csv')\n",
    "subm=pd.read_csv('/kaggle/input/kagglexfellowship/kagglex-cohort4/sample_submission.csv')\n"
   ]
  },
  {
   "cell_type": "code",
   "execution_count": 3,
   "id": "942c9e83",
   "metadata": {
    "execution": {
     "iopub.execute_input": "2024-06-21T14:24:20.964434Z",
     "iopub.status.busy": "2024-06-21T14:24:20.964033Z",
     "iopub.status.idle": "2024-06-21T14:24:20.978874Z",
     "shell.execute_reply": "2024-06-21T14:24:20.977970Z"
    },
    "papermill": {
     "duration": 0.03312,
     "end_time": "2024-06-21T14:24:20.981458",
     "exception": false,
     "start_time": "2024-06-21T14:24:20.948338",
     "status": "completed"
    },
    "tags": []
   },
   "outputs": [],
   "source": [
    "#Drop the non-beneficial ID columns and assign ID column as labels\n",
    "def set_index (df):\n",
    "    df.set_index('id', inplace=True)\n",
    "    return df\n",
    "\n",
    "train_df=set_index(train)\n",
    "test_df=set_index(test)"
   ]
  },
  {
   "cell_type": "markdown",
   "id": "8c95c84a",
   "metadata": {
    "papermill": {
     "duration": 0.012538,
     "end_time": "2024-06-21T14:24:21.007070",
     "exception": false,
     "start_time": "2024-06-21T14:24:20.994532",
     "status": "completed"
    },
    "tags": []
   },
   "source": [
    "# Data Exploration"
   ]
  },
  {
   "cell_type": "code",
   "execution_count": 4,
   "id": "b3f2eeca",
   "metadata": {
    "execution": {
     "iopub.execute_input": "2024-06-21T14:24:21.035808Z",
     "iopub.status.busy": "2024-06-21T14:24:21.035427Z",
     "iopub.status.idle": "2024-06-21T14:24:21.044776Z",
     "shell.execute_reply": "2024-06-21T14:24:21.043764Z"
    },
    "papermill": {
     "duration": 0.025833,
     "end_time": "2024-06-21T14:24:21.046906",
     "exception": false,
     "start_time": "2024-06-21T14:24:21.021073",
     "status": "completed"
    },
    "tags": []
   },
   "outputs": [
    {
     "data": {
      "text/plain": [
       "brand           object\n",
       "model           object\n",
       "model_year       int64\n",
       "milage           int64\n",
       "fuel_type       object\n",
       "engine          object\n",
       "transmission    object\n",
       "ext_col         object\n",
       "int_col         object\n",
       "accident        object\n",
       "clean_title     object\n",
       "price            int64\n",
       "dtype: object"
      ]
     },
     "execution_count": 4,
     "metadata": {},
     "output_type": "execute_result"
    }
   ],
   "source": [
    "# Checking the datatypes for train dataset\n",
    "train_df.dtypes"
   ]
  },
  {
   "cell_type": "code",
   "execution_count": 5,
   "id": "a0ce560e",
   "metadata": {
    "execution": {
     "iopub.execute_input": "2024-06-21T14:24:21.075616Z",
     "iopub.status.busy": "2024-06-21T14:24:21.075210Z",
     "iopub.status.idle": "2024-06-21T14:24:21.083322Z",
     "shell.execute_reply": "2024-06-21T14:24:21.082252Z"
    },
    "papermill": {
     "duration": 0.025897,
     "end_time": "2024-06-21T14:24:21.085766",
     "exception": false,
     "start_time": "2024-06-21T14:24:21.059869",
     "status": "completed"
    },
    "tags": []
   },
   "outputs": [
    {
     "data": {
      "text/plain": [
       "brand           object\n",
       "model           object\n",
       "model_year       int64\n",
       "milage           int64\n",
       "fuel_type       object\n",
       "engine          object\n",
       "transmission    object\n",
       "ext_col         object\n",
       "int_col         object\n",
       "accident        object\n",
       "clean_title     object\n",
       "dtype: object"
      ]
     },
     "execution_count": 5,
     "metadata": {},
     "output_type": "execute_result"
    }
   ],
   "source": [
    "test_df.dtypes"
   ]
  },
  {
   "cell_type": "code",
   "execution_count": 6,
   "id": "dd7cb694",
   "metadata": {
    "execution": {
     "iopub.execute_input": "2024-06-21T14:24:21.114519Z",
     "iopub.status.busy": "2024-06-21T14:24:21.114124Z",
     "iopub.status.idle": "2024-06-21T14:24:21.119329Z",
     "shell.execute_reply": "2024-06-21T14:24:21.118233Z"
    },
    "papermill": {
     "duration": 0.022073,
     "end_time": "2024-06-21T14:24:21.121588",
     "exception": false,
     "start_time": "2024-06-21T14:24:21.099515",
     "status": "completed"
    },
    "tags": []
   },
   "outputs": [],
   "source": [
    "#Determine the number of unique values in each column\n",
    "def dataset_unique_counts(df):\n",
    "    unique_counts = df.nunique()\n",
    "    print(unique_counts)"
   ]
  },
  {
   "cell_type": "code",
   "execution_count": 7,
   "id": "1e244904",
   "metadata": {
    "execution": {
     "iopub.execute_input": "2024-06-21T14:24:21.149984Z",
     "iopub.status.busy": "2024-06-21T14:24:21.149604Z",
     "iopub.status.idle": "2024-06-21T14:24:21.200119Z",
     "shell.execute_reply": "2024-06-21T14:24:21.198779Z"
    },
    "papermill": {
     "duration": 0.068085,
     "end_time": "2024-06-21T14:24:21.202862",
     "exception": false,
     "start_time": "2024-06-21T14:24:21.134777",
     "status": "completed"
    },
    "tags": []
   },
   "outputs": [
    {
     "name": "stdout",
     "output_type": "stream",
     "text": [
      "brand             53\n",
      "model           1827\n",
      "model_year        34\n",
      "milage          3212\n",
      "fuel_type          7\n",
      "engine          1061\n",
      "transmission      46\n",
      "ext_col          260\n",
      "int_col          124\n",
      "accident           2\n",
      "clean_title        1\n",
      "price           1481\n",
      "dtype: int64\n"
     ]
    }
   ],
   "source": [
    "#Unique values for train dataset\n",
    "dataset_unique_counts(train_df)"
   ]
  },
  {
   "cell_type": "code",
   "execution_count": 8,
   "id": "67232495",
   "metadata": {
    "execution": {
     "iopub.execute_input": "2024-06-21T14:24:21.234672Z",
     "iopub.status.busy": "2024-06-21T14:24:21.234271Z",
     "iopub.status.idle": "2024-06-21T14:24:21.266297Z",
     "shell.execute_reply": "2024-06-21T14:24:21.264939Z"
    },
    "papermill": {
     "duration": 0.049669,
     "end_time": "2024-06-21T14:24:21.269217",
     "exception": false,
     "start_time": "2024-06-21T14:24:21.219548",
     "status": "completed"
    },
    "tags": []
   },
   "outputs": [
    {
     "name": "stdout",
     "output_type": "stream",
     "text": [
      "brand             53\n",
      "model           1791\n",
      "model_year        34\n",
      "milage          2973\n",
      "fuel_type          7\n",
      "engine          1038\n",
      "transmission      44\n",
      "ext_col          230\n",
      "int_col          111\n",
      "accident           2\n",
      "clean_title        1\n",
      "dtype: int64\n"
     ]
    }
   ],
   "source": [
    "#Unique values for test dataset\n",
    "dataset_unique_counts(test_df)"
   ]
  },
  {
   "cell_type": "code",
   "execution_count": 9,
   "id": "ce17c978",
   "metadata": {
    "execution": {
     "iopub.execute_input": "2024-06-21T14:24:21.297711Z",
     "iopub.status.busy": "2024-06-21T14:24:21.297318Z",
     "iopub.status.idle": "2024-06-21T14:24:21.303663Z",
     "shell.execute_reply": "2024-06-21T14:24:21.302763Z"
    },
    "papermill": {
     "duration": 0.02358,
     "end_time": "2024-06-21T14:24:21.306229",
     "exception": false,
     "start_time": "2024-06-21T14:24:21.282649",
     "status": "completed"
    },
    "tags": []
   },
   "outputs": [],
   "source": [
    "def price_plot(df):\n",
    "    plt.figure(figsize=(8, 6))\n",
    "    sns.stripplot(data=df, y='price', jitter=True, color='purple', alpha=0.5)\n",
    "    plt.title('Strip Plot: Price Distribution')\n",
    "    plt.ylabel('Price')\n",
    "    plt.grid(True)\n",
    "    plt.show()"
   ]
  },
  {
   "cell_type": "code",
   "execution_count": 10,
   "id": "48172695",
   "metadata": {
    "execution": {
     "iopub.execute_input": "2024-06-21T14:24:21.335389Z",
     "iopub.status.busy": "2024-06-21T14:24:21.334996Z",
     "iopub.status.idle": "2024-06-21T14:24:21.744354Z",
     "shell.execute_reply": "2024-06-21T14:24:21.743368Z"
    },
    "papermill": {
     "duration": 0.426164,
     "end_time": "2024-06-21T14:24:21.746802",
     "exception": false,
     "start_time": "2024-06-21T14:24:21.320638",
     "status": "completed"
    },
    "tags": []
   },
   "outputs": [
    {
     "name": "stderr",
     "output_type": "stream",
     "text": [
      "/opt/conda/lib/python3.10/site-packages/seaborn/_oldcore.py:1119: FutureWarning: use_inf_as_na option is deprecated and will be removed in a future version. Convert inf values to NaN before operating instead.\n",
      "  with pd.option_context('mode.use_inf_as_na', True):\n",
      "/opt/conda/lib/python3.10/site-packages/seaborn/_oldcore.py:1119: FutureWarning: use_inf_as_na option is deprecated and will be removed in a future version. Convert inf values to NaN before operating instead.\n",
      "  with pd.option_context('mode.use_inf_as_na', True):\n",
      "/opt/conda/lib/python3.10/site-packages/seaborn/_oldcore.py:1075: FutureWarning: When grouping with a length-1 list-like, you will need to pass a length-1 tuple to get_group in a future version of pandas. Pass `(name,)` instead of `name` to silence this warning.\n",
      "  data_subset = grouped_data.get_group(pd_key)\n"
     ]
    },
    {
     "data": {
      "image/png": "[encoded data removed]",
      "text/plain": [
       "<Figure size 800x600 with 1 Axes>"
      ]
     },
     "metadata": {},
     "output_type": "display_data"
    }
   ],
   "source": [
    "price_plot(train_df)"
   ]
  },
  {
   "cell_type": "markdown",
   "id": "5637582b",
   "metadata": {
    "papermill": {
     "duration": 0.01407,
     "end_time": "2024-06-21T14:24:21.774843",
     "exception": false,
     "start_time": "2024-06-21T14:24:21.760773",
     "status": "completed"
    },
    "tags": []
   },
   "source": [
    "Above Histogram shows that most cars lie in the lower range of price.\n",
    "The above graph has outliers from 0.4 onwards, which need to be removed."
   ]
  },
  {
   "cell_type": "code",
   "execution_count": 11,
   "id": "e35e1294",
   "metadata": {
    "execution": {
     "iopub.execute_input": "2024-06-21T14:24:21.805089Z",
     "iopub.status.busy": "2024-06-21T14:24:21.804710Z",
     "iopub.status.idle": "2024-06-21T14:24:21.821893Z",
     "shell.execute_reply": "2024-06-21T14:24:21.820866Z"
    },
    "papermill": {
     "duration": 0.035385,
     "end_time": "2024-06-21T14:24:21.824625",
     "exception": false,
     "start_time": "2024-06-21T14:24:21.789240",
     "status": "completed"
    },
    "tags": []
   },
   "outputs": [
    {
     "data": {
      "text/plain": [
       "count    5.427300e+04\n",
       "mean     3.921844e+04\n",
       "std      7.282634e+04\n",
       "min      2.000000e+03\n",
       "25%      1.550000e+04\n",
       "50%      2.800000e+04\n",
       "75%      4.500000e+04\n",
       "max      2.954083e+06\n",
       "Name: price, dtype: float64"
      ]
     },
     "execution_count": 11,
     "metadata": {},
     "output_type": "execute_result"
    }
   ],
   "source": [
    "#Train data needs to be cleaned from outliers\n",
    "train_df['price'].describe()\n"
   ]
  },
  {
   "cell_type": "code",
   "execution_count": 12,
   "id": "a0bf99b1",
   "metadata": {
    "execution": {
     "iopub.execute_input": "2024-06-21T14:24:21.854520Z",
     "iopub.status.busy": "2024-06-21T14:24:21.854116Z",
     "iopub.status.idle": "2024-06-21T14:24:21.864563Z",
     "shell.execute_reply": "2024-06-21T14:24:21.863293Z"
    },
    "papermill": {
     "duration": 0.028024,
     "end_time": "2024-06-21T14:24:21.866796",
     "exception": false,
     "start_time": "2024-06-21T14:24:21.838772",
     "status": "completed"
    },
    "tags": []
   },
   "outputs": [
    {
     "name": "stdout",
     "output_type": "stream",
     "text": [
      "29500.0\n"
     ]
    }
   ],
   "source": [
    "#identify and remove outliers from the data df in relation to price column using IQR method\n",
    "Q1 = train_df['price'].quantile(0.25)\n",
    "Q3 = train_df['price'].quantile(0.75)\n",
    "IQR = Q3 - Q1\n",
    "print(IQR)"
   ]
  },
  {
   "cell_type": "code",
   "execution_count": 13,
   "id": "1644e4ff",
   "metadata": {
    "execution": {
     "iopub.execute_input": "2024-06-21T14:24:21.896948Z",
     "iopub.status.busy": "2024-06-21T14:24:21.896593Z",
     "iopub.status.idle": "2024-06-21T14:24:21.912924Z",
     "shell.execute_reply": "2024-06-21T14:24:21.911934Z"
    },
    "papermill": {
     "duration": 0.034409,
     "end_time": "2024-06-21T14:24:21.915288",
     "exception": false,
     "start_time": "2024-06-21T14:24:21.880879",
     "status": "completed"
    },
    "tags": []
   },
   "outputs": [
    {
     "data": {
      "text/plain": [
       "(47678, 12)"
      ]
     },
     "execution_count": 13,
     "metadata": {},
     "output_type": "execute_result"
    }
   ],
   "source": [
    "#use IQR value to filter out the outliers\n",
    "outliersfree_df = train_df[~((train_df['price'] < (Q1 - 1.5 * IQR)) |(train_df['price'] > (Q3 + 0.7 * IQR)))]\n",
    "outliersfree_df.shape"
   ]
  },
  {
   "cell_type": "markdown",
   "id": "3468ecf7",
   "metadata": {
    "papermill": {
     "duration": 0.014018,
     "end_time": "2024-06-21T14:24:21.943338",
     "exception": false,
     "start_time": "2024-06-21T14:24:21.929320",
     "status": "completed"
    },
    "tags": []
   },
   "source": [
    "The above plot looks more homogeneous than the previous one after removal of outliers."
   ]
  },
  {
   "cell_type": "code",
   "execution_count": 14,
   "id": "dfe9c38a",
   "metadata": {
    "execution": {
     "iopub.execute_input": "2024-06-21T14:24:21.974655Z",
     "iopub.status.busy": "2024-06-21T14:24:21.974271Z",
     "iopub.status.idle": "2024-06-21T14:24:21.985772Z",
     "shell.execute_reply": "2024-06-21T14:24:21.984808Z"
    },
    "papermill": {
     "duration": 0.029221,
     "end_time": "2024-06-21T14:24:21.988064",
     "exception": false,
     "start_time": "2024-06-21T14:24:21.958843",
     "status": "completed"
    },
    "tags": []
   },
   "outputs": [
    {
     "data": {
      "text/plain": [
       "count    47678.000000\n",
       "mean     26943.079219\n",
       "std      15404.132778\n",
       "min       2000.000000\n",
       "25%      14500.000000\n",
       "50%      24900.000000\n",
       "75%      37475.500000\n",
       "max      65500.000000\n",
       "Name: price, dtype: float64"
      ]
     },
     "execution_count": 14,
     "metadata": {},
     "output_type": "execute_result"
    }
   ],
   "source": [
    "#Train data needs to be cleaned from outliers\n",
    "outliersfree_df['price'].describe()"
   ]
  },
  {
   "cell_type": "markdown",
   "id": "7302a35f",
   "metadata": {
    "papermill": {
     "duration": 0.013872,
     "end_time": "2024-06-21T14:24:22.016319",
     "exception": false,
     "start_time": "2024-06-21T14:24:22.002447",
     "status": "completed"
    },
    "tags": []
   },
   "source": [
    "# **Data wrangling**"
   ]
  },
  {
   "cell_type": "markdown",
   "id": "0992e48e",
   "metadata": {
    "papermill": {
     "duration": 0.013952,
     "end_time": "2024-06-21T14:24:22.044357",
     "exception": false,
     "start_time": "2024-06-21T14:24:22.030405",
     "status": "completed"
    },
    "tags": []
   },
   "source": [
    "I will reduce the number of features in string data categories, and will remain the numeric categories as they are."
   ]
  },
  {
   "cell_type": "code",
   "execution_count": 15,
   "id": "4a83a37e",
   "metadata": {
    "execution": {
     "iopub.execute_input": "2024-06-21T14:24:22.074585Z",
     "iopub.status.busy": "2024-06-21T14:24:22.074171Z",
     "iopub.status.idle": "2024-06-21T14:24:22.114391Z",
     "shell.execute_reply": "2024-06-21T14:24:22.112883Z"
    },
    "papermill": {
     "duration": 0.058114,
     "end_time": "2024-06-21T14:24:22.116570",
     "exception": false,
     "start_time": "2024-06-21T14:24:22.058456",
     "status": "completed"
    },
    "tags": []
   },
   "outputs": [
    {
     "name": "stdout",
     "output_type": "stream",
     "text": [
      "brand             51\n",
      "model           1795\n",
      "model_year        34\n",
      "milage          3093\n",
      "fuel_type          7\n",
      "engine          1045\n",
      "transmission      43\n",
      "ext_col          245\n",
      "int_col          118\n",
      "accident           2\n",
      "clean_title        1\n",
      "price           1108\n",
      "dtype: int64\n"
     ]
    }
   ],
   "source": [
    "#Determine the number of unique values in each column.\n",
    "dataset_unique_counts(outliersfree_df)"
   ]
  },
  {
   "cell_type": "code",
   "execution_count": 16,
   "id": "0ca3283c",
   "metadata": {
    "execution": {
     "iopub.execute_input": "2024-06-21T14:24:22.148124Z",
     "iopub.status.busy": "2024-06-21T14:24:22.147221Z",
     "iopub.status.idle": "2024-06-21T14:24:22.179053Z",
     "shell.execute_reply": "2024-06-21T14:24:22.177839Z"
    },
    "papermill": {
     "duration": 0.05007,
     "end_time": "2024-06-21T14:24:22.181533",
     "exception": false,
     "start_time": "2024-06-21T14:24:22.131463",
     "status": "completed"
    },
    "tags": []
   },
   "outputs": [
    {
     "name": "stdout",
     "output_type": "stream",
     "text": [
      "brand             53\n",
      "model           1791\n",
      "model_year        34\n",
      "milage          2973\n",
      "fuel_type          7\n",
      "engine          1038\n",
      "transmission      44\n",
      "ext_col          230\n",
      "int_col          111\n",
      "accident           2\n",
      "clean_title        1\n",
      "dtype: int64\n"
     ]
    }
   ],
   "source": [
    "#Determine the number of unique values in each column.\n",
    "dataset_unique_counts(test_df)"
   ]
  },
  {
   "cell_type": "markdown",
   "id": "9ef85851",
   "metadata": {
    "papermill": {
     "duration": 0.014545,
     "end_time": "2024-06-21T14:24:22.210718",
     "exception": false,
     "start_time": "2024-06-21T14:24:22.196173",
     "status": "completed"
    },
    "tags": []
   },
   "source": [
    "***Model cleaning***"
   ]
  },
  {
   "cell_type": "code",
   "execution_count": 17,
   "id": "adb7592b",
   "metadata": {
    "execution": {
     "iopub.execute_input": "2024-06-21T14:24:22.301060Z",
     "iopub.status.busy": "2024-06-21T14:24:22.300059Z",
     "iopub.status.idle": "2024-06-21T14:24:22.305168Z",
     "shell.execute_reply": "2024-06-21T14:24:22.304213Z"
    },
    "papermill": {
     "duration": 0.082067,
     "end_time": "2024-06-21T14:24:22.307333",
     "exception": false,
     "start_time": "2024-06-21T14:24:22.225266",
     "status": "completed"
    },
    "tags": []
   },
   "outputs": [],
   "source": [
    "# Value counts function \n",
    "def feature_value_counts(df, column_name):\n",
    "    value_counts = df[column_name].value_counts()\n",
    "    return value_counts"
   ]
  },
  {
   "cell_type": "markdown",
   "id": "b2684bd6",
   "metadata": {
    "papermill": {
     "duration": 0.014878,
     "end_time": "2024-06-21T14:24:22.338111",
     "exception": false,
     "start_time": "2024-06-21T14:24:22.323233",
     "status": "completed"
    },
    "tags": []
   },
   "source": [
    "Brand feature"
   ]
  },
  {
   "cell_type": "code",
   "execution_count": 18,
   "id": "552092fa",
   "metadata": {
    "execution": {
     "iopub.execute_input": "2024-06-21T14:24:22.369278Z",
     "iopub.status.busy": "2024-06-21T14:24:22.368400Z",
     "iopub.status.idle": "2024-06-21T14:24:22.591130Z",
     "shell.execute_reply": "2024-06-21T14:24:22.590011Z"
    },
    "papermill": {
     "duration": 0.241158,
     "end_time": "2024-06-21T14:24:22.593834",
     "exception": false,
     "start_time": "2024-06-21T14:24:22.352676",
     "status": "completed"
    },
    "tags": []
   },
   "outputs": [],
   "source": [
    "brand_counts_train = feature_value_counts(outliersfree_df, 'brand')\n",
    "brand_counts_test = feature_value_counts(test_df, 'brand')\n",
    "\n",
    "cutoff_value = 400 # Keep if database has 451 and more records of this car model\n",
    "brand_types_to_replace = brand_counts_train[brand_counts_train < cutoff_value].index\n",
    "\n",
    "# Replace models in the training dataframe\n",
    "for brand_c in brand_types_to_replace:\n",
    "    outliersfree_df.loc[outliersfree_df['brand'] == brand_c, 'brand'] = \"Other\"\n",
    "\n",
    "# Apply the same replacements to the test dataframe\n",
    "test_df.loc[test_df['brand'].isin(brand_types_to_replace), 'brand'] = \"Other\"\n",
    "test_df.loc[~test_df['brand'].isin(outliersfree_df['brand'].unique()), 'brand'] = \"Other\"\n",
    "\n",
    "# Check the updated value counts\n",
    "brand_counts_train_updated = outliersfree_df['brand'].value_counts()\n",
    "brand_counts_test_updated = test_df['brand'].value_counts()\n"
   ]
  },
  {
   "cell_type": "markdown",
   "id": "12d68781",
   "metadata": {
    "papermill": {
     "duration": 0.01465,
     "end_time": "2024-06-21T14:24:22.623213",
     "exception": false,
     "start_time": "2024-06-21T14:24:22.608563",
     "status": "completed"
    },
    "tags": []
   },
   "source": [
    "*Model feature*"
   ]
  },
  {
   "cell_type": "code",
   "execution_count": 19,
   "id": "5abea0d0",
   "metadata": {
    "execution": {
     "iopub.execute_input": "2024-06-21T14:24:22.654408Z",
     "iopub.status.busy": "2024-06-21T14:24:22.653611Z",
     "iopub.status.idle": "2024-06-21T14:24:30.482153Z",
     "shell.execute_reply": "2024-06-21T14:24:30.481132Z"
    },
    "papermill": {
     "duration": 7.846957,
     "end_time": "2024-06-21T14:24:30.484758",
     "exception": false,
     "start_time": "2024-06-21T14:24:22.637801",
     "status": "completed"
    },
    "tags": []
   },
   "outputs": [],
   "source": [
    "model_counts_train = feature_value_counts(outliersfree_df, 'model')\n",
    "model_counts_test = feature_value_counts(test_df, 'model')\n",
    "\n",
    "cutoff_value = 400 # Keep if database has 451 and more records of this car model\n",
    "model_types_to_replace = model_counts_train[model_counts_train < cutoff_value].index\n",
    "\n",
    "# Replace models in the training dataframe\n",
    "for model_c in model_types_to_replace:\n",
    "    outliersfree_df.loc[outliersfree_df['model'] == model_c, 'model'] = \"Other\"\n",
    "\n",
    "# Apply the same replacements to the test dataframe\n",
    "test_df.loc[test_df['model'].isin(model_types_to_replace), 'model'] = \"Other\"\n",
    "test_df.loc[~test_df['model'].isin(outliersfree_df['model'].unique()), 'model'] = \"Other\"\n",
    "\n",
    "# Check the updated value counts\n",
    "model_counts_train_updated = outliersfree_df['model'].value_counts()\n",
    "model_counts_test_updated = test_df['model'].value_counts()\n"
   ]
  },
  {
   "cell_type": "markdown",
   "id": "9d1e7be7",
   "metadata": {
    "papermill": {
     "duration": 0.014511,
     "end_time": "2024-06-21T14:24:30.514864",
     "exception": false,
     "start_time": "2024-06-21T14:24:30.500353",
     "status": "completed"
    },
    "tags": []
   },
   "source": [
    "*Fuel feature*"
   ]
  },
  {
   "cell_type": "code",
   "execution_count": 20,
   "id": "43de17a7",
   "metadata": {
    "execution": {
     "iopub.execute_input": "2024-06-21T14:24:30.546233Z",
     "iopub.status.busy": "2024-06-21T14:24:30.545858Z",
     "iopub.status.idle": "2024-06-21T14:24:30.551881Z",
     "shell.execute_reply": "2024-06-21T14:24:30.550753Z"
    },
    "papermill": {
     "duration": 0.024306,
     "end_time": "2024-06-21T14:24:30.554031",
     "exception": false,
     "start_time": "2024-06-21T14:24:30.529725",
     "status": "completed"
    },
    "tags": []
   },
   "outputs": [],
   "source": [
    "# Replace '–' with 'Other' in the 'fuel_type' column\n",
    "def cleaning_not_supported_and_dashes(df):\n",
    "    # Replace unsupported dashes with 'Other'\n",
    "    df.loc[df['fuel_type'] == '–', 'fuel_type'] = 'Other'\n",
    "    # Remove rows where 'fuel_type' is 'not supported'\n",
    "    cleaned_df = df[df['fuel_type'] != 'not supported']\n",
    "    # Calculate and return the value counts of the cleaned 'fuel_type' column\n",
    "    fuel_counts = cleaned_df['fuel_type'].value_counts()\n",
    "    return cleaned_df"
   ]
  },
  {
   "cell_type": "code",
   "execution_count": 21,
   "id": "cb84da70",
   "metadata": {
    "execution": {
     "iopub.execute_input": "2024-06-21T14:24:30.584654Z",
     "iopub.status.busy": "2024-06-21T14:24:30.584281Z",
     "iopub.status.idle": "2024-06-21T14:24:30.613099Z",
     "shell.execute_reply": "2024-06-21T14:24:30.612041Z"
    },
    "papermill": {
     "duration": 0.046749,
     "end_time": "2024-06-21T14:24:30.615418",
     "exception": false,
     "start_time": "2024-06-21T14:24:30.568669",
     "status": "completed"
    },
    "tags": []
   },
   "outputs": [
    {
     "data": {
      "text/plain": [
       "fuel_type\n",
       "Gasoline          43613\n",
       "E85 Flex Fuel      1435\n",
       "Hybrid             1323\n",
       "Diesel              889\n",
       "Other               266\n",
       "Plug-In Hybrid      148\n",
       "Name: count, dtype: int64"
      ]
     },
     "execution_count": 21,
     "metadata": {},
     "output_type": "execute_result"
    }
   ],
   "source": [
    "cleaned_train=cleaning_not_supported_and_dashes(outliersfree_df)\n",
    "feature_value_counts(cleaned_train, 'fuel_type')"
   ]
  },
  {
   "cell_type": "code",
   "execution_count": 22,
   "id": "9688064f",
   "metadata": {
    "execution": {
     "iopub.execute_input": "2024-06-21T14:24:30.647038Z",
     "iopub.status.busy": "2024-06-21T14:24:30.646619Z",
     "iopub.status.idle": "2024-06-21T14:24:30.671823Z",
     "shell.execute_reply": "2024-06-21T14:24:30.670811Z"
    },
    "papermill": {
     "duration": 0.043408,
     "end_time": "2024-06-21T14:24:30.674070",
     "exception": false,
     "start_time": "2024-06-21T14:24:30.630662",
     "status": "completed"
    },
    "tags": []
   },
   "outputs": [
    {
     "data": {
      "text/plain": [
       "fuel_type\n",
       "Gasoline          33033\n",
       "Hybrid             1112\n",
       "E85 Flex Fuel      1018\n",
       "Diesel              671\n",
       "Other               197\n",
       "Plug-In Hybrid      148\n",
       "Name: count, dtype: int64"
      ]
     },
     "execution_count": 22,
     "metadata": {},
     "output_type": "execute_result"
    }
   ],
   "source": [
    "cleaned_test=cleaning_not_supported_and_dashes(test_df)\n",
    "feature_value_counts(cleaned_test, 'fuel_type')"
   ]
  },
  {
   "cell_type": "markdown",
   "id": "a7e9c327",
   "metadata": {
    "papermill": {
     "duration": 0.01444,
     "end_time": "2024-06-21T14:24:30.703225",
     "exception": false,
     "start_time": "2024-06-21T14:24:30.688785",
     "status": "completed"
    },
    "tags": []
   },
   "source": [
    "*Engine feature*"
   ]
  },
  {
   "cell_type": "code",
   "execution_count": 23,
   "id": "bfc024be",
   "metadata": {
    "execution": {
     "iopub.execute_input": "2024-06-21T14:24:30.734898Z",
     "iopub.status.busy": "2024-06-21T14:24:30.733832Z",
     "iopub.status.idle": "2024-06-21T14:24:35.249363Z",
     "shell.execute_reply": "2024-06-21T14:24:35.248026Z"
    },
    "papermill": {
     "duration": 4.53401,
     "end_time": "2024-06-21T14:24:35.251912",
     "exception": false,
     "start_time": "2024-06-21T14:24:30.717902",
     "status": "completed"
    },
    "tags": []
   },
   "outputs": [],
   "source": [
    "#Reducing the features unique values\n",
    "engine_counts_train = feature_value_counts(cleaned_train, 'engine')\n",
    "engine_counts_test = feature_value_counts(cleaned_test, 'engine')\n",
    "\n",
    "cutoff_value = 400 # Keep if database has 451 and more records of this car model\n",
    "engine_types_to_replace = engine_counts_train[engine_counts_train < cutoff_value].index\n",
    "\n",
    "# Replace models in the training dataframe\n",
    "for engine_c in engine_types_to_replace:\n",
    "    cleaned_train.loc[cleaned_train['engine'] == engine_c, 'engine'] = \"Other\"\n",
    "\n",
    "# Apply the same replacements to the test dataframe\n",
    "cleaned_test.loc[cleaned_test['engine'].isin(engine_types_to_replace), 'engine'] = \"Other\"\n",
    "cleaned_test.loc[~cleaned_test['engine'].isin(cleaned_train['engine'].unique()), 'engine'] = \"Other\"\n",
    "\n",
    "# Check the updated value counts\n",
    "engine_counts_train_updated = cleaned_train['engine'].value_counts()\n",
    "engine_counts_test_updated = cleaned_test['engine'].value_counts()\n"
   ]
  },
  {
   "cell_type": "markdown",
   "id": "497c01c5",
   "metadata": {
    "papermill": {
     "duration": 0.014953,
     "end_time": "2024-06-21T14:24:35.281968",
     "exception": false,
     "start_time": "2024-06-21T14:24:35.267015",
     "status": "completed"
    },
    "tags": []
   },
   "source": [
    "*Transmission feature*"
   ]
  },
  {
   "cell_type": "code",
   "execution_count": 24,
   "id": "74efcda2",
   "metadata": {
    "execution": {
     "iopub.execute_input": "2024-06-21T14:24:35.313543Z",
     "iopub.status.busy": "2024-06-21T14:24:35.312787Z",
     "iopub.status.idle": "2024-06-21T14:24:35.456015Z",
     "shell.execute_reply": "2024-06-21T14:24:35.454916Z"
    },
    "papermill": {
     "duration": 0.161946,
     "end_time": "2024-06-21T14:24:35.458783",
     "exception": false,
     "start_time": "2024-06-21T14:24:35.296837",
     "status": "completed"
    },
    "tags": []
   },
   "outputs": [],
   "source": [
    "#Reducing the features unique values\n",
    "trans_counts_train = feature_value_counts(cleaned_train, 'transmission')\n",
    "trans_counts_test = feature_value_counts(cleaned_test, 'transmission')\n",
    "\n",
    "cutoff_value = 100 # Keep if database has 451 and more records of this car model\n",
    "trans_types_to_replace = trans_counts_train[trans_counts_train < cutoff_value].index\n",
    "\n",
    "# Replace models in the training dataframe\n",
    "for trans_c in trans_types_to_replace:\n",
    "    cleaned_train.loc[cleaned_train['transmission'] == trans_c, 'transmission'] = \"Other\"\n",
    "\n",
    "# Apply the same replacements to the test dataframe\n",
    "cleaned_test.loc[cleaned_test['transmission'].isin(trans_types_to_replace), 'transmission'] = \"Other\"\n",
    "cleaned_test.loc[~cleaned_test['transmission'].isin(cleaned_train['transmission'].unique()), 'transmission'] = \"Other\"\n",
    "\n",
    "# Check the updated value counts\n",
    "trans_counts_train_updated = cleaned_train['transmission'].value_counts()\n",
    "trans_counts_test_updated = cleaned_test['transmission'].value_counts()\n"
   ]
  },
  {
   "cell_type": "markdown",
   "id": "08edcf5e",
   "metadata": {
    "papermill": {
     "duration": 0.014413,
     "end_time": "2024-06-21T14:24:35.488727",
     "exception": false,
     "start_time": "2024-06-21T14:24:35.474314",
     "status": "completed"
    },
    "tags": []
   },
   "source": [
    "*External colour feature*"
   ]
  },
  {
   "cell_type": "code",
   "execution_count": 25,
   "id": "872b337b",
   "metadata": {
    "execution": {
     "iopub.execute_input": "2024-06-21T14:24:35.522957Z",
     "iopub.status.busy": "2024-06-21T14:24:35.522192Z",
     "iopub.status.idle": "2024-06-21T14:24:36.570697Z",
     "shell.execute_reply": "2024-06-21T14:24:36.569577Z"
    },
    "papermill": {
     "duration": 1.068691,
     "end_time": "2024-06-21T14:24:36.573251",
     "exception": false,
     "start_time": "2024-06-21T14:24:35.504560",
     "status": "completed"
    },
    "tags": []
   },
   "outputs": [],
   "source": [
    "#Reducing the features unique values\n",
    "ext_col_counts_train = feature_value_counts(cleaned_train, 'ext_col')\n",
    "ext_col_counts_test = feature_value_counts(cleaned_test, 'ext_col')\n",
    "\n",
    "cutoff_value = 1000 # Keep if database has 451 and more records of this car model\n",
    "ext_col_types_to_replace =ext_col_counts_train[ext_col_counts_train < cutoff_value].index\n",
    "\n",
    "# Replace models in the training dataframe\n",
    "for ext_col_c in ext_col_types_to_replace:\n",
    "    cleaned_train.loc[cleaned_train['ext_col'] == ext_col_c, 'ext_col'] = \"Other\"\n",
    "\n",
    "# Apply the same replacements to the test dataframe\n",
    "cleaned_test.loc[cleaned_test['ext_col'].isin(ext_col_types_to_replace), 'ext_col'] = \"Other\"\n",
    "cleaned_test.loc[~cleaned_test['ext_col'].isin(cleaned_train['ext_col'].unique()), 'ext_col'] = \"Other\"\n",
    "\n",
    "# Check the updated value counts\n",
    "ext_col_counts_train_updated = cleaned_train['ext_col'].value_counts()\n",
    "ext_col_counts_test_updated = cleaned_test['ext_col'].value_counts()"
   ]
  },
  {
   "cell_type": "markdown",
   "id": "b9b09698",
   "metadata": {
    "papermill": {
     "duration": 0.014498,
     "end_time": "2024-06-21T14:24:36.602952",
     "exception": false,
     "start_time": "2024-06-21T14:24:36.588454",
     "status": "completed"
    },
    "tags": []
   },
   "source": [
    "*Internal colour feature*"
   ]
  },
  {
   "cell_type": "code",
   "execution_count": 26,
   "id": "4f554a29",
   "metadata": {
    "execution": {
     "iopub.execute_input": "2024-06-21T14:24:36.634180Z",
     "iopub.status.busy": "2024-06-21T14:24:36.633790Z",
     "iopub.status.idle": "2024-06-21T14:24:37.146114Z",
     "shell.execute_reply": "2024-06-21T14:24:37.144962Z"
    },
    "papermill": {
     "duration": 0.531106,
     "end_time": "2024-06-21T14:24:37.148790",
     "exception": false,
     "start_time": "2024-06-21T14:24:36.617684",
     "status": "completed"
    },
    "tags": []
   },
   "outputs": [],
   "source": [
    "#Reducing the features unique values\n",
    "int_col_counts_train = feature_value_counts(cleaned_train, 'int_col')\n",
    "int_col_counts_test = feature_value_counts(cleaned_test, 'int_col')\n",
    "\n",
    "cutoff_value = 1050 # Keep if database has 451 and more records of this car model\n",
    "int_col_types_to_replace =int_col_counts_train[int_col_counts_train < cutoff_value].index\n",
    "\n",
    "# Replace models in the training dataframe\n",
    "for int_col_c in int_col_types_to_replace:\n",
    "    cleaned_train.loc[cleaned_train['int_col'] == int_col_c, 'int_col'] = \"Other\"\n",
    "\n",
    "# Apply the same replacements to the test dataframe\n",
    "cleaned_test.loc[cleaned_test['int_col'].isin(int_col_types_to_replace), 'int_col'] = \"Other\"\n",
    "cleaned_test.loc[~cleaned_test['int_col'].isin(cleaned_train['int_col'].unique()), 'int_col'] = \"Other\"\n",
    "\n",
    "# Check the updated value counts\n",
    "int_col_counts_train_updated = cleaned_train['int_col'].value_counts()\n",
    "int_col_counts_test_updated = cleaned_test['int_col'].value_counts()"
   ]
  },
  {
   "cell_type": "markdown",
   "id": "5ac3d3ee",
   "metadata": {
    "papermill": {
     "duration": 0.015264,
     "end_time": "2024-06-21T14:24:37.179882",
     "exception": false,
     "start_time": "2024-06-21T14:24:37.164618",
     "status": "completed"
    },
    "tags": []
   },
   "source": [
    "*Drop clean title that has only one value 'clean_title'*"
   ]
  },
  {
   "cell_type": "code",
   "execution_count": 27,
   "id": "86cd9640",
   "metadata": {
    "execution": {
     "iopub.execute_input": "2024-06-21T14:24:37.211596Z",
     "iopub.status.busy": "2024-06-21T14:24:37.211192Z",
     "iopub.status.idle": "2024-06-21T14:24:37.228927Z",
     "shell.execute_reply": "2024-06-21T14:24:37.227694Z"
    },
    "papermill": {
     "duration": 0.036515,
     "end_time": "2024-06-21T14:24:37.231461",
     "exception": false,
     "start_time": "2024-06-21T14:24:37.194946",
     "status": "completed"
    },
    "tags": []
   },
   "outputs": [],
   "source": [
    "#The last column \"Clean_title\" is the same \"Yes\" answer for all rows, that gives no value to analysis. \n",
    "#Drop this column.\n",
    "final_train=cleaned_train.drop(columns=['clean_title'])\n",
    "final_test=cleaned_test.drop(columns=['clean_title'])\n"
   ]
  },
  {
   "cell_type": "code",
   "execution_count": 28,
   "id": "53e8fbd4",
   "metadata": {
    "execution": {
     "iopub.execute_input": "2024-06-21T14:24:37.262875Z",
     "iopub.status.busy": "2024-06-21T14:24:37.262452Z",
     "iopub.status.idle": "2024-06-21T14:24:37.297373Z",
     "shell.execute_reply": "2024-06-21T14:24:37.295681Z"
    },
    "papermill": {
     "duration": 0.053488,
     "end_time": "2024-06-21T14:24:37.299857",
     "exception": false,
     "start_time": "2024-06-21T14:24:37.246369",
     "status": "completed"
    },
    "tags": []
   },
   "outputs": [
    {
     "name": "stdout",
     "output_type": "stream",
     "text": [
      "brand             27\n",
      "model              6\n",
      "model_year        34\n",
      "milage          3093\n",
      "fuel_type          6\n",
      "engine            18\n",
      "transmission      19\n",
      "ext_col            7\n",
      "int_col            6\n",
      "accident           2\n",
      "price           1108\n",
      "dtype: int64\n"
     ]
    }
   ],
   "source": [
    "dataset_unique_counts(final_train)"
   ]
  },
  {
   "cell_type": "code",
   "execution_count": 29,
   "id": "6844b304",
   "metadata": {
    "execution": {
     "iopub.execute_input": "2024-06-21T14:24:37.332128Z",
     "iopub.status.busy": "2024-06-21T14:24:37.331106Z",
     "iopub.status.idle": "2024-06-21T14:24:37.358821Z",
     "shell.execute_reply": "2024-06-21T14:24:37.357720Z"
    },
    "papermill": {
     "duration": 0.046296,
     "end_time": "2024-06-21T14:24:37.361194",
     "exception": false,
     "start_time": "2024-06-21T14:24:37.314898",
     "status": "completed"
    },
    "tags": []
   },
   "outputs": [
    {
     "name": "stdout",
     "output_type": "stream",
     "text": [
      "brand             27\n",
      "model              6\n",
      "model_year        34\n",
      "milage          2973\n",
      "fuel_type          6\n",
      "engine            18\n",
      "transmission      19\n",
      "ext_col            7\n",
      "int_col            6\n",
      "accident           2\n",
      "dtype: int64\n"
     ]
    }
   ],
   "source": [
    "dataset_unique_counts(final_test)"
   ]
  },
  {
   "cell_type": "markdown",
   "id": "d274dbee",
   "metadata": {
    "papermill": {
     "duration": 0.0148,
     "end_time": "2024-06-21T14:24:37.392629",
     "exception": false,
     "start_time": "2024-06-21T14:24:37.377829",
     "status": "completed"
    },
    "tags": []
   },
   "source": [
    "***Liner Regression***"
   ]
  },
  {
   "cell_type": "code",
   "execution_count": 30,
   "id": "b68fb0a5",
   "metadata": {
    "execution": {
     "iopub.execute_input": "2024-06-21T14:24:37.424260Z",
     "iopub.status.busy": "2024-06-21T14:24:37.423872Z",
     "iopub.status.idle": "2024-06-21T14:24:37.769257Z",
     "shell.execute_reply": "2024-06-21T14:24:37.768212Z"
    },
    "papermill": {
     "duration": 0.364162,
     "end_time": "2024-06-21T14:24:37.771882",
     "exception": false,
     "start_time": "2024-06-21T14:24:37.407720",
     "status": "completed"
    },
    "tags": []
   },
   "outputs": [],
   "source": [
    "from sklearn.linear_model import LinearRegression"
   ]
  },
  {
   "cell_type": "code",
   "execution_count": 31,
   "id": "60c8442f",
   "metadata": {
    "execution": {
     "iopub.execute_input": "2024-06-21T14:24:37.803323Z",
     "iopub.status.busy": "2024-06-21T14:24:37.802926Z",
     "iopub.status.idle": "2024-06-21T14:24:37.875039Z",
     "shell.execute_reply": "2024-06-21T14:24:37.874047Z"
    },
    "papermill": {
     "duration": 0.090417,
     "end_time": "2024-06-21T14:24:37.877400",
     "exception": false,
     "start_time": "2024-06-21T14:24:37.786983",
     "status": "completed"
    },
    "tags": []
   },
   "outputs": [
    {
     "data": {
      "text/plain": [
       "(47674, 94)"
      ]
     },
     "execution_count": 31,
     "metadata": {},
     "output_type": "execute_result"
    }
   ],
   "source": [
    "# Convert categorical data to numeric with `pd.get_dummies`\n",
    "X = pd.get_dummies(final_train)\n",
    "X.shape\n"
   ]
  },
  {
   "cell_type": "code",
   "execution_count": 32,
   "id": "2122748e",
   "metadata": {
    "execution": {
     "iopub.execute_input": "2024-06-21T14:24:37.918331Z",
     "iopub.status.busy": "2024-06-21T14:24:37.917831Z",
     "iopub.status.idle": "2024-06-21T14:24:37.969704Z",
     "shell.execute_reply": "2024-06-21T14:24:37.968501Z"
    },
    "papermill": {
     "duration": 0.076132,
     "end_time": "2024-06-21T14:24:37.972095",
     "exception": false,
     "start_time": "2024-06-21T14:24:37.895963",
     "status": "completed"
    },
    "tags": []
   },
   "outputs": [
    {
     "data": {
      "text/plain": [
       "(36179, 93)"
      ]
     },
     "execution_count": 32,
     "metadata": {},
     "output_type": "execute_result"
    }
   ],
   "source": [
    "# Convert categorical data to numeric with `pd.get_dummies`\n",
    "X_test = pd.get_dummies(final_test)\n",
    "X_test.shape\n"
   ]
  },
  {
   "cell_type": "code",
   "execution_count": 33,
   "id": "201ee6fc",
   "metadata": {
    "execution": {
     "iopub.execute_input": "2024-06-21T14:24:38.008791Z",
     "iopub.status.busy": "2024-06-21T14:24:38.008046Z",
     "iopub.status.idle": "2024-06-21T14:24:38.013348Z",
     "shell.execute_reply": "2024-06-21T14:24:38.012326Z"
    },
    "papermill": {
     "duration": 0.027618,
     "end_time": "2024-06-21T14:24:38.015753",
     "exception": false,
     "start_time": "2024-06-21T14:24:37.988135",
     "status": "completed"
    },
    "tags": []
   },
   "outputs": [],
   "source": [
    "# Split our preprocessed data into our features and target arrays\n",
    "y=X['price'].values.reshape(-1, 1)"
   ]
  },
  {
   "cell_type": "code",
   "execution_count": 34,
   "id": "f3f2d6e8",
   "metadata": {
    "execution": {
     "iopub.execute_input": "2024-06-21T14:24:38.054038Z",
     "iopub.status.busy": "2024-06-21T14:24:38.053653Z",
     "iopub.status.idle": "2024-06-21T14:24:38.065086Z",
     "shell.execute_reply": "2024-06-21T14:24:38.063970Z"
    },
    "papermill": {
     "duration": 0.030489,
     "end_time": "2024-06-21T14:24:38.067335",
     "exception": false,
     "start_time": "2024-06-21T14:24:38.036846",
     "status": "completed"
    },
    "tags": []
   },
   "outputs": [
    {
     "data": {
      "text/plain": [
       "(47674, 93)"
      ]
     },
     "execution_count": 34,
     "metadata": {},
     "output_type": "execute_result"
    }
   ],
   "source": [
    "#Removing the price from the prediction features\n",
    "X = X.drop(['price'], axis=1)\n",
    "X.shape"
   ]
  },
  {
   "cell_type": "code",
   "execution_count": 35,
   "id": "119379be",
   "metadata": {
    "execution": {
     "iopub.execute_input": "2024-06-21T14:24:38.100209Z",
     "iopub.status.busy": "2024-06-21T14:24:38.099829Z",
     "iopub.status.idle": "2024-06-21T14:24:38.619050Z",
     "shell.execute_reply": "2024-06-21T14:24:38.617956Z"
    },
    "papermill": {
     "duration": 0.539236,
     "end_time": "2024-06-21T14:24:38.621897",
     "exception": false,
     "start_time": "2024-06-21T14:24:38.082661",
     "status": "completed"
    },
    "tags": []
   },
   "outputs": [
    {
     "data": {
      "text/html": [
       "<style>#sk-container-id-1 {color: black;background-color: white;}#sk-container-id-1 pre{padding: 0;}#sk-container-id-1 div.sk-toggleable {background-color: white;}#sk-container-id-1 label.sk-toggleable__label {cursor: pointer;display: block;width: 100%;margin-bottom: 0;padding: 0.3em;box-sizing: border-box;text-align: center;}#sk-container-id-1 label.sk-toggleable__label-arrow:before {content: \"▸\";float: left;margin-right: 0.25em;color: #696969;}#sk-container-id-1 label.sk-toggleable__label-arrow:hover:before {color: black;}#sk-container-id-1 div.sk-estimator:hover label.sk-toggleable__label-arrow:before {color: black;}#sk-container-id-1 div.sk-toggleable__content {max-height: 0;max-width: 0;overflow: hidden;text-align: left;background-color: #f0f8ff;}#sk-container-id-1 div.sk-toggleable__content pre {margin: 0.2em;color: black;border-radius: 0.25em;background-color: #f0f8ff;}#sk-container-id-1 input.sk-toggleable__control:checked~div.sk-toggleable__content {max-height: 200px;max-width: 100%;overflow: auto;}#sk-container-id-1 input.sk-toggleable__control:checked~label.sk-toggleable__label-arrow:before {content: \"▾\";}#sk-container-id-1 div.sk-estimator input.sk-toggleable__control:checked~label.sk-toggleable__label {background-color: #d4ebff;}#sk-container-id-1 div.sk-label input.sk-toggleable__control:checked~label.sk-toggleable__label {background-color: #d4ebff;}#sk-container-id-1 input.sk-hidden--visually {border: 0;clip: rect(1px 1px 1px 1px);clip: rect(1px, 1px, 1px, 1px);height: 1px;margin: -1px;overflow: hidden;padding: 0;position: absolute;width: 1px;}#sk-container-id-1 div.sk-estimator {font-family: monospace;background-color: #f0f8ff;border: 1px dotted black;border-radius: 0.25em;box-sizing: border-box;margin-bottom: 0.5em;}#sk-container-id-1 div.sk-estimator:hover {background-color: #d4ebff;}#sk-container-id-1 div.sk-parallel-item::after {content: \"\";width: 100%;border-bottom: 1px solid gray;flex-grow: 1;}#sk-container-id-1 div.sk-label:hover label.sk-toggleable__label {background-color: #d4ebff;}#sk-container-id-1 div.sk-serial::before {content: \"\";position: absolute;border-left: 1px solid gray;box-sizing: border-box;top: 0;bottom: 0;left: 50%;z-index: 0;}#sk-container-id-1 div.sk-serial {display: flex;flex-direction: column;align-items: center;background-color: white;padding-right: 0.2em;padding-left: 0.2em;position: relative;}#sk-container-id-1 div.sk-item {position: relative;z-index: 1;}#sk-container-id-1 div.sk-parallel {display: flex;align-items: stretch;justify-content: center;background-color: white;position: relative;}#sk-container-id-1 div.sk-item::before, #sk-container-id-1 div.sk-parallel-item::before {content: \"\";position: absolute;border-left: 1px solid gray;box-sizing: border-box;top: 0;bottom: 0;left: 50%;z-index: -1;}#sk-container-id-1 div.sk-parallel-item {display: flex;flex-direction: column;z-index: 1;position: relative;background-color: white;}#sk-container-id-1 div.sk-parallel-item:first-child::after {align-self: flex-end;width: 50%;}#sk-container-id-1 div.sk-parallel-item:last-child::after {align-self: flex-start;width: 50%;}#sk-container-id-1 div.sk-parallel-item:only-child::after {width: 0;}#sk-container-id-1 div.sk-dashed-wrapped {border: 1px dashed gray;margin: 0 0.4em 0.5em 0.4em;box-sizing: border-box;padding-bottom: 0.4em;background-color: white;}#sk-container-id-1 div.sk-label label {font-family: monospace;font-weight: bold;display: inline-block;line-height: 1.2em;}#sk-container-id-1 div.sk-label-container {text-align: center;}#sk-container-id-1 div.sk-container {/* jupyter's `normalize.less` sets `[hidden] { display: none; }` but bootstrap.min.css set `[hidden] { display: none !important; }` so we also need the `!important` here to be able to override the default hidden behavior on the sphinx rendered scikit-learn.org. See: https://github.com/scikit-learn/scikit-learn/issues/21755 */display: inline-block !important;position: relative;}#sk-container-id-1 div.sk-text-repr-fallback {display: none;}</style><div id=\"sk-container-id-1\" class=\"sk-top-container\"><div class=\"sk-text-repr-fallback\"><pre>LinearRegression()</pre><b>In a Jupyter environment, please rerun this cell to show the HTML representation or trust the notebook. <br />On GitHub, the HTML representation is unable to render, please try loading this page with nbviewer.org.</b></div><div class=\"sk-container\" hidden><div class=\"sk-item\"><div class=\"sk-estimator sk-toggleable\"><input class=\"sk-toggleable__control sk-hidden--visually\" id=\"sk-estimator-id-1\" type=\"checkbox\" checked><label for=\"sk-estimator-id-1\" class=\"sk-toggleable__label sk-toggleable__label-arrow\">LinearRegression</label><div class=\"sk-toggleable__content\"><pre>LinearRegression()</pre></div></div></div></div></div>"
      ],
      "text/plain": [
       "LinearRegression()"
      ]
     },
     "execution_count": 35,
     "metadata": {},
     "output_type": "execute_result"
    }
   ],
   "source": [
    "lm = LinearRegression()\n",
    "lm.fit(X,y)"
   ]
  },
  {
   "cell_type": "code",
   "execution_count": 36,
   "id": "928d3534",
   "metadata": {
    "execution": {
     "iopub.execute_input": "2024-06-21T14:24:38.714719Z",
     "iopub.status.busy": "2024-06-21T14:24:38.714319Z",
     "iopub.status.idle": "2024-06-21T14:24:38.789690Z",
     "shell.execute_reply": "2024-06-21T14:24:38.788512Z"
    },
    "papermill": {
     "duration": 0.126722,
     "end_time": "2024-06-21T14:24:38.792371",
     "exception": false,
     "start_time": "2024-06-21T14:24:38.665649",
     "status": "completed"
    },
    "tags": []
   },
   "outputs": [
    {
     "data": {
      "text/plain": [
       "array([[41873.09637451],\n",
       "       [15701.23382568],\n",
       "       [19036.22875977],\n",
       "       [48699.51989746],\n",
       "       [ 7557.17590332]])"
      ]
     },
     "execution_count": 36,
     "metadata": {},
     "output_type": "execute_result"
    }
   ],
   "source": [
    "#make predictions train\n",
    "yhat = lm.predict(X)\n",
    "yhat[0:5]"
   ]
  },
  {
   "cell_type": "code",
   "execution_count": 37,
   "id": "62330deb",
   "metadata": {
    "execution": {
     "iopub.execute_input": "2024-06-21T14:24:38.885260Z",
     "iopub.status.busy": "2024-06-21T14:24:38.884612Z",
     "iopub.status.idle": "2024-06-21T14:24:38.892460Z",
     "shell.execute_reply": "2024-06-21T14:24:38.891403Z"
    },
    "papermill": {
     "duration": 0.063324,
     "end_time": "2024-06-21T14:24:38.894948",
     "exception": false,
     "start_time": "2024-06-21T14:24:38.831624",
     "status": "completed"
    },
    "tags": []
   },
   "outputs": [
    {
     "data": {
      "text/plain": [
       "array([-3.81357569e+11])"
      ]
     },
     "execution_count": 37,
     "metadata": {},
     "output_type": "execute_result"
    }
   ],
   "source": [
    "#find the intercept\n",
    "lm.intercept_"
   ]
  },
  {
   "cell_type": "code",
   "execution_count": 38,
   "id": "262edc3f",
   "metadata": {
    "execution": {
     "iopub.execute_input": "2024-06-21T14:24:38.933256Z",
     "iopub.status.busy": "2024-06-21T14:24:38.932779Z",
     "iopub.status.idle": "2024-06-21T14:24:38.941843Z",
     "shell.execute_reply": "2024-06-21T14:24:38.940810Z"
    },
    "papermill": {
     "duration": 0.029237,
     "end_time": "2024-06-21T14:24:38.944477",
     "exception": false,
     "start_time": "2024-06-21T14:24:38.915240",
     "status": "completed"
    },
    "tags": []
   },
   "outputs": [
    {
     "data": {
      "text/plain": [
       "array([[ 1.03959621e+03, -9.85426584e-02,  3.15709358e+10,\n",
       "         3.15709380e+10,  3.15709409e+10,  3.15709370e+10,\n",
       "         3.15709399e+10,  3.15709393e+10,  3.15709396e+10,\n",
       "         3.15709375e+10,  3.15709370e+10,  3.15709327e+10,\n",
       "         3.15709367e+10,  3.15709411e+10,  3.15709376e+10,\n",
       "         3.15709340e+10,  3.15709417e+10,  3.15709403e+10,\n",
       "         3.15709396e+10,  3.15709347e+10,  3.15709414e+10,\n",
       "         3.15709362e+10,  3.15709375e+10,  3.15709426e+10,\n",
       "         3.15709413e+10,  3.15709342e+10,  3.15709408e+10,\n",
       "         3.15709337e+10,  3.15709372e+10, -1.28403372e+10,\n",
       "        -1.28403407e+10, -1.28403377e+10, -1.28403407e+10,\n",
       "        -1.28403404e+10, -1.28403401e+10,  1.95168181e+11,\n",
       "         1.95168173e+11,  1.95168172e+11,  1.95168172e+11,\n",
       "         1.95168178e+11,  1.95168170e+11, -1.75769273e+10,\n",
       "        -1.75769292e+10, -1.75769314e+10, -1.75769284e+10,\n",
       "        -1.75769302e+10, -1.75769218e+10, -1.75769238e+10,\n",
       "        -1.75769298e+10, -1.75769301e+10, -1.75769232e+10,\n",
       "        -1.75769259e+10, -1.75769183e+10, -1.75769257e+10,\n",
       "        -1.75769203e+10, -1.75769163e+10, -1.75769178e+10,\n",
       "        -1.75769195e+10, -1.75769233e+10,  7.62488663e+10,\n",
       "         7.62488664e+10,  7.62488634e+10,  7.62488616e+10,\n",
       "         7.62488639e+10,  7.62488599e+10,  7.62488611e+10,\n",
       "         7.62488631e+10,  7.62488643e+10,  7.62488647e+10,\n",
       "         7.62488632e+10,  7.62488655e+10,  7.62488636e+10,\n",
       "         7.62488613e+10,  7.62488640e+10,  7.62488595e+10,\n",
       "         7.62488632e+10,  7.62488645e+10,  7.62488642e+10,\n",
       "        -3.03466760e+10, -3.03466757e+10, -3.03466757e+10,\n",
       "        -3.03466759e+10, -3.03466761e+10, -3.03466769e+10,\n",
       "        -3.03466761e+10,  1.45777838e+11,  1.45777839e+11,\n",
       "         1.45777841e+11,  1.45777839e+11,  1.45777839e+11,\n",
       "         1.45777841e+11, -6.64636578e+09, -6.64636353e+09]])"
      ]
     },
     "execution_count": 38,
     "metadata": {},
     "output_type": "execute_result"
    }
   ],
   "source": [
    "#find the slope\n",
    "lm.coef_"
   ]
  },
  {
   "cell_type": "code",
   "execution_count": 39,
   "id": "3497c7ad",
   "metadata": {
    "execution": {
     "iopub.execute_input": "2024-06-21T14:24:38.982947Z",
     "iopub.status.busy": "2024-06-21T14:24:38.982220Z",
     "iopub.status.idle": "2024-06-21T14:24:38.989072Z",
     "shell.execute_reply": "2024-06-21T14:24:38.988121Z"
    },
    "papermill": {
     "duration": 0.026547,
     "end_time": "2024-06-21T14:24:38.991787",
     "exception": false,
     "start_time": "2024-06-21T14:24:38.965240",
     "status": "completed"
    },
    "tags": []
   },
   "outputs": [
    {
     "name": "stdout",
     "output_type": "stream",
     "text": [
      "Mean Squared Error (MSE): 100875230.18026106\n"
     ]
    }
   ],
   "source": [
    "#find the MSE\n",
    "from sklearn.metrics import mean_squared_error\n",
    "\n",
    "# Calculate the mean squared error\n",
    "mse = mean_squared_error(y, yhat)\n",
    "\n",
    "# Print the MSE\n",
    "print(\"Mean Squared Error (MSE):\", mse)\n"
   ]
  },
  {
   "cell_type": "code",
   "execution_count": 40,
   "id": "772c6089",
   "metadata": {
    "execution": {
     "iopub.execute_input": "2024-06-21T14:24:39.032604Z",
     "iopub.status.busy": "2024-06-21T14:24:39.032224Z",
     "iopub.status.idle": "2024-06-21T14:24:39.038989Z",
     "shell.execute_reply": "2024-06-21T14:24:39.037857Z"
    },
    "papermill": {
     "duration": 0.026367,
     "end_time": "2024-06-21T14:24:39.041249",
     "exception": false,
     "start_time": "2024-06-21T14:24:39.014882",
     "status": "completed"
    },
    "tags": []
   },
   "outputs": [
    {
     "data": {
      "text/plain": [
       "10043.666172282961"
      ]
     },
     "execution_count": 40,
     "metadata": {},
     "output_type": "execute_result"
    }
   ],
   "source": [
    "#find the RMSE\n",
    "rmse = np.sqrt(mse)\n",
    "rmse"
   ]
  },
  {
   "cell_type": "code",
   "execution_count": 41,
   "id": "4d458438",
   "metadata": {
    "execution": {
     "iopub.execute_input": "2024-06-21T14:24:39.076903Z",
     "iopub.status.busy": "2024-06-21T14:24:39.076525Z",
     "iopub.status.idle": "2024-06-21T14:24:39.084949Z",
     "shell.execute_reply": "2024-06-21T14:24:39.083786Z"
    },
    "papermill": {
     "duration": 0.029127,
     "end_time": "2024-06-21T14:24:39.087535",
     "exception": false,
     "start_time": "2024-06-21T14:24:39.058408",
     "status": "completed"
    },
    "tags": []
   },
   "outputs": [
    {
     "data": {
      "text/plain": [
       "0.5748755539105683"
      ]
     },
     "execution_count": 41,
     "metadata": {},
     "output_type": "execute_result"
    }
   ],
   "source": [
    "#find rscore\n",
    "from sklearn.metrics import r2_score\n",
    "r2_score(y, yhat)"
   ]
  },
  {
   "cell_type": "markdown",
   "id": "26fbde13",
   "metadata": {
    "papermill": {
     "duration": 0.016139,
     "end_time": "2024-06-21T14:24:39.120252",
     "exception": false,
     "start_time": "2024-06-21T14:24:39.104113",
     "status": "completed"
    },
    "tags": []
   },
   "source": []
  },
  {
   "cell_type": "markdown",
   "id": "90eaa07f",
   "metadata": {
    "papermill": {
     "duration": 0.015942,
     "end_time": "2024-06-21T14:24:39.152793",
     "exception": false,
     "start_time": "2024-06-21T14:24:39.136851",
     "status": "completed"
    },
    "tags": []
   },
   "source": [
    "Given the statistics of the \"price\" variable:\n",
    "\n",
    "Comparison to Mean: The RMSE (10,043.67) is a significant portion of the mean price (26,943.08). Specifically, it's about 37.3% of the mean.\n",
    "Comparison to Standard Deviation: The RMSE is also a substantial portion of the standard deviation (15,404.13), around 65.2%.\n",
    "Range: The price data ranges from 2,000 to 65,500, giving a total range of 63,500. The RMSE (10,043.67) is about 15.8% of this range.\n",
    "Interpretation:\n",
    "High RMSE: The RMSE of 10,043.67 suggests that the model's predictions have a relatively high average error compared to the mean price. This could indicate that the model has room for improvement, especially if lower prediction errors are desirable for the given context.\n",
    "Impact on Predictions: For prices around the mean value, an error of 10,043.67 is quite significant. This means that for a typical house priced around 26,943, the predicted price could vary by ±10,043.67 on average, which might be too large depending on the use case.\n",
    "Relative Error: Given the standard deviation and the interquartile range (IQR = 37,475.5 - 14,500 = 22,975.5), the RMSE is quite high. This suggests that the model might not be capturing the variance in the data well."
   ]
  },
  {
   "cell_type": "markdown",
   "id": "00eb29c7",
   "metadata": {
    "papermill": {
     "duration": 0.015977,
     "end_time": "2024-06-21T14:24:39.184929",
     "exception": false,
     "start_time": "2024-06-21T14:24:39.168952",
     "status": "completed"
    },
    "tags": []
   },
   "source": [
    "***XGBRegressor***"
   ]
  },
  {
   "cell_type": "code",
   "execution_count": 42,
   "id": "45160837",
   "metadata": {
    "execution": {
     "iopub.execute_input": "2024-06-21T14:24:39.220453Z",
     "iopub.status.busy": "2024-06-21T14:24:39.219456Z",
     "iopub.status.idle": "2024-06-21T14:24:39.398459Z",
     "shell.execute_reply": "2024-06-21T14:24:39.397484Z"
    },
    "papermill": {
     "duration": 0.199593,
     "end_time": "2024-06-21T14:24:39.401082",
     "exception": false,
     "start_time": "2024-06-21T14:24:39.201489",
     "status": "completed"
    },
    "tags": []
   },
   "outputs": [],
   "source": [
    "from xgboost import XGBRegressor"
   ]
  },
  {
   "cell_type": "code",
   "execution_count": 43,
   "id": "2c8fb757",
   "metadata": {
    "execution": {
     "iopub.execute_input": "2024-06-21T14:24:39.435339Z",
     "iopub.status.busy": "2024-06-21T14:24:39.434947Z",
     "iopub.status.idle": "2024-06-21T14:50:16.493095Z",
     "shell.execute_reply": "2024-06-21T14:50:16.491976Z"
    },
    "papermill": {
     "duration": 1537.077937,
     "end_time": "2024-06-21T14:50:16.495489",
     "exception": false,
     "start_time": "2024-06-21T14:24:39.417552",
     "status": "completed"
    },
    "tags": []
   },
   "outputs": [
    {
     "name": "stdout",
     "output_type": "stream",
     "text": [
      "Fitting 3 folds for each of 64 candidates, totalling 192 fits\n",
      "[CV 1/3; 1/64] START learning_rate=0.01, max_depth=3, n_estimators=100..........\n",
      "[CV 1/3; 1/64] END learning_rate=0.01, max_depth=3, n_estimators=100;, score=-11062.988 total time=   1.2s\n",
      "[CV 2/3; 1/64] START learning_rate=0.01, max_depth=3, n_estimators=100..........\n",
      "[CV 2/3; 1/64] END learning_rate=0.01, max_depth=3, n_estimators=100;, score=-11261.549 total time=   1.1s\n",
      "[CV 3/3; 1/64] START learning_rate=0.01, max_depth=3, n_estimators=100..........\n",
      "[CV 3/3; 1/64] END learning_rate=0.01, max_depth=3, n_estimators=100;, score=-11041.588 total time=   1.1s\n",
      "[CV 1/3; 2/64] START learning_rate=0.01, max_depth=3, n_estimators=500..........\n",
      "[CV 1/3; 2/64] END learning_rate=0.01, max_depth=3, n_estimators=500;, score=-9716.628 total time=   3.5s\n",
      "[CV 2/3; 2/64] START learning_rate=0.01, max_depth=3, n_estimators=500..........\n",
      "[CV 2/3; 2/64] END learning_rate=0.01, max_depth=3, n_estimators=500;, score=-9958.562 total time=   3.3s\n",
      "[CV 3/3; 2/64] START learning_rate=0.01, max_depth=3, n_estimators=500..........\n",
      "[CV 3/3; 2/64] END learning_rate=0.01, max_depth=3, n_estimators=500;, score=-9708.741 total time=   3.3s\n",
      "[CV 1/3; 3/64] START learning_rate=0.01, max_depth=3, n_estimators=1000.........\n",
      "[CV 1/3; 3/64] END learning_rate=0.01, max_depth=3, n_estimators=1000;, score=-9546.297 total time=   5.7s\n",
      "[CV 2/3; 3/64] START learning_rate=0.01, max_depth=3, n_estimators=1000.........\n",
      "[CV 2/3; 3/64] END learning_rate=0.01, max_depth=3, n_estimators=1000;, score=-9778.094 total time=   5.7s\n",
      "[CV 3/3; 3/64] START learning_rate=0.01, max_depth=3, n_estimators=1000.........\n",
      "[CV 3/3; 3/64] END learning_rate=0.01, max_depth=3, n_estimators=1000;, score=-9537.629 total time=   6.9s\n",
      "[CV 1/3; 4/64] START learning_rate=0.01, max_depth=3, n_estimators=2000.........\n",
      "[CV 1/3; 4/64] END learning_rate=0.01, max_depth=3, n_estimators=2000;, score=-9429.294 total time=  10.2s\n",
      "[CV 2/3; 4/64] START learning_rate=0.01, max_depth=3, n_estimators=2000.........\n",
      "[CV 2/3; 4/64] END learning_rate=0.01, max_depth=3, n_estimators=2000;, score=-9674.243 total time=  10.3s\n",
      "[CV 3/3; 4/64] START learning_rate=0.01, max_depth=3, n_estimators=2000.........\n",
      "[CV 3/3; 4/64] END learning_rate=0.01, max_depth=3, n_estimators=2000;, score=-9425.720 total time=  11.1s\n",
      "[CV 1/3; 5/64] START learning_rate=0.01, max_depth=5, n_estimators=100..........\n",
      "[CV 1/3; 5/64] END learning_rate=0.01, max_depth=5, n_estimators=100;, score=-10827.615 total time=   1.4s\n",
      "[CV 2/3; 5/64] START learning_rate=0.01, max_depth=5, n_estimators=100..........\n",
      "[CV 2/3; 5/64] END learning_rate=0.01, max_depth=5, n_estimators=100;, score=-11046.406 total time=   1.4s\n",
      "[CV 3/3; 5/64] START learning_rate=0.01, max_depth=5, n_estimators=100..........\n",
      "[CV 3/3; 5/64] END learning_rate=0.01, max_depth=5, n_estimators=100;, score=-10816.551 total time=   1.4s\n",
      "[CV 1/3; 6/64] START learning_rate=0.01, max_depth=5, n_estimators=500..........\n",
      "[CV 1/3; 6/64] END learning_rate=0.01, max_depth=5, n_estimators=500;, score=-9493.634 total time=   4.2s\n",
      "[CV 2/3; 6/64] START learning_rate=0.01, max_depth=5, n_estimators=500..........\n",
      "[CV 2/3; 6/64] END learning_rate=0.01, max_depth=5, n_estimators=500;, score=-9734.711 total time=   4.4s\n",
      "[CV 3/3; 6/64] START learning_rate=0.01, max_depth=5, n_estimators=500..........\n",
      "[CV 3/3; 6/64] END learning_rate=0.01, max_depth=5, n_estimators=500;, score=-9480.033 total time=   4.3s\n",
      "[CV 1/3; 7/64] START learning_rate=0.01, max_depth=5, n_estimators=1000.........\n",
      "[CV 1/3; 7/64] END learning_rate=0.01, max_depth=5, n_estimators=1000;, score=-9372.098 total time=   7.1s\n",
      "[CV 2/3; 7/64] START learning_rate=0.01, max_depth=5, n_estimators=1000.........\n",
      "[CV 2/3; 7/64] END learning_rate=0.01, max_depth=5, n_estimators=1000;, score=-9614.051 total time=   8.4s\n",
      "[CV 3/3; 7/64] START learning_rate=0.01, max_depth=5, n_estimators=1000.........\n",
      "[CV 3/3; 7/64] END learning_rate=0.01, max_depth=5, n_estimators=1000;, score=-9364.202 total time=   7.1s\n",
      "[CV 1/3; 8/64] START learning_rate=0.01, max_depth=5, n_estimators=2000.........\n",
      "[CV 1/3; 8/64] END learning_rate=0.01, max_depth=5, n_estimators=2000;, score=-9290.983 total time=  13.0s\n",
      "[CV 2/3; 8/64] START learning_rate=0.01, max_depth=5, n_estimators=2000.........\n",
      "[CV 2/3; 8/64] END learning_rate=0.01, max_depth=5, n_estimators=2000;, score=-9552.629 total time=  14.0s\n",
      "[CV 3/3; 8/64] START learning_rate=0.01, max_depth=5, n_estimators=2000.........\n",
      "[CV 3/3; 8/64] END learning_rate=0.01, max_depth=5, n_estimators=2000;, score=-9305.093 total time=  12.8s\n",
      "[CV 1/3; 9/64] START learning_rate=0.01, max_depth=8, n_estimators=100..........\n",
      "[CV 1/3; 9/64] END learning_rate=0.01, max_depth=8, n_estimators=100;, score=-10631.072 total time=   1.8s\n",
      "[CV 2/3; 9/64] START learning_rate=0.01, max_depth=8, n_estimators=100..........\n",
      "[CV 2/3; 9/64] END learning_rate=0.01, max_depth=8, n_estimators=100;, score=-10836.020 total time=   1.8s\n",
      "[CV 3/3; 9/64] START learning_rate=0.01, max_depth=8, n_estimators=100..........\n",
      "[CV 3/3; 9/64] END learning_rate=0.01, max_depth=8, n_estimators=100;, score=-10626.937 total time=   1.8s\n",
      "[CV 1/3; 10/64] START learning_rate=0.01, max_depth=8, n_estimators=500.........\n",
      "[CV 1/3; 10/64] END learning_rate=0.01, max_depth=8, n_estimators=500;, score=-9379.165 total time=   6.1s\n",
      "[CV 2/3; 10/64] START learning_rate=0.01, max_depth=8, n_estimators=500.........\n",
      "[CV 2/3; 10/64] END learning_rate=0.01, max_depth=8, n_estimators=500;, score=-9598.995 total time=   7.5s\n",
      "[CV 3/3; 10/64] START learning_rate=0.01, max_depth=8, n_estimators=500.........\n",
      "[CV 3/3; 10/64] END learning_rate=0.01, max_depth=8, n_estimators=500;, score=-9365.520 total time=   6.2s\n",
      "[CV 1/3; 11/64] START learning_rate=0.01, max_depth=8, n_estimators=1000........\n",
      "[CV 1/3; 11/64] END learning_rate=0.01, max_depth=8, n_estimators=1000;, score=-9325.603 total time=  10.4s\n",
      "[CV 2/3; 11/64] START learning_rate=0.01, max_depth=8, n_estimators=1000........\n",
      "[CV 2/3; 11/64] END learning_rate=0.01, max_depth=8, n_estimators=1000;, score=-9563.939 total time=  10.4s\n",
      "[CV 3/3; 11/64] START learning_rate=0.01, max_depth=8, n_estimators=1000........\n",
      "[CV 3/3; 11/64] END learning_rate=0.01, max_depth=8, n_estimators=1000;, score=-9329.046 total time=  11.8s\n",
      "[CV 1/3; 12/64] START learning_rate=0.01, max_depth=8, n_estimators=2000........\n",
      "[CV 1/3; 12/64] END learning_rate=0.01, max_depth=8, n_estimators=2000;, score=-9310.515 total time=  19.0s\n",
      "[CV 2/3; 12/64] START learning_rate=0.01, max_depth=8, n_estimators=2000........\n",
      "[CV 2/3; 12/64] END learning_rate=0.01, max_depth=8, n_estimators=2000;, score=-9573.407 total time=  20.2s\n",
      "[CV 3/3; 12/64] START learning_rate=0.01, max_depth=8, n_estimators=2000........\n",
      "[CV 3/3; 12/64] END learning_rate=0.01, max_depth=8, n_estimators=2000;, score=-9350.119 total time=  20.3s\n",
      "[CV 1/3; 13/64] START learning_rate=0.01, max_depth=10, n_estimators=100........\n",
      "[CV 1/3; 13/64] END learning_rate=0.01, max_depth=10, n_estimators=100;, score=-10563.391 total time=   2.3s\n",
      "[CV 2/3; 13/64] START learning_rate=0.01, max_depth=10, n_estimators=100........\n",
      "[CV 2/3; 13/64] END learning_rate=0.01, max_depth=10, n_estimators=100;, score=-10774.092 total time=   2.3s\n",
      "[CV 3/3; 13/64] START learning_rate=0.01, max_depth=10, n_estimators=100........\n",
      "[CV 3/3; 13/64] END learning_rate=0.01, max_depth=10, n_estimators=100;, score=-10574.302 total time=   2.3s\n",
      "[CV 1/3; 14/64] START learning_rate=0.01, max_depth=10, n_estimators=500........\n",
      "[CV 1/3; 14/64] END learning_rate=0.01, max_depth=10, n_estimators=500;, score=-9384.876 total time=   8.1s\n",
      "[CV 2/3; 14/64] START learning_rate=0.01, max_depth=10, n_estimators=500........\n",
      "[CV 2/3; 14/64] END learning_rate=0.01, max_depth=10, n_estimators=500;, score=-9617.671 total time=   8.1s\n",
      "[CV 3/3; 14/64] START learning_rate=0.01, max_depth=10, n_estimators=500........\n",
      "[CV 3/3; 14/64] END learning_rate=0.01, max_depth=10, n_estimators=500;, score=-9395.729 total time=   9.5s\n",
      "[CV 1/3; 15/64] START learning_rate=0.01, max_depth=10, n_estimators=1000.......\n",
      "[CV 1/3; 15/64] END learning_rate=0.01, max_depth=10, n_estimators=1000;, score=-9376.021 total time=  13.8s\n",
      "[CV 2/3; 15/64] START learning_rate=0.01, max_depth=10, n_estimators=1000.......\n",
      "[CV 2/3; 15/64] END learning_rate=0.01, max_depth=10, n_estimators=1000;, score=-9620.405 total time=  15.1s\n",
      "[CV 3/3; 15/64] START learning_rate=0.01, max_depth=10, n_estimators=1000.......\n",
      "[CV 3/3; 15/64] END learning_rate=0.01, max_depth=10, n_estimators=1000;, score=-9401.021 total time=  13.9s\n",
      "[CV 1/3; 16/64] START learning_rate=0.01, max_depth=10, n_estimators=2000.......\n",
      "[CV 1/3; 16/64] END learning_rate=0.01, max_depth=10, n_estimators=2000;, score=-9423.333 total time=  26.0s\n",
      "[CV 2/3; 16/64] START learning_rate=0.01, max_depth=10, n_estimators=2000.......\n",
      "[CV 2/3; 16/64] END learning_rate=0.01, max_depth=10, n_estimators=2000;, score=-9692.682 total time=  26.3s\n",
      "[CV 3/3; 16/64] START learning_rate=0.01, max_depth=10, n_estimators=2000.......\n",
      "[CV 3/3; 16/64] END learning_rate=0.01, max_depth=10, n_estimators=2000;, score=-9487.494 total time=  24.8s\n",
      "[CV 1/3; 17/64] START learning_rate=0.05, max_depth=3, n_estimators=100.........\n",
      "[CV 1/3; 17/64] END learning_rate=0.05, max_depth=3, n_estimators=100;, score=-9708.958 total time=   2.3s\n",
      "[CV 2/3; 17/64] START learning_rate=0.05, max_depth=3, n_estimators=100.........\n",
      "[CV 2/3; 17/64] END learning_rate=0.05, max_depth=3, n_estimators=100;, score=-9952.494 total time=   1.0s\n",
      "[CV 3/3; 17/64] START learning_rate=0.05, max_depth=3, n_estimators=100.........\n",
      "[CV 3/3; 17/64] END learning_rate=0.05, max_depth=3, n_estimators=100;, score=-9704.786 total time=   1.0s\n",
      "[CV 1/3; 18/64] START learning_rate=0.05, max_depth=3, n_estimators=500.........\n",
      "[CV 1/3; 18/64] END learning_rate=0.05, max_depth=3, n_estimators=500;, score=-9392.070 total time=   2.8s\n",
      "[CV 2/3; 18/64] START learning_rate=0.05, max_depth=3, n_estimators=500.........\n",
      "[CV 2/3; 18/64] END learning_rate=0.05, max_depth=3, n_estimators=500;, score=-9642.083 total time=   2.8s\n",
      "[CV 3/3; 18/64] START learning_rate=0.05, max_depth=3, n_estimators=500.........\n",
      "[CV 3/3; 18/64] END learning_rate=0.05, max_depth=3, n_estimators=500;, score=-9392.967 total time=   2.9s\n",
      "[CV 1/3; 19/64] START learning_rate=0.05, max_depth=3, n_estimators=1000........\n",
      "[CV 1/3; 19/64] END learning_rate=0.05, max_depth=3, n_estimators=1000;, score=-9296.562 total time=   5.1s\n",
      "[CV 2/3; 19/64] START learning_rate=0.05, max_depth=3, n_estimators=1000........\n",
      "[CV 2/3; 19/64] END learning_rate=0.05, max_depth=3, n_estimators=1000;, score=-9578.821 total time=   5.2s\n",
      "[CV 3/3; 19/64] START learning_rate=0.05, max_depth=3, n_estimators=1000........\n",
      "[CV 3/3; 19/64] END learning_rate=0.05, max_depth=3, n_estimators=1000;, score=-9328.851 total time=   5.1s\n",
      "[CV 1/3; 20/64] START learning_rate=0.05, max_depth=3, n_estimators=2000........\n",
      "[CV 1/3; 20/64] END learning_rate=0.05, max_depth=3, n_estimators=2000;, score=-9237.652 total time=  11.3s\n",
      "[CV 2/3; 20/64] START learning_rate=0.05, max_depth=3, n_estimators=2000........\n",
      "[CV 2/3; 20/64] END learning_rate=0.05, max_depth=3, n_estimators=2000;, score=-9546.266 total time=  10.1s\n",
      "[CV 3/3; 20/64] START learning_rate=0.05, max_depth=3, n_estimators=2000........\n",
      "[CV 3/3; 20/64] END learning_rate=0.05, max_depth=3, n_estimators=2000;, score=-9304.564 total time=  10.0s\n",
      "[CV 1/3; 21/64] START learning_rate=0.05, max_depth=5, n_estimators=100.........\n",
      "[CV 1/3; 21/64] END learning_rate=0.05, max_depth=5, n_estimators=100;, score=-9495.605 total time=   1.2s\n",
      "[CV 2/3; 21/64] START learning_rate=0.05, max_depth=5, n_estimators=100.........\n",
      "[CV 2/3; 21/64] END learning_rate=0.05, max_depth=5, n_estimators=100;, score=-9737.070 total time=   1.2s\n",
      "[CV 3/3; 21/64] START learning_rate=0.05, max_depth=5, n_estimators=100.........\n",
      "[CV 3/3; 21/64] END learning_rate=0.05, max_depth=5, n_estimators=100;, score=-9482.018 total time=   1.2s\n",
      "[CV 1/3; 22/64] START learning_rate=0.05, max_depth=5, n_estimators=500.........\n",
      "[CV 1/3; 22/64] END learning_rate=0.05, max_depth=5, n_estimators=500;, score=-9280.512 total time=   4.7s\n",
      "[CV 2/3; 22/64] START learning_rate=0.05, max_depth=5, n_estimators=500.........\n",
      "[CV 2/3; 22/64] END learning_rate=0.05, max_depth=5, n_estimators=500;, score=-9543.912 total time=   3.4s\n",
      "[CV 3/3; 22/64] START learning_rate=0.05, max_depth=5, n_estimators=500.........\n",
      "[CV 3/3; 22/64] END learning_rate=0.05, max_depth=5, n_estimators=500;, score=-9300.604 total time=   3.6s\n",
      "[CV 1/3; 23/64] START learning_rate=0.05, max_depth=5, n_estimators=1000........\n",
      "[CV 1/3; 23/64] END learning_rate=0.05, max_depth=5, n_estimators=1000;, score=-9252.914 total time=   6.4s\n",
      "[CV 2/3; 23/64] START learning_rate=0.05, max_depth=5, n_estimators=1000........\n",
      "[CV 2/3; 23/64] END learning_rate=0.05, max_depth=5, n_estimators=1000;, score=-9540.091 total time=   6.5s\n",
      "[CV 3/3; 23/64] START learning_rate=0.05, max_depth=5, n_estimators=1000........\n",
      "[CV 3/3; 23/64] END learning_rate=0.05, max_depth=5, n_estimators=1000;, score=-9303.484 total time=   6.4s\n",
      "[CV 1/3; 24/64] START learning_rate=0.05, max_depth=5, n_estimators=2000........\n",
      "[CV 1/3; 24/64] END learning_rate=0.05, max_depth=5, n_estimators=2000;, score=-9299.738 total time=  13.5s\n",
      "[CV 2/3; 24/64] START learning_rate=0.05, max_depth=5, n_estimators=2000........\n",
      "[CV 2/3; 24/64] END learning_rate=0.05, max_depth=5, n_estimators=2000;, score=-9595.356 total time=  12.3s\n",
      "[CV 3/3; 24/64] START learning_rate=0.05, max_depth=5, n_estimators=2000........\n",
      "[CV 3/3; 24/64] END learning_rate=0.05, max_depth=5, n_estimators=2000;, score=-9384.794 total time=  13.6s\n",
      "[CV 1/3; 25/64] START learning_rate=0.05, max_depth=8, n_estimators=100.........\n",
      "[CV 1/3; 25/64] END learning_rate=0.05, max_depth=8, n_estimators=100;, score=-9371.334 total time=   1.5s\n",
      "[CV 2/3; 25/64] START learning_rate=0.05, max_depth=8, n_estimators=100.........\n",
      "[CV 2/3; 25/64] END learning_rate=0.05, max_depth=8, n_estimators=100;, score=-9596.673 total time=   1.5s\n",
      "[CV 3/3; 25/64] START learning_rate=0.05, max_depth=8, n_estimators=100.........\n",
      "[CV 3/3; 25/64] END learning_rate=0.05, max_depth=8, n_estimators=100;, score=-9370.475 total time=   1.6s\n",
      "[CV 1/3; 26/64] START learning_rate=0.05, max_depth=8, n_estimators=500.........\n",
      "[CV 1/3; 26/64] END learning_rate=0.05, max_depth=8, n_estimators=500;, score=-9324.668 total time=   5.0s\n",
      "[CV 2/3; 26/64] START learning_rate=0.05, max_depth=8, n_estimators=500.........\n",
      "[CV 2/3; 26/64] END learning_rate=0.05, max_depth=8, n_estimators=500;, score=-9599.833 total time=   4.8s\n",
      "[CV 3/3; 26/64] START learning_rate=0.05, max_depth=8, n_estimators=500.........\n",
      "[CV 3/3; 26/64] END learning_rate=0.05, max_depth=8, n_estimators=500;, score=-9388.652 total time=   4.9s\n",
      "[CV 1/3; 27/64] START learning_rate=0.05, max_depth=8, n_estimators=1000........\n",
      "[CV 1/3; 27/64] END learning_rate=0.05, max_depth=8, n_estimators=1000;, score=-9451.031 total time=  10.3s\n",
      "[CV 2/3; 27/64] START learning_rate=0.05, max_depth=8, n_estimators=1000........\n",
      "[CV 2/3; 27/64] END learning_rate=0.05, max_depth=8, n_estimators=1000;, score=-9732.986 total time=   9.0s\n",
      "[CV 3/3; 27/64] START learning_rate=0.05, max_depth=8, n_estimators=1000........\n",
      "[CV 3/3; 27/64] END learning_rate=0.05, max_depth=8, n_estimators=1000;, score=-9523.921 total time=   9.0s\n",
      "[CV 1/3; 28/64] START learning_rate=0.05, max_depth=8, n_estimators=2000........\n",
      "[CV 1/3; 28/64] END learning_rate=0.05, max_depth=8, n_estimators=2000;, score=-9668.144 total time=  18.9s\n",
      "[CV 2/3; 28/64] START learning_rate=0.05, max_depth=8, n_estimators=2000........\n",
      "[CV 2/3; 28/64] END learning_rate=0.05, max_depth=8, n_estimators=2000;, score=-9959.252 total time=  17.5s\n",
      "[CV 3/3; 28/64] START learning_rate=0.05, max_depth=8, n_estimators=2000........\n",
      "[CV 3/3; 28/64] END learning_rate=0.05, max_depth=8, n_estimators=2000;, score=-9775.173 total time=  18.9s\n",
      "[CV 1/3; 29/64] START learning_rate=0.05, max_depth=10, n_estimators=100........\n",
      "[CV 1/3; 29/64] END learning_rate=0.05, max_depth=10, n_estimators=100;, score=-9388.361 total time=   1.9s\n",
      "[CV 2/3; 29/64] START learning_rate=0.05, max_depth=10, n_estimators=100........\n",
      "[CV 2/3; 29/64] END learning_rate=0.05, max_depth=10, n_estimators=100;, score=-9619.545 total time=   1.9s\n",
      "[CV 3/3; 29/64] START learning_rate=0.05, max_depth=10, n_estimators=100........\n",
      "[CV 3/3; 29/64] END learning_rate=0.05, max_depth=10, n_estimators=100;, score=-9403.071 total time=   2.0s\n",
      "[CV 1/3; 30/64] START learning_rate=0.05, max_depth=10, n_estimators=500........\n",
      "[CV 1/3; 30/64] END learning_rate=0.05, max_depth=10, n_estimators=500;, score=-9469.451 total time=   6.3s\n",
      "[CV 2/3; 30/64] START learning_rate=0.05, max_depth=10, n_estimators=500........\n",
      "[CV 2/3; 30/64] END learning_rate=0.05, max_depth=10, n_estimators=500;, score=-9727.178 total time=   6.4s\n",
      "[CV 3/3; 30/64] START learning_rate=0.05, max_depth=10, n_estimators=500........\n",
      "[CV 3/3; 30/64] END learning_rate=0.05, max_depth=10, n_estimators=500;, score=-9533.338 total time=   7.4s\n",
      "[CV 1/3; 31/64] START learning_rate=0.05, max_depth=10, n_estimators=1000.......\n",
      "[CV 1/3; 31/64] END learning_rate=0.05, max_depth=10, n_estimators=1000;, score=-9672.452 total time=  11.7s\n",
      "[CV 2/3; 31/64] START learning_rate=0.05, max_depth=10, n_estimators=1000.......\n",
      "[CV 2/3; 31/64] END learning_rate=0.05, max_depth=10, n_estimators=1000;, score=-9915.276 total time=  11.6s\n",
      "[CV 3/3; 31/64] START learning_rate=0.05, max_depth=10, n_estimators=1000.......\n",
      "[CV 3/3; 31/64] END learning_rate=0.05, max_depth=10, n_estimators=1000;, score=-9745.133 total time=  13.0s\n",
      "[CV 1/3; 32/64] START learning_rate=0.05, max_depth=10, n_estimators=2000.......\n",
      "[CV 1/3; 32/64] END learning_rate=0.05, max_depth=10, n_estimators=2000;, score=-9961.804 total time=  24.6s\n",
      "[CV 2/3; 32/64] START learning_rate=0.05, max_depth=10, n_estimators=2000.......\n",
      "[CV 2/3; 32/64] END learning_rate=0.05, max_depth=10, n_estimators=2000;, score=-10194.428 total time=  23.1s\n",
      "[CV 3/3; 32/64] START learning_rate=0.05, max_depth=10, n_estimators=2000.......\n",
      "[CV 3/3; 32/64] END learning_rate=0.05, max_depth=10, n_estimators=2000;, score=-10028.170 total time=  24.3s\n",
      "[CV 1/3; 33/64] START learning_rate=0.1, max_depth=3, n_estimators=100..........\n",
      "[CV 1/3; 33/64] END learning_rate=0.1, max_depth=3, n_estimators=100;, score=-9538.079 total time=   1.0s\n",
      "[CV 2/3; 33/64] START learning_rate=0.1, max_depth=3, n_estimators=100..........\n",
      "[CV 2/3; 33/64] END learning_rate=0.1, max_depth=3, n_estimators=100;, score=-9770.467 total time=   0.9s\n",
      "[CV 3/3; 33/64] START learning_rate=0.1, max_depth=3, n_estimators=100..........\n",
      "[CV 3/3; 33/64] END learning_rate=0.1, max_depth=3, n_estimators=100;, score=-9528.705 total time=   0.9s\n",
      "[CV 1/3; 34/64] START learning_rate=0.1, max_depth=3, n_estimators=500..........\n",
      "[CV 1/3; 34/64] END learning_rate=0.1, max_depth=3, n_estimators=500;, score=-9299.153 total time=   2.7s\n",
      "[CV 2/3; 34/64] START learning_rate=0.1, max_depth=3, n_estimators=500..........\n",
      "[CV 2/3; 34/64] END learning_rate=0.1, max_depth=3, n_estimators=500;, score=-9570.948 total time=   2.8s\n",
      "[CV 3/3; 34/64] START learning_rate=0.1, max_depth=3, n_estimators=500..........\n",
      "[CV 3/3; 34/64] END learning_rate=0.1, max_depth=3, n_estimators=500;, score=-9319.026 total time=   2.9s\n",
      "[CV 1/3; 35/64] START learning_rate=0.1, max_depth=3, n_estimators=1000.........\n",
      "[CV 1/3; 35/64] END learning_rate=0.1, max_depth=3, n_estimators=1000;, score=-9232.978 total time=   6.5s\n",
      "[CV 2/3; 35/64] START learning_rate=0.1, max_depth=3, n_estimators=1000.........\n",
      "[CV 2/3; 35/64] END learning_rate=0.1, max_depth=3, n_estimators=1000;, score=-9533.476 total time=   5.3s\n",
      "[CV 3/3; 35/64] START learning_rate=0.1, max_depth=3, n_estimators=1000.........\n",
      "[CV 3/3; 35/64] END learning_rate=0.1, max_depth=3, n_estimators=1000;, score=-9296.484 total time=   5.2s\n",
      "[CV 1/3; 36/64] START learning_rate=0.1, max_depth=3, n_estimators=2000.........\n",
      "[CV 1/3; 36/64] END learning_rate=0.1, max_depth=3, n_estimators=2000;, score=-9234.665 total time=  10.1s\n",
      "[CV 2/3; 36/64] START learning_rate=0.1, max_depth=3, n_estimators=2000.........\n",
      "[CV 2/3; 36/64] END learning_rate=0.1, max_depth=3, n_estimators=2000;, score=-9544.235 total time=  11.6s\n",
      "[CV 3/3; 36/64] START learning_rate=0.1, max_depth=3, n_estimators=2000.........\n",
      "[CV 3/3; 36/64] END learning_rate=0.1, max_depth=3, n_estimators=2000;, score=-9309.970 total time=  10.2s\n",
      "[CV 1/3; 37/64] START learning_rate=0.1, max_depth=5, n_estimators=100..........\n",
      "[CV 1/3; 37/64] END learning_rate=0.1, max_depth=5, n_estimators=100;, score=-9374.235 total time=   1.2s\n",
      "[CV 2/3; 37/64] START learning_rate=0.1, max_depth=5, n_estimators=100..........\n",
      "[CV 2/3; 37/64] END learning_rate=0.1, max_depth=5, n_estimators=100;, score=-9608.452 total time=   1.1s\n",
      "[CV 3/3; 37/64] START learning_rate=0.1, max_depth=5, n_estimators=100..........\n",
      "[CV 3/3; 37/64] END learning_rate=0.1, max_depth=5, n_estimators=100;, score=-9361.660 total time=   1.1s\n",
      "[CV 1/3; 38/64] START learning_rate=0.1, max_depth=5, n_estimators=500..........\n",
      "[CV 1/3; 38/64] END learning_rate=0.1, max_depth=5, n_estimators=500;, score=-9263.513 total time=   3.4s\n",
      "[CV 2/3; 38/64] START learning_rate=0.1, max_depth=5, n_estimators=500..........\n",
      "[CV 2/3; 38/64] END learning_rate=0.1, max_depth=5, n_estimators=500;, score=-9537.202 total time=   3.4s\n",
      "[CV 3/3; 38/64] START learning_rate=0.1, max_depth=5, n_estimators=500..........\n",
      "[CV 3/3; 38/64] END learning_rate=0.1, max_depth=5, n_estimators=500;, score=-9307.599 total time=   3.5s\n",
      "[CV 1/3; 39/64] START learning_rate=0.1, max_depth=5, n_estimators=1000.........\n",
      "[CV 1/3; 39/64] END learning_rate=0.1, max_depth=5, n_estimators=1000;, score=-9303.453 total time=   7.6s\n",
      "[CV 2/3; 39/64] START learning_rate=0.1, max_depth=5, n_estimators=1000.........\n",
      "[CV 2/3; 39/64] END learning_rate=0.1, max_depth=5, n_estimators=1000;, score=-9605.803 total time=   6.3s\n",
      "[CV 3/3; 39/64] START learning_rate=0.1, max_depth=5, n_estimators=1000.........\n",
      "[CV 3/3; 39/64] END learning_rate=0.1, max_depth=5, n_estimators=1000;, score=-9386.654 total time=   6.3s\n",
      "[CV 1/3; 40/64] START learning_rate=0.1, max_depth=5, n_estimators=2000.........\n",
      "[CV 1/3; 40/64] END learning_rate=0.1, max_depth=5, n_estimators=2000;, score=-9453.982 total time=  12.2s\n",
      "[CV 2/3; 40/64] START learning_rate=0.1, max_depth=5, n_estimators=2000.........\n",
      "[CV 2/3; 40/64] END learning_rate=0.1, max_depth=5, n_estimators=2000;, score=-9754.621 total time=  13.6s\n",
      "[CV 3/3; 40/64] START learning_rate=0.1, max_depth=5, n_estimators=2000.........\n",
      "[CV 3/3; 40/64] END learning_rate=0.1, max_depth=5, n_estimators=2000;, score=-9576.489 total time=  12.3s\n",
      "[CV 1/3; 41/64] START learning_rate=0.1, max_depth=8, n_estimators=100..........\n",
      "[CV 1/3; 41/64] END learning_rate=0.1, max_depth=8, n_estimators=100;, score=-9337.570 total time=   1.4s\n",
      "[CV 2/3; 41/64] START learning_rate=0.1, max_depth=8, n_estimators=100..........\n",
      "[CV 2/3; 41/64] END learning_rate=0.1, max_depth=8, n_estimators=100;, score=-9557.675 total time=   1.4s\n",
      "[CV 3/3; 41/64] START learning_rate=0.1, max_depth=8, n_estimators=100..........\n",
      "[CV 3/3; 41/64] END learning_rate=0.1, max_depth=8, n_estimators=100;, score=-9351.050 total time=   1.4s\n",
      "[CV 1/3; 42/64] START learning_rate=0.1, max_depth=8, n_estimators=500..........\n",
      "[CV 1/3; 42/64] END learning_rate=0.1, max_depth=8, n_estimators=500;, score=-9451.320 total time=   6.1s\n",
      "[CV 2/3; 42/64] START learning_rate=0.1, max_depth=8, n_estimators=500..........\n",
      "[CV 2/3; 42/64] END learning_rate=0.1, max_depth=8, n_estimators=500;, score=-9733.149 total time=   4.7s\n",
      "[CV 3/3; 42/64] START learning_rate=0.1, max_depth=8, n_estimators=500..........\n",
      "[CV 3/3; 42/64] END learning_rate=0.1, max_depth=8, n_estimators=500;, score=-9538.419 total time=   4.8s\n",
      "[CV 1/3; 43/64] START learning_rate=0.1, max_depth=8, n_estimators=1000.........\n",
      "[CV 1/3; 43/64] END learning_rate=0.1, max_depth=8, n_estimators=1000;, score=-9680.760 total time=   8.8s\n",
      "[CV 2/3; 43/64] START learning_rate=0.1, max_depth=8, n_estimators=1000.........\n",
      "[CV 2/3; 43/64] END learning_rate=0.1, max_depth=8, n_estimators=1000;, score=-9971.098 total time=   9.0s\n",
      "[CV 3/3; 43/64] START learning_rate=0.1, max_depth=8, n_estimators=1000.........\n",
      "[CV 3/3; 43/64] END learning_rate=0.1, max_depth=8, n_estimators=1000;, score=-9771.962 total time=  10.2s\n",
      "[CV 1/3; 44/64] START learning_rate=0.1, max_depth=8, n_estimators=2000.........\n",
      "[CV 1/3; 44/64] END learning_rate=0.1, max_depth=8, n_estimators=2000;, score=-10017.885 total time=  17.6s\n",
      "[CV 2/3; 44/64] START learning_rate=0.1, max_depth=8, n_estimators=2000.........\n",
      "[CV 2/3; 44/64] END learning_rate=0.1, max_depth=8, n_estimators=2000;, score=-10257.540 total time=  19.0s\n",
      "[CV 3/3; 44/64] START learning_rate=0.1, max_depth=8, n_estimators=2000.........\n",
      "[CV 3/3; 44/64] END learning_rate=0.1, max_depth=8, n_estimators=2000;, score=-10115.660 total time=  17.6s\n",
      "[CV 1/3; 45/64] START learning_rate=0.1, max_depth=10, n_estimators=100.........\n",
      "[CV 1/3; 45/64] END learning_rate=0.1, max_depth=10, n_estimators=100;, score=-9389.413 total time=   3.0s\n",
      "[CV 2/3; 45/64] START learning_rate=0.1, max_depth=10, n_estimators=100.........\n",
      "[CV 2/3; 45/64] END learning_rate=0.1, max_depth=10, n_estimators=100;, score=-9641.933 total time=   1.7s\n",
      "[CV 3/3; 45/64] START learning_rate=0.1, max_depth=10, n_estimators=100.........\n",
      "[CV 3/3; 45/64] END learning_rate=0.1, max_depth=10, n_estimators=100;, score=-9426.167 total time=   1.7s\n",
      "[CV 1/3; 46/64] START learning_rate=0.1, max_depth=10, n_estimators=500.........\n",
      "[CV 1/3; 46/64] END learning_rate=0.1, max_depth=10, n_estimators=500;, score=-9714.293 total time=   6.2s\n",
      "[CV 2/3; 46/64] START learning_rate=0.1, max_depth=10, n_estimators=500.........\n",
      "[CV 2/3; 46/64] END learning_rate=0.1, max_depth=10, n_estimators=500;, score=-9929.515 total time=   6.1s\n",
      "[CV 3/3; 46/64] START learning_rate=0.1, max_depth=10, n_estimators=500.........\n",
      "[CV 3/3; 46/64] END learning_rate=0.1, max_depth=10, n_estimators=500;, score=-9785.379 total time=   5.9s\n",
      "[CV 1/3; 47/64] START learning_rate=0.1, max_depth=10, n_estimators=1000........\n",
      "[CV 1/3; 47/64] END learning_rate=0.1, max_depth=10, n_estimators=1000;, score=-9993.053 total time=  13.1s\n",
      "[CV 2/3; 47/64] START learning_rate=0.1, max_depth=10, n_estimators=1000........\n",
      "[CV 2/3; 47/64] END learning_rate=0.1, max_depth=10, n_estimators=1000;, score=-10188.129 total time=  11.7s\n",
      "[CV 3/3; 47/64] START learning_rate=0.1, max_depth=10, n_estimators=1000........\n",
      "[CV 3/3; 47/64] END learning_rate=0.1, max_depth=10, n_estimators=1000;, score=-10087.758 total time=  11.7s\n",
      "[CV 1/3; 48/64] START learning_rate=0.1, max_depth=10, n_estimators=2000........\n",
      "[CV 1/3; 48/64] END learning_rate=0.1, max_depth=10, n_estimators=2000;, score=-10292.187 total time=  25.1s\n",
      "[CV 2/3; 48/64] START learning_rate=0.1, max_depth=10, n_estimators=2000........\n",
      "[CV 2/3; 48/64] END learning_rate=0.1, max_depth=10, n_estimators=2000;, score=-10468.252 total time=  25.0s\n",
      "[CV 3/3; 48/64] START learning_rate=0.1, max_depth=10, n_estimators=2000........\n",
      "[CV 3/3; 48/64] END learning_rate=0.1, max_depth=10, n_estimators=2000;, score=-10373.004 total time=  25.1s\n",
      "[CV 1/3; 49/64] START learning_rate=0.15, max_depth=3, n_estimators=100.........\n",
      "[CV 1/3; 49/64] END learning_rate=0.15, max_depth=3, n_estimators=100;, score=-9467.752 total time=   1.0s\n",
      "[CV 2/3; 49/64] START learning_rate=0.15, max_depth=3, n_estimators=100.........\n",
      "[CV 2/3; 49/64] END learning_rate=0.15, max_depth=3, n_estimators=100;, score=-9707.224 total time=   0.9s\n",
      "[CV 3/3; 49/64] START learning_rate=0.15, max_depth=3, n_estimators=100.........\n",
      "[CV 3/3; 49/64] END learning_rate=0.15, max_depth=3, n_estimators=100;, score=-9452.590 total time=   0.9s\n",
      "[CV 1/3; 50/64] START learning_rate=0.15, max_depth=3, n_estimators=500.........\n",
      "[CV 1/3; 50/64] END learning_rate=0.15, max_depth=3, n_estimators=500;, score=-9255.228 total time=   2.8s\n",
      "[CV 2/3; 50/64] START learning_rate=0.15, max_depth=3, n_estimators=500.........\n",
      "[CV 2/3; 50/64] END learning_rate=0.15, max_depth=3, n_estimators=500;, score=-9554.768 total time=   2.8s\n",
      "[CV 3/3; 50/64] START learning_rate=0.15, max_depth=3, n_estimators=500.........\n",
      "[CV 3/3; 50/64] END learning_rate=0.15, max_depth=3, n_estimators=500;, score=-9301.576 total time=   2.9s\n",
      "[CV 1/3; 51/64] START learning_rate=0.15, max_depth=3, n_estimators=1000........\n",
      "[CV 1/3; 51/64] END learning_rate=0.15, max_depth=3, n_estimators=1000;, score=-9235.994 total time=   5.2s\n",
      "[CV 2/3; 51/64] START learning_rate=0.15, max_depth=3, n_estimators=1000........\n",
      "[CV 2/3; 51/64] END learning_rate=0.15, max_depth=3, n_estimators=1000;, score=-9553.579 total time=   5.3s\n",
      "[CV 3/3; 51/64] START learning_rate=0.15, max_depth=3, n_estimators=1000........\n",
      "[CV 3/3; 51/64] END learning_rate=0.15, max_depth=3, n_estimators=1000;, score=-9299.422 total time=   6.5s\n",
      "[CV 1/3; 52/64] START learning_rate=0.15, max_depth=3, n_estimators=2000........\n",
      "[CV 1/3; 52/64] END learning_rate=0.15, max_depth=3, n_estimators=2000;, score=-9270.310 total time=  10.1s\n",
      "[CV 2/3; 52/64] START learning_rate=0.15, max_depth=3, n_estimators=2000........\n",
      "[CV 2/3; 52/64] END learning_rate=0.15, max_depth=3, n_estimators=2000;, score=-9581.603 total time=  10.1s\n",
      "[CV 3/3; 52/64] START learning_rate=0.15, max_depth=3, n_estimators=2000........\n",
      "[CV 3/3; 52/64] END learning_rate=0.15, max_depth=3, n_estimators=2000;, score=-9355.863 total time=  11.5s\n",
      "[CV 1/3; 53/64] START learning_rate=0.15, max_depth=5, n_estimators=100.........\n",
      "[CV 1/3; 53/64] END learning_rate=0.15, max_depth=5, n_estimators=100;, score=-9320.709 total time=   1.1s\n",
      "[CV 2/3; 53/64] START learning_rate=0.15, max_depth=5, n_estimators=100.........\n",
      "[CV 2/3; 53/64] END learning_rate=0.15, max_depth=5, n_estimators=100;, score=-9592.962 total time=   1.0s\n",
      "[CV 3/3; 53/64] START learning_rate=0.15, max_depth=5, n_estimators=100.........\n",
      "[CV 3/3; 53/64] END learning_rate=0.15, max_depth=5, n_estimators=100;, score=-9321.739 total time=   1.0s\n",
      "[CV 1/3; 54/64] START learning_rate=0.15, max_depth=5, n_estimators=500.........\n",
      "[CV 1/3; 54/64] END learning_rate=0.15, max_depth=5, n_estimators=500;, score=-9292.805 total time=   3.4s\n",
      "[CV 2/3; 54/64] START learning_rate=0.15, max_depth=5, n_estimators=500.........\n",
      "[CV 2/3; 54/64] END learning_rate=0.15, max_depth=5, n_estimators=500;, score=-9586.094 total time=   3.4s\n",
      "[CV 3/3; 54/64] START learning_rate=0.15, max_depth=5, n_estimators=500.........\n",
      "[CV 3/3; 54/64] END learning_rate=0.15, max_depth=5, n_estimators=500;, score=-9358.173 total time=   3.5s\n",
      "[CV 1/3; 55/64] START learning_rate=0.15, max_depth=5, n_estimators=1000........\n",
      "[CV 1/3; 55/64] END learning_rate=0.15, max_depth=5, n_estimators=1000;, score=-9402.928 total time=   6.3s\n",
      "[CV 2/3; 55/64] START learning_rate=0.15, max_depth=5, n_estimators=1000........\n",
      "[CV 2/3; 55/64] END learning_rate=0.15, max_depth=5, n_estimators=1000;, score=-9693.533 total time=   6.4s\n",
      "[CV 3/3; 55/64] START learning_rate=0.15, max_depth=5, n_estimators=1000........\n",
      "[CV 3/3; 55/64] END learning_rate=0.15, max_depth=5, n_estimators=1000;, score=-9498.484 total time=   7.7s\n",
      "[CV 1/3; 56/64] START learning_rate=0.15, max_depth=5, n_estimators=2000........\n",
      "[CV 1/3; 56/64] END learning_rate=0.15, max_depth=5, n_estimators=2000;, score=-9596.829 total time=  12.3s\n",
      "[CV 2/3; 56/64] START learning_rate=0.15, max_depth=5, n_estimators=2000........\n",
      "[CV 2/3; 56/64] END learning_rate=0.15, max_depth=5, n_estimators=2000;, score=-9888.857 total time=  12.4s\n",
      "[CV 3/3; 56/64] START learning_rate=0.15, max_depth=5, n_estimators=2000........\n",
      "[CV 3/3; 56/64] END learning_rate=0.15, max_depth=5, n_estimators=2000;, score=-9728.841 total time=  13.6s\n",
      "[CV 1/3; 57/64] START learning_rate=0.15, max_depth=8, n_estimators=100.........\n",
      "[CV 1/3; 57/64] END learning_rate=0.15, max_depth=8, n_estimators=100;, score=-9339.896 total time=   1.3s\n",
      "[CV 2/3; 57/64] START learning_rate=0.15, max_depth=8, n_estimators=100.........\n",
      "[CV 2/3; 57/64] END learning_rate=0.15, max_depth=8, n_estimators=100;, score=-9607.841 total time=   1.3s\n",
      "[CV 3/3; 57/64] START learning_rate=0.15, max_depth=8, n_estimators=100.........\n",
      "[CV 3/3; 57/64] END learning_rate=0.15, max_depth=8, n_estimators=100;, score=-9349.230 total time=   1.4s\n",
      "[CV 1/3; 58/64] START learning_rate=0.15, max_depth=8, n_estimators=500.........\n",
      "[CV 1/3; 58/64] END learning_rate=0.15, max_depth=8, n_estimators=500;, score=-9619.286 total time=   4.7s\n",
      "[CV 2/3; 58/64] START learning_rate=0.15, max_depth=8, n_estimators=500.........\n",
      "[CV 2/3; 58/64] END learning_rate=0.15, max_depth=8, n_estimators=500;, score=-9927.826 total time=   4.7s\n",
      "[CV 3/3; 58/64] START learning_rate=0.15, max_depth=8, n_estimators=500.........\n",
      "[CV 3/3; 58/64] END learning_rate=0.15, max_depth=8, n_estimators=500;, score=-9706.394 total time=   4.6s\n",
      "[CV 1/3; 59/64] START learning_rate=0.15, max_depth=8, n_estimators=1000........\n",
      "[CV 1/3; 59/64] END learning_rate=0.15, max_depth=8, n_estimators=1000;, score=-9919.119 total time=  10.4s\n",
      "[CV 2/3; 59/64] START learning_rate=0.15, max_depth=8, n_estimators=1000........\n",
      "[CV 2/3; 59/64] END learning_rate=0.15, max_depth=8, n_estimators=1000;, score=-10199.579 total time=   9.0s\n",
      "[CV 3/3; 59/64] START learning_rate=0.15, max_depth=8, n_estimators=1000........\n",
      "[CV 3/3; 59/64] END learning_rate=0.15, max_depth=8, n_estimators=1000;, score=-10015.174 total time=   9.0s\n",
      "[CV 1/3; 60/64] START learning_rate=0.15, max_depth=8, n_estimators=2000........\n",
      "[CV 1/3; 60/64] END learning_rate=0.15, max_depth=8, n_estimators=2000;, score=-10285.244 total time=  19.4s\n",
      "[CV 2/3; 60/64] START learning_rate=0.15, max_depth=8, n_estimators=2000........\n",
      "[CV 2/3; 60/64] END learning_rate=0.15, max_depth=8, n_estimators=2000;, score=-10525.298 total time=  18.3s\n",
      "[CV 3/3; 60/64] START learning_rate=0.15, max_depth=8, n_estimators=2000........\n",
      "[CV 3/3; 60/64] END learning_rate=0.15, max_depth=8, n_estimators=2000;, score=-10355.989 total time=  18.5s\n",
      "[CV 1/3; 61/64] START learning_rate=0.15, max_depth=10, n_estimators=100........\n",
      "[CV 1/3; 61/64] END learning_rate=0.15, max_depth=10, n_estimators=100;, score=-9475.349 total time=   1.7s\n",
      "[CV 2/3; 61/64] START learning_rate=0.15, max_depth=10, n_estimators=100........\n",
      "[CV 2/3; 61/64] END learning_rate=0.15, max_depth=10, n_estimators=100;, score=-9711.834 total time=   1.6s\n",
      "[CV 3/3; 61/64] START learning_rate=0.15, max_depth=10, n_estimators=100........\n",
      "[CV 3/3; 61/64] END learning_rate=0.15, max_depth=10, n_estimators=100;, score=-9478.674 total time=   1.6s\n",
      "[CV 1/3; 62/64] START learning_rate=0.15, max_depth=10, n_estimators=500........\n",
      "[CV 1/3; 62/64] END learning_rate=0.15, max_depth=10, n_estimators=500;, score=-9941.542 total time=   6.2s\n",
      "[CV 2/3; 62/64] START learning_rate=0.15, max_depth=10, n_estimators=500........\n",
      "[CV 2/3; 62/64] END learning_rate=0.15, max_depth=10, n_estimators=500;, score=-10150.049 total time=   7.5s\n",
      "[CV 3/3; 62/64] START learning_rate=0.15, max_depth=10, n_estimators=500........\n",
      "[CV 3/3; 62/64] END learning_rate=0.15, max_depth=10, n_estimators=500;, score=-9997.417 total time=   6.1s\n",
      "[CV 1/3; 63/64] START learning_rate=0.15, max_depth=10, n_estimators=1000.......\n",
      "[CV 1/3; 63/64] END learning_rate=0.15, max_depth=10, n_estimators=1000;, score=-10240.461 total time=  12.3s\n",
      "[CV 2/3; 63/64] START learning_rate=0.15, max_depth=10, n_estimators=1000.......\n",
      "[CV 2/3; 63/64] END learning_rate=0.15, max_depth=10, n_estimators=1000;, score=-10450.309 total time=  13.5s\n",
      "[CV 3/3; 63/64] START learning_rate=0.15, max_depth=10, n_estimators=1000.......\n",
      "[CV 3/3; 63/64] END learning_rate=0.15, max_depth=10, n_estimators=1000;, score=-10294.975 total time=  12.2s\n",
      "[CV 1/3; 64/64] START learning_rate=0.15, max_depth=10, n_estimators=2000.......\n",
      "[CV 1/3; 64/64] END learning_rate=0.15, max_depth=10, n_estimators=2000;, score=-10448.481 total time=  26.2s\n",
      "[CV 2/3; 64/64] START learning_rate=0.15, max_depth=10, n_estimators=2000.......\n",
      "[CV 2/3; 64/64] END learning_rate=0.15, max_depth=10, n_estimators=2000;, score=-10656.923 total time=  26.0s\n",
      "[CV 3/3; 64/64] START learning_rate=0.15, max_depth=10, n_estimators=2000.......\n",
      "[CV 3/3; 64/64] END learning_rate=0.15, max_depth=10, n_estimators=2000;, score=-10500.069 total time=  24.8s\n",
      "XGBRegressor(base_score=None, booster=None, callbacks=None,\n",
      "             colsample_bylevel=None, colsample_bynode=None,\n",
      "             colsample_bytree=None, device=None, early_stopping_rounds=None,\n",
      "             enable_categorical=False, eval_metric=None, feature_types=None,\n",
      "             gamma=None, grow_policy=None, importance_type=None,\n",
      "             interaction_constraints=None, learning_rate=0.1, max_bin=None,\n",
      "             max_cat_threshold=None, max_cat_to_onehot=None,\n",
      "             max_delta_step=None, max_depth=3, max_leaves=None,\n",
      "             min_child_weight=None, missing=nan, monotone_constraints=None,\n",
      "             multi_strategy=None, n_estimators=1000, n_jobs=None,\n",
      "             num_parallel_tree=None, random_state=None, ...)\n",
      "-9354.312963958679\n",
      "{'learning_rate': 0.1, 'max_depth': 3, 'n_estimators': 1000}\n",
      "CPU times: user 1h 36min 53s, sys: 17.5 s, total: 1h 37min 11s\n",
      "Wall time: 25min 37s\n"
     ]
    }
   ],
   "source": [
    "%%time\n",
    "\n",
    "from sklearn.model_selection import GridSearchCV\n",
    "\n",
    "param_grid={'n_estimators':[100,500,1000,2000],\n",
    "            'max_depth':[3,5,8,10],\n",
    "            'learning_rate':[0.01,0.05,0.1,0.15]}\n",
    "\n",
    "grid_search_cv=GridSearchCV(estimator=XGBRegressor(),\n",
    "                         param_grid=param_grid,\n",
    "                         scoring='neg_root_mean_squared_error',\n",
    "                         cv=3,\n",
    "                         verbose=10)\n",
    "\n",
    "grid_search_cv.fit(X,y)\n",
    "\n",
    "best_model=grid_search_cv.best_estimator_\n",
    "print(grid_search_cv.best_estimator_)\n",
    "print(grid_search_cv.best_score_)\n",
    "print(grid_search_cv.best_params_)"
   ]
  },
  {
   "cell_type": "code",
   "execution_count": 44,
   "id": "e26635ff",
   "metadata": {
    "execution": {
     "iopub.execute_input": "2024-06-21T14:50:16.554660Z",
     "iopub.status.busy": "2024-06-21T14:50:16.553891Z",
     "iopub.status.idle": "2024-06-21T14:50:17.097507Z",
     "shell.execute_reply": "2024-06-21T14:50:17.096526Z"
    },
    "papermill": {
     "duration": 0.576653,
     "end_time": "2024-06-21T14:50:17.100530",
     "exception": false,
     "start_time": "2024-06-21T14:50:16.523877",
     "status": "completed"
    },
    "tags": []
   },
   "outputs": [],
   "source": [
    "train_prediction=best_model.predict(X)"
   ]
  },
  {
   "cell_type": "code",
   "execution_count": 45,
   "id": "69b39bc1",
   "metadata": {
    "execution": {
     "iopub.execute_input": "2024-06-21T14:50:17.159901Z",
     "iopub.status.busy": "2024-06-21T14:50:17.159511Z",
     "iopub.status.idle": "2024-06-21T14:50:17.168694Z",
     "shell.execute_reply": "2024-06-21T14:50:17.167417Z"
    },
    "papermill": {
     "duration": 0.041223,
     "end_time": "2024-06-21T14:50:17.171084",
     "exception": false,
     "start_time": "2024-06-21T14:50:17.129861",
     "status": "completed"
    },
    "tags": []
   },
   "outputs": [
    {
     "name": "stdout",
     "output_type": "stream",
     "text": [
      "{'R2_train': 0.4673693475383335, 'MAE_train': 6652.780736584668, 'RMSE_train': 8965.993303190306}\n"
     ]
    }
   ],
   "source": [
    "from sklearn import metrics\n",
    "\n",
    "r2_train=metrics.r2_score(train_prediction,y)\n",
    "mae_train=metrics.mean_absolute_error(train_prediction,y)\n",
    "rmse_train=metrics.mean_squared_error(train_prediction,y,squared=False)\n",
    "train_scores={'R2_train':r2_train,'MAE_train':mae_train,'RMSE_train':rmse_train}\n",
    "print(train_scores)"
   ]
  },
  {
   "cell_type": "markdown",
   "id": "d33ffe85",
   "metadata": {
    "papermill": {
     "duration": 0.028171,
     "end_time": "2024-06-21T14:50:17.228390",
     "exception": false,
     "start_time": "2024-06-21T14:50:17.200219",
     "status": "completed"
    },
    "tags": []
   },
   "source": [
    "# Validation with test data"
   ]
  },
  {
   "cell_type": "code",
   "execution_count": 46,
   "id": "b179a421",
   "metadata": {
    "execution": {
     "iopub.execute_input": "2024-06-21T14:50:17.287948Z",
     "iopub.status.busy": "2024-06-21T14:50:17.287585Z",
     "iopub.status.idle": "2024-06-21T14:50:17.706774Z",
     "shell.execute_reply": "2024-06-21T14:50:17.705671Z"
    },
    "papermill": {
     "duration": 0.451558,
     "end_time": "2024-06-21T14:50:17.709016",
     "exception": false,
     "start_time": "2024-06-21T14:50:17.257458",
     "status": "completed"
    },
    "tags": []
   },
   "outputs": [
    {
     "data": {
      "text/plain": [
       "array([19371.71 , 23231.467, 36089.152, ..., 12225.616, 46245.383,\n",
       "       12903.699], dtype=float32)"
      ]
     },
     "execution_count": 46,
     "metadata": {},
     "output_type": "execute_result"
    }
   ],
   "source": [
    "#make predictions test\n",
    "test_prediction=best_model.predict(X_test)\n",
    "test_prediction"
   ]
  },
  {
   "cell_type": "code",
   "execution_count": 47,
   "id": "6a6885c5",
   "metadata": {
    "execution": {
     "iopub.execute_input": "2024-06-21T14:50:17.768392Z",
     "iopub.status.busy": "2024-06-21T14:50:17.767995Z",
     "iopub.status.idle": "2024-06-21T14:50:17.784280Z",
     "shell.execute_reply": "2024-06-21T14:50:17.783176Z"
    },
    "papermill": {
     "duration": 0.048413,
     "end_time": "2024-06-21T14:50:17.786431",
     "exception": false,
     "start_time": "2024-06-21T14:50:17.738018",
     "status": "completed"
    },
    "tags": []
   },
   "outputs": [
    {
     "data": {
      "text/html": [
       "<div>\n",
       "<style scoped>\n",
       "    .dataframe tbody tr th:only-of-type {\n",
       "        vertical-align: middle;\n",
       "    }\n",
       "\n",
       "    .dataframe tbody tr th {\n",
       "        vertical-align: top;\n",
       "    }\n",
       "\n",
       "    .dataframe thead th {\n",
       "        text-align: right;\n",
       "    }\n",
       "</style>\n",
       "<table border=\"1\" class=\"dataframe\">\n",
       "  <thead>\n",
       "    <tr style=\"text-align: right;\">\n",
       "      <th></th>\n",
       "      <th>Id</th>\n",
       "      <th>Predicted_Price</th>\n",
       "    </tr>\n",
       "  </thead>\n",
       "  <tbody>\n",
       "    <tr>\n",
       "      <th>0</th>\n",
       "      <td>54273</td>\n",
       "      <td>19371.710938</td>\n",
       "    </tr>\n",
       "    <tr>\n",
       "      <th>1</th>\n",
       "      <td>54274</td>\n",
       "      <td>23231.466797</td>\n",
       "    </tr>\n",
       "    <tr>\n",
       "      <th>2</th>\n",
       "      <td>54275</td>\n",
       "      <td>36089.152344</td>\n",
       "    </tr>\n",
       "    <tr>\n",
       "      <th>3</th>\n",
       "      <td>54276</td>\n",
       "      <td>39600.828125</td>\n",
       "    </tr>\n",
       "    <tr>\n",
       "      <th>4</th>\n",
       "      <td>54277</td>\n",
       "      <td>33072.347656</td>\n",
       "    </tr>\n",
       "    <tr>\n",
       "      <th>...</th>\n",
       "      <td>...</td>\n",
       "      <td>...</td>\n",
       "    </tr>\n",
       "    <tr>\n",
       "      <th>36174</th>\n",
       "      <td>90451</td>\n",
       "      <td>44364.726562</td>\n",
       "    </tr>\n",
       "    <tr>\n",
       "      <th>36175</th>\n",
       "      <td>90452</td>\n",
       "      <td>8703.565430</td>\n",
       "    </tr>\n",
       "    <tr>\n",
       "      <th>36176</th>\n",
       "      <td>90453</td>\n",
       "      <td>12225.616211</td>\n",
       "    </tr>\n",
       "    <tr>\n",
       "      <th>36177</th>\n",
       "      <td>90454</td>\n",
       "      <td>46245.382812</td>\n",
       "    </tr>\n",
       "    <tr>\n",
       "      <th>36178</th>\n",
       "      <td>90455</td>\n",
       "      <td>12903.699219</td>\n",
       "    </tr>\n",
       "  </tbody>\n",
       "</table>\n",
       "<p>36179 rows × 2 columns</p>\n",
       "</div>"
      ],
      "text/plain": [
       "          Id  Predicted_Price\n",
       "0      54273     19371.710938\n",
       "1      54274     23231.466797\n",
       "2      54275     36089.152344\n",
       "3      54276     39600.828125\n",
       "4      54277     33072.347656\n",
       "...      ...              ...\n",
       "36174  90451     44364.726562\n",
       "36175  90452      8703.565430\n",
       "36176  90453     12225.616211\n",
       "36177  90454     46245.382812\n",
       "36178  90455     12903.699219\n",
       "\n",
       "[36179 rows x 2 columns]"
      ]
     },
     "execution_count": 47,
     "metadata": {},
     "output_type": "execute_result"
    }
   ],
   "source": [
    "results = pd.DataFrame({\n",
    "    'Id': X_test.index,  # Replace 'Id' with the actual ID column if available\n",
    "    'Predicted_Price': test_prediction\n",
    "})\n",
    "results\n",
    "# Save to CSV\n",
    "# results.to_csv('test_predictions.csv', index=False)"
   ]
  }
 ],
 "metadata": {
  "kaggle": {
   "accelerator": "none",
   "dataSources": [
    {
     "datasetId": 5130497,
     "sourceId": 8579062,
     "sourceType": "datasetVersion"
    }
   ],
   "dockerImageVersionId": 30715,
   "isGpuEnabled": false,
   "isInternetEnabled": true,
   "language": "python",
   "sourceType": "notebook"
  },
  "kernelspec": {
   "display_name": "Python 3",
   "language": "python",
   "name": "python3"
  },
  "language_info": {
   "codemirror_mode": {
    "name": "ipython",
    "version": 3
   },
   "file_extension": ".py",
   "mimetype": "text/x-python",
   "name": "python",
   "nbconvert_exporter": "python",
   "pygments_lexer": "ipython3",
   "version": "3.10.13"
  },
  "papermill": {
   "default_parameters": {},
   "duration": 1562.968291,
   "end_time": "2024-06-21T14:50:18.539781",
   "environment_variables": {},
   "exception": null,
   "input_path": "__notebook__.ipynb",
   "output_path": "__notebook__.ipynb",
   "parameters": {},
   "start_time": "2024-06-21T14:24:15.571490",
   "version": "2.5.0"
  }
 },
 "nbformat": 4,
 "nbformat_minor": 5
}
