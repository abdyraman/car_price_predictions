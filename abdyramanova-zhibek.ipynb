{
 "cells": [
  {
   "cell_type": "code",
   "execution_count": 1,
   "id": "dcd96189",
   "metadata": {
    "_cell_guid": "b1076dfc-b9ad-4769-8c92-a6c4dae69d19",
    "_uuid": "8f2839f25d086af736a60e9eeb907d3b93b6e0e5",
    "execution": {
     "iopub.execute_input": "2024-06-18T13:40:04.046273Z",
     "iopub.status.busy": "2024-06-18T13:40:04.045831Z",
     "iopub.status.idle": "2024-06-18T13:40:07.337008Z",
     "shell.execute_reply": "2024-06-18T13:40:07.335464Z"
    },
    "papermill": {
     "duration": 3.317816,
     "end_time": "2024-06-18T13:40:07.339918",
     "exception": false,
     "start_time": "2024-06-18T13:40:04.022102",
     "status": "completed"
    },
    "tags": []
   },
   "outputs": [
    {
     "name": "stdout",
     "output_type": "stream",
     "text": [
      "/kaggle/input/kagglexfellowship/kagglex-cohort4/sample_submission.csv\n",
      "/kaggle/input/kagglexfellowship/kagglex-cohort4/train.csv\n",
      "/kaggle/input/kagglexfellowship/kagglex-cohort4/test.csv\n"
     ]
    }
   ],
   "source": [
    "# This Python 3 environment comes with many helpful analytics libraries installed\n",
    "# It is defined by the kaggle/python Docker image: https://github.com/kaggle/docker-python\n",
    "# For example, here's several helpful packages to load\n",
    "\n",
    "import numpy as np # linear algebra\n",
    "import pandas as pd # data processing, CSV file I/O (e.g. pd.read_csv)\n",
    "import seaborn as sns\n",
    "import matplotlib.pyplot as plt\n",
    "\n",
    "# Input data files are available in the read-only \"../input/\" directory\n",
    "# For example, running this (by clicking run or pressing Shift+Enter) will list all files under the input directory\n",
    "\n",
    "import os\n",
    "for dirname, _, filenames in os.walk('/kaggle/input'):\n",
    "    for filename in filenames:\n",
    "        print(os.path.join(dirname, filename))\n",
    "\n",
    "# You can write up to 20GB to the current directory (/kaggle/working/) that gets preserved as output when you create a version using \"Save & Run All\" \n",
    "# You can also write temporary files to /kaggle/temp/, but they won't be saved outside of the current session"
   ]
  },
  {
   "cell_type": "code",
   "execution_count": 2,
   "id": "e8856bc0",
   "metadata": {
    "execution": {
     "iopub.execute_input": "2024-06-18T13:40:07.383466Z",
     "iopub.status.busy": "2024-06-18T13:40:07.382737Z",
     "iopub.status.idle": "2024-06-18T13:40:07.946074Z",
     "shell.execute_reply": "2024-06-18T13:40:07.944526Z"
    },
    "papermill": {
     "duration": 0.588327,
     "end_time": "2024-06-18T13:40:07.949141",
     "exception": false,
     "start_time": "2024-06-18T13:40:07.360814",
     "status": "completed"
    },
    "tags": []
   },
   "outputs": [],
   "source": [
    "#  Import and read the data \n",
    "train = pd.read_csv('/kaggle/input/kagglexfellowship/kagglex-cohort4/train.csv')\n",
    "test=pd.read_csv('/kaggle/input/kagglexfellowship/kagglex-cohort4/test.csv')\n",
    "subm=pd.read_csv('/kaggle/input/kagglexfellowship/kagglex-cohort4/sample_submission.csv')\n"
   ]
  },
  {
   "cell_type": "code",
   "execution_count": 3,
   "id": "e3ff19db",
   "metadata": {
    "execution": {
     "iopub.execute_input": "2024-06-18T13:40:07.997611Z",
     "iopub.status.busy": "2024-06-18T13:40:07.997207Z",
     "iopub.status.idle": "2024-06-18T13:40:08.015706Z",
     "shell.execute_reply": "2024-06-18T13:40:08.014721Z"
    },
    "papermill": {
     "duration": 0.048062,
     "end_time": "2024-06-18T13:40:08.020703",
     "exception": false,
     "start_time": "2024-06-18T13:40:07.972641",
     "status": "completed"
    },
    "tags": []
   },
   "outputs": [],
   "source": [
    "#Drop the non-beneficial ID columns and assign ID column as labels\n",
    "def set_index (df):\n",
    "    df.set_index('id', inplace=True)\n",
    "    return df\n",
    "\n",
    "train_df=set_index(train)\n",
    "test_df=set_index(test)"
   ]
  },
  {
   "cell_type": "markdown",
   "id": "25fa51ff",
   "metadata": {
    "papermill": {
     "duration": 0.029657,
     "end_time": "2024-06-18T13:40:08.080637",
     "exception": false,
     "start_time": "2024-06-18T13:40:08.050980",
     "status": "completed"
    },
    "tags": []
   },
   "source": [
    "# Data Exploration"
   ]
  },
  {
   "cell_type": "code",
   "execution_count": 4,
   "id": "97d05e30",
   "metadata": {
    "execution": {
     "iopub.execute_input": "2024-06-18T13:40:08.123136Z",
     "iopub.status.busy": "2024-06-18T13:40:08.122680Z",
     "iopub.status.idle": "2024-06-18T13:40:08.133356Z",
     "shell.execute_reply": "2024-06-18T13:40:08.132103Z"
    },
    "papermill": {
     "duration": 0.034618,
     "end_time": "2024-06-18T13:40:08.135948",
     "exception": false,
     "start_time": "2024-06-18T13:40:08.101330",
     "status": "completed"
    },
    "tags": []
   },
   "outputs": [
    {
     "data": {
      "text/plain": [
       "brand           object\n",
       "model           object\n",
       "model_year       int64\n",
       "milage           int64\n",
       "fuel_type       object\n",
       "engine          object\n",
       "transmission    object\n",
       "ext_col         object\n",
       "int_col         object\n",
       "accident        object\n",
       "clean_title     object\n",
       "price            int64\n",
       "dtype: object"
      ]
     },
     "execution_count": 4,
     "metadata": {},
     "output_type": "execute_result"
    }
   ],
   "source": [
    "# Checking the datatypes for train dataset\n",
    "train_df.dtypes"
   ]
  },
  {
   "cell_type": "code",
   "execution_count": 5,
   "id": "b991b014",
   "metadata": {
    "execution": {
     "iopub.execute_input": "2024-06-18T13:40:08.182976Z",
     "iopub.status.busy": "2024-06-18T13:40:08.182585Z",
     "iopub.status.idle": "2024-06-18T13:40:08.191711Z",
     "shell.execute_reply": "2024-06-18T13:40:08.190437Z"
    },
    "papermill": {
     "duration": 0.038308,
     "end_time": "2024-06-18T13:40:08.194563",
     "exception": false,
     "start_time": "2024-06-18T13:40:08.156255",
     "status": "completed"
    },
    "tags": []
   },
   "outputs": [
    {
     "data": {
      "text/plain": [
       "brand           object\n",
       "model           object\n",
       "model_year       int64\n",
       "milage           int64\n",
       "fuel_type       object\n",
       "engine          object\n",
       "transmission    object\n",
       "ext_col         object\n",
       "int_col         object\n",
       "accident        object\n",
       "clean_title     object\n",
       "dtype: object"
      ]
     },
     "execution_count": 5,
     "metadata": {},
     "output_type": "execute_result"
    }
   ],
   "source": [
    "test_df.dtypes"
   ]
  },
  {
   "cell_type": "code",
   "execution_count": 6,
   "id": "f87d081e",
   "metadata": {
    "execution": {
     "iopub.execute_input": "2024-06-18T13:40:08.240214Z",
     "iopub.status.busy": "2024-06-18T13:40:08.239679Z",
     "iopub.status.idle": "2024-06-18T13:40:08.247513Z",
     "shell.execute_reply": "2024-06-18T13:40:08.246065Z"
    },
    "papermill": {
     "duration": 0.03353,
     "end_time": "2024-06-18T13:40:08.250240",
     "exception": false,
     "start_time": "2024-06-18T13:40:08.216710",
     "status": "completed"
    },
    "tags": []
   },
   "outputs": [],
   "source": [
    "#Determine the number of unique values in each column\n",
    "def dataset_unique_counts(df):\n",
    "    unique_counts = df.nunique()\n",
    "    print(unique_counts)"
   ]
  },
  {
   "cell_type": "code",
   "execution_count": 7,
   "id": "0da0312e",
   "metadata": {
    "execution": {
     "iopub.execute_input": "2024-06-18T13:40:08.298908Z",
     "iopub.status.busy": "2024-06-18T13:40:08.298506Z",
     "iopub.status.idle": "2024-06-18T13:40:08.363157Z",
     "shell.execute_reply": "2024-06-18T13:40:08.362082Z"
    },
    "papermill": {
     "duration": 0.091537,
     "end_time": "2024-06-18T13:40:08.366158",
     "exception": false,
     "start_time": "2024-06-18T13:40:08.274621",
     "status": "completed"
    },
    "tags": []
   },
   "outputs": [
    {
     "name": "stdout",
     "output_type": "stream",
     "text": [
      "brand             53\n",
      "model           1827\n",
      "model_year        34\n",
      "milage          3212\n",
      "fuel_type          7\n",
      "engine          1061\n",
      "transmission      46\n",
      "ext_col          260\n",
      "int_col          124\n",
      "accident           2\n",
      "clean_title        1\n",
      "price           1481\n",
      "dtype: int64\n"
     ]
    }
   ],
   "source": [
    "#Unique values for train dataset\n",
    "dataset_unique_counts(train_df)"
   ]
  },
  {
   "cell_type": "code",
   "execution_count": 8,
   "id": "aeec836f",
   "metadata": {
    "execution": {
     "iopub.execute_input": "2024-06-18T13:40:08.408642Z",
     "iopub.status.busy": "2024-06-18T13:40:08.408224Z",
     "iopub.status.idle": "2024-06-18T13:40:08.450144Z",
     "shell.execute_reply": "2024-06-18T13:40:08.448784Z"
    },
    "papermill": {
     "duration": 0.06711,
     "end_time": "2024-06-18T13:40:08.453560",
     "exception": false,
     "start_time": "2024-06-18T13:40:08.386450",
     "status": "completed"
    },
    "tags": []
   },
   "outputs": [
    {
     "name": "stdout",
     "output_type": "stream",
     "text": [
      "brand             53\n",
      "model           1791\n",
      "model_year        34\n",
      "milage          2973\n",
      "fuel_type          7\n",
      "engine          1038\n",
      "transmission      44\n",
      "ext_col          230\n",
      "int_col          111\n",
      "accident           2\n",
      "clean_title        1\n",
      "dtype: int64\n"
     ]
    }
   ],
   "source": [
    "#Unique values for test dataset\n",
    "dataset_unique_counts(test_df)"
   ]
  },
  {
   "cell_type": "code",
   "execution_count": 9,
   "id": "32124473",
   "metadata": {
    "execution": {
     "iopub.execute_input": "2024-06-18T13:40:08.497632Z",
     "iopub.status.busy": "2024-06-18T13:40:08.497263Z",
     "iopub.status.idle": "2024-06-18T13:40:08.504597Z",
     "shell.execute_reply": "2024-06-18T13:40:08.503230Z"
    },
    "papermill": {
     "duration": 0.031796,
     "end_time": "2024-06-18T13:40:08.507185",
     "exception": false,
     "start_time": "2024-06-18T13:40:08.475389",
     "status": "completed"
    },
    "tags": []
   },
   "outputs": [],
   "source": [
    "def price_plot(df):\n",
    "    plt.figure(figsize=(8, 6))\n",
    "    sns.stripplot(data=df, y='price', jitter=True, color='purple', alpha=0.5)\n",
    "    plt.title('Strip Plot: Price Distribution')\n",
    "    plt.ylabel('Price')\n",
    "    plt.grid(True)\n",
    "    plt.show()"
   ]
  },
  {
   "cell_type": "code",
   "execution_count": 10,
   "id": "e908e5ba",
   "metadata": {
    "execution": {
     "iopub.execute_input": "2024-06-18T13:40:08.559563Z",
     "iopub.status.busy": "2024-06-18T13:40:08.558618Z",
     "iopub.status.idle": "2024-06-18T13:40:09.089207Z",
     "shell.execute_reply": "2024-06-18T13:40:09.088017Z"
    },
    "papermill": {
     "duration": 0.558803,
     "end_time": "2024-06-18T13:40:09.091769",
     "exception": false,
     "start_time": "2024-06-18T13:40:08.532966",
     "status": "completed"
    },
    "tags": []
   },
   "outputs": [
    {
     "name": "stderr",
     "output_type": "stream",
     "text": [
      "/opt/conda/lib/python3.10/site-packages/seaborn/_oldcore.py:1119: FutureWarning: use_inf_as_na option is deprecated and will be removed in a future version. Convert inf values to NaN before operating instead.\n",
      "  with pd.option_context('mode.use_inf_as_na', True):\n",
      "/opt/conda/lib/python3.10/site-packages/seaborn/_oldcore.py:1119: FutureWarning: use_inf_as_na option is deprecated and will be removed in a future version. Convert inf values to NaN before operating instead.\n",
      "  with pd.option_context('mode.use_inf_as_na', True):\n",
      "/opt/conda/lib/python3.10/site-packages/seaborn/_oldcore.py:1075: FutureWarning: When grouping with a length-1 list-like, you will need to pass a length-1 tuple to get_group in a future version of pandas. Pass `(name,)` instead of `name` to silence this warning.\n",
      "  data_subset = grouped_data.get_group(pd_key)\n"
     ]
    },
    {
     "data": {
      "image/png": "[encoded data removed]",
      "text/plain": [
       "<Figure size 800x600 with 1 Axes>"
      ]
     },
     "metadata": {},
     "output_type": "display_data"
    }
   ],
   "source": [
    "price_plot(train_df)"
   ]
  },
  {
   "cell_type": "markdown",
   "id": "07e52021",
   "metadata": {
    "papermill": {
     "duration": 0.021279,
     "end_time": "2024-06-18T13:40:09.134475",
     "exception": false,
     "start_time": "2024-06-18T13:40:09.113196",
     "status": "completed"
    },
    "tags": []
   },
   "source": [
    "Above Histogram shows that most cars lie in the lower range of price.\n",
    "The above graph has outliers from 0.4 onwards, which need to be removed."
   ]
  },
  {
   "cell_type": "code",
   "execution_count": 11,
   "id": "c289227a",
   "metadata": {
    "execution": {
     "iopub.execute_input": "2024-06-18T13:40:09.178424Z",
     "iopub.status.busy": "2024-06-18T13:40:09.178047Z",
     "iopub.status.idle": "2024-06-18T13:40:09.197331Z",
     "shell.execute_reply": "2024-06-18T13:40:09.195785Z"
    },
    "papermill": {
     "duration": 0.04485,
     "end_time": "2024-06-18T13:40:09.200404",
     "exception": false,
     "start_time": "2024-06-18T13:40:09.155554",
     "status": "completed"
    },
    "tags": []
   },
   "outputs": [
    {
     "data": {
      "text/plain": [
       "count    5.427300e+04\n",
       "mean     3.921844e+04\n",
       "std      7.282634e+04\n",
       "min      2.000000e+03\n",
       "25%      1.550000e+04\n",
       "50%      2.800000e+04\n",
       "75%      4.500000e+04\n",
       "max      2.954083e+06\n",
       "Name: price, dtype: float64"
      ]
     },
     "execution_count": 11,
     "metadata": {},
     "output_type": "execute_result"
    }
   ],
   "source": [
    "#Train data needs to be cleaned from outliers\n",
    "train_df['price'].describe()\n"
   ]
  },
  {
   "cell_type": "code",
   "execution_count": 12,
   "id": "c894cbab",
   "metadata": {
    "execution": {
     "iopub.execute_input": "2024-06-18T13:40:09.245605Z",
     "iopub.status.busy": "2024-06-18T13:40:09.245231Z",
     "iopub.status.idle": "2024-06-18T13:40:09.257712Z",
     "shell.execute_reply": "2024-06-18T13:40:09.255783Z"
    },
    "papermill": {
     "duration": 0.038775,
     "end_time": "2024-06-18T13:40:09.260431",
     "exception": false,
     "start_time": "2024-06-18T13:40:09.221656",
     "status": "completed"
    },
    "tags": []
   },
   "outputs": [
    {
     "name": "stdout",
     "output_type": "stream",
     "text": [
      "29500.0\n"
     ]
    }
   ],
   "source": [
    "#identify and remove outliers from the data df in relation to price column using IQR method\n",
    "Q1 = train_df['price'].quantile(0.25)\n",
    "Q3 = train_df['price'].quantile(0.75)\n",
    "IQR = Q3 - Q1\n",
    "print(IQR)"
   ]
  },
  {
   "cell_type": "code",
   "execution_count": 13,
   "id": "043c216f",
   "metadata": {
    "execution": {
     "iopub.execute_input": "2024-06-18T13:40:09.307408Z",
     "iopub.status.busy": "2024-06-18T13:40:09.306009Z",
     "iopub.status.idle": "2024-06-18T13:40:09.326185Z",
     "shell.execute_reply": "2024-06-18T13:40:09.324937Z"
    },
    "papermill": {
     "duration": 0.046568,
     "end_time": "2024-06-18T13:40:09.328976",
     "exception": false,
     "start_time": "2024-06-18T13:40:09.282408",
     "status": "completed"
    },
    "tags": []
   },
   "outputs": [
    {
     "data": {
      "text/plain": [
       "(47678, 12)"
      ]
     },
     "execution_count": 13,
     "metadata": {},
     "output_type": "execute_result"
    }
   ],
   "source": [
    "#use IQR value to filter out the outliers\n",
    "outliersfree_df = train_df[~((train_df['price'] < (Q1 - 1.5 * IQR)) |(train_df['price'] > (Q3 + 0.7 * IQR)))]\n",
    "outliersfree_df.shape"
   ]
  },
  {
   "cell_type": "code",
   "execution_count": 14,
   "id": "aab31d1f",
   "metadata": {
    "execution": {
     "iopub.execute_input": "2024-06-18T13:40:09.375854Z",
     "iopub.status.busy": "2024-06-18T13:40:09.375440Z",
     "iopub.status.idle": "2024-06-18T13:40:09.400637Z",
     "shell.execute_reply": "2024-06-18T13:40:09.399424Z"
    },
    "papermill": {
     "duration": 0.052414,
     "end_time": "2024-06-18T13:40:09.403381",
     "exception": false,
     "start_time": "2024-06-18T13:40:09.350967",
     "status": "completed"
    },
    "tags": []
   },
   "outputs": [
    {
     "data": {
      "text/html": [
       "<div>\n",
       "<style scoped>\n",
       "    .dataframe tbody tr th:only-of-type {\n",
       "        vertical-align: middle;\n",
       "    }\n",
       "\n",
       "    .dataframe tbody tr th {\n",
       "        vertical-align: top;\n",
       "    }\n",
       "\n",
       "    .dataframe thead th {\n",
       "        text-align: right;\n",
       "    }\n",
       "</style>\n",
       "<table border=\"1\" class=\"dataframe\">\n",
       "  <thead>\n",
       "    <tr style=\"text-align: right;\">\n",
       "      <th></th>\n",
       "      <th>brand</th>\n",
       "      <th>model</th>\n",
       "      <th>model_year</th>\n",
       "      <th>milage</th>\n",
       "      <th>fuel_type</th>\n",
       "      <th>engine</th>\n",
       "      <th>transmission</th>\n",
       "      <th>ext_col</th>\n",
       "      <th>int_col</th>\n",
       "      <th>accident</th>\n",
       "      <th>clean_title</th>\n",
       "      <th>price</th>\n",
       "    </tr>\n",
       "    <tr>\n",
       "      <th>id</th>\n",
       "      <th></th>\n",
       "      <th></th>\n",
       "      <th></th>\n",
       "      <th></th>\n",
       "      <th></th>\n",
       "      <th></th>\n",
       "      <th></th>\n",
       "      <th></th>\n",
       "      <th></th>\n",
       "      <th></th>\n",
       "      <th></th>\n",
       "      <th></th>\n",
       "    </tr>\n",
       "  </thead>\n",
       "  <tbody>\n",
       "    <tr>\n",
       "      <th>0</th>\n",
       "      <td>Ford</td>\n",
       "      <td>F-150 Lariat</td>\n",
       "      <td>2018</td>\n",
       "      <td>74349</td>\n",
       "      <td>Gasoline</td>\n",
       "      <td>375.0HP 3.5L V6 Cylinder Engine Gasoline Fuel</td>\n",
       "      <td>10-Speed A/T</td>\n",
       "      <td>Blue</td>\n",
       "      <td>Gray</td>\n",
       "      <td>None reported</td>\n",
       "      <td>Yes</td>\n",
       "      <td>11000</td>\n",
       "    </tr>\n",
       "    <tr>\n",
       "      <th>1</th>\n",
       "      <td>BMW</td>\n",
       "      <td>335 i</td>\n",
       "      <td>2007</td>\n",
       "      <td>80000</td>\n",
       "      <td>Gasoline</td>\n",
       "      <td>300.0HP 3.0L Straight 6 Cylinder Engine Gasoli...</td>\n",
       "      <td>6-Speed M/T</td>\n",
       "      <td>Black</td>\n",
       "      <td>Black</td>\n",
       "      <td>None reported</td>\n",
       "      <td>Yes</td>\n",
       "      <td>8250</td>\n",
       "    </tr>\n",
       "    <tr>\n",
       "      <th>2</th>\n",
       "      <td>Jaguar</td>\n",
       "      <td>XF Luxury</td>\n",
       "      <td>2009</td>\n",
       "      <td>91491</td>\n",
       "      <td>Gasoline</td>\n",
       "      <td>300.0HP 4.2L 8 Cylinder Engine Gasoline Fuel</td>\n",
       "      <td>6-Speed A/T</td>\n",
       "      <td>Purple</td>\n",
       "      <td>Beige</td>\n",
       "      <td>None reported</td>\n",
       "      <td>Yes</td>\n",
       "      <td>15000</td>\n",
       "    </tr>\n",
       "    <tr>\n",
       "      <th>3</th>\n",
       "      <td>BMW</td>\n",
       "      <td>X7 xDrive40i</td>\n",
       "      <td>2022</td>\n",
       "      <td>2437</td>\n",
       "      <td>Hybrid</td>\n",
       "      <td>335.0HP 3.0L Straight 6 Cylinder Engine Gasoli...</td>\n",
       "      <td>Transmission w/Dual Shift Mode</td>\n",
       "      <td>Gray</td>\n",
       "      <td>Brown</td>\n",
       "      <td>None reported</td>\n",
       "      <td>Yes</td>\n",
       "      <td>63500</td>\n",
       "    </tr>\n",
       "    <tr>\n",
       "      <th>4</th>\n",
       "      <td>Pontiac</td>\n",
       "      <td>Firebird Base</td>\n",
       "      <td>2001</td>\n",
       "      <td>111000</td>\n",
       "      <td>Gasoline</td>\n",
       "      <td>200.0HP 3.8L V6 Cylinder Engine Gasoline Fuel</td>\n",
       "      <td>A/T</td>\n",
       "      <td>White</td>\n",
       "      <td>Black</td>\n",
       "      <td>None reported</td>\n",
       "      <td>Yes</td>\n",
       "      <td>7850</td>\n",
       "    </tr>\n",
       "    <tr>\n",
       "      <th>...</th>\n",
       "      <td>...</td>\n",
       "      <td>...</td>\n",
       "      <td>...</td>\n",
       "      <td>...</td>\n",
       "      <td>...</td>\n",
       "      <td>...</td>\n",
       "      <td>...</td>\n",
       "      <td>...</td>\n",
       "      <td>...</td>\n",
       "      <td>...</td>\n",
       "      <td>...</td>\n",
       "      <td>...</td>\n",
       "    </tr>\n",
       "    <tr>\n",
       "      <th>54267</th>\n",
       "      <td>Land</td>\n",
       "      <td>Rover Range Rover Sport HST MHEV</td>\n",
       "      <td>2020</td>\n",
       "      <td>69000</td>\n",
       "      <td>Hybrid</td>\n",
       "      <td>395.0HP 3.0L Straight 6 Cylinder Engine Gasoli...</td>\n",
       "      <td>Transmission w/Dual Shift Mode</td>\n",
       "      <td>Silver</td>\n",
       "      <td>Black</td>\n",
       "      <td>None reported</td>\n",
       "      <td>Yes</td>\n",
       "      <td>32500</td>\n",
       "    </tr>\n",
       "    <tr>\n",
       "      <th>54268</th>\n",
       "      <td>BMW</td>\n",
       "      <td>X6 xDrive50i</td>\n",
       "      <td>2017</td>\n",
       "      <td>29000</td>\n",
       "      <td>Gasoline</td>\n",
       "      <td>445.0HP 4.4L 8 Cylinder Engine Gasoline Fuel</td>\n",
       "      <td>8-Speed A/T</td>\n",
       "      <td>White</td>\n",
       "      <td>Brown</td>\n",
       "      <td>None reported</td>\n",
       "      <td>Yes</td>\n",
       "      <td>29000</td>\n",
       "    </tr>\n",
       "    <tr>\n",
       "      <th>54269</th>\n",
       "      <td>Audi</td>\n",
       "      <td>A4 2.0T Premium</td>\n",
       "      <td>2015</td>\n",
       "      <td>94634</td>\n",
       "      <td>E85 Flex Fuel</td>\n",
       "      <td>220.0HP 2.0L 4 Cylinder Engine Flex Fuel Capab...</td>\n",
       "      <td>6-Speed A/T</td>\n",
       "      <td>Black</td>\n",
       "      <td>Black</td>\n",
       "      <td>At least 1 accident or damage reported</td>\n",
       "      <td>Yes</td>\n",
       "      <td>6500</td>\n",
       "    </tr>\n",
       "    <tr>\n",
       "      <th>54270</th>\n",
       "      <td>Porsche</td>\n",
       "      <td>Cayenne S</td>\n",
       "      <td>2013</td>\n",
       "      <td>40989</td>\n",
       "      <td>Gasoline</td>\n",
       "      <td>420.0HP 3.6L V6 Cylinder Engine Gasoline Fuel</td>\n",
       "      <td>Transmission w/Dual Shift Mode</td>\n",
       "      <td>White</td>\n",
       "      <td>Black</td>\n",
       "      <td>At least 1 accident or damage reported</td>\n",
       "      <td>Yes</td>\n",
       "      <td>18950</td>\n",
       "    </tr>\n",
       "    <tr>\n",
       "      <th>54272</th>\n",
       "      <td>Audi</td>\n",
       "      <td>A5 Sportback S line Premium Plus</td>\n",
       "      <td>2021</td>\n",
       "      <td>35000</td>\n",
       "      <td>Hybrid</td>\n",
       "      <td>261.0HP 2.0L 4 Cylinder Engine Gasoline/Mild E...</td>\n",
       "      <td>8-Speed A/T</td>\n",
       "      <td>Black</td>\n",
       "      <td>Black</td>\n",
       "      <td>None reported</td>\n",
       "      <td>Yes</td>\n",
       "      <td>37499</td>\n",
       "    </tr>\n",
       "  </tbody>\n",
       "</table>\n",
       "<p>47678 rows × 12 columns</p>\n",
       "</div>"
      ],
      "text/plain": [
       "         brand                             model  model_year  milage  \\\n",
       "id                                                                     \n",
       "0         Ford                      F-150 Lariat        2018   74349   \n",
       "1          BMW                             335 i        2007   80000   \n",
       "2       Jaguar                         XF Luxury        2009   91491   \n",
       "3          BMW                      X7 xDrive40i        2022    2437   \n",
       "4      Pontiac                     Firebird Base        2001  111000   \n",
       "...        ...                               ...         ...     ...   \n",
       "54267     Land  Rover Range Rover Sport HST MHEV        2020   69000   \n",
       "54268      BMW                      X6 xDrive50i        2017   29000   \n",
       "54269     Audi                   A4 2.0T Premium        2015   94634   \n",
       "54270  Porsche                         Cayenne S        2013   40989   \n",
       "54272     Audi  A5 Sportback S line Premium Plus        2021   35000   \n",
       "\n",
       "           fuel_type                                             engine  \\\n",
       "id                                                                        \n",
       "0           Gasoline      375.0HP 3.5L V6 Cylinder Engine Gasoline Fuel   \n",
       "1           Gasoline  300.0HP 3.0L Straight 6 Cylinder Engine Gasoli...   \n",
       "2           Gasoline       300.0HP 4.2L 8 Cylinder Engine Gasoline Fuel   \n",
       "3             Hybrid  335.0HP 3.0L Straight 6 Cylinder Engine Gasoli...   \n",
       "4           Gasoline      200.0HP 3.8L V6 Cylinder Engine Gasoline Fuel   \n",
       "...              ...                                                ...   \n",
       "54267         Hybrid  395.0HP 3.0L Straight 6 Cylinder Engine Gasoli...   \n",
       "54268       Gasoline       445.0HP 4.4L 8 Cylinder Engine Gasoline Fuel   \n",
       "54269  E85 Flex Fuel  220.0HP 2.0L 4 Cylinder Engine Flex Fuel Capab...   \n",
       "54270       Gasoline      420.0HP 3.6L V6 Cylinder Engine Gasoline Fuel   \n",
       "54272         Hybrid  261.0HP 2.0L 4 Cylinder Engine Gasoline/Mild E...   \n",
       "\n",
       "                         transmission ext_col int_col  \\\n",
       "id                                                      \n",
       "0                        10-Speed A/T    Blue    Gray   \n",
       "1                         6-Speed M/T   Black   Black   \n",
       "2                         6-Speed A/T  Purple   Beige   \n",
       "3      Transmission w/Dual Shift Mode    Gray   Brown   \n",
       "4                                 A/T   White   Black   \n",
       "...                               ...     ...     ...   \n",
       "54267  Transmission w/Dual Shift Mode  Silver   Black   \n",
       "54268                     8-Speed A/T   White   Brown   \n",
       "54269                     6-Speed A/T   Black   Black   \n",
       "54270  Transmission w/Dual Shift Mode   White   Black   \n",
       "54272                     8-Speed A/T   Black   Black   \n",
       "\n",
       "                                     accident clean_title  price  \n",
       "id                                                                \n",
       "0                               None reported         Yes  11000  \n",
       "1                               None reported         Yes   8250  \n",
       "2                               None reported         Yes  15000  \n",
       "3                               None reported         Yes  63500  \n",
       "4                               None reported         Yes   7850  \n",
       "...                                       ...         ...    ...  \n",
       "54267                           None reported         Yes  32500  \n",
       "54268                           None reported         Yes  29000  \n",
       "54269  At least 1 accident or damage reported         Yes   6500  \n",
       "54270  At least 1 accident or damage reported         Yes  18950  \n",
       "54272                           None reported         Yes  37499  \n",
       "\n",
       "[47678 rows x 12 columns]"
      ]
     },
     "execution_count": 14,
     "metadata": {},
     "output_type": "execute_result"
    }
   ],
   "source": [
    "outliersfree_df"
   ]
  },
  {
   "cell_type": "markdown",
   "id": "21012b1b",
   "metadata": {
    "papermill": {
     "duration": 0.021947,
     "end_time": "2024-06-18T13:40:09.447473",
     "exception": false,
     "start_time": "2024-06-18T13:40:09.425526",
     "status": "completed"
    },
    "tags": []
   },
   "source": [
    "The above plot looks more homogeneous than the previous one after removal of outliers."
   ]
  },
  {
   "cell_type": "markdown",
   "id": "58a5f5f4",
   "metadata": {
    "papermill": {
     "duration": 0.021709,
     "end_time": "2024-06-18T13:40:09.491406",
     "exception": false,
     "start_time": "2024-06-18T13:40:09.469697",
     "status": "completed"
    },
    "tags": []
   },
   "source": [
    "# **Data wrangling**"
   ]
  },
  {
   "cell_type": "markdown",
   "id": "71cb80ee",
   "metadata": {
    "papermill": {
     "duration": 0.021965,
     "end_time": "2024-06-18T13:40:09.535537",
     "exception": false,
     "start_time": "2024-06-18T13:40:09.513572",
     "status": "completed"
    },
    "tags": []
   },
   "source": [
    "I will reduce the number of features in string data categories, and will remain the numeric categories as they are."
   ]
  },
  {
   "cell_type": "code",
   "execution_count": 15,
   "id": "08df9fe2",
   "metadata": {
    "execution": {
     "iopub.execute_input": "2024-06-18T13:40:09.584760Z",
     "iopub.status.busy": "2024-06-18T13:40:09.584293Z",
     "iopub.status.idle": "2024-06-18T13:40:09.637468Z",
     "shell.execute_reply": "2024-06-18T13:40:09.636176Z"
    },
    "papermill": {
     "duration": 0.081375,
     "end_time": "2024-06-18T13:40:09.640430",
     "exception": false,
     "start_time": "2024-06-18T13:40:09.559055",
     "status": "completed"
    },
    "tags": []
   },
   "outputs": [
    {
     "name": "stdout",
     "output_type": "stream",
     "text": [
      "brand             51\n",
      "model           1795\n",
      "model_year        34\n",
      "milage          3093\n",
      "fuel_type          7\n",
      "engine          1045\n",
      "transmission      43\n",
      "ext_col          245\n",
      "int_col          118\n",
      "accident           2\n",
      "clean_title        1\n",
      "price           1108\n",
      "dtype: int64\n"
     ]
    }
   ],
   "source": [
    "#Determine the number of unique values in each column.\n",
    "dataset_unique_counts(outliersfree_df)"
   ]
  },
  {
   "cell_type": "code",
   "execution_count": 16,
   "id": "cd2a63c5",
   "metadata": {
    "execution": {
     "iopub.execute_input": "2024-06-18T13:40:09.688400Z",
     "iopub.status.busy": "2024-06-18T13:40:09.687938Z",
     "iopub.status.idle": "2024-06-18T13:40:09.729179Z",
     "shell.execute_reply": "2024-06-18T13:40:09.728054Z"
    },
    "papermill": {
     "duration": 0.067888,
     "end_time": "2024-06-18T13:40:09.731706",
     "exception": false,
     "start_time": "2024-06-18T13:40:09.663818",
     "status": "completed"
    },
    "tags": []
   },
   "outputs": [
    {
     "name": "stdout",
     "output_type": "stream",
     "text": [
      "brand             53\n",
      "model           1791\n",
      "model_year        34\n",
      "milage          2973\n",
      "fuel_type          7\n",
      "engine          1038\n",
      "transmission      44\n",
      "ext_col          230\n",
      "int_col          111\n",
      "accident           2\n",
      "clean_title        1\n",
      "dtype: int64\n"
     ]
    }
   ],
   "source": [
    "#Determine the number of unique values in each column.\n",
    "dataset_unique_counts(test_df)"
   ]
  },
  {
   "cell_type": "markdown",
   "id": "d7493aa9",
   "metadata": {
    "papermill": {
     "duration": 0.084932,
     "end_time": "2024-06-18T13:40:09.840135",
     "exception": false,
     "start_time": "2024-06-18T13:40:09.755203",
     "status": "completed"
    },
    "tags": []
   },
   "source": [
    "***Model cleaning***"
   ]
  },
  {
   "cell_type": "code",
   "execution_count": 17,
   "id": "8ac866d2",
   "metadata": {
    "execution": {
     "iopub.execute_input": "2024-06-18T13:40:09.888476Z",
     "iopub.status.busy": "2024-06-18T13:40:09.888046Z",
     "iopub.status.idle": "2024-06-18T13:40:09.979337Z",
     "shell.execute_reply": "2024-06-18T13:40:09.977956Z"
    },
    "papermill": {
     "duration": 0.119174,
     "end_time": "2024-06-18T13:40:09.982060",
     "exception": false,
     "start_time": "2024-06-18T13:40:09.862886",
     "status": "completed"
    },
    "tags": []
   },
   "outputs": [],
   "source": [
    "# Value counts function \n",
    "def feature_value_counts(df, column_name):\n",
    "    value_counts = df[column_name].value_counts()\n",
    "    return value_counts"
   ]
  },
  {
   "cell_type": "markdown",
   "id": "23f652d3",
   "metadata": {
    "papermill": {
     "duration": 0.023035,
     "end_time": "2024-06-18T13:40:10.027541",
     "exception": false,
     "start_time": "2024-06-18T13:40:10.004506",
     "status": "completed"
    },
    "tags": []
   },
   "source": [
    "Brand feature"
   ]
  },
  {
   "cell_type": "code",
   "execution_count": 18,
   "id": "35b9c0e3",
   "metadata": {
    "execution": {
     "iopub.execute_input": "2024-06-18T13:40:10.074806Z",
     "iopub.status.busy": "2024-06-18T13:40:10.074392Z",
     "iopub.status.idle": "2024-06-18T13:40:10.375927Z",
     "shell.execute_reply": "2024-06-18T13:40:10.374253Z"
    },
    "papermill": {
     "duration": 0.328682,
     "end_time": "2024-06-18T13:40:10.379117",
     "exception": false,
     "start_time": "2024-06-18T13:40:10.050435",
     "status": "completed"
    },
    "tags": []
   },
   "outputs": [],
   "source": [
    "brand_counts_train = feature_value_counts(outliersfree_df, 'brand')\n",
    "brand_counts_test = feature_value_counts(test_df, 'brand')\n",
    "\n",
    "cutoff_value = 400 # Keep if database has 451 and more records of this car model\n",
    "brand_types_to_replace = brand_counts_train[brand_counts_train < cutoff_value].index\n",
    "\n",
    "# Replace models in the training dataframe\n",
    "for brand_c in brand_types_to_replace:\n",
    "    outliersfree_df.loc[outliersfree_df['brand'] == brand_c, 'brand'] = \"Other\"\n",
    "\n",
    "# Apply the same replacements to the test dataframe\n",
    "test_df.loc[test_df['brand'].isin(brand_types_to_replace), 'brand'] = \"Other\"\n",
    "test_df.loc[~test_df['brand'].isin(outliersfree_df['brand'].unique()), 'brand'] = \"Other\"\n",
    "\n",
    "# Check the updated value counts\n",
    "brand_counts_train_updated = outliersfree_df['brand'].value_counts()\n",
    "brand_counts_test_updated = test_df['brand'].value_counts()\n"
   ]
  },
  {
   "cell_type": "code",
   "execution_count": 19,
   "id": "252f7b55",
   "metadata": {
    "execution": {
     "iopub.execute_input": "2024-06-18T13:40:10.428473Z",
     "iopub.status.busy": "2024-06-18T13:40:10.428064Z",
     "iopub.status.idle": "2024-06-18T13:40:10.436115Z",
     "shell.execute_reply": "2024-06-18T13:40:10.434926Z"
    },
    "papermill": {
     "duration": 0.036933,
     "end_time": "2024-06-18T13:40:10.438976",
     "exception": false,
     "start_time": "2024-06-18T13:40:10.402043",
     "status": "completed"
    },
    "tags": []
   },
   "outputs": [
    {
     "data": {
      "text/plain": [
       "27"
      ]
     },
     "execution_count": 19,
     "metadata": {},
     "output_type": "execute_result"
    }
   ],
   "source": [
    "len(brand_counts_train_updated)"
   ]
  },
  {
   "cell_type": "code",
   "execution_count": 20,
   "id": "168946ad",
   "metadata": {
    "execution": {
     "iopub.execute_input": "2024-06-18T13:40:10.486884Z",
     "iopub.status.busy": "2024-06-18T13:40:10.485942Z",
     "iopub.status.idle": "2024-06-18T13:40:10.493723Z",
     "shell.execute_reply": "2024-06-18T13:40:10.492183Z"
    },
    "papermill": {
     "duration": 0.03446,
     "end_time": "2024-06-18T13:40:10.496253",
     "exception": false,
     "start_time": "2024-06-18T13:40:10.461793",
     "status": "completed"
    },
    "tags": []
   },
   "outputs": [
    {
     "data": {
      "text/plain": [
       "27"
      ]
     },
     "execution_count": 20,
     "metadata": {},
     "output_type": "execute_result"
    }
   ],
   "source": [
    "len(brand_counts_test_updated)"
   ]
  },
  {
   "cell_type": "markdown",
   "id": "671a823f",
   "metadata": {
    "papermill": {
     "duration": 0.022575,
     "end_time": "2024-06-18T13:40:10.541657",
     "exception": false,
     "start_time": "2024-06-18T13:40:10.519082",
     "status": "completed"
    },
    "tags": []
   },
   "source": [
    "*Model feature*"
   ]
  },
  {
   "cell_type": "code",
   "execution_count": 21,
   "id": "7917f5f6",
   "metadata": {
    "execution": {
     "iopub.execute_input": "2024-06-18T13:40:10.597108Z",
     "iopub.status.busy": "2024-06-18T13:40:10.595941Z",
     "iopub.status.idle": "2024-06-18T13:40:28.078393Z",
     "shell.execute_reply": "2024-06-18T13:40:28.076755Z"
    },
    "papermill": {
     "duration": 17.515058,
     "end_time": "2024-06-18T13:40:28.081350",
     "exception": false,
     "start_time": "2024-06-18T13:40:10.566292",
     "status": "completed"
    },
    "tags": []
   },
   "outputs": [],
   "source": [
    "model_counts_train = feature_value_counts(outliersfree_df, 'model')\n",
    "model_counts_test = feature_value_counts(test_df, 'model')\n",
    "\n",
    "cutoff_value = 400 # Keep if database has 451 and more records of this car model\n",
    "model_types_to_replace = model_counts_train[model_counts_train < cutoff_value].index\n",
    "\n",
    "# Replace models in the training dataframe\n",
    "for model_c in model_types_to_replace:\n",
    "    outliersfree_df.loc[outliersfree_df['model'] == model_c, 'model'] = \"Other\"\n",
    "\n",
    "# Apply the same replacements to the test dataframe\n",
    "test_df.loc[test_df['model'].isin(model_types_to_replace), 'model'] = \"Other\"\n",
    "test_df.loc[~test_df['model'].isin(outliersfree_df['model'].unique()), 'model'] = \"Other\"\n",
    "\n",
    "# Check the updated value counts\n",
    "model_counts_train_updated = outliersfree_df['model'].value_counts()\n",
    "model_counts_test_updated = test_df['model'].value_counts()\n"
   ]
  },
  {
   "cell_type": "code",
   "execution_count": 22,
   "id": "0ec55e38",
   "metadata": {
    "execution": {
     "iopub.execute_input": "2024-06-18T13:40:28.131207Z",
     "iopub.status.busy": "2024-06-18T13:40:28.130778Z",
     "iopub.status.idle": "2024-06-18T13:40:28.138879Z",
     "shell.execute_reply": "2024-06-18T13:40:28.137276Z"
    },
    "papermill": {
     "duration": 0.036845,
     "end_time": "2024-06-18T13:40:28.142014",
     "exception": false,
     "start_time": "2024-06-18T13:40:28.105169",
     "status": "completed"
    },
    "tags": []
   },
   "outputs": [
    {
     "data": {
      "text/plain": [
       "6"
      ]
     },
     "execution_count": 22,
     "metadata": {},
     "output_type": "execute_result"
    }
   ],
   "source": [
    "len(model_counts_train_updated)"
   ]
  },
  {
   "cell_type": "code",
   "execution_count": 23,
   "id": "53a2f716",
   "metadata": {
    "execution": {
     "iopub.execute_input": "2024-06-18T13:40:28.191463Z",
     "iopub.status.busy": "2024-06-18T13:40:28.191035Z",
     "iopub.status.idle": "2024-06-18T13:40:28.199728Z",
     "shell.execute_reply": "2024-06-18T13:40:28.197783Z"
    },
    "papermill": {
     "duration": 0.037829,
     "end_time": "2024-06-18T13:40:28.202860",
     "exception": false,
     "start_time": "2024-06-18T13:40:28.165031",
     "status": "completed"
    },
    "tags": []
   },
   "outputs": [
    {
     "data": {
      "text/plain": [
       "6"
      ]
     },
     "execution_count": 23,
     "metadata": {},
     "output_type": "execute_result"
    }
   ],
   "source": [
    "len(model_counts_test_updated)"
   ]
  },
  {
   "cell_type": "markdown",
   "id": "8a5129e9",
   "metadata": {
    "papermill": {
     "duration": 0.024042,
     "end_time": "2024-06-18T13:40:28.251656",
     "exception": false,
     "start_time": "2024-06-18T13:40:28.227614",
     "status": "completed"
    },
    "tags": []
   },
   "source": [
    "*Fuel feature*"
   ]
  },
  {
   "cell_type": "code",
   "execution_count": 24,
   "id": "a83b59d3",
   "metadata": {
    "execution": {
     "iopub.execute_input": "2024-06-18T13:40:28.302677Z",
     "iopub.status.busy": "2024-06-18T13:40:28.301279Z",
     "iopub.status.idle": "2024-06-18T13:40:28.308464Z",
     "shell.execute_reply": "2024-06-18T13:40:28.307098Z"
    },
    "papermill": {
     "duration": 0.035953,
     "end_time": "2024-06-18T13:40:28.311444",
     "exception": false,
     "start_time": "2024-06-18T13:40:28.275491",
     "status": "completed"
    },
    "tags": []
   },
   "outputs": [],
   "source": [
    "# Replace '–' with 'Other' in the 'fuel_type' column\n",
    "def cleaning_not_supported_and_dashes(df):\n",
    "    # Replace unsupported dashes with 'Other'\n",
    "    df.loc[df['fuel_type'] == '–', 'fuel_type'] = 'Other'\n",
    "    # Remove rows where 'fuel_type' is 'not supported'\n",
    "    cleaned_df = df[df['fuel_type'] != 'not supported']\n",
    "    # Calculate and return the value counts of the cleaned 'fuel_type' column\n",
    "    fuel_counts = cleaned_df['fuel_type'].value_counts()\n",
    "    return cleaned_df"
   ]
  },
  {
   "cell_type": "code",
   "execution_count": 25,
   "id": "25521efa",
   "metadata": {
    "execution": {
     "iopub.execute_input": "2024-06-18T13:40:28.361097Z",
     "iopub.status.busy": "2024-06-18T13:40:28.360658Z",
     "iopub.status.idle": "2024-06-18T13:40:28.416824Z",
     "shell.execute_reply": "2024-06-18T13:40:28.415327Z"
    },
    "papermill": {
     "duration": 0.083911,
     "end_time": "2024-06-18T13:40:28.419659",
     "exception": false,
     "start_time": "2024-06-18T13:40:28.335748",
     "status": "completed"
    },
    "tags": []
   },
   "outputs": [
    {
     "data": {
      "text/plain": [
       "fuel_type\n",
       "Gasoline          49439\n",
       "Hybrid             1766\n",
       "E85 Flex Fuel      1479\n",
       "Diesel             1109\n",
       "Other               294\n",
       "Plug-In Hybrid      182\n",
       "Name: count, dtype: int64"
      ]
     },
     "execution_count": 25,
     "metadata": {},
     "output_type": "execute_result"
    }
   ],
   "source": [
    "cleaned_train=cleaning_not_supported_and_dashes(train_df)\n",
    "feature_value_counts(cleaned_train, 'fuel_type')\n"
   ]
  },
  {
   "cell_type": "code",
   "execution_count": 26,
   "id": "6ec66fe8",
   "metadata": {
    "execution": {
     "iopub.execute_input": "2024-06-18T13:40:28.469086Z",
     "iopub.status.busy": "2024-06-18T13:40:28.468618Z",
     "iopub.status.idle": "2024-06-18T13:40:28.511225Z",
     "shell.execute_reply": "2024-06-18T13:40:28.510038Z"
    },
    "papermill": {
     "duration": 0.071153,
     "end_time": "2024-06-18T13:40:28.514112",
     "exception": false,
     "start_time": "2024-06-18T13:40:28.442959",
     "status": "completed"
    },
    "tags": []
   },
   "outputs": [
    {
     "data": {
      "text/plain": [
       "fuel_type\n",
       "Gasoline          33033\n",
       "Hybrid             1112\n",
       "E85 Flex Fuel      1018\n",
       "Diesel              671\n",
       "Other               197\n",
       "Plug-In Hybrid      148\n",
       "Name: count, dtype: int64"
      ]
     },
     "execution_count": 26,
     "metadata": {},
     "output_type": "execute_result"
    }
   ],
   "source": [
    "cleaned_test=cleaning_not_supported_and_dashes(test_df)\n",
    "feature_value_counts(cleaned_test, 'fuel_type')\n"
   ]
  },
  {
   "cell_type": "markdown",
   "id": "80eb7971",
   "metadata": {
    "papermill": {
     "duration": 0.023316,
     "end_time": "2024-06-18T13:40:28.561485",
     "exception": false,
     "start_time": "2024-06-18T13:40:28.538169",
     "status": "completed"
    },
    "tags": []
   },
   "source": [
    "*Engine feature*"
   ]
  },
  {
   "cell_type": "code",
   "execution_count": 27,
   "id": "c35076f0",
   "metadata": {
    "execution": {
     "iopub.execute_input": "2024-06-18T13:40:28.611770Z",
     "iopub.status.busy": "2024-06-18T13:40:28.611384Z",
     "iopub.status.idle": "2024-06-18T13:40:40.313708Z",
     "shell.execute_reply": "2024-06-18T13:40:40.312228Z"
    },
    "papermill": {
     "duration": 11.730734,
     "end_time": "2024-06-18T13:40:40.316970",
     "exception": false,
     "start_time": "2024-06-18T13:40:28.586236",
     "status": "completed"
    },
    "tags": []
   },
   "outputs": [],
   "source": [
    "#Reducing the features unique values\n",
    "engine_counts_train = feature_value_counts(cleaned_train, 'engine')\n",
    "engine_counts_test = feature_value_counts(cleaned_test, 'engine')\n",
    "\n",
    "cutoff_value = 400 # Keep if database has 451 and more records of this car model\n",
    "engine_types_to_replace = engine_counts_train[engine_counts_train < cutoff_value].index\n",
    "\n",
    "# Replace models in the training dataframe\n",
    "for engine_c in engine_types_to_replace:\n",
    "    cleaned_train.loc[cleaned_train['engine'] == engine_c, 'engine'] = \"Other\"\n",
    "\n",
    "# Apply the same replacements to the test dataframe\n",
    "cleaned_test.loc[cleaned_test['engine'].isin(engine_types_to_replace), 'engine'] = \"Other\"\n",
    "cleaned_test.loc[~cleaned_test['engine'].isin(cleaned_train['engine'].unique()), 'engine'] = \"Other\"\n",
    "\n",
    "# Check the updated value counts\n",
    "engine_counts_train_updated = cleaned_train['engine'].value_counts()\n",
    "engine_counts_test_updated = cleaned_test['engine'].value_counts()\n"
   ]
  },
  {
   "cell_type": "code",
   "execution_count": 28,
   "id": "6378e297",
   "metadata": {
    "execution": {
     "iopub.execute_input": "2024-06-18T13:40:40.370515Z",
     "iopub.status.busy": "2024-06-18T13:40:40.370085Z",
     "iopub.status.idle": "2024-06-18T13:40:40.377818Z",
     "shell.execute_reply": "2024-06-18T13:40:40.376438Z"
    },
    "papermill": {
     "duration": 0.038142,
     "end_time": "2024-06-18T13:40:40.380785",
     "exception": false,
     "start_time": "2024-06-18T13:40:40.342643",
     "status": "completed"
    },
    "tags": []
   },
   "outputs": [
    {
     "data": {
      "text/plain": [
       "20"
      ]
     },
     "execution_count": 28,
     "metadata": {},
     "output_type": "execute_result"
    }
   ],
   "source": [
    "len(engine_counts_train_updated)"
   ]
  },
  {
   "cell_type": "code",
   "execution_count": 29,
   "id": "628d0baf",
   "metadata": {
    "execution": {
     "iopub.execute_input": "2024-06-18T13:40:40.430469Z",
     "iopub.status.busy": "2024-06-18T13:40:40.430078Z",
     "iopub.status.idle": "2024-06-18T13:40:40.437743Z",
     "shell.execute_reply": "2024-06-18T13:40:40.436442Z"
    },
    "papermill": {
     "duration": 0.035384,
     "end_time": "2024-06-18T13:40:40.440548",
     "exception": false,
     "start_time": "2024-06-18T13:40:40.405164",
     "status": "completed"
    },
    "tags": []
   },
   "outputs": [
    {
     "data": {
      "text/plain": [
       "20"
      ]
     },
     "execution_count": 29,
     "metadata": {},
     "output_type": "execute_result"
    }
   ],
   "source": [
    "len(engine_counts_test_updated)"
   ]
  },
  {
   "cell_type": "markdown",
   "id": "b77f03d8",
   "metadata": {
    "papermill": {
     "duration": 0.023656,
     "end_time": "2024-06-18T13:40:40.488337",
     "exception": false,
     "start_time": "2024-06-18T13:40:40.464681",
     "status": "completed"
    },
    "tags": []
   },
   "source": [
    "*Transmission feature*"
   ]
  },
  {
   "cell_type": "code",
   "execution_count": 30,
   "id": "ebaf60fc",
   "metadata": {
    "execution": {
     "iopub.execute_input": "2024-06-18T13:40:40.541130Z",
     "iopub.status.busy": "2024-06-18T13:40:40.540709Z",
     "iopub.status.idle": "2024-06-18T13:40:40.888412Z",
     "shell.execute_reply": "2024-06-18T13:40:40.886748Z"
    },
    "papermill": {
     "duration": 0.377626,
     "end_time": "2024-06-18T13:40:40.891384",
     "exception": false,
     "start_time": "2024-06-18T13:40:40.513758",
     "status": "completed"
    },
    "tags": []
   },
   "outputs": [],
   "source": [
    "#Reducing the features unique values\n",
    "trans_counts_train = feature_value_counts(cleaned_train, 'transmission')\n",
    "trans_counts_test = feature_value_counts(cleaned_test, 'transmission')\n",
    "\n",
    "cutoff_value = 100 # Keep if database has 451 and more records of this car model\n",
    "trans_types_to_replace = trans_counts_train[trans_counts_train < cutoff_value].index\n",
    "\n",
    "# Replace models in the training dataframe\n",
    "for trans_c in trans_types_to_replace:\n",
    "    cleaned_train.loc[cleaned_train['transmission'] == trans_c, 'transmission'] = \"Other\"\n",
    "\n",
    "# Apply the same replacements to the test dataframe\n",
    "cleaned_test.loc[cleaned_test['transmission'].isin(trans_types_to_replace), 'transmission'] = \"Other\"\n",
    "cleaned_test.loc[~cleaned_test['transmission'].isin(cleaned_train['transmission'].unique()), 'transmission'] = \"Other\"\n",
    "\n",
    "# Check the updated value counts\n",
    "trans_counts_train_updated = cleaned_train['transmission'].value_counts()\n",
    "trans_counts_test_updated = cleaned_test['transmission'].value_counts()\n"
   ]
  },
  {
   "cell_type": "code",
   "execution_count": 31,
   "id": "e40ad1ac",
   "metadata": {
    "execution": {
     "iopub.execute_input": "2024-06-18T13:40:40.941622Z",
     "iopub.status.busy": "2024-06-18T13:40:40.941229Z",
     "iopub.status.idle": "2024-06-18T13:40:40.950674Z",
     "shell.execute_reply": "2024-06-18T13:40:40.949581Z"
    },
    "papermill": {
     "duration": 0.037758,
     "end_time": "2024-06-18T13:40:40.953323",
     "exception": false,
     "start_time": "2024-06-18T13:40:40.915565",
     "status": "completed"
    },
    "tags": []
   },
   "outputs": [
    {
     "data": {
      "text/plain": [
       "transmission\n",
       "A/T                                  16754\n",
       "8-Speed A/T                           7287\n",
       "Transmission w/Dual Shift Mode        6453\n",
       "6-Speed A/T                           5944\n",
       "6-Speed M/T                           3618\n",
       "7-Speed A/T                           3415\n",
       "10-Speed A/T                          2187\n",
       "8-Speed Automatic                     1189\n",
       "5-Speed A/T                           1185\n",
       "9-Speed A/T                           1073\n",
       "4-Speed A/T                            764\n",
       "5-Speed M/T                            718\n",
       "CVT Transmission                       692\n",
       "10-Speed Automatic                     642\n",
       "6-Speed Automatic                      516\n",
       "Other                                  474\n",
       "Automatic                              441\n",
       "M/T                                    359\n",
       "9-Speed Automatic                      344\n",
       "7-Speed Automatic with Auto-Shift      110\n",
       "7-Speed M/T                            104\n",
       "Name: count, dtype: int64"
      ]
     },
     "execution_count": 31,
     "metadata": {},
     "output_type": "execute_result"
    }
   ],
   "source": [
    "trans_counts_train_updated"
   ]
  },
  {
   "cell_type": "code",
   "execution_count": 32,
   "id": "dc0b61b9",
   "metadata": {
    "execution": {
     "iopub.execute_input": "2024-06-18T13:40:41.005597Z",
     "iopub.status.busy": "2024-06-18T13:40:41.005159Z",
     "iopub.status.idle": "2024-06-18T13:40:41.014207Z",
     "shell.execute_reply": "2024-06-18T13:40:41.012867Z"
    },
    "papermill": {
     "duration": 0.038992,
     "end_time": "2024-06-18T13:40:41.016641",
     "exception": false,
     "start_time": "2024-06-18T13:40:40.977649",
     "status": "completed"
    },
    "tags": []
   },
   "outputs": [
    {
     "data": {
      "text/plain": [
       "transmission\n",
       "A/T                                  11269\n",
       "8-Speed A/T                           4818\n",
       "Transmission w/Dual Shift Mode        4266\n",
       "6-Speed A/T                           3901\n",
       "6-Speed M/T                           2482\n",
       "7-Speed A/T                           2216\n",
       "10-Speed A/T                          1443\n",
       "5-Speed A/T                            847\n",
       "8-Speed Automatic                      739\n",
       "9-Speed A/T                            688\n",
       "4-Speed A/T                            551\n",
       "CVT Transmission                       485\n",
       "5-Speed M/T                            471\n",
       "10-Speed Automatic                     406\n",
       "Other                                  329\n",
       "6-Speed Automatic                      320\n",
       "Automatic                              287\n",
       "M/T                                    273\n",
       "9-Speed Automatic                      230\n",
       "7-Speed Automatic with Auto-Shift       86\n",
       "7-Speed M/T                             72\n",
       "Name: count, dtype: int64"
      ]
     },
     "execution_count": 32,
     "metadata": {},
     "output_type": "execute_result"
    }
   ],
   "source": [
    "trans_counts_test_updated"
   ]
  },
  {
   "cell_type": "markdown",
   "id": "03126725",
   "metadata": {
    "papermill": {
     "duration": 0.025501,
     "end_time": "2024-06-18T13:40:41.066337",
     "exception": false,
     "start_time": "2024-06-18T13:40:41.040836",
     "status": "completed"
    },
    "tags": []
   },
   "source": [
    "**External colour feature**"
   ]
  },
  {
   "cell_type": "code",
   "execution_count": 33,
   "id": "6a1f8d5e",
   "metadata": {
    "execution": {
     "iopub.execute_input": "2024-06-18T13:40:41.117529Z",
     "iopub.status.busy": "2024-06-18T13:40:41.117111Z",
     "iopub.status.idle": "2024-06-18T13:40:41.135743Z",
     "shell.execute_reply": "2024-06-18T13:40:41.134388Z"
    },
    "papermill": {
     "duration": 0.047013,
     "end_time": "2024-06-18T13:40:41.138358",
     "exception": false,
     "start_time": "2024-06-18T13:40:41.091345",
     "status": "completed"
    },
    "tags": []
   },
   "outputs": [
    {
     "data": {
      "text/plain": [
       "ext_col\n",
       "Black                      15078\n",
       "White                      13422\n",
       "Gray                        7908\n",
       "Silver                      5158\n",
       "Blue                        4668\n",
       "                           ...  \n",
       "Balloon White                  1\n",
       "Firenze Red Metallic           1\n",
       "Orca Black Metallic            1\n",
       "Radiant Red Metallic II        1\n",
       "Magnetic Gray Clearcoat        1\n",
       "Name: count, Length: 260, dtype: int64"
      ]
     },
     "execution_count": 33,
     "metadata": {},
     "output_type": "execute_result"
    }
   ],
   "source": [
    "#Determine the number of unique values in each column.\n",
    "trans_counts_train = feature_value_counts(cleaned_train, 'ext_col')\n",
    "trans_counts_train"
   ]
  },
  {
   "cell_type": "code",
   "execution_count": 34,
   "id": "74889ba5",
   "metadata": {
    "execution": {
     "iopub.execute_input": "2024-06-18T13:40:41.192251Z",
     "iopub.status.busy": "2024-06-18T13:40:41.191843Z",
     "iopub.status.idle": "2024-06-18T13:40:41.208951Z",
     "shell.execute_reply": "2024-06-18T13:40:41.207352Z"
    },
    "papermill": {
     "duration": 0.047616,
     "end_time": "2024-06-18T13:40:41.212065",
     "exception": false,
     "start_time": "2024-06-18T13:40:41.164449",
     "status": "completed"
    },
    "tags": []
   },
   "outputs": [
    {
     "data": {
      "text/plain": [
       "ext_col\n",
       "Black                      10027\n",
       "White                       8793\n",
       "Gray                        5383\n",
       "Silver                      3465\n",
       "Blue                        3154\n",
       "                           ...  \n",
       "Crystal White Pearl            1\n",
       "Blue Metallic                  1\n",
       "Magnetic Gray Clearcoat        1\n",
       "Pure White                     1\n",
       "Sparkling Silver               1\n",
       "Name: count, Length: 230, dtype: int64"
      ]
     },
     "execution_count": 34,
     "metadata": {},
     "output_type": "execute_result"
    }
   ],
   "source": [
    "trans_counts_test = feature_value_counts(cleaned_test, 'ext_col')\n",
    "trans_counts_test"
   ]
  },
  {
   "cell_type": "code",
   "execution_count": 35,
   "id": "a0ef97ce",
   "metadata": {
    "execution": {
     "iopub.execute_input": "2024-06-18T13:40:41.263391Z",
     "iopub.status.busy": "2024-06-18T13:40:41.262962Z",
     "iopub.status.idle": "2024-06-18T13:40:44.049228Z",
     "shell.execute_reply": "2024-06-18T13:40:44.048070Z"
    },
    "papermill": {
     "duration": 2.815489,
     "end_time": "2024-06-18T13:40:44.052124",
     "exception": false,
     "start_time": "2024-06-18T13:40:41.236635",
     "status": "completed"
    },
    "tags": []
   },
   "outputs": [],
   "source": [
    "#Reducing the features unique values\n",
    "ext_col_counts_train = feature_value_counts(cleaned_train, 'ext_col')\n",
    "ext_col_counts_test = feature_value_counts(cleaned_test, 'ext_col')\n",
    "\n",
    "cutoff_value = 1000 # Keep if database has 451 and more records of this car model\n",
    "ext_col_types_to_replace =ext_col_counts_train[ext_col_counts_train < cutoff_value].index\n",
    "\n",
    "# Replace models in the training dataframe\n",
    "for ext_col_c in ext_col_types_to_replace:\n",
    "    cleaned_train.loc[cleaned_train['ext_col'] == ext_col_c, 'ext_col'] = \"Other\"\n",
    "\n",
    "# Apply the same replacements to the test dataframe\n",
    "cleaned_test.loc[cleaned_test['ext_col'].isin(ext_col_types_to_replace), 'ext_col'] = \"Other\"\n",
    "cleaned_test.loc[~cleaned_test['ext_col'].isin(cleaned_train['ext_col'].unique()), 'ext_col'] = \"Other\"\n",
    "\n",
    "# Check the updated value counts\n",
    "ext_col_counts_train_updated = cleaned_train['ext_col'].value_counts()\n",
    "ext_col_counts_test_updated = cleaned_test['ext_col'].value_counts()"
   ]
  },
  {
   "cell_type": "code",
   "execution_count": 36,
   "id": "1634181e",
   "metadata": {
    "execution": {
     "iopub.execute_input": "2024-06-18T13:40:44.104824Z",
     "iopub.status.busy": "2024-06-18T13:40:44.104404Z",
     "iopub.status.idle": "2024-06-18T13:40:44.112243Z",
     "shell.execute_reply": "2024-06-18T13:40:44.111077Z"
    },
    "papermill": {
     "duration": 0.036677,
     "end_time": "2024-06-18T13:40:44.114911",
     "exception": false,
     "start_time": "2024-06-18T13:40:44.078234",
     "status": "completed"
    },
    "tags": []
   },
   "outputs": [
    {
     "data": {
      "text/plain": [
       "ext_col\n",
       "Black     15078\n",
       "White     13422\n",
       "Gray       7908\n",
       "Silver     5158\n",
       "Other      5022\n",
       "Blue       4668\n",
       "Red        3013\n",
       "Name: count, dtype: int64"
      ]
     },
     "execution_count": 36,
     "metadata": {},
     "output_type": "execute_result"
    }
   ],
   "source": [
    "ext_col_counts_train_updated"
   ]
  },
  {
   "cell_type": "code",
   "execution_count": 37,
   "id": "8bcd8006",
   "metadata": {
    "execution": {
     "iopub.execute_input": "2024-06-18T13:40:44.167128Z",
     "iopub.status.busy": "2024-06-18T13:40:44.166071Z",
     "iopub.status.idle": "2024-06-18T13:40:44.174809Z",
     "shell.execute_reply": "2024-06-18T13:40:44.173655Z"
    },
    "papermill": {
     "duration": 0.037872,
     "end_time": "2024-06-18T13:40:44.177588",
     "exception": false,
     "start_time": "2024-06-18T13:40:44.139716",
     "status": "completed"
    },
    "tags": []
   },
   "outputs": [
    {
     "data": {
      "text/plain": [
       "ext_col\n",
       "Black     10027\n",
       "White      8793\n",
       "Gray       5383\n",
       "Silver     3465\n",
       "Other      3290\n",
       "Blue       3154\n",
       "Red        2067\n",
       "Name: count, dtype: int64"
      ]
     },
     "execution_count": 37,
     "metadata": {},
     "output_type": "execute_result"
    }
   ],
   "source": [
    "ext_col_counts_test_updated"
   ]
  },
  {
   "cell_type": "markdown",
   "id": "2bd58bc4",
   "metadata": {
    "papermill": {
     "duration": 0.024847,
     "end_time": "2024-06-18T13:40:44.227308",
     "exception": false,
     "start_time": "2024-06-18T13:40:44.202461",
     "status": "completed"
    },
    "tags": []
   },
   "source": [
    "*Internal colour feature*"
   ]
  },
  {
   "cell_type": "code",
   "execution_count": 38,
   "id": "967f1558",
   "metadata": {
    "execution": {
     "iopub.execute_input": "2024-06-18T13:40:44.280147Z",
     "iopub.status.busy": "2024-06-18T13:40:44.279702Z",
     "iopub.status.idle": "2024-06-18T13:40:44.298135Z",
     "shell.execute_reply": "2024-06-18T13:40:44.297030Z"
    },
    "papermill": {
     "duration": 0.047492,
     "end_time": "2024-06-18T13:40:44.300577",
     "exception": false,
     "start_time": "2024-06-18T13:40:44.253085",
     "status": "completed"
    },
    "tags": []
   },
   "outputs": [
    {
     "data": {
      "text/plain": [
       "int_col\n",
       "Black                    31818\n",
       "Beige                     7995\n",
       "Gray                      6250\n",
       "Brown                     2239\n",
       "Red                       1499\n",
       "White                     1172\n",
       "–                         1045\n",
       "Jet Black                  365\n",
       "Orange                     248\n",
       "Ebony                      237\n",
       "Blue                       212\n",
       "Silver                     129\n",
       "Gold                        95\n",
       "Global Black                58\n",
       "Green                       56\n",
       "Medium Stone                39\n",
       "Black Onyx                  34\n",
       "Charcoal                    32\n",
       "Nero Ade                    32\n",
       "Diesel Gray / Black         30\n",
       "Rioja Red                   28\n",
       "Medium Dark Slate           25\n",
       "Portland                    22\n",
       "Graphite                    22\n",
       "White / Brown               22\n",
       "Medium Earth Gray           21\n",
       "Tan                         19\n",
       "Hotspur                     17\n",
       "Adrenaline Red              17\n",
       "Light Slate                 17\n",
       "Shara Beige                 16\n",
       "Canberra Beige              16\n",
       "Sandstone                   15\n",
       "Hotspur Hide                14\n",
       "Ceramic                     14\n",
       "Deep Chestnut               13\n",
       "Medium Light Camel          13\n",
       "Mesa                        11\n",
       "Ebony Black                 11\n",
       "Ebony / Ebony Accents       11\n",
       "Charcoal Black              10\n",
       "Shale                       10\n",
       "Charles Blue                10\n",
       "Light Titanium               9\n",
       "Deep Garnet                  9\n",
       "Titan Black / Quarzit        9\n",
       "Nero                         8\n",
       "Navy Pier                    8\n",
       "Chestnut                     8\n",
       "Red / Black                  8\n",
       "Name: count, dtype: int64"
      ]
     },
     "execution_count": 38,
     "metadata": {},
     "output_type": "execute_result"
    }
   ],
   "source": [
    "# Look at colours value counts for binning\n",
    "int_col_counts = cleaned_train['int_col'].value_counts()\n",
    "int_col_counts.head(50)"
   ]
  },
  {
   "cell_type": "code",
   "execution_count": 39,
   "id": "ce29d56c",
   "metadata": {
    "execution": {
     "iopub.execute_input": "2024-06-18T13:40:44.353249Z",
     "iopub.status.busy": "2024-06-18T13:40:44.352862Z",
     "iopub.status.idle": "2024-06-18T13:40:44.369892Z",
     "shell.execute_reply": "2024-06-18T13:40:44.368590Z"
    },
    "papermill": {
     "duration": 0.046877,
     "end_time": "2024-06-18T13:40:44.372318",
     "exception": false,
     "start_time": "2024-06-18T13:40:44.325441",
     "status": "completed"
    },
    "tags": []
   },
   "outputs": [],
   "source": [
    "cleaned_train.loc[cleaned_train['int_col'] == '–', 'int_col'] = 'Other'"
   ]
  },
  {
   "cell_type": "code",
   "execution_count": 40,
   "id": "77fae2f4",
   "metadata": {
    "execution": {
     "iopub.execute_input": "2024-06-18T13:40:44.426163Z",
     "iopub.status.busy": "2024-06-18T13:40:44.425743Z",
     "iopub.status.idle": "2024-06-18T13:40:45.362406Z",
     "shell.execute_reply": "2024-06-18T13:40:45.361066Z"
    },
    "papermill": {
     "duration": 0.967665,
     "end_time": "2024-06-18T13:40:45.366046",
     "exception": false,
     "start_time": "2024-06-18T13:40:44.398381",
     "status": "completed"
    },
    "tags": []
   },
   "outputs": [
    {
     "data": {
      "text/plain": [
       "int_col\n",
       "Black                    31818\n",
       "Beige                     7995\n",
       "Gray                      6250\n",
       "Brown                     2239\n",
       "Red                       1499\n",
       "Other                     1355\n",
       "White                     1172\n",
       "Jet Black                  365\n",
       "Orange                     248\n",
       "Ebony                      237\n",
       "Blue                       212\n",
       "Silver                     129\n",
       "Gold                        95\n",
       "Global Black                58\n",
       "Green                       56\n",
       "Medium Stone                39\n",
       "Black Onyx                  34\n",
       "Charcoal                    32\n",
       "Nero Ade                    32\n",
       "Diesel Gray / Black         30\n",
       "Rioja Red                   28\n",
       "Medium Dark Slate           25\n",
       "White / Brown               22\n",
       "Portland                    22\n",
       "Graphite                    22\n",
       "Medium Earth Gray           21\n",
       "Tan                         19\n",
       "Light Slate                 17\n",
       "Hotspur                     17\n",
       "Adrenaline Red              17\n",
       "Shara Beige                 16\n",
       "Canberra Beige              16\n",
       "Sandstone                   15\n",
       "Ceramic                     14\n",
       "Hotspur Hide                14\n",
       "Deep Chestnut               13\n",
       "Medium Light Camel          13\n",
       "Mesa                        11\n",
       "Ebony Black                 11\n",
       "Ebony / Ebony Accents       11\n",
       "Charles Blue                10\n",
       "Shale                       10\n",
       "Charcoal Black              10\n",
       "Name: count, dtype: int64"
      ]
     },
     "execution_count": 40,
     "metadata": {},
     "output_type": "execute_result"
    }
   ],
   "source": [
    "cutoff_value = 10\n",
    "int_col_types_to_replace = int_col_counts[int_col_counts < cutoff_value].index\n",
    "\n",
    "# Replace in the dataframe\n",
    "for int_col_c in int_col_types_to_replace:\n",
    "    cleaned_train.loc[cleaned_train['int_col'] == int_col_c, 'int_col'] = \"Other\"\n",
    "\n",
    "# Check the updated value counts\n",
    "int_col_counts = cleaned_train['int_col'].value_counts()\n",
    "int_col_counts"
   ]
  },
  {
   "cell_type": "code",
   "execution_count": 41,
   "id": "48148bc9",
   "metadata": {
    "execution": {
     "iopub.execute_input": "2024-06-18T13:40:45.431486Z",
     "iopub.status.busy": "2024-06-18T13:40:45.430978Z",
     "iopub.status.idle": "2024-06-18T13:40:45.495352Z",
     "shell.execute_reply": "2024-06-18T13:40:45.494079Z"
    },
    "papermill": {
     "duration": 0.096542,
     "end_time": "2024-06-18T13:40:45.498340",
     "exception": false,
     "start_time": "2024-06-18T13:40:45.401798",
     "status": "completed"
    },
    "tags": []
   },
   "outputs": [
    {
     "data": {
      "text/plain": [
       "brand             53\n",
       "model           1825\n",
       "model_year        34\n",
       "milage          3212\n",
       "fuel_type          6\n",
       "engine            20\n",
       "transmission      21\n",
       "ext_col            7\n",
       "int_col           43\n",
       "accident           2\n",
       "clean_title        1\n",
       "price           1481\n",
       "dtype: int64"
      ]
     },
     "execution_count": 41,
     "metadata": {},
     "output_type": "execute_result"
    }
   ],
   "source": [
    "# Determine the cleaned number of unique values in each column.\n",
    "unique_counts = cleaned_train.nunique()\n",
    "unique_counts"
   ]
  },
  {
   "cell_type": "code",
   "execution_count": 42,
   "id": "d2ef7153",
   "metadata": {
    "execution": {
     "iopub.execute_input": "2024-06-18T13:40:45.554270Z",
     "iopub.status.busy": "2024-06-18T13:40:45.553756Z",
     "iopub.status.idle": "2024-06-18T13:40:45.569730Z",
     "shell.execute_reply": "2024-06-18T13:40:45.568347Z"
    },
    "papermill": {
     "duration": 0.047202,
     "end_time": "2024-06-18T13:40:45.572737",
     "exception": false,
     "start_time": "2024-06-18T13:40:45.525535",
     "status": "completed"
    },
    "tags": []
   },
   "outputs": [],
   "source": [
    "#The last column \"Clean_title\" is the same \"Yes\" answer for all rows, that gives no value to analysis. \n",
    "#Drop this column.\n",
    "final_train=cleaned_train.drop(columns=['clean_title'])\n"
   ]
  },
  {
   "cell_type": "code",
   "execution_count": 43,
   "id": "f5ce10d8",
   "metadata": {
    "execution": {
     "iopub.execute_input": "2024-06-18T13:40:45.632460Z",
     "iopub.status.busy": "2024-06-18T13:40:45.631326Z",
     "iopub.status.idle": "2024-06-18T13:40:45.724806Z",
     "shell.execute_reply": "2024-06-18T13:40:45.723619Z"
    },
    "papermill": {
     "duration": 0.126162,
     "end_time": "2024-06-18T13:40:45.730313",
     "exception": false,
     "start_time": "2024-06-18T13:40:45.604151",
     "status": "completed"
    },
    "tags": []
   },
   "outputs": [
    {
     "name": "stdout",
     "output_type": "stream",
     "text": [
      "brand\n",
      "BMW              7369\n",
      "Ford             6706\n",
      "Mercedes-Benz    5087\n",
      "Chevrolet        4424\n",
      "Audi             2922\n",
      "Porsche          2627\n",
      "Toyota           2312\n",
      "Lexus            2257\n",
      "Jeep             2247\n",
      "Land             1995\n",
      "Cadillac         1565\n",
      "Nissan           1251\n",
      "GMC              1076\n",
      "Dodge            1011\n",
      "RAM               966\n",
      "INFINITI          957\n",
      "Lincoln           767\n",
      "Mazda             748\n",
      "Subaru            739\n",
      "Hyundai           694\n",
      "Jaguar            661\n",
      "Volkswagen        628\n",
      "Honda             624\n",
      "Acura             580\n",
      "Kia               526\n",
      "Volvo             452\n",
      "MINI              364\n",
      "Maserati          293\n",
      "Bentley           284\n",
      "Chrysler          258\n",
      "Genesis           249\n",
      "Buick             228\n",
      "Mitsubishi        182\n",
      "Hummer            176\n",
      "Pontiac           149\n",
      "Alfa              144\n",
      "Rolls-Royce       142\n",
      "Lamborghini       122\n",
      "Tesla             110\n",
      "Ferrari            87\n",
      "Saturn             58\n",
      "Scion              53\n",
      "Aston              50\n",
      "McLaren            43\n",
      "Rivian             27\n",
      "Mercury            20\n",
      "FIAT               16\n",
      "Lotus              12\n",
      "Suzuki              4\n",
      "Maybach             3\n",
      "Lucid               2\n",
      "Plymouth            1\n",
      "Bugatti             1\n",
      "Name: count, dtype: int64\n",
      "model\n",
      "F-150 XLT                    780\n",
      "M3 Base                      682\n",
      "X5 xDrive35i                 615\n",
      "F-150 Lariat                 496\n",
      "Mustang GT Premium           466\n",
      "                            ... \n",
      "F-PACE 30t R-Sport             1\n",
      "RX 350 RX 350                  1\n",
      "Niro EV EX                     1\n",
      "Sorento Plug-In Hybrid SX      1\n",
      "S-10 LS                        1\n",
      "Name: count, Length: 1825, dtype: int64\n",
      "model_year\n",
      "2018    4887\n",
      "2016    4692\n",
      "2017    4041\n",
      "2019    4014\n",
      "2020    4012\n",
      "2021    3781\n",
      "2015    3715\n",
      "2022    3140\n",
      "2014    2941\n",
      "2013    2452\n",
      "2011    2106\n",
      "2012    2101\n",
      "2023    1793\n",
      "2008    1741\n",
      "2007    1584\n",
      "2010    1508\n",
      "2009     983\n",
      "2005     967\n",
      "2006     865\n",
      "2004     745\n",
      "2003     557\n",
      "2001     461\n",
      "2002     391\n",
      "1999     176\n",
      "2000     152\n",
      "1998     117\n",
      "1997      80\n",
      "1996      76\n",
      "1995      48\n",
      "1993      47\n",
      "2024      42\n",
      "1994      37\n",
      "1992      12\n",
      "1974       5\n",
      "Name: count, dtype: int64\n",
      "milage\n",
      "60000     361\n",
      "120000    341\n",
      "110000    335\n",
      "170000    320\n",
      "40000     301\n",
      "         ... \n",
      "15300       1\n",
      "12875       1\n",
      "24981       1\n",
      "13028       1\n",
      "28750       1\n",
      "Name: count, Length: 3212, dtype: int64\n",
      "fuel_type\n",
      "Gasoline          49439\n",
      "Hybrid             1766\n",
      "E85 Flex Fuel      1479\n",
      "Diesel             1109\n",
      "Other               294\n",
      "Plug-In Hybrid      182\n",
      "Name: count, dtype: int64\n",
      "engine\n",
      "Other                                                    41265\n",
      "300.0HP 3.0L Straight 6 Cylinder Engine Gasoline Fuel     1452\n",
      "355.0HP 5.3L 8 Cylinder Engine Gasoline Fuel              1125\n",
      "240.0HP 2.0L 4 Cylinder Engine Gasoline Fuel              1054\n",
      "285.0HP 3.6L V6 Cylinder Engine Gasoline Fuel              979\n",
      "420.0HP 6.2L 8 Cylinder Engine Gasoline Fuel               893\n",
      "375.0HP 3.5L V6 Cylinder Engine Gasoline Fuel              684\n",
      "340.0HP 3.0L V6 Cylinder Engine Gasoline Fuel              679\n",
      "455.0HP 6.2L 8 Cylinder Engine Gasoline Fuel               592\n",
      "490.0HP 6.2L 8 Cylinder Engine Gasoline Fuel               583\n",
      "302.0HP 3.5L V6 Cylinder Engine Gasoline Fuel              570\n",
      "335.0HP 3.0L Straight 6 Cylinder Engine Gasoline Fuel      570\n",
      "425.0HP 3.0L Straight 6 Cylinder Engine Gasoline Fuel      569\n",
      "295.0HP 3.5L V6 Cylinder Engine Gasoline Fuel              540\n",
      "268.0HP 3.5L V6 Cylinder Engine Gasoline Fuel              489\n",
      "2.0L I4 16V GDI DOHC Turbo                                 489\n",
      "248.0HP 2.0L 4 Cylinder Engine Gasoline Fuel               487\n",
      "365.0HP 3.5L V6 Cylinder Engine Gasoline Fuel              429\n",
      "211.0HP 2.0L 4 Cylinder Engine Gasoline Fuel               417\n",
      "445.0HP 4.4L 8 Cylinder Engine Gasoline Fuel               403\n",
      "Name: count, dtype: int64\n",
      "transmission\n",
      "A/T                                  16754\n",
      "8-Speed A/T                           7287\n",
      "Transmission w/Dual Shift Mode        6453\n",
      "6-Speed A/T                           5944\n",
      "6-Speed M/T                           3618\n",
      "7-Speed A/T                           3415\n",
      "10-Speed A/T                          2187\n",
      "8-Speed Automatic                     1189\n",
      "5-Speed A/T                           1185\n",
      "9-Speed A/T                           1073\n",
      "4-Speed A/T                            764\n",
      "5-Speed M/T                            718\n",
      "CVT Transmission                       692\n",
      "10-Speed Automatic                     642\n",
      "6-Speed Automatic                      516\n",
      "Other                                  474\n",
      "Automatic                              441\n",
      "M/T                                    359\n",
      "9-Speed Automatic                      344\n",
      "7-Speed Automatic with Auto-Shift      110\n",
      "7-Speed M/T                            104\n",
      "Name: count, dtype: int64\n",
      "ext_col\n",
      "Black     15078\n",
      "White     13422\n",
      "Gray       7908\n",
      "Silver     5158\n",
      "Other      5022\n",
      "Blue       4668\n",
      "Red        3013\n",
      "Name: count, dtype: int64\n",
      "int_col\n",
      "Black                    31818\n",
      "Beige                     7995\n",
      "Gray                      6250\n",
      "Brown                     2239\n",
      "Red                       1499\n",
      "Other                     1355\n",
      "White                     1172\n",
      "Jet Black                  365\n",
      "Orange                     248\n",
      "Ebony                      237\n",
      "Blue                       212\n",
      "Silver                     129\n",
      "Gold                        95\n",
      "Global Black                58\n",
      "Green                       56\n",
      "Medium Stone                39\n",
      "Black Onyx                  34\n",
      "Charcoal                    32\n",
      "Nero Ade                    32\n",
      "Diesel Gray / Black         30\n",
      "Rioja Red                   28\n",
      "Medium Dark Slate           25\n",
      "White / Brown               22\n",
      "Portland                    22\n",
      "Graphite                    22\n",
      "Medium Earth Gray           21\n",
      "Tan                         19\n",
      "Light Slate                 17\n",
      "Hotspur                     17\n",
      "Adrenaline Red              17\n",
      "Shara Beige                 16\n",
      "Canberra Beige              16\n",
      "Sandstone                   15\n",
      "Ceramic                     14\n",
      "Hotspur Hide                14\n",
      "Deep Chestnut               13\n",
      "Medium Light Camel          13\n",
      "Mesa                        11\n",
      "Ebony Black                 11\n",
      "Ebony / Ebony Accents       11\n",
      "Charles Blue                10\n",
      "Shale                       10\n",
      "Charcoal Black              10\n",
      "Name: count, dtype: int64\n",
      "accident\n",
      "None reported                             39892\n",
      "At least 1 accident or damage reported    14377\n",
      "Name: count, dtype: int64\n",
      "price\n",
      "15000    649\n",
      "12000    495\n",
      "30000    448\n",
      "8500     424\n",
      "17500    420\n",
      "        ... \n",
      "38998      1\n",
      "23739      1\n",
      "28298      1\n",
      "43389      1\n",
      "37998      1\n",
      "Name: count, Length: 1481, dtype: int64\n"
     ]
    }
   ],
   "source": [
    "# Display the value counts for each column\n",
    "for column in final_train.columns:\n",
    "    value_counts = final_train[column].value_counts()\n",
    "    print(value_counts)\n"
   ]
  },
  {
   "cell_type": "markdown",
   "id": "608d4423",
   "metadata": {
    "papermill": {
     "duration": 0.025957,
     "end_time": "2024-06-18T13:40:45.785851",
     "exception": false,
     "start_time": "2024-06-18T13:40:45.759894",
     "status": "completed"
    },
    "tags": []
   },
   "source": [
    "***Liner Regression***"
   ]
  },
  {
   "cell_type": "code",
   "execution_count": 44,
   "id": "27444da4",
   "metadata": {
    "execution": {
     "iopub.execute_input": "2024-06-18T13:40:45.840873Z",
     "iopub.status.busy": "2024-06-18T13:40:45.840470Z",
     "iopub.status.idle": "2024-06-18T13:40:46.275058Z",
     "shell.execute_reply": "2024-06-18T13:40:46.273711Z"
    },
    "papermill": {
     "duration": 0.465653,
     "end_time": "2024-06-18T13:40:46.277822",
     "exception": false,
     "start_time": "2024-06-18T13:40:45.812169",
     "status": "completed"
    },
    "tags": []
   },
   "outputs": [],
   "source": [
    "from sklearn.linear_model import LinearRegression"
   ]
  },
  {
   "cell_type": "code",
   "execution_count": 45,
   "id": "b5b51194",
   "metadata": {
    "execution": {
     "iopub.execute_input": "2024-06-18T13:40:46.332037Z",
     "iopub.status.busy": "2024-06-18T13:40:46.331634Z",
     "iopub.status.idle": "2024-06-18T13:40:46.564387Z",
     "shell.execute_reply": "2024-06-18T13:40:46.562985Z"
    },
    "papermill": {
     "duration": 0.262914,
     "end_time": "2024-06-18T13:40:46.567041",
     "exception": false,
     "start_time": "2024-06-18T13:40:46.304127",
     "status": "completed"
    },
    "tags": []
   },
   "outputs": [
    {
     "data": {
      "text/plain": [
       "(54269, 1980)"
      ]
     },
     "execution_count": 45,
     "metadata": {},
     "output_type": "execute_result"
    }
   ],
   "source": [
    "# Convert categorical data to numeric with `pd.get_dummies`\n",
    "X = pd.get_dummies(final_train)\n",
    "X.shape\n"
   ]
  },
  {
   "cell_type": "code",
   "execution_count": 46,
   "id": "f97e5c79",
   "metadata": {
    "execution": {
     "iopub.execute_input": "2024-06-18T13:40:46.622261Z",
     "iopub.status.busy": "2024-06-18T13:40:46.621493Z",
     "iopub.status.idle": "2024-06-18T13:40:46.627372Z",
     "shell.execute_reply": "2024-06-18T13:40:46.626152Z"
    },
    "papermill": {
     "duration": 0.036518,
     "end_time": "2024-06-18T13:40:46.629890",
     "exception": false,
     "start_time": "2024-06-18T13:40:46.593372",
     "status": "completed"
    },
    "tags": []
   },
   "outputs": [],
   "source": [
    "# Split our preprocessed data into our features and target arrays\n",
    "y=X['price'].values.reshape(-1, 1)"
   ]
  },
  {
   "cell_type": "code",
   "execution_count": 47,
   "id": "3bcf6615",
   "metadata": {
    "execution": {
     "iopub.execute_input": "2024-06-18T13:40:46.684108Z",
     "iopub.status.busy": "2024-06-18T13:40:46.683078Z",
     "iopub.status.idle": "2024-06-18T13:40:46.741623Z",
     "shell.execute_reply": "2024-06-18T13:40:46.740567Z"
    },
    "papermill": {
     "duration": 0.088675,
     "end_time": "2024-06-18T13:40:46.744337",
     "exception": false,
     "start_time": "2024-06-18T13:40:46.655662",
     "status": "completed"
    },
    "tags": []
   },
   "outputs": [],
   "source": [
    "#Removing the price from the prediction features\n",
    "X = X.drop(['price'], axis=1)\n"
   ]
  },
  {
   "cell_type": "code",
   "execution_count": 48,
   "id": "ee06338b",
   "metadata": {
    "execution": {
     "iopub.execute_input": "2024-06-18T13:40:46.801555Z",
     "iopub.status.busy": "2024-06-18T13:40:46.801146Z",
     "iopub.status.idle": "2024-06-18T13:41:07.319562Z",
     "shell.execute_reply": "2024-06-18T13:41:07.318461Z"
    },
    "papermill": {
     "duration": 20.550361,
     "end_time": "2024-06-18T13:41:07.322245",
     "exception": false,
     "start_time": "2024-06-18T13:40:46.771884",
     "status": "completed"
    },
    "tags": []
   },
   "outputs": [
    {
     "data": {
      "text/html": [
       "<style>#sk-container-id-1 {color: black;background-color: white;}#sk-container-id-1 pre{padding: 0;}#sk-container-id-1 div.sk-toggleable {background-color: white;}#sk-container-id-1 label.sk-toggleable__label {cursor: pointer;display: block;width: 100%;margin-bottom: 0;padding: 0.3em;box-sizing: border-box;text-align: center;}#sk-container-id-1 label.sk-toggleable__label-arrow:before {content: \"▸\";float: left;margin-right: 0.25em;color: #696969;}#sk-container-id-1 label.sk-toggleable__label-arrow:hover:before {color: black;}#sk-container-id-1 div.sk-estimator:hover label.sk-toggleable__label-arrow:before {color: black;}#sk-container-id-1 div.sk-toggleable__content {max-height: 0;max-width: 0;overflow: hidden;text-align: left;background-color: #f0f8ff;}#sk-container-id-1 div.sk-toggleable__content pre {margin: 0.2em;color: black;border-radius: 0.25em;background-color: #f0f8ff;}#sk-container-id-1 input.sk-toggleable__control:checked~div.sk-toggleable__content {max-height: 200px;max-width: 100%;overflow: auto;}#sk-container-id-1 input.sk-toggleable__control:checked~label.sk-toggleable__label-arrow:before {content: \"▾\";}#sk-container-id-1 div.sk-estimator input.sk-toggleable__control:checked~label.sk-toggleable__label {background-color: #d4ebff;}#sk-container-id-1 div.sk-label input.sk-toggleable__control:checked~label.sk-toggleable__label {background-color: #d4ebff;}#sk-container-id-1 input.sk-hidden--visually {border: 0;clip: rect(1px 1px 1px 1px);clip: rect(1px, 1px, 1px, 1px);height: 1px;margin: -1px;overflow: hidden;padding: 0;position: absolute;width: 1px;}#sk-container-id-1 div.sk-estimator {font-family: monospace;background-color: #f0f8ff;border: 1px dotted black;border-radius: 0.25em;box-sizing: border-box;margin-bottom: 0.5em;}#sk-container-id-1 div.sk-estimator:hover {background-color: #d4ebff;}#sk-container-id-1 div.sk-parallel-item::after {content: \"\";width: 100%;border-bottom: 1px solid gray;flex-grow: 1;}#sk-container-id-1 div.sk-label:hover label.sk-toggleable__label {background-color: #d4ebff;}#sk-container-id-1 div.sk-serial::before {content: \"\";position: absolute;border-left: 1px solid gray;box-sizing: border-box;top: 0;bottom: 0;left: 50%;z-index: 0;}#sk-container-id-1 div.sk-serial {display: flex;flex-direction: column;align-items: center;background-color: white;padding-right: 0.2em;padding-left: 0.2em;position: relative;}#sk-container-id-1 div.sk-item {position: relative;z-index: 1;}#sk-container-id-1 div.sk-parallel {display: flex;align-items: stretch;justify-content: center;background-color: white;position: relative;}#sk-container-id-1 div.sk-item::before, #sk-container-id-1 div.sk-parallel-item::before {content: \"\";position: absolute;border-left: 1px solid gray;box-sizing: border-box;top: 0;bottom: 0;left: 50%;z-index: -1;}#sk-container-id-1 div.sk-parallel-item {display: flex;flex-direction: column;z-index: 1;position: relative;background-color: white;}#sk-container-id-1 div.sk-parallel-item:first-child::after {align-self: flex-end;width: 50%;}#sk-container-id-1 div.sk-parallel-item:last-child::after {align-self: flex-start;width: 50%;}#sk-container-id-1 div.sk-parallel-item:only-child::after {width: 0;}#sk-container-id-1 div.sk-dashed-wrapped {border: 1px dashed gray;margin: 0 0.4em 0.5em 0.4em;box-sizing: border-box;padding-bottom: 0.4em;background-color: white;}#sk-container-id-1 div.sk-label label {font-family: monospace;font-weight: bold;display: inline-block;line-height: 1.2em;}#sk-container-id-1 div.sk-label-container {text-align: center;}#sk-container-id-1 div.sk-container {/* jupyter's `normalize.less` sets `[hidden] { display: none; }` but bootstrap.min.css set `[hidden] { display: none !important; }` so we also need the `!important` here to be able to override the default hidden behavior on the sphinx rendered scikit-learn.org. See: https://github.com/scikit-learn/scikit-learn/issues/21755 */display: inline-block !important;position: relative;}#sk-container-id-1 div.sk-text-repr-fallback {display: none;}</style><div id=\"sk-container-id-1\" class=\"sk-top-container\"><div class=\"sk-text-repr-fallback\"><pre>LinearRegression()</pre><b>In a Jupyter environment, please rerun this cell to show the HTML representation or trust the notebook. <br />On GitHub, the HTML representation is unable to render, please try loading this page with nbviewer.org.</b></div><div class=\"sk-container\" hidden><div class=\"sk-item\"><div class=\"sk-estimator sk-toggleable\"><input class=\"sk-toggleable__control sk-hidden--visually\" id=\"sk-estimator-id-1\" type=\"checkbox\" checked><label for=\"sk-estimator-id-1\" class=\"sk-toggleable__label sk-toggleable__label-arrow\">LinearRegression</label><div class=\"sk-toggleable__content\"><pre>LinearRegression()</pre></div></div></div></div></div>"
      ],
      "text/plain": [
       "LinearRegression()"
      ]
     },
     "execution_count": 48,
     "metadata": {},
     "output_type": "execute_result"
    }
   ],
   "source": [
    "lm = LinearRegression()\n",
    "lm.fit(X,y)"
   ]
  },
  {
   "cell_type": "code",
   "execution_count": 49,
   "id": "c1df87af",
   "metadata": {
    "execution": {
     "iopub.execute_input": "2024-06-18T13:41:07.376760Z",
     "iopub.status.busy": "2024-06-18T13:41:07.376350Z",
     "iopub.status.idle": "2024-06-18T13:41:08.563391Z",
     "shell.execute_reply": "2024-06-18T13:41:08.561789Z"
    },
    "papermill": {
     "duration": 1.2196,
     "end_time": "2024-06-18T13:41:08.568203",
     "exception": false,
     "start_time": "2024-06-18T13:41:07.348603",
     "status": "completed"
    },
    "tags": []
   },
   "outputs": [
    {
     "data": {
      "text/plain": [
       "array([[49805.21945022],\n",
       "       [16857.40666137],\n",
       "       [11349.84041899],\n",
       "       [78801.09033702],\n",
       "       [ 8664.35151379]])"
      ]
     },
     "execution_count": 49,
     "metadata": {},
     "output_type": "execute_result"
    }
   ],
   "source": [
    "#make predictions\n",
    "yhat = lm.predict(X)\n",
    "yhat[0:5]"
   ]
  },
  {
   "cell_type": "code",
   "execution_count": 50,
   "id": "ada4e3a2",
   "metadata": {
    "execution": {
     "iopub.execute_input": "2024-06-18T13:41:08.678143Z",
     "iopub.status.busy": "2024-06-18T13:41:08.677702Z",
     "iopub.status.idle": "2024-06-18T13:41:08.684738Z",
     "shell.execute_reply": "2024-06-18T13:41:08.683722Z"
    },
    "papermill": {
     "duration": 0.057289,
     "end_time": "2024-06-18T13:41:08.687235",
     "exception": false,
     "start_time": "2024-06-18T13:41:08.629946",
     "status": "completed"
    },
    "tags": []
   },
   "outputs": [
    {
     "data": {
      "text/plain": [
       "array([-2606165.95101663])"
      ]
     },
     "execution_count": 50,
     "metadata": {},
     "output_type": "execute_result"
    }
   ],
   "source": [
    "#find the intercept\n",
    "lm.intercept_"
   ]
  },
  {
   "cell_type": "code",
   "execution_count": 51,
   "id": "91541b87",
   "metadata": {
    "execution": {
     "iopub.execute_input": "2024-06-18T13:41:08.743378Z",
     "iopub.status.busy": "2024-06-18T13:41:08.742958Z",
     "iopub.status.idle": "2024-06-18T13:41:08.750523Z",
     "shell.execute_reply": "2024-06-18T13:41:08.749317Z"
    },
    "papermill": {
     "duration": 0.037858,
     "end_time": "2024-06-18T13:41:08.752965",
     "exception": false,
     "start_time": "2024-06-18T13:41:08.715107",
     "status": "completed"
    },
    "tags": []
   },
   "outputs": [
    {
     "data": {
      "text/plain": [
       "array([[ 1.32986835e+03, -1.54226996e-01,  1.91852065e+04, ...,\n",
       "        -1.54709338e+04, -1.61662180e+03,  1.61662180e+03]])"
      ]
     },
     "execution_count": 51,
     "metadata": {},
     "output_type": "execute_result"
    }
   ],
   "source": [
    "#find the slope\n",
    "lm.coef_"
   ]
  },
  {
   "cell_type": "code",
   "execution_count": 52,
   "id": "decec772",
   "metadata": {
    "execution": {
     "iopub.execute_input": "2024-06-18T13:41:08.808906Z",
     "iopub.status.busy": "2024-06-18T13:41:08.808481Z",
     "iopub.status.idle": "2024-06-18T13:41:08.816314Z",
     "shell.execute_reply": "2024-06-18T13:41:08.815145Z"
    },
    "papermill": {
     "duration": 0.038922,
     "end_time": "2024-06-18T13:41:08.819221",
     "exception": false,
     "start_time": "2024-06-18T13:41:08.780299",
     "status": "completed"
    },
    "tags": []
   },
   "outputs": [
    {
     "name": "stdout",
     "output_type": "stream",
     "text": [
      "Mean Squared Error (MSE): 4364944726.147619\n"
     ]
    }
   ],
   "source": [
    "#find the MSE\n",
    "from sklearn.metrics import mean_squared_error\n",
    "\n",
    "# Calculate the mean squared error\n",
    "mse = mean_squared_error(y, yhat)\n",
    "\n",
    "# Print the MSE\n",
    "print(\"Mean Squared Error (MSE):\", mse)\n"
   ]
  },
  {
   "cell_type": "code",
   "execution_count": 53,
   "id": "c5e5aef3",
   "metadata": {
    "execution": {
     "iopub.execute_input": "2024-06-18T13:41:08.874634Z",
     "iopub.status.busy": "2024-06-18T13:41:08.874239Z",
     "iopub.status.idle": "2024-06-18T13:41:08.882158Z",
     "shell.execute_reply": "2024-06-18T13:41:08.880904Z"
    },
    "papermill": {
     "duration": 0.038582,
     "end_time": "2024-06-18T13:41:08.884773",
     "exception": false,
     "start_time": "2024-06-18T13:41:08.846191",
     "status": "completed"
    },
    "tags": []
   },
   "outputs": [
    {
     "data": {
      "text/plain": [
       "66067.72832592035"
      ]
     },
     "execution_count": 53,
     "metadata": {},
     "output_type": "execute_result"
    }
   ],
   "source": [
    "#find the RMSE\n",
    "rmse = np.sqrt(mse)\n",
    "rmse"
   ]
  },
  {
   "cell_type": "code",
   "execution_count": 54,
   "id": "b37a1c3c",
   "metadata": {
    "execution": {
     "iopub.execute_input": "2024-06-18T13:41:08.941223Z",
     "iopub.status.busy": "2024-06-18T13:41:08.940820Z",
     "iopub.status.idle": "2024-06-18T13:41:08.951746Z",
     "shell.execute_reply": "2024-06-18T13:41:08.950611Z"
    },
    "papermill": {
     "duration": 0.041665,
     "end_time": "2024-06-18T13:41:08.954299",
     "exception": false,
     "start_time": "2024-06-18T13:41:08.912634",
     "status": "completed"
    },
    "tags": []
   },
   "outputs": [
    {
     "data": {
      "text/plain": [
       "0.17703361085565938"
      ]
     },
     "execution_count": 54,
     "metadata": {},
     "output_type": "execute_result"
    }
   ],
   "source": [
    "#find rscore\n",
    "from sklearn.metrics import r2_score\n",
    "r2_score(y, yhat)"
   ]
  },
  {
   "cell_type": "markdown",
   "id": "c5a5500b",
   "metadata": {
    "papermill": {
     "duration": 0.028698,
     "end_time": "2024-06-18T13:41:09.011592",
     "exception": false,
     "start_time": "2024-06-18T13:41:08.982894",
     "status": "completed"
    },
    "tags": []
   },
   "source": [
    "# Validation with test data"
   ]
  }
 ],
 "metadata": {
  "kaggle": {
   "accelerator": "none",
   "dataSources": [
    {
     "datasetId": 5130497,
     "sourceId": 8579062,
     "sourceType": "datasetVersion"
    }
   ],
   "dockerImageVersionId": 30715,
   "isGpuEnabled": false,
   "isInternetEnabled": true,
   "language": "python",
   "sourceType": "notebook"
  },
  "kernelspec": {
   "display_name": "Python 3",
   "language": "python",
   "name": "python3"
  },
  "language_info": {
   "codemirror_mode": {
    "name": "ipython",
    "version": 3
   },
   "file_extension": ".py",
   "mimetype": "text/x-python",
   "name": "python",
   "nbconvert_exporter": "python",
   "pygments_lexer": "ipython3",
   "version": "3.10.13"
  },
  "papermill": {
   "default_parameters": {},
   "duration": 69.400435,
   "end_time": "2024-06-18T13:41:09.764136",
   "environment_variables": {},
   "exception": null,
   "input_path": "__notebook__.ipynb",
   "output_path": "__notebook__.ipynb",
   "parameters": {},
   "start_time": "2024-06-18T13:40:00.363701",
   "version": "2.5.0"
  }
 },
 "nbformat": 4,
 "nbformat_minor": 5
}
