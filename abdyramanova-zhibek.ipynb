{
 "cells": [
  {
   "cell_type": "code",
   "execution_count": 1,
   "id": "b83c905b",
   "metadata": {
    "_cell_guid": "b1076dfc-b9ad-4769-8c92-a6c4dae69d19",
    "_uuid": "8f2839f25d086af736a60e9eeb907d3b93b6e0e5",
    "execution": {
     "iopub.execute_input": "2024-06-15T04:17:17.588916Z",
     "iopub.status.busy": "2024-06-15T04:17:17.588517Z",
     "iopub.status.idle": "2024-06-15T04:17:19.906652Z",
     "shell.execute_reply": "2024-06-15T04:17:19.905143Z"
    },
    "papermill": {
     "duration": 2.338599,
     "end_time": "2024-06-15T04:17:19.909476",
     "exception": false,
     "start_time": "2024-06-15T04:17:17.570877",
     "status": "completed"
    },
    "tags": []
   },
   "outputs": [
    {
     "name": "stdout",
     "output_type": "stream",
     "text": [
      "/kaggle/input/kagglexfellowship/kagglex-cohort4/sample_submission.csv\n",
      "/kaggle/input/kagglexfellowship/kagglex-cohort4/train.csv\n",
      "/kaggle/input/kagglexfellowship/kagglex-cohort4/test.csv\n"
     ]
    }
   ],
   "source": [
    "# This Python 3 environment comes with many helpful analytics libraries installed\n",
    "# It is defined by the kaggle/python Docker image: https://github.com/kaggle/docker-python\n",
    "# For example, here's several helpful packages to load\n",
    "\n",
    "import numpy as np # linear algebra\n",
    "import pandas as pd # data processing, CSV file I/O (e.g. pd.read_csv)\n",
    "import seaborn as sns\n",
    "import matplotlib.pyplot as plt\n",
    "\n",
    "# Input data files are available in the read-only \"../input/\" directory\n",
    "# For example, running this (by clicking run or pressing Shift+Enter) will list all files under the input directory\n",
    "\n",
    "import os\n",
    "for dirname, _, filenames in os.walk('/kaggle/input'):\n",
    "    for filename in filenames:\n",
    "        print(os.path.join(dirname, filename))\n",
    "\n",
    "# You can write up to 20GB to the current directory (/kaggle/working/) that gets preserved as output when you create a version using \"Save & Run All\" \n",
    "# You can also write temporary files to /kaggle/temp/, but they won't be saved outside of the current session"
   ]
  },
  {
   "cell_type": "code",
   "execution_count": 2,
   "id": "1669ee40",
   "metadata": {
    "execution": {
     "iopub.execute_input": "2024-06-15T04:17:19.943358Z",
     "iopub.status.busy": "2024-06-15T04:17:19.942767Z",
     "iopub.status.idle": "2024-06-15T04:17:20.433579Z",
     "shell.execute_reply": "2024-06-15T04:17:20.432369Z"
    },
    "papermill": {
     "duration": 0.510831,
     "end_time": "2024-06-15T04:17:20.436549",
     "exception": false,
     "start_time": "2024-06-15T04:17:19.925718",
     "status": "completed"
    },
    "tags": []
   },
   "outputs": [],
   "source": [
    "#  Import and read the data and assign ID column as labels\n",
    "train = pd.read_csv('/kaggle/input/kagglexfellowship/kagglex-cohort4/train.csv')\n",
    "test=pd.read_csv('/kaggle/input/kagglexfellowship/kagglex-cohort4/test.csv')\n",
    "subm=pd.read_csv('/kaggle/input/kagglexfellowship/kagglex-cohort4/sample_submission.csv')\n"
   ]
  },
  {
   "cell_type": "code",
   "execution_count": 3,
   "id": "8d792015",
   "metadata": {
    "execution": {
     "iopub.execute_input": "2024-06-15T04:17:20.469923Z",
     "iopub.status.busy": "2024-06-15T04:17:20.469543Z",
     "iopub.status.idle": "2024-06-15T04:17:20.485990Z",
     "shell.execute_reply": "2024-06-15T04:17:20.484915Z"
    },
    "papermill": {
     "duration": 0.036,
     "end_time": "2024-06-15T04:17:20.488595",
     "exception": false,
     "start_time": "2024-06-15T04:17:20.452595",
     "status": "completed"
    },
    "tags": []
   },
   "outputs": [],
   "source": [
    "#Drop the non-beneficial ID columns\n",
    "def set_index (df):\n",
    "    df.set_index('id', inplace=True)\n",
    "    return df\n",
    "\n",
    "train_df=set_index(train)\n",
    "test_df=set_index(test)\n",
    "submission_df=set_index(subm)\n"
   ]
  },
  {
   "cell_type": "markdown",
   "id": "62d93234",
   "metadata": {
    "papermill": {
     "duration": 0.015353,
     "end_time": "2024-06-15T04:17:20.519992",
     "exception": false,
     "start_time": "2024-06-15T04:17:20.504639",
     "status": "completed"
    },
    "tags": []
   },
   "source": [
    "# Data Exploration"
   ]
  },
  {
   "cell_type": "code",
   "execution_count": 4,
   "id": "79c2a232",
   "metadata": {
    "execution": {
     "iopub.execute_input": "2024-06-15T04:17:20.553530Z",
     "iopub.status.busy": "2024-06-15T04:17:20.553077Z",
     "iopub.status.idle": "2024-06-15T04:17:20.618172Z",
     "shell.execute_reply": "2024-06-15T04:17:20.617105Z"
    },
    "papermill": {
     "duration": 0.085014,
     "end_time": "2024-06-15T04:17:20.620724",
     "exception": false,
     "start_time": "2024-06-15T04:17:20.535710",
     "status": "completed"
    },
    "tags": []
   },
   "outputs": [
    {
     "data": {
      "text/plain": [
       "brand             53\n",
       "model           1827\n",
       "model_year        34\n",
       "milage          3212\n",
       "fuel_type          7\n",
       "engine          1061\n",
       "transmission      46\n",
       "ext_col          260\n",
       "int_col          124\n",
       "accident           2\n",
       "clean_title        1\n",
       "price           1481\n",
       "dtype: int64"
      ]
     },
     "execution_count": 4,
     "metadata": {},
     "output_type": "execute_result"
    }
   ],
   "source": [
    "#Determine the number of unique values in each column.\n",
    "unique_counts = train_df.nunique()\n",
    "unique_counts"
   ]
  },
  {
   "cell_type": "code",
   "execution_count": 5,
   "id": "48e20fcf",
   "metadata": {
    "execution": {
     "iopub.execute_input": "2024-06-15T04:17:20.654792Z",
     "iopub.status.busy": "2024-06-15T04:17:20.654348Z",
     "iopub.status.idle": "2024-06-15T04:17:20.663518Z",
     "shell.execute_reply": "2024-06-15T04:17:20.662306Z"
    },
    "papermill": {
     "duration": 0.028735,
     "end_time": "2024-06-15T04:17:20.665865",
     "exception": false,
     "start_time": "2024-06-15T04:17:20.637130",
     "status": "completed"
    },
    "tags": []
   },
   "outputs": [
    {
     "data": {
      "text/plain": [
       "brand           object\n",
       "model           object\n",
       "model_year       int64\n",
       "milage           int64\n",
       "fuel_type       object\n",
       "engine          object\n",
       "transmission    object\n",
       "ext_col         object\n",
       "int_col         object\n",
       "accident        object\n",
       "clean_title     object\n",
       "price            int64\n",
       "dtype: object"
      ]
     },
     "execution_count": 5,
     "metadata": {},
     "output_type": "execute_result"
    }
   ],
   "source": [
    "# Checking the datatypes\n",
    "train_df.dtypes"
   ]
  },
  {
   "cell_type": "code",
   "execution_count": 6,
   "id": "04260c43",
   "metadata": {
    "execution": {
     "iopub.execute_input": "2024-06-15T04:17:20.699873Z",
     "iopub.status.busy": "2024-06-15T04:17:20.699457Z",
     "iopub.status.idle": "2024-06-15T04:17:20.706604Z",
     "shell.execute_reply": "2024-06-15T04:17:20.705507Z"
    },
    "papermill": {
     "duration": 0.027043,
     "end_time": "2024-06-15T04:17:20.709034",
     "exception": false,
     "start_time": "2024-06-15T04:17:20.681991",
     "status": "completed"
    },
    "tags": []
   },
   "outputs": [
    {
     "data": {
      "text/plain": [
       "(54273, 12)"
      ]
     },
     "execution_count": 6,
     "metadata": {},
     "output_type": "execute_result"
    }
   ],
   "source": [
    "train_df.shape"
   ]
  },
  {
   "cell_type": "code",
   "execution_count": 7,
   "id": "74f73050",
   "metadata": {
    "execution": {
     "iopub.execute_input": "2024-06-15T04:17:20.744556Z",
     "iopub.status.busy": "2024-06-15T04:17:20.744143Z",
     "iopub.status.idle": "2024-06-15T04:17:20.807159Z",
     "shell.execute_reply": "2024-06-15T04:17:20.806029Z"
    },
    "papermill": {
     "duration": 0.083967,
     "end_time": "2024-06-15T04:17:20.809681",
     "exception": false,
     "start_time": "2024-06-15T04:17:20.725714",
     "status": "completed"
    },
    "tags": []
   },
   "outputs": [
    {
     "data": {
      "text/plain": [
       "brand           0\n",
       "model           0\n",
       "model_year      0\n",
       "milage          0\n",
       "fuel_type       0\n",
       "engine          0\n",
       "transmission    0\n",
       "ext_col         0\n",
       "int_col         0\n",
       "accident        0\n",
       "clean_title     0\n",
       "price           0\n",
       "dtype: int64"
      ]
     },
     "execution_count": 7,
     "metadata": {},
     "output_type": "execute_result"
    }
   ],
   "source": [
    "#Lets look for the total number of NaN values for each feature\n",
    "train_df.isnull().sum()"
   ]
  },
  {
   "cell_type": "code",
   "execution_count": 8,
   "id": "e195b7d5",
   "metadata": {
    "execution": {
     "iopub.execute_input": "2024-06-15T04:17:20.845774Z",
     "iopub.status.busy": "2024-06-15T04:17:20.844546Z",
     "iopub.status.idle": "2024-06-15T04:17:21.361610Z",
     "shell.execute_reply": "2024-06-15T04:17:21.360500Z"
    },
    "papermill": {
     "duration": 0.537797,
     "end_time": "2024-06-15T04:17:21.364294",
     "exception": false,
     "start_time": "2024-06-15T04:17:20.826497",
     "status": "completed"
    },
    "tags": []
   },
   "outputs": [
    {
     "name": "stderr",
     "output_type": "stream",
     "text": [
      "/opt/conda/lib/python3.10/site-packages/seaborn/_oldcore.py:1119: FutureWarning: use_inf_as_na option is deprecated and will be removed in a future version. Convert inf values to NaN before operating instead.\n",
      "  with pd.option_context('mode.use_inf_as_na', True):\n",
      "/opt/conda/lib/python3.10/site-packages/seaborn/_oldcore.py:1119: FutureWarning: use_inf_as_na option is deprecated and will be removed in a future version. Convert inf values to NaN before operating instead.\n",
      "  with pd.option_context('mode.use_inf_as_na', True):\n",
      "/opt/conda/lib/python3.10/site-packages/seaborn/_oldcore.py:1075: FutureWarning: When grouping with a length-1 list-like, you will need to pass a length-1 tuple to get_group in a future version of pandas. Pass `(name,)` instead of `name` to silence this warning.\n",
      "  data_subset = grouped_data.get_group(pd_key)\n"
     ]
    },
    {
     "data": {
      "image/png": "[encoded data removed]",
      "text/plain": [
       "<Figure size 800x600 with 1 Axes>"
      ]
     },
     "metadata": {},
     "output_type": "display_data"
    }
   ],
   "source": [
    "# Create a strip plot for the 'price' variable\n",
    "plt.figure(figsize=(8, 6))\n",
    "sns.stripplot(data=train_df, y='price', jitter=True, color='purple', alpha=0.5)\n",
    "plt.title('Strip Plot: Price Distribution')\n",
    "plt.ylabel('Price')\n",
    "plt.grid(True)\n",
    "plt.show()"
   ]
  },
  {
   "cell_type": "markdown",
   "id": "8c66f75d",
   "metadata": {
    "papermill": {
     "duration": 0.016721,
     "end_time": "2024-06-15T04:17:21.398442",
     "exception": false,
     "start_time": "2024-06-15T04:17:21.381721",
     "status": "completed"
    },
    "tags": []
   },
   "source": [
    "Above Histogram shows that most cars lie in the lower range of price.\n",
    "The above graph has outliers from 0.4 onwards, which need to be removed."
   ]
  },
  {
   "cell_type": "code",
   "execution_count": 9,
   "id": "2029b8fe",
   "metadata": {
    "execution": {
     "iopub.execute_input": "2024-06-15T04:17:21.434038Z",
     "iopub.status.busy": "2024-06-15T04:17:21.433630Z",
     "iopub.status.idle": "2024-06-15T04:17:21.451473Z",
     "shell.execute_reply": "2024-06-15T04:17:21.450326Z"
    },
    "papermill": {
     "duration": 0.038475,
     "end_time": "2024-06-15T04:17:21.453828",
     "exception": false,
     "start_time": "2024-06-15T04:17:21.415353",
     "status": "completed"
    },
    "tags": []
   },
   "outputs": [
    {
     "data": {
      "text/plain": [
       "count    5.427300e+04\n",
       "mean     3.921844e+04\n",
       "std      7.282634e+04\n",
       "min      2.000000e+03\n",
       "25%      1.550000e+04\n",
       "50%      2.800000e+04\n",
       "75%      4.500000e+04\n",
       "max      2.954083e+06\n",
       "Name: price, dtype: float64"
      ]
     },
     "execution_count": 9,
     "metadata": {},
     "output_type": "execute_result"
    }
   ],
   "source": [
    "train_df['price'].describe()"
   ]
  },
  {
   "cell_type": "code",
   "execution_count": 10,
   "id": "a2e86114",
   "metadata": {
    "execution": {
     "iopub.execute_input": "2024-06-15T04:17:21.490649Z",
     "iopub.status.busy": "2024-06-15T04:17:21.490221Z",
     "iopub.status.idle": "2024-06-15T04:17:21.500794Z",
     "shell.execute_reply": "2024-06-15T04:17:21.499583Z"
    },
    "papermill": {
     "duration": 0.031481,
     "end_time": "2024-06-15T04:17:21.503171",
     "exception": false,
     "start_time": "2024-06-15T04:17:21.471690",
     "status": "completed"
    },
    "tags": []
   },
   "outputs": [
    {
     "name": "stdout",
     "output_type": "stream",
     "text": [
      "29500.0\n"
     ]
    }
   ],
   "source": [
    "#identify and remove outliers from the data df in relation to price column using IQR method\n",
    "Q1 = train_df['price'].quantile(0.25)\n",
    "Q3 = train_df['price'].quantile(0.75)\n",
    "IQR = Q3 - Q1\n",
    "print(IQR)"
   ]
  },
  {
   "cell_type": "code",
   "execution_count": 11,
   "id": "c899da17",
   "metadata": {
    "execution": {
     "iopub.execute_input": "2024-06-15T04:17:21.539715Z",
     "iopub.status.busy": "2024-06-15T04:17:21.539297Z",
     "iopub.status.idle": "2024-06-15T04:17:21.556980Z",
     "shell.execute_reply": "2024-06-15T04:17:21.555866Z"
    },
    "papermill": {
     "duration": 0.038992,
     "end_time": "2024-06-15T04:17:21.559576",
     "exception": false,
     "start_time": "2024-06-15T04:17:21.520584",
     "status": "completed"
    },
    "tags": []
   },
   "outputs": [
    {
     "data": {
      "text/plain": [
       "(47678, 12)"
      ]
     },
     "execution_count": 11,
     "metadata": {},
     "output_type": "execute_result"
    }
   ],
   "source": [
    "#use IQR value to filter out the outliers\n",
    "outliersfree_df = train_df[~((train_df['price'] < (Q1 - 1.5 * IQR)) |(train_df['price'] > (Q3 + 0.7 * IQR)))]\n",
    "outliersfree_df.shape"
   ]
  },
  {
   "cell_type": "code",
   "execution_count": 12,
   "id": "c318e868",
   "metadata": {
    "execution": {
     "iopub.execute_input": "2024-06-15T04:17:21.596976Z",
     "iopub.status.busy": "2024-06-15T04:17:21.596563Z",
     "iopub.status.idle": "2024-06-15T04:17:22.129169Z",
     "shell.execute_reply": "2024-06-15T04:17:22.128050Z"
    },
    "papermill": {
     "duration": 0.554052,
     "end_time": "2024-06-15T04:17:22.131658",
     "exception": false,
     "start_time": "2024-06-15T04:17:21.577606",
     "status": "completed"
    },
    "tags": []
   },
   "outputs": [
    {
     "name": "stderr",
     "output_type": "stream",
     "text": [
      "/opt/conda/lib/python3.10/site-packages/seaborn/_oldcore.py:1119: FutureWarning: use_inf_as_na option is deprecated and will be removed in a future version. Convert inf values to NaN before operating instead.\n",
      "  with pd.option_context('mode.use_inf_as_na', True):\n",
      "/opt/conda/lib/python3.10/site-packages/seaborn/_oldcore.py:1119: FutureWarning: use_inf_as_na option is deprecated and will be removed in a future version. Convert inf values to NaN before operating instead.\n",
      "  with pd.option_context('mode.use_inf_as_na', True):\n",
      "/opt/conda/lib/python3.10/site-packages/seaborn/_oldcore.py:1075: FutureWarning: When grouping with a length-1 list-like, you will need to pass a length-1 tuple to get_group in a future version of pandas. Pass `(name,)` instead of `name` to silence this warning.\n",
      "  data_subset = grouped_data.get_group(pd_key)\n"
     ]
    },
    {
     "data": {
      "image/png": "[encoded data removed]",
      "text/plain": [
       "<Figure size 800x600 with 1 Axes>"
      ]
     },
     "metadata": {},
     "output_type": "display_data"
    }
   ],
   "source": [
    "plt.figure(figsize=(8, 6))\n",
    "sns.stripplot(data=outliersfree_df, y='price', jitter=True, color='purple', alpha=0.5)\n",
    "plt.title('Strip Plot: Price Distribution')\n",
    "plt.ylabel('Price')\n",
    "plt.grid(True)\n",
    "plt.show()"
   ]
  },
  {
   "cell_type": "markdown",
   "id": "2d314ba9",
   "metadata": {
    "papermill": {
     "duration": 0.018059,
     "end_time": "2024-06-15T04:17:22.167969",
     "exception": false,
     "start_time": "2024-06-15T04:17:22.149910",
     "status": "completed"
    },
    "tags": []
   },
   "source": [
    "The above plot looks more homogeneous than the previous one after removal of outliers."
   ]
  },
  {
   "cell_type": "markdown",
   "id": "0cec1a5e",
   "metadata": {
    "papermill": {
     "duration": 0.01812,
     "end_time": "2024-06-15T04:17:22.204381",
     "exception": false,
     "start_time": "2024-06-15T04:17:22.186261",
     "status": "completed"
    },
    "tags": []
   },
   "source": [
    "# **Data wrangling**"
   ]
  },
  {
   "cell_type": "markdown",
   "id": "91d5617b",
   "metadata": {
    "papermill": {
     "duration": 0.017864,
     "end_time": "2024-06-15T04:17:22.240542",
     "exception": false,
     "start_time": "2024-06-15T04:17:22.222678",
     "status": "completed"
    },
    "tags": []
   },
   "source": [
    "I will reduce the number of features in string data categories, and will remain the numeric categories as they are."
   ]
  },
  {
   "cell_type": "code",
   "execution_count": 13,
   "id": "80996cd5",
   "metadata": {
    "execution": {
     "iopub.execute_input": "2024-06-15T04:17:22.278704Z",
     "iopub.status.busy": "2024-06-15T04:17:22.278280Z",
     "iopub.status.idle": "2024-06-15T04:17:22.296791Z",
     "shell.execute_reply": "2024-06-15T04:17:22.295677Z"
    },
    "papermill": {
     "duration": 0.040276,
     "end_time": "2024-06-15T04:17:22.299096",
     "exception": false,
     "start_time": "2024-06-15T04:17:22.258820",
     "status": "completed"
    },
    "tags": []
   },
   "outputs": [
    {
     "data": {
      "text/plain": [
       "brand\n",
       "BMW              6331\n",
       "Ford             6008\n",
       "Mercedes-Benz    4118\n",
       "Chevrolet        3829\n",
       "Audi             2676\n",
       "Toyota           2177\n",
       "Jeep             2138\n",
       "Lexus            2121\n",
       "Porsche          1805\n",
       "Land             1567\n",
       "Cadillac         1387\n",
       "Nissan           1179\n",
       "GMC               972\n",
       "Dodge             932\n",
       "INFINITI          904\n",
       "RAM               883\n",
       "Mazda             737\n",
       "Subaru            727\n",
       "Lincoln           724\n",
       "Hyundai           687\n",
       "Honda             620\n",
       "Volkswagen        617\n",
       "Jaguar            590\n",
       "Acura             559\n",
       "Kia               498\n",
       "Volvo             429\n",
       "MINI              360\n",
       "Chrysler          253\n",
       "Maserati          243\n",
       "Buick             219\n",
       "Genesis           211\n",
       "Mitsubishi        179\n",
       "Hummer            175\n",
       "Pontiac           146\n",
       "Alfa              130\n",
       "Bentley           127\n",
       "Tesla              93\n",
       "Saturn             58\n",
       "Rolls-Royce        53\n",
       "Scion              52\n",
       "Lamborghini        42\n",
       "McLaren            20\n",
       "Aston              20\n",
       "Mercury            20\n",
       "Ferrari            19\n",
       "FIAT               16\n",
       "Lotus              10\n",
       "Rivian              9\n",
       "Suzuki              4\n",
       "Maybach             3\n",
       "Plymouth            1\n",
       "Name: count, dtype: int64"
      ]
     },
     "execution_count": 13,
     "metadata": {},
     "output_type": "execute_result"
    }
   ],
   "source": [
    "#Look at brand value counts for binning\n",
    "brand_counts = outliersfree_df['brand'].value_counts()\n",
    "brand_counts #keep all car brands "
   ]
  },
  {
   "cell_type": "markdown",
   "id": "2dc04a4f",
   "metadata": {
    "papermill": {
     "duration": 0.018287,
     "end_time": "2024-06-15T04:17:22.335674",
     "exception": false,
     "start_time": "2024-06-15T04:17:22.317387",
     "status": "completed"
    },
    "tags": []
   },
   "source": [
    "***Model cleaning***"
   ]
  },
  {
   "cell_type": "code",
   "execution_count": 14,
   "id": "bb477ac0",
   "metadata": {
    "execution": {
     "iopub.execute_input": "2024-06-15T04:17:22.374237Z",
     "iopub.status.busy": "2024-06-15T04:17:22.373360Z",
     "iopub.status.idle": "2024-06-15T04:17:22.391476Z",
     "shell.execute_reply": "2024-06-15T04:17:22.390273Z"
    },
    "papermill": {
     "duration": 0.040187,
     "end_time": "2024-06-15T04:17:22.393974",
     "exception": false,
     "start_time": "2024-06-15T04:17:22.353787",
     "status": "completed"
    },
    "tags": []
   },
   "outputs": [
    {
     "data": {
      "text/plain": [
       "model\n",
       "F-150 XLT                733\n",
       "M3 Base                  610\n",
       "X5 xDrive35i             590\n",
       "F-150 Lariat             451\n",
       "Mustang GT Premium       440\n",
       "                        ... \n",
       "Suburban 2500              1\n",
       "G-Class G 63 AMG           1\n",
       "Rover Range Rover SWB      1\n",
       "RDX w/A-Spec Package       1\n",
       "S-10 LS                    1\n",
       "Name: count, Length: 1795, dtype: int64"
      ]
     },
     "execution_count": 14,
     "metadata": {},
     "output_type": "execute_result"
    }
   ],
   "source": [
    "# Look at model value counts for binning\n",
    "model_counts =outliersfree_df['model'].value_counts()\n",
    "model_counts"
   ]
  },
  {
   "cell_type": "code",
   "execution_count": 15,
   "id": "5a0b2d33",
   "metadata": {
    "execution": {
     "iopub.execute_input": "2024-06-15T04:17:22.433313Z",
     "iopub.status.busy": "2024-06-15T04:17:22.432866Z",
     "iopub.status.idle": "2024-06-15T04:17:38.640651Z",
     "shell.execute_reply": "2024-06-15T04:17:38.639182Z"
    },
    "papermill": {
     "duration": 16.23039,
     "end_time": "2024-06-15T04:17:38.643175",
     "exception": false,
     "start_time": "2024-06-15T04:17:22.412785",
     "status": "completed"
    },
    "tags": []
   },
   "outputs": [
    {
     "name": "stdout",
     "output_type": "stream",
     "text": [
      "model\n",
      "Other                      30231\n",
      "F-150 XLT                    733\n",
      "M3 Base                      610\n",
      "X5 xDrive35i                 590\n",
      "F-150 Lariat                 451\n",
      "                           ...  \n",
      "335 i xDrive                 103\n",
      "Sequoia Limited              100\n",
      "Golf GTI 2.0T SE 4-Door      100\n",
      "Civic EX                     100\n",
      "Cayman Base                  100\n",
      "Name: count, Length: 94, dtype: int64\n"
     ]
    }
   ],
   "source": [
    "#Reducing the number of car models as a fuature\n",
    "cutoff_value = 100 #keep if database has 100 and more records of this car model\n",
    "model_types_to_replace = model_counts[model_counts < cutoff_value].index\n",
    "\n",
    "# Replace in the dataframe\n",
    "for model_c in model_types_to_replace:\n",
    "    outliersfree_df.loc[outliersfree_df['model'] == model_c, 'model'] = \"Other\"\n",
    "\n",
    "# Check the updated value counts\n",
    "model_counts = outliersfree_df['model'].value_counts()\n",
    "print(model_counts)"
   ]
  },
  {
   "cell_type": "markdown",
   "id": "b375e34a",
   "metadata": {
    "papermill": {
     "duration": 0.018586,
     "end_time": "2024-06-15T04:17:38.681563",
     "exception": false,
     "start_time": "2024-06-15T04:17:38.662977",
     "status": "completed"
    },
    "tags": []
   },
   "source": [
    "**Fuel cleaning**"
   ]
  },
  {
   "cell_type": "code",
   "execution_count": 16,
   "id": "82df014f",
   "metadata": {
    "execution": {
     "iopub.execute_input": "2024-06-15T04:17:38.721149Z",
     "iopub.status.busy": "2024-06-15T04:17:38.720739Z",
     "iopub.status.idle": "2024-06-15T04:17:38.736849Z",
     "shell.execute_reply": "2024-06-15T04:17:38.735735Z"
    },
    "papermill": {
     "duration": 0.039101,
     "end_time": "2024-06-15T04:17:38.739653",
     "exception": false,
     "start_time": "2024-06-15T04:17:38.700552",
     "status": "completed"
    },
    "tags": []
   },
   "outputs": [
    {
     "data": {
      "text/plain": [
       "fuel_type\n",
       "Gasoline          43613\n",
       "E85 Flex Fuel      1435\n",
       "Hybrid             1323\n",
       "Diesel              889\n",
       "–                   266\n",
       "Plug-In Hybrid      148\n",
       "not supported         4\n",
       "Name: count, dtype: int64"
      ]
     },
     "execution_count": 16,
     "metadata": {},
     "output_type": "execute_result"
    }
   ],
   "source": [
    "# Look at fuel value counts for binning\n",
    "fuel_counts = outliersfree_df['fuel_type'].value_counts()\n",
    "fuel_counts"
   ]
  },
  {
   "cell_type": "code",
   "execution_count": 17,
   "id": "16d88768",
   "metadata": {
    "execution": {
     "iopub.execute_input": "2024-06-15T04:17:38.836919Z",
     "iopub.status.busy": "2024-06-15T04:17:38.836476Z",
     "iopub.status.idle": "2024-06-15T04:17:38.879992Z",
     "shell.execute_reply": "2024-06-15T04:17:38.878858Z"
    },
    "papermill": {
     "duration": 0.066845,
     "end_time": "2024-06-15T04:17:38.882668",
     "exception": false,
     "start_time": "2024-06-15T04:17:38.815823",
     "status": "completed"
    },
    "tags": []
   },
   "outputs": [
    {
     "data": {
      "text/plain": [
       "fuel_type\n",
       "Gasoline          43613\n",
       "E85 Flex Fuel      1435\n",
       "Hybrid             1323\n",
       "Diesel              889\n",
       "Other               266\n",
       "Plug-In Hybrid      148\n",
       "Name: count, dtype: int64"
      ]
     },
     "execution_count": 17,
     "metadata": {},
     "output_type": "execute_result"
    }
   ],
   "source": [
    "# Replace '–' with 'Other' in the 'fuel_type' column\n",
    "outliersfree_df.loc[outliersfree_df['fuel_type'] == '–', 'fuel_type'] = 'Other'\n",
    "cleaned_train = outliersfree_df[outliersfree_df['fuel_type'] != 'not supported']\n",
    "fuel_counts = cleaned_train['fuel_type'].value_counts()\n",
    "fuel_counts"
   ]
  },
  {
   "cell_type": "markdown",
   "id": "39e20b30",
   "metadata": {
    "papermill": {
     "duration": 0.019943,
     "end_time": "2024-06-15T04:17:38.922525",
     "exception": false,
     "start_time": "2024-06-15T04:17:38.902582",
     "status": "completed"
    },
    "tags": []
   },
   "source": [
    "***Engine cleaning***"
   ]
  },
  {
   "cell_type": "code",
   "execution_count": 18,
   "id": "2f6c262e",
   "metadata": {
    "execution": {
     "iopub.execute_input": "2024-06-15T04:17:38.962454Z",
     "iopub.status.busy": "2024-06-15T04:17:38.962037Z",
     "iopub.status.idle": "2024-06-15T04:17:38.981327Z",
     "shell.execute_reply": "2024-06-15T04:17:38.979852Z"
    },
    "papermill": {
     "duration": 0.042419,
     "end_time": "2024-06-15T04:17:38.984134",
     "exception": false,
     "start_time": "2024-06-15T04:17:38.941715",
     "status": "completed"
    },
    "tags": []
   },
   "outputs": [
    {
     "data": {
      "text/plain": [
       "engine\n",
       "300.0HP 3.0L Straight 6 Cylinder Engine Gasoline Fuel    1411\n",
       "355.0HP 5.3L 8 Cylinder Engine Gasoline Fuel             1067\n",
       "240.0HP 2.0L 4 Cylinder Engine Gasoline Fuel             1044\n",
       "285.0HP 3.6L V6 Cylinder Engine Gasoline Fuel             924\n",
       "420.0HP 6.2L 8 Cylinder Engine Gasoline Fuel              689\n",
       "                                                         ... \n",
       "290.0HP Electric Motor Electric Fuel System                 1\n",
       "3.6L V6 24V MPFI DOHC Hybrid                                1\n",
       "3.0 Liter SC ULEV                                           1\n",
       "483.0HP 4.3L 8 Cylinder Engine Gasoline Fuel                1\n",
       "3.2L V6 24V MPFI DOHC                                       1\n",
       "Name: count, Length: 1043, dtype: int64"
      ]
     },
     "execution_count": 18,
     "metadata": {},
     "output_type": "execute_result"
    }
   ],
   "source": [
    "# Look at endine value counts for binning\n",
    "engine_counts = cleaned_train['engine'].value_counts()\n",
    "engine_counts"
   ]
  },
  {
   "cell_type": "code",
   "execution_count": 19,
   "id": "4cb85124",
   "metadata": {
    "execution": {
     "iopub.execute_input": "2024-06-15T04:17:39.025218Z",
     "iopub.status.busy": "2024-06-15T04:17:39.024354Z",
     "iopub.status.idle": "2024-06-15T04:17:48.126214Z",
     "shell.execute_reply": "2024-06-15T04:17:48.125039Z"
    },
    "papermill": {
     "duration": 9.12527,
     "end_time": "2024-06-15T04:17:48.128923",
     "exception": false,
     "start_time": "2024-06-15T04:17:39.003653",
     "status": "completed"
    },
    "tags": []
   },
   "outputs": [
    {
     "data": {
      "text/plain": [
       "engine\n",
       "Other                                                    20309\n",
       "300.0HP 3.0L Straight 6 Cylinder Engine Gasoline Fuel     1411\n",
       "355.0HP 5.3L 8 Cylinder Engine Gasoline Fuel              1067\n",
       "240.0HP 2.0L 4 Cylinder Engine Gasoline Fuel              1044\n",
       "285.0HP 3.6L V6 Cylinder Engine Gasoline Fuel              924\n",
       "                                                         ...  \n",
       "280.0HP 3.6L V6 Cylinder Engine Gasoline Fuel              105\n",
       "300.0HP 4.2L 8 Cylinder Engine Gasoline Fuel               103\n",
       "188.0HP 3.0L V6 Cylinder Engine Diesel Fuel                103\n",
       "310.0HP 3.0L V6 Cylinder Engine Gasoline Fuel              102\n",
       "518.0HP 5.0L 8 Cylinder Engine Gasoline Fuel               102\n",
       "Name: count, Length: 106, dtype: int64"
      ]
     },
     "execution_count": 19,
     "metadata": {},
     "output_type": "execute_result"
    }
   ],
   "source": [
    "cutoff_value = 100\n",
    "engine_types_to_replace = engine_counts[engine_counts < cutoff_value].index\n",
    "\n",
    "# Replace in the dataframe\n",
    "for engine_c in engine_types_to_replace:\n",
    "    cleaned_train.loc[cleaned_train['engine'] == engine_c, 'engine'] = \"Other\"\n",
    "\n",
    "# Check the updated value counts\n",
    "engine_counts = cleaned_train['engine'].value_counts()\n",
    "engine_counts"
   ]
  },
  {
   "cell_type": "markdown",
   "id": "c7c7f9f2",
   "metadata": {
    "papermill": {
     "duration": 0.019427,
     "end_time": "2024-06-15T04:17:48.167982",
     "exception": false,
     "start_time": "2024-06-15T04:17:48.148555",
     "status": "completed"
    },
    "tags": []
   },
   "source": [
    "***Transmission***"
   ]
  },
  {
   "cell_type": "code",
   "execution_count": 20,
   "id": "065b6d2e",
   "metadata": {
    "execution": {
     "iopub.execute_input": "2024-06-15T04:17:48.209071Z",
     "iopub.status.busy": "2024-06-15T04:17:48.208647Z",
     "iopub.status.idle": "2024-06-15T04:17:48.226166Z",
     "shell.execute_reply": "2024-06-15T04:17:48.224925Z"
    },
    "papermill": {
     "duration": 0.040966,
     "end_time": "2024-06-15T04:17:48.228504",
     "exception": false,
     "start_time": "2024-06-15T04:17:48.187538",
     "status": "completed"
    },
    "tags": []
   },
   "outputs": [
    {
     "data": {
      "text/plain": [
       "transmission\n",
       "A/T                                                   15558\n",
       "8-Speed A/T                                            5804\n",
       "6-Speed A/T                                            5791\n",
       "Transmission w/Dual Shift Mode                         5284\n",
       "6-Speed M/T                                            3384\n",
       "7-Speed A/T                                            2786\n",
       "10-Speed A/T                                           1603\n",
       "5-Speed A/T                                            1171\n",
       "8-Speed Automatic                                       953\n",
       "9-Speed A/T                                             805\n",
       "4-Speed A/T                                             739\n",
       "5-Speed M/T                                             711\n",
       "CVT Transmission                                        680\n",
       "10-Speed Automatic                                      519\n",
       "6-Speed Automatic                                       483\n",
       "Automatic                                               357\n",
       "M/T                                                     339\n",
       "9-Speed Automatic                                       279\n",
       "Automatic CVT                                            91\n",
       "7-Speed Automatic with Auto-Shift                        53\n",
       "Transmission Overdrive Switch                            53\n",
       "7-Speed M/T                                              46\n",
       "1-Speed A/T                                              43\n",
       "7-Speed Automatic                                        31\n",
       "5-Speed Automatic                                        22\n",
       "6-Speed Manual                                           18\n",
       "8-Speed Automatic with Auto-Shift                        17\n",
       "6-Speed Automatic with Auto-Shift                        13\n",
       "7-Speed Manual                                            7\n",
       "4-Speed Automatic                                         6\n",
       "6-Speed Electronically Controlled Automatic with O        5\n",
       "1-Speed Automatic                                         4\n",
       "8-Speed Manual                                            3\n",
       "7-Speed DCT Automatic                                     3\n",
       "SCHEDULED FOR OR IN PRODUCTION                            2\n",
       "6 Speed Mt                                                2\n",
       "10-Speed Automatic with Overdrive                         2\n",
       "6-Speed                                                   2\n",
       "F                                                         1\n",
       "6 Speed At/Mt                                             1\n",
       "CVT-F                                                     1\n",
       "2-Speed A/T                                               1\n",
       "–                                                         1\n",
       "Name: count, dtype: int64"
      ]
     },
     "execution_count": 20,
     "metadata": {},
     "output_type": "execute_result"
    }
   ],
   "source": [
    "# Look at trans value counts for binning\n",
    "trans_counts = cleaned_train['transmission'].value_counts()\n",
    "trans_counts"
   ]
  },
  {
   "cell_type": "code",
   "execution_count": 21,
   "id": "9a38f7bb",
   "metadata": {
    "execution": {
     "iopub.execute_input": "2024-06-15T04:17:48.270330Z",
     "iopub.status.busy": "2024-06-15T04:17:48.269882Z",
     "iopub.status.idle": "2024-06-15T04:17:48.435591Z",
     "shell.execute_reply": "2024-06-15T04:17:48.434278Z"
    },
    "papermill": {
     "duration": 0.189553,
     "end_time": "2024-06-15T04:17:48.438279",
     "exception": false,
     "start_time": "2024-06-15T04:17:48.248726",
     "status": "completed"
    },
    "tags": []
   },
   "outputs": [
    {
     "data": {
      "text/plain": [
       "transmission\n",
       "A/T                                  15558\n",
       "8-Speed A/T                           5804\n",
       "6-Speed A/T                           5791\n",
       "Transmission w/Dual Shift Mode        5284\n",
       "6-Speed M/T                           3384\n",
       "7-Speed A/T                           2786\n",
       "10-Speed A/T                          1603\n",
       "5-Speed A/T                           1171\n",
       "8-Speed Automatic                      953\n",
       "9-Speed A/T                            805\n",
       "4-Speed A/T                            739\n",
       "5-Speed M/T                            711\n",
       "CVT Transmission                       680\n",
       "10-Speed Automatic                     519\n",
       "6-Speed Automatic                      483\n",
       "Automatic                              357\n",
       "M/T                                    339\n",
       "9-Speed Automatic                      279\n",
       "Automatic CVT                           91\n",
       "Transmission Overdrive Switch           53\n",
       "7-Speed Automatic with Auto-Shift       53\n",
       "7-Speed M/T                             46\n",
       "1-Speed A/T                             43\n",
       "Other                                   41\n",
       "7-Speed Automatic                       31\n",
       "5-Speed Automatic                       22\n",
       "6-Speed Manual                          18\n",
       "8-Speed Automatic with Auto-Shift       17\n",
       "6-Speed Automatic with Auto-Shift       13\n",
       "Name: count, dtype: int64"
      ]
     },
     "execution_count": 21,
     "metadata": {},
     "output_type": "execute_result"
    }
   ],
   "source": [
    "cutoff_value = 10\n",
    "trans_types_to_replace = trans_counts[trans_counts < cutoff_value].index\n",
    "\n",
    "# Replace in the dataframe\n",
    "for trans_c in trans_types_to_replace:\n",
    "    cleaned_train.loc[cleaned_train['transmission'] == trans_c, 'transmission'] = \"Other\"\n",
    "\n",
    "# Check the updated value counts\n",
    "trans_counts = cleaned_train['transmission'].value_counts()\n",
    "trans_counts"
   ]
  },
  {
   "cell_type": "markdown",
   "id": "601abf30",
   "metadata": {
    "papermill": {
     "duration": 0.019793,
     "end_time": "2024-06-15T04:17:48.478618",
     "exception": false,
     "start_time": "2024-06-15T04:17:48.458825",
     "status": "completed"
    },
    "tags": []
   },
   "source": [
    "***External colour***"
   ]
  },
  {
   "cell_type": "code",
   "execution_count": 22,
   "id": "7b742977",
   "metadata": {
    "execution": {
     "iopub.execute_input": "2024-06-15T04:17:48.520746Z",
     "iopub.status.busy": "2024-06-15T04:17:48.520288Z",
     "iopub.status.idle": "2024-06-15T04:17:48.537609Z",
     "shell.execute_reply": "2024-06-15T04:17:48.536482Z"
    },
    "papermill": {
     "duration": 0.041398,
     "end_time": "2024-06-15T04:17:48.540059",
     "exception": false,
     "start_time": "2024-06-15T04:17:48.498661",
     "status": "completed"
    },
    "tags": []
   },
   "outputs": [
    {
     "data": {
      "text/plain": [
       "ext_col\n",
       "Black                                 13237\n",
       "White                                 12006\n",
       "Gray                                   6605\n",
       "Silver                                 4751\n",
       "Blue                                   4156\n",
       "Red                                    2699\n",
       "Green                                   565\n",
       "Gold                                    463\n",
       "Beige                                   433\n",
       "Brown                                   364\n",
       "Yellow                                  277\n",
       "Orange                                  243\n",
       "Agate Black Metallic                    105\n",
       "Bright White Clearcoat                   99\n",
       "Purple                                   90\n",
       "Black Clearcoat                          77\n",
       "Summit White                             71\n",
       "Diamond Black                            59\n",
       "Silver Ice Metallic                      57\n",
       "Delmonico Red Pearlcoat                  51\n",
       "Soul Red Crystal Metallic                45\n",
       "Snowflake White Pearl                    32\n",
       "Ebony Twilight Metallic                  27\n",
       "Jet Black Mica                           27\n",
       "Firecracker Red Clearcoat                25\n",
       "Sonic Silver Metallic                    23\n",
       "Cajun Red Tintcoat                       22\n",
       "Iconic Silver Metallic                   21\n",
       "Black Sapphire Metallic                  21\n",
       "Magnetic Metallic                        20\n",
       "Oxford White                             20\n",
       "Shadow Gray Metallic                     19\n",
       "Dark Matter Metallic                     18\n",
       "White Frost Tri-Coat                     17\n",
       "Brilliant Silver Metallic                16\n",
       "Mosaic Black Metallic                    16\n",
       "Glacial White Pearl                      15\n",
       "Patriot Blue Pearlcoat                   15\n",
       "Crystal Black Silica                     15\n",
       "Dark Moon Blue Metallic                  15\n",
       "Maroon                                   14\n",
       "White Knuckle Clearcoat                  14\n",
       "Polymetal Gray Metallic                  14\n",
       "Deep Black Pearl Effect                  14\n",
       "Velvet Red Pearlcoat                     14\n",
       "Midnight Black Metallic                  14\n",
       "Granite Crystal Clearcoat Metallic       13\n",
       "Maximum Steel Metallic                   13\n",
       "Tungsten Metallic                        13\n",
       "Black Obsidian                           13\n",
       "Name: count, dtype: int64"
      ]
     },
     "execution_count": 22,
     "metadata": {},
     "output_type": "execute_result"
    }
   ],
   "source": [
    "# Look at colours value counts for binning\n",
    "ext_col_counts = cleaned_train['ext_col'].value_counts()\n",
    "ext_col_counts.head(50)"
   ]
  },
  {
   "cell_type": "code",
   "execution_count": 23,
   "id": "a3746ffc",
   "metadata": {
    "execution": {
     "iopub.execute_input": "2024-06-15T04:17:48.583794Z",
     "iopub.status.busy": "2024-06-15T04:17:48.582405Z",
     "iopub.status.idle": "2024-06-15T04:17:50.645832Z",
     "shell.execute_reply": "2024-06-15T04:17:50.644630Z"
    },
    "papermill": {
     "duration": 2.088052,
     "end_time": "2024-06-15T04:17:50.648411",
     "exception": false,
     "start_time": "2024-06-15T04:17:48.560359",
     "status": "completed"
    },
    "tags": []
   },
   "outputs": [
    {
     "data": {
      "text/plain": [
       "ext_col\n",
       "Black                        13237\n",
       "White                        12006\n",
       "Gray                          6605\n",
       "Silver                        4751\n",
       "Blue                          4156\n",
       "Red                           2699\n",
       "Other                          983\n",
       "Green                          565\n",
       "Gold                           463\n",
       "Beige                          433\n",
       "Brown                          364\n",
       "Yellow                         277\n",
       "Orange                         243\n",
       "Agate Black Metallic           105\n",
       "Bright White Clearcoat          99\n",
       "Purple                          90\n",
       "Black Clearcoat                 77\n",
       "Summit White                    71\n",
       "Diamond Black                   59\n",
       "Silver Ice Metallic             57\n",
       "Delmonico Red Pearlcoat         51\n",
       "Soul Red Crystal Metallic       45\n",
       "Snowflake White Pearl           32\n",
       "Jet Black Mica                  27\n",
       "Ebony Twilight Metallic         27\n",
       "Firecracker Red Clearcoat       25\n",
       "Sonic Silver Metallic           23\n",
       "Cajun Red Tintcoat              22\n",
       "Black Sapphire Metallic         21\n",
       "Iconic Silver Metallic          21\n",
       "Magnetic Metallic               20\n",
       "Oxford White                    20\n",
       "Name: count, dtype: int64"
      ]
     },
     "execution_count": 23,
     "metadata": {},
     "output_type": "execute_result"
    }
   ],
   "source": [
    "cutoff_value = 20\n",
    "ext_col_types_to_replace = ext_col_counts[ext_col_counts < cutoff_value].index\n",
    "\n",
    "# Replace in the dataframe\n",
    "for ext_col_c in ext_col_types_to_replace:\n",
    "    cleaned_train.loc[cleaned_train['ext_col'] == ext_col_c, 'ext_col'] = \"Other\"\n",
    "\n",
    "# Check the updated value counts\n",
    "ext_col_counts = cleaned_train['ext_col'].value_counts()\n",
    "ext_col_counts"
   ]
  },
  {
   "cell_type": "code",
   "execution_count": 24,
   "id": "6e818bd2",
   "metadata": {
    "execution": {
     "iopub.execute_input": "2024-06-15T04:17:50.692016Z",
     "iopub.status.busy": "2024-06-15T04:17:50.691586Z",
     "iopub.status.idle": "2024-06-15T04:17:50.709335Z",
     "shell.execute_reply": "2024-06-15T04:17:50.708211Z"
    },
    "papermill": {
     "duration": 0.0423,
     "end_time": "2024-06-15T04:17:50.711769",
     "exception": false,
     "start_time": "2024-06-15T04:17:50.669469",
     "status": "completed"
    },
    "tags": []
   },
   "outputs": [
    {
     "data": {
      "text/plain": [
       "int_col\n",
       "Black                         27600\n",
       "Beige                          7582\n",
       "Gray                           5901\n",
       "Brown                          1838\n",
       "Red                            1182\n",
       "–                               935\n",
       "White                           892\n",
       "Jet Black                       306\n",
       "Ebony                           201\n",
       "Orange                          173\n",
       "Blue                            147\n",
       "Silver                          100\n",
       "Gold                             89\n",
       "Green                            46\n",
       "Global Black                     44\n",
       "Medium Stone                     36\n",
       "Charcoal                         31\n",
       "Diesel Gray / Black              26\n",
       "Rioja Red                        25\n",
       "Black Onyx                       22\n",
       "Medium Dark Slate                22\n",
       "White / Brown                    22\n",
       "Graphite                         20\n",
       "Light Slate                      17\n",
       "Medium Earth Gray                17\n",
       "Shara Beige                      16\n",
       "Canberra Beige                   14\n",
       "Medium Light Camel               13\n",
       "Deep Chestnut                    13\n",
       "Ceramic                          13\n",
       "Sandstone                        12\n",
       "Tan                              11\n",
       "Ebony / Ebony Accents            11\n",
       "Charcoal Black                   10\n",
       "Ebony Black                      10\n",
       "Shale                            10\n",
       "Mesa                              9\n",
       "Nero Ade                          8\n",
       "Chestnut                          8\n",
       "Adrenaline Red                    7\n",
       "Light Titanium                    7\n",
       "Titan Black / Quarzit             7\n",
       "Portland                          6\n",
       "Platinum                          6\n",
       "Dark Galvanized                   6\n",
       "Light Platinum / Jet Black        6\n",
       "Charles Blue                      6\n",
       "Ice                               6\n",
       "Mountain Brown                    6\n",
       "Canberra Beige/Black              6\n",
       "Name: count, dtype: int64"
      ]
     },
     "execution_count": 24,
     "metadata": {},
     "output_type": "execute_result"
    }
   ],
   "source": [
    "# Look at colours value counts for binning\n",
    "int_col_counts = cleaned_train['int_col'].value_counts()\n",
    "int_col_counts.head(50)"
   ]
  },
  {
   "cell_type": "code",
   "execution_count": 25,
   "id": "3f73c883",
   "metadata": {
    "execution": {
     "iopub.execute_input": "2024-06-15T04:17:50.755509Z",
     "iopub.status.busy": "2024-06-15T04:17:50.754619Z",
     "iopub.status.idle": "2024-06-15T04:17:50.771402Z",
     "shell.execute_reply": "2024-06-15T04:17:50.770257Z"
    },
    "papermill": {
     "duration": 0.041555,
     "end_time": "2024-06-15T04:17:50.774117",
     "exception": false,
     "start_time": "2024-06-15T04:17:50.732562",
     "status": "completed"
    },
    "tags": []
   },
   "outputs": [],
   "source": [
    "cleaned_train.loc[cleaned_train['int_col'] == '–', 'int_col'] = 'Other'"
   ]
  },
  {
   "cell_type": "code",
   "execution_count": 26,
   "id": "b24da9ee",
   "metadata": {
    "execution": {
     "iopub.execute_input": "2024-06-15T04:17:50.818147Z",
     "iopub.status.busy": "2024-06-15T04:17:50.817246Z",
     "iopub.status.idle": "2024-06-15T04:17:51.626867Z",
     "shell.execute_reply": "2024-06-15T04:17:51.625731Z"
    },
    "papermill": {
     "duration": 0.834297,
     "end_time": "2024-06-15T04:17:51.629304",
     "exception": false,
     "start_time": "2024-06-15T04:17:50.795007",
     "status": "completed"
    },
    "tags": []
   },
   "outputs": [
    {
     "data": {
      "text/plain": [
       "int_col\n",
       "Black                    27600\n",
       "Beige                     7582\n",
       "Gray                      5901\n",
       "Brown                     1838\n",
       "Other                     1202\n",
       "Red                       1182\n",
       "White                      892\n",
       "Jet Black                  306\n",
       "Ebony                      201\n",
       "Orange                     173\n",
       "Blue                       147\n",
       "Silver                     100\n",
       "Gold                        89\n",
       "Green                       46\n",
       "Global Black                44\n",
       "Medium Stone                36\n",
       "Charcoal                    31\n",
       "Diesel Gray / Black         26\n",
       "Rioja Red                   25\n",
       "White / Brown               22\n",
       "Medium Dark Slate           22\n",
       "Black Onyx                  22\n",
       "Graphite                    20\n",
       "Light Slate                 17\n",
       "Medium Earth Gray           17\n",
       "Shara Beige                 16\n",
       "Canberra Beige              14\n",
       "Ceramic                     13\n",
       "Deep Chestnut               13\n",
       "Medium Light Camel          13\n",
       "Sandstone                   12\n",
       "Tan                         11\n",
       "Ebony / Ebony Accents       11\n",
       "Charcoal Black              10\n",
       "Ebony Black                 10\n",
       "Shale                       10\n",
       "Name: count, dtype: int64"
      ]
     },
     "execution_count": 26,
     "metadata": {},
     "output_type": "execute_result"
    }
   ],
   "source": [
    "cutoff_value = 10\n",
    "int_col_types_to_replace = int_col_counts[int_col_counts < cutoff_value].index\n",
    "\n",
    "# Replace in the dataframe\n",
    "for int_col_c in int_col_types_to_replace:\n",
    "    cleaned_train.loc[cleaned_train['int_col'] == int_col_c, 'int_col'] = \"Other\"\n",
    "\n",
    "# Check the updated value counts\n",
    "int_col_counts = cleaned_train['int_col'].value_counts()\n",
    "int_col_counts"
   ]
  },
  {
   "cell_type": "code",
   "execution_count": 27,
   "id": "b3ced821",
   "metadata": {
    "execution": {
     "iopub.execute_input": "2024-06-15T04:17:51.673269Z",
     "iopub.status.busy": "2024-06-15T04:17:51.672876Z",
     "iopub.status.idle": "2024-06-15T04:17:51.722961Z",
     "shell.execute_reply": "2024-06-15T04:17:51.721754Z"
    },
    "papermill": {
     "duration": 0.075137,
     "end_time": "2024-06-15T04:17:51.725405",
     "exception": false,
     "start_time": "2024-06-15T04:17:51.650268",
     "status": "completed"
    },
    "tags": []
   },
   "outputs": [
    {
     "data": {
      "text/plain": [
       "brand             51\n",
       "model             94\n",
       "model_year        34\n",
       "milage          3093\n",
       "fuel_type          6\n",
       "engine           106\n",
       "transmission      29\n",
       "ext_col           32\n",
       "int_col           36\n",
       "accident           2\n",
       "clean_title        1\n",
       "price           1108\n",
       "dtype: int64"
      ]
     },
     "execution_count": 27,
     "metadata": {},
     "output_type": "execute_result"
    }
   ],
   "source": [
    "# Determine the cleaned number of unique values in each column.\n",
    "unique_counts = cleaned_train.nunique()\n",
    "unique_counts"
   ]
  },
  {
   "cell_type": "code",
   "execution_count": 28,
   "id": "6204abd9",
   "metadata": {
    "execution": {
     "iopub.execute_input": "2024-06-15T04:17:51.769678Z",
     "iopub.status.busy": "2024-06-15T04:17:51.768970Z",
     "iopub.status.idle": "2024-06-15T04:17:51.781586Z",
     "shell.execute_reply": "2024-06-15T04:17:51.780357Z"
    },
    "papermill": {
     "duration": 0.03777,
     "end_time": "2024-06-15T04:17:51.784326",
     "exception": false,
     "start_time": "2024-06-15T04:17:51.746556",
     "status": "completed"
    },
    "tags": []
   },
   "outputs": [],
   "source": [
    "#The last column \"Clean_title\" is the same \"Yes\" answer for all rows, that gives no value to analysis. \n",
    "#Drop this column.\n",
    "final_train=cleaned_train.drop(columns=['clean_title'])\n"
   ]
  },
  {
   "cell_type": "code",
   "execution_count": 29,
   "id": "1c486eec",
   "metadata": {
    "execution": {
     "iopub.execute_input": "2024-06-15T04:17:51.828670Z",
     "iopub.status.busy": "2024-06-15T04:17:51.828232Z",
     "iopub.status.idle": "2024-06-15T04:17:51.905800Z",
     "shell.execute_reply": "2024-06-15T04:17:51.904522Z"
    },
    "papermill": {
     "duration": 0.104322,
     "end_time": "2024-06-15T04:17:51.910106",
     "exception": false,
     "start_time": "2024-06-15T04:17:51.805784",
     "status": "completed"
    },
    "tags": []
   },
   "outputs": [
    {
     "name": "stdout",
     "output_type": "stream",
     "text": [
      "brand\n",
      "BMW              6331\n",
      "Ford             6008\n",
      "Mercedes-Benz    4118\n",
      "Chevrolet        3829\n",
      "Audi             2676\n",
      "Toyota           2174\n",
      "Jeep             2138\n",
      "Lexus            2121\n",
      "Porsche          1805\n",
      "Land             1567\n",
      "Cadillac         1387\n",
      "Nissan           1178\n",
      "GMC               972\n",
      "Dodge             932\n",
      "INFINITI          904\n",
      "RAM               883\n",
      "Mazda             737\n",
      "Subaru            727\n",
      "Lincoln           724\n",
      "Hyundai           687\n",
      "Honda             620\n",
      "Volkswagen        617\n",
      "Jaguar            590\n",
      "Acura             559\n",
      "Kia               498\n",
      "Volvo             429\n",
      "MINI              360\n",
      "Chrysler          253\n",
      "Maserati          243\n",
      "Buick             219\n",
      "Genesis           211\n",
      "Mitsubishi        179\n",
      "Hummer            175\n",
      "Pontiac           146\n",
      "Alfa              130\n",
      "Bentley           127\n",
      "Tesla              93\n",
      "Saturn             58\n",
      "Rolls-Royce        53\n",
      "Scion              52\n",
      "Lamborghini        42\n",
      "McLaren            20\n",
      "Aston              20\n",
      "Mercury            20\n",
      "Ferrari            19\n",
      "FIAT               16\n",
      "Lotus              10\n",
      "Rivian              9\n",
      "Suzuki              4\n",
      "Maybach             3\n",
      "Plymouth            1\n",
      "Name: count, dtype: int64\n",
      "model\n",
      "Other                      30227\n",
      "F-150 XLT                    733\n",
      "M3 Base                      610\n",
      "X5 xDrive35i                 590\n",
      "F-150 Lariat                 451\n",
      "                           ...  \n",
      "335 i xDrive                 103\n",
      "Sequoia Limited              100\n",
      "Golf GTI 2.0T SE 4-Door      100\n",
      "Civic EX                     100\n",
      "Cayman Base                  100\n",
      "Name: count, Length: 94, dtype: int64\n",
      "model_year\n",
      "2018    4428\n",
      "2016    4381\n",
      "2017    3693\n",
      "2019    3563\n",
      "2015    3492\n",
      "2020    3119\n",
      "2014    2853\n",
      "2021    2726\n",
      "2013    2360\n",
      "2012    2062\n",
      "2011    2056\n",
      "2022    2007\n",
      "2008    1694\n",
      "2007    1537\n",
      "2010    1455\n",
      "2005     935\n",
      "2009     924\n",
      "2006     844\n",
      "2004     731\n",
      "2023     685\n",
      "2003     551\n",
      "2001     455\n",
      "2002     385\n",
      "1999     175\n",
      "2000     147\n",
      "1998     114\n",
      "1997      79\n",
      "1996      71\n",
      "1993      46\n",
      "1995      42\n",
      "1994      35\n",
      "2024      15\n",
      "1992      12\n",
      "1974       2\n",
      "Name: count, dtype: int64\n",
      "milage\n",
      "60000     351\n",
      "120000    335\n",
      "110000    329\n",
      "170000    319\n",
      "87500     272\n",
      "         ... \n",
      "32580       1\n",
      "51803       1\n",
      "135570      1\n",
      "93100       1\n",
      "28750       1\n",
      "Name: count, Length: 3093, dtype: int64\n",
      "fuel_type\n",
      "Gasoline          43613\n",
      "E85 Flex Fuel      1435\n",
      "Hybrid             1323\n",
      "Diesel              889\n",
      "Other               266\n",
      "Plug-In Hybrid      148\n",
      "Name: count, dtype: int64\n",
      "engine\n",
      "Other                                                    20309\n",
      "300.0HP 3.0L Straight 6 Cylinder Engine Gasoline Fuel     1411\n",
      "355.0HP 5.3L 8 Cylinder Engine Gasoline Fuel              1067\n",
      "240.0HP 2.0L 4 Cylinder Engine Gasoline Fuel              1044\n",
      "285.0HP 3.6L V6 Cylinder Engine Gasoline Fuel              924\n",
      "                                                         ...  \n",
      "280.0HP 3.6L V6 Cylinder Engine Gasoline Fuel              105\n",
      "300.0HP 4.2L 8 Cylinder Engine Gasoline Fuel               103\n",
      "188.0HP 3.0L V6 Cylinder Engine Diesel Fuel                103\n",
      "310.0HP 3.0L V6 Cylinder Engine Gasoline Fuel              102\n",
      "518.0HP 5.0L 8 Cylinder Engine Gasoline Fuel               102\n",
      "Name: count, Length: 106, dtype: int64\n",
      "transmission\n",
      "A/T                                  15558\n",
      "8-Speed A/T                           5804\n",
      "6-Speed A/T                           5791\n",
      "Transmission w/Dual Shift Mode        5284\n",
      "6-Speed M/T                           3384\n",
      "7-Speed A/T                           2786\n",
      "10-Speed A/T                          1603\n",
      "5-Speed A/T                           1171\n",
      "8-Speed Automatic                      953\n",
      "9-Speed A/T                            805\n",
      "4-Speed A/T                            739\n",
      "5-Speed M/T                            711\n",
      "CVT Transmission                       680\n",
      "10-Speed Automatic                     519\n",
      "6-Speed Automatic                      483\n",
      "Automatic                              357\n",
      "M/T                                    339\n",
      "9-Speed Automatic                      279\n",
      "Automatic CVT                           91\n",
      "Transmission Overdrive Switch           53\n",
      "7-Speed Automatic with Auto-Shift       53\n",
      "7-Speed M/T                             46\n",
      "1-Speed A/T                             43\n",
      "Other                                   41\n",
      "7-Speed Automatic                       31\n",
      "5-Speed Automatic                       22\n",
      "6-Speed Manual                          18\n",
      "8-Speed Automatic with Auto-Shift       17\n",
      "6-Speed Automatic with Auto-Shift       13\n",
      "Name: count, dtype: int64\n",
      "ext_col\n",
      "Black                        13237\n",
      "White                        12006\n",
      "Gray                          6605\n",
      "Silver                        4751\n",
      "Blue                          4156\n",
      "Red                           2699\n",
      "Other                          983\n",
      "Green                          565\n",
      "Gold                           463\n",
      "Beige                          433\n",
      "Brown                          364\n",
      "Yellow                         277\n",
      "Orange                         243\n",
      "Agate Black Metallic           105\n",
      "Bright White Clearcoat          99\n",
      "Purple                          90\n",
      "Black Clearcoat                 77\n",
      "Summit White                    71\n",
      "Diamond Black                   59\n",
      "Silver Ice Metallic             57\n",
      "Delmonico Red Pearlcoat         51\n",
      "Soul Red Crystal Metallic       45\n",
      "Snowflake White Pearl           32\n",
      "Jet Black Mica                  27\n",
      "Ebony Twilight Metallic         27\n",
      "Firecracker Red Clearcoat       25\n",
      "Sonic Silver Metallic           23\n",
      "Cajun Red Tintcoat              22\n",
      "Black Sapphire Metallic         21\n",
      "Iconic Silver Metallic          21\n",
      "Magnetic Metallic               20\n",
      "Oxford White                    20\n",
      "Name: count, dtype: int64\n",
      "int_col\n",
      "Black                    27600\n",
      "Beige                     7582\n",
      "Gray                      5901\n",
      "Brown                     1838\n",
      "Other                     1202\n",
      "Red                       1182\n",
      "White                      892\n",
      "Jet Black                  306\n",
      "Ebony                      201\n",
      "Orange                     173\n",
      "Blue                       147\n",
      "Silver                     100\n",
      "Gold                        89\n",
      "Green                       46\n",
      "Global Black                44\n",
      "Medium Stone                36\n",
      "Charcoal                    31\n",
      "Diesel Gray / Black         26\n",
      "Rioja Red                   25\n",
      "White / Brown               22\n",
      "Medium Dark Slate           22\n",
      "Black Onyx                  22\n",
      "Graphite                    20\n",
      "Light Slate                 17\n",
      "Medium Earth Gray           17\n",
      "Shara Beige                 16\n",
      "Canberra Beige              14\n",
      "Ceramic                     13\n",
      "Deep Chestnut               13\n",
      "Medium Light Camel          13\n",
      "Sandstone                   12\n",
      "Tan                         11\n",
      "Ebony / Ebony Accents       11\n",
      "Charcoal Black              10\n",
      "Ebony Black                 10\n",
      "Shale                       10\n",
      "Name: count, dtype: int64\n",
      "accident\n",
      "None reported                             33864\n",
      "At least 1 accident or damage reported    13810\n",
      "Name: count, dtype: int64\n",
      "price\n",
      "15000    649\n",
      "12000    495\n",
      "30000    448\n",
      "8500     424\n",
      "17500    420\n",
      "        ... \n",
      "43389      1\n",
      "23739      1\n",
      "33531      1\n",
      "28906      1\n",
      "37998      1\n",
      "Name: count, Length: 1108, dtype: int64\n"
     ]
    }
   ],
   "source": [
    "# Display the value counts for each column\n",
    "for column in final_train.columns:\n",
    "    value_counts = final_train[column].value_counts()\n",
    "    print(value_counts)\n"
   ]
  },
  {
   "cell_type": "markdown",
   "id": "675b814c",
   "metadata": {
    "papermill": {
     "duration": 0.021372,
     "end_time": "2024-06-15T04:17:51.953386",
     "exception": false,
     "start_time": "2024-06-15T04:17:51.932014",
     "status": "completed"
    },
    "tags": []
   },
   "source": [
    "***Liner Regression***"
   ]
  },
  {
   "cell_type": "code",
   "execution_count": 30,
   "id": "e319f2b5",
   "metadata": {
    "execution": {
     "iopub.execute_input": "2024-06-15T04:17:51.998492Z",
     "iopub.status.busy": "2024-06-15T04:17:51.998023Z",
     "iopub.status.idle": "2024-06-15T04:17:52.376215Z",
     "shell.execute_reply": "2024-06-15T04:17:52.374958Z"
    },
    "papermill": {
     "duration": 0.404113,
     "end_time": "2024-06-15T04:17:52.379096",
     "exception": false,
     "start_time": "2024-06-15T04:17:51.974983",
     "status": "completed"
    },
    "tags": []
   },
   "outputs": [],
   "source": [
    "from sklearn.linear_model import LinearRegression"
   ]
  },
  {
   "cell_type": "code",
   "execution_count": 31,
   "id": "901a4102",
   "metadata": {
    "execution": {
     "iopub.execute_input": "2024-06-15T04:17:52.424255Z",
     "iopub.status.busy": "2024-06-15T04:17:52.423847Z",
     "iopub.status.idle": "2024-06-15T04:17:52.531587Z",
     "shell.execute_reply": "2024-06-15T04:17:52.530311Z"
    },
    "papermill": {
     "duration": 0.133367,
     "end_time": "2024-06-15T04:17:52.534305",
     "exception": false,
     "start_time": "2024-06-15T04:17:52.400938",
     "status": "completed"
    },
    "tags": []
   },
   "outputs": [
    {
     "data": {
      "text/plain": [
       "(47674, 359)"
      ]
     },
     "execution_count": 31,
     "metadata": {},
     "output_type": "execute_result"
    }
   ],
   "source": [
    "# Convert categorical data to numeric with `pd.get_dummies`\n",
    "X = pd.get_dummies(final_train)\n",
    "X.shape\n"
   ]
  },
  {
   "cell_type": "code",
   "execution_count": 32,
   "id": "5e0a6032",
   "metadata": {
    "execution": {
     "iopub.execute_input": "2024-06-15T04:17:52.579581Z",
     "iopub.status.busy": "2024-06-15T04:17:52.579105Z",
     "iopub.status.idle": "2024-06-15T04:17:52.584940Z",
     "shell.execute_reply": "2024-06-15T04:17:52.583730Z"
    },
    "papermill": {
     "duration": 0.031595,
     "end_time": "2024-06-15T04:17:52.587559",
     "exception": false,
     "start_time": "2024-06-15T04:17:52.555964",
     "status": "completed"
    },
    "tags": []
   },
   "outputs": [],
   "source": [
    "# Split our preprocessed data into our features and target arrays\n",
    "y=X['price'].values.reshape(-1, 1)"
   ]
  },
  {
   "cell_type": "code",
   "execution_count": 33,
   "id": "631052fc",
   "metadata": {
    "execution": {
     "iopub.execute_input": "2024-06-15T04:17:52.634000Z",
     "iopub.status.busy": "2024-06-15T04:17:52.633599Z",
     "iopub.status.idle": "2024-06-15T04:17:52.655140Z",
     "shell.execute_reply": "2024-06-15T04:17:52.654106Z"
    },
    "papermill": {
     "duration": 0.048185,
     "end_time": "2024-06-15T04:17:52.657991",
     "exception": false,
     "start_time": "2024-06-15T04:17:52.609806",
     "status": "completed"
    },
    "tags": []
   },
   "outputs": [],
   "source": [
    "#Removing the price from the prediction features\n",
    "X = X.drop(['price'], axis=1)\n"
   ]
  },
  {
   "cell_type": "code",
   "execution_count": 34,
   "id": "de9ec97e",
   "metadata": {
    "execution": {
     "iopub.execute_input": "2024-06-15T04:17:52.704005Z",
     "iopub.status.busy": "2024-06-15T04:17:52.703625Z",
     "iopub.status.idle": "2024-06-15T04:17:54.296099Z",
     "shell.execute_reply": "2024-06-15T04:17:54.294859Z"
    },
    "papermill": {
     "duration": 1.619326,
     "end_time": "2024-06-15T04:17:54.299820",
     "exception": false,
     "start_time": "2024-06-15T04:17:52.680494",
     "status": "completed"
    },
    "tags": []
   },
   "outputs": [
    {
     "data": {
      "text/html": [
       "<style>#sk-container-id-1 {color: black;background-color: white;}#sk-container-id-1 pre{padding: 0;}#sk-container-id-1 div.sk-toggleable {background-color: white;}#sk-container-id-1 label.sk-toggleable__label {cursor: pointer;display: block;width: 100%;margin-bottom: 0;padding: 0.3em;box-sizing: border-box;text-align: center;}#sk-container-id-1 label.sk-toggleable__label-arrow:before {content: \"▸\";float: left;margin-right: 0.25em;color: #696969;}#sk-container-id-1 label.sk-toggleable__label-arrow:hover:before {color: black;}#sk-container-id-1 div.sk-estimator:hover label.sk-toggleable__label-arrow:before {color: black;}#sk-container-id-1 div.sk-toggleable__content {max-height: 0;max-width: 0;overflow: hidden;text-align: left;background-color: #f0f8ff;}#sk-container-id-1 div.sk-toggleable__content pre {margin: 0.2em;color: black;border-radius: 0.25em;background-color: #f0f8ff;}#sk-container-id-1 input.sk-toggleable__control:checked~div.sk-toggleable__content {max-height: 200px;max-width: 100%;overflow: auto;}#sk-container-id-1 input.sk-toggleable__control:checked~label.sk-toggleable__label-arrow:before {content: \"▾\";}#sk-container-id-1 div.sk-estimator input.sk-toggleable__control:checked~label.sk-toggleable__label {background-color: #d4ebff;}#sk-container-id-1 div.sk-label input.sk-toggleable__control:checked~label.sk-toggleable__label {background-color: #d4ebff;}#sk-container-id-1 input.sk-hidden--visually {border: 0;clip: rect(1px 1px 1px 1px);clip: rect(1px, 1px, 1px, 1px);height: 1px;margin: -1px;overflow: hidden;padding: 0;position: absolute;width: 1px;}#sk-container-id-1 div.sk-estimator {font-family: monospace;background-color: #f0f8ff;border: 1px dotted black;border-radius: 0.25em;box-sizing: border-box;margin-bottom: 0.5em;}#sk-container-id-1 div.sk-estimator:hover {background-color: #d4ebff;}#sk-container-id-1 div.sk-parallel-item::after {content: \"\";width: 100%;border-bottom: 1px solid gray;flex-grow: 1;}#sk-container-id-1 div.sk-label:hover label.sk-toggleable__label {background-color: #d4ebff;}#sk-container-id-1 div.sk-serial::before {content: \"\";position: absolute;border-left: 1px solid gray;box-sizing: border-box;top: 0;bottom: 0;left: 50%;z-index: 0;}#sk-container-id-1 div.sk-serial {display: flex;flex-direction: column;align-items: center;background-color: white;padding-right: 0.2em;padding-left: 0.2em;position: relative;}#sk-container-id-1 div.sk-item {position: relative;z-index: 1;}#sk-container-id-1 div.sk-parallel {display: flex;align-items: stretch;justify-content: center;background-color: white;position: relative;}#sk-container-id-1 div.sk-item::before, #sk-container-id-1 div.sk-parallel-item::before {content: \"\";position: absolute;border-left: 1px solid gray;box-sizing: border-box;top: 0;bottom: 0;left: 50%;z-index: -1;}#sk-container-id-1 div.sk-parallel-item {display: flex;flex-direction: column;z-index: 1;position: relative;background-color: white;}#sk-container-id-1 div.sk-parallel-item:first-child::after {align-self: flex-end;width: 50%;}#sk-container-id-1 div.sk-parallel-item:last-child::after {align-self: flex-start;width: 50%;}#sk-container-id-1 div.sk-parallel-item:only-child::after {width: 0;}#sk-container-id-1 div.sk-dashed-wrapped {border: 1px dashed gray;margin: 0 0.4em 0.5em 0.4em;box-sizing: border-box;padding-bottom: 0.4em;background-color: white;}#sk-container-id-1 div.sk-label label {font-family: monospace;font-weight: bold;display: inline-block;line-height: 1.2em;}#sk-container-id-1 div.sk-label-container {text-align: center;}#sk-container-id-1 div.sk-container {/* jupyter's `normalize.less` sets `[hidden] { display: none; }` but bootstrap.min.css set `[hidden] { display: none !important; }` so we also need the `!important` here to be able to override the default hidden behavior on the sphinx rendered scikit-learn.org. See: https://github.com/scikit-learn/scikit-learn/issues/21755 */display: inline-block !important;position: relative;}#sk-container-id-1 div.sk-text-repr-fallback {display: none;}</style><div id=\"sk-container-id-1\" class=\"sk-top-container\"><div class=\"sk-text-repr-fallback\"><pre>LinearRegression()</pre><b>In a Jupyter environment, please rerun this cell to show the HTML representation or trust the notebook. <br />On GitHub, the HTML representation is unable to render, please try loading this page with nbviewer.org.</b></div><div class=\"sk-container\" hidden><div class=\"sk-item\"><div class=\"sk-estimator sk-toggleable\"><input class=\"sk-toggleable__control sk-hidden--visually\" id=\"sk-estimator-id-1\" type=\"checkbox\" checked><label for=\"sk-estimator-id-1\" class=\"sk-toggleable__label sk-toggleable__label-arrow\">LinearRegression</label><div class=\"sk-toggleable__content\"><pre>LinearRegression()</pre></div></div></div></div></div>"
      ],
      "text/plain": [
       "LinearRegression()"
      ]
     },
     "execution_count": 34,
     "metadata": {},
     "output_type": "execute_result"
    }
   ],
   "source": [
    "lm = LinearRegression()\n",
    "lm.fit(X,y)"
   ]
  },
  {
   "cell_type": "code",
   "execution_count": 35,
   "id": "c539e86d",
   "metadata": {
    "execution": {
     "iopub.execute_input": "2024-06-15T04:17:54.394337Z",
     "iopub.status.busy": "2024-06-15T04:17:54.393934Z",
     "iopub.status.idle": "2024-06-15T04:17:54.577997Z",
     "shell.execute_reply": "2024-06-15T04:17:54.576647Z"
    },
    "papermill": {
     "duration": 0.235184,
     "end_time": "2024-06-15T04:17:54.582254",
     "exception": false,
     "start_time": "2024-06-15T04:17:54.347070",
     "status": "completed"
    },
    "tags": []
   },
   "outputs": [
    {
     "data": {
      "text/plain": [
       "array([[41478.50668335],\n",
       "       [15646.14181519],\n",
       "       [16779.60705566],\n",
       "       [51436.94760132],\n",
       "       [ 8594.50393677]])"
      ]
     },
     "execution_count": 35,
     "metadata": {},
     "output_type": "execute_result"
    }
   ],
   "source": [
    "#make predictions\n",
    "yhat = lm.predict(X)\n",
    "yhat[0:5]"
   ]
  },
  {
   "cell_type": "code",
   "execution_count": 36,
   "id": "ab6fc187",
   "metadata": {
    "execution": {
     "iopub.execute_input": "2024-06-15T04:17:54.679985Z",
     "iopub.status.busy": "2024-06-15T04:17:54.679261Z",
     "iopub.status.idle": "2024-06-15T04:17:54.690015Z",
     "shell.execute_reply": "2024-06-15T04:17:54.688483Z"
    },
    "papermill": {
     "duration": 0.062429,
     "end_time": "2024-06-15T04:17:54.692477",
     "exception": false,
     "start_time": "2024-06-15T04:17:54.630048",
     "status": "completed"
    },
    "tags": []
   },
   "outputs": [
    {
     "data": {
      "text/plain": [
       "array([-5.78806342e+10])"
      ]
     },
     "execution_count": 36,
     "metadata": {},
     "output_type": "execute_result"
    }
   ],
   "source": [
    "#find the intercept\n",
    "lm.intercept_"
   ]
  },
  {
   "cell_type": "code",
   "execution_count": 37,
   "id": "25ac66f8",
   "metadata": {
    "execution": {
     "iopub.execute_input": "2024-06-15T04:17:54.738525Z",
     "iopub.status.busy": "2024-06-15T04:17:54.738095Z",
     "iopub.status.idle": "2024-06-15T04:17:54.750947Z",
     "shell.execute_reply": "2024-06-15T04:17:54.749776Z"
    },
    "papermill": {
     "duration": 0.038787,
     "end_time": "2024-06-15T04:17:54.753277",
     "exception": false,
     "start_time": "2024-06-15T04:17:54.714490",
     "status": "completed"
    },
    "tags": []
   },
   "outputs": [
    {
     "data": {
      "text/plain": [
       "array([[ 1.04101121e+03, -9.14066169e-02,  5.84567407e+09,\n",
       "         5.84567505e+09,  5.84568304e+09,  5.84567819e+09,\n",
       "         5.84567821e+09,  5.84568112e+09,  5.84567410e+09,\n",
       "         5.84567498e+09,  5.84567648e+09,  5.84567185e+09,\n",
       "         5.84567747e+09,  5.84566276e+09,  5.84567719e+09,\n",
       "         5.84567775e+09,  5.84567416e+09,  5.84567705e+09,\n",
       "         5.84567472e+09,  5.84567595e+09,  5.84567034e+09,\n",
       "         5.84567549e+09,  5.84567664e+09,  5.84567532e+09,\n",
       "         5.84567178e+09,  5.84567836e+09,  5.84567731e+09,\n",
       "         5.84567704e+09,  5.84567577e+09,  5.84568672e+09,\n",
       "         5.84567010e+09,  5.84567890e+09,  5.84571338e+09,\n",
       "         5.84567207e+09,  5.84568160e+09,  5.84568067e+09,\n",
       "         5.84568057e+09,  5.84567180e+09,  5.84567407e+09,\n",
       "         5.84566212e+09,  5.84567739e+09,  5.84568110e+09,\n",
       "         5.84568040e+09,  5.84567911e+09,  5.84569007e+09,\n",
       "         5.84567450e+09,  5.84566869e+09,  5.84567214e+09,\n",
       "         5.84566721e+09,  5.84568089e+09,  5.84567739e+09,\n",
       "         5.84567233e+09,  5.84567475e+09,  8.06180035e+07,\n",
       "         8.06206104e+07,  8.06177487e+07,  8.06169907e+07,\n",
       "         8.06171113e+07,  8.06188426e+07,  8.06179659e+07,\n",
       "         8.06180235e+07,  8.06181467e+07,  8.06231328e+07,\n",
       "         8.06204045e+07,  8.06158169e+07,  8.06181980e+07,\n",
       "         8.06197551e+07,  8.06186571e+07,  8.06237473e+07,\n",
       "         8.06171072e+07,  8.06142525e+07,  8.06142927e+07,\n",
       "         8.06162958e+07,  8.06164768e+07,  8.06147987e+07,\n",
       "         8.06164233e+07,  8.06194436e+07,  8.06258657e+07,\n",
       "         8.06194232e+07,  8.06171684e+07,  8.06166442e+07,\n",
       "         8.06188631e+07,  8.06165918e+07,  8.06197287e+07,\n",
       "         8.06200326e+07,  8.06163812e+07,  8.06229615e+07,\n",
       "         8.06194174e+07,  8.06207792e+07,  8.06208336e+07,\n",
       "         8.06115996e+07,  8.06161987e+07,  8.06227299e+07,\n",
       "         8.06207911e+07,  8.06235168e+07,  8.06228257e+07,\n",
       "         8.06194151e+07,  8.06250553e+07,  8.06200890e+07,\n",
       "         8.06229666e+07,  8.06188363e+07,  8.06298193e+07,\n",
       "         8.06224630e+07,  8.06180881e+07,  8.06253450e+07,\n",
       "         8.06231763e+07,  8.06187183e+07,  8.06190680e+07,\n",
       "         8.06220847e+07,  8.06140118e+07,  8.06184038e+07,\n",
       "         8.06182090e+07,  8.06201403e+07,  8.06209366e+07,\n",
       "         8.06177881e+07,  8.06185835e+07,  8.06190426e+07,\n",
       "         8.06210869e+07,  8.06189889e+07,  8.06201659e+07,\n",
       "         8.06204123e+07,  8.06207019e+07,  8.06194389e+07,\n",
       "         8.06225642e+07,  8.06170937e+07,  8.06195779e+07,\n",
       "         8.06202154e+07,  8.06211863e+07,  8.06140889e+07,\n",
       "         8.06230278e+07,  8.06209702e+07,  8.06179671e+07,\n",
       "         8.06196700e+07,  8.06195325e+07,  8.06208219e+07,\n",
       "         8.06188875e+07,  8.06195870e+07,  8.06197954e+07,\n",
       "         8.06204470e+07,  8.06159837e+07,  8.06243902e+07,\n",
       "         8.06232606e+07,  8.06253635e+07,  8.06201763e+07,\n",
       "         8.06211626e+07,  8.06222105e+07,  8.06187557e+07,\n",
       "         1.77758107e+10,  1.77758044e+10,  1.77758045e+10,\n",
       "         1.77758030e+10,  1.77758036e+10,  1.77758029e+10,\n",
       "         2.24364644e+09,  2.24364270e+09,  2.24364343e+09,\n",
       "         2.24364215e+09,  2.24364784e+09,  2.24364026e+09,\n",
       "         2.24364220e+09,  2.24363909e+09,  2.24364237e+09,\n",
       "         2.24364235e+09,  2.24363714e+09,  2.24363838e+09,\n",
       "         2.24364033e+09,  2.24364216e+09,  2.24364077e+09,\n",
       "         2.24363625e+09,  2.24363645e+09,  2.24363876e+09,\n",
       "         2.24364083e+09,  2.24363894e+09,  2.24363745e+09,\n",
       "         2.24363892e+09,  2.24364420e+09,  2.24364007e+09,\n",
       "         2.24364349e+09,  2.24363880e+09,  2.24364200e+09,\n",
       "         2.24364192e+09,  2.24364267e+09,  2.24364151e+09,\n",
       "         2.24364192e+09,  2.24364261e+09,  2.24363782e+09,\n",
       "         2.24364221e+09,  2.24364277e+09,  2.24364343e+09,\n",
       "         2.24364366e+09,  2.24364030e+09,  2.24364551e+09,\n",
       "         2.24364263e+09,  2.24364459e+09,  2.24364375e+09,\n",
       "         2.24364511e+09,  2.24364131e+09,  2.24363868e+09,\n",
       "         2.24363735e+09,  2.24364256e+09,  2.24364319e+09,\n",
       "         2.24364600e+09,  2.24364523e+09,  2.24363841e+09,\n",
       "         2.24364159e+09,  2.24364135e+09,  2.24363834e+09,\n",
       "         2.24364385e+09,  2.24363979e+09,  2.24364274e+09,\n",
       "         2.24364297e+09,  2.24364585e+09,  2.24364146e+09,\n",
       "         2.24364638e+09,  2.24364404e+09,  2.24364112e+09,\n",
       "         2.24364001e+09,  2.24364366e+09,  2.24364401e+09,\n",
       "         2.24364486e+09,  2.24364830e+09,  2.24364304e+09,\n",
       "         2.24364960e+09,  2.24364201e+09,  2.24364091e+09,\n",
       "         2.24364702e+09,  2.24364802e+09,  2.24365009e+09,\n",
       "         2.24365206e+09,  2.24364374e+09,  2.24364788e+09,\n",
       "         2.24364999e+09,  2.24364374e+09,  2.24364520e+09,\n",
       "         2.24364411e+09,  2.24364538e+09,  2.24364231e+09,\n",
       "         2.24364401e+09,  2.24365007e+09,  2.24365178e+09,\n",
       "         2.24365155e+09,  2.24364707e+09,  2.24364667e+09,\n",
       "         2.24365298e+09,  2.24365205e+09,  2.24365250e+09,\n",
       "         2.24364838e+09,  2.24365266e+09,  2.24364849e+09,\n",
       "         2.24364583e+09,  2.24364218e+09,  2.24364903e+09,\n",
       "         2.24364576e+09,  2.24365268e+09,  2.24365380e+09,\n",
       "         2.24364723e+09,  2.24364949e+09,  2.24364384e+09,\n",
       "         2.24365047e+09,  3.78217503e+09,  3.78217834e+09,\n",
       "         3.78218055e+09,  3.78217532e+09,  3.78217445e+09,\n",
       "         3.78217717e+09,  3.78217654e+09,  3.78217299e+09,\n",
       "         3.78217494e+09,  3.78216962e+09,  3.78217615e+09,\n",
       "         3.78217883e+09,  3.78217640e+09,  3.78217510e+09,\n",
       "         3.78217664e+09,  3.78218764e+09,  3.78217665e+09,\n",
       "         3.78217590e+09,  3.78217501e+09,  3.78217802e+09,\n",
       "         3.78217708e+09,  3.78217403e+09,  3.78217736e+09,\n",
       "         3.78217389e+09,  3.78217284e+09,  3.78217566e+09,\n",
       "         3.78217974e+09,  3.78217505e+09,  3.78217641e+09,\n",
       "         1.38633798e+09,  1.38633921e+09,  1.38633920e+09,\n",
       "         1.38634073e+09,  1.38634105e+09,  1.38633964e+09,\n",
       "         1.38634132e+09,  1.38633808e+09,  1.38633556e+09,\n",
       "         1.38634076e+09,  1.38633946e+09,  1.38634113e+09,\n",
       "         1.38633823e+09,  1.38633874e+09,  1.38633961e+09,\n",
       "         1.38634190e+09,  1.38634030e+09,  1.38633901e+09,\n",
       "         1.38633589e+09,  1.38634057e+09,  1.38633896e+09,\n",
       "         1.38634002e+09,  1.38633938e+09,  1.38633903e+09,\n",
       "         1.38633844e+09,  1.38633961e+09,  1.38633968e+09,\n",
       "         1.38634066e+09,  1.38633817e+09,  1.38633946e+09,\n",
       "         1.38633918e+09,  1.38633869e+09, -5.39041332e+09,\n",
       "        -5.39041216e+09, -5.39041528e+09, -5.39041303e+09,\n",
       "        -5.39041094e+09, -5.39041201e+09, -5.39041696e+09,\n",
       "        -5.39041382e+09, -5.39041662e+09, -5.39040999e+09,\n",
       "        -5.39041365e+09, -5.39041535e+09, -5.39041376e+09,\n",
       "        -5.39041501e+09, -5.39040962e+09, -5.39041207e+09,\n",
       "        -5.39040883e+09, -5.39041294e+09, -5.39041229e+09,\n",
       "        -5.39041332e+09, -5.39041451e+09, -5.39041217e+09,\n",
       "        -5.39040925e+09, -5.39041167e+09, -5.39041456e+09,\n",
       "        -5.39041263e+09, -5.39041289e+09, -5.39041150e+09,\n",
       "        -5.39040618e+09, -5.39040741e+09, -5.39041238e+09,\n",
       "        -5.39041108e+09, -5.39041171e+09, -5.39041626e+09,\n",
       "        -5.39041127e+09, -5.39041149e+09,  3.21547225e+10,\n",
       "         3.21547244e+10]])"
      ]
     },
     "execution_count": 37,
     "metadata": {},
     "output_type": "execute_result"
    }
   ],
   "source": [
    "#find the slope\n",
    "lm.coef_"
   ]
  },
  {
   "cell_type": "code",
   "execution_count": 38,
   "id": "fae9e435",
   "metadata": {
    "execution": {
     "iopub.execute_input": "2024-06-15T04:17:54.800638Z",
     "iopub.status.busy": "2024-06-15T04:17:54.799775Z",
     "iopub.status.idle": "2024-06-15T04:17:54.807940Z",
     "shell.execute_reply": "2024-06-15T04:17:54.806487Z"
    },
    "papermill": {
     "duration": 0.034854,
     "end_time": "2024-06-15T04:17:54.810649",
     "exception": false,
     "start_time": "2024-06-15T04:17:54.775795",
     "status": "completed"
    },
    "tags": []
   },
   "outputs": [
    {
     "name": "stdout",
     "output_type": "stream",
     "text": [
      "Mean Squared Error (MSE): 93163025.59848437\n"
     ]
    }
   ],
   "source": [
    "#find the MSE\n",
    "from sklearn.metrics import mean_squared_error\n",
    "\n",
    "# Calculate the mean squared error\n",
    "mse = mean_squared_error(y, yhat)\n",
    "\n",
    "# Print the MSE\n",
    "print(\"Mean Squared Error (MSE):\", mse)\n"
   ]
  },
  {
   "cell_type": "code",
   "execution_count": 39,
   "id": "fe4b95b9",
   "metadata": {
    "execution": {
     "iopub.execute_input": "2024-06-15T04:17:54.858037Z",
     "iopub.status.busy": "2024-06-15T04:17:54.857190Z",
     "iopub.status.idle": "2024-06-15T04:17:54.864264Z",
     "shell.execute_reply": "2024-06-15T04:17:54.863268Z"
    },
    "papermill": {
     "duration": 0.033663,
     "end_time": "2024-06-15T04:17:54.866873",
     "exception": false,
     "start_time": "2024-06-15T04:17:54.833210",
     "status": "completed"
    },
    "tags": []
   },
   "outputs": [
    {
     "data": {
      "text/plain": [
       "9652.099543544107"
      ]
     },
     "execution_count": 39,
     "metadata": {},
     "output_type": "execute_result"
    }
   ],
   "source": [
    "#find the RMSE\n",
    "rmse = np.sqrt(mse)\n",
    "rmse"
   ]
  },
  {
   "cell_type": "code",
   "execution_count": 40,
   "id": "bb99b103",
   "metadata": {
    "execution": {
     "iopub.execute_input": "2024-06-15T04:17:54.914438Z",
     "iopub.status.busy": "2024-06-15T04:17:54.914039Z",
     "iopub.status.idle": "2024-06-15T04:17:54.923732Z",
     "shell.execute_reply": "2024-06-15T04:17:54.922615Z"
    },
    "papermill": {
     "duration": 0.036283,
     "end_time": "2024-06-15T04:17:54.926064",
     "exception": false,
     "start_time": "2024-06-15T04:17:54.889781",
     "status": "completed"
    },
    "tags": []
   },
   "outputs": [
    {
     "data": {
      "text/plain": [
       "0.6073775536095762"
      ]
     },
     "execution_count": 40,
     "metadata": {},
     "output_type": "execute_result"
    }
   ],
   "source": [
    "#find rscore\n",
    "from sklearn.metrics import r2_score\n",
    "r2_score(y, yhat)"
   ]
  },
  {
   "cell_type": "markdown",
   "id": "b1675828",
   "metadata": {
    "papermill": {
     "duration": 0.022534,
     "end_time": "2024-06-15T04:17:54.971456",
     "exception": false,
     "start_time": "2024-06-15T04:17:54.948922",
     "status": "completed"
    },
    "tags": []
   },
   "source": [
    "# Validation with test data"
   ]
  },
  {
   "cell_type": "code",
   "execution_count": 41,
   "id": "d8f71535",
   "metadata": {
    "execution": {
     "iopub.execute_input": "2024-06-15T04:17:55.019278Z",
     "iopub.status.busy": "2024-06-15T04:17:55.018543Z",
     "iopub.status.idle": "2024-06-15T04:17:55.042920Z",
     "shell.execute_reply": "2024-06-15T04:17:55.041661Z"
    },
    "papermill": {
     "duration": 0.052897,
     "end_time": "2024-06-15T04:17:55.047191",
     "exception": false,
     "start_time": "2024-06-15T04:17:54.994294",
     "status": "completed"
    },
    "tags": []
   },
   "outputs": [
    {
     "data": {
      "text/html": [
       "<div>\n",
       "<style scoped>\n",
       "    .dataframe tbody tr th:only-of-type {\n",
       "        vertical-align: middle;\n",
       "    }\n",
       "\n",
       "    .dataframe tbody tr th {\n",
       "        vertical-align: top;\n",
       "    }\n",
       "\n",
       "    .dataframe thead th {\n",
       "        text-align: right;\n",
       "    }\n",
       "</style>\n",
       "<table border=\"1\" class=\"dataframe\">\n",
       "  <thead>\n",
       "    <tr style=\"text-align: right;\">\n",
       "      <th></th>\n",
       "      <th>brand</th>\n",
       "      <th>model</th>\n",
       "      <th>model_year</th>\n",
       "      <th>milage</th>\n",
       "      <th>fuel_type</th>\n",
       "      <th>engine</th>\n",
       "      <th>transmission</th>\n",
       "      <th>ext_col</th>\n",
       "      <th>int_col</th>\n",
       "      <th>accident</th>\n",
       "      <th>clean_title</th>\n",
       "    </tr>\n",
       "    <tr>\n",
       "      <th>id</th>\n",
       "      <th></th>\n",
       "      <th></th>\n",
       "      <th></th>\n",
       "      <th></th>\n",
       "      <th></th>\n",
       "      <th></th>\n",
       "      <th></th>\n",
       "      <th></th>\n",
       "      <th></th>\n",
       "      <th></th>\n",
       "      <th></th>\n",
       "    </tr>\n",
       "  </thead>\n",
       "  <tbody>\n",
       "    <tr>\n",
       "      <th>54273</th>\n",
       "      <td>Mercedes-Benz</td>\n",
       "      <td>E-Class E 350</td>\n",
       "      <td>2014</td>\n",
       "      <td>73000</td>\n",
       "      <td>Gasoline</td>\n",
       "      <td>302.0HP 3.5L V6 Cylinder Engine Gasoline Fuel</td>\n",
       "      <td>A/T</td>\n",
       "      <td>White</td>\n",
       "      <td>Beige</td>\n",
       "      <td>None reported</td>\n",
       "      <td>Yes</td>\n",
       "    </tr>\n",
       "    <tr>\n",
       "      <th>54274</th>\n",
       "      <td>Lexus</td>\n",
       "      <td>RX 350 Base</td>\n",
       "      <td>2015</td>\n",
       "      <td>128032</td>\n",
       "      <td>Gasoline</td>\n",
       "      <td>275.0HP 3.5L V6 Cylinder Engine Gasoline Fuel</td>\n",
       "      <td>8-Speed A/T</td>\n",
       "      <td>Silver</td>\n",
       "      <td>Black</td>\n",
       "      <td>None reported</td>\n",
       "      <td>Yes</td>\n",
       "    </tr>\n",
       "    <tr>\n",
       "      <th>54275</th>\n",
       "      <td>Mercedes-Benz</td>\n",
       "      <td>C-Class C 300</td>\n",
       "      <td>2015</td>\n",
       "      <td>51983</td>\n",
       "      <td>Gasoline</td>\n",
       "      <td>241.0HP 2.0L 4 Cylinder Engine Gasoline Fuel</td>\n",
       "      <td>7-Speed A/T</td>\n",
       "      <td>Blue</td>\n",
       "      <td>White</td>\n",
       "      <td>None reported</td>\n",
       "      <td>Yes</td>\n",
       "    </tr>\n",
       "    <tr>\n",
       "      <th>54276</th>\n",
       "      <td>Land</td>\n",
       "      <td>Rover Range Rover 5.0L Supercharged Autobiogra...</td>\n",
       "      <td>2018</td>\n",
       "      <td>29500</td>\n",
       "      <td>Gasoline</td>\n",
       "      <td>518.0HP 5.0L 8 Cylinder Engine Gasoline Fuel</td>\n",
       "      <td>Transmission w/Dual Shift Mode</td>\n",
       "      <td>White</td>\n",
       "      <td>White</td>\n",
       "      <td>At least 1 accident or damage reported</td>\n",
       "      <td>Yes</td>\n",
       "    </tr>\n",
       "    <tr>\n",
       "      <th>54277</th>\n",
       "      <td>BMW</td>\n",
       "      <td>X6 xDrive40i</td>\n",
       "      <td>2020</td>\n",
       "      <td>90000</td>\n",
       "      <td>Gasoline</td>\n",
       "      <td>335.0HP 3.0L Straight 6 Cylinder Engine Gasoli...</td>\n",
       "      <td>8-Speed A/T</td>\n",
       "      <td>White</td>\n",
       "      <td>Black</td>\n",
       "      <td>At least 1 accident or damage reported</td>\n",
       "      <td>Yes</td>\n",
       "    </tr>\n",
       "    <tr>\n",
       "      <th>...</th>\n",
       "      <td>...</td>\n",
       "      <td>...</td>\n",
       "      <td>...</td>\n",
       "      <td>...</td>\n",
       "      <td>...</td>\n",
       "      <td>...</td>\n",
       "      <td>...</td>\n",
       "      <td>...</td>\n",
       "      <td>...</td>\n",
       "      <td>...</td>\n",
       "      <td>...</td>\n",
       "    </tr>\n",
       "    <tr>\n",
       "      <th>90451</th>\n",
       "      <td>GMC</td>\n",
       "      <td>Yukon Denali</td>\n",
       "      <td>2019</td>\n",
       "      <td>4500</td>\n",
       "      <td>Gasoline</td>\n",
       "      <td>420.0HP 6.2L 8 Cylinder Engine Gasoline Fuel</td>\n",
       "      <td>10-Speed A/T</td>\n",
       "      <td>Gray</td>\n",
       "      <td>Black</td>\n",
       "      <td>None reported</td>\n",
       "      <td>Yes</td>\n",
       "    </tr>\n",
       "    <tr>\n",
       "      <th>90452</th>\n",
       "      <td>Chevrolet</td>\n",
       "      <td>Silverado 1500 Z71 Extended Cab</td>\n",
       "      <td>2004</td>\n",
       "      <td>185000</td>\n",
       "      <td>Gasoline</td>\n",
       "      <td>295.0HP 5.3L 8 Cylinder Engine Gasoline Fuel</td>\n",
       "      <td>4-Speed A/T</td>\n",
       "      <td>Red</td>\n",
       "      <td>Gray</td>\n",
       "      <td>At least 1 accident or damage reported</td>\n",
       "      <td>Yes</td>\n",
       "    </tr>\n",
       "    <tr>\n",
       "      <th>90453</th>\n",
       "      <td>Toyota</td>\n",
       "      <td>Corolla LE</td>\n",
       "      <td>2011</td>\n",
       "      <td>116000</td>\n",
       "      <td>Gasoline</td>\n",
       "      <td>132.0HP 1.8L 4 Cylinder Engine Gasoline Fuel</td>\n",
       "      <td>5-Speed M/T</td>\n",
       "      <td>Beige</td>\n",
       "      <td>Gray</td>\n",
       "      <td>None reported</td>\n",
       "      <td>Yes</td>\n",
       "    </tr>\n",
       "    <tr>\n",
       "      <th>90454</th>\n",
       "      <td>Lincoln</td>\n",
       "      <td>Navigator Reserve</td>\n",
       "      <td>2019</td>\n",
       "      <td>39000</td>\n",
       "      <td>Gasoline</td>\n",
       "      <td>450.0HP 3.5L V6 Cylinder Engine Gasoline Fuel</td>\n",
       "      <td>10-Speed A/T</td>\n",
       "      <td>Black</td>\n",
       "      <td>Orange</td>\n",
       "      <td>None reported</td>\n",
       "      <td>Yes</td>\n",
       "    </tr>\n",
       "    <tr>\n",
       "      <th>90455</th>\n",
       "      <td>Chevrolet</td>\n",
       "      <td>Tahoe LT</td>\n",
       "      <td>2012</td>\n",
       "      <td>162731</td>\n",
       "      <td>E85 Flex Fuel</td>\n",
       "      <td>320.0HP 5.3L 8 Cylinder Engine Flex Fuel Capab...</td>\n",
       "      <td>A/T</td>\n",
       "      <td>Black</td>\n",
       "      <td>Black</td>\n",
       "      <td>At least 1 accident or damage reported</td>\n",
       "      <td>Yes</td>\n",
       "    </tr>\n",
       "  </tbody>\n",
       "</table>\n",
       "<p>36183 rows × 11 columns</p>\n",
       "</div>"
      ],
      "text/plain": [
       "               brand                                              model  \\\n",
       "id                                                                        \n",
       "54273  Mercedes-Benz                                      E-Class E 350   \n",
       "54274          Lexus                                        RX 350 Base   \n",
       "54275  Mercedes-Benz                                      C-Class C 300   \n",
       "54276           Land  Rover Range Rover 5.0L Supercharged Autobiogra...   \n",
       "54277            BMW                                       X6 xDrive40i   \n",
       "...              ...                                                ...   \n",
       "90451            GMC                                       Yukon Denali   \n",
       "90452      Chevrolet                    Silverado 1500 Z71 Extended Cab   \n",
       "90453         Toyota                                         Corolla LE   \n",
       "90454        Lincoln                                  Navigator Reserve   \n",
       "90455      Chevrolet                                           Tahoe LT   \n",
       "\n",
       "       model_year  milage      fuel_type  \\\n",
       "id                                         \n",
       "54273        2014   73000       Gasoline   \n",
       "54274        2015  128032       Gasoline   \n",
       "54275        2015   51983       Gasoline   \n",
       "54276        2018   29500       Gasoline   \n",
       "54277        2020   90000       Gasoline   \n",
       "...           ...     ...            ...   \n",
       "90451        2019    4500       Gasoline   \n",
       "90452        2004  185000       Gasoline   \n",
       "90453        2011  116000       Gasoline   \n",
       "90454        2019   39000       Gasoline   \n",
       "90455        2012  162731  E85 Flex Fuel   \n",
       "\n",
       "                                                  engine  \\\n",
       "id                                                         \n",
       "54273      302.0HP 3.5L V6 Cylinder Engine Gasoline Fuel   \n",
       "54274      275.0HP 3.5L V6 Cylinder Engine Gasoline Fuel   \n",
       "54275       241.0HP 2.0L 4 Cylinder Engine Gasoline Fuel   \n",
       "54276       518.0HP 5.0L 8 Cylinder Engine Gasoline Fuel   \n",
       "54277  335.0HP 3.0L Straight 6 Cylinder Engine Gasoli...   \n",
       "...                                                  ...   \n",
       "90451       420.0HP 6.2L 8 Cylinder Engine Gasoline Fuel   \n",
       "90452       295.0HP 5.3L 8 Cylinder Engine Gasoline Fuel   \n",
       "90453       132.0HP 1.8L 4 Cylinder Engine Gasoline Fuel   \n",
       "90454      450.0HP 3.5L V6 Cylinder Engine Gasoline Fuel   \n",
       "90455  320.0HP 5.3L 8 Cylinder Engine Flex Fuel Capab...   \n",
       "\n",
       "                         transmission ext_col int_col  \\\n",
       "id                                                      \n",
       "54273                             A/T   White   Beige   \n",
       "54274                     8-Speed A/T  Silver   Black   \n",
       "54275                     7-Speed A/T    Blue   White   \n",
       "54276  Transmission w/Dual Shift Mode   White   White   \n",
       "54277                     8-Speed A/T   White   Black   \n",
       "...                               ...     ...     ...   \n",
       "90451                    10-Speed A/T    Gray   Black   \n",
       "90452                     4-Speed A/T     Red    Gray   \n",
       "90453                     5-Speed M/T   Beige    Gray   \n",
       "90454                    10-Speed A/T   Black  Orange   \n",
       "90455                             A/T   Black   Black   \n",
       "\n",
       "                                     accident clean_title  \n",
       "id                                                         \n",
       "54273                           None reported         Yes  \n",
       "54274                           None reported         Yes  \n",
       "54275                           None reported         Yes  \n",
       "54276  At least 1 accident or damage reported         Yes  \n",
       "54277  At least 1 accident or damage reported         Yes  \n",
       "...                                       ...         ...  \n",
       "90451                           None reported         Yes  \n",
       "90452  At least 1 accident or damage reported         Yes  \n",
       "90453                           None reported         Yes  \n",
       "90454                           None reported         Yes  \n",
       "90455  At least 1 accident or damage reported         Yes  \n",
       "\n",
       "[36183 rows x 11 columns]"
      ]
     },
     "execution_count": 41,
     "metadata": {},
     "output_type": "execute_result"
    }
   ],
   "source": [
    "test_df\n"
   ]
  },
  {
   "cell_type": "code",
   "execution_count": 42,
   "id": "2997e676",
   "metadata": {
    "execution": {
     "iopub.execute_input": "2024-06-15T04:17:55.096842Z",
     "iopub.status.busy": "2024-06-15T04:17:55.095976Z",
     "iopub.status.idle": "2024-06-15T04:17:55.107788Z",
     "shell.execute_reply": "2024-06-15T04:17:55.106716Z"
    },
    "papermill": {
     "duration": 0.03928,
     "end_time": "2024-06-15T04:17:55.110241",
     "exception": false,
     "start_time": "2024-06-15T04:17:55.070961",
     "status": "completed"
    },
    "tags": []
   },
   "outputs": [
    {
     "data": {
      "text/html": [
       "<div>\n",
       "<style scoped>\n",
       "    .dataframe tbody tr th:only-of-type {\n",
       "        vertical-align: middle;\n",
       "    }\n",
       "\n",
       "    .dataframe tbody tr th {\n",
       "        vertical-align: top;\n",
       "    }\n",
       "\n",
       "    .dataframe thead th {\n",
       "        text-align: right;\n",
       "    }\n",
       "</style>\n",
       "<table border=\"1\" class=\"dataframe\">\n",
       "  <thead>\n",
       "    <tr style=\"text-align: right;\">\n",
       "      <th></th>\n",
       "      <th>price</th>\n",
       "    </tr>\n",
       "    <tr>\n",
       "      <th>id</th>\n",
       "      <th></th>\n",
       "    </tr>\n",
       "  </thead>\n",
       "  <tbody>\n",
       "    <tr>\n",
       "      <th>54273</th>\n",
       "      <td>39218.443</td>\n",
       "    </tr>\n",
       "    <tr>\n",
       "      <th>54274</th>\n",
       "      <td>39218.443</td>\n",
       "    </tr>\n",
       "    <tr>\n",
       "      <th>54275</th>\n",
       "      <td>39218.443</td>\n",
       "    </tr>\n",
       "    <tr>\n",
       "      <th>54276</th>\n",
       "      <td>39218.443</td>\n",
       "    </tr>\n",
       "    <tr>\n",
       "      <th>54277</th>\n",
       "      <td>39218.443</td>\n",
       "    </tr>\n",
       "    <tr>\n",
       "      <th>...</th>\n",
       "      <td>...</td>\n",
       "    </tr>\n",
       "    <tr>\n",
       "      <th>90451</th>\n",
       "      <td>39218.443</td>\n",
       "    </tr>\n",
       "    <tr>\n",
       "      <th>90452</th>\n",
       "      <td>39218.443</td>\n",
       "    </tr>\n",
       "    <tr>\n",
       "      <th>90453</th>\n",
       "      <td>39218.443</td>\n",
       "    </tr>\n",
       "    <tr>\n",
       "      <th>90454</th>\n",
       "      <td>39218.443</td>\n",
       "    </tr>\n",
       "    <tr>\n",
       "      <th>90455</th>\n",
       "      <td>39218.443</td>\n",
       "    </tr>\n",
       "  </tbody>\n",
       "</table>\n",
       "<p>36183 rows × 1 columns</p>\n",
       "</div>"
      ],
      "text/plain": [
       "           price\n",
       "id              \n",
       "54273  39218.443\n",
       "54274  39218.443\n",
       "54275  39218.443\n",
       "54276  39218.443\n",
       "54277  39218.443\n",
       "...          ...\n",
       "90451  39218.443\n",
       "90452  39218.443\n",
       "90453  39218.443\n",
       "90454  39218.443\n",
       "90455  39218.443\n",
       "\n",
       "[36183 rows x 1 columns]"
      ]
     },
     "execution_count": 42,
     "metadata": {},
     "output_type": "execute_result"
    }
   ],
   "source": [
    "submission_df"
   ]
  }
 ],
 "metadata": {
  "kaggle": {
   "accelerator": "none",
   "dataSources": [
    {
     "datasetId": 5130497,
     "sourceId": 8579062,
     "sourceType": "datasetVersion"
    }
   ],
   "dockerImageVersionId": 30715,
   "isGpuEnabled": false,
   "isInternetEnabled": true,
   "language": "python",
   "sourceType": "notebook"
  },
  "kernelspec": {
   "display_name": "Python 3",
   "language": "python",
   "name": "python3"
  },
  "language_info": {
   "codemirror_mode": {
    "name": "ipython",
    "version": 3
   },
   "file_extension": ".py",
   "mimetype": "text/x-python",
   "name": "python",
   "nbconvert_exporter": "python",
   "pygments_lexer": "ipython3",
   "version": "3.10.13"
  },
  "papermill": {
   "default_parameters": {},
   "duration": 41.276645,
   "end_time": "2024-06-15T04:17:55.755693",
   "environment_variables": {},
   "exception": null,
   "input_path": "__notebook__.ipynb",
   "output_path": "__notebook__.ipynb",
   "parameters": {},
   "start_time": "2024-06-15T04:17:14.479048",
   "version": "2.5.0"
  }
 },
 "nbformat": 4,
 "nbformat_minor": 5
}
