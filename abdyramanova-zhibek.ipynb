{
 "cells": [
  {
   "cell_type": "code",
   "execution_count": 1,
   "id": "45234e9f",
   "metadata": {
    "_cell_guid": "b1076dfc-b9ad-4769-8c92-a6c4dae69d19",
    "_uuid": "8f2839f25d086af736a60e9eeb907d3b93b6e0e5",
    "execution": {
     "iopub.execute_input": "2024-06-13T05:16:50.741662Z",
     "iopub.status.busy": "2024-06-13T05:16:50.741228Z",
     "iopub.status.idle": "2024-06-13T05:16:53.345423Z",
     "shell.execute_reply": "2024-06-13T05:16:53.343804Z"
    },
    "papermill": {
     "duration": 2.62196,
     "end_time": "2024-06-13T05:16:53.348321",
     "exception": false,
     "start_time": "2024-06-13T05:16:50.726361",
     "status": "completed"
    },
    "tags": []
   },
   "outputs": [
    {
     "name": "stdout",
     "output_type": "stream",
     "text": [
      "/kaggle/input/kagglexfellowship/kagglex-cohort4/sample_submission.csv\n",
      "/kaggle/input/kagglexfellowship/kagglex-cohort4/train.csv\n",
      "/kaggle/input/kagglexfellowship/kagglex-cohort4/test.csv\n"
     ]
    }
   ],
   "source": [
    "# This Python 3 environment comes with many helpful analytics libraries installed\n",
    "# It is defined by the kaggle/python Docker image: https://github.com/kaggle/docker-python\n",
    "# For example, here's several helpful packages to load\n",
    "\n",
    "import numpy as np # linear algebra\n",
    "import pandas as pd # data processing, CSV file I/O (e.g. pd.read_csv)\n",
    "import seaborn as sns\n",
    "import matplotlib.pyplot as plt\n",
    "\n",
    "# Input data files are available in the read-only \"../input/\" directory\n",
    "# For example, running this (by clicking run or pressing Shift+Enter) will list all files under the input directory\n",
    "\n",
    "import os\n",
    "for dirname, _, filenames in os.walk('/kaggle/input'):\n",
    "    for filename in filenames:\n",
    "        print(os.path.join(dirname, filename))\n",
    "\n",
    "# You can write up to 20GB to the current directory (/kaggle/working/) that gets preserved as output when you create a version using \"Save & Run All\" \n",
    "# You can also write temporary files to /kaggle/temp/, but they won't be saved outside of the current session"
   ]
  },
  {
   "cell_type": "code",
   "execution_count": 2,
   "id": "a4c8f21f",
   "metadata": {
    "execution": {
     "iopub.execute_input": "2024-06-13T05:16:53.375342Z",
     "iopub.status.busy": "2024-06-13T05:16:53.374810Z",
     "iopub.status.idle": "2024-06-13T05:16:53.907604Z",
     "shell.execute_reply": "2024-06-13T05:16:53.906282Z"
    },
    "papermill": {
     "duration": 0.550104,
     "end_time": "2024-06-13T05:16:53.910925",
     "exception": false,
     "start_time": "2024-06-13T05:16:53.360821",
     "status": "completed"
    },
    "tags": []
   },
   "outputs": [],
   "source": [
    "#  Import and read the data and assign ID column as labels\n",
    "train = pd.read_csv('/kaggle/input/kagglexfellowship/kagglex-cohort4/train.csv')\n",
    "test=pd.read_csv('/kaggle/input/kagglexfellowship/kagglex-cohort4/test.csv')\n",
    "subm=pd.read_csv('/kaggle/input/kagglexfellowship/kagglex-cohort4/sample_submission.csv')\n"
   ]
  },
  {
   "cell_type": "code",
   "execution_count": 3,
   "id": "3bb710e0",
   "metadata": {
    "execution": {
     "iopub.execute_input": "2024-06-13T05:16:53.938164Z",
     "iopub.status.busy": "2024-06-13T05:16:53.937760Z",
     "iopub.status.idle": "2024-06-13T05:16:53.956704Z",
     "shell.execute_reply": "2024-06-13T05:16:53.955554Z"
    },
    "papermill": {
     "duration": 0.036156,
     "end_time": "2024-06-13T05:16:53.959749",
     "exception": false,
     "start_time": "2024-06-13T05:16:53.923593",
     "status": "completed"
    },
    "tags": []
   },
   "outputs": [],
   "source": [
    "#Drop the non-beneficial ID columns\n",
    "def set_index (df):\n",
    "    df.set_index('id', inplace=True)\n",
    "    return df\n",
    "\n",
    "train_df=set_index(train)\n",
    "test_df=set_index(test)\n",
    "submission_df=set_index(subm)\n"
   ]
  },
  {
   "cell_type": "markdown",
   "id": "251ff533",
   "metadata": {
    "papermill": {
     "duration": 0.012373,
     "end_time": "2024-06-13T05:16:53.984739",
     "exception": false,
     "start_time": "2024-06-13T05:16:53.972366",
     "status": "completed"
    },
    "tags": []
   },
   "source": [
    "# Data Exploration"
   ]
  },
  {
   "cell_type": "code",
   "execution_count": 4,
   "id": "d2390bc0",
   "metadata": {
    "execution": {
     "iopub.execute_input": "2024-06-13T05:16:54.018001Z",
     "iopub.status.busy": "2024-06-13T05:16:54.017602Z",
     "iopub.status.idle": "2024-06-13T05:16:54.085763Z",
     "shell.execute_reply": "2024-06-13T05:16:54.084479Z"
    },
    "papermill": {
     "duration": 0.092003,
     "end_time": "2024-06-13T05:16:54.089600",
     "exception": false,
     "start_time": "2024-06-13T05:16:53.997597",
     "status": "completed"
    },
    "tags": []
   },
   "outputs": [
    {
     "data": {
      "text/plain": [
       "brand             53\n",
       "model           1827\n",
       "model_year        34\n",
       "milage          3212\n",
       "fuel_type          7\n",
       "engine          1061\n",
       "transmission      46\n",
       "ext_col          260\n",
       "int_col          124\n",
       "accident           2\n",
       "clean_title        1\n",
       "price           1481\n",
       "dtype: int64"
      ]
     },
     "execution_count": 4,
     "metadata": {},
     "output_type": "execute_result"
    }
   ],
   "source": [
    "#Determine the number of unique values in each column.\n",
    "unique_counts = train_df.nunique()\n",
    "unique_counts"
   ]
  },
  {
   "cell_type": "code",
   "execution_count": 5,
   "id": "64568052",
   "metadata": {
    "execution": {
     "iopub.execute_input": "2024-06-13T05:16:54.120538Z",
     "iopub.status.busy": "2024-06-13T05:16:54.119354Z",
     "iopub.status.idle": "2024-06-13T05:16:54.130050Z",
     "shell.execute_reply": "2024-06-13T05:16:54.128477Z"
    },
    "papermill": {
     "duration": 0.029748,
     "end_time": "2024-06-13T05:16:54.133308",
     "exception": false,
     "start_time": "2024-06-13T05:16:54.103560",
     "status": "completed"
    },
    "tags": []
   },
   "outputs": [
    {
     "data": {
      "text/plain": [
       "brand           object\n",
       "model           object\n",
       "model_year       int64\n",
       "milage           int64\n",
       "fuel_type       object\n",
       "engine          object\n",
       "transmission    object\n",
       "ext_col         object\n",
       "int_col         object\n",
       "accident        object\n",
       "clean_title     object\n",
       "price            int64\n",
       "dtype: object"
      ]
     },
     "execution_count": 5,
     "metadata": {},
     "output_type": "execute_result"
    }
   ],
   "source": [
    "# Checking the datatypes\n",
    "train_df.dtypes"
   ]
  },
  {
   "cell_type": "code",
   "execution_count": 6,
   "id": "f638614e",
   "metadata": {
    "execution": {
     "iopub.execute_input": "2024-06-13T05:16:54.161452Z",
     "iopub.status.busy": "2024-06-13T05:16:54.160933Z",
     "iopub.status.idle": "2024-06-13T05:16:54.182588Z",
     "shell.execute_reply": "2024-06-13T05:16:54.181111Z"
    },
    "papermill": {
     "duration": 0.038649,
     "end_time": "2024-06-13T05:16:54.185458",
     "exception": false,
     "start_time": "2024-06-13T05:16:54.146809",
     "status": "completed"
    },
    "tags": []
   },
   "outputs": [
    {
     "data": {
      "text/plain": [
       "<bound method DataFrame.info of          brand                             model  model_year  milage  \\\n",
       "id                                                                     \n",
       "0         Ford                      F-150 Lariat        2018   74349   \n",
       "1          BMW                             335 i        2007   80000   \n",
       "2       Jaguar                         XF Luxury        2009   91491   \n",
       "3          BMW                      X7 xDrive40i        2022    2437   \n",
       "4      Pontiac                     Firebird Base        2001  111000   \n",
       "...        ...                               ...         ...     ...   \n",
       "54268      BMW                      X6 xDrive50i        2017   29000   \n",
       "54269     Audi                   A4 2.0T Premium        2015   94634   \n",
       "54270  Porsche                         Cayenne S        2013   40989   \n",
       "54271  Porsche                 911 Carrera 4 GTS        2023    1518   \n",
       "54272     Audi  A5 Sportback S line Premium Plus        2021   35000   \n",
       "\n",
       "           fuel_type                                             engine  \\\n",
       "id                                                                        \n",
       "0           Gasoline      375.0HP 3.5L V6 Cylinder Engine Gasoline Fuel   \n",
       "1           Gasoline  300.0HP 3.0L Straight 6 Cylinder Engine Gasoli...   \n",
       "2           Gasoline       300.0HP 4.2L 8 Cylinder Engine Gasoline Fuel   \n",
       "3             Hybrid  335.0HP 3.0L Straight 6 Cylinder Engine Gasoli...   \n",
       "4           Gasoline      200.0HP 3.8L V6 Cylinder Engine Gasoline Fuel   \n",
       "...              ...                                                ...   \n",
       "54268       Gasoline       445.0HP 4.4L 8 Cylinder Engine Gasoline Fuel   \n",
       "54269  E85 Flex Fuel  220.0HP 2.0L 4 Cylinder Engine Flex Fuel Capab...   \n",
       "54270       Gasoline      420.0HP 3.6L V6 Cylinder Engine Gasoline Fuel   \n",
       "54271       Gasoline                               4.0L H6 24V GDI DOHC   \n",
       "54272         Hybrid  261.0HP 2.0L 4 Cylinder Engine Gasoline/Mild E...   \n",
       "\n",
       "                            transmission ext_col int_col  \\\n",
       "id                                                         \n",
       "0                           10-Speed A/T    Blue    Gray   \n",
       "1                            6-Speed M/T   Black   Black   \n",
       "2                            6-Speed A/T  Purple   Beige   \n",
       "3         Transmission w/Dual Shift Mode    Gray   Brown   \n",
       "4                                    A/T   White   Black   \n",
       "...                                  ...     ...     ...   \n",
       "54268                        8-Speed A/T   White   Brown   \n",
       "54269                        6-Speed A/T   Black   Black   \n",
       "54270     Transmission w/Dual Shift Mode   White   Black   \n",
       "54271  8-Speed Automatic with Auto-Shift   Beige   Brown   \n",
       "54272                        8-Speed A/T   Black   Black   \n",
       "\n",
       "                                     accident clean_title   price  \n",
       "id                                                                 \n",
       "0                               None reported         Yes   11000  \n",
       "1                               None reported         Yes    8250  \n",
       "2                               None reported         Yes   15000  \n",
       "3                               None reported         Yes   63500  \n",
       "4                               None reported         Yes    7850  \n",
       "...                                       ...         ...     ...  \n",
       "54268                           None reported         Yes   29000  \n",
       "54269  At least 1 accident or damage reported         Yes    6500  \n",
       "54270  At least 1 accident or damage reported         Yes   18950  \n",
       "54271                           None reported         Yes  194965  \n",
       "54272                           None reported         Yes   37499  \n",
       "\n",
       "[54273 rows x 12 columns]>"
      ]
     },
     "execution_count": 6,
     "metadata": {},
     "output_type": "execute_result"
    }
   ],
   "source": [
    "train_df.info"
   ]
  },
  {
   "cell_type": "code",
   "execution_count": 7,
   "id": "573614b7",
   "metadata": {
    "execution": {
     "iopub.execute_input": "2024-06-13T05:16:54.213603Z",
     "iopub.status.busy": "2024-06-13T05:16:54.213094Z",
     "iopub.status.idle": "2024-06-13T05:16:54.277477Z",
     "shell.execute_reply": "2024-06-13T05:16:54.276297Z"
    },
    "papermill": {
     "duration": 0.081786,
     "end_time": "2024-06-13T05:16:54.280343",
     "exception": false,
     "start_time": "2024-06-13T05:16:54.198557",
     "status": "completed"
    },
    "tags": []
   },
   "outputs": [
    {
     "data": {
      "text/plain": [
       "brand           0\n",
       "model           0\n",
       "model_year      0\n",
       "milage          0\n",
       "fuel_type       0\n",
       "engine          0\n",
       "transmission    0\n",
       "ext_col         0\n",
       "int_col         0\n",
       "accident        0\n",
       "clean_title     0\n",
       "price           0\n",
       "dtype: int64"
      ]
     },
     "execution_count": 7,
     "metadata": {},
     "output_type": "execute_result"
    }
   ],
   "source": [
    "#Lets look for the total number of NaN values for each feature\n",
    "train_df.isnull().sum()"
   ]
  },
  {
   "cell_type": "code",
   "execution_count": 8,
   "id": "e1906011",
   "metadata": {
    "execution": {
     "iopub.execute_input": "2024-06-13T05:16:54.310796Z",
     "iopub.status.busy": "2024-06-13T05:16:54.310285Z",
     "iopub.status.idle": "2024-06-13T05:16:54.921927Z",
     "shell.execute_reply": "2024-06-13T05:16:54.920492Z"
    },
    "papermill": {
     "duration": 0.630235,
     "end_time": "2024-06-13T05:16:54.924825",
     "exception": false,
     "start_time": "2024-06-13T05:16:54.294590",
     "status": "completed"
    },
    "tags": []
   },
   "outputs": [
    {
     "name": "stderr",
     "output_type": "stream",
     "text": [
      "/opt/conda/lib/python3.10/site-packages/seaborn/_oldcore.py:1119: FutureWarning: use_inf_as_na option is deprecated and will be removed in a future version. Convert inf values to NaN before operating instead.\n",
      "  with pd.option_context('mode.use_inf_as_na', True):\n",
      "/opt/conda/lib/python3.10/site-packages/seaborn/_oldcore.py:1119: FutureWarning: use_inf_as_na option is deprecated and will be removed in a future version. Convert inf values to NaN before operating instead.\n",
      "  with pd.option_context('mode.use_inf_as_na', True):\n",
      "/opt/conda/lib/python3.10/site-packages/seaborn/_oldcore.py:1075: FutureWarning: When grouping with a length-1 list-like, you will need to pass a length-1 tuple to get_group in a future version of pandas. Pass `(name,)` instead of `name` to silence this warning.\n",
      "  data_subset = grouped_data.get_group(pd_key)\n"
     ]
    },
    {
     "data": {
      "image/png": "[encoded data removed]",
      "text/plain": [
       "<Figure size 800x600 with 1 Axes>"
      ]
     },
     "metadata": {},
     "output_type": "display_data"
    }
   ],
   "source": [
    "# Create a strip plot for the 'price' variable\n",
    "plt.figure(figsize=(8, 6))\n",
    "sns.stripplot(data=train_df, y='price', jitter=True, color='purple', alpha=0.5)\n",
    "plt.title('Strip Plot: Price Distribution')\n",
    "plt.ylabel('Price')\n",
    "plt.grid(True)\n",
    "plt.show()"
   ]
  },
  {
   "cell_type": "markdown",
   "id": "e5761f53",
   "metadata": {
    "papermill": {
     "duration": 0.014018,
     "end_time": "2024-06-13T05:16:54.953202",
     "exception": false,
     "start_time": "2024-06-13T05:16:54.939184",
     "status": "completed"
    },
    "tags": []
   },
   "source": [
    "Above Histogram shows that most cars lie in the lower range of price.\n",
    "\n",
    "The data has many outliers as seen from the above graph and hence needs to be removed - to get near normal distribution."
   ]
  },
  {
   "cell_type": "code",
   "execution_count": 9,
   "id": "9d2ad48f",
   "metadata": {
    "execution": {
     "iopub.execute_input": "2024-06-13T05:16:54.983938Z",
     "iopub.status.busy": "2024-06-13T05:16:54.983530Z",
     "iopub.status.idle": "2024-06-13T05:16:55.007237Z",
     "shell.execute_reply": "2024-06-13T05:16:55.005574Z"
    },
    "papermill": {
     "duration": 0.042825,
     "end_time": "2024-06-13T05:16:55.010423",
     "exception": false,
     "start_time": "2024-06-13T05:16:54.967598",
     "status": "completed"
    },
    "tags": []
   },
   "outputs": [
    {
     "data": {
      "text/plain": [
       "count    5.427300e+04\n",
       "mean     3.921844e+04\n",
       "std      7.282634e+04\n",
       "min      2.000000e+03\n",
       "25%      1.550000e+04\n",
       "50%      2.800000e+04\n",
       "75%      4.500000e+04\n",
       "max      2.954083e+06\n",
       "Name: price, dtype: float64"
      ]
     },
     "execution_count": 9,
     "metadata": {},
     "output_type": "execute_result"
    }
   ],
   "source": [
    "train_df['price'].describe()"
   ]
  },
  {
   "cell_type": "markdown",
   "id": "8c62cc90",
   "metadata": {
    "papermill": {
     "duration": 0.013723,
     "end_time": "2024-06-13T05:16:55.038467",
     "exception": false,
     "start_time": "2024-06-13T05:16:55.024744",
     "status": "completed"
    },
    "tags": []
   },
   "source": []
  },
  {
   "cell_type": "markdown",
   "id": "568ddf27",
   "metadata": {
    "papermill": {
     "duration": 0.013611,
     "end_time": "2024-06-13T05:16:55.065991",
     "exception": false,
     "start_time": "2024-06-13T05:16:55.052380",
     "status": "completed"
    },
    "tags": []
   },
   "source": [
    "# **Data wrangling**"
   ]
  },
  {
   "cell_type": "markdown",
   "id": "dc93671f",
   "metadata": {
    "papermill": {
     "duration": 0.013656,
     "end_time": "2024-06-13T05:16:55.095144",
     "exception": false,
     "start_time": "2024-06-13T05:16:55.081488",
     "status": "completed"
    },
    "tags": []
   },
   "source": [
    "I will reduce the number of features in string data categories, and will remain the numeric categories as they are."
   ]
  },
  {
   "cell_type": "code",
   "execution_count": 10,
   "id": "702e333d",
   "metadata": {
    "execution": {
     "iopub.execute_input": "2024-06-13T05:16:55.125985Z",
     "iopub.status.busy": "2024-06-13T05:16:55.125516Z",
     "iopub.status.idle": "2024-06-13T05:16:55.147112Z",
     "shell.execute_reply": "2024-06-13T05:16:55.145747Z"
    },
    "papermill": {
     "duration": 0.039928,
     "end_time": "2024-06-13T05:16:55.149798",
     "exception": false,
     "start_time": "2024-06-13T05:16:55.109870",
     "status": "completed"
    },
    "tags": []
   },
   "outputs": [
    {
     "data": {
      "text/plain": [
       "brand\n",
       "BMW              7369\n",
       "Ford             6706\n",
       "Mercedes-Benz    5087\n",
       "Chevrolet        4424\n",
       "Audi             2922\n",
       "Porsche          2627\n",
       "Toyota           2315\n",
       "Lexus            2257\n",
       "Jeep             2247\n",
       "Land             1995\n",
       "Cadillac         1565\n",
       "Nissan           1252\n",
       "GMC              1076\n",
       "Dodge            1011\n",
       "RAM               966\n",
       "INFINITI          957\n",
       "Lincoln           767\n",
       "Mazda             748\n",
       "Subaru            739\n",
       "Hyundai           694\n",
       "Jaguar            661\n",
       "Volkswagen        628\n",
       "Honda             624\n",
       "Acura             580\n",
       "Kia               526\n",
       "Volvo             452\n",
       "MINI              364\n",
       "Maserati          293\n",
       "Bentley           284\n",
       "Chrysler          258\n",
       "Genesis           249\n",
       "Buick             228\n",
       "Mitsubishi        182\n",
       "Hummer            176\n",
       "Pontiac           149\n",
       "Alfa              144\n",
       "Rolls-Royce       142\n",
       "Lamborghini       122\n",
       "Tesla             110\n",
       "Ferrari            87\n",
       "Saturn             58\n",
       "Scion              53\n",
       "Aston              50\n",
       "McLaren            43\n",
       "Rivian             27\n",
       "Mercury            20\n",
       "FIAT               16\n",
       "Lotus              12\n",
       "Suzuki              4\n",
       "Maybach             3\n",
       "Lucid               2\n",
       "Plymouth            1\n",
       "Bugatti             1\n",
       "Name: count, dtype: int64"
      ]
     },
     "execution_count": 10,
     "metadata": {},
     "output_type": "execute_result"
    }
   ],
   "source": [
    "#Look at brand value counts for binning\n",
    "brand_counts = train_df['brand'].value_counts()\n",
    "brand_counts #keep all car brands "
   ]
  },
  {
   "cell_type": "markdown",
   "id": "4222dee2",
   "metadata": {
    "papermill": {
     "duration": 0.014613,
     "end_time": "2024-06-13T05:16:55.178799",
     "exception": false,
     "start_time": "2024-06-13T05:16:55.164186",
     "status": "completed"
    },
    "tags": []
   },
   "source": [
    "***Model cleaning***"
   ]
  },
  {
   "cell_type": "code",
   "execution_count": 11,
   "id": "c58d93f4",
   "metadata": {
    "execution": {
     "iopub.execute_input": "2024-06-13T05:16:55.210639Z",
     "iopub.status.busy": "2024-06-13T05:16:55.210145Z",
     "iopub.status.idle": "2024-06-13T05:16:55.232421Z",
     "shell.execute_reply": "2024-06-13T05:16:55.230910Z"
    },
    "papermill": {
     "duration": 0.04221,
     "end_time": "2024-06-13T05:16:55.235703",
     "exception": false,
     "start_time": "2024-06-13T05:16:55.193493",
     "status": "completed"
    },
    "tags": []
   },
   "outputs": [
    {
     "data": {
      "text/plain": [
       "model\n",
       "F-150 XLT             780\n",
       "M3 Base               682\n",
       "X5 xDrive35i          615\n",
       "F-150 Lariat          496\n",
       "Mustang GT Premium    466\n",
       "                     ... \n",
       "Suburban 2500           1\n",
       "TLX Tech                1\n",
       "Rogue Sport S           1\n",
       "A8 4.0                  1\n",
       "S-10 LS                 1\n",
       "Name: count, Length: 1827, dtype: int64"
      ]
     },
     "execution_count": 11,
     "metadata": {},
     "output_type": "execute_result"
    }
   ],
   "source": [
    "# Look at model value counts for binning\n",
    "model_counts =train_df['model'].value_counts()\n",
    "model_counts"
   ]
  },
  {
   "cell_type": "code",
   "execution_count": 12,
   "id": "294b8d79",
   "metadata": {
    "execution": {
     "iopub.execute_input": "2024-06-13T05:16:55.267278Z",
     "iopub.status.busy": "2024-06-13T05:16:55.266833Z",
     "iopub.status.idle": "2024-06-13T05:17:14.207513Z",
     "shell.execute_reply": "2024-06-13T05:17:14.205740Z"
    },
    "papermill": {
     "duration": 18.959755,
     "end_time": "2024-06-13T05:17:14.210083",
     "exception": false,
     "start_time": "2024-06-13T05:16:55.250328",
     "status": "completed"
    },
    "tags": []
   },
   "outputs": [
    {
     "name": "stdout",
     "output_type": "stream",
     "text": [
      "model\n",
      "Other                   32335\n",
      "F-150 XLT                 780\n",
      "M3 Base                   682\n",
      "X5 xDrive35i              615\n",
      "F-150 Lariat              496\n",
      "                        ...  \n",
      "X6 xDrive35i              101\n",
      "S-Class S 550 4MATIC      101\n",
      "Mustang Premium           100\n",
      "AMG C 63 Base             100\n",
      "Civic EX                  100\n",
      "Name: count, Length: 115, dtype: int64\n"
     ]
    }
   ],
   "source": [
    "#Reducing the number of car models as a fuature\n",
    "cutoff_value = 100 #keep if database has 100 and more records of this car model\n",
    "model_types_to_replace = model_counts[model_counts < cutoff_value].index\n",
    "\n",
    "# Replace in the dataframe\n",
    "for model_c in model_types_to_replace:\n",
    "    train_df.loc[train_df['model'] == model_c, 'model'] = \"Other\"\n",
    "\n",
    "# Check the updated value counts\n",
    "model_counts = train_df['model'].value_counts()\n",
    "print(model_counts)"
   ]
  },
  {
   "cell_type": "markdown",
   "id": "12c66df8",
   "metadata": {
    "papermill": {
     "duration": 0.014223,
     "end_time": "2024-06-13T05:17:14.239099",
     "exception": false,
     "start_time": "2024-06-13T05:17:14.224876",
     "status": "completed"
    },
    "tags": []
   },
   "source": [
    "**Fuel cleaning**"
   ]
  },
  {
   "cell_type": "code",
   "execution_count": 13,
   "id": "42cc8ff7",
   "metadata": {
    "execution": {
     "iopub.execute_input": "2024-06-13T05:17:14.270416Z",
     "iopub.status.busy": "2024-06-13T05:17:14.269897Z",
     "iopub.status.idle": "2024-06-13T05:17:14.288882Z",
     "shell.execute_reply": "2024-06-13T05:17:14.287538Z"
    },
    "papermill": {
     "duration": 0.037534,
     "end_time": "2024-06-13T05:17:14.291332",
     "exception": false,
     "start_time": "2024-06-13T05:17:14.253798",
     "status": "completed"
    },
    "tags": []
   },
   "outputs": [
    {
     "data": {
      "text/plain": [
       "fuel_type\n",
       "Gasoline          49439\n",
       "Hybrid             1766\n",
       "E85 Flex Fuel      1479\n",
       "Diesel             1109\n",
       "–                   294\n",
       "Plug-In Hybrid      182\n",
       "not supported         4\n",
       "Name: count, dtype: int64"
      ]
     },
     "execution_count": 13,
     "metadata": {},
     "output_type": "execute_result"
    }
   ],
   "source": [
    "# Look at fuel value counts for binning\n",
    "fuel_counts = train_df['fuel_type'].value_counts()\n",
    "fuel_counts"
   ]
  },
  {
   "cell_type": "code",
   "execution_count": 14,
   "id": "b540c286",
   "metadata": {
    "execution": {
     "iopub.execute_input": "2024-06-13T05:17:14.324827Z",
     "iopub.status.busy": "2024-06-13T05:17:14.323842Z",
     "iopub.status.idle": "2024-06-13T05:17:14.373520Z",
     "shell.execute_reply": "2024-06-13T05:17:14.372183Z"
    },
    "papermill": {
     "duration": 0.069089,
     "end_time": "2024-06-13T05:17:14.376193",
     "exception": false,
     "start_time": "2024-06-13T05:17:14.307104",
     "status": "completed"
    },
    "tags": []
   },
   "outputs": [
    {
     "data": {
      "text/plain": [
       "fuel_type\n",
       "Gasoline          49439\n",
       "Hybrid             1766\n",
       "E85 Flex Fuel      1479\n",
       "Diesel             1109\n",
       "Other               294\n",
       "Plug-In Hybrid      182\n",
       "Name: count, dtype: int64"
      ]
     },
     "execution_count": 14,
     "metadata": {},
     "output_type": "execute_result"
    }
   ],
   "source": [
    "# Replace '–' with 'Other' in the 'fuel_type' column\n",
    "train_df.loc[train_df['fuel_type'] == '–', 'fuel_type'] = 'Other'\n",
    "cleaned_train = train_df[train_df['fuel_type'] != 'not supported']\n",
    "fuel_counts = cleaned_train['fuel_type'].value_counts()\n",
    "fuel_counts"
   ]
  },
  {
   "cell_type": "markdown",
   "id": "7b73f73b",
   "metadata": {
    "papermill": {
     "duration": 0.015242,
     "end_time": "2024-06-13T05:17:14.406811",
     "exception": false,
     "start_time": "2024-06-13T05:17:14.391569",
     "status": "completed"
    },
    "tags": []
   },
   "source": [
    "***Engine cleaning***"
   ]
  },
  {
   "cell_type": "code",
   "execution_count": 15,
   "id": "d9ba4cee",
   "metadata": {
    "execution": {
     "iopub.execute_input": "2024-06-13T05:17:14.440600Z",
     "iopub.status.busy": "2024-06-13T05:17:14.440177Z",
     "iopub.status.idle": "2024-06-13T05:17:14.462121Z",
     "shell.execute_reply": "2024-06-13T05:17:14.460581Z"
    },
    "papermill": {
     "duration": 0.042888,
     "end_time": "2024-06-13T05:17:14.464787",
     "exception": false,
     "start_time": "2024-06-13T05:17:14.421899",
     "status": "completed"
    },
    "tags": []
   },
   "outputs": [
    {
     "data": {
      "text/plain": [
       "engine\n",
       "300.0HP 3.0L Straight 6 Cylinder Engine Gasoline Fuel    1452\n",
       "355.0HP 5.3L 8 Cylinder Engine Gasoline Fuel             1125\n",
       "240.0HP 2.0L 4 Cylinder Engine Gasoline Fuel             1054\n",
       "285.0HP 3.6L V6 Cylinder Engine Gasoline Fuel             979\n",
       "420.0HP 6.2L 8 Cylinder Engine Gasoline Fuel              893\n",
       "                                                         ... \n",
       "4.4 Liter GDI DOHC Twin Turbo                               1\n",
       "150.0HP 2.0L 4 Cylinder Engine Diesel Fuel                  1\n",
       "3.0 Liter Twin Turbo                                        1\n",
       "3.0 Liter SC ULEV                                           1\n",
       "321.0HP 3.0L V6 Cylinder Engine Gas/Electric Hybrid         1\n",
       "Name: count, Length: 1059, dtype: int64"
      ]
     },
     "execution_count": 15,
     "metadata": {},
     "output_type": "execute_result"
    }
   ],
   "source": [
    "# Look at endine value counts for binning\n",
    "engine_counts = cleaned_train['engine'].value_counts()\n",
    "engine_counts"
   ]
  },
  {
   "cell_type": "code",
   "execution_count": 16,
   "id": "6d4372a8",
   "metadata": {
    "execution": {
     "iopub.execute_input": "2024-06-13T05:17:14.497982Z",
     "iopub.status.busy": "2024-06-13T05:17:14.497512Z",
     "iopub.status.idle": "2024-06-13T05:17:24.941590Z",
     "shell.execute_reply": "2024-06-13T05:17:24.940165Z"
    },
    "papermill": {
     "duration": 10.464532,
     "end_time": "2024-06-13T05:17:24.944999",
     "exception": false,
     "start_time": "2024-06-13T05:17:14.480467",
     "status": "completed"
    },
    "tags": []
   },
   "outputs": [
    {
     "data": {
      "text/plain": [
       "engine\n",
       "Other                                                    21178\n",
       "300.0HP 3.0L Straight 6 Cylinder Engine Gasoline Fuel     1452\n",
       "355.0HP 5.3L 8 Cylinder Engine Gasoline Fuel              1125\n",
       "240.0HP 2.0L 4 Cylinder Engine Gasoline Fuel              1054\n",
       "285.0HP 3.6L V6 Cylinder Engine Gasoline Fuel              979\n",
       "                                                         ...  \n",
       "3.5L V6 24V PDI DOHC                                       104\n",
       "410.0HP 6.4L 8 Cylinder Engine Gasoline Fuel               103\n",
       "365.0HP 3.3L V6 Cylinder Engine Gasoline Fuel              100\n",
       "350.0HP 3.4L Flat 6 Cylinder Engine Gasoline Fuel          100\n",
       "3.0L V6 24V GDI DOHC Twin Turbo                            100\n",
       "Name: count, Length: 128, dtype: int64"
      ]
     },
     "execution_count": 16,
     "metadata": {},
     "output_type": "execute_result"
    }
   ],
   "source": [
    "cutoff_value = 100\n",
    "engine_types_to_replace = engine_counts[engine_counts < cutoff_value].index\n",
    "\n",
    "# Replace in the dataframe\n",
    "for engine_c in engine_types_to_replace:\n",
    "    cleaned_train.loc[cleaned_train['engine'] == engine_c, 'engine'] = \"Other\"\n",
    "\n",
    "# Check the updated value counts\n",
    "engine_counts = cleaned_train['engine'].value_counts()\n",
    "engine_counts"
   ]
  },
  {
   "cell_type": "markdown",
   "id": "2f862500",
   "metadata": {
    "papermill": {
     "duration": 0.015341,
     "end_time": "2024-06-13T05:17:24.976305",
     "exception": false,
     "start_time": "2024-06-13T05:17:24.960964",
     "status": "completed"
    },
    "tags": []
   },
   "source": [
    "***Transmission***"
   ]
  },
  {
   "cell_type": "code",
   "execution_count": 17,
   "id": "d6d5fd80",
   "metadata": {
    "execution": {
     "iopub.execute_input": "2024-06-13T05:17:25.015785Z",
     "iopub.status.busy": "2024-06-13T05:17:25.014468Z",
     "iopub.status.idle": "2024-06-13T05:17:25.034651Z",
     "shell.execute_reply": "2024-06-13T05:17:25.033191Z"
    },
    "papermill": {
     "duration": 0.045893,
     "end_time": "2024-06-13T05:17:25.037830",
     "exception": false,
     "start_time": "2024-06-13T05:17:24.991937",
     "status": "completed"
    },
    "tags": []
   },
   "outputs": [
    {
     "data": {
      "text/plain": [
       "transmission\n",
       "A/T                                                   16754\n",
       "8-Speed A/T                                            7287\n",
       "Transmission w/Dual Shift Mode                         6453\n",
       "6-Speed A/T                                            5944\n",
       "6-Speed M/T                                            3618\n",
       "7-Speed A/T                                            3415\n",
       "10-Speed A/T                                           2187\n",
       "8-Speed Automatic                                      1189\n",
       "5-Speed A/T                                            1185\n",
       "9-Speed A/T                                            1073\n",
       "4-Speed A/T                                             764\n",
       "5-Speed M/T                                             718\n",
       "CVT Transmission                                        692\n",
       "10-Speed Automatic                                      642\n",
       "6-Speed Automatic                                       516\n",
       "Automatic                                               441\n",
       "M/T                                                     359\n",
       "9-Speed Automatic                                       344\n",
       "7-Speed Automatic with Auto-Shift                       110\n",
       "7-Speed M/T                                             104\n",
       "Automatic CVT                                            95\n",
       "1-Speed A/T                                              60\n",
       "8-Speed Automatic with Auto-Shift                        55\n",
       "Transmission Overdrive Switch                            54\n",
       "7-Speed Automatic                                        41\n",
       "6-Speed Manual                                           34\n",
       "5-Speed Automatic                                        24\n",
       "7-Speed Manual                                           22\n",
       "6-Speed Automatic with Auto-Shift                        17\n",
       "8-Speed Manual                                            9\n",
       "4-Speed Automatic                                         8\n",
       "7-Speed                                                   7\n",
       "–                                                         7\n",
       "7-Speed DCT Automatic                                     6\n",
       "1-Speed Automatic                                         6\n",
       "6-Speed Electronically Controlled Automatic with O        6\n",
       "10-Speed Automatic with Overdrive                         5\n",
       "2-Speed A/T                                               5\n",
       "6-Speed                                                   3\n",
       "9-Speed Automatic with Auto-Shift                         2\n",
       "SCHEDULED FOR OR IN PRODUCTION                            2\n",
       "6 Speed Mt                                                2\n",
       "CVT-F                                                     1\n",
       "F                                                         1\n",
       "Variable                                                  1\n",
       "6 Speed At/Mt                                             1\n",
       "Name: count, dtype: int64"
      ]
     },
     "execution_count": 17,
     "metadata": {},
     "output_type": "execute_result"
    }
   ],
   "source": [
    "# Look at trans value counts for binning\n",
    "trans_counts = cleaned_train['transmission'].value_counts()\n",
    "trans_counts"
   ]
  },
  {
   "cell_type": "code",
   "execution_count": 18,
   "id": "59e7e4a3",
   "metadata": {
    "execution": {
     "iopub.execute_input": "2024-06-13T05:17:25.071673Z",
     "iopub.status.busy": "2024-06-13T05:17:25.071257Z",
     "iopub.status.idle": "2024-06-13T05:17:25.275841Z",
     "shell.execute_reply": "2024-06-13T05:17:25.274471Z"
    },
    "papermill": {
     "duration": 0.224665,
     "end_time": "2024-06-13T05:17:25.278509",
     "exception": false,
     "start_time": "2024-06-13T05:17:25.053844",
     "status": "completed"
    },
    "tags": []
   },
   "outputs": [
    {
     "data": {
      "text/plain": [
       "transmission\n",
       "A/T                                  16754\n",
       "8-Speed A/T                           7287\n",
       "Transmission w/Dual Shift Mode        6453\n",
       "6-Speed A/T                           5944\n",
       "6-Speed M/T                           3618\n",
       "7-Speed A/T                           3415\n",
       "10-Speed A/T                          2187\n",
       "8-Speed Automatic                     1189\n",
       "5-Speed A/T                           1185\n",
       "9-Speed A/T                           1073\n",
       "4-Speed A/T                            764\n",
       "5-Speed M/T                            718\n",
       "CVT Transmission                       692\n",
       "10-Speed Automatic                     642\n",
       "6-Speed Automatic                      516\n",
       "Automatic                              441\n",
       "M/T                                    359\n",
       "9-Speed Automatic                      344\n",
       "7-Speed Automatic with Auto-Shift      110\n",
       "7-Speed M/T                            104\n",
       "Automatic CVT                           95\n",
       "Other                                   72\n",
       "1-Speed A/T                             60\n",
       "8-Speed Automatic with Auto-Shift       55\n",
       "Transmission Overdrive Switch           54\n",
       "7-Speed Automatic                       41\n",
       "6-Speed Manual                          34\n",
       "5-Speed Automatic                       24\n",
       "7-Speed Manual                          22\n",
       "6-Speed Automatic with Auto-Shift       17\n",
       "Name: count, dtype: int64"
      ]
     },
     "execution_count": 18,
     "metadata": {},
     "output_type": "execute_result"
    }
   ],
   "source": [
    "cutoff_value = 10\n",
    "trans_types_to_replace = trans_counts[trans_counts < cutoff_value].index\n",
    "\n",
    "# Replace in the dataframe\n",
    "for trans_c in trans_types_to_replace:\n",
    "    cleaned_train.loc[cleaned_train['transmission'] == trans_c, 'transmission'] = \"Other\"\n",
    "\n",
    "# Check the updated value counts\n",
    "trans_counts = cleaned_train['transmission'].value_counts()\n",
    "trans_counts"
   ]
  },
  {
   "cell_type": "markdown",
   "id": "a718573f",
   "metadata": {
    "papermill": {
     "duration": 0.016781,
     "end_time": "2024-06-13T05:17:25.311543",
     "exception": false,
     "start_time": "2024-06-13T05:17:25.294762",
     "status": "completed"
    },
    "tags": []
   },
   "source": [
    "***External colour***"
   ]
  },
  {
   "cell_type": "code",
   "execution_count": 19,
   "id": "57681d30",
   "metadata": {
    "execution": {
     "iopub.execute_input": "2024-06-13T05:17:25.346227Z",
     "iopub.status.busy": "2024-06-13T05:17:25.345759Z",
     "iopub.status.idle": "2024-06-13T05:17:25.366101Z",
     "shell.execute_reply": "2024-06-13T05:17:25.364680Z"
    },
    "papermill": {
     "duration": 0.04122,
     "end_time": "2024-06-13T05:17:25.369053",
     "exception": false,
     "start_time": "2024-06-13T05:17:25.327833",
     "status": "completed"
    },
    "tags": []
   },
   "outputs": [
    {
     "data": {
      "text/plain": [
       "ext_col\n",
       "Black                                 15078\n",
       "White                                 13422\n",
       "Gray                                   7908\n",
       "Silver                                 5158\n",
       "Blue                                   4668\n",
       "Red                                    3013\n",
       "Green                                   763\n",
       "Gold                                    484\n",
       "Beige                                   455\n",
       "Brown                                   386\n",
       "Orange                                  328\n",
       "Yellow                                  306\n",
       "Agate Black Metallic                    113\n",
       "Bright White Clearcoat                  105\n",
       "Purple                                   94\n",
       "Summit White                             88\n",
       "Black Clearcoat                          83\n",
       "Diamond Black                            72\n",
       "Silver Ice Metallic                      62\n",
       "Delmonico Red Pearlcoat                  56\n",
       "Soul Red Crystal Metallic                45\n",
       "–                                        41\n",
       "Ebony Twilight Metallic                  32\n",
       "Snowflake White Pearl                    32\n",
       "Firecracker Red Clearcoat                29\n",
       "Jet Black Mica                           29\n",
       "Dark Matter Metallic                     28\n",
       "Black Sapphire Metallic                  27\n",
       "Shadow Gray Metallic                     26\n",
       "Oxford White                             25\n",
       "Iconic Silver Metallic                   25\n",
       "Cajun Red Tintcoat                       24\n",
       "Sonic Silver Metallic                    23\n",
       "Magnetic Metallic                        22\n",
       "Velvet Red Pearlcoat                     20\n",
       "Midnight Black Metallic                  20\n",
       "Satin Steel Metallic                     17\n",
       "White Frost Tri-Coat                     17\n",
       "Beluga Black                             17\n",
       "Deep Black Pearl Effect                  17\n",
       "Mosaic Black Metallic                    17\n",
       "Patriot Blue Pearlcoat                   16\n",
       "Obsidian Black Metallic                  16\n",
       "Glacial White Pearl                      16\n",
       "Granite Crystal Clearcoat Metallic       16\n",
       "Dark Moon Blue Metallic                  16\n",
       "Brilliant Silver Metallic                16\n",
       "Blu                                      16\n",
       "Atomic Silver                            15\n",
       "Black Obsidian                           15\n",
       "Name: count, dtype: int64"
      ]
     },
     "execution_count": 19,
     "metadata": {},
     "output_type": "execute_result"
    }
   ],
   "source": [
    "# Look at colours value counts for binning\n",
    "ext_col_counts = cleaned_train['ext_col'].value_counts()\n",
    "ext_col_counts.head(50)"
   ]
  },
  {
   "cell_type": "code",
   "execution_count": 20,
   "id": "825eba9d",
   "metadata": {
    "execution": {
     "iopub.execute_input": "2024-06-13T05:17:25.404522Z",
     "iopub.status.busy": "2024-06-13T05:17:25.403983Z",
     "iopub.status.idle": "2024-06-13T05:17:28.048961Z",
     "shell.execute_reply": "2024-06-13T05:17:28.047575Z"
    },
    "papermill": {
     "duration": 2.666141,
     "end_time": "2024-06-13T05:17:28.051923",
     "exception": false,
     "start_time": "2024-06-13T05:17:25.385782",
     "status": "completed"
    },
    "tags": []
   },
   "outputs": [
    {
     "data": {
      "text/plain": [
       "ext_col\n",
       "Black                        15078\n",
       "White                        13422\n",
       "Gray                          7908\n",
       "Silver                        5158\n",
       "Blue                          4668\n",
       "Red                           3013\n",
       "Other                         1582\n",
       "Green                          763\n",
       "Gold                           484\n",
       "Beige                          455\n",
       "Brown                          386\n",
       "Orange                         328\n",
       "Yellow                         306\n",
       "Agate Black Metallic           113\n",
       "Bright White Clearcoat         105\n",
       "Purple                          94\n",
       "Summit White                    88\n",
       "Black Clearcoat                 83\n",
       "Diamond Black                   72\n",
       "Silver Ice Metallic             62\n",
       "Delmonico Red Pearlcoat         56\n",
       "Soul Red Crystal Metallic       45\n",
       "Name: count, dtype: int64"
      ]
     },
     "execution_count": 20,
     "metadata": {},
     "output_type": "execute_result"
    }
   ],
   "source": [
    "cutoff_value = 45\n",
    "ext_col_types_to_replace = ext_col_counts[ext_col_counts < cutoff_value].index\n",
    "\n",
    "# Replace in the dataframe\n",
    "for ext_col_c in ext_col_types_to_replace:\n",
    "    cleaned_train.loc[cleaned_train['ext_col'] == ext_col_c, 'ext_col'] = \"Other\"\n",
    "\n",
    "# Check the updated value counts\n",
    "ext_col_counts = cleaned_train['ext_col'].value_counts()\n",
    "ext_col_counts"
   ]
  },
  {
   "cell_type": "code",
   "execution_count": 21,
   "id": "f840799e",
   "metadata": {
    "execution": {
     "iopub.execute_input": "2024-06-13T05:17:28.152528Z",
     "iopub.status.busy": "2024-06-13T05:17:28.152109Z",
     "iopub.status.idle": "2024-06-13T05:17:28.171193Z",
     "shell.execute_reply": "2024-06-13T05:17:28.169836Z"
    },
    "papermill": {
     "duration": 0.041038,
     "end_time": "2024-06-13T05:17:28.173924",
     "exception": false,
     "start_time": "2024-06-13T05:17:28.132886",
     "status": "completed"
    },
    "tags": []
   },
   "outputs": [
    {
     "data": {
      "text/plain": [
       "int_col\n",
       "Ebony / Pimento              5\n",
       "Camel                        4\n",
       "Cocoa / Dune                 4\n",
       "Dark Gray                    4\n",
       "Dark Ash                     4\n",
       "Medium Ash Gray              4\n",
       "AMG Black                    4\n",
       "Black / Stone Grey           4\n",
       "Ash                          4\n",
       "Walnut                       4\n",
       "Sport                        3\n",
       "Nougat Brown                 3\n",
       "Sand Beige                   3\n",
       "Almond Beige                 3\n",
       "Mistral Gray / Raven         3\n",
       "Rock Gray                    3\n",
       "Amber                        3\n",
       "Graystone                    2\n",
       "Caramel                      2\n",
       "Tupelo                       2\n",
       "Very Light Cashmere          2\n",
       "Pimento Red w/Ebony          2\n",
       "Medium Pewter                2\n",
       "Whisper Beige                2\n",
       "Titan Black                  2\n",
       "Slate                        2\n",
       "Cobalt Blue                  2\n",
       "Silk Beige/Espresso Brown    2\n",
       "Beluga                       2\n",
       "Giallo Taurus / Nero Ade     2\n",
       "Black / Graphite             2\n",
       "Light Gray                   1\n",
       "Blk                          1\n",
       "Espresso                     1\n",
       "Black/Gun Metal              1\n",
       "Parchment.                   1\n",
       "Tan/Ebony                    1\n",
       "Cappuccino                   1\n",
       "Mocha                        1\n",
       "Black w/Red Stitching        1\n",
       "Linen                        1\n",
       "Black / Gray                 1\n",
       "Ivory / Ebony                1\n",
       "Camel Leather                1\n",
       "BLACK                        1\n",
       "Cloud                        1\n",
       "Black/Red                    1\n",
       "Oyster/Black                 1\n",
       "Oyster W/Contrast            1\n",
       "Red/Black                    1\n",
       "Name: count, dtype: int64"
      ]
     },
     "execution_count": 21,
     "metadata": {},
     "output_type": "execute_result"
    }
   ],
   "source": [
    "# Look at colours value counts for binning\n",
    "int_col_counts = cleaned_train['int_col'].value_counts()\n",
    "int_col_counts.tail(50)"
   ]
  },
  {
   "cell_type": "code",
   "execution_count": 22,
   "id": "8cf58045",
   "metadata": {
    "execution": {
     "iopub.execute_input": "2024-06-13T05:17:28.212976Z",
     "iopub.status.busy": "2024-06-13T05:17:28.212547Z",
     "iopub.status.idle": "2024-06-13T05:17:28.230206Z",
     "shell.execute_reply": "2024-06-13T05:17:28.228980Z"
    },
    "papermill": {
     "duration": 0.040679,
     "end_time": "2024-06-13T05:17:28.233300",
     "exception": false,
     "start_time": "2024-06-13T05:17:28.192621",
     "status": "completed"
    },
    "tags": []
   },
   "outputs": [],
   "source": [
    "cleaned_train.loc[cleaned_train['int_col'] == '–', 'int_col'] = 'Other'"
   ]
  },
  {
   "cell_type": "code",
   "execution_count": 23,
   "id": "56781560",
   "metadata": {
    "execution": {
     "iopub.execute_input": "2024-06-13T05:17:28.270205Z",
     "iopub.status.busy": "2024-06-13T05:17:28.269788Z",
     "iopub.status.idle": "2024-06-13T05:17:29.174129Z",
     "shell.execute_reply": "2024-06-13T05:17:29.172951Z"
    },
    "papermill": {
     "duration": 0.926408,
     "end_time": "2024-06-13T05:17:29.177263",
     "exception": false,
     "start_time": "2024-06-13T05:17:28.250855",
     "status": "completed"
    },
    "tags": []
   },
   "outputs": [
    {
     "data": {
      "text/plain": [
       "int_col\n",
       "Black                    31818\n",
       "Beige                     7995\n",
       "Gray                      6250\n",
       "Brown                     2239\n",
       "Red                       1499\n",
       "Other                     1355\n",
       "White                     1172\n",
       "Jet Black                  365\n",
       "Orange                     248\n",
       "Ebony                      237\n",
       "Blue                       212\n",
       "Silver                     129\n",
       "Gold                        95\n",
       "Global Black                58\n",
       "Green                       56\n",
       "Medium Stone                39\n",
       "Black Onyx                  34\n",
       "Charcoal                    32\n",
       "Nero Ade                    32\n",
       "Diesel Gray / Black         30\n",
       "Rioja Red                   28\n",
       "Medium Dark Slate           25\n",
       "White / Brown               22\n",
       "Portland                    22\n",
       "Graphite                    22\n",
       "Medium Earth Gray           21\n",
       "Tan                         19\n",
       "Light Slate                 17\n",
       "Hotspur                     17\n",
       "Adrenaline Red              17\n",
       "Shara Beige                 16\n",
       "Canberra Beige              16\n",
       "Sandstone                   15\n",
       "Ceramic                     14\n",
       "Hotspur Hide                14\n",
       "Deep Chestnut               13\n",
       "Medium Light Camel          13\n",
       "Mesa                        11\n",
       "Ebony Black                 11\n",
       "Ebony / Ebony Accents       11\n",
       "Charles Blue                10\n",
       "Shale                       10\n",
       "Charcoal Black              10\n",
       "Name: count, dtype: int64"
      ]
     },
     "execution_count": 23,
     "metadata": {},
     "output_type": "execute_result"
    }
   ],
   "source": [
    "cutoff_value = 10\n",
    "int_col_types_to_replace = int_col_counts[int_col_counts < cutoff_value].index\n",
    "\n",
    "# Replace in the dataframe\n",
    "for int_col_c in int_col_types_to_replace:\n",
    "    cleaned_train.loc[cleaned_train['int_col'] == int_col_c, 'int_col'] = \"Other\"\n",
    "\n",
    "# Check the updated value counts\n",
    "int_col_counts = cleaned_train['int_col'].value_counts()\n",
    "int_col_counts"
   ]
  },
  {
   "cell_type": "code",
   "execution_count": 24,
   "id": "c4e1ecdb",
   "metadata": {
    "execution": {
     "iopub.execute_input": "2024-06-13T05:17:29.217297Z",
     "iopub.status.busy": "2024-06-13T05:17:29.216889Z",
     "iopub.status.idle": "2024-06-13T05:17:29.275745Z",
     "shell.execute_reply": "2024-06-13T05:17:29.274282Z"
    },
    "papermill": {
     "duration": 0.082755,
     "end_time": "2024-06-13T05:17:29.279044",
     "exception": false,
     "start_time": "2024-06-13T05:17:29.196289",
     "status": "completed"
    },
    "tags": []
   },
   "outputs": [
    {
     "data": {
      "text/plain": [
       "brand             53\n",
       "model            115\n",
       "model_year        34\n",
       "milage          3212\n",
       "fuel_type          6\n",
       "engine           128\n",
       "transmission      30\n",
       "ext_col           22\n",
       "int_col           43\n",
       "accident           2\n",
       "clean_title        1\n",
       "price           1481\n",
       "dtype: int64"
      ]
     },
     "execution_count": 24,
     "metadata": {},
     "output_type": "execute_result"
    }
   ],
   "source": [
    "# Determine the cleaned number of unique values in each column.\n",
    "unique_counts = cleaned_train.nunique()\n",
    "unique_counts"
   ]
  },
  {
   "cell_type": "code",
   "execution_count": 25,
   "id": "46590801",
   "metadata": {
    "execution": {
     "iopub.execute_input": "2024-06-13T05:17:29.317980Z",
     "iopub.status.busy": "2024-06-13T05:17:29.317603Z",
     "iopub.status.idle": "2024-06-13T05:17:29.329972Z",
     "shell.execute_reply": "2024-06-13T05:17:29.328619Z"
    },
    "papermill": {
     "duration": 0.035532,
     "end_time": "2024-06-13T05:17:29.333078",
     "exception": false,
     "start_time": "2024-06-13T05:17:29.297546",
     "status": "completed"
    },
    "tags": []
   },
   "outputs": [],
   "source": [
    "#The last column \"Clean_title\" is the same \"Yes\" answer for all rows, that gives no value to analysis. \n",
    "#Drop this column.\n",
    "final_train=cleaned_train.drop(columns=['clean_title'])\n"
   ]
  },
  {
   "cell_type": "code",
   "execution_count": 26,
   "id": "357d7395",
   "metadata": {
    "execution": {
     "iopub.execute_input": "2024-06-13T05:17:29.372037Z",
     "iopub.status.busy": "2024-06-13T05:17:29.371656Z",
     "iopub.status.idle": "2024-06-13T05:17:29.457824Z",
     "shell.execute_reply": "2024-06-13T05:17:29.456490Z"
    },
    "papermill": {
     "duration": 0.110154,
     "end_time": "2024-06-13T05:17:29.461975",
     "exception": false,
     "start_time": "2024-06-13T05:17:29.351821",
     "status": "completed"
    },
    "tags": []
   },
   "outputs": [
    {
     "name": "stdout",
     "output_type": "stream",
     "text": [
      "brand\n",
      "BMW              7369\n",
      "Ford             6706\n",
      "Mercedes-Benz    5087\n",
      "Chevrolet        4424\n",
      "Audi             2922\n",
      "Porsche          2627\n",
      "Toyota           2312\n",
      "Lexus            2257\n",
      "Jeep             2247\n",
      "Land             1995\n",
      "Cadillac         1565\n",
      "Nissan           1251\n",
      "GMC              1076\n",
      "Dodge            1011\n",
      "RAM               966\n",
      "INFINITI          957\n",
      "Lincoln           767\n",
      "Mazda             748\n",
      "Subaru            739\n",
      "Hyundai           694\n",
      "Jaguar            661\n",
      "Volkswagen        628\n",
      "Honda             624\n",
      "Acura             580\n",
      "Kia               526\n",
      "Volvo             452\n",
      "MINI              364\n",
      "Maserati          293\n",
      "Bentley           284\n",
      "Chrysler          258\n",
      "Genesis           249\n",
      "Buick             228\n",
      "Mitsubishi        182\n",
      "Hummer            176\n",
      "Pontiac           149\n",
      "Alfa              144\n",
      "Rolls-Royce       142\n",
      "Lamborghini       122\n",
      "Tesla             110\n",
      "Ferrari            87\n",
      "Saturn             58\n",
      "Scion              53\n",
      "Aston              50\n",
      "McLaren            43\n",
      "Rivian             27\n",
      "Mercury            20\n",
      "FIAT               16\n",
      "Lotus              12\n",
      "Suzuki              4\n",
      "Maybach             3\n",
      "Lucid               2\n",
      "Plymouth            1\n",
      "Bugatti             1\n",
      "Name: count, dtype: int64\n",
      "model\n",
      "Other                   32331\n",
      "F-150 XLT                 780\n",
      "M3 Base                   682\n",
      "X5 xDrive35i              615\n",
      "F-150 Lariat              496\n",
      "                        ...  \n",
      "X6 xDrive35i              101\n",
      "S-Class S 550 4MATIC      101\n",
      "Mustang Premium           100\n",
      "AMG C 63 Base             100\n",
      "Civic EX                  100\n",
      "Name: count, Length: 115, dtype: int64\n",
      "model_year\n",
      "2018    4887\n",
      "2016    4692\n",
      "2017    4041\n",
      "2019    4014\n",
      "2020    4012\n",
      "2021    3781\n",
      "2015    3715\n",
      "2022    3140\n",
      "2014    2941\n",
      "2013    2452\n",
      "2011    2106\n",
      "2012    2101\n",
      "2023    1793\n",
      "2008    1741\n",
      "2007    1584\n",
      "2010    1508\n",
      "2009     983\n",
      "2005     967\n",
      "2006     865\n",
      "2004     745\n",
      "2003     557\n",
      "2001     461\n",
      "2002     391\n",
      "1999     176\n",
      "2000     152\n",
      "1998     117\n",
      "1997      80\n",
      "1996      76\n",
      "1995      48\n",
      "1993      47\n",
      "2024      42\n",
      "1994      37\n",
      "1992      12\n",
      "1974       5\n",
      "Name: count, dtype: int64\n",
      "milage\n",
      "60000     361\n",
      "120000    341\n",
      "110000    335\n",
      "170000    320\n",
      "40000     301\n",
      "         ... \n",
      "15300       1\n",
      "12875       1\n",
      "24981       1\n",
      "13028       1\n",
      "28750       1\n",
      "Name: count, Length: 3212, dtype: int64\n",
      "fuel_type\n",
      "Gasoline          49439\n",
      "Hybrid             1766\n",
      "E85 Flex Fuel      1479\n",
      "Diesel             1109\n",
      "Other               294\n",
      "Plug-In Hybrid      182\n",
      "Name: count, dtype: int64\n",
      "engine\n",
      "Other                                                    21178\n",
      "300.0HP 3.0L Straight 6 Cylinder Engine Gasoline Fuel     1452\n",
      "355.0HP 5.3L 8 Cylinder Engine Gasoline Fuel              1125\n",
      "240.0HP 2.0L 4 Cylinder Engine Gasoline Fuel              1054\n",
      "285.0HP 3.6L V6 Cylinder Engine Gasoline Fuel              979\n",
      "                                                         ...  \n",
      "3.5L V6 24V PDI DOHC                                       104\n",
      "410.0HP 6.4L 8 Cylinder Engine Gasoline Fuel               103\n",
      "365.0HP 3.3L V6 Cylinder Engine Gasoline Fuel              100\n",
      "350.0HP 3.4L Flat 6 Cylinder Engine Gasoline Fuel          100\n",
      "3.0L V6 24V GDI DOHC Twin Turbo                            100\n",
      "Name: count, Length: 128, dtype: int64\n",
      "transmission\n",
      "A/T                                  16754\n",
      "8-Speed A/T                           7287\n",
      "Transmission w/Dual Shift Mode        6453\n",
      "6-Speed A/T                           5944\n",
      "6-Speed M/T                           3618\n",
      "7-Speed A/T                           3415\n",
      "10-Speed A/T                          2187\n",
      "8-Speed Automatic                     1189\n",
      "5-Speed A/T                           1185\n",
      "9-Speed A/T                           1073\n",
      "4-Speed A/T                            764\n",
      "5-Speed M/T                            718\n",
      "CVT Transmission                       692\n",
      "10-Speed Automatic                     642\n",
      "6-Speed Automatic                      516\n",
      "Automatic                              441\n",
      "M/T                                    359\n",
      "9-Speed Automatic                      344\n",
      "7-Speed Automatic with Auto-Shift      110\n",
      "7-Speed M/T                            104\n",
      "Automatic CVT                           95\n",
      "Other                                   72\n",
      "1-Speed A/T                             60\n",
      "8-Speed Automatic with Auto-Shift       55\n",
      "Transmission Overdrive Switch           54\n",
      "7-Speed Automatic                       41\n",
      "6-Speed Manual                          34\n",
      "5-Speed Automatic                       24\n",
      "7-Speed Manual                          22\n",
      "6-Speed Automatic with Auto-Shift       17\n",
      "Name: count, dtype: int64\n",
      "ext_col\n",
      "Black                        15078\n",
      "White                        13422\n",
      "Gray                          7908\n",
      "Silver                        5158\n",
      "Blue                          4668\n",
      "Red                           3013\n",
      "Other                         1582\n",
      "Green                          763\n",
      "Gold                           484\n",
      "Beige                          455\n",
      "Brown                          386\n",
      "Orange                         328\n",
      "Yellow                         306\n",
      "Agate Black Metallic           113\n",
      "Bright White Clearcoat         105\n",
      "Purple                          94\n",
      "Summit White                    88\n",
      "Black Clearcoat                 83\n",
      "Diamond Black                   72\n",
      "Silver Ice Metallic             62\n",
      "Delmonico Red Pearlcoat         56\n",
      "Soul Red Crystal Metallic       45\n",
      "Name: count, dtype: int64\n",
      "int_col\n",
      "Black                    31818\n",
      "Beige                     7995\n",
      "Gray                      6250\n",
      "Brown                     2239\n",
      "Red                       1499\n",
      "Other                     1355\n",
      "White                     1172\n",
      "Jet Black                  365\n",
      "Orange                     248\n",
      "Ebony                      237\n",
      "Blue                       212\n",
      "Silver                     129\n",
      "Gold                        95\n",
      "Global Black                58\n",
      "Green                       56\n",
      "Medium Stone                39\n",
      "Black Onyx                  34\n",
      "Charcoal                    32\n",
      "Nero Ade                    32\n",
      "Diesel Gray / Black         30\n",
      "Rioja Red                   28\n",
      "Medium Dark Slate           25\n",
      "White / Brown               22\n",
      "Portland                    22\n",
      "Graphite                    22\n",
      "Medium Earth Gray           21\n",
      "Tan                         19\n",
      "Light Slate                 17\n",
      "Hotspur                     17\n",
      "Adrenaline Red              17\n",
      "Shara Beige                 16\n",
      "Canberra Beige              16\n",
      "Sandstone                   15\n",
      "Ceramic                     14\n",
      "Hotspur Hide                14\n",
      "Deep Chestnut               13\n",
      "Medium Light Camel          13\n",
      "Mesa                        11\n",
      "Ebony Black                 11\n",
      "Ebony / Ebony Accents       11\n",
      "Charles Blue                10\n",
      "Shale                       10\n",
      "Charcoal Black              10\n",
      "Name: count, dtype: int64\n",
      "accident\n",
      "None reported                             39892\n",
      "At least 1 accident or damage reported    14377\n",
      "Name: count, dtype: int64\n",
      "price\n",
      "15000    649\n",
      "12000    495\n",
      "30000    448\n",
      "8500     424\n",
      "17500    420\n",
      "        ... \n",
      "38998      1\n",
      "23739      1\n",
      "28298      1\n",
      "43389      1\n",
      "37998      1\n",
      "Name: count, Length: 1481, dtype: int64\n"
     ]
    }
   ],
   "source": [
    "# Display the value counts for each column\n",
    "for column in final_train.columns:\n",
    "    value_counts = final_train[column].value_counts()\n",
    "    print(value_counts)\n"
   ]
  },
  {
   "cell_type": "markdown",
   "id": "62a83aa6",
   "metadata": {
    "papermill": {
     "duration": 0.018206,
     "end_time": "2024-06-13T05:17:29.498857",
     "exception": false,
     "start_time": "2024-06-13T05:17:29.480651",
     "status": "completed"
    },
    "tags": []
   },
   "source": [
    "***Liner Regression***"
   ]
  },
  {
   "cell_type": "code",
   "execution_count": 27,
   "id": "8065ce84",
   "metadata": {
    "execution": {
     "iopub.execute_input": "2024-06-13T05:17:29.538070Z",
     "iopub.status.busy": "2024-06-13T05:17:29.537559Z",
     "iopub.status.idle": "2024-06-13T05:17:29.989236Z",
     "shell.execute_reply": "2024-06-13T05:17:29.987764Z"
    },
    "papermill": {
     "duration": 0.475069,
     "end_time": "2024-06-13T05:17:29.992377",
     "exception": false,
     "start_time": "2024-06-13T05:17:29.517308",
     "status": "completed"
    },
    "tags": []
   },
   "outputs": [],
   "source": [
    "from sklearn.linear_model import LinearRegression"
   ]
  },
  {
   "cell_type": "code",
   "execution_count": 28,
   "id": "e2187055",
   "metadata": {
    "execution": {
     "iopub.execute_input": "2024-06-13T05:17:30.040086Z",
     "iopub.status.busy": "2024-06-13T05:17:30.039607Z",
     "iopub.status.idle": "2024-06-13T05:17:30.166738Z",
     "shell.execute_reply": "2024-06-13T05:17:30.165178Z"
    },
    "papermill": {
     "duration": 0.152898,
     "end_time": "2024-06-13T05:17:30.169922",
     "exception": false,
     "start_time": "2024-06-13T05:17:30.017024",
     "status": "completed"
    },
    "tags": []
   },
   "outputs": [
    {
     "data": {
      "text/plain": [
       "(54269, 402)"
      ]
     },
     "execution_count": 28,
     "metadata": {},
     "output_type": "execute_result"
    }
   ],
   "source": [
    "# Convert categorical data to numeric with `pd.get_dummies`\n",
    "X = pd.get_dummies(final_train)\n",
    "X.shape\n"
   ]
  },
  {
   "cell_type": "code",
   "execution_count": 29,
   "id": "f9371826",
   "metadata": {
    "execution": {
     "iopub.execute_input": "2024-06-13T05:17:30.212365Z",
     "iopub.status.busy": "2024-06-13T05:17:30.211960Z",
     "iopub.status.idle": "2024-06-13T05:17:30.218304Z",
     "shell.execute_reply": "2024-06-13T05:17:30.216865Z"
    },
    "papermill": {
     "duration": 0.031276,
     "end_time": "2024-06-13T05:17:30.221036",
     "exception": false,
     "start_time": "2024-06-13T05:17:30.189760",
     "status": "completed"
    },
    "tags": []
   },
   "outputs": [],
   "source": [
    "# Split our preprocessed data into our features and target arrays\n",
    "y=X['price'].values.reshape(-1, 1)"
   ]
  },
  {
   "cell_type": "code",
   "execution_count": 30,
   "id": "7eef694a",
   "metadata": {
    "execution": {
     "iopub.execute_input": "2024-06-13T05:17:30.262286Z",
     "iopub.status.busy": "2024-06-13T05:17:30.261789Z",
     "iopub.status.idle": "2024-06-13T05:17:30.291395Z",
     "shell.execute_reply": "2024-06-13T05:17:30.290147Z"
    },
    "papermill": {
     "duration": 0.054058,
     "end_time": "2024-06-13T05:17:30.294490",
     "exception": false,
     "start_time": "2024-06-13T05:17:30.240432",
     "status": "completed"
    },
    "tags": []
   },
   "outputs": [],
   "source": [
    "#Removing the price from the prediction features\n",
    "X = X.drop(['price'], axis=1)\n"
   ]
  },
  {
   "cell_type": "code",
   "execution_count": 31,
   "id": "38552f18",
   "metadata": {
    "execution": {
     "iopub.execute_input": "2024-06-13T05:17:30.334935Z",
     "iopub.status.busy": "2024-06-13T05:17:30.334514Z",
     "iopub.status.idle": "2024-06-13T05:17:32.706976Z",
     "shell.execute_reply": "2024-06-13T05:17:32.705436Z"
    },
    "papermill": {
     "duration": 2.398622,
     "end_time": "2024-06-13T05:17:32.712720",
     "exception": false,
     "start_time": "2024-06-13T05:17:30.314098",
     "status": "completed"
    },
    "tags": []
   },
   "outputs": [
    {
     "data": {
      "text/html": [
       "<style>#sk-container-id-1 {color: black;background-color: white;}#sk-container-id-1 pre{padding: 0;}#sk-container-id-1 div.sk-toggleable {background-color: white;}#sk-container-id-1 label.sk-toggleable__label {cursor: pointer;display: block;width: 100%;margin-bottom: 0;padding: 0.3em;box-sizing: border-box;text-align: center;}#sk-container-id-1 label.sk-toggleable__label-arrow:before {content: \"▸\";float: left;margin-right: 0.25em;color: #696969;}#sk-container-id-1 label.sk-toggleable__label-arrow:hover:before {color: black;}#sk-container-id-1 div.sk-estimator:hover label.sk-toggleable__label-arrow:before {color: black;}#sk-container-id-1 div.sk-toggleable__content {max-height: 0;max-width: 0;overflow: hidden;text-align: left;background-color: #f0f8ff;}#sk-container-id-1 div.sk-toggleable__content pre {margin: 0.2em;color: black;border-radius: 0.25em;background-color: #f0f8ff;}#sk-container-id-1 input.sk-toggleable__control:checked~div.sk-toggleable__content {max-height: 200px;max-width: 100%;overflow: auto;}#sk-container-id-1 input.sk-toggleable__control:checked~label.sk-toggleable__label-arrow:before {content: \"▾\";}#sk-container-id-1 div.sk-estimator input.sk-toggleable__control:checked~label.sk-toggleable__label {background-color: #d4ebff;}#sk-container-id-1 div.sk-label input.sk-toggleable__control:checked~label.sk-toggleable__label {background-color: #d4ebff;}#sk-container-id-1 input.sk-hidden--visually {border: 0;clip: rect(1px 1px 1px 1px);clip: rect(1px, 1px, 1px, 1px);height: 1px;margin: -1px;overflow: hidden;padding: 0;position: absolute;width: 1px;}#sk-container-id-1 div.sk-estimator {font-family: monospace;background-color: #f0f8ff;border: 1px dotted black;border-radius: 0.25em;box-sizing: border-box;margin-bottom: 0.5em;}#sk-container-id-1 div.sk-estimator:hover {background-color: #d4ebff;}#sk-container-id-1 div.sk-parallel-item::after {content: \"\";width: 100%;border-bottom: 1px solid gray;flex-grow: 1;}#sk-container-id-1 div.sk-label:hover label.sk-toggleable__label {background-color: #d4ebff;}#sk-container-id-1 div.sk-serial::before {content: \"\";position: absolute;border-left: 1px solid gray;box-sizing: border-box;top: 0;bottom: 0;left: 50%;z-index: 0;}#sk-container-id-1 div.sk-serial {display: flex;flex-direction: column;align-items: center;background-color: white;padding-right: 0.2em;padding-left: 0.2em;position: relative;}#sk-container-id-1 div.sk-item {position: relative;z-index: 1;}#sk-container-id-1 div.sk-parallel {display: flex;align-items: stretch;justify-content: center;background-color: white;position: relative;}#sk-container-id-1 div.sk-item::before, #sk-container-id-1 div.sk-parallel-item::before {content: \"\";position: absolute;border-left: 1px solid gray;box-sizing: border-box;top: 0;bottom: 0;left: 50%;z-index: -1;}#sk-container-id-1 div.sk-parallel-item {display: flex;flex-direction: column;z-index: 1;position: relative;background-color: white;}#sk-container-id-1 div.sk-parallel-item:first-child::after {align-self: flex-end;width: 50%;}#sk-container-id-1 div.sk-parallel-item:last-child::after {align-self: flex-start;width: 50%;}#sk-container-id-1 div.sk-parallel-item:only-child::after {width: 0;}#sk-container-id-1 div.sk-dashed-wrapped {border: 1px dashed gray;margin: 0 0.4em 0.5em 0.4em;box-sizing: border-box;padding-bottom: 0.4em;background-color: white;}#sk-container-id-1 div.sk-label label {font-family: monospace;font-weight: bold;display: inline-block;line-height: 1.2em;}#sk-container-id-1 div.sk-label-container {text-align: center;}#sk-container-id-1 div.sk-container {/* jupyter's `normalize.less` sets `[hidden] { display: none; }` but bootstrap.min.css set `[hidden] { display: none !important; }` so we also need the `!important` here to be able to override the default hidden behavior on the sphinx rendered scikit-learn.org. See: https://github.com/scikit-learn/scikit-learn/issues/21755 */display: inline-block !important;position: relative;}#sk-container-id-1 div.sk-text-repr-fallback {display: none;}</style><div id=\"sk-container-id-1\" class=\"sk-top-container\"><div class=\"sk-text-repr-fallback\"><pre>LinearRegression()</pre><b>In a Jupyter environment, please rerun this cell to show the HTML representation or trust the notebook. <br />On GitHub, the HTML representation is unable to render, please try loading this page with nbviewer.org.</b></div><div class=\"sk-container\" hidden><div class=\"sk-item\"><div class=\"sk-estimator sk-toggleable\"><input class=\"sk-toggleable__control sk-hidden--visually\" id=\"sk-estimator-id-1\" type=\"checkbox\" checked><label for=\"sk-estimator-id-1\" class=\"sk-toggleable__label sk-toggleable__label-arrow\">LinearRegression</label><div class=\"sk-toggleable__content\"><pre>LinearRegression()</pre></div></div></div></div></div>"
      ],
      "text/plain": [
       "LinearRegression()"
      ]
     },
     "execution_count": 31,
     "metadata": {},
     "output_type": "execute_result"
    }
   ],
   "source": [
    "lm = LinearRegression()\n",
    "lm.fit(X,y)"
   ]
  },
  {
   "cell_type": "code",
   "execution_count": 32,
   "id": "ec7e80bb",
   "metadata": {
    "execution": {
     "iopub.execute_input": "2024-06-13T05:17:32.798916Z",
     "iopub.status.busy": "2024-06-13T05:17:32.798501Z",
     "iopub.status.idle": "2024-06-13T05:17:33.065443Z",
     "shell.execute_reply": "2024-06-13T05:17:33.063419Z"
    },
    "papermill": {
     "duration": 0.315411,
     "end_time": "2024-06-13T05:17:33.070721",
     "exception": false,
     "start_time": "2024-06-13T05:17:32.755310",
     "status": "completed"
    },
    "tags": []
   },
   "outputs": [
    {
     "data": {
      "text/plain": [
       "array([[49089.09643555],\n",
       "       [17925.02093506],\n",
       "       [15693.41137695],\n",
       "       [79381.78552246],\n",
       "       [16228.65808105]])"
      ]
     },
     "execution_count": 32,
     "metadata": {},
     "output_type": "execute_result"
    }
   ],
   "source": [
    "#make predictions\n",
    "yhat = lm.predict(X)\n",
    "yhat[0:5]"
   ]
  },
  {
   "cell_type": "code",
   "execution_count": 33,
   "id": "b0a386aa",
   "metadata": {
    "execution": {
     "iopub.execute_input": "2024-06-13T05:17:33.160453Z",
     "iopub.status.busy": "2024-06-13T05:17:33.159382Z",
     "iopub.status.idle": "2024-06-13T05:17:33.173808Z",
     "shell.execute_reply": "2024-06-13T05:17:33.169451Z"
    },
    "papermill": {
     "duration": 0.06295,
     "end_time": "2024-06-13T05:17:33.177115",
     "exception": false,
     "start_time": "2024-06-13T05:17:33.114165",
     "status": "completed"
    },
    "tags": []
   },
   "outputs": [
    {
     "data": {
      "text/plain": [
       "array([-3.8856667e+11])"
      ]
     },
     "execution_count": 33,
     "metadata": {},
     "output_type": "execute_result"
    }
   ],
   "source": [
    "#find the intercept\n",
    "lm.intercept_"
   ]
  },
  {
   "cell_type": "code",
   "execution_count": 34,
   "id": "4583b99f",
   "metadata": {
    "execution": {
     "iopub.execute_input": "2024-06-13T05:17:33.219674Z",
     "iopub.status.busy": "2024-06-13T05:17:33.219202Z",
     "iopub.status.idle": "2024-06-13T05:17:33.233877Z",
     "shell.execute_reply": "2024-06-13T05:17:33.232449Z"
    },
    "papermill": {
     "duration": 0.039337,
     "end_time": "2024-06-13T05:17:33.236910",
     "exception": false,
     "start_time": "2024-06-13T05:17:33.197573",
     "status": "completed"
    },
    "tags": []
   },
   "outputs": [
    {
     "data": {
      "text/plain": [
       "array([[ 1.37498991e+03, -1.68339632e-01,  1.77728590e+11,\n",
       "         1.77728589e+11,  1.77728651e+11,  1.77728599e+11,\n",
       "         1.77728594e+11,  1.77728631e+11,  1.77730434e+11,\n",
       "         1.77728584e+11,  1.77728589e+11,  1.77728589e+11,\n",
       "         1.77728586e+11,  1.77728592e+11,  1.77728568e+11,\n",
       "         1.77728680e+11,  1.77728589e+11,  1.77728590e+11,\n",
       "         1.77728592e+11,  1.77728586e+11,  1.77728588e+11,\n",
       "         1.77728577e+11,  1.77728588e+11,  1.77728594e+11,\n",
       "         1.77728586e+11,  1.77728580e+11,  1.77728671e+11,\n",
       "         1.77728596e+11,  1.77728592e+11,  1.77728588e+11,\n",
       "         1.77728594e+11,  1.77728583e+11,  1.77728579e+11,\n",
       "         1.77728599e+11,  1.77728621e+11,  1.77728581e+11,\n",
       "         1.77728637e+11,  1.77728601e+11,  1.77728591e+11,\n",
       "         1.77728582e+11,  1.77728591e+11,  1.77728553e+11,\n",
       "         1.77728585e+11,  1.77728610e+11,  1.77728590e+11,\n",
       "         1.77728610e+11,  1.77728716e+11,  1.77728585e+11,\n",
       "         1.77728581e+11,  1.77728584e+11,  1.77728577e+11,\n",
       "         1.77728589e+11,  1.77728590e+11,  1.77728583e+11,\n",
       "         1.77728585e+11, -1.51176687e+10, -1.51176456e+10,\n",
       "        -1.51176748e+10, -1.51176753e+10, -1.51176718e+10,\n",
       "        -1.51176704e+10, -1.51176726e+10, -1.51176751e+10,\n",
       "        -1.51176740e+10, -1.51176764e+10, -1.51176357e+10,\n",
       "        -1.51176490e+10, -1.51176796e+10, -1.51176741e+10,\n",
       "        -1.51176735e+10, -1.51176748e+10, -1.51176801e+10,\n",
       "        -1.51176650e+10, -1.51176815e+10, -1.51176728e+10,\n",
       "        -1.51176241e+10, -1.51176790e+10, -1.51176768e+10,\n",
       "        -1.51176734e+10, -1.51176705e+10, -1.51176740e+10,\n",
       "        -1.51176743e+10, -1.51176976e+10, -1.51176743e+10,\n",
       "        -1.51176688e+10, -1.51176485e+10, -1.51176607e+10,\n",
       "        -1.51176772e+10, -1.51176694e+10, -1.51176722e+10,\n",
       "        -1.51176777e+10, -1.51176749e+10, -1.51176808e+10,\n",
       "        -1.51176750e+10, -1.51176656e+10, -1.51176696e+10,\n",
       "        -1.51176760e+10, -1.51176693e+10, -1.51176674e+10,\n",
       "        -1.51176724e+10, -1.51176690e+10, -1.51176726e+10,\n",
       "        -1.51176702e+10, -1.51176779e+10, -1.51176925e+10,\n",
       "        -1.51176777e+10, -1.51176839e+10, -1.51176594e+10,\n",
       "        -1.51177295e+10, -1.51176697e+10, -1.51176694e+10,\n",
       "        -1.51176386e+10, -1.51176759e+10, -1.51176650e+10,\n",
       "        -1.51176714e+10, -1.51176779e+10, -1.51176591e+10,\n",
       "        -1.51176689e+10, -1.51176706e+10, -1.51176553e+10,\n",
       "        -1.51176726e+10, -1.51176697e+10, -1.51176694e+10,\n",
       "        -1.51176866e+10, -1.51176580e+10, -1.51176816e+10,\n",
       "        -1.51176709e+10, -1.51176785e+10, -1.51176701e+10,\n",
       "        -1.51176711e+10, -1.51176705e+10, -1.51176686e+10,\n",
       "        -1.51176750e+10, -1.51176664e+10, -1.51176744e+10,\n",
       "        -1.51176730e+10, -1.51176702e+10, -1.51176686e+10,\n",
       "        -1.51176621e+10, -1.51176646e+10, -1.51176613e+10,\n",
       "        -1.51176756e+10, -1.51176786e+10, -1.51176458e+10,\n",
       "        -1.51176452e+10, -1.51176816e+10, -1.51176522e+10,\n",
       "        -1.51176856e+10, -1.51176789e+10, -1.51176576e+10,\n",
       "        -1.51176787e+10, -1.51176690e+10, -1.51176697e+10,\n",
       "        -1.51176844e+10, -1.51176694e+10, -1.51176642e+10,\n",
       "        -1.51176648e+10, -1.51176716e+10, -1.51176692e+10,\n",
       "        -1.51176711e+10, -1.51176682e+10, -1.51176730e+10,\n",
       "        -1.51176681e+10, -1.51176678e+10, -1.51176672e+10,\n",
       "        -1.51176558e+10, -1.51176721e+10, -1.51176654e+10,\n",
       "        -1.51176858e+10, -1.51176760e+10,  3.25761092e+11,\n",
       "         3.25761078e+11,  3.25761080e+11,  3.25761078e+11,\n",
       "         3.25761082e+11,  3.25761075e+11, -4.20361172e+10,\n",
       "        -4.20361221e+10, -4.20361208e+10, -4.20361299e+10,\n",
       "        -4.20361167e+10, -4.20361346e+10, -4.20361262e+10,\n",
       "        -4.20361276e+10, -4.20361074e+10, -4.20361238e+10,\n",
       "        -4.20361310e+10, -4.20361411e+10, -4.20361240e+10,\n",
       "        -4.20361228e+10, -4.20361201e+10, -4.20361361e+10,\n",
       "        -4.20361380e+10, -4.20361359e+10, -4.20361332e+10,\n",
       "        -4.20361279e+10, -4.20361321e+10, -4.20361367e+10,\n",
       "        -4.20361293e+10, -4.20361353e+10, -4.20361219e+10,\n",
       "        -4.20361384e+10, -4.20361295e+10, -4.20361213e+10,\n",
       "        -4.20361258e+10, -4.20361286e+10, -4.20361222e+10,\n",
       "        -4.20361247e+10, -4.20361314e+10, -4.20361243e+10,\n",
       "        -4.20361228e+10, -4.20361213e+10, -4.20361241e+10,\n",
       "        -4.20361221e+10, -4.20361274e+10, -4.20361208e+10,\n",
       "        -4.20361235e+10, -4.20361167e+10, -4.20361234e+10,\n",
       "        -4.20361244e+10, -4.20361145e+10, -4.20361313e+10,\n",
       "        -4.20361233e+10, -4.20361293e+10, -4.20361315e+10,\n",
       "        -4.20361435e+10, -4.20361244e+10, -4.20361242e+10,\n",
       "        -4.20361160e+10, -4.20361127e+10, -4.20361343e+10,\n",
       "        -4.20361271e+10, -4.20361218e+10, -4.20361276e+10,\n",
       "        -4.20361261e+10, -4.20361362e+10, -4.20361213e+10,\n",
       "        -4.20361319e+10, -4.20361093e+10, -4.20361158e+10,\n",
       "        -4.20361283e+10, -4.20361212e+10, -4.20361248e+10,\n",
       "        -4.20361269e+10, -4.20361361e+10, -4.20361242e+10,\n",
       "        -4.20361310e+10, -4.20361249e+10, -4.20361211e+10,\n",
       "        -4.20361309e+10, -4.20361289e+10, -4.20361011e+10,\n",
       "        -4.20361300e+10, -4.20361274e+10, -4.20361226e+10,\n",
       "        -4.20361154e+10, -4.20361015e+10, -4.20361257e+10,\n",
       "        -4.20361042e+10, -4.20361089e+10, -4.20361207e+10,\n",
       "        -4.20361154e+10, -4.20361088e+10, -4.20361285e+10,\n",
       "        -4.20361147e+10, -4.20361184e+10, -4.20361166e+10,\n",
       "        -4.20361450e+10, -4.20361195e+10, -4.20361119e+10,\n",
       "        -4.20361207e+10, -4.20361163e+10, -4.20361165e+10,\n",
       "        -4.20360945e+10, -4.20361071e+10, -4.20361157e+10,\n",
       "        -4.20361196e+10, -4.20361150e+10, -4.20361261e+10,\n",
       "        -4.20361330e+10, -4.20361139e+10, -4.20361171e+10,\n",
       "        -4.20361187e+10, -4.20361100e+10, -4.20361278e+10,\n",
       "        -4.20361086e+10, -4.20360954e+10, -4.20360976e+10,\n",
       "        -4.20361223e+10, -4.20361110e+10, -4.20361117e+10,\n",
       "        -4.20361101e+10, -4.20361267e+10, -4.20361104e+10,\n",
       "        -4.20360871e+10, -4.20361097e+10, -4.20361157e+10,\n",
       "        -4.20361428e+10, -4.20361069e+10, -4.20360881e+10,\n",
       "        -4.20361045e+10, -4.20361093e+10, -4.20361202e+10,\n",
       "        -4.20361135e+10,  3.12059260e+10,  3.12059299e+10,\n",
       "         3.12059438e+10,  3.12059386e+10,  3.12059230e+10,\n",
       "         3.12059563e+10,  3.12059254e+10,  3.12059196e+10,\n",
       "         3.12059326e+10,  3.12059694e+10,  3.12059271e+10,\n",
       "         3.12060080e+10,  3.12059274e+10,  3.12059295e+10,\n",
       "         3.12059921e+10,  3.12059515e+10,  3.12059691e+10,\n",
       "         3.12059284e+10,  3.12059368e+10,  3.12060110e+10,\n",
       "         3.12059277e+10,  3.12059306e+10,  3.12059245e+10,\n",
       "         3.12059368e+10,  3.12059220e+10,  3.12059188e+10,\n",
       "         3.12059236e+10,  3.12059902e+10,  3.12059227e+10,\n",
       "         3.12059270e+10, -2.63563556e+11, -2.63563545e+11,\n",
       "        -2.63563546e+11, -2.63563554e+11, -2.63563547e+11,\n",
       "        -2.63563571e+11, -2.63563548e+11, -2.63563576e+11,\n",
       "        -2.63563574e+11, -2.63563547e+11, -2.63563544e+11,\n",
       "        -2.63563540e+11, -2.63563543e+11, -2.63563550e+11,\n",
       "        -2.63563548e+11, -2.63563539e+11, -2.63563547e+11,\n",
       "        -2.63563561e+11, -2.63563557e+11, -2.63563556e+11,\n",
       "        -2.63563547e+11, -2.63563548e+11,  8.53906926e+10,\n",
       "         8.53906852e+10,  8.53906856e+10,  8.53907003e+10,\n",
       "         8.53906905e+10,  8.53906915e+10,  8.53906774e+10,\n",
       "         8.53906672e+10,  8.53906711e+10,  8.53906542e+10,\n",
       "         8.53906145e+10,  8.53906800e+10,  8.53906990e+10,\n",
       "         8.53906972e+10,  8.53906824e+10,  8.53906887e+10,\n",
       "         8.53907047e+10,  8.53906838e+10,  8.53906858e+10,\n",
       "         8.53906863e+10,  8.53906884e+10,  8.53907441e+10,\n",
       "         8.53907308e+10,  8.53906847e+10,  8.53906692e+10,\n",
       "         8.53906775e+10,  8.53906908e+10,  8.53906785e+10,\n",
       "         8.53906697e+10,  8.53906773e+10,  8.53907075e+10,\n",
       "         8.53906905e+10,  8.53906848e+10,  8.53907222e+10,\n",
       "         8.53906872e+10,  8.53906959e+10,  8.53906853e+10,\n",
       "         8.53906744e+10,  8.53906709e+10,  8.53906853e+10,\n",
       "         8.53907207e+10,  8.53906918e+10,  8.53906798e+10,\n",
       "         8.91949993e+10,  8.91950033e+10]])"
      ]
     },
     "execution_count": 34,
     "metadata": {},
     "output_type": "execute_result"
    }
   ],
   "source": [
    "#find the slope\n",
    "lm.coef_"
   ]
  },
  {
   "cell_type": "code",
   "execution_count": 35,
   "id": "27c11bb8",
   "metadata": {
    "execution": {
     "iopub.execute_input": "2024-06-13T05:17:33.281048Z",
     "iopub.status.busy": "2024-06-13T05:17:33.280601Z",
     "iopub.status.idle": "2024-06-13T05:17:33.290137Z",
     "shell.execute_reply": "2024-06-13T05:17:33.288615Z"
    },
    "papermill": {
     "duration": 0.035146,
     "end_time": "2024-06-13T05:17:33.293161",
     "exception": false,
     "start_time": "2024-06-13T05:17:33.258015",
     "status": "completed"
    },
    "tags": []
   },
   "outputs": [
    {
     "name": "stdout",
     "output_type": "stream",
     "text": [
      "Mean Squared Error (MSE): 4606546005.919433\n"
     ]
    }
   ],
   "source": [
    "#find the MSE\n",
    "from sklearn.metrics import mean_squared_error\n",
    "\n",
    "# Calculate the mean squared error\n",
    "mse = mean_squared_error(y, yhat)\n",
    "\n",
    "# Print the MSE\n",
    "print(\"Mean Squared Error (MSE):\", mse)\n"
   ]
  },
  {
   "cell_type": "code",
   "execution_count": 36,
   "id": "a44d0487",
   "metadata": {
    "execution": {
     "iopub.execute_input": "2024-06-13T05:17:33.337296Z",
     "iopub.status.busy": "2024-06-13T05:17:33.336854Z",
     "iopub.status.idle": "2024-06-13T05:17:33.345119Z",
     "shell.execute_reply": "2024-06-13T05:17:33.343635Z"
    },
    "papermill": {
     "duration": 0.032958,
     "end_time": "2024-06-13T05:17:33.347784",
     "exception": false,
     "start_time": "2024-06-13T05:17:33.314826",
     "status": "completed"
    },
    "tags": []
   },
   "outputs": [
    {
     "data": {
      "text/plain": [
       "67871.5404710946"
      ]
     },
     "execution_count": 36,
     "metadata": {},
     "output_type": "execute_result"
    }
   ],
   "source": [
    "#find the RMSE\n",
    "rmse = np.sqrt(mse)\n",
    "rmse"
   ]
  },
  {
   "cell_type": "code",
   "execution_count": 37,
   "id": "e80ae771",
   "metadata": {
    "execution": {
     "iopub.execute_input": "2024-06-13T05:17:33.392530Z",
     "iopub.status.busy": "2024-06-13T05:17:33.392039Z",
     "iopub.status.idle": "2024-06-13T05:17:33.403579Z",
     "shell.execute_reply": "2024-06-13T05:17:33.402173Z"
    },
    "papermill": {
     "duration": 0.037447,
     "end_time": "2024-06-13T05:17:33.406433",
     "exception": false,
     "start_time": "2024-06-13T05:17:33.368986",
     "status": "completed"
    },
    "tags": []
   },
   "outputs": [
    {
     "data": {
      "text/plain": [
       "0.13148212159271466"
      ]
     },
     "execution_count": 37,
     "metadata": {},
     "output_type": "execute_result"
    }
   ],
   "source": [
    "#find rscore\n",
    "from sklearn.metrics import r2_score\n",
    "r2_score(y, yhat)"
   ]
  }
 ],
 "metadata": {
  "kaggle": {
   "accelerator": "none",
   "dataSources": [
    {
     "datasetId": 5130497,
     "sourceId": 8579062,
     "sourceType": "datasetVersion"
    }
   ],
   "dockerImageVersionId": 30715,
   "isGpuEnabled": false,
   "isInternetEnabled": true,
   "language": "python",
   "sourceType": "notebook"
  },
  "kernelspec": {
   "display_name": "Python 3",
   "language": "python",
   "name": "python3"
  },
  "language_info": {
   "codemirror_mode": {
    "name": "ipython",
    "version": 3
   },
   "file_extension": ".py",
   "mimetype": "text/x-python",
   "name": "python",
   "nbconvert_exporter": "python",
   "pygments_lexer": "ipython3",
   "version": "3.10.13"
  },
  "papermill": {
   "default_parameters": {},
   "duration": 46.968493,
   "end_time": "2024-06-13T05:17:34.353120",
   "environment_variables": {},
   "exception": null,
   "input_path": "__notebook__.ipynb",
   "output_path": "__notebook__.ipynb",
   "parameters": {},
   "start_time": "2024-06-13T05:16:47.384627",
   "version": "2.5.0"
  }
 },
 "nbformat": 4,
 "nbformat_minor": 5
}
