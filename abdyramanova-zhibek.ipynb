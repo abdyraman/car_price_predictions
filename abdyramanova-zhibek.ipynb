{
 "cells": [
  {
   "cell_type": "code",
   "execution_count": 1,
   "id": "766ab115",
   "metadata": {
    "_cell_guid": "b1076dfc-b9ad-4769-8c92-a6c4dae69d19",
    "_uuid": "8f2839f25d086af736a60e9eeb907d3b93b6e0e5",
    "execution": {
     "iopub.execute_input": "2024-06-21T16:30:36.491173Z",
     "iopub.status.busy": "2024-06-21T16:30:36.490800Z",
     "iopub.status.idle": "2024-06-21T16:30:38.650873Z",
     "shell.execute_reply": "2024-06-21T16:30:38.649792Z"
    },
    "papermill": {
     "duration": 2.178001,
     "end_time": "2024-06-21T16:30:38.653552",
     "exception": false,
     "start_time": "2024-06-21T16:30:36.475551",
     "status": "completed"
    },
    "tags": []
   },
   "outputs": [
    {
     "name": "stdout",
     "output_type": "stream",
     "text": [
      "/kaggle/input/kagglexfellowship/kagglex-cohort4/sample_submission.csv\n",
      "/kaggle/input/kagglexfellowship/kagglex-cohort4/train.csv\n",
      "/kaggle/input/kagglexfellowship/kagglex-cohort4/test.csv\n"
     ]
    }
   ],
   "source": [
    "# This Python 3 environment comes with many helpful analytics libraries installed\n",
    "# It is defined by the kaggle/python Docker image: https://github.com/kaggle/docker-python\n",
    "# For example, here's several helpful packages to load\n",
    "\n",
    "import numpy as np # linear algebra\n",
    "import pandas as pd # data processing, CSV file I/O (e.g. pd.read_csv)\n",
    "import seaborn as sns\n",
    "import matplotlib.pyplot as plt\n",
    "\n",
    "# Input data files are available in the read-only \"../input/\" directory\n",
    "# For example, running this (by clicking run or pressing Shift+Enter) will list all files under the input directory\n",
    "\n",
    "import os\n",
    "for dirname, _, filenames in os.walk('/kaggle/input'):\n",
    "    for filename in filenames:\n",
    "        print(os.path.join(dirname, filename))\n",
    "\n",
    "# You can write up to 20GB to the current directory (/kaggle/working/) that gets preserved as output when you create a version using \"Save & Run All\" \n",
    "# You can also write temporary files to /kaggle/temp/, but they won't be saved outside of the current session"
   ]
  },
  {
   "cell_type": "code",
   "execution_count": 2,
   "id": "389d1ab9",
   "metadata": {
    "execution": {
     "iopub.execute_input": "2024-06-21T16:30:38.683255Z",
     "iopub.status.busy": "2024-06-21T16:30:38.682774Z",
     "iopub.status.idle": "2024-06-21T16:30:39.141858Z",
     "shell.execute_reply": "2024-06-21T16:30:39.140782Z"
    },
    "papermill": {
     "duration": 0.476957,
     "end_time": "2024-06-21T16:30:39.144415",
     "exception": false,
     "start_time": "2024-06-21T16:30:38.667458",
     "status": "completed"
    },
    "tags": []
   },
   "outputs": [],
   "source": [
    "#  Import and read the data \n",
    "train = pd.read_csv('/kaggle/input/kagglexfellowship/kagglex-cohort4/train.csv')\n",
    "test=pd.read_csv('/kaggle/input/kagglexfellowship/kagglex-cohort4/test.csv')\n",
    "subm=pd.read_csv('/kaggle/input/kagglexfellowship/kagglex-cohort4/sample_submission.csv')\n"
   ]
  },
  {
   "cell_type": "code",
   "execution_count": 3,
   "id": "216d5f7c",
   "metadata": {
    "execution": {
     "iopub.execute_input": "2024-06-21T16:30:39.174086Z",
     "iopub.status.busy": "2024-06-21T16:30:39.173696Z",
     "iopub.status.idle": "2024-06-21T16:30:39.188001Z",
     "shell.execute_reply": "2024-06-21T16:30:39.186804Z"
    },
    "papermill": {
     "duration": 0.031932,
     "end_time": "2024-06-21T16:30:39.190175",
     "exception": false,
     "start_time": "2024-06-21T16:30:39.158243",
     "status": "completed"
    },
    "tags": []
   },
   "outputs": [],
   "source": [
    "#Drop the non-beneficial ID columns and assign ID column as labels\n",
    "def set_index (df):\n",
    "    df.set_index('id', inplace=True)\n",
    "    return df\n",
    "\n",
    "train_df=set_index(train)\n",
    "test_df=set_index(test)"
   ]
  },
  {
   "cell_type": "markdown",
   "id": "ffd0a9b9",
   "metadata": {
    "papermill": {
     "duration": 0.01374,
     "end_time": "2024-06-21T16:30:39.217447",
     "exception": false,
     "start_time": "2024-06-21T16:30:39.203707",
     "status": "completed"
    },
    "tags": []
   },
   "source": [
    "# Data Exploration"
   ]
  },
  {
   "cell_type": "code",
   "execution_count": 4,
   "id": "c930b7d9",
   "metadata": {
    "execution": {
     "iopub.execute_input": "2024-06-21T16:30:39.246219Z",
     "iopub.status.busy": "2024-06-21T16:30:39.245846Z",
     "iopub.status.idle": "2024-06-21T16:30:39.254654Z",
     "shell.execute_reply": "2024-06-21T16:30:39.253568Z"
    },
    "papermill": {
     "duration": 0.025798,
     "end_time": "2024-06-21T16:30:39.256770",
     "exception": false,
     "start_time": "2024-06-21T16:30:39.230972",
     "status": "completed"
    },
    "tags": []
   },
   "outputs": [
    {
     "data": {
      "text/plain": [
       "brand           object\n",
       "model           object\n",
       "model_year       int64\n",
       "milage           int64\n",
       "fuel_type       object\n",
       "engine          object\n",
       "transmission    object\n",
       "ext_col         object\n",
       "int_col         object\n",
       "accident        object\n",
       "clean_title     object\n",
       "price            int64\n",
       "dtype: object"
      ]
     },
     "execution_count": 4,
     "metadata": {},
     "output_type": "execute_result"
    }
   ],
   "source": [
    "# Checking the datatypes for train dataset\n",
    "train_df.dtypes"
   ]
  },
  {
   "cell_type": "code",
   "execution_count": 5,
   "id": "7508f217",
   "metadata": {
    "execution": {
     "iopub.execute_input": "2024-06-21T16:30:39.285791Z",
     "iopub.status.busy": "2024-06-21T16:30:39.285375Z",
     "iopub.status.idle": "2024-06-21T16:30:39.293066Z",
     "shell.execute_reply": "2024-06-21T16:30:39.292116Z"
    },
    "papermill": {
     "duration": 0.024718,
     "end_time": "2024-06-21T16:30:39.295176",
     "exception": false,
     "start_time": "2024-06-21T16:30:39.270458",
     "status": "completed"
    },
    "tags": []
   },
   "outputs": [
    {
     "data": {
      "text/plain": [
       "brand           object\n",
       "model           object\n",
       "model_year       int64\n",
       "milage           int64\n",
       "fuel_type       object\n",
       "engine          object\n",
       "transmission    object\n",
       "ext_col         object\n",
       "int_col         object\n",
       "accident        object\n",
       "clean_title     object\n",
       "dtype: object"
      ]
     },
     "execution_count": 5,
     "metadata": {},
     "output_type": "execute_result"
    }
   ],
   "source": [
    "test_df.dtypes"
   ]
  },
  {
   "cell_type": "code",
   "execution_count": 6,
   "id": "ef053fc5",
   "metadata": {
    "execution": {
     "iopub.execute_input": "2024-06-21T16:30:39.324934Z",
     "iopub.status.busy": "2024-06-21T16:30:39.324550Z",
     "iopub.status.idle": "2024-06-21T16:30:39.331450Z",
     "shell.execute_reply": "2024-06-21T16:30:39.329882Z"
    },
    "papermill": {
     "duration": 0.024654,
     "end_time": "2024-06-21T16:30:39.334230",
     "exception": false,
     "start_time": "2024-06-21T16:30:39.309576",
     "status": "completed"
    },
    "tags": []
   },
   "outputs": [
    {
     "data": {
      "text/plain": [
       "(36183, 11)"
      ]
     },
     "execution_count": 6,
     "metadata": {},
     "output_type": "execute_result"
    }
   ],
   "source": [
    "test_df.shape"
   ]
  },
  {
   "cell_type": "code",
   "execution_count": 7,
   "id": "f0b7b148",
   "metadata": {
    "execution": {
     "iopub.execute_input": "2024-06-21T16:30:39.363964Z",
     "iopub.status.busy": "2024-06-21T16:30:39.363578Z",
     "iopub.status.idle": "2024-06-21T16:30:39.368531Z",
     "shell.execute_reply": "2024-06-21T16:30:39.367526Z"
    },
    "papermill": {
     "duration": 0.022112,
     "end_time": "2024-06-21T16:30:39.370671",
     "exception": false,
     "start_time": "2024-06-21T16:30:39.348559",
     "status": "completed"
    },
    "tags": []
   },
   "outputs": [],
   "source": [
    "#Determine the number of unique values in each column\n",
    "def dataset_unique_counts(df):\n",
    "    unique_counts = df.nunique()\n",
    "    print(unique_counts)"
   ]
  },
  {
   "cell_type": "code",
   "execution_count": 8,
   "id": "9b7bce7c",
   "metadata": {
    "execution": {
     "iopub.execute_input": "2024-06-21T16:30:39.400585Z",
     "iopub.status.busy": "2024-06-21T16:30:39.399659Z",
     "iopub.status.idle": "2024-06-21T16:30:39.448095Z",
     "shell.execute_reply": "2024-06-21T16:30:39.447006Z"
    },
    "papermill": {
     "duration": 0.065632,
     "end_time": "2024-06-21T16:30:39.450282",
     "exception": false,
     "start_time": "2024-06-21T16:30:39.384650",
     "status": "completed"
    },
    "tags": []
   },
   "outputs": [
    {
     "name": "stdout",
     "output_type": "stream",
     "text": [
      "brand             53\n",
      "model           1827\n",
      "model_year        34\n",
      "milage          3212\n",
      "fuel_type          7\n",
      "engine          1061\n",
      "transmission      46\n",
      "ext_col          260\n",
      "int_col          124\n",
      "accident           2\n",
      "clean_title        1\n",
      "price           1481\n",
      "dtype: int64\n"
     ]
    }
   ],
   "source": [
    "#Unique values for train dataset\n",
    "dataset_unique_counts(train_df)"
   ]
  },
  {
   "cell_type": "code",
   "execution_count": 9,
   "id": "14499288",
   "metadata": {
    "execution": {
     "iopub.execute_input": "2024-06-21T16:30:39.480237Z",
     "iopub.status.busy": "2024-06-21T16:30:39.479879Z",
     "iopub.status.idle": "2024-06-21T16:30:39.510799Z",
     "shell.execute_reply": "2024-06-21T16:30:39.509678Z"
    },
    "papermill": {
     "duration": 0.048294,
     "end_time": "2024-06-21T16:30:39.513146",
     "exception": false,
     "start_time": "2024-06-21T16:30:39.464852",
     "status": "completed"
    },
    "tags": []
   },
   "outputs": [
    {
     "name": "stdout",
     "output_type": "stream",
     "text": [
      "brand             53\n",
      "model           1791\n",
      "model_year        34\n",
      "milage          2973\n",
      "fuel_type          7\n",
      "engine          1038\n",
      "transmission      44\n",
      "ext_col          230\n",
      "int_col          111\n",
      "accident           2\n",
      "clean_title        1\n",
      "dtype: int64\n"
     ]
    }
   ],
   "source": [
    "#Unique values for test dataset\n",
    "dataset_unique_counts(test_df)"
   ]
  },
  {
   "cell_type": "code",
   "execution_count": 10,
   "id": "f46f50aa",
   "metadata": {
    "execution": {
     "iopub.execute_input": "2024-06-21T16:30:39.542969Z",
     "iopub.status.busy": "2024-06-21T16:30:39.542579Z",
     "iopub.status.idle": "2024-06-21T16:30:39.548176Z",
     "shell.execute_reply": "2024-06-21T16:30:39.547098Z"
    },
    "papermill": {
     "duration": 0.022957,
     "end_time": "2024-06-21T16:30:39.550316",
     "exception": false,
     "start_time": "2024-06-21T16:30:39.527359",
     "status": "completed"
    },
    "tags": []
   },
   "outputs": [],
   "source": [
    "def price_plot(df):\n",
    "    plt.figure(figsize=(8, 6))\n",
    "    sns.stripplot(data=df, y='price', jitter=True, color='purple', alpha=0.5)\n",
    "    plt.title('Strip Plot: Price Distribution')\n",
    "    plt.ylabel('Price')\n",
    "    plt.grid(True)\n",
    "    plt.show()"
   ]
  },
  {
   "cell_type": "code",
   "execution_count": 11,
   "id": "013742a3",
   "metadata": {
    "execution": {
     "iopub.execute_input": "2024-06-21T16:30:39.580340Z",
     "iopub.status.busy": "2024-06-21T16:30:39.579986Z",
     "iopub.status.idle": "2024-06-21T16:30:39.956859Z",
     "shell.execute_reply": "2024-06-21T16:30:39.955775Z"
    },
    "papermill": {
     "duration": 0.394716,
     "end_time": "2024-06-21T16:30:39.959020",
     "exception": false,
     "start_time": "2024-06-21T16:30:39.564304",
     "status": "completed"
    },
    "tags": []
   },
   "outputs": [
    {
     "name": "stderr",
     "output_type": "stream",
     "text": [
      "/opt/conda/lib/python3.10/site-packages/seaborn/_oldcore.py:1119: FutureWarning: use_inf_as_na option is deprecated and will be removed in a future version. Convert inf values to NaN before operating instead.\n",
      "  with pd.option_context('mode.use_inf_as_na', True):\n",
      "/opt/conda/lib/python3.10/site-packages/seaborn/_oldcore.py:1119: FutureWarning: use_inf_as_na option is deprecated and will be removed in a future version. Convert inf values to NaN before operating instead.\n",
      "  with pd.option_context('mode.use_inf_as_na', True):\n",
      "/opt/conda/lib/python3.10/site-packages/seaborn/_oldcore.py:1075: FutureWarning: When grouping with a length-1 list-like, you will need to pass a length-1 tuple to get_group in a future version of pandas. Pass `(name,)` instead of `name` to silence this warning.\n",
      "  data_subset = grouped_data.get_group(pd_key)\n"
     ]
    },
    {
     "data": {
      "image/png": "[encoded data removed]",
      "text/plain": [
       "<Figure size 800x600 with 1 Axes>"
      ]
     },
     "metadata": {},
     "output_type": "display_data"
    }
   ],
   "source": [
    "price_plot(train_df)"
   ]
  },
  {
   "cell_type": "markdown",
   "id": "6cd97cd3",
   "metadata": {
    "papermill": {
     "duration": 0.01464,
     "end_time": "2024-06-21T16:30:39.988343",
     "exception": false,
     "start_time": "2024-06-21T16:30:39.973703",
     "status": "completed"
    },
    "tags": []
   },
   "source": [
    "Above Histogram shows that most cars lie in the lower range of price.\n",
    "The above graph has outliers from 0.4 onwards, which need to be removed."
   ]
  },
  {
   "cell_type": "code",
   "execution_count": 12,
   "id": "0061ef18",
   "metadata": {
    "execution": {
     "iopub.execute_input": "2024-06-21T16:30:40.020703Z",
     "iopub.status.busy": "2024-06-21T16:30:40.019673Z",
     "iopub.status.idle": "2024-06-21T16:30:40.036832Z",
     "shell.execute_reply": "2024-06-21T16:30:40.035497Z"
    },
    "papermill": {
     "duration": 0.035219,
     "end_time": "2024-06-21T16:30:40.039096",
     "exception": false,
     "start_time": "2024-06-21T16:30:40.003877",
     "status": "completed"
    },
    "tags": []
   },
   "outputs": [
    {
     "data": {
      "text/plain": [
       "count    5.427300e+04\n",
       "mean     3.921844e+04\n",
       "std      7.282634e+04\n",
       "min      2.000000e+03\n",
       "25%      1.550000e+04\n",
       "50%      2.800000e+04\n",
       "75%      4.500000e+04\n",
       "max      2.954083e+06\n",
       "Name: price, dtype: float64"
      ]
     },
     "execution_count": 12,
     "metadata": {},
     "output_type": "execute_result"
    }
   ],
   "source": [
    "#Train data needs to be cleaned from outliers\n",
    "train_df['price'].describe()\n"
   ]
  },
  {
   "cell_type": "code",
   "execution_count": 13,
   "id": "a7b7cf94",
   "metadata": {
    "execution": {
     "iopub.execute_input": "2024-06-21T16:30:40.070387Z",
     "iopub.status.busy": "2024-06-21T16:30:40.070011Z",
     "iopub.status.idle": "2024-06-21T16:30:40.079987Z",
     "shell.execute_reply": "2024-06-21T16:30:40.078809Z"
    },
    "papermill": {
     "duration": 0.028136,
     "end_time": "2024-06-21T16:30:40.082052",
     "exception": false,
     "start_time": "2024-06-21T16:30:40.053916",
     "status": "completed"
    },
    "tags": []
   },
   "outputs": [
    {
     "name": "stdout",
     "output_type": "stream",
     "text": [
      "29500.0\n"
     ]
    }
   ],
   "source": [
    "#identify and remove outliers from the data df in relation to price column using IQR method\n",
    "Q1 = train_df['price'].quantile(0.25)\n",
    "Q3 = train_df['price'].quantile(0.75)\n",
    "IQR = Q3 - Q1\n",
    "print(IQR)"
   ]
  },
  {
   "cell_type": "code",
   "execution_count": 14,
   "id": "8bbd4d59",
   "metadata": {
    "execution": {
     "iopub.execute_input": "2024-06-21T16:30:40.113299Z",
     "iopub.status.busy": "2024-06-21T16:30:40.112951Z",
     "iopub.status.idle": "2024-06-21T16:30:40.129052Z",
     "shell.execute_reply": "2024-06-21T16:30:40.128042Z"
    },
    "papermill": {
     "duration": 0.03454,
     "end_time": "2024-06-21T16:30:40.131429",
     "exception": false,
     "start_time": "2024-06-21T16:30:40.096889",
     "status": "completed"
    },
    "tags": []
   },
   "outputs": [
    {
     "data": {
      "text/plain": [
       "(47678, 12)"
      ]
     },
     "execution_count": 14,
     "metadata": {},
     "output_type": "execute_result"
    }
   ],
   "source": [
    "#use IQR value to filter out the outliers\n",
    "outliersfree_df = train_df[~((train_df['price'] < (Q1 - 1.5 * IQR)) |(train_df['price'] > (Q3 + 0.7 * IQR)))]\n",
    "outliersfree_df.shape"
   ]
  },
  {
   "cell_type": "markdown",
   "id": "72d89356",
   "metadata": {
    "papermill": {
     "duration": 0.014677,
     "end_time": "2024-06-21T16:30:40.161274",
     "exception": false,
     "start_time": "2024-06-21T16:30:40.146597",
     "status": "completed"
    },
    "tags": []
   },
   "source": [
    "The above plot looks more homogeneous than the previous one after removal of outliers."
   ]
  },
  {
   "cell_type": "code",
   "execution_count": 15,
   "id": "e2400dbe",
   "metadata": {
    "execution": {
     "iopub.execute_input": "2024-06-21T16:30:40.193173Z",
     "iopub.status.busy": "2024-06-21T16:30:40.192371Z",
     "iopub.status.idle": "2024-06-21T16:30:40.203840Z",
     "shell.execute_reply": "2024-06-21T16:30:40.202776Z"
    },
    "papermill": {
     "duration": 0.029933,
     "end_time": "2024-06-21T16:30:40.206092",
     "exception": false,
     "start_time": "2024-06-21T16:30:40.176159",
     "status": "completed"
    },
    "tags": []
   },
   "outputs": [
    {
     "data": {
      "text/plain": [
       "count    47678.000000\n",
       "mean     26943.079219\n",
       "std      15404.132778\n",
       "min       2000.000000\n",
       "25%      14500.000000\n",
       "50%      24900.000000\n",
       "75%      37475.500000\n",
       "max      65500.000000\n",
       "Name: price, dtype: float64"
      ]
     },
     "execution_count": 15,
     "metadata": {},
     "output_type": "execute_result"
    }
   ],
   "source": [
    "#Train data needs to be cleaned from outliers\n",
    "outliersfree_df['price'].describe()"
   ]
  },
  {
   "cell_type": "markdown",
   "id": "e54bd1fd",
   "metadata": {
    "papermill": {
     "duration": 0.014734,
     "end_time": "2024-06-21T16:30:40.235983",
     "exception": false,
     "start_time": "2024-06-21T16:30:40.221249",
     "status": "completed"
    },
    "tags": []
   },
   "source": [
    "# **Data wrangling**"
   ]
  },
  {
   "cell_type": "markdown",
   "id": "cafb405b",
   "metadata": {
    "papermill": {
     "duration": 0.014731,
     "end_time": "2024-06-21T16:30:40.265988",
     "exception": false,
     "start_time": "2024-06-21T16:30:40.251257",
     "status": "completed"
    },
    "tags": []
   },
   "source": [
    "I will reduce the number of features in string data categories, and will remain the numeric categories as they are."
   ]
  },
  {
   "cell_type": "code",
   "execution_count": 16,
   "id": "9f2dad5f",
   "metadata": {
    "execution": {
     "iopub.execute_input": "2024-06-21T16:30:40.297905Z",
     "iopub.status.busy": "2024-06-21T16:30:40.297508Z",
     "iopub.status.idle": "2024-06-21T16:30:40.338684Z",
     "shell.execute_reply": "2024-06-21T16:30:40.337684Z"
    },
    "papermill": {
     "duration": 0.059837,
     "end_time": "2024-06-21T16:30:40.340987",
     "exception": false,
     "start_time": "2024-06-21T16:30:40.281150",
     "status": "completed"
    },
    "tags": []
   },
   "outputs": [
    {
     "name": "stdout",
     "output_type": "stream",
     "text": [
      "brand             51\n",
      "model           1795\n",
      "model_year        34\n",
      "milage          3093\n",
      "fuel_type          7\n",
      "engine          1045\n",
      "transmission      43\n",
      "ext_col          245\n",
      "int_col          118\n",
      "accident           2\n",
      "clean_title        1\n",
      "price           1108\n",
      "dtype: int64\n"
     ]
    }
   ],
   "source": [
    "#Determine the number of unique values in each column.\n",
    "dataset_unique_counts(outliersfree_df)"
   ]
  },
  {
   "cell_type": "code",
   "execution_count": 17,
   "id": "b3e61b3c",
   "metadata": {
    "execution": {
     "iopub.execute_input": "2024-06-21T16:30:40.373239Z",
     "iopub.status.busy": "2024-06-21T16:30:40.372844Z",
     "iopub.status.idle": "2024-06-21T16:30:40.404973Z",
     "shell.execute_reply": "2024-06-21T16:30:40.403582Z"
    },
    "papermill": {
     "duration": 0.051013,
     "end_time": "2024-06-21T16:30:40.407293",
     "exception": false,
     "start_time": "2024-06-21T16:30:40.356280",
     "status": "completed"
    },
    "tags": []
   },
   "outputs": [
    {
     "name": "stdout",
     "output_type": "stream",
     "text": [
      "brand             53\n",
      "model           1791\n",
      "model_year        34\n",
      "milage          2973\n",
      "fuel_type          7\n",
      "engine          1038\n",
      "transmission      44\n",
      "ext_col          230\n",
      "int_col          111\n",
      "accident           2\n",
      "clean_title        1\n",
      "dtype: int64\n"
     ]
    }
   ],
   "source": [
    "#Determine the number of unique values in each column.\n",
    "dataset_unique_counts(test_df)"
   ]
  },
  {
   "cell_type": "markdown",
   "id": "38984ab8",
   "metadata": {
    "papermill": {
     "duration": 0.01591,
     "end_time": "2024-06-21T16:30:40.495508",
     "exception": false,
     "start_time": "2024-06-21T16:30:40.479598",
     "status": "completed"
    },
    "tags": []
   },
   "source": [
    "***Model cleaning***"
   ]
  },
  {
   "cell_type": "code",
   "execution_count": 18,
   "id": "1cd8c3dd",
   "metadata": {
    "execution": {
     "iopub.execute_input": "2024-06-21T16:30:40.527886Z",
     "iopub.status.busy": "2024-06-21T16:30:40.527515Z",
     "iopub.status.idle": "2024-06-21T16:30:40.532943Z",
     "shell.execute_reply": "2024-06-21T16:30:40.531740Z"
    },
    "papermill": {
     "duration": 0.024295,
     "end_time": "2024-06-21T16:30:40.535182",
     "exception": false,
     "start_time": "2024-06-21T16:30:40.510887",
     "status": "completed"
    },
    "tags": []
   },
   "outputs": [],
   "source": [
    "# Value counts function \n",
    "def feature_value_counts(df, column_name):\n",
    "    value_counts = df[column_name].value_counts()\n",
    "    return value_counts"
   ]
  },
  {
   "cell_type": "markdown",
   "id": "470f9fb8",
   "metadata": {
    "papermill": {
     "duration": 0.01521,
     "end_time": "2024-06-21T16:30:40.566750",
     "exception": false,
     "start_time": "2024-06-21T16:30:40.551540",
     "status": "completed"
    },
    "tags": []
   },
   "source": [
    "Brand feature"
   ]
  },
  {
   "cell_type": "code",
   "execution_count": 19,
   "id": "08bb91b8",
   "metadata": {
    "execution": {
     "iopub.execute_input": "2024-06-21T16:30:40.599430Z",
     "iopub.status.busy": "2024-06-21T16:30:40.599027Z",
     "iopub.status.idle": "2024-06-21T16:30:40.813883Z",
     "shell.execute_reply": "2024-06-21T16:30:40.812846Z"
    },
    "papermill": {
     "duration": 0.234129,
     "end_time": "2024-06-21T16:30:40.816363",
     "exception": false,
     "start_time": "2024-06-21T16:30:40.582234",
     "status": "completed"
    },
    "tags": []
   },
   "outputs": [],
   "source": [
    "brand_counts_train = feature_value_counts(outliersfree_df, 'brand')\n",
    "brand_counts_test = feature_value_counts(test_df, 'brand')\n",
    "\n",
    "cutoff_value = 400 # Keep if database has 451 and more records of this car model\n",
    "brand_types_to_replace = brand_counts_train[brand_counts_train < cutoff_value].index\n",
    "\n",
    "# Replace models in the training dataframe\n",
    "for brand_c in brand_types_to_replace:\n",
    "    outliersfree_df.loc[outliersfree_df['brand'] == brand_c, 'brand'] = \"Other\"\n",
    "\n",
    "# Apply the same replacements to the test dataframe\n",
    "test_df.loc[test_df['brand'].isin(brand_types_to_replace), 'brand'] = \"Other\"\n",
    "test_df.loc[~test_df['brand'].isin(outliersfree_df['brand'].unique()), 'brand'] = \"Other\"\n",
    "\n",
    "# Check the updated value counts\n",
    "brand_counts_train_updated = outliersfree_df['brand'].value_counts()\n",
    "brand_counts_test_updated = test_df['brand'].value_counts()\n"
   ]
  },
  {
   "cell_type": "markdown",
   "id": "16e64611",
   "metadata": {
    "papermill": {
     "duration": 0.014922,
     "end_time": "2024-06-21T16:30:40.846933",
     "exception": false,
     "start_time": "2024-06-21T16:30:40.832011",
     "status": "completed"
    },
    "tags": []
   },
   "source": [
    "*Model feature*"
   ]
  },
  {
   "cell_type": "code",
   "execution_count": 20,
   "id": "5c6e7bbd",
   "metadata": {
    "execution": {
     "iopub.execute_input": "2024-06-21T16:30:40.879379Z",
     "iopub.status.busy": "2024-06-21T16:30:40.878639Z",
     "iopub.status.idle": "2024-06-21T16:30:48.500647Z",
     "shell.execute_reply": "2024-06-21T16:30:48.499788Z"
    },
    "papermill": {
     "duration": 7.640923,
     "end_time": "2024-06-21T16:30:48.503174",
     "exception": false,
     "start_time": "2024-06-21T16:30:40.862251",
     "status": "completed"
    },
    "tags": []
   },
   "outputs": [],
   "source": [
    "model_counts_train = feature_value_counts(outliersfree_df, 'model')\n",
    "model_counts_test = feature_value_counts(test_df, 'model')\n",
    "\n",
    "cutoff_value = 400 # Keep if database has 451 and more records of this car model\n",
    "model_types_to_replace = model_counts_train[model_counts_train < cutoff_value].index\n",
    "\n",
    "# Replace models in the training dataframe\n",
    "for model_c in model_types_to_replace:\n",
    "    outliersfree_df.loc[outliersfree_df['model'] == model_c, 'model'] = \"Other\"\n",
    "\n",
    "# Apply the same replacements to the test dataframe\n",
    "test_df.loc[test_df['model'].isin(model_types_to_replace), 'model'] = \"Other\"\n",
    "test_df.loc[~test_df['model'].isin(outliersfree_df['model'].unique()), 'model'] = \"Other\"\n",
    "\n",
    "# Check the updated value counts\n",
    "model_counts_train_updated = outliersfree_df['model'].value_counts()\n",
    "model_counts_test_updated = test_df['model'].value_counts()\n"
   ]
  },
  {
   "cell_type": "markdown",
   "id": "af968f23",
   "metadata": {
    "papermill": {
     "duration": 0.0148,
     "end_time": "2024-06-21T16:30:48.533287",
     "exception": false,
     "start_time": "2024-06-21T16:30:48.518487",
     "status": "completed"
    },
    "tags": []
   },
   "source": [
    "*Fuel feature*"
   ]
  },
  {
   "cell_type": "code",
   "execution_count": 21,
   "id": "2c055e82",
   "metadata": {
    "execution": {
     "iopub.execute_input": "2024-06-21T16:30:48.565075Z",
     "iopub.status.busy": "2024-06-21T16:30:48.564688Z",
     "iopub.status.idle": "2024-06-21T16:30:48.570388Z",
     "shell.execute_reply": "2024-06-21T16:30:48.569338Z"
    },
    "papermill": {
     "duration": 0.024178,
     "end_time": "2024-06-21T16:30:48.572564",
     "exception": false,
     "start_time": "2024-06-21T16:30:48.548386",
     "status": "completed"
    },
    "tags": []
   },
   "outputs": [],
   "source": [
    "# Replace '–' with 'Other' in the 'fuel_type' column\n",
    "def cleaning_not_supported_and_dashes(df):\n",
    "    # Replace unsupported dashes with 'Other'\n",
    "    df.loc[df['fuel_type'] == '–', 'fuel_type'] = 'Other'\n",
    "    # Remove rows where 'fuel_type' is 'not supported'\n",
    "    cleaned_df = df[df['fuel_type'] != 'not supported']\n",
    "    # Calculate and return the value counts of the cleaned 'fuel_type' column\n",
    "    fuel_counts = cleaned_df['fuel_type'].value_counts()\n",
    "    return cleaned_df"
   ]
  },
  {
   "cell_type": "code",
   "execution_count": 22,
   "id": "e2a5e051",
   "metadata": {
    "execution": {
     "iopub.execute_input": "2024-06-21T16:30:48.605099Z",
     "iopub.status.busy": "2024-06-21T16:30:48.604736Z",
     "iopub.status.idle": "2024-06-21T16:30:48.633815Z",
     "shell.execute_reply": "2024-06-21T16:30:48.632779Z"
    },
    "papermill": {
     "duration": 0.047962,
     "end_time": "2024-06-21T16:30:48.636049",
     "exception": false,
     "start_time": "2024-06-21T16:30:48.588087",
     "status": "completed"
    },
    "tags": []
   },
   "outputs": [
    {
     "data": {
      "text/plain": [
       "fuel_type\n",
       "Gasoline          43613\n",
       "E85 Flex Fuel      1435\n",
       "Hybrid             1323\n",
       "Diesel              889\n",
       "Other               266\n",
       "Plug-In Hybrid      148\n",
       "Name: count, dtype: int64"
      ]
     },
     "execution_count": 22,
     "metadata": {},
     "output_type": "execute_result"
    }
   ],
   "source": [
    "cleaned_train=cleaning_not_supported_and_dashes(outliersfree_df)\n",
    "feature_value_counts(cleaned_train, 'fuel_type')"
   ]
  },
  {
   "cell_type": "code",
   "execution_count": 23,
   "id": "2d7f8d1a",
   "metadata": {
    "execution": {
     "iopub.execute_input": "2024-06-21T16:30:48.670879Z",
     "iopub.status.busy": "2024-06-21T16:30:48.669947Z",
     "iopub.status.idle": "2024-06-21T16:30:48.695915Z",
     "shell.execute_reply": "2024-06-21T16:30:48.694780Z"
    },
    "papermill": {
     "duration": 0.045579,
     "end_time": "2024-06-21T16:30:48.698105",
     "exception": false,
     "start_time": "2024-06-21T16:30:48.652526",
     "status": "completed"
    },
    "tags": []
   },
   "outputs": [
    {
     "data": {
      "text/plain": [
       "fuel_type\n",
       "Gasoline          33033\n",
       "Hybrid             1112\n",
       "E85 Flex Fuel      1018\n",
       "Diesel              671\n",
       "Other               197\n",
       "Plug-In Hybrid      148\n",
       "Name: count, dtype: int64"
      ]
     },
     "execution_count": 23,
     "metadata": {},
     "output_type": "execute_result"
    }
   ],
   "source": [
    "cleaned_test=cleaning_not_supported_and_dashes(test_df)\n",
    "feature_value_counts(cleaned_test, 'fuel_type')"
   ]
  },
  {
   "cell_type": "markdown",
   "id": "a661e448",
   "metadata": {
    "papermill": {
     "duration": 0.015716,
     "end_time": "2024-06-21T16:30:48.729657",
     "exception": false,
     "start_time": "2024-06-21T16:30:48.713941",
     "status": "completed"
    },
    "tags": []
   },
   "source": [
    "*Engine feature*"
   ]
  },
  {
   "cell_type": "code",
   "execution_count": 24,
   "id": "5b9d4ff2",
   "metadata": {
    "execution": {
     "iopub.execute_input": "2024-06-21T16:30:48.762871Z",
     "iopub.status.busy": "2024-06-21T16:30:48.762488Z",
     "iopub.status.idle": "2024-06-21T16:30:53.172082Z",
     "shell.execute_reply": "2024-06-21T16:30:53.171152Z"
    },
    "papermill": {
     "duration": 4.428867,
     "end_time": "2024-06-21T16:30:53.174536",
     "exception": false,
     "start_time": "2024-06-21T16:30:48.745669",
     "status": "completed"
    },
    "tags": []
   },
   "outputs": [],
   "source": [
    "#Reducing the features unique values\n",
    "engine_counts_train = feature_value_counts(cleaned_train, 'engine')\n",
    "engine_counts_test = feature_value_counts(cleaned_test, 'engine')\n",
    "\n",
    "cutoff_value = 400 # Keep if database has 451 and more records of this car model\n",
    "engine_types_to_replace = engine_counts_train[engine_counts_train < cutoff_value].index\n",
    "\n",
    "# Replace models in the training dataframe\n",
    "for engine_c in engine_types_to_replace:\n",
    "    cleaned_train.loc[cleaned_train['engine'] == engine_c, 'engine'] = \"Other\"\n",
    "\n",
    "# Apply the same replacements to the test dataframe\n",
    "cleaned_test.loc[cleaned_test['engine'].isin(engine_types_to_replace), 'engine'] = \"Other\"\n",
    "cleaned_test.loc[~cleaned_test['engine'].isin(cleaned_train['engine'].unique()), 'engine'] = \"Other\"\n",
    "\n",
    "# Check the updated value counts\n",
    "engine_counts_train_updated = cleaned_train['engine'].value_counts()\n",
    "engine_counts_test_updated = cleaned_test['engine'].value_counts()\n"
   ]
  },
  {
   "cell_type": "markdown",
   "id": "dbcf6d62",
   "metadata": {
    "papermill": {
     "duration": 0.015489,
     "end_time": "2024-06-21T16:30:53.205988",
     "exception": false,
     "start_time": "2024-06-21T16:30:53.190499",
     "status": "completed"
    },
    "tags": []
   },
   "source": [
    "*Transmission feature*"
   ]
  },
  {
   "cell_type": "code",
   "execution_count": 25,
   "id": "a6705d15",
   "metadata": {
    "execution": {
     "iopub.execute_input": "2024-06-21T16:30:53.239009Z",
     "iopub.status.busy": "2024-06-21T16:30:53.238620Z",
     "iopub.status.idle": "2024-06-21T16:30:53.375817Z",
     "shell.execute_reply": "2024-06-21T16:30:53.374787Z"
    },
    "papermill": {
     "duration": 0.156544,
     "end_time": "2024-06-21T16:30:53.378314",
     "exception": false,
     "start_time": "2024-06-21T16:30:53.221770",
     "status": "completed"
    },
    "tags": []
   },
   "outputs": [],
   "source": [
    "#Reducing the features unique values\n",
    "trans_counts_train = feature_value_counts(cleaned_train, 'transmission')\n",
    "trans_counts_test = feature_value_counts(cleaned_test, 'transmission')\n",
    "\n",
    "cutoff_value = 100 # Keep if database has 451 and more records of this car model\n",
    "trans_types_to_replace = trans_counts_train[trans_counts_train < cutoff_value].index\n",
    "\n",
    "# Replace models in the training dataframe\n",
    "for trans_c in trans_types_to_replace:\n",
    "    cleaned_train.loc[cleaned_train['transmission'] == trans_c, 'transmission'] = \"Other\"\n",
    "\n",
    "# Apply the same replacements to the test dataframe\n",
    "cleaned_test.loc[cleaned_test['transmission'].isin(trans_types_to_replace), 'transmission'] = \"Other\"\n",
    "cleaned_test.loc[~cleaned_test['transmission'].isin(cleaned_train['transmission'].unique()), 'transmission'] = \"Other\"\n",
    "\n",
    "# Check the updated value counts\n",
    "trans_counts_train_updated = cleaned_train['transmission'].value_counts()\n",
    "trans_counts_test_updated = cleaned_test['transmission'].value_counts()\n"
   ]
  },
  {
   "cell_type": "markdown",
   "id": "fb5557b3",
   "metadata": {
    "papermill": {
     "duration": 0.015338,
     "end_time": "2024-06-21T16:30:53.411185",
     "exception": false,
     "start_time": "2024-06-21T16:30:53.395847",
     "status": "completed"
    },
    "tags": []
   },
   "source": [
    "*External colour feature*"
   ]
  },
  {
   "cell_type": "code",
   "execution_count": 26,
   "id": "9e2eab24",
   "metadata": {
    "execution": {
     "iopub.execute_input": "2024-06-21T16:30:53.443855Z",
     "iopub.status.busy": "2024-06-21T16:30:53.443195Z",
     "iopub.status.idle": "2024-06-21T16:30:54.477687Z",
     "shell.execute_reply": "2024-06-21T16:30:54.476776Z"
    },
    "papermill": {
     "duration": 1.053732,
     "end_time": "2024-06-21T16:30:54.480310",
     "exception": false,
     "start_time": "2024-06-21T16:30:53.426578",
     "status": "completed"
    },
    "tags": []
   },
   "outputs": [],
   "source": [
    "#Reducing the features unique values\n",
    "ext_col_counts_train = feature_value_counts(cleaned_train, 'ext_col')\n",
    "ext_col_counts_test = feature_value_counts(cleaned_test, 'ext_col')\n",
    "\n",
    "cutoff_value = 1000 # Keep if database has 451 and more records of this car model\n",
    "ext_col_types_to_replace =ext_col_counts_train[ext_col_counts_train < cutoff_value].index\n",
    "\n",
    "# Replace models in the training dataframe\n",
    "for ext_col_c in ext_col_types_to_replace:\n",
    "    cleaned_train.loc[cleaned_train['ext_col'] == ext_col_c, 'ext_col'] = \"Other\"\n",
    "\n",
    "# Apply the same replacements to the test dataframe\n",
    "cleaned_test.loc[cleaned_test['ext_col'].isin(ext_col_types_to_replace), 'ext_col'] = \"Other\"\n",
    "cleaned_test.loc[~cleaned_test['ext_col'].isin(cleaned_train['ext_col'].unique()), 'ext_col'] = \"Other\"\n",
    "\n",
    "# Check the updated value counts\n",
    "ext_col_counts_train_updated = cleaned_train['ext_col'].value_counts()\n",
    "ext_col_counts_test_updated = cleaned_test['ext_col'].value_counts()"
   ]
  },
  {
   "cell_type": "markdown",
   "id": "f78a18e7",
   "metadata": {
    "papermill": {
     "duration": 0.015408,
     "end_time": "2024-06-21T16:30:54.511492",
     "exception": false,
     "start_time": "2024-06-21T16:30:54.496084",
     "status": "completed"
    },
    "tags": []
   },
   "source": [
    "*Internal colour feature*"
   ]
  },
  {
   "cell_type": "code",
   "execution_count": 27,
   "id": "cdb9b6e8",
   "metadata": {
    "execution": {
     "iopub.execute_input": "2024-06-21T16:30:54.544542Z",
     "iopub.status.busy": "2024-06-21T16:30:54.544183Z",
     "iopub.status.idle": "2024-06-21T16:30:55.053756Z",
     "shell.execute_reply": "2024-06-21T16:30:55.052705Z"
    },
    "papermill": {
     "duration": 0.52915,
     "end_time": "2024-06-21T16:30:55.056270",
     "exception": false,
     "start_time": "2024-06-21T16:30:54.527120",
     "status": "completed"
    },
    "tags": []
   },
   "outputs": [],
   "source": [
    "#Reducing the features unique values\n",
    "int_col_counts_train = feature_value_counts(cleaned_train, 'int_col')\n",
    "int_col_counts_test = feature_value_counts(cleaned_test, 'int_col')\n",
    "\n",
    "cutoff_value = 1050 # Keep if database has 451 and more records of this car model\n",
    "int_col_types_to_replace =int_col_counts_train[int_col_counts_train < cutoff_value].index\n",
    "\n",
    "# Replace models in the training dataframe\n",
    "for int_col_c in int_col_types_to_replace:\n",
    "    cleaned_train.loc[cleaned_train['int_col'] == int_col_c, 'int_col'] = \"Other\"\n",
    "\n",
    "# Apply the same replacements to the test dataframe\n",
    "cleaned_test.loc[cleaned_test['int_col'].isin(int_col_types_to_replace), 'int_col'] = \"Other\"\n",
    "cleaned_test.loc[~cleaned_test['int_col'].isin(cleaned_train['int_col'].unique()), 'int_col'] = \"Other\"\n",
    "\n",
    "# Check the updated value counts\n",
    "int_col_counts_train_updated = cleaned_train['int_col'].value_counts()\n",
    "int_col_counts_test_updated = cleaned_test['int_col'].value_counts()"
   ]
  },
  {
   "cell_type": "markdown",
   "id": "838703dc",
   "metadata": {
    "papermill": {
     "duration": 0.015841,
     "end_time": "2024-06-21T16:30:55.087928",
     "exception": false,
     "start_time": "2024-06-21T16:30:55.072087",
     "status": "completed"
    },
    "tags": []
   },
   "source": [
    "*Drop clean title that has only one value 'clean_title'*"
   ]
  },
  {
   "cell_type": "code",
   "execution_count": 28,
   "id": "49ccf415",
   "metadata": {
    "execution": {
     "iopub.execute_input": "2024-06-21T16:30:55.120884Z",
     "iopub.status.busy": "2024-06-21T16:30:55.120102Z",
     "iopub.status.idle": "2024-06-21T16:30:55.138616Z",
     "shell.execute_reply": "2024-06-21T16:30:55.137645Z"
    },
    "papermill": {
     "duration": 0.037487,
     "end_time": "2024-06-21T16:30:55.140938",
     "exception": false,
     "start_time": "2024-06-21T16:30:55.103451",
     "status": "completed"
    },
    "tags": []
   },
   "outputs": [],
   "source": [
    "#The last column \"Clean_title\" is the same \"Yes\" answer for all rows, that gives no value to analysis. \n",
    "#Drop this column.\n",
    "final_train=cleaned_train.drop(columns=['clean_title'])\n",
    "final_test=cleaned_test.drop(columns=['clean_title'])\n"
   ]
  },
  {
   "cell_type": "code",
   "execution_count": 29,
   "id": "d62d7865",
   "metadata": {
    "execution": {
     "iopub.execute_input": "2024-06-21T16:30:55.174309Z",
     "iopub.status.busy": "2024-06-21T16:30:55.173412Z",
     "iopub.status.idle": "2024-06-21T16:30:55.207343Z",
     "shell.execute_reply": "2024-06-21T16:30:55.206211Z"
    },
    "papermill": {
     "duration": 0.053357,
     "end_time": "2024-06-21T16:30:55.209922",
     "exception": false,
     "start_time": "2024-06-21T16:30:55.156565",
     "status": "completed"
    },
    "tags": []
   },
   "outputs": [
    {
     "name": "stdout",
     "output_type": "stream",
     "text": [
      "brand             27\n",
      "model              6\n",
      "model_year        34\n",
      "milage          3093\n",
      "fuel_type          6\n",
      "engine            18\n",
      "transmission      19\n",
      "ext_col            7\n",
      "int_col            6\n",
      "accident           2\n",
      "price           1108\n",
      "dtype: int64\n"
     ]
    }
   ],
   "source": [
    "dataset_unique_counts(final_train)"
   ]
  },
  {
   "cell_type": "code",
   "execution_count": 30,
   "id": "d7e398c3",
   "metadata": {
    "execution": {
     "iopub.execute_input": "2024-06-21T16:30:55.242881Z",
     "iopub.status.busy": "2024-06-21T16:30:55.242479Z",
     "iopub.status.idle": "2024-06-21T16:30:55.269166Z",
     "shell.execute_reply": "2024-06-21T16:30:55.268143Z"
    },
    "papermill": {
     "duration": 0.045945,
     "end_time": "2024-06-21T16:30:55.271475",
     "exception": false,
     "start_time": "2024-06-21T16:30:55.225530",
     "status": "completed"
    },
    "tags": []
   },
   "outputs": [
    {
     "name": "stdout",
     "output_type": "stream",
     "text": [
      "brand             27\n",
      "model              6\n",
      "model_year        34\n",
      "milage          2973\n",
      "fuel_type          6\n",
      "engine            18\n",
      "transmission      19\n",
      "ext_col            7\n",
      "int_col            6\n",
      "accident           2\n",
      "dtype: int64\n"
     ]
    }
   ],
   "source": [
    "dataset_unique_counts(final_test)"
   ]
  },
  {
   "cell_type": "markdown",
   "id": "e6254164",
   "metadata": {
    "papermill": {
     "duration": 0.015303,
     "end_time": "2024-06-21T16:30:55.302539",
     "exception": false,
     "start_time": "2024-06-21T16:30:55.287236",
     "status": "completed"
    },
    "tags": []
   },
   "source": [
    "***Liner Regression***"
   ]
  },
  {
   "cell_type": "code",
   "execution_count": 31,
   "id": "5614eb0c",
   "metadata": {
    "execution": {
     "iopub.execute_input": "2024-06-21T16:30:55.335508Z",
     "iopub.status.busy": "2024-06-21T16:30:55.335093Z",
     "iopub.status.idle": "2024-06-21T16:30:55.692771Z",
     "shell.execute_reply": "2024-06-21T16:30:55.691761Z"
    },
    "papermill": {
     "duration": 0.377229,
     "end_time": "2024-06-21T16:30:55.695308",
     "exception": false,
     "start_time": "2024-06-21T16:30:55.318079",
     "status": "completed"
    },
    "tags": []
   },
   "outputs": [],
   "source": [
    "from sklearn.linear_model import LinearRegression"
   ]
  },
  {
   "cell_type": "code",
   "execution_count": 32,
   "id": "9cc1df2c",
   "metadata": {
    "execution": {
     "iopub.execute_input": "2024-06-21T16:30:55.728566Z",
     "iopub.status.busy": "2024-06-21T16:30:55.728182Z",
     "iopub.status.idle": "2024-06-21T16:30:55.800427Z",
     "shell.execute_reply": "2024-06-21T16:30:55.799205Z"
    },
    "papermill": {
     "duration": 0.091412,
     "end_time": "2024-06-21T16:30:55.802591",
     "exception": false,
     "start_time": "2024-06-21T16:30:55.711179",
     "status": "completed"
    },
    "tags": []
   },
   "outputs": [
    {
     "data": {
      "text/plain": [
       "(47674, 94)"
      ]
     },
     "execution_count": 32,
     "metadata": {},
     "output_type": "execute_result"
    }
   ],
   "source": [
    "# Convert categorical data to numeric with `pd.get_dummies`\n",
    "X = pd.get_dummies(final_train)\n",
    "X.shape\n"
   ]
  },
  {
   "cell_type": "code",
   "execution_count": 33,
   "id": "ae906799",
   "metadata": {
    "execution": {
     "iopub.execute_input": "2024-06-21T16:30:55.835899Z",
     "iopub.status.busy": "2024-06-21T16:30:55.835487Z",
     "iopub.status.idle": "2024-06-21T16:30:55.884304Z",
     "shell.execute_reply": "2024-06-21T16:30:55.883315Z"
    },
    "papermill": {
     "duration": 0.067981,
     "end_time": "2024-06-21T16:30:55.886426",
     "exception": false,
     "start_time": "2024-06-21T16:30:55.818445",
     "status": "completed"
    },
    "tags": []
   },
   "outputs": [
    {
     "data": {
      "text/plain": [
       "(36179, 93)"
      ]
     },
     "execution_count": 33,
     "metadata": {},
     "output_type": "execute_result"
    }
   ],
   "source": [
    "# Convert categorical data to numeric with `pd.get_dummies`\n",
    "X_test = pd.get_dummies(final_test)\n",
    "X_test.shape\n"
   ]
  },
  {
   "cell_type": "code",
   "execution_count": 34,
   "id": "19deda22",
   "metadata": {
    "execution": {
     "iopub.execute_input": "2024-06-21T16:30:55.919557Z",
     "iopub.status.busy": "2024-06-21T16:30:55.919186Z",
     "iopub.status.idle": "2024-06-21T16:30:55.924049Z",
     "shell.execute_reply": "2024-06-21T16:30:55.923091Z"
    },
    "papermill": {
     "duration": 0.023815,
     "end_time": "2024-06-21T16:30:55.926009",
     "exception": false,
     "start_time": "2024-06-21T16:30:55.902194",
     "status": "completed"
    },
    "tags": []
   },
   "outputs": [],
   "source": [
    "# Split our preprocessed data into our features and target arrays\n",
    "y=X['price'].values.reshape(-1, 1)"
   ]
  },
  {
   "cell_type": "code",
   "execution_count": 35,
   "id": "1a4cdcb7",
   "metadata": {
    "execution": {
     "iopub.execute_input": "2024-06-21T16:30:55.959896Z",
     "iopub.status.busy": "2024-06-21T16:30:55.959467Z",
     "iopub.status.idle": "2024-06-21T16:30:55.970162Z",
     "shell.execute_reply": "2024-06-21T16:30:55.969184Z"
    },
    "papermill": {
     "duration": 0.029979,
     "end_time": "2024-06-21T16:30:55.972315",
     "exception": false,
     "start_time": "2024-06-21T16:30:55.942336",
     "status": "completed"
    },
    "tags": []
   },
   "outputs": [
    {
     "data": {
      "text/plain": [
       "(47674, 93)"
      ]
     },
     "execution_count": 35,
     "metadata": {},
     "output_type": "execute_result"
    }
   ],
   "source": [
    "#Removing the price from the prediction features\n",
    "X = X.drop(['price'], axis=1)\n",
    "X.shape"
   ]
  },
  {
   "cell_type": "code",
   "execution_count": 36,
   "id": "216770ba",
   "metadata": {
    "execution": {
     "iopub.execute_input": "2024-06-21T16:30:56.006422Z",
     "iopub.status.busy": "2024-06-21T16:30:56.006054Z",
     "iopub.status.idle": "2024-06-21T16:30:56.381294Z",
     "shell.execute_reply": "2024-06-21T16:30:56.380147Z"
    },
    "papermill": {
     "duration": 0.395901,
     "end_time": "2024-06-21T16:30:56.384584",
     "exception": false,
     "start_time": "2024-06-21T16:30:55.988683",
     "status": "completed"
    },
    "tags": []
   },
   "outputs": [
    {
     "data": {
      "text/html": [
       "<style>#sk-container-id-1 {color: black;background-color: white;}#sk-container-id-1 pre{padding: 0;}#sk-container-id-1 div.sk-toggleable {background-color: white;}#sk-container-id-1 label.sk-toggleable__label {cursor: pointer;display: block;width: 100%;margin-bottom: 0;padding: 0.3em;box-sizing: border-box;text-align: center;}#sk-container-id-1 label.sk-toggleable__label-arrow:before {content: \"▸\";float: left;margin-right: 0.25em;color: #696969;}#sk-container-id-1 label.sk-toggleable__label-arrow:hover:before {color: black;}#sk-container-id-1 div.sk-estimator:hover label.sk-toggleable__label-arrow:before {color: black;}#sk-container-id-1 div.sk-toggleable__content {max-height: 0;max-width: 0;overflow: hidden;text-align: left;background-color: #f0f8ff;}#sk-container-id-1 div.sk-toggleable__content pre {margin: 0.2em;color: black;border-radius: 0.25em;background-color: #f0f8ff;}#sk-container-id-1 input.sk-toggleable__control:checked~div.sk-toggleable__content {max-height: 200px;max-width: 100%;overflow: auto;}#sk-container-id-1 input.sk-toggleable__control:checked~label.sk-toggleable__label-arrow:before {content: \"▾\";}#sk-container-id-1 div.sk-estimator input.sk-toggleable__control:checked~label.sk-toggleable__label {background-color: #d4ebff;}#sk-container-id-1 div.sk-label input.sk-toggleable__control:checked~label.sk-toggleable__label {background-color: #d4ebff;}#sk-container-id-1 input.sk-hidden--visually {border: 0;clip: rect(1px 1px 1px 1px);clip: rect(1px, 1px, 1px, 1px);height: 1px;margin: -1px;overflow: hidden;padding: 0;position: absolute;width: 1px;}#sk-container-id-1 div.sk-estimator {font-family: monospace;background-color: #f0f8ff;border: 1px dotted black;border-radius: 0.25em;box-sizing: border-box;margin-bottom: 0.5em;}#sk-container-id-1 div.sk-estimator:hover {background-color: #d4ebff;}#sk-container-id-1 div.sk-parallel-item::after {content: \"\";width: 100%;border-bottom: 1px solid gray;flex-grow: 1;}#sk-container-id-1 div.sk-label:hover label.sk-toggleable__label {background-color: #d4ebff;}#sk-container-id-1 div.sk-serial::before {content: \"\";position: absolute;border-left: 1px solid gray;box-sizing: border-box;top: 0;bottom: 0;left: 50%;z-index: 0;}#sk-container-id-1 div.sk-serial {display: flex;flex-direction: column;align-items: center;background-color: white;padding-right: 0.2em;padding-left: 0.2em;position: relative;}#sk-container-id-1 div.sk-item {position: relative;z-index: 1;}#sk-container-id-1 div.sk-parallel {display: flex;align-items: stretch;justify-content: center;background-color: white;position: relative;}#sk-container-id-1 div.sk-item::before, #sk-container-id-1 div.sk-parallel-item::before {content: \"\";position: absolute;border-left: 1px solid gray;box-sizing: border-box;top: 0;bottom: 0;left: 50%;z-index: -1;}#sk-container-id-1 div.sk-parallel-item {display: flex;flex-direction: column;z-index: 1;position: relative;background-color: white;}#sk-container-id-1 div.sk-parallel-item:first-child::after {align-self: flex-end;width: 50%;}#sk-container-id-1 div.sk-parallel-item:last-child::after {align-self: flex-start;width: 50%;}#sk-container-id-1 div.sk-parallel-item:only-child::after {width: 0;}#sk-container-id-1 div.sk-dashed-wrapped {border: 1px dashed gray;margin: 0 0.4em 0.5em 0.4em;box-sizing: border-box;padding-bottom: 0.4em;background-color: white;}#sk-container-id-1 div.sk-label label {font-family: monospace;font-weight: bold;display: inline-block;line-height: 1.2em;}#sk-container-id-1 div.sk-label-container {text-align: center;}#sk-container-id-1 div.sk-container {/* jupyter's `normalize.less` sets `[hidden] { display: none; }` but bootstrap.min.css set `[hidden] { display: none !important; }` so we also need the `!important` here to be able to override the default hidden behavior on the sphinx rendered scikit-learn.org. See: https://github.com/scikit-learn/scikit-learn/issues/21755 */display: inline-block !important;position: relative;}#sk-container-id-1 div.sk-text-repr-fallback {display: none;}</style><div id=\"sk-container-id-1\" class=\"sk-top-container\"><div class=\"sk-text-repr-fallback\"><pre>LinearRegression()</pre><b>In a Jupyter environment, please rerun this cell to show the HTML representation or trust the notebook. <br />On GitHub, the HTML representation is unable to render, please try loading this page with nbviewer.org.</b></div><div class=\"sk-container\" hidden><div class=\"sk-item\"><div class=\"sk-estimator sk-toggleable\"><input class=\"sk-toggleable__control sk-hidden--visually\" id=\"sk-estimator-id-1\" type=\"checkbox\" checked><label for=\"sk-estimator-id-1\" class=\"sk-toggleable__label sk-toggleable__label-arrow\">LinearRegression</label><div class=\"sk-toggleable__content\"><pre>LinearRegression()</pre></div></div></div></div></div>"
      ],
      "text/plain": [
       "LinearRegression()"
      ]
     },
     "execution_count": 36,
     "metadata": {},
     "output_type": "execute_result"
    }
   ],
   "source": [
    "lm = LinearRegression()\n",
    "lm.fit(X,y)"
   ]
  },
  {
   "cell_type": "code",
   "execution_count": 37,
   "id": "17500afd",
   "metadata": {
    "execution": {
     "iopub.execute_input": "2024-06-21T16:30:56.446054Z",
     "iopub.status.busy": "2024-06-21T16:30:56.445506Z",
     "iopub.status.idle": "2024-06-21T16:30:56.523232Z",
     "shell.execute_reply": "2024-06-21T16:30:56.522070Z"
    },
    "papermill": {
     "duration": 0.111178,
     "end_time": "2024-06-21T16:30:56.526869",
     "exception": false,
     "start_time": "2024-06-21T16:30:56.415691",
     "status": "completed"
    },
    "tags": []
   },
   "outputs": [
    {
     "data": {
      "text/plain": [
       "array([[41873.09637451],\n",
       "       [15701.23382568],\n",
       "       [19036.22875977],\n",
       "       [48699.51989746],\n",
       "       [ 7557.17590332]])"
      ]
     },
     "execution_count": 37,
     "metadata": {},
     "output_type": "execute_result"
    }
   ],
   "source": [
    "#make predictions train\n",
    "yhat = lm.predict(X)\n",
    "yhat[0:5]"
   ]
  },
  {
   "cell_type": "code",
   "execution_count": 38,
   "id": "3b17dd55",
   "metadata": {
    "execution": {
     "iopub.execute_input": "2024-06-21T16:30:56.584819Z",
     "iopub.status.busy": "2024-06-21T16:30:56.584268Z",
     "iopub.status.idle": "2024-06-21T16:30:56.592100Z",
     "shell.execute_reply": "2024-06-21T16:30:56.591038Z"
    },
    "papermill": {
     "duration": 0.044285,
     "end_time": "2024-06-21T16:30:56.599477",
     "exception": false,
     "start_time": "2024-06-21T16:30:56.555192",
     "status": "completed"
    },
    "tags": []
   },
   "outputs": [
    {
     "data": {
      "text/plain": [
       "array([-3.81357569e+11])"
      ]
     },
     "execution_count": 38,
     "metadata": {},
     "output_type": "execute_result"
    }
   ],
   "source": [
    "#find the intercept\n",
    "lm.intercept_"
   ]
  },
  {
   "cell_type": "code",
   "execution_count": 39,
   "id": "8915f157",
   "metadata": {
    "execution": {
     "iopub.execute_input": "2024-06-21T16:30:56.648507Z",
     "iopub.status.busy": "2024-06-21T16:30:56.648167Z",
     "iopub.status.idle": "2024-06-21T16:30:56.655802Z",
     "shell.execute_reply": "2024-06-21T16:30:56.654764Z"
    },
    "papermill": {
     "duration": 0.030572,
     "end_time": "2024-06-21T16:30:56.657922",
     "exception": false,
     "start_time": "2024-06-21T16:30:56.627350",
     "status": "completed"
    },
    "tags": []
   },
   "outputs": [
    {
     "data": {
      "text/plain": [
       "array([[ 1.03959621e+03, -9.85426584e-02,  3.15709358e+10,\n",
       "         3.15709380e+10,  3.15709409e+10,  3.15709370e+10,\n",
       "         3.15709399e+10,  3.15709393e+10,  3.15709396e+10,\n",
       "         3.15709375e+10,  3.15709370e+10,  3.15709327e+10,\n",
       "         3.15709367e+10,  3.15709411e+10,  3.15709376e+10,\n",
       "         3.15709340e+10,  3.15709417e+10,  3.15709403e+10,\n",
       "         3.15709396e+10,  3.15709347e+10,  3.15709414e+10,\n",
       "         3.15709362e+10,  3.15709375e+10,  3.15709426e+10,\n",
       "         3.15709413e+10,  3.15709342e+10,  3.15709408e+10,\n",
       "         3.15709337e+10,  3.15709372e+10, -1.28403372e+10,\n",
       "        -1.28403407e+10, -1.28403377e+10, -1.28403407e+10,\n",
       "        -1.28403404e+10, -1.28403401e+10,  1.95168181e+11,\n",
       "         1.95168173e+11,  1.95168172e+11,  1.95168172e+11,\n",
       "         1.95168178e+11,  1.95168170e+11, -1.75769273e+10,\n",
       "        -1.75769292e+10, -1.75769314e+10, -1.75769284e+10,\n",
       "        -1.75769302e+10, -1.75769218e+10, -1.75769238e+10,\n",
       "        -1.75769298e+10, -1.75769301e+10, -1.75769232e+10,\n",
       "        -1.75769259e+10, -1.75769183e+10, -1.75769257e+10,\n",
       "        -1.75769203e+10, -1.75769163e+10, -1.75769178e+10,\n",
       "        -1.75769195e+10, -1.75769233e+10,  7.62488663e+10,\n",
       "         7.62488664e+10,  7.62488634e+10,  7.62488616e+10,\n",
       "         7.62488639e+10,  7.62488599e+10,  7.62488611e+10,\n",
       "         7.62488631e+10,  7.62488643e+10,  7.62488647e+10,\n",
       "         7.62488632e+10,  7.62488655e+10,  7.62488636e+10,\n",
       "         7.62488613e+10,  7.62488640e+10,  7.62488595e+10,\n",
       "         7.62488632e+10,  7.62488645e+10,  7.62488642e+10,\n",
       "        -3.03466760e+10, -3.03466757e+10, -3.03466757e+10,\n",
       "        -3.03466759e+10, -3.03466761e+10, -3.03466769e+10,\n",
       "        -3.03466761e+10,  1.45777838e+11,  1.45777839e+11,\n",
       "         1.45777841e+11,  1.45777839e+11,  1.45777839e+11,\n",
       "         1.45777841e+11, -6.64636578e+09, -6.64636353e+09]])"
      ]
     },
     "execution_count": 39,
     "metadata": {},
     "output_type": "execute_result"
    }
   ],
   "source": [
    "#find the slope\n",
    "lm.coef_"
   ]
  },
  {
   "cell_type": "code",
   "execution_count": 40,
   "id": "c18543b9",
   "metadata": {
    "execution": {
     "iopub.execute_input": "2024-06-21T16:30:56.692931Z",
     "iopub.status.busy": "2024-06-21T16:30:56.692532Z",
     "iopub.status.idle": "2024-06-21T16:30:56.699883Z",
     "shell.execute_reply": "2024-06-21T16:30:56.698645Z"
    },
    "papermill": {
     "duration": 0.027342,
     "end_time": "2024-06-21T16:30:56.702000",
     "exception": false,
     "start_time": "2024-06-21T16:30:56.674658",
     "status": "completed"
    },
    "tags": []
   },
   "outputs": [
    {
     "name": "stdout",
     "output_type": "stream",
     "text": [
      "Mean Squared Error (MSE): 100875230.18026106\n"
     ]
    }
   ],
   "source": [
    "#find the MSE\n",
    "from sklearn.metrics import mean_squared_error\n",
    "\n",
    "# Calculate the mean squared error\n",
    "mse = mean_squared_error(y, yhat)\n",
    "\n",
    "# Print the MSE\n",
    "print(\"Mean Squared Error (MSE):\", mse)\n"
   ]
  },
  {
   "cell_type": "code",
   "execution_count": 41,
   "id": "020fbb35",
   "metadata": {
    "execution": {
     "iopub.execute_input": "2024-06-21T16:30:56.736967Z",
     "iopub.status.busy": "2024-06-21T16:30:56.736581Z",
     "iopub.status.idle": "2024-06-21T16:30:56.743428Z",
     "shell.execute_reply": "2024-06-21T16:30:56.742259Z"
    },
    "papermill": {
     "duration": 0.027077,
     "end_time": "2024-06-21T16:30:56.745758",
     "exception": false,
     "start_time": "2024-06-21T16:30:56.718681",
     "status": "completed"
    },
    "tags": []
   },
   "outputs": [
    {
     "data": {
      "text/plain": [
       "10043.666172282961"
      ]
     },
     "execution_count": 41,
     "metadata": {},
     "output_type": "execute_result"
    }
   ],
   "source": [
    "#find the RMSE\n",
    "rmse = np.sqrt(mse)\n",
    "rmse"
   ]
  },
  {
   "cell_type": "code",
   "execution_count": 42,
   "id": "37976964",
   "metadata": {
    "execution": {
     "iopub.execute_input": "2024-06-21T16:30:56.782160Z",
     "iopub.status.busy": "2024-06-21T16:30:56.781787Z",
     "iopub.status.idle": "2024-06-21T16:30:56.789625Z",
     "shell.execute_reply": "2024-06-21T16:30:56.788442Z"
    },
    "papermill": {
     "duration": 0.029005,
     "end_time": "2024-06-21T16:30:56.791770",
     "exception": false,
     "start_time": "2024-06-21T16:30:56.762765",
     "status": "completed"
    },
    "tags": []
   },
   "outputs": [
    {
     "data": {
      "text/plain": [
       "0.5748755539105683"
      ]
     },
     "execution_count": 42,
     "metadata": {},
     "output_type": "execute_result"
    }
   ],
   "source": [
    "#find rscore\n",
    "from sklearn.metrics import r2_score\n",
    "r2_score(y, yhat)"
   ]
  },
  {
   "cell_type": "markdown",
   "id": "8e78bf5e",
   "metadata": {
    "papermill": {
     "duration": 0.016605,
     "end_time": "2024-06-21T16:30:56.825894",
     "exception": false,
     "start_time": "2024-06-21T16:30:56.809289",
     "status": "completed"
    },
    "tags": []
   },
   "source": []
  },
  {
   "cell_type": "markdown",
   "id": "34c813b3",
   "metadata": {
    "papermill": {
     "duration": 0.016543,
     "end_time": "2024-06-21T16:30:56.859563",
     "exception": false,
     "start_time": "2024-06-21T16:30:56.843020",
     "status": "completed"
    },
    "tags": []
   },
   "source": [
    "Given the statistics of the \"price\" variable:\n",
    "\n",
    "Comparison to Mean: The RMSE (10,043.67) is a significant portion of the mean price (26,943.08). Specifically, it's about 37.3% of the mean.\n",
    "Comparison to Standard Deviation: The RMSE is also a substantial portion of the standard deviation (15,404.13), around 65.2%.\n",
    "Range: The price data ranges from 2,000 to 65,500, giving a total range of 63,500. The RMSE (10,043.67) is about 15.8% of this range.\n",
    "Interpretation:\n",
    "High RMSE: The RMSE of 10,043.67 suggests that the model's predictions have a relatively high average error compared to the mean price. This could indicate that the model has room for improvement, especially if lower prediction errors are desirable for the given context.\n",
    "Impact on Predictions: For prices around the mean value, an error of 10,043.67 is quite significant. This means that for a typical house priced around 26,943, the predicted price could vary by ±10,043.67 on average, which might be too large depending on the use case.\n",
    "Relative Error: Given the standard deviation and the interquartile range (IQR = 37,475.5 - 14,500 = 22,975.5), the RMSE is quite high. This suggests that the model might not be capturing the variance in the data well."
   ]
  },
  {
   "cell_type": "markdown",
   "id": "58ebc732",
   "metadata": {
    "papermill": {
     "duration": 0.018388,
     "end_time": "2024-06-21T16:30:56.894747",
     "exception": false,
     "start_time": "2024-06-21T16:30:56.876359",
     "status": "completed"
    },
    "tags": []
   },
   "source": [
    "***XGBRegressor***"
   ]
  },
  {
   "cell_type": "code",
   "execution_count": 43,
   "id": "7c28371a",
   "metadata": {
    "execution": {
     "iopub.execute_input": "2024-06-21T16:30:56.930524Z",
     "iopub.status.busy": "2024-06-21T16:30:56.930151Z",
     "iopub.status.idle": "2024-06-21T16:30:57.114784Z",
     "shell.execute_reply": "2024-06-21T16:30:57.113863Z"
    },
    "papermill": {
     "duration": 0.205199,
     "end_time": "2024-06-21T16:30:57.117211",
     "exception": false,
     "start_time": "2024-06-21T16:30:56.912012",
     "status": "completed"
    },
    "tags": []
   },
   "outputs": [],
   "source": [
    "from xgboost import XGBRegressor"
   ]
  },
  {
   "cell_type": "code",
   "execution_count": 44,
   "id": "21e5c639",
   "metadata": {
    "execution": {
     "iopub.execute_input": "2024-06-21T16:30:57.153227Z",
     "iopub.status.busy": "2024-06-21T16:30:57.152845Z",
     "iopub.status.idle": "2024-06-21T16:56:19.167931Z",
     "shell.execute_reply": "2024-06-21T16:56:19.166880Z"
    },
    "papermill": {
     "duration": 1522.03555,
     "end_time": "2024-06-21T16:56:19.170338",
     "exception": false,
     "start_time": "2024-06-21T16:30:57.134788",
     "status": "completed"
    },
    "tags": []
   },
   "outputs": [
    {
     "name": "stdout",
     "output_type": "stream",
     "text": [
      "Fitting 3 folds for each of 64 candidates, totalling 192 fits\n",
      "[CV 1/3; 1/64] START learning_rate=0.01, max_depth=3, n_estimators=100..........\n",
      "[CV 1/3; 1/64] END learning_rate=0.01, max_depth=3, n_estimators=100;, score=-11062.988 total time=   1.2s\n",
      "[CV 2/3; 1/64] START learning_rate=0.01, max_depth=3, n_estimators=100..........\n",
      "[CV 2/3; 1/64] END learning_rate=0.01, max_depth=3, n_estimators=100;, score=-11261.549 total time=   1.1s\n",
      "[CV 3/3; 1/64] START learning_rate=0.01, max_depth=3, n_estimators=100..........\n",
      "[CV 3/3; 1/64] END learning_rate=0.01, max_depth=3, n_estimators=100;, score=-11041.588 total time=   1.1s\n",
      "[CV 1/3; 2/64] START learning_rate=0.01, max_depth=3, n_estimators=500..........\n",
      "[CV 1/3; 2/64] END learning_rate=0.01, max_depth=3, n_estimators=500;, score=-9716.628 total time=   3.5s\n",
      "[CV 2/3; 2/64] START learning_rate=0.01, max_depth=3, n_estimators=500..........\n",
      "[CV 2/3; 2/64] END learning_rate=0.01, max_depth=3, n_estimators=500;, score=-9958.562 total time=   4.1s\n",
      "[CV 3/3; 2/64] START learning_rate=0.01, max_depth=3, n_estimators=500..........\n",
      "[CV 3/3; 2/64] END learning_rate=0.01, max_depth=3, n_estimators=500;, score=-9708.741 total time=   3.3s\n",
      "[CV 1/3; 3/64] START learning_rate=0.01, max_depth=3, n_estimators=1000.........\n",
      "[CV 1/3; 3/64] END learning_rate=0.01, max_depth=3, n_estimators=1000;, score=-9546.297 total time=   5.7s\n",
      "[CV 2/3; 3/64] START learning_rate=0.01, max_depth=3, n_estimators=1000.........\n",
      "[CV 2/3; 3/64] END learning_rate=0.01, max_depth=3, n_estimators=1000;, score=-9778.094 total time=   5.7s\n",
      "[CV 3/3; 3/64] START learning_rate=0.01, max_depth=3, n_estimators=1000.........\n",
      "[CV 3/3; 3/64] END learning_rate=0.01, max_depth=3, n_estimators=1000;, score=-9537.629 total time=   5.5s\n",
      "[CV 1/3; 4/64] START learning_rate=0.01, max_depth=3, n_estimators=2000.........\n",
      "[CV 1/3; 4/64] END learning_rate=0.01, max_depth=3, n_estimators=2000;, score=-9429.294 total time=  11.4s\n",
      "[CV 2/3; 4/64] START learning_rate=0.01, max_depth=3, n_estimators=2000.........\n",
      "[CV 2/3; 4/64] END learning_rate=0.01, max_depth=3, n_estimators=2000;, score=-9674.243 total time=  10.0s\n",
      "[CV 3/3; 4/64] START learning_rate=0.01, max_depth=3, n_estimators=2000.........\n",
      "[CV 3/3; 4/64] END learning_rate=0.01, max_depth=3, n_estimators=2000;, score=-9425.720 total time=  10.0s\n",
      "[CV 1/3; 5/64] START learning_rate=0.01, max_depth=5, n_estimators=100..........\n",
      "[CV 1/3; 5/64] END learning_rate=0.01, max_depth=5, n_estimators=100;, score=-10827.615 total time=   1.4s\n",
      "[CV 2/3; 5/64] START learning_rate=0.01, max_depth=5, n_estimators=100..........\n",
      "[CV 2/3; 5/64] END learning_rate=0.01, max_depth=5, n_estimators=100;, score=-11046.406 total time=   1.4s\n",
      "[CV 3/3; 5/64] START learning_rate=0.01, max_depth=5, n_estimators=100..........\n",
      "[CV 3/3; 5/64] END learning_rate=0.01, max_depth=5, n_estimators=100;, score=-10816.551 total time=   1.4s\n",
      "[CV 1/3; 6/64] START learning_rate=0.01, max_depth=5, n_estimators=500..........\n",
      "[CV 1/3; 6/64] END learning_rate=0.01, max_depth=5, n_estimators=500;, score=-9493.634 total time=   5.5s\n",
      "[CV 2/3; 6/64] START learning_rate=0.01, max_depth=5, n_estimators=500..........\n",
      "[CV 2/3; 6/64] END learning_rate=0.01, max_depth=5, n_estimators=500;, score=-9734.711 total time=   4.3s\n",
      "[CV 3/3; 6/64] START learning_rate=0.01, max_depth=5, n_estimators=500..........\n",
      "[CV 3/3; 6/64] END learning_rate=0.01, max_depth=5, n_estimators=500;, score=-9480.033 total time=   4.2s\n",
      "[CV 1/3; 7/64] START learning_rate=0.01, max_depth=5, n_estimators=1000.........\n",
      "[CV 1/3; 7/64] END learning_rate=0.01, max_depth=5, n_estimators=1000;, score=-9372.098 total time=   7.0s\n",
      "[CV 2/3; 7/64] START learning_rate=0.01, max_depth=5, n_estimators=1000.........\n",
      "[CV 2/3; 7/64] END learning_rate=0.01, max_depth=5, n_estimators=1000;, score=-9614.051 total time=   7.0s\n",
      "[CV 3/3; 7/64] START learning_rate=0.01, max_depth=5, n_estimators=1000.........\n",
      "[CV 3/3; 7/64] END learning_rate=0.01, max_depth=5, n_estimators=1000;, score=-9364.202 total time=   7.0s\n",
      "[CV 1/3; 8/64] START learning_rate=0.01, max_depth=5, n_estimators=2000.........\n",
      "[CV 1/3; 8/64] END learning_rate=0.01, max_depth=5, n_estimators=2000;, score=-9290.983 total time=  13.9s\n",
      "[CV 2/3; 8/64] START learning_rate=0.01, max_depth=5, n_estimators=2000.........\n",
      "[CV 2/3; 8/64] END learning_rate=0.01, max_depth=5, n_estimators=2000;, score=-9552.629 total time=  12.5s\n",
      "[CV 3/3; 8/64] START learning_rate=0.01, max_depth=5, n_estimators=2000.........\n",
      "[CV 3/3; 8/64] END learning_rate=0.01, max_depth=5, n_estimators=2000;, score=-9305.093 total time=  13.9s\n",
      "[CV 1/3; 9/64] START learning_rate=0.01, max_depth=8, n_estimators=100..........\n",
      "[CV 1/3; 9/64] END learning_rate=0.01, max_depth=8, n_estimators=100;, score=-10631.072 total time=   1.8s\n",
      "[CV 2/3; 9/64] START learning_rate=0.01, max_depth=8, n_estimators=100..........\n",
      "[CV 2/3; 9/64] END learning_rate=0.01, max_depth=8, n_estimators=100;, score=-10836.020 total time=   1.9s\n",
      "[CV 3/3; 9/64] START learning_rate=0.01, max_depth=8, n_estimators=100..........\n",
      "[CV 3/3; 9/64] END learning_rate=0.01, max_depth=8, n_estimators=100;, score=-10626.937 total time=   1.8s\n",
      "[CV 1/3; 10/64] START learning_rate=0.01, max_depth=8, n_estimators=500.........\n",
      "[CV 1/3; 10/64] END learning_rate=0.01, max_depth=8, n_estimators=500;, score=-9379.165 total time=   6.0s\n",
      "[CV 2/3; 10/64] START learning_rate=0.01, max_depth=8, n_estimators=500.........\n",
      "[CV 2/3; 10/64] END learning_rate=0.01, max_depth=8, n_estimators=500;, score=-9598.995 total time=   6.1s\n",
      "[CV 3/3; 10/64] START learning_rate=0.01, max_depth=8, n_estimators=500.........\n",
      "[CV 3/3; 10/64] END learning_rate=0.01, max_depth=8, n_estimators=500;, score=-9365.520 total time=   6.1s\n",
      "[CV 1/3; 11/64] START learning_rate=0.01, max_depth=8, n_estimators=1000........\n",
      "[CV 1/3; 11/64] END learning_rate=0.01, max_depth=8, n_estimators=1000;, score=-9325.603 total time=  11.5s\n",
      "[CV 2/3; 11/64] START learning_rate=0.01, max_depth=8, n_estimators=1000........\n",
      "[CV 2/3; 11/64] END learning_rate=0.01, max_depth=8, n_estimators=1000;, score=-9563.939 total time=  10.2s\n",
      "[CV 3/3; 11/64] START learning_rate=0.01, max_depth=8, n_estimators=1000........\n",
      "[CV 3/3; 11/64] END learning_rate=0.01, max_depth=8, n_estimators=1000;, score=-9329.046 total time=  10.3s\n",
      "[CV 1/3; 12/64] START learning_rate=0.01, max_depth=8, n_estimators=2000........\n",
      "[CV 1/3; 12/64] END learning_rate=0.01, max_depth=8, n_estimators=2000;, score=-9310.515 total time=  20.0s\n",
      "[CV 2/3; 12/64] START learning_rate=0.01, max_depth=8, n_estimators=2000........\n",
      "[CV 2/3; 12/64] END learning_rate=0.01, max_depth=8, n_estimators=2000;, score=-9573.407 total time=  19.9s\n",
      "[CV 3/3; 12/64] START learning_rate=0.01, max_depth=8, n_estimators=2000........\n",
      "[CV 3/3; 12/64] END learning_rate=0.01, max_depth=8, n_estimators=2000;, score=-9350.119 total time=  18.8s\n",
      "[CV 1/3; 13/64] START learning_rate=0.01, max_depth=10, n_estimators=100........\n",
      "[CV 1/3; 13/64] END learning_rate=0.01, max_depth=10, n_estimators=100;, score=-10563.391 total time=   2.3s\n",
      "[CV 2/3; 13/64] START learning_rate=0.01, max_depth=10, n_estimators=100........\n",
      "[CV 2/3; 13/64] END learning_rate=0.01, max_depth=10, n_estimators=100;, score=-10774.092 total time=   2.2s\n",
      "[CV 3/3; 13/64] START learning_rate=0.01, max_depth=10, n_estimators=100........\n",
      "[CV 3/3; 13/64] END learning_rate=0.01, max_depth=10, n_estimators=100;, score=-10574.302 total time=   3.5s\n",
      "[CV 1/3; 14/64] START learning_rate=0.01, max_depth=10, n_estimators=500........\n",
      "[CV 1/3; 14/64] END learning_rate=0.01, max_depth=10, n_estimators=500;, score=-9384.876 total time=   8.0s\n",
      "[CV 2/3; 14/64] START learning_rate=0.01, max_depth=10, n_estimators=500........\n",
      "[CV 2/3; 14/64] END learning_rate=0.01, max_depth=10, n_estimators=500;, score=-9617.671 total time=   8.1s\n",
      "[CV 3/3; 14/64] START learning_rate=0.01, max_depth=10, n_estimators=500........\n",
      "[CV 3/3; 14/64] END learning_rate=0.01, max_depth=10, n_estimators=500;, score=-9395.729 total time=   8.1s\n",
      "[CV 1/3; 15/64] START learning_rate=0.01, max_depth=10, n_estimators=1000.......\n",
      "[CV 1/3; 15/64] END learning_rate=0.01, max_depth=10, n_estimators=1000;, score=-9376.021 total time=  14.8s\n",
      "[CV 2/3; 15/64] START learning_rate=0.01, max_depth=10, n_estimators=1000.......\n",
      "[CV 2/3; 15/64] END learning_rate=0.01, max_depth=10, n_estimators=1000;, score=-9620.405 total time=  13.8s\n",
      "[CV 3/3; 15/64] START learning_rate=0.01, max_depth=10, n_estimators=1000.......\n",
      "[CV 3/3; 15/64] END learning_rate=0.01, max_depth=10, n_estimators=1000;, score=-9401.021 total time=  15.0s\n",
      "[CV 1/3; 16/64] START learning_rate=0.01, max_depth=10, n_estimators=2000.......\n",
      "[CV 1/3; 16/64] END learning_rate=0.01, max_depth=10, n_estimators=2000;, score=-9423.333 total time=  24.5s\n",
      "[CV 2/3; 16/64] START learning_rate=0.01, max_depth=10, n_estimators=2000.......\n",
      "[CV 2/3; 16/64] END learning_rate=0.01, max_depth=10, n_estimators=2000;, score=-9692.682 total time=  26.0s\n",
      "[CV 3/3; 16/64] START learning_rate=0.01, max_depth=10, n_estimators=2000.......\n",
      "[CV 3/3; 16/64] END learning_rate=0.01, max_depth=10, n_estimators=2000;, score=-9487.494 total time=  26.1s\n",
      "[CV 1/3; 17/64] START learning_rate=0.05, max_depth=3, n_estimators=100.........\n",
      "[CV 1/3; 17/64] END learning_rate=0.05, max_depth=3, n_estimators=100;, score=-9708.958 total time=   1.0s\n",
      "[CV 2/3; 17/64] START learning_rate=0.05, max_depth=3, n_estimators=100.........\n",
      "[CV 2/3; 17/64] END learning_rate=0.05, max_depth=3, n_estimators=100;, score=-9952.494 total time=   1.0s\n",
      "[CV 3/3; 17/64] START learning_rate=0.05, max_depth=3, n_estimators=100.........\n",
      "[CV 3/3; 17/64] END learning_rate=0.05, max_depth=3, n_estimators=100;, score=-9704.786 total time=   1.0s\n",
      "[CV 1/3; 18/64] START learning_rate=0.05, max_depth=3, n_estimators=500.........\n",
      "[CV 1/3; 18/64] END learning_rate=0.05, max_depth=3, n_estimators=500;, score=-9392.070 total time=   2.8s\n",
      "[CV 2/3; 18/64] START learning_rate=0.05, max_depth=3, n_estimators=500.........\n",
      "[CV 2/3; 18/64] END learning_rate=0.05, max_depth=3, n_estimators=500;, score=-9642.083 total time=   2.9s\n",
      "[CV 3/3; 18/64] START learning_rate=0.05, max_depth=3, n_estimators=500.........\n",
      "[CV 3/3; 18/64] END learning_rate=0.05, max_depth=3, n_estimators=500;, score=-9392.967 total time=   2.8s\n",
      "[CV 1/3; 19/64] START learning_rate=0.05, max_depth=3, n_estimators=1000........\n",
      "[CV 1/3; 19/64] END learning_rate=0.05, max_depth=3, n_estimators=1000;, score=-9296.562 total time=   6.5s\n",
      "[CV 2/3; 19/64] START learning_rate=0.05, max_depth=3, n_estimators=1000........\n",
      "[CV 2/3; 19/64] END learning_rate=0.05, max_depth=3, n_estimators=1000;, score=-9578.821 total time=   5.1s\n",
      "[CV 3/3; 19/64] START learning_rate=0.05, max_depth=3, n_estimators=1000........\n",
      "[CV 3/3; 19/64] END learning_rate=0.05, max_depth=3, n_estimators=1000;, score=-9328.851 total time=   5.1s\n",
      "[CV 1/3; 20/64] START learning_rate=0.05, max_depth=3, n_estimators=2000........\n",
      "[CV 1/3; 20/64] END learning_rate=0.05, max_depth=3, n_estimators=2000;, score=-9237.652 total time=  10.0s\n",
      "[CV 2/3; 20/64] START learning_rate=0.05, max_depth=3, n_estimators=2000........\n",
      "[CV 2/3; 20/64] END learning_rate=0.05, max_depth=3, n_estimators=2000;, score=-9546.266 total time=  11.2s\n",
      "[CV 3/3; 20/64] START learning_rate=0.05, max_depth=3, n_estimators=2000........\n",
      "[CV 3/3; 20/64] END learning_rate=0.05, max_depth=3, n_estimators=2000;, score=-9304.564 total time=   9.8s\n",
      "[CV 1/3; 21/64] START learning_rate=0.05, max_depth=5, n_estimators=100.........\n",
      "[CV 1/3; 21/64] END learning_rate=0.05, max_depth=5, n_estimators=100;, score=-9495.605 total time=   1.2s\n",
      "[CV 2/3; 21/64] START learning_rate=0.05, max_depth=5, n_estimators=100.........\n",
      "[CV 2/3; 21/64] END learning_rate=0.05, max_depth=5, n_estimators=100;, score=-9737.070 total time=   1.2s\n",
      "[CV 3/3; 21/64] START learning_rate=0.05, max_depth=5, n_estimators=100.........\n",
      "[CV 3/3; 21/64] END learning_rate=0.05, max_depth=5, n_estimators=100;, score=-9482.018 total time=   1.2s\n",
      "[CV 1/3; 22/64] START learning_rate=0.05, max_depth=5, n_estimators=500.........\n",
      "[CV 1/3; 22/64] END learning_rate=0.05, max_depth=5, n_estimators=500;, score=-9280.512 total time=   3.4s\n",
      "[CV 2/3; 22/64] START learning_rate=0.05, max_depth=5, n_estimators=500.........\n",
      "[CV 2/3; 22/64] END learning_rate=0.05, max_depth=5, n_estimators=500;, score=-9543.912 total time=   3.5s\n",
      "[CV 3/3; 22/64] START learning_rate=0.05, max_depth=5, n_estimators=500.........\n",
      "[CV 3/3; 22/64] END learning_rate=0.05, max_depth=5, n_estimators=500;, score=-9300.604 total time=   3.4s\n",
      "[CV 1/3; 23/64] START learning_rate=0.05, max_depth=5, n_estimators=1000........\n",
      "[CV 1/3; 23/64] END learning_rate=0.05, max_depth=5, n_estimators=1000;, score=-9252.914 total time=   7.6s\n",
      "[CV 2/3; 23/64] START learning_rate=0.05, max_depth=5, n_estimators=1000........\n",
      "[CV 2/3; 23/64] END learning_rate=0.05, max_depth=5, n_estimators=1000;, score=-9540.091 total time=   6.4s\n",
      "[CV 3/3; 23/64] START learning_rate=0.05, max_depth=5, n_estimators=1000........\n",
      "[CV 3/3; 23/64] END learning_rate=0.05, max_depth=5, n_estimators=1000;, score=-9303.484 total time=   6.3s\n",
      "[CV 1/3; 24/64] START learning_rate=0.05, max_depth=5, n_estimators=2000........\n",
      "[CV 1/3; 24/64] END learning_rate=0.05, max_depth=5, n_estimators=2000;, score=-9299.738 total time=  12.1s\n",
      "[CV 2/3; 24/64] START learning_rate=0.05, max_depth=5, n_estimators=2000........\n",
      "[CV 2/3; 24/64] END learning_rate=0.05, max_depth=5, n_estimators=2000;, score=-9595.356 total time=  13.6s\n",
      "[CV 3/3; 24/64] START learning_rate=0.05, max_depth=5, n_estimators=2000........\n",
      "[CV 3/3; 24/64] END learning_rate=0.05, max_depth=5, n_estimators=2000;, score=-9384.794 total time=  12.2s\n",
      "[CV 1/3; 25/64] START learning_rate=0.05, max_depth=8, n_estimators=100.........\n",
      "[CV 1/3; 25/64] END learning_rate=0.05, max_depth=8, n_estimators=100;, score=-9371.334 total time=   1.5s\n",
      "[CV 2/3; 25/64] START learning_rate=0.05, max_depth=8, n_estimators=100.........\n",
      "[CV 2/3; 25/64] END learning_rate=0.05, max_depth=8, n_estimators=100;, score=-9596.673 total time=   1.5s\n",
      "[CV 3/3; 25/64] START learning_rate=0.05, max_depth=8, n_estimators=100.........\n",
      "[CV 3/3; 25/64] END learning_rate=0.05, max_depth=8, n_estimators=100;, score=-9370.475 total time=   1.6s\n",
      "[CV 1/3; 26/64] START learning_rate=0.05, max_depth=8, n_estimators=500.........\n",
      "[CV 1/3; 26/64] END learning_rate=0.05, max_depth=8, n_estimators=500;, score=-9324.668 total time=   5.0s\n",
      "[CV 2/3; 26/64] START learning_rate=0.05, max_depth=8, n_estimators=500.........\n",
      "[CV 2/3; 26/64] END learning_rate=0.05, max_depth=8, n_estimators=500;, score=-9599.833 total time=   6.0s\n",
      "[CV 3/3; 26/64] START learning_rate=0.05, max_depth=8, n_estimators=500.........\n",
      "[CV 3/3; 26/64] END learning_rate=0.05, max_depth=8, n_estimators=500;, score=-9388.652 total time=   4.9s\n",
      "[CV 1/3; 27/64] START learning_rate=0.05, max_depth=8, n_estimators=1000........\n",
      "[CV 1/3; 27/64] END learning_rate=0.05, max_depth=8, n_estimators=1000;, score=-9451.031 total time=   9.0s\n",
      "[CV 2/3; 27/64] START learning_rate=0.05, max_depth=8, n_estimators=1000........\n",
      "[CV 2/3; 27/64] END learning_rate=0.05, max_depth=8, n_estimators=1000;, score=-9732.986 total time=   9.0s\n",
      "[CV 3/3; 27/64] START learning_rate=0.05, max_depth=8, n_estimators=1000........\n",
      "[CV 3/3; 27/64] END learning_rate=0.05, max_depth=8, n_estimators=1000;, score=-9523.921 total time=  10.3s\n",
      "[CV 1/3; 28/64] START learning_rate=0.05, max_depth=8, n_estimators=2000........\n",
      "[CV 1/3; 28/64] END learning_rate=0.05, max_depth=8, n_estimators=2000;, score=-9668.144 total time=  17.4s\n",
      "[CV 2/3; 28/64] START learning_rate=0.05, max_depth=8, n_estimators=2000........\n",
      "[CV 2/3; 28/64] END learning_rate=0.05, max_depth=8, n_estimators=2000;, score=-9959.252 total time=  18.7s\n",
      "[CV 3/3; 28/64] START learning_rate=0.05, max_depth=8, n_estimators=2000........\n",
      "[CV 3/3; 28/64] END learning_rate=0.05, max_depth=8, n_estimators=2000;, score=-9775.173 total time=  17.4s\n",
      "[CV 1/3; 29/64] START learning_rate=0.05, max_depth=10, n_estimators=100........\n",
      "[CV 1/3; 29/64] END learning_rate=0.05, max_depth=10, n_estimators=100;, score=-9388.361 total time=   1.9s\n",
      "[CV 2/3; 29/64] START learning_rate=0.05, max_depth=10, n_estimators=100........\n",
      "[CV 2/3; 29/64] END learning_rate=0.05, max_depth=10, n_estimators=100;, score=-9619.545 total time=   3.2s\n",
      "[CV 3/3; 29/64] START learning_rate=0.05, max_depth=10, n_estimators=100........\n",
      "[CV 3/3; 29/64] END learning_rate=0.05, max_depth=10, n_estimators=100;, score=-9403.071 total time=   1.9s\n",
      "[CV 1/3; 30/64] START learning_rate=0.05, max_depth=10, n_estimators=500........\n",
      "[CV 1/3; 30/64] END learning_rate=0.05, max_depth=10, n_estimators=500;, score=-9469.451 total time=   6.2s\n",
      "[CV 2/3; 30/64] START learning_rate=0.05, max_depth=10, n_estimators=500........\n",
      "[CV 2/3; 30/64] END learning_rate=0.05, max_depth=10, n_estimators=500;, score=-9727.178 total time=   6.2s\n",
      "[CV 3/3; 30/64] START learning_rate=0.05, max_depth=10, n_estimators=500........\n",
      "[CV 3/3; 30/64] END learning_rate=0.05, max_depth=10, n_estimators=500;, score=-9533.338 total time=   6.4s\n",
      "[CV 1/3; 31/64] START learning_rate=0.05, max_depth=10, n_estimators=1000.......\n",
      "[CV 1/3; 31/64] END learning_rate=0.05, max_depth=10, n_estimators=1000;, score=-9672.452 total time=  12.9s\n",
      "[CV 2/3; 31/64] START learning_rate=0.05, max_depth=10, n_estimators=1000.......\n",
      "[CV 2/3; 31/64] END learning_rate=0.05, max_depth=10, n_estimators=1000;, score=-9915.276 total time=  11.7s\n",
      "[CV 3/3; 31/64] START learning_rate=0.05, max_depth=10, n_estimators=1000.......\n",
      "[CV 3/3; 31/64] END learning_rate=0.05, max_depth=10, n_estimators=1000;, score=-9745.133 total time=  11.7s\n",
      "[CV 1/3; 32/64] START learning_rate=0.05, max_depth=10, n_estimators=2000.......\n",
      "[CV 1/3; 32/64] END learning_rate=0.05, max_depth=10, n_estimators=2000;, score=-9961.804 total time=  24.4s\n",
      "[CV 2/3; 32/64] START learning_rate=0.05, max_depth=10, n_estimators=2000.......\n",
      "[CV 2/3; 32/64] END learning_rate=0.05, max_depth=10, n_estimators=2000;, score=-10194.428 total time=  24.3s\n",
      "[CV 3/3; 32/64] START learning_rate=0.05, max_depth=10, n_estimators=2000.......\n",
      "[CV 3/3; 32/64] END learning_rate=0.05, max_depth=10, n_estimators=2000;, score=-10028.170 total time=  24.3s\n",
      "[CV 1/3; 33/64] START learning_rate=0.1, max_depth=3, n_estimators=100..........\n",
      "[CV 1/3; 33/64] END learning_rate=0.1, max_depth=3, n_estimators=100;, score=-9538.079 total time=   1.0s\n",
      "[CV 2/3; 33/64] START learning_rate=0.1, max_depth=3, n_estimators=100..........\n",
      "[CV 2/3; 33/64] END learning_rate=0.1, max_depth=3, n_estimators=100;, score=-9770.467 total time=   0.9s\n",
      "[CV 3/3; 33/64] START learning_rate=0.1, max_depth=3, n_estimators=100..........\n",
      "[CV 3/3; 33/64] END learning_rate=0.1, max_depth=3, n_estimators=100;, score=-9528.705 total time=   0.9s\n",
      "[CV 1/3; 34/64] START learning_rate=0.1, max_depth=3, n_estimators=500..........\n",
      "[CV 1/3; 34/64] END learning_rate=0.1, max_depth=3, n_estimators=500;, score=-9299.153 total time=   2.7s\n",
      "[CV 2/3; 34/64] START learning_rate=0.1, max_depth=3, n_estimators=500..........\n",
      "[CV 2/3; 34/64] END learning_rate=0.1, max_depth=3, n_estimators=500;, score=-9570.948 total time=   2.9s\n",
      "[CV 3/3; 34/64] START learning_rate=0.1, max_depth=3, n_estimators=500..........\n",
      "[CV 3/3; 34/64] END learning_rate=0.1, max_depth=3, n_estimators=500;, score=-9319.026 total time=   2.8s\n",
      "[CV 1/3; 35/64] START learning_rate=0.1, max_depth=3, n_estimators=1000.........\n",
      "[CV 1/3; 35/64] END learning_rate=0.1, max_depth=3, n_estimators=1000;, score=-9232.978 total time=   5.1s\n",
      "[CV 2/3; 35/64] START learning_rate=0.1, max_depth=3, n_estimators=1000.........\n",
      "[CV 2/3; 35/64] END learning_rate=0.1, max_depth=3, n_estimators=1000;, score=-9533.476 total time=   5.2s\n",
      "[CV 3/3; 35/64] START learning_rate=0.1, max_depth=3, n_estimators=1000.........\n",
      "[CV 3/3; 35/64] END learning_rate=0.1, max_depth=3, n_estimators=1000;, score=-9296.484 total time=   5.1s\n",
      "[CV 1/3; 36/64] START learning_rate=0.1, max_depth=3, n_estimators=2000.........\n",
      "[CV 1/3; 36/64] END learning_rate=0.1, max_depth=3, n_estimators=2000;, score=-9234.665 total time=  11.3s\n",
      "[CV 2/3; 36/64] START learning_rate=0.1, max_depth=3, n_estimators=2000.........\n",
      "[CV 2/3; 36/64] END learning_rate=0.1, max_depth=3, n_estimators=2000;, score=-9544.235 total time=  10.0s\n",
      "[CV 3/3; 36/64] START learning_rate=0.1, max_depth=3, n_estimators=2000.........\n",
      "[CV 3/3; 36/64] END learning_rate=0.1, max_depth=3, n_estimators=2000;, score=-9309.970 total time=   9.9s\n",
      "[CV 1/3; 37/64] START learning_rate=0.1, max_depth=5, n_estimators=100..........\n",
      "[CV 1/3; 37/64] END learning_rate=0.1, max_depth=5, n_estimators=100;, score=-9374.235 total time=   1.1s\n",
      "[CV 2/3; 37/64] START learning_rate=0.1, max_depth=5, n_estimators=100..........\n",
      "[CV 2/3; 37/64] END learning_rate=0.1, max_depth=5, n_estimators=100;, score=-9608.452 total time=   2.1s\n",
      "[CV 3/3; 37/64] START learning_rate=0.1, max_depth=5, n_estimators=100..........\n",
      "[CV 3/3; 37/64] END learning_rate=0.1, max_depth=5, n_estimators=100;, score=-9361.660 total time=   1.1s\n",
      "[CV 1/3; 38/64] START learning_rate=0.1, max_depth=5, n_estimators=500..........\n",
      "[CV 1/3; 38/64] END learning_rate=0.1, max_depth=5, n_estimators=500;, score=-9263.513 total time=   3.4s\n",
      "[CV 2/3; 38/64] START learning_rate=0.1, max_depth=5, n_estimators=500..........\n",
      "[CV 2/3; 38/64] END learning_rate=0.1, max_depth=5, n_estimators=500;, score=-9537.202 total time=   3.5s\n",
      "[CV 3/3; 38/64] START learning_rate=0.1, max_depth=5, n_estimators=500..........\n",
      "[CV 3/3; 38/64] END learning_rate=0.1, max_depth=5, n_estimators=500;, score=-9307.599 total time=   3.4s\n",
      "[CV 1/3; 39/64] START learning_rate=0.1, max_depth=5, n_estimators=1000.........\n",
      "[CV 1/3; 39/64] END learning_rate=0.1, max_depth=5, n_estimators=1000;, score=-9303.453 total time=   6.3s\n",
      "[CV 2/3; 39/64] START learning_rate=0.1, max_depth=5, n_estimators=1000.........\n",
      "[CV 2/3; 39/64] END learning_rate=0.1, max_depth=5, n_estimators=1000;, score=-9605.803 total time=   6.3s\n",
      "[CV 3/3; 39/64] START learning_rate=0.1, max_depth=5, n_estimators=1000.........\n",
      "[CV 3/3; 39/64] END learning_rate=0.1, max_depth=5, n_estimators=1000;, score=-9386.654 total time=   7.6s\n",
      "[CV 1/3; 40/64] START learning_rate=0.1, max_depth=5, n_estimators=2000.........\n",
      "[CV 1/3; 40/64] END learning_rate=0.1, max_depth=5, n_estimators=2000;, score=-9453.982 total time=  12.2s\n",
      "[CV 2/3; 40/64] START learning_rate=0.1, max_depth=5, n_estimators=2000.........\n",
      "[CV 2/3; 40/64] END learning_rate=0.1, max_depth=5, n_estimators=2000;, score=-9754.621 total time=  12.2s\n",
      "[CV 3/3; 40/64] START learning_rate=0.1, max_depth=5, n_estimators=2000.........\n",
      "[CV 3/3; 40/64] END learning_rate=0.1, max_depth=5, n_estimators=2000;, score=-9576.489 total time=  13.6s\n",
      "[CV 1/3; 41/64] START learning_rate=0.1, max_depth=8, n_estimators=100..........\n",
      "[CV 1/3; 41/64] END learning_rate=0.1, max_depth=8, n_estimators=100;, score=-9337.570 total time=   1.4s\n",
      "[CV 2/3; 41/64] START learning_rate=0.1, max_depth=8, n_estimators=100..........\n",
      "[CV 2/3; 41/64] END learning_rate=0.1, max_depth=8, n_estimators=100;, score=-9557.675 total time=   1.4s\n",
      "[CV 3/3; 41/64] START learning_rate=0.1, max_depth=8, n_estimators=100..........\n",
      "[CV 3/3; 41/64] END learning_rate=0.1, max_depth=8, n_estimators=100;, score=-9351.050 total time=   1.4s\n",
      "[CV 1/3; 42/64] START learning_rate=0.1, max_depth=8, n_estimators=500..........\n",
      "[CV 1/3; 42/64] END learning_rate=0.1, max_depth=8, n_estimators=500;, score=-9451.320 total time=   4.7s\n",
      "[CV 2/3; 42/64] START learning_rate=0.1, max_depth=8, n_estimators=500..........\n",
      "[CV 2/3; 42/64] END learning_rate=0.1, max_depth=8, n_estimators=500;, score=-9733.149 total time=   4.6s\n",
      "[CV 3/3; 42/64] START learning_rate=0.1, max_depth=8, n_estimators=500..........\n",
      "[CV 3/3; 42/64] END learning_rate=0.1, max_depth=8, n_estimators=500;, score=-9538.419 total time=   4.7s\n",
      "[CV 1/3; 43/64] START learning_rate=0.1, max_depth=8, n_estimators=1000.........\n",
      "[CV 1/3; 43/64] END learning_rate=0.1, max_depth=8, n_estimators=1000;, score=-9680.760 total time=  10.1s\n",
      "[CV 2/3; 43/64] START learning_rate=0.1, max_depth=8, n_estimators=1000.........\n",
      "[CV 2/3; 43/64] END learning_rate=0.1, max_depth=8, n_estimators=1000;, score=-9971.098 total time=   8.8s\n",
      "[CV 3/3; 43/64] START learning_rate=0.1, max_depth=8, n_estimators=1000.........\n",
      "[CV 3/3; 43/64] END learning_rate=0.1, max_depth=8, n_estimators=1000;, score=-9771.962 total time=   8.8s\n",
      "[CV 1/3; 44/64] START learning_rate=0.1, max_depth=8, n_estimators=2000.........\n",
      "[CV 1/3; 44/64] END learning_rate=0.1, max_depth=8, n_estimators=2000;, score=-10017.885 total time=  18.8s\n",
      "[CV 2/3; 44/64] START learning_rate=0.1, max_depth=8, n_estimators=2000.........\n",
      "[CV 2/3; 44/64] END learning_rate=0.1, max_depth=8, n_estimators=2000;, score=-10257.540 total time=  17.4s\n",
      "[CV 3/3; 44/64] START learning_rate=0.1, max_depth=8, n_estimators=2000.........\n",
      "[CV 3/3; 44/64] END learning_rate=0.1, max_depth=8, n_estimators=2000;, score=-10115.660 total time=  18.8s\n",
      "[CV 1/3; 45/64] START learning_rate=0.1, max_depth=10, n_estimators=100.........\n",
      "[CV 1/3; 45/64] END learning_rate=0.1, max_depth=10, n_estimators=100;, score=-9389.413 total time=   1.7s\n",
      "[CV 2/3; 45/64] START learning_rate=0.1, max_depth=10, n_estimators=100.........\n",
      "[CV 2/3; 45/64] END learning_rate=0.1, max_depth=10, n_estimators=100;, score=-9641.933 total time=   1.7s\n",
      "[CV 3/3; 45/64] START learning_rate=0.1, max_depth=10, n_estimators=100.........\n",
      "[CV 3/3; 45/64] END learning_rate=0.1, max_depth=10, n_estimators=100;, score=-9426.167 total time=   1.7s\n",
      "[CV 1/3; 46/64] START learning_rate=0.1, max_depth=10, n_estimators=500.........\n",
      "[CV 1/3; 46/64] END learning_rate=0.1, max_depth=10, n_estimators=500;, score=-9714.293 total time=   6.1s\n",
      "[CV 2/3; 46/64] START learning_rate=0.1, max_depth=10, n_estimators=500.........\n",
      "[CV 2/3; 46/64] END learning_rate=0.1, max_depth=10, n_estimators=500;, score=-9929.515 total time=   6.1s\n",
      "[CV 3/3; 46/64] START learning_rate=0.1, max_depth=10, n_estimators=500.........\n",
      "[CV 3/3; 46/64] END learning_rate=0.1, max_depth=10, n_estimators=500;, score=-9785.379 total time=   7.2s\n",
      "[CV 1/3; 47/64] START learning_rate=0.1, max_depth=10, n_estimators=1000........\n",
      "[CV 1/3; 47/64] END learning_rate=0.1, max_depth=10, n_estimators=1000;, score=-9993.053 total time=  11.7s\n",
      "[CV 2/3; 47/64] START learning_rate=0.1, max_depth=10, n_estimators=1000........\n",
      "[CV 2/3; 47/64] END learning_rate=0.1, max_depth=10, n_estimators=1000;, score=-10188.129 total time=  11.7s\n",
      "[CV 3/3; 47/64] START learning_rate=0.1, max_depth=10, n_estimators=1000........\n",
      "[CV 3/3; 47/64] END learning_rate=0.1, max_depth=10, n_estimators=1000;, score=-10087.758 total time=  12.9s\n",
      "[CV 1/3; 48/64] START learning_rate=0.1, max_depth=10, n_estimators=2000........\n",
      "[CV 1/3; 48/64] END learning_rate=0.1, max_depth=10, n_estimators=2000;, score=-10292.187 total time=  24.8s\n",
      "[CV 2/3; 48/64] START learning_rate=0.1, max_depth=10, n_estimators=2000........\n",
      "[CV 2/3; 48/64] END learning_rate=0.1, max_depth=10, n_estimators=2000;, score=-10468.252 total time=  23.7s\n",
      "[CV 3/3; 48/64] START learning_rate=0.1, max_depth=10, n_estimators=2000........\n",
      "[CV 3/3; 48/64] END learning_rate=0.1, max_depth=10, n_estimators=2000;, score=-10373.004 total time=  24.9s\n",
      "[CV 1/3; 49/64] START learning_rate=0.15, max_depth=3, n_estimators=100.........\n",
      "[CV 1/3; 49/64] END learning_rate=0.15, max_depth=3, n_estimators=100;, score=-9467.752 total time=   0.9s\n",
      "[CV 2/3; 49/64] START learning_rate=0.15, max_depth=3, n_estimators=100.........\n",
      "[CV 2/3; 49/64] END learning_rate=0.15, max_depth=3, n_estimators=100;, score=-9707.224 total time=   0.9s\n",
      "[CV 3/3; 49/64] START learning_rate=0.15, max_depth=3, n_estimators=100.........\n",
      "[CV 3/3; 49/64] END learning_rate=0.15, max_depth=3, n_estimators=100;, score=-9452.590 total time=   1.0s\n",
      "[CV 1/3; 50/64] START learning_rate=0.15, max_depth=3, n_estimators=500.........\n",
      "[CV 1/3; 50/64] END learning_rate=0.15, max_depth=3, n_estimators=500;, score=-9255.228 total time=   2.8s\n",
      "[CV 2/3; 50/64] START learning_rate=0.15, max_depth=3, n_estimators=500.........\n",
      "[CV 2/3; 50/64] END learning_rate=0.15, max_depth=3, n_estimators=500;, score=-9554.768 total time=   2.8s\n",
      "[CV 3/3; 50/64] START learning_rate=0.15, max_depth=3, n_estimators=500.........\n",
      "[CV 3/3; 50/64] END learning_rate=0.15, max_depth=3, n_estimators=500;, score=-9301.576 total time=   2.8s\n",
      "[CV 1/3; 51/64] START learning_rate=0.15, max_depth=3, n_estimators=1000........\n",
      "[CV 1/3; 51/64] END learning_rate=0.15, max_depth=3, n_estimators=1000;, score=-9235.994 total time=   6.5s\n",
      "[CV 2/3; 51/64] START learning_rate=0.15, max_depth=3, n_estimators=1000........\n",
      "[CV 2/3; 51/64] END learning_rate=0.15, max_depth=3, n_estimators=1000;, score=-9553.579 total time=   5.2s\n",
      "[CV 3/3; 51/64] START learning_rate=0.15, max_depth=3, n_estimators=1000........\n",
      "[CV 3/3; 51/64] END learning_rate=0.15, max_depth=3, n_estimators=1000;, score=-9299.422 total time=   5.1s\n",
      "[CV 1/3; 52/64] START learning_rate=0.15, max_depth=3, n_estimators=2000........\n",
      "[CV 1/3; 52/64] END learning_rate=0.15, max_depth=3, n_estimators=2000;, score=-9270.310 total time=  10.0s\n",
      "[CV 2/3; 52/64] START learning_rate=0.15, max_depth=3, n_estimators=2000........\n",
      "[CV 2/3; 52/64] END learning_rate=0.15, max_depth=3, n_estimators=2000;, score=-9581.603 total time=  11.4s\n",
      "[CV 3/3; 52/64] START learning_rate=0.15, max_depth=3, n_estimators=2000........\n",
      "[CV 3/3; 52/64] END learning_rate=0.15, max_depth=3, n_estimators=2000;, score=-9355.863 total time=  10.0s\n",
      "[CV 1/3; 53/64] START learning_rate=0.15, max_depth=5, n_estimators=100.........\n",
      "[CV 1/3; 53/64] END learning_rate=0.15, max_depth=5, n_estimators=100;, score=-9320.709 total time=   1.0s\n",
      "[CV 2/3; 53/64] START learning_rate=0.15, max_depth=5, n_estimators=100.........\n",
      "[CV 2/3; 53/64] END learning_rate=0.15, max_depth=5, n_estimators=100;, score=-9592.962 total time=   1.1s\n",
      "[CV 3/3; 53/64] START learning_rate=0.15, max_depth=5, n_estimators=100.........\n",
      "[CV 3/3; 53/64] END learning_rate=0.15, max_depth=5, n_estimators=100;, score=-9321.739 total time=   1.1s\n",
      "[CV 1/3; 54/64] START learning_rate=0.15, max_depth=5, n_estimators=500.........\n",
      "[CV 1/3; 54/64] END learning_rate=0.15, max_depth=5, n_estimators=500;, score=-9292.805 total time=   3.3s\n",
      "[CV 2/3; 54/64] START learning_rate=0.15, max_depth=5, n_estimators=500.........\n",
      "[CV 2/3; 54/64] END learning_rate=0.15, max_depth=5, n_estimators=500;, score=-9586.094 total time=   3.3s\n",
      "[CV 3/3; 54/64] START learning_rate=0.15, max_depth=5, n_estimators=500.........\n",
      "[CV 3/3; 54/64] END learning_rate=0.15, max_depth=5, n_estimators=500;, score=-9358.173 total time=   3.4s\n",
      "[CV 1/3; 55/64] START learning_rate=0.15, max_depth=5, n_estimators=1000........\n",
      "[CV 1/3; 55/64] END learning_rate=0.15, max_depth=5, n_estimators=1000;, score=-9402.928 total time=   7.5s\n",
      "[CV 2/3; 55/64] START learning_rate=0.15, max_depth=5, n_estimators=1000........\n",
      "[CV 2/3; 55/64] END learning_rate=0.15, max_depth=5, n_estimators=1000;, score=-9693.533 total time=   6.4s\n",
      "[CV 3/3; 55/64] START learning_rate=0.15, max_depth=5, n_estimators=1000........\n",
      "[CV 3/3; 55/64] END learning_rate=0.15, max_depth=5, n_estimators=1000;, score=-9498.484 total time=   6.3s\n",
      "[CV 1/3; 56/64] START learning_rate=0.15, max_depth=5, n_estimators=2000........\n",
      "[CV 1/3; 56/64] END learning_rate=0.15, max_depth=5, n_estimators=2000;, score=-9596.829 total time=  12.2s\n",
      "[CV 2/3; 56/64] START learning_rate=0.15, max_depth=5, n_estimators=2000........\n",
      "[CV 2/3; 56/64] END learning_rate=0.15, max_depth=5, n_estimators=2000;, score=-9888.857 total time=  13.4s\n",
      "[CV 3/3; 56/64] START learning_rate=0.15, max_depth=5, n_estimators=2000........\n",
      "[CV 3/3; 56/64] END learning_rate=0.15, max_depth=5, n_estimators=2000;, score=-9728.841 total time=  12.2s\n",
      "[CV 1/3; 57/64] START learning_rate=0.15, max_depth=8, n_estimators=100.........\n",
      "[CV 1/3; 57/64] END learning_rate=0.15, max_depth=8, n_estimators=100;, score=-9339.896 total time=   1.3s\n",
      "[CV 2/3; 57/64] START learning_rate=0.15, max_depth=8, n_estimators=100.........\n",
      "[CV 2/3; 57/64] END learning_rate=0.15, max_depth=8, n_estimators=100;, score=-9607.841 total time=   1.4s\n",
      "[CV 3/3; 57/64] START learning_rate=0.15, max_depth=8, n_estimators=100.........\n",
      "[CV 3/3; 57/64] END learning_rate=0.15, max_depth=8, n_estimators=100;, score=-9349.230 total time=   1.3s\n",
      "[CV 1/3; 58/64] START learning_rate=0.15, max_depth=8, n_estimators=500.........\n",
      "[CV 1/3; 58/64] END learning_rate=0.15, max_depth=8, n_estimators=500;, score=-9619.286 total time=   4.7s\n",
      "[CV 2/3; 58/64] START learning_rate=0.15, max_depth=8, n_estimators=500.........\n",
      "[CV 2/3; 58/64] END learning_rate=0.15, max_depth=8, n_estimators=500;, score=-9927.826 total time=   6.1s\n",
      "[CV 3/3; 58/64] START learning_rate=0.15, max_depth=8, n_estimators=500.........\n",
      "[CV 3/3; 58/64] END learning_rate=0.15, max_depth=8, n_estimators=500;, score=-9706.394 total time=   4.6s\n",
      "[CV 1/3; 59/64] START learning_rate=0.15, max_depth=8, n_estimators=1000........\n",
      "[CV 1/3; 59/64] END learning_rate=0.15, max_depth=8, n_estimators=1000;, score=-9919.119 total time=   9.1s\n",
      "[CV 2/3; 59/64] START learning_rate=0.15, max_depth=8, n_estimators=1000........\n",
      "[CV 2/3; 59/64] END learning_rate=0.15, max_depth=8, n_estimators=1000;, score=-10199.579 total time=   9.0s\n",
      "[CV 3/3; 59/64] START learning_rate=0.15, max_depth=8, n_estimators=1000........\n",
      "[CV 3/3; 59/64] END learning_rate=0.15, max_depth=8, n_estimators=1000;, score=-10015.174 total time=  10.1s\n",
      "[CV 1/3; 60/64] START learning_rate=0.15, max_depth=8, n_estimators=2000........\n",
      "[CV 1/3; 60/64] END learning_rate=0.15, max_depth=8, n_estimators=2000;, score=-10285.244 total time=  17.9s\n",
      "[CV 2/3; 60/64] START learning_rate=0.15, max_depth=8, n_estimators=2000........\n",
      "[CV 2/3; 60/64] END learning_rate=0.15, max_depth=8, n_estimators=2000;, score=-10525.298 total time=  19.1s\n",
      "[CV 3/3; 60/64] START learning_rate=0.15, max_depth=8, n_estimators=2000........\n",
      "[CV 3/3; 60/64] END learning_rate=0.15, max_depth=8, n_estimators=2000;, score=-10355.989 total time=  17.8s\n",
      "[CV 1/3; 61/64] START learning_rate=0.15, max_depth=10, n_estimators=100........\n",
      "[CV 1/3; 61/64] END learning_rate=0.15, max_depth=10, n_estimators=100;, score=-9475.349 total time=   1.7s\n",
      "[CV 2/3; 61/64] START learning_rate=0.15, max_depth=10, n_estimators=100........\n",
      "[CV 2/3; 61/64] END learning_rate=0.15, max_depth=10, n_estimators=100;, score=-9711.834 total time=   2.9s\n",
      "[CV 3/3; 61/64] START learning_rate=0.15, max_depth=10, n_estimators=100........\n",
      "[CV 3/3; 61/64] END learning_rate=0.15, max_depth=10, n_estimators=100;, score=-9478.674 total time=   1.6s\n",
      "[CV 1/3; 62/64] START learning_rate=0.15, max_depth=10, n_estimators=500........\n",
      "[CV 1/3; 62/64] END learning_rate=0.15, max_depth=10, n_estimators=500;, score=-9941.542 total time=   6.2s\n",
      "[CV 2/3; 62/64] START learning_rate=0.15, max_depth=10, n_estimators=500........\n",
      "[CV 2/3; 62/64] END learning_rate=0.15, max_depth=10, n_estimators=500;, score=-10150.049 total time=   6.0s\n",
      "[CV 3/3; 62/64] START learning_rate=0.15, max_depth=10, n_estimators=500........\n",
      "[CV 3/3; 62/64] END learning_rate=0.15, max_depth=10, n_estimators=500;, score=-9997.417 total time=   6.1s\n",
      "[CV 1/3; 63/64] START learning_rate=0.15, max_depth=10, n_estimators=1000.......\n",
      "[CV 1/3; 63/64] END learning_rate=0.15, max_depth=10, n_estimators=1000;, score=-10240.461 total time=  13.3s\n",
      "[CV 2/3; 63/64] START learning_rate=0.15, max_depth=10, n_estimators=1000.......\n",
      "[CV 2/3; 63/64] END learning_rate=0.15, max_depth=10, n_estimators=1000;, score=-10450.309 total time=  12.1s\n",
      "[CV 3/3; 63/64] START learning_rate=0.15, max_depth=10, n_estimators=1000.......\n",
      "[CV 3/3; 63/64] END learning_rate=0.15, max_depth=10, n_estimators=1000;, score=-10294.975 total time=  11.9s\n",
      "[CV 1/3; 64/64] START learning_rate=0.15, max_depth=10, n_estimators=2000.......\n",
      "[CV 1/3; 64/64] END learning_rate=0.15, max_depth=10, n_estimators=2000;, score=-10448.481 total time=  25.7s\n",
      "[CV 2/3; 64/64] START learning_rate=0.15, max_depth=10, n_estimators=2000.......\n",
      "[CV 2/3; 64/64] END learning_rate=0.15, max_depth=10, n_estimators=2000;, score=-10656.923 total time=  25.6s\n",
      "[CV 3/3; 64/64] START learning_rate=0.15, max_depth=10, n_estimators=2000.......\n",
      "[CV 3/3; 64/64] END learning_rate=0.15, max_depth=10, n_estimators=2000;, score=-10500.069 total time=  25.6s\n",
      "XGBRegressor(base_score=None, booster=None, callbacks=None,\n",
      "             colsample_bylevel=None, colsample_bynode=None,\n",
      "             colsample_bytree=None, device=None, early_stopping_rounds=None,\n",
      "             enable_categorical=False, eval_metric=None, feature_types=None,\n",
      "             gamma=None, grow_policy=None, importance_type=None,\n",
      "             interaction_constraints=None, learning_rate=0.1, max_bin=None,\n",
      "             max_cat_threshold=None, max_cat_to_onehot=None,\n",
      "             max_delta_step=None, max_depth=3, max_leaves=None,\n",
      "             min_child_weight=None, missing=nan, monotone_constraints=None,\n",
      "             multi_strategy=None, n_estimators=1000, n_jobs=None,\n",
      "             num_parallel_tree=None, random_state=None, ...)\n",
      "-9354.312963958679\n",
      "{'learning_rate': 0.1, 'max_depth': 3, 'n_estimators': 1000}\n",
      "CPU times: user 1h 35min 54s, sys: 18.1 s, total: 1h 36min 12s\n",
      "Wall time: 25min 22s\n"
     ]
    }
   ],
   "source": [
    "%%time\n",
    "\n",
    "from sklearn.model_selection import GridSearchCV\n",
    "\n",
    "param_grid={'n_estimators':[100,500,1000,2000],\n",
    "            'max_depth':[3,5,8,10],\n",
    "            'learning_rate':[0.01,0.05,0.1,0.15]}\n",
    "\n",
    "grid_search_cv=GridSearchCV(estimator=XGBRegressor(),\n",
    "                         param_grid=param_grid,\n",
    "                         scoring='neg_root_mean_squared_error',\n",
    "                         cv=3,\n",
    "                         verbose=10)\n",
    "\n",
    "grid_search_cv.fit(X,y)\n",
    "\n",
    "best_model=grid_search_cv.best_estimator_\n",
    "print(grid_search_cv.best_estimator_)\n",
    "print(grid_search_cv.best_score_)\n",
    "print(grid_search_cv.best_params_)"
   ]
  },
  {
   "cell_type": "code",
   "execution_count": 45,
   "id": "69f3509e",
   "metadata": {
    "execution": {
     "iopub.execute_input": "2024-06-21T16:56:19.230788Z",
     "iopub.status.busy": "2024-06-21T16:56:19.230223Z",
     "iopub.status.idle": "2024-06-21T16:56:19.765032Z",
     "shell.execute_reply": "2024-06-21T16:56:19.764129Z"
    },
    "papermill": {
     "duration": 0.56778,
     "end_time": "2024-06-21T16:56:19.767396",
     "exception": false,
     "start_time": "2024-06-21T16:56:19.199616",
     "status": "completed"
    },
    "tags": []
   },
   "outputs": [],
   "source": [
    "train_prediction=best_model.predict(X)"
   ]
  },
  {
   "cell_type": "code",
   "execution_count": 46,
   "id": "9699ac12",
   "metadata": {
    "execution": {
     "iopub.execute_input": "2024-06-21T16:56:19.830605Z",
     "iopub.status.busy": "2024-06-21T16:56:19.830224Z",
     "iopub.status.idle": "2024-06-21T16:56:19.839588Z",
     "shell.execute_reply": "2024-06-21T16:56:19.838431Z"
    },
    "papermill": {
     "duration": 0.044223,
     "end_time": "2024-06-21T16:56:19.841747",
     "exception": false,
     "start_time": "2024-06-21T16:56:19.797524",
     "status": "completed"
    },
    "tags": []
   },
   "outputs": [
    {
     "name": "stdout",
     "output_type": "stream",
     "text": [
      "{'R2_train': 0.4673693475383335, 'MAE_train': 6652.780736584668, 'RMSE_train': 8965.993303190306}\n"
     ]
    }
   ],
   "source": [
    "from sklearn import metrics\n",
    "\n",
    "r2_train=metrics.r2_score(train_prediction,y)\n",
    "mae_train=metrics.mean_absolute_error(train_prediction,y)\n",
    "rmse_train=metrics.mean_squared_error(train_prediction,y,squared=False)\n",
    "train_scores={'R2_train':r2_train,'MAE_train':mae_train,'RMSE_train':rmse_train}\n",
    "print(train_scores)"
   ]
  },
  {
   "cell_type": "markdown",
   "id": "caa8a77f",
   "metadata": {
    "papermill": {
     "duration": 0.02955,
     "end_time": "2024-06-21T16:56:19.901304",
     "exception": false,
     "start_time": "2024-06-21T16:56:19.871754",
     "status": "completed"
    },
    "tags": []
   },
   "source": [
    "# Validation with test data"
   ]
  },
  {
   "cell_type": "code",
   "execution_count": 47,
   "id": "59d6e091",
   "metadata": {
    "execution": {
     "iopub.execute_input": "2024-06-21T16:56:19.962541Z",
     "iopub.status.busy": "2024-06-21T16:56:19.962168Z",
     "iopub.status.idle": "2024-06-21T16:56:20.378248Z",
     "shell.execute_reply": "2024-06-21T16:56:20.377190Z"
    },
    "papermill": {
     "duration": 0.448986,
     "end_time": "2024-06-21T16:56:20.380611",
     "exception": false,
     "start_time": "2024-06-21T16:56:19.931625",
     "status": "completed"
    },
    "tags": []
   },
   "outputs": [
    {
     "data": {
      "text/plain": [
       "array([19371.71 , 23231.467, 36089.152, ..., 12225.616, 46245.383,\n",
       "       12903.699], dtype=float32)"
      ]
     },
     "execution_count": 47,
     "metadata": {},
     "output_type": "execute_result"
    }
   ],
   "source": [
    "#make predictions test\n",
    "test_prediction=best_model.predict(X_test)\n",
    "test_prediction"
   ]
  },
  {
   "cell_type": "code",
   "execution_count": 48,
   "id": "644508ce",
   "metadata": {
    "execution": {
     "iopub.execute_input": "2024-06-21T16:56:20.442053Z",
     "iopub.status.busy": "2024-06-21T16:56:20.441665Z",
     "iopub.status.idle": "2024-06-21T16:56:20.473118Z",
     "shell.execute_reply": "2024-06-21T16:56:20.472051Z"
    },
    "papermill": {
     "duration": 0.064725,
     "end_time": "2024-06-21T16:56:20.475832",
     "exception": false,
     "start_time": "2024-06-21T16:56:20.411107",
     "status": "completed"
    },
    "tags": []
   },
   "outputs": [
    {
     "data": {
      "text/html": [
       "<div>\n",
       "<style scoped>\n",
       "    .dataframe tbody tr th:only-of-type {\n",
       "        vertical-align: middle;\n",
       "    }\n",
       "\n",
       "    .dataframe tbody tr th {\n",
       "        vertical-align: top;\n",
       "    }\n",
       "\n",
       "    .dataframe thead th {\n",
       "        text-align: right;\n",
       "    }\n",
       "</style>\n",
       "<table border=\"1\" class=\"dataframe\">\n",
       "  <thead>\n",
       "    <tr style=\"text-align: right;\">\n",
       "      <th></th>\n",
       "      <th>model_year</th>\n",
       "      <th>milage</th>\n",
       "      <th>brand_Acura</th>\n",
       "      <th>brand_Audi</th>\n",
       "      <th>brand_BMW</th>\n",
       "      <th>brand_Cadillac</th>\n",
       "      <th>brand_Chevrolet</th>\n",
       "      <th>brand_Dodge</th>\n",
       "      <th>brand_Ford</th>\n",
       "      <th>brand_GMC</th>\n",
       "      <th>...</th>\n",
       "      <th>ext_col_Silver</th>\n",
       "      <th>ext_col_White</th>\n",
       "      <th>int_col_Beige</th>\n",
       "      <th>int_col_Black</th>\n",
       "      <th>int_col_Brown</th>\n",
       "      <th>int_col_Gray</th>\n",
       "      <th>int_col_Other</th>\n",
       "      <th>int_col_Red</th>\n",
       "      <th>accident_At least 1 accident or damage reported</th>\n",
       "      <th>accident_None reported</th>\n",
       "    </tr>\n",
       "    <tr>\n",
       "      <th>id</th>\n",
       "      <th></th>\n",
       "      <th></th>\n",
       "      <th></th>\n",
       "      <th></th>\n",
       "      <th></th>\n",
       "      <th></th>\n",
       "      <th></th>\n",
       "      <th></th>\n",
       "      <th></th>\n",
       "      <th></th>\n",
       "      <th></th>\n",
       "      <th></th>\n",
       "      <th></th>\n",
       "      <th></th>\n",
       "      <th></th>\n",
       "      <th></th>\n",
       "      <th></th>\n",
       "      <th></th>\n",
       "      <th></th>\n",
       "      <th></th>\n",
       "      <th></th>\n",
       "    </tr>\n",
       "  </thead>\n",
       "  <tbody>\n",
       "    <tr>\n",
       "      <th>54273</th>\n",
       "      <td>2014</td>\n",
       "      <td>73000</td>\n",
       "      <td>False</td>\n",
       "      <td>False</td>\n",
       "      <td>False</td>\n",
       "      <td>False</td>\n",
       "      <td>False</td>\n",
       "      <td>False</td>\n",
       "      <td>False</td>\n",
       "      <td>False</td>\n",
       "      <td>...</td>\n",
       "      <td>False</td>\n",
       "      <td>True</td>\n",
       "      <td>True</td>\n",
       "      <td>False</td>\n",
       "      <td>False</td>\n",
       "      <td>False</td>\n",
       "      <td>False</td>\n",
       "      <td>False</td>\n",
       "      <td>False</td>\n",
       "      <td>True</td>\n",
       "    </tr>\n",
       "    <tr>\n",
       "      <th>54274</th>\n",
       "      <td>2015</td>\n",
       "      <td>128032</td>\n",
       "      <td>False</td>\n",
       "      <td>False</td>\n",
       "      <td>False</td>\n",
       "      <td>False</td>\n",
       "      <td>False</td>\n",
       "      <td>False</td>\n",
       "      <td>False</td>\n",
       "      <td>False</td>\n",
       "      <td>...</td>\n",
       "      <td>True</td>\n",
       "      <td>False</td>\n",
       "      <td>False</td>\n",
       "      <td>True</td>\n",
       "      <td>False</td>\n",
       "      <td>False</td>\n",
       "      <td>False</td>\n",
       "      <td>False</td>\n",
       "      <td>False</td>\n",
       "      <td>True</td>\n",
       "    </tr>\n",
       "    <tr>\n",
       "      <th>54275</th>\n",
       "      <td>2015</td>\n",
       "      <td>51983</td>\n",
       "      <td>False</td>\n",
       "      <td>False</td>\n",
       "      <td>False</td>\n",
       "      <td>False</td>\n",
       "      <td>False</td>\n",
       "      <td>False</td>\n",
       "      <td>False</td>\n",
       "      <td>False</td>\n",
       "      <td>...</td>\n",
       "      <td>False</td>\n",
       "      <td>False</td>\n",
       "      <td>False</td>\n",
       "      <td>False</td>\n",
       "      <td>False</td>\n",
       "      <td>False</td>\n",
       "      <td>True</td>\n",
       "      <td>False</td>\n",
       "      <td>False</td>\n",
       "      <td>True</td>\n",
       "    </tr>\n",
       "    <tr>\n",
       "      <th>54276</th>\n",
       "      <td>2018</td>\n",
       "      <td>29500</td>\n",
       "      <td>False</td>\n",
       "      <td>False</td>\n",
       "      <td>False</td>\n",
       "      <td>False</td>\n",
       "      <td>False</td>\n",
       "      <td>False</td>\n",
       "      <td>False</td>\n",
       "      <td>False</td>\n",
       "      <td>...</td>\n",
       "      <td>False</td>\n",
       "      <td>True</td>\n",
       "      <td>False</td>\n",
       "      <td>False</td>\n",
       "      <td>False</td>\n",
       "      <td>False</td>\n",
       "      <td>True</td>\n",
       "      <td>False</td>\n",
       "      <td>True</td>\n",
       "      <td>False</td>\n",
       "    </tr>\n",
       "    <tr>\n",
       "      <th>54277</th>\n",
       "      <td>2020</td>\n",
       "      <td>90000</td>\n",
       "      <td>False</td>\n",
       "      <td>False</td>\n",
       "      <td>True</td>\n",
       "      <td>False</td>\n",
       "      <td>False</td>\n",
       "      <td>False</td>\n",
       "      <td>False</td>\n",
       "      <td>False</td>\n",
       "      <td>...</td>\n",
       "      <td>False</td>\n",
       "      <td>True</td>\n",
       "      <td>False</td>\n",
       "      <td>True</td>\n",
       "      <td>False</td>\n",
       "      <td>False</td>\n",
       "      <td>False</td>\n",
       "      <td>False</td>\n",
       "      <td>True</td>\n",
       "      <td>False</td>\n",
       "    </tr>\n",
       "    <tr>\n",
       "      <th>...</th>\n",
       "      <td>...</td>\n",
       "      <td>...</td>\n",
       "      <td>...</td>\n",
       "      <td>...</td>\n",
       "      <td>...</td>\n",
       "      <td>...</td>\n",
       "      <td>...</td>\n",
       "      <td>...</td>\n",
       "      <td>...</td>\n",
       "      <td>...</td>\n",
       "      <td>...</td>\n",
       "      <td>...</td>\n",
       "      <td>...</td>\n",
       "      <td>...</td>\n",
       "      <td>...</td>\n",
       "      <td>...</td>\n",
       "      <td>...</td>\n",
       "      <td>...</td>\n",
       "      <td>...</td>\n",
       "      <td>...</td>\n",
       "      <td>...</td>\n",
       "    </tr>\n",
       "    <tr>\n",
       "      <th>90451</th>\n",
       "      <td>2019</td>\n",
       "      <td>4500</td>\n",
       "      <td>False</td>\n",
       "      <td>False</td>\n",
       "      <td>False</td>\n",
       "      <td>False</td>\n",
       "      <td>False</td>\n",
       "      <td>False</td>\n",
       "      <td>False</td>\n",
       "      <td>True</td>\n",
       "      <td>...</td>\n",
       "      <td>False</td>\n",
       "      <td>False</td>\n",
       "      <td>False</td>\n",
       "      <td>True</td>\n",
       "      <td>False</td>\n",
       "      <td>False</td>\n",
       "      <td>False</td>\n",
       "      <td>False</td>\n",
       "      <td>False</td>\n",
       "      <td>True</td>\n",
       "    </tr>\n",
       "    <tr>\n",
       "      <th>90452</th>\n",
       "      <td>2004</td>\n",
       "      <td>185000</td>\n",
       "      <td>False</td>\n",
       "      <td>False</td>\n",
       "      <td>False</td>\n",
       "      <td>False</td>\n",
       "      <td>True</td>\n",
       "      <td>False</td>\n",
       "      <td>False</td>\n",
       "      <td>False</td>\n",
       "      <td>...</td>\n",
       "      <td>False</td>\n",
       "      <td>False</td>\n",
       "      <td>False</td>\n",
       "      <td>False</td>\n",
       "      <td>False</td>\n",
       "      <td>True</td>\n",
       "      <td>False</td>\n",
       "      <td>False</td>\n",
       "      <td>True</td>\n",
       "      <td>False</td>\n",
       "    </tr>\n",
       "    <tr>\n",
       "      <th>90453</th>\n",
       "      <td>2011</td>\n",
       "      <td>116000</td>\n",
       "      <td>False</td>\n",
       "      <td>False</td>\n",
       "      <td>False</td>\n",
       "      <td>False</td>\n",
       "      <td>False</td>\n",
       "      <td>False</td>\n",
       "      <td>False</td>\n",
       "      <td>False</td>\n",
       "      <td>...</td>\n",
       "      <td>False</td>\n",
       "      <td>False</td>\n",
       "      <td>False</td>\n",
       "      <td>False</td>\n",
       "      <td>False</td>\n",
       "      <td>True</td>\n",
       "      <td>False</td>\n",
       "      <td>False</td>\n",
       "      <td>False</td>\n",
       "      <td>True</td>\n",
       "    </tr>\n",
       "    <tr>\n",
       "      <th>90454</th>\n",
       "      <td>2019</td>\n",
       "      <td>39000</td>\n",
       "      <td>False</td>\n",
       "      <td>False</td>\n",
       "      <td>False</td>\n",
       "      <td>False</td>\n",
       "      <td>False</td>\n",
       "      <td>False</td>\n",
       "      <td>False</td>\n",
       "      <td>False</td>\n",
       "      <td>...</td>\n",
       "      <td>False</td>\n",
       "      <td>False</td>\n",
       "      <td>False</td>\n",
       "      <td>False</td>\n",
       "      <td>False</td>\n",
       "      <td>False</td>\n",
       "      <td>True</td>\n",
       "      <td>False</td>\n",
       "      <td>False</td>\n",
       "      <td>True</td>\n",
       "    </tr>\n",
       "    <tr>\n",
       "      <th>90455</th>\n",
       "      <td>2012</td>\n",
       "      <td>162731</td>\n",
       "      <td>False</td>\n",
       "      <td>False</td>\n",
       "      <td>False</td>\n",
       "      <td>False</td>\n",
       "      <td>True</td>\n",
       "      <td>False</td>\n",
       "      <td>False</td>\n",
       "      <td>False</td>\n",
       "      <td>...</td>\n",
       "      <td>False</td>\n",
       "      <td>False</td>\n",
       "      <td>False</td>\n",
       "      <td>True</td>\n",
       "      <td>False</td>\n",
       "      <td>False</td>\n",
       "      <td>False</td>\n",
       "      <td>False</td>\n",
       "      <td>True</td>\n",
       "      <td>False</td>\n",
       "    </tr>\n",
       "  </tbody>\n",
       "</table>\n",
       "<p>36179 rows × 93 columns</p>\n",
       "</div>"
      ],
      "text/plain": [
       "       model_year  milage  brand_Acura  brand_Audi  brand_BMW  brand_Cadillac  \\\n",
       "id                                                                              \n",
       "54273        2014   73000        False       False      False           False   \n",
       "54274        2015  128032        False       False      False           False   \n",
       "54275        2015   51983        False       False      False           False   \n",
       "54276        2018   29500        False       False      False           False   \n",
       "54277        2020   90000        False       False       True           False   \n",
       "...           ...     ...          ...         ...        ...             ...   \n",
       "90451        2019    4500        False       False      False           False   \n",
       "90452        2004  185000        False       False      False           False   \n",
       "90453        2011  116000        False       False      False           False   \n",
       "90454        2019   39000        False       False      False           False   \n",
       "90455        2012  162731        False       False      False           False   \n",
       "\n",
       "       brand_Chevrolet  brand_Dodge  brand_Ford  brand_GMC  ...  \\\n",
       "id                                                          ...   \n",
       "54273            False        False       False      False  ...   \n",
       "54274            False        False       False      False  ...   \n",
       "54275            False        False       False      False  ...   \n",
       "54276            False        False       False      False  ...   \n",
       "54277            False        False       False      False  ...   \n",
       "...                ...          ...         ...        ...  ...   \n",
       "90451            False        False       False       True  ...   \n",
       "90452             True        False       False      False  ...   \n",
       "90453            False        False       False      False  ...   \n",
       "90454            False        False       False      False  ...   \n",
       "90455             True        False       False      False  ...   \n",
       "\n",
       "       ext_col_Silver  ext_col_White  int_col_Beige  int_col_Black  \\\n",
       "id                                                                   \n",
       "54273           False           True           True          False   \n",
       "54274            True          False          False           True   \n",
       "54275           False          False          False          False   \n",
       "54276           False           True          False          False   \n",
       "54277           False           True          False           True   \n",
       "...               ...            ...            ...            ...   \n",
       "90451           False          False          False           True   \n",
       "90452           False          False          False          False   \n",
       "90453           False          False          False          False   \n",
       "90454           False          False          False          False   \n",
       "90455           False          False          False           True   \n",
       "\n",
       "       int_col_Brown  int_col_Gray  int_col_Other  int_col_Red  \\\n",
       "id                                                               \n",
       "54273          False         False          False        False   \n",
       "54274          False         False          False        False   \n",
       "54275          False         False           True        False   \n",
       "54276          False         False           True        False   \n",
       "54277          False         False          False        False   \n",
       "...              ...           ...            ...          ...   \n",
       "90451          False         False          False        False   \n",
       "90452          False          True          False        False   \n",
       "90453          False          True          False        False   \n",
       "90454          False         False           True        False   \n",
       "90455          False         False          False        False   \n",
       "\n",
       "       accident_At least 1 accident or damage reported  accident_None reported  \n",
       "id                                                                              \n",
       "54273                                            False                    True  \n",
       "54274                                            False                    True  \n",
       "54275                                            False                    True  \n",
       "54276                                             True                   False  \n",
       "54277                                             True                   False  \n",
       "...                                                ...                     ...  \n",
       "90451                                            False                    True  \n",
       "90452                                             True                   False  \n",
       "90453                                            False                    True  \n",
       "90454                                            False                    True  \n",
       "90455                                             True                   False  \n",
       "\n",
       "[36179 rows x 93 columns]"
      ]
     },
     "execution_count": 48,
     "metadata": {},
     "output_type": "execute_result"
    }
   ],
   "source": [
    "X_test"
   ]
  },
  {
   "cell_type": "code",
   "execution_count": 49,
   "id": "6a88960c",
   "metadata": {
    "execution": {
     "iopub.execute_input": "2024-06-21T16:56:20.538199Z",
     "iopub.status.busy": "2024-06-21T16:56:20.537845Z",
     "iopub.status.idle": "2024-06-21T16:56:20.543799Z",
     "shell.execute_reply": "2024-06-21T16:56:20.542704Z"
    },
    "papermill": {
     "duration": 0.039312,
     "end_time": "2024-06-21T16:56:20.545998",
     "exception": false,
     "start_time": "2024-06-21T16:56:20.506686",
     "status": "completed"
    },
    "tags": []
   },
   "outputs": [],
   "source": [
    "# Replace 'Id' with the actual ID column name in X_test\n",
    "\n",
    "# Create a DataFrame with your predictions\n",
    "# Assuming your test set has an index or an ID column, include that as well\n",
    "results = pd.DataFrame({\n",
    "    'id': X_test.index,  # Replace 'Id' with the actual ID column if available\n",
    "    'Predicted_Price': test_prediction\n",
    "})\n",
    "\n"
   ]
  },
  {
   "cell_type": "code",
   "execution_count": 50,
   "id": "74bef71c",
   "metadata": {
    "execution": {
     "iopub.execute_input": "2024-06-21T16:56:20.609072Z",
     "iopub.status.busy": "2024-06-21T16:56:20.608073Z",
     "iopub.status.idle": "2024-06-21T16:56:20.619420Z",
     "shell.execute_reply": "2024-06-21T16:56:20.618423Z"
    },
    "papermill": {
     "duration": 0.045183,
     "end_time": "2024-06-21T16:56:20.621589",
     "exception": false,
     "start_time": "2024-06-21T16:56:20.576406",
     "status": "completed"
    },
    "tags": []
   },
   "outputs": [
    {
     "data": {
      "text/html": [
       "<div>\n",
       "<style scoped>\n",
       "    .dataframe tbody tr th:only-of-type {\n",
       "        vertical-align: middle;\n",
       "    }\n",
       "\n",
       "    .dataframe tbody tr th {\n",
       "        vertical-align: top;\n",
       "    }\n",
       "\n",
       "    .dataframe thead th {\n",
       "        text-align: right;\n",
       "    }\n",
       "</style>\n",
       "<table border=\"1\" class=\"dataframe\">\n",
       "  <thead>\n",
       "    <tr style=\"text-align: right;\">\n",
       "      <th></th>\n",
       "      <th>Predicted_Price</th>\n",
       "    </tr>\n",
       "    <tr>\n",
       "      <th>id</th>\n",
       "      <th></th>\n",
       "    </tr>\n",
       "  </thead>\n",
       "  <tbody>\n",
       "    <tr>\n",
       "      <th>54273</th>\n",
       "      <td>19371.710938</td>\n",
       "    </tr>\n",
       "    <tr>\n",
       "      <th>54274</th>\n",
       "      <td>23231.466797</td>\n",
       "    </tr>\n",
       "    <tr>\n",
       "      <th>54275</th>\n",
       "      <td>36089.152344</td>\n",
       "    </tr>\n",
       "    <tr>\n",
       "      <th>54276</th>\n",
       "      <td>39600.828125</td>\n",
       "    </tr>\n",
       "    <tr>\n",
       "      <th>54277</th>\n",
       "      <td>33072.347656</td>\n",
       "    </tr>\n",
       "    <tr>\n",
       "      <th>...</th>\n",
       "      <td>...</td>\n",
       "    </tr>\n",
       "    <tr>\n",
       "      <th>90451</th>\n",
       "      <td>44364.726562</td>\n",
       "    </tr>\n",
       "    <tr>\n",
       "      <th>90452</th>\n",
       "      <td>8703.565430</td>\n",
       "    </tr>\n",
       "    <tr>\n",
       "      <th>90453</th>\n",
       "      <td>12225.616211</td>\n",
       "    </tr>\n",
       "    <tr>\n",
       "      <th>90454</th>\n",
       "      <td>46245.382812</td>\n",
       "    </tr>\n",
       "    <tr>\n",
       "      <th>90455</th>\n",
       "      <td>12903.699219</td>\n",
       "    </tr>\n",
       "  </tbody>\n",
       "</table>\n",
       "<p>36179 rows × 1 columns</p>\n",
       "</div>"
      ],
      "text/plain": [
       "       Predicted_Price\n",
       "id                    \n",
       "54273     19371.710938\n",
       "54274     23231.466797\n",
       "54275     36089.152344\n",
       "54276     39600.828125\n",
       "54277     33072.347656\n",
       "...                ...\n",
       "90451     44364.726562\n",
       "90452      8703.565430\n",
       "90453     12225.616211\n",
       "90454     46245.382812\n",
       "90455     12903.699219\n",
       "\n",
       "[36179 rows x 1 columns]"
      ]
     },
     "execution_count": 50,
     "metadata": {},
     "output_type": "execute_result"
    }
   ],
   "source": [
    "# Set 'Id' column as index\n",
    "results.set_index('id', inplace=True)\n",
    "results"
   ]
  },
  {
   "cell_type": "code",
   "execution_count": 51,
   "id": "4bc7364a",
   "metadata": {
    "execution": {
     "iopub.execute_input": "2024-06-21T16:56:20.684063Z",
     "iopub.status.busy": "2024-06-21T16:56:20.683627Z",
     "iopub.status.idle": "2024-06-21T16:56:20.745003Z",
     "shell.execute_reply": "2024-06-21T16:56:20.743829Z"
    },
    "papermill": {
     "duration": 0.095297,
     "end_time": "2024-06-21T16:56:20.747468",
     "exception": false,
     "start_time": "2024-06-21T16:56:20.652171",
     "status": "completed"
    },
    "tags": []
   },
   "outputs": [],
   "source": [
    "# Save to CSV without the default index\n",
    "results.to_csv('test_predictions.csv')"
   ]
  }
 ],
 "metadata": {
  "kaggle": {
   "accelerator": "none",
   "dataSources": [
    {
     "datasetId": 5130497,
     "sourceId": 8579062,
     "sourceType": "datasetVersion"
    }
   ],
   "dockerImageVersionId": 30715,
   "isGpuEnabled": false,
   "isInternetEnabled": true,
   "language": "python",
   "sourceType": "notebook"
  },
  "kernelspec": {
   "display_name": "Python 3",
   "language": "python",
   "name": "python3"
  },
  "language_info": {
   "codemirror_mode": {
    "name": "ipython",
    "version": 3
   },
   "file_extension": ".py",
   "mimetype": "text/x-python",
   "name": "python",
   "nbconvert_exporter": "python",
   "pygments_lexer": "ipython3",
   "version": "3.10.13"
  },
  "papermill": {
   "default_parameters": {},
   "duration": 1547.673099,
   "end_time": "2024-06-21T16:56:21.402225",
   "environment_variables": {},
   "exception": null,
   "input_path": "__notebook__.ipynb",
   "output_path": "__notebook__.ipynb",
   "parameters": {},
   "start_time": "2024-06-21T16:30:33.729126",
   "version": "2.5.0"
  }
 },
 "nbformat": 4,
 "nbformat_minor": 5
}
