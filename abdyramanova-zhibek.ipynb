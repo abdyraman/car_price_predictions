{
 "cells": [
  {
   "cell_type": "code",
   "execution_count": 1,
   "id": "88a59ab4",
   "metadata": {
    "_cell_guid": "b1076dfc-b9ad-4769-8c92-a6c4dae69d19",
    "_uuid": "8f2839f25d086af736a60e9eeb907d3b93b6e0e5",
    "execution": {
     "iopub.execute_input": "2024-06-13T21:15:55.625496Z",
     "iopub.status.busy": "2024-06-13T21:15:55.625079Z",
     "iopub.status.idle": "2024-06-13T21:15:58.160464Z",
     "shell.execute_reply": "2024-06-13T21:15:58.158966Z"
    },
    "papermill": {
     "duration": 2.555207,
     "end_time": "2024-06-13T21:15:58.163064",
     "exception": false,
     "start_time": "2024-06-13T21:15:55.607857",
     "status": "completed"
    },
    "tags": []
   },
   "outputs": [
    {
     "name": "stdout",
     "output_type": "stream",
     "text": [
      "/kaggle/input/kagglexfellowship/kagglex-cohort4/sample_submission.csv\n",
      "/kaggle/input/kagglexfellowship/kagglex-cohort4/train.csv\n",
      "/kaggle/input/kagglexfellowship/kagglex-cohort4/test.csv\n"
     ]
    }
   ],
   "source": [
    "# This Python 3 environment comes with many helpful analytics libraries installed\n",
    "# It is defined by the kaggle/python Docker image: https://github.com/kaggle/docker-python\n",
    "# For example, here's several helpful packages to load\n",
    "\n",
    "import numpy as np # linear algebra\n",
    "import pandas as pd # data processing, CSV file I/O (e.g. pd.read_csv)\n",
    "import seaborn as sns\n",
    "import matplotlib.pyplot as plt\n",
    "\n",
    "# Input data files are available in the read-only \"../input/\" directory\n",
    "# For example, running this (by clicking run or pressing Shift+Enter) will list all files under the input directory\n",
    "\n",
    "import os\n",
    "for dirname, _, filenames in os.walk('/kaggle/input'):\n",
    "    for filename in filenames:\n",
    "        print(os.path.join(dirname, filename))\n",
    "\n",
    "# You can write up to 20GB to the current directory (/kaggle/working/) that gets preserved as output when you create a version using \"Save & Run All\" \n",
    "# You can also write temporary files to /kaggle/temp/, but they won't be saved outside of the current session"
   ]
  },
  {
   "cell_type": "code",
   "execution_count": 2,
   "id": "82075e2e",
   "metadata": {
    "execution": {
     "iopub.execute_input": "2024-06-13T21:15:58.195267Z",
     "iopub.status.busy": "2024-06-13T21:15:58.194753Z",
     "iopub.status.idle": "2024-06-13T21:15:58.721788Z",
     "shell.execute_reply": "2024-06-13T21:15:58.720632Z"
    },
    "papermill": {
     "duration": 0.546308,
     "end_time": "2024-06-13T21:15:58.724526",
     "exception": false,
     "start_time": "2024-06-13T21:15:58.178218",
     "status": "completed"
    },
    "tags": []
   },
   "outputs": [],
   "source": [
    "#  Import and read the data and assign ID column as labels\n",
    "train = pd.read_csv('/kaggle/input/kagglexfellowship/kagglex-cohort4/train.csv')\n",
    "test=pd.read_csv('/kaggle/input/kagglexfellowship/kagglex-cohort4/test.csv')\n",
    "subm=pd.read_csv('/kaggle/input/kagglexfellowship/kagglex-cohort4/sample_submission.csv')\n"
   ]
  },
  {
   "cell_type": "code",
   "execution_count": 3,
   "id": "9e5557dc",
   "metadata": {
    "execution": {
     "iopub.execute_input": "2024-06-13T21:15:58.757318Z",
     "iopub.status.busy": "2024-06-13T21:15:58.756370Z",
     "iopub.status.idle": "2024-06-13T21:15:58.772618Z",
     "shell.execute_reply": "2024-06-13T21:15:58.771420Z"
    },
    "papermill": {
     "duration": 0.03532,
     "end_time": "2024-06-13T21:15:58.775102",
     "exception": false,
     "start_time": "2024-06-13T21:15:58.739782",
     "status": "completed"
    },
    "tags": []
   },
   "outputs": [],
   "source": [
    "#Drop the non-beneficial ID columns\n",
    "def set_index (df):\n",
    "    df.set_index('id', inplace=True)\n",
    "    return df\n",
    "\n",
    "train_df=set_index(train)\n",
    "test_df=set_index(test)\n",
    "submission_df=set_index(subm)\n"
   ]
  },
  {
   "cell_type": "markdown",
   "id": "f96cab84",
   "metadata": {
    "papermill": {
     "duration": 0.014762,
     "end_time": "2024-06-13T21:15:58.805323",
     "exception": false,
     "start_time": "2024-06-13T21:15:58.790561",
     "status": "completed"
    },
    "tags": []
   },
   "source": [
    "# Data Exploration"
   ]
  },
  {
   "cell_type": "code",
   "execution_count": 4,
   "id": "c04a7945",
   "metadata": {
    "execution": {
     "iopub.execute_input": "2024-06-13T21:15:58.838434Z",
     "iopub.status.busy": "2024-06-13T21:15:58.838035Z",
     "iopub.status.idle": "2024-06-13T21:15:58.904395Z",
     "shell.execute_reply": "2024-06-13T21:15:58.903323Z"
    },
    "papermill": {
     "duration": 0.086163,
     "end_time": "2024-06-13T21:15:58.906848",
     "exception": false,
     "start_time": "2024-06-13T21:15:58.820685",
     "status": "completed"
    },
    "tags": []
   },
   "outputs": [
    {
     "data": {
      "text/plain": [
       "brand             53\n",
       "model           1827\n",
       "model_year        34\n",
       "milage          3212\n",
       "fuel_type          7\n",
       "engine          1061\n",
       "transmission      46\n",
       "ext_col          260\n",
       "int_col          124\n",
       "accident           2\n",
       "clean_title        1\n",
       "price           1481\n",
       "dtype: int64"
      ]
     },
     "execution_count": 4,
     "metadata": {},
     "output_type": "execute_result"
    }
   ],
   "source": [
    "#Determine the number of unique values in each column.\n",
    "unique_counts = train_df.nunique()\n",
    "unique_counts"
   ]
  },
  {
   "cell_type": "code",
   "execution_count": 5,
   "id": "678f4c0d",
   "metadata": {
    "execution": {
     "iopub.execute_input": "2024-06-13T21:15:58.939523Z",
     "iopub.status.busy": "2024-06-13T21:15:58.938783Z",
     "iopub.status.idle": "2024-06-13T21:15:58.947169Z",
     "shell.execute_reply": "2024-06-13T21:15:58.945979Z"
    },
    "papermill": {
     "duration": 0.027821,
     "end_time": "2024-06-13T21:15:58.949953",
     "exception": false,
     "start_time": "2024-06-13T21:15:58.922132",
     "status": "completed"
    },
    "tags": []
   },
   "outputs": [
    {
     "data": {
      "text/plain": [
       "brand           object\n",
       "model           object\n",
       "model_year       int64\n",
       "milage           int64\n",
       "fuel_type       object\n",
       "engine          object\n",
       "transmission    object\n",
       "ext_col         object\n",
       "int_col         object\n",
       "accident        object\n",
       "clean_title     object\n",
       "price            int64\n",
       "dtype: object"
      ]
     },
     "execution_count": 5,
     "metadata": {},
     "output_type": "execute_result"
    }
   ],
   "source": [
    "# Checking the datatypes\n",
    "train_df.dtypes"
   ]
  },
  {
   "cell_type": "code",
   "execution_count": 6,
   "id": "926ada6c",
   "metadata": {
    "execution": {
     "iopub.execute_input": "2024-06-13T21:15:58.982959Z",
     "iopub.status.busy": "2024-06-13T21:15:58.982469Z",
     "iopub.status.idle": "2024-06-13T21:15:58.990263Z",
     "shell.execute_reply": "2024-06-13T21:15:58.989050Z"
    },
    "papermill": {
     "duration": 0.027318,
     "end_time": "2024-06-13T21:15:58.992943",
     "exception": false,
     "start_time": "2024-06-13T21:15:58.965625",
     "status": "completed"
    },
    "tags": []
   },
   "outputs": [
    {
     "data": {
      "text/plain": [
       "(54273, 12)"
      ]
     },
     "execution_count": 6,
     "metadata": {},
     "output_type": "execute_result"
    }
   ],
   "source": [
    "train_df.shape"
   ]
  },
  {
   "cell_type": "code",
   "execution_count": 7,
   "id": "99d6ab7b",
   "metadata": {
    "execution": {
     "iopub.execute_input": "2024-06-13T21:15:59.027053Z",
     "iopub.status.busy": "2024-06-13T21:15:59.026663Z",
     "iopub.status.idle": "2024-06-13T21:15:59.089767Z",
     "shell.execute_reply": "2024-06-13T21:15:59.088639Z"
    },
    "papermill": {
     "duration": 0.083054,
     "end_time": "2024-06-13T21:15:59.092125",
     "exception": false,
     "start_time": "2024-06-13T21:15:59.009071",
     "status": "completed"
    },
    "tags": []
   },
   "outputs": [
    {
     "data": {
      "text/plain": [
       "brand           0\n",
       "model           0\n",
       "model_year      0\n",
       "milage          0\n",
       "fuel_type       0\n",
       "engine          0\n",
       "transmission    0\n",
       "ext_col         0\n",
       "int_col         0\n",
       "accident        0\n",
       "clean_title     0\n",
       "price           0\n",
       "dtype: int64"
      ]
     },
     "execution_count": 7,
     "metadata": {},
     "output_type": "execute_result"
    }
   ],
   "source": [
    "#Lets look for the total number of NaN values for each feature\n",
    "train_df.isnull().sum()"
   ]
  },
  {
   "cell_type": "code",
   "execution_count": 8,
   "id": "ef86ac61",
   "metadata": {
    "execution": {
     "iopub.execute_input": "2024-06-13T21:15:59.125501Z",
     "iopub.status.busy": "2024-06-13T21:15:59.125073Z",
     "iopub.status.idle": "2024-06-13T21:15:59.590627Z",
     "shell.execute_reply": "2024-06-13T21:15:59.589288Z"
    },
    "papermill": {
     "duration": 0.485384,
     "end_time": "2024-06-13T21:15:59.593268",
     "exception": false,
     "start_time": "2024-06-13T21:15:59.107884",
     "status": "completed"
    },
    "tags": []
   },
   "outputs": [
    {
     "name": "stderr",
     "output_type": "stream",
     "text": [
      "/opt/conda/lib/python3.10/site-packages/seaborn/_oldcore.py:1119: FutureWarning: use_inf_as_na option is deprecated and will be removed in a future version. Convert inf values to NaN before operating instead.\n",
      "  with pd.option_context('mode.use_inf_as_na', True):\n",
      "/opt/conda/lib/python3.10/site-packages/seaborn/_oldcore.py:1119: FutureWarning: use_inf_as_na option is deprecated and will be removed in a future version. Convert inf values to NaN before operating instead.\n",
      "  with pd.option_context('mode.use_inf_as_na', True):\n",
      "/opt/conda/lib/python3.10/site-packages/seaborn/_oldcore.py:1075: FutureWarning: When grouping with a length-1 list-like, you will need to pass a length-1 tuple to get_group in a future version of pandas. Pass `(name,)` instead of `name` to silence this warning.\n",
      "  data_subset = grouped_data.get_group(pd_key)\n"
     ]
    },
    {
     "data": {
      "image/png": "[encoded data removed]",
      "text/plain": [
       "<Figure size 800x600 with 1 Axes>"
      ]
     },
     "metadata": {},
     "output_type": "display_data"
    }
   ],
   "source": [
    "# Create a strip plot for the 'price' variable\n",
    "plt.figure(figsize=(8, 6))\n",
    "sns.stripplot(data=train_df, y='price', jitter=True, color='purple', alpha=0.5)\n",
    "plt.title('Strip Plot: Price Distribution')\n",
    "plt.ylabel('Price')\n",
    "plt.grid(True)\n",
    "plt.show()"
   ]
  },
  {
   "cell_type": "markdown",
   "id": "f6cfd100",
   "metadata": {
    "papermill": {
     "duration": 0.015944,
     "end_time": "2024-06-13T21:15:59.625827",
     "exception": false,
     "start_time": "2024-06-13T21:15:59.609883",
     "status": "completed"
    },
    "tags": []
   },
   "source": [
    "Above Histogram shows that most cars lie in the lower range of price.\n",
    "The above graph has outliers from 0.4 onwards, which need to be removed."
   ]
  },
  {
   "cell_type": "code",
   "execution_count": 9,
   "id": "7e0e54f7",
   "metadata": {
    "execution": {
     "iopub.execute_input": "2024-06-13T21:15:59.660506Z",
     "iopub.status.busy": "2024-06-13T21:15:59.660113Z",
     "iopub.status.idle": "2024-06-13T21:15:59.679604Z",
     "shell.execute_reply": "2024-06-13T21:15:59.678381Z"
    },
    "papermill": {
     "duration": 0.041108,
     "end_time": "2024-06-13T21:15:59.683078",
     "exception": false,
     "start_time": "2024-06-13T21:15:59.641970",
     "status": "completed"
    },
    "tags": []
   },
   "outputs": [
    {
     "data": {
      "text/plain": [
       "count    5.427300e+04\n",
       "mean     3.921844e+04\n",
       "std      7.282634e+04\n",
       "min      2.000000e+03\n",
       "25%      1.550000e+04\n",
       "50%      2.800000e+04\n",
       "75%      4.500000e+04\n",
       "max      2.954083e+06\n",
       "Name: price, dtype: float64"
      ]
     },
     "execution_count": 9,
     "metadata": {},
     "output_type": "execute_result"
    }
   ],
   "source": [
    "train_df['price'].describe()"
   ]
  },
  {
   "cell_type": "code",
   "execution_count": 10,
   "id": "b30be81b",
   "metadata": {
    "execution": {
     "iopub.execute_input": "2024-06-13T21:15:59.719372Z",
     "iopub.status.busy": "2024-06-13T21:15:59.718991Z",
     "iopub.status.idle": "2024-06-13T21:15:59.729271Z",
     "shell.execute_reply": "2024-06-13T21:15:59.728068Z"
    },
    "papermill": {
     "duration": 0.031598,
     "end_time": "2024-06-13T21:15:59.731750",
     "exception": false,
     "start_time": "2024-06-13T21:15:59.700152",
     "status": "completed"
    },
    "tags": []
   },
   "outputs": [
    {
     "name": "stdout",
     "output_type": "stream",
     "text": [
      "29500.0\n"
     ]
    }
   ],
   "source": [
    "#identify and remove outliers from the data df in relation to price column using IQR method\n",
    "Q1 = train_df['price'].quantile(0.25)\n",
    "Q3 = train_df['price'].quantile(0.75)\n",
    "IQR = Q3 - Q1\n",
    "print(IQR)"
   ]
  },
  {
   "cell_type": "code",
   "execution_count": 11,
   "id": "67cb18fd",
   "metadata": {
    "execution": {
     "iopub.execute_input": "2024-06-13T21:15:59.766748Z",
     "iopub.status.busy": "2024-06-13T21:15:59.766291Z",
     "iopub.status.idle": "2024-06-13T21:15:59.784523Z",
     "shell.execute_reply": "2024-06-13T21:15:59.783310Z"
    },
    "papermill": {
     "duration": 0.038747,
     "end_time": "2024-06-13T21:15:59.787048",
     "exception": false,
     "start_time": "2024-06-13T21:15:59.748301",
     "status": "completed"
    },
    "tags": []
   },
   "outputs": [
    {
     "data": {
      "text/plain": [
       "(47678, 12)"
      ]
     },
     "execution_count": 11,
     "metadata": {},
     "output_type": "execute_result"
    }
   ],
   "source": [
    "#use IQR value to filter out the outliers\n",
    "outliersfree_df = train_df[~((train_df['price'] < (Q1 - 1.5 * IQR)) |(train_df['price'] > (Q3 + 0.7 * IQR)))]\n",
    "outliersfree_df.shape"
   ]
  },
  {
   "cell_type": "code",
   "execution_count": 12,
   "id": "ab583668",
   "metadata": {
    "execution": {
     "iopub.execute_input": "2024-06-13T21:15:59.823499Z",
     "iopub.status.busy": "2024-06-13T21:15:59.823094Z",
     "iopub.status.idle": "2024-06-13T21:16:00.294854Z",
     "shell.execute_reply": "2024-06-13T21:16:00.293615Z"
    },
    "papermill": {
     "duration": 0.493133,
     "end_time": "2024-06-13T21:16:00.297394",
     "exception": false,
     "start_time": "2024-06-13T21:15:59.804261",
     "status": "completed"
    },
    "tags": []
   },
   "outputs": [
    {
     "name": "stderr",
     "output_type": "stream",
     "text": [
      "/opt/conda/lib/python3.10/site-packages/seaborn/_oldcore.py:1119: FutureWarning: use_inf_as_na option is deprecated and will be removed in a future version. Convert inf values to NaN before operating instead.\n",
      "  with pd.option_context('mode.use_inf_as_na', True):\n",
      "/opt/conda/lib/python3.10/site-packages/seaborn/_oldcore.py:1119: FutureWarning: use_inf_as_na option is deprecated and will be removed in a future version. Convert inf values to NaN before operating instead.\n",
      "  with pd.option_context('mode.use_inf_as_na', True):\n",
      "/opt/conda/lib/python3.10/site-packages/seaborn/_oldcore.py:1075: FutureWarning: When grouping with a length-1 list-like, you will need to pass a length-1 tuple to get_group in a future version of pandas. Pass `(name,)` instead of `name` to silence this warning.\n",
      "  data_subset = grouped_data.get_group(pd_key)\n"
     ]
    },
    {
     "data": {
      "image/png": "[encoded data removed]",
      "text/plain": [
       "<Figure size 800x600 with 1 Axes>"
      ]
     },
     "metadata": {},
     "output_type": "display_data"
    }
   ],
   "source": [
    "plt.figure(figsize=(8, 6))\n",
    "sns.stripplot(data=outliersfree_df, y='price', jitter=True, color='purple', alpha=0.5)\n",
    "plt.title('Strip Plot: Price Distribution')\n",
    "plt.ylabel('Price')\n",
    "plt.grid(True)\n",
    "plt.show()"
   ]
  },
  {
   "cell_type": "markdown",
   "id": "d30c0da8",
   "metadata": {
    "papermill": {
     "duration": 0.017293,
     "end_time": "2024-06-13T21:16:00.332460",
     "exception": false,
     "start_time": "2024-06-13T21:16:00.315167",
     "status": "completed"
    },
    "tags": []
   },
   "source": [
    "The above plot looks more homogeneous than the previous one after removal of outliers."
   ]
  },
  {
   "cell_type": "markdown",
   "id": "4dc4f137",
   "metadata": {
    "papermill": {
     "duration": 0.017303,
     "end_time": "2024-06-13T21:16:00.367263",
     "exception": false,
     "start_time": "2024-06-13T21:16:00.349960",
     "status": "completed"
    },
    "tags": []
   },
   "source": [
    "# **Data wrangling**"
   ]
  },
  {
   "cell_type": "markdown",
   "id": "dbd96de6",
   "metadata": {
    "papermill": {
     "duration": 0.017247,
     "end_time": "2024-06-13T21:16:00.402042",
     "exception": false,
     "start_time": "2024-06-13T21:16:00.384795",
     "status": "completed"
    },
    "tags": []
   },
   "source": [
    "I will reduce the number of features in string data categories, and will remain the numeric categories as they are."
   ]
  },
  {
   "cell_type": "code",
   "execution_count": 13,
   "id": "999e0e36",
   "metadata": {
    "execution": {
     "iopub.execute_input": "2024-06-13T21:16:00.438865Z",
     "iopub.status.busy": "2024-06-13T21:16:00.438433Z",
     "iopub.status.idle": "2024-06-13T21:16:00.457768Z",
     "shell.execute_reply": "2024-06-13T21:16:00.456310Z"
    },
    "papermill": {
     "duration": 0.04066,
     "end_time": "2024-06-13T21:16:00.460283",
     "exception": false,
     "start_time": "2024-06-13T21:16:00.419623",
     "status": "completed"
    },
    "tags": []
   },
   "outputs": [
    {
     "data": {
      "text/plain": [
       "brand\n",
       "BMW              6331\n",
       "Ford             6008\n",
       "Mercedes-Benz    4118\n",
       "Chevrolet        3829\n",
       "Audi             2676\n",
       "Toyota           2177\n",
       "Jeep             2138\n",
       "Lexus            2121\n",
       "Porsche          1805\n",
       "Land             1567\n",
       "Cadillac         1387\n",
       "Nissan           1179\n",
       "GMC               972\n",
       "Dodge             932\n",
       "INFINITI          904\n",
       "RAM               883\n",
       "Mazda             737\n",
       "Subaru            727\n",
       "Lincoln           724\n",
       "Hyundai           687\n",
       "Honda             620\n",
       "Volkswagen        617\n",
       "Jaguar            590\n",
       "Acura             559\n",
       "Kia               498\n",
       "Volvo             429\n",
       "MINI              360\n",
       "Chrysler          253\n",
       "Maserati          243\n",
       "Buick             219\n",
       "Genesis           211\n",
       "Mitsubishi        179\n",
       "Hummer            175\n",
       "Pontiac           146\n",
       "Alfa              130\n",
       "Bentley           127\n",
       "Tesla              93\n",
       "Saturn             58\n",
       "Rolls-Royce        53\n",
       "Scion              52\n",
       "Lamborghini        42\n",
       "McLaren            20\n",
       "Aston              20\n",
       "Mercury            20\n",
       "Ferrari            19\n",
       "FIAT               16\n",
       "Lotus              10\n",
       "Rivian              9\n",
       "Suzuki              4\n",
       "Maybach             3\n",
       "Plymouth            1\n",
       "Name: count, dtype: int64"
      ]
     },
     "execution_count": 13,
     "metadata": {},
     "output_type": "execute_result"
    }
   ],
   "source": [
    "#Look at brand value counts for binning\n",
    "brand_counts = outliersfree_df['brand'].value_counts()\n",
    "brand_counts #keep all car brands "
   ]
  },
  {
   "cell_type": "markdown",
   "id": "b4db8afc",
   "metadata": {
    "papermill": {
     "duration": 0.017538,
     "end_time": "2024-06-13T21:16:00.495789",
     "exception": false,
     "start_time": "2024-06-13T21:16:00.478251",
     "status": "completed"
    },
    "tags": []
   },
   "source": [
    "***Model cleaning***"
   ]
  },
  {
   "cell_type": "code",
   "execution_count": 14,
   "id": "bf8ad561",
   "metadata": {
    "execution": {
     "iopub.execute_input": "2024-06-13T21:16:00.533385Z",
     "iopub.status.busy": "2024-06-13T21:16:00.532971Z",
     "iopub.status.idle": "2024-06-13T21:16:00.551514Z",
     "shell.execute_reply": "2024-06-13T21:16:00.550328Z"
    },
    "papermill": {
     "duration": 0.040656,
     "end_time": "2024-06-13T21:16:00.554229",
     "exception": false,
     "start_time": "2024-06-13T21:16:00.513573",
     "status": "completed"
    },
    "tags": []
   },
   "outputs": [
    {
     "data": {
      "text/plain": [
       "model\n",
       "F-150 XLT                733\n",
       "M3 Base                  610\n",
       "X5 xDrive35i             590\n",
       "F-150 Lariat             451\n",
       "Mustang GT Premium       440\n",
       "                        ... \n",
       "Suburban 2500              1\n",
       "G-Class G 63 AMG           1\n",
       "Rover Range Rover SWB      1\n",
       "RDX w/A-Spec Package       1\n",
       "S-10 LS                    1\n",
       "Name: count, Length: 1795, dtype: int64"
      ]
     },
     "execution_count": 14,
     "metadata": {},
     "output_type": "execute_result"
    }
   ],
   "source": [
    "# Look at model value counts for binning\n",
    "model_counts =outliersfree_df['model'].value_counts()\n",
    "model_counts"
   ]
  },
  {
   "cell_type": "code",
   "execution_count": 15,
   "id": "b1a1c868",
   "metadata": {
    "execution": {
     "iopub.execute_input": "2024-06-13T21:16:00.592106Z",
     "iopub.status.busy": "2024-06-13T21:16:00.591710Z",
     "iopub.status.idle": "2024-06-13T21:16:16.989577Z",
     "shell.execute_reply": "2024-06-13T21:16:16.988175Z"
    },
    "papermill": {
     "duration": 16.420118,
     "end_time": "2024-06-13T21:16:16.992418",
     "exception": false,
     "start_time": "2024-06-13T21:16:00.572300",
     "status": "completed"
    },
    "tags": []
   },
   "outputs": [
    {
     "name": "stdout",
     "output_type": "stream",
     "text": [
      "model\n",
      "Other                      30231\n",
      "F-150 XLT                    733\n",
      "M3 Base                      610\n",
      "X5 xDrive35i                 590\n",
      "F-150 Lariat                 451\n",
      "                           ...  \n",
      "335 i xDrive                 103\n",
      "Sequoia Limited              100\n",
      "Golf GTI 2.0T SE 4-Door      100\n",
      "Civic EX                     100\n",
      "Cayman Base                  100\n",
      "Name: count, Length: 94, dtype: int64\n"
     ]
    }
   ],
   "source": [
    "#Reducing the number of car models as a fuature\n",
    "cutoff_value = 100 #keep if database has 100 and more records of this car model\n",
    "model_types_to_replace = model_counts[model_counts < cutoff_value].index\n",
    "\n",
    "# Replace in the dataframe\n",
    "for model_c in model_types_to_replace:\n",
    "    outliersfree_df.loc[outliersfree_df['model'] == model_c, 'model'] = \"Other\"\n",
    "\n",
    "# Check the updated value counts\n",
    "model_counts = outliersfree_df['model'].value_counts()\n",
    "print(model_counts)"
   ]
  },
  {
   "cell_type": "markdown",
   "id": "ab591a74",
   "metadata": {
    "papermill": {
     "duration": 0.018356,
     "end_time": "2024-06-13T21:16:17.029524",
     "exception": false,
     "start_time": "2024-06-13T21:16:17.011168",
     "status": "completed"
    },
    "tags": []
   },
   "source": [
    "**Fuel cleaning**"
   ]
  },
  {
   "cell_type": "code",
   "execution_count": 16,
   "id": "03a6ef92",
   "metadata": {
    "execution": {
     "iopub.execute_input": "2024-06-13T21:16:17.068487Z",
     "iopub.status.busy": "2024-06-13T21:16:17.068062Z",
     "iopub.status.idle": "2024-06-13T21:16:17.084451Z",
     "shell.execute_reply": "2024-06-13T21:16:17.083233Z"
    },
    "papermill": {
     "duration": 0.039321,
     "end_time": "2024-06-13T21:16:17.087145",
     "exception": false,
     "start_time": "2024-06-13T21:16:17.047824",
     "status": "completed"
    },
    "tags": []
   },
   "outputs": [
    {
     "data": {
      "text/plain": [
       "fuel_type\n",
       "Gasoline          43613\n",
       "E85 Flex Fuel      1435\n",
       "Hybrid             1323\n",
       "Diesel              889\n",
       "–                   266\n",
       "Plug-In Hybrid      148\n",
       "not supported         4\n",
       "Name: count, dtype: int64"
      ]
     },
     "execution_count": 16,
     "metadata": {},
     "output_type": "execute_result"
    }
   ],
   "source": [
    "# Look at fuel value counts for binning\n",
    "fuel_counts = outliersfree_df['fuel_type'].value_counts()\n",
    "fuel_counts"
   ]
  },
  {
   "cell_type": "code",
   "execution_count": 17,
   "id": "3388401d",
   "metadata": {
    "execution": {
     "iopub.execute_input": "2024-06-13T21:16:17.187179Z",
     "iopub.status.busy": "2024-06-13T21:16:17.186760Z",
     "iopub.status.idle": "2024-06-13T21:16:17.232027Z",
     "shell.execute_reply": "2024-06-13T21:16:17.230595Z"
    },
    "papermill": {
     "duration": 0.068565,
     "end_time": "2024-06-13T21:16:17.234826",
     "exception": false,
     "start_time": "2024-06-13T21:16:17.166261",
     "status": "completed"
    },
    "tags": []
   },
   "outputs": [
    {
     "data": {
      "text/plain": [
       "fuel_type\n",
       "Gasoline          43613\n",
       "E85 Flex Fuel      1435\n",
       "Hybrid             1323\n",
       "Diesel              889\n",
       "Other               266\n",
       "Plug-In Hybrid      148\n",
       "Name: count, dtype: int64"
      ]
     },
     "execution_count": 17,
     "metadata": {},
     "output_type": "execute_result"
    }
   ],
   "source": [
    "# Replace '–' with 'Other' in the 'fuel_type' column\n",
    "outliersfree_df.loc[outliersfree_df['fuel_type'] == '–', 'fuel_type'] = 'Other'\n",
    "cleaned_train = outliersfree_df[outliersfree_df['fuel_type'] != 'not supported']\n",
    "fuel_counts = cleaned_train['fuel_type'].value_counts()\n",
    "fuel_counts"
   ]
  },
  {
   "cell_type": "markdown",
   "id": "1501d8cf",
   "metadata": {
    "papermill": {
     "duration": 0.018604,
     "end_time": "2024-06-13T21:16:17.272800",
     "exception": false,
     "start_time": "2024-06-13T21:16:17.254196",
     "status": "completed"
    },
    "tags": []
   },
   "source": [
    "***Engine cleaning***"
   ]
  },
  {
   "cell_type": "code",
   "execution_count": 18,
   "id": "89dd1234",
   "metadata": {
    "execution": {
     "iopub.execute_input": "2024-06-13T21:16:17.312226Z",
     "iopub.status.busy": "2024-06-13T21:16:17.311813Z",
     "iopub.status.idle": "2024-06-13T21:16:17.330118Z",
     "shell.execute_reply": "2024-06-13T21:16:17.328832Z"
    },
    "papermill": {
     "duration": 0.041461,
     "end_time": "2024-06-13T21:16:17.332907",
     "exception": false,
     "start_time": "2024-06-13T21:16:17.291446",
     "status": "completed"
    },
    "tags": []
   },
   "outputs": [
    {
     "data": {
      "text/plain": [
       "engine\n",
       "300.0HP 3.0L Straight 6 Cylinder Engine Gasoline Fuel    1411\n",
       "355.0HP 5.3L 8 Cylinder Engine Gasoline Fuel             1067\n",
       "240.0HP 2.0L 4 Cylinder Engine Gasoline Fuel             1044\n",
       "285.0HP 3.6L V6 Cylinder Engine Gasoline Fuel             924\n",
       "420.0HP 6.2L 8 Cylinder Engine Gasoline Fuel              689\n",
       "                                                         ... \n",
       "290.0HP Electric Motor Electric Fuel System                 1\n",
       "3.6L V6 24V MPFI DOHC Hybrid                                1\n",
       "3.0 Liter SC ULEV                                           1\n",
       "483.0HP 4.3L 8 Cylinder Engine Gasoline Fuel                1\n",
       "3.2L V6 24V MPFI DOHC                                       1\n",
       "Name: count, Length: 1043, dtype: int64"
      ]
     },
     "execution_count": 18,
     "metadata": {},
     "output_type": "execute_result"
    }
   ],
   "source": [
    "# Look at endine value counts for binning\n",
    "engine_counts = cleaned_train['engine'].value_counts()\n",
    "engine_counts"
   ]
  },
  {
   "cell_type": "code",
   "execution_count": 19,
   "id": "032936b1",
   "metadata": {
    "execution": {
     "iopub.execute_input": "2024-06-13T21:16:17.372594Z",
     "iopub.status.busy": "2024-06-13T21:16:17.372161Z",
     "iopub.status.idle": "2024-06-13T21:16:26.679259Z",
     "shell.execute_reply": "2024-06-13T21:16:26.678015Z"
    },
    "papermill": {
     "duration": 9.330238,
     "end_time": "2024-06-13T21:16:26.682092",
     "exception": false,
     "start_time": "2024-06-13T21:16:17.351854",
     "status": "completed"
    },
    "tags": []
   },
   "outputs": [
    {
     "data": {
      "text/plain": [
       "engine\n",
       "Other                                                    20309\n",
       "300.0HP 3.0L Straight 6 Cylinder Engine Gasoline Fuel     1411\n",
       "355.0HP 5.3L 8 Cylinder Engine Gasoline Fuel              1067\n",
       "240.0HP 2.0L 4 Cylinder Engine Gasoline Fuel              1044\n",
       "285.0HP 3.6L V6 Cylinder Engine Gasoline Fuel              924\n",
       "                                                         ...  \n",
       "280.0HP 3.6L V6 Cylinder Engine Gasoline Fuel              105\n",
       "300.0HP 4.2L 8 Cylinder Engine Gasoline Fuel               103\n",
       "188.0HP 3.0L V6 Cylinder Engine Diesel Fuel                103\n",
       "310.0HP 3.0L V6 Cylinder Engine Gasoline Fuel              102\n",
       "518.0HP 5.0L 8 Cylinder Engine Gasoline Fuel               102\n",
       "Name: count, Length: 106, dtype: int64"
      ]
     },
     "execution_count": 19,
     "metadata": {},
     "output_type": "execute_result"
    }
   ],
   "source": [
    "cutoff_value = 100\n",
    "engine_types_to_replace = engine_counts[engine_counts < cutoff_value].index\n",
    "\n",
    "# Replace in the dataframe\n",
    "for engine_c in engine_types_to_replace:\n",
    "    cleaned_train.loc[cleaned_train['engine'] == engine_c, 'engine'] = \"Other\"\n",
    "\n",
    "# Check the updated value counts\n",
    "engine_counts = cleaned_train['engine'].value_counts()\n",
    "engine_counts"
   ]
  },
  {
   "cell_type": "markdown",
   "id": "50216423",
   "metadata": {
    "papermill": {
     "duration": 0.019165,
     "end_time": "2024-06-13T21:16:26.720446",
     "exception": false,
     "start_time": "2024-06-13T21:16:26.701281",
     "status": "completed"
    },
    "tags": []
   },
   "source": [
    "***Transmission***"
   ]
  },
  {
   "cell_type": "code",
   "execution_count": 20,
   "id": "57294e73",
   "metadata": {
    "execution": {
     "iopub.execute_input": "2024-06-13T21:16:26.760738Z",
     "iopub.status.busy": "2024-06-13T21:16:26.760296Z",
     "iopub.status.idle": "2024-06-13T21:16:26.777718Z",
     "shell.execute_reply": "2024-06-13T21:16:26.776481Z"
    },
    "papermill": {
     "duration": 0.040499,
     "end_time": "2024-06-13T21:16:26.780430",
     "exception": false,
     "start_time": "2024-06-13T21:16:26.739931",
     "status": "completed"
    },
    "tags": []
   },
   "outputs": [
    {
     "data": {
      "text/plain": [
       "transmission\n",
       "A/T                                                   15558\n",
       "8-Speed A/T                                            5804\n",
       "6-Speed A/T                                            5791\n",
       "Transmission w/Dual Shift Mode                         5284\n",
       "6-Speed M/T                                            3384\n",
       "7-Speed A/T                                            2786\n",
       "10-Speed A/T                                           1603\n",
       "5-Speed A/T                                            1171\n",
       "8-Speed Automatic                                       953\n",
       "9-Speed A/T                                             805\n",
       "4-Speed A/T                                             739\n",
       "5-Speed M/T                                             711\n",
       "CVT Transmission                                        680\n",
       "10-Speed Automatic                                      519\n",
       "6-Speed Automatic                                       483\n",
       "Automatic                                               357\n",
       "M/T                                                     339\n",
       "9-Speed Automatic                                       279\n",
       "Automatic CVT                                            91\n",
       "7-Speed Automatic with Auto-Shift                        53\n",
       "Transmission Overdrive Switch                            53\n",
       "7-Speed M/T                                              46\n",
       "1-Speed A/T                                              43\n",
       "7-Speed Automatic                                        31\n",
       "5-Speed Automatic                                        22\n",
       "6-Speed Manual                                           18\n",
       "8-Speed Automatic with Auto-Shift                        17\n",
       "6-Speed Automatic with Auto-Shift                        13\n",
       "7-Speed Manual                                            7\n",
       "4-Speed Automatic                                         6\n",
       "6-Speed Electronically Controlled Automatic with O        5\n",
       "1-Speed Automatic                                         4\n",
       "8-Speed Manual                                            3\n",
       "7-Speed DCT Automatic                                     3\n",
       "SCHEDULED FOR OR IN PRODUCTION                            2\n",
       "6 Speed Mt                                                2\n",
       "10-Speed Automatic with Overdrive                         2\n",
       "6-Speed                                                   2\n",
       "F                                                         1\n",
       "6 Speed At/Mt                                             1\n",
       "CVT-F                                                     1\n",
       "2-Speed A/T                                               1\n",
       "–                                                         1\n",
       "Name: count, dtype: int64"
      ]
     },
     "execution_count": 20,
     "metadata": {},
     "output_type": "execute_result"
    }
   ],
   "source": [
    "# Look at trans value counts for binning\n",
    "trans_counts = cleaned_train['transmission'].value_counts()\n",
    "trans_counts"
   ]
  },
  {
   "cell_type": "code",
   "execution_count": 21,
   "id": "f4301404",
   "metadata": {
    "execution": {
     "iopub.execute_input": "2024-06-13T21:16:26.826002Z",
     "iopub.status.busy": "2024-06-13T21:16:26.825550Z",
     "iopub.status.idle": "2024-06-13T21:16:26.988268Z",
     "shell.execute_reply": "2024-06-13T21:16:26.987047Z"
    },
    "papermill": {
     "duration": 0.186629,
     "end_time": "2024-06-13T21:16:26.991022",
     "exception": false,
     "start_time": "2024-06-13T21:16:26.804393",
     "status": "completed"
    },
    "tags": []
   },
   "outputs": [
    {
     "data": {
      "text/plain": [
       "transmission\n",
       "A/T                                  15558\n",
       "8-Speed A/T                           5804\n",
       "6-Speed A/T                           5791\n",
       "Transmission w/Dual Shift Mode        5284\n",
       "6-Speed M/T                           3384\n",
       "7-Speed A/T                           2786\n",
       "10-Speed A/T                          1603\n",
       "5-Speed A/T                           1171\n",
       "8-Speed Automatic                      953\n",
       "9-Speed A/T                            805\n",
       "4-Speed A/T                            739\n",
       "5-Speed M/T                            711\n",
       "CVT Transmission                       680\n",
       "10-Speed Automatic                     519\n",
       "6-Speed Automatic                      483\n",
       "Automatic                              357\n",
       "M/T                                    339\n",
       "9-Speed Automatic                      279\n",
       "Automatic CVT                           91\n",
       "Transmission Overdrive Switch           53\n",
       "7-Speed Automatic with Auto-Shift       53\n",
       "7-Speed M/T                             46\n",
       "1-Speed A/T                             43\n",
       "Other                                   41\n",
       "7-Speed Automatic                       31\n",
       "5-Speed Automatic                       22\n",
       "6-Speed Manual                          18\n",
       "8-Speed Automatic with Auto-Shift       17\n",
       "6-Speed Automatic with Auto-Shift       13\n",
       "Name: count, dtype: int64"
      ]
     },
     "execution_count": 21,
     "metadata": {},
     "output_type": "execute_result"
    }
   ],
   "source": [
    "cutoff_value = 10\n",
    "trans_types_to_replace = trans_counts[trans_counts < cutoff_value].index\n",
    "\n",
    "# Replace in the dataframe\n",
    "for trans_c in trans_types_to_replace:\n",
    "    cleaned_train.loc[cleaned_train['transmission'] == trans_c, 'transmission'] = \"Other\"\n",
    "\n",
    "# Check the updated value counts\n",
    "trans_counts = cleaned_train['transmission'].value_counts()\n",
    "trans_counts"
   ]
  },
  {
   "cell_type": "markdown",
   "id": "c8e3c3c7",
   "metadata": {
    "papermill": {
     "duration": 0.019408,
     "end_time": "2024-06-13T21:16:27.030579",
     "exception": false,
     "start_time": "2024-06-13T21:16:27.011171",
     "status": "completed"
    },
    "tags": []
   },
   "source": [
    "***External colour***"
   ]
  },
  {
   "cell_type": "code",
   "execution_count": 22,
   "id": "81d1e0b6",
   "metadata": {
    "execution": {
     "iopub.execute_input": "2024-06-13T21:16:27.072952Z",
     "iopub.status.busy": "2024-06-13T21:16:27.072531Z",
     "iopub.status.idle": "2024-06-13T21:16:27.090771Z",
     "shell.execute_reply": "2024-06-13T21:16:27.089478Z"
    },
    "papermill": {
     "duration": 0.043083,
     "end_time": "2024-06-13T21:16:27.093303",
     "exception": false,
     "start_time": "2024-06-13T21:16:27.050220",
     "status": "completed"
    },
    "tags": []
   },
   "outputs": [
    {
     "data": {
      "text/plain": [
       "ext_col\n",
       "Black                                 13237\n",
       "White                                 12006\n",
       "Gray                                   6605\n",
       "Silver                                 4751\n",
       "Blue                                   4156\n",
       "Red                                    2699\n",
       "Green                                   565\n",
       "Gold                                    463\n",
       "Beige                                   433\n",
       "Brown                                   364\n",
       "Yellow                                  277\n",
       "Orange                                  243\n",
       "Agate Black Metallic                    105\n",
       "Bright White Clearcoat                   99\n",
       "Purple                                   90\n",
       "Black Clearcoat                          77\n",
       "Summit White                             71\n",
       "Diamond Black                            59\n",
       "Silver Ice Metallic                      57\n",
       "Delmonico Red Pearlcoat                  51\n",
       "Soul Red Crystal Metallic                45\n",
       "Snowflake White Pearl                    32\n",
       "Ebony Twilight Metallic                  27\n",
       "Jet Black Mica                           27\n",
       "Firecracker Red Clearcoat                25\n",
       "Sonic Silver Metallic                    23\n",
       "Cajun Red Tintcoat                       22\n",
       "Iconic Silver Metallic                   21\n",
       "Black Sapphire Metallic                  21\n",
       "Magnetic Metallic                        20\n",
       "Oxford White                             20\n",
       "Shadow Gray Metallic                     19\n",
       "Dark Matter Metallic                     18\n",
       "White Frost Tri-Coat                     17\n",
       "Brilliant Silver Metallic                16\n",
       "Mosaic Black Metallic                    16\n",
       "Glacial White Pearl                      15\n",
       "Patriot Blue Pearlcoat                   15\n",
       "Crystal Black Silica                     15\n",
       "Dark Moon Blue Metallic                  15\n",
       "Maroon                                   14\n",
       "White Knuckle Clearcoat                  14\n",
       "Polymetal Gray Metallic                  14\n",
       "Deep Black Pearl Effect                  14\n",
       "Velvet Red Pearlcoat                     14\n",
       "Midnight Black Metallic                  14\n",
       "Granite Crystal Clearcoat Metallic       13\n",
       "Maximum Steel Metallic                   13\n",
       "Tungsten Metallic                        13\n",
       "Black Obsidian                           13\n",
       "Name: count, dtype: int64"
      ]
     },
     "execution_count": 22,
     "metadata": {},
     "output_type": "execute_result"
    }
   ],
   "source": [
    "# Look at colours value counts for binning\n",
    "ext_col_counts = cleaned_train['ext_col'].value_counts()\n",
    "ext_col_counts.head(50)"
   ]
  },
  {
   "cell_type": "code",
   "execution_count": 23,
   "id": "40b9750c",
   "metadata": {
    "execution": {
     "iopub.execute_input": "2024-06-13T21:16:27.135935Z",
     "iopub.status.busy": "2024-06-13T21:16:27.134523Z",
     "iopub.status.idle": "2024-06-13T21:16:29.185811Z",
     "shell.execute_reply": "2024-06-13T21:16:29.184602Z"
    },
    "papermill": {
     "duration": 2.075588,
     "end_time": "2024-06-13T21:16:29.188509",
     "exception": false,
     "start_time": "2024-06-13T21:16:27.112921",
     "status": "completed"
    },
    "tags": []
   },
   "outputs": [
    {
     "data": {
      "text/plain": [
       "ext_col\n",
       "Black                        13237\n",
       "White                        12006\n",
       "Gray                          6605\n",
       "Silver                        4751\n",
       "Blue                          4156\n",
       "Red                           2699\n",
       "Other                          983\n",
       "Green                          565\n",
       "Gold                           463\n",
       "Beige                          433\n",
       "Brown                          364\n",
       "Yellow                         277\n",
       "Orange                         243\n",
       "Agate Black Metallic           105\n",
       "Bright White Clearcoat          99\n",
       "Purple                          90\n",
       "Black Clearcoat                 77\n",
       "Summit White                    71\n",
       "Diamond Black                   59\n",
       "Silver Ice Metallic             57\n",
       "Delmonico Red Pearlcoat         51\n",
       "Soul Red Crystal Metallic       45\n",
       "Snowflake White Pearl           32\n",
       "Jet Black Mica                  27\n",
       "Ebony Twilight Metallic         27\n",
       "Firecracker Red Clearcoat       25\n",
       "Sonic Silver Metallic           23\n",
       "Cajun Red Tintcoat              22\n",
       "Black Sapphire Metallic         21\n",
       "Iconic Silver Metallic          21\n",
       "Magnetic Metallic               20\n",
       "Oxford White                    20\n",
       "Name: count, dtype: int64"
      ]
     },
     "execution_count": 23,
     "metadata": {},
     "output_type": "execute_result"
    }
   ],
   "source": [
    "cutoff_value = 20\n",
    "ext_col_types_to_replace = ext_col_counts[ext_col_counts < cutoff_value].index\n",
    "\n",
    "# Replace in the dataframe\n",
    "for ext_col_c in ext_col_types_to_replace:\n",
    "    cleaned_train.loc[cleaned_train['ext_col'] == ext_col_c, 'ext_col'] = \"Other\"\n",
    "\n",
    "# Check the updated value counts\n",
    "ext_col_counts = cleaned_train['ext_col'].value_counts()\n",
    "ext_col_counts"
   ]
  },
  {
   "cell_type": "code",
   "execution_count": 24,
   "id": "9b9060a5",
   "metadata": {
    "execution": {
     "iopub.execute_input": "2024-06-13T21:16:29.231468Z",
     "iopub.status.busy": "2024-06-13T21:16:29.230393Z",
     "iopub.status.idle": "2024-06-13T21:16:29.248120Z",
     "shell.execute_reply": "2024-06-13T21:16:29.247037Z"
    },
    "papermill": {
     "duration": 0.041477,
     "end_time": "2024-06-13T21:16:29.250595",
     "exception": false,
     "start_time": "2024-06-13T21:16:29.209118",
     "status": "completed"
    },
    "tags": []
   },
   "outputs": [
    {
     "data": {
      "text/plain": [
       "int_col\n",
       "Black                         27600\n",
       "Beige                          7582\n",
       "Gray                           5901\n",
       "Brown                          1838\n",
       "Red                            1182\n",
       "–                               935\n",
       "White                           892\n",
       "Jet Black                       306\n",
       "Ebony                           201\n",
       "Orange                          173\n",
       "Blue                            147\n",
       "Silver                          100\n",
       "Gold                             89\n",
       "Green                            46\n",
       "Global Black                     44\n",
       "Medium Stone                     36\n",
       "Charcoal                         31\n",
       "Diesel Gray / Black              26\n",
       "Rioja Red                        25\n",
       "Black Onyx                       22\n",
       "Medium Dark Slate                22\n",
       "White / Brown                    22\n",
       "Graphite                         20\n",
       "Light Slate                      17\n",
       "Medium Earth Gray                17\n",
       "Shara Beige                      16\n",
       "Canberra Beige                   14\n",
       "Medium Light Camel               13\n",
       "Deep Chestnut                    13\n",
       "Ceramic                          13\n",
       "Sandstone                        12\n",
       "Tan                              11\n",
       "Ebony / Ebony Accents            11\n",
       "Charcoal Black                   10\n",
       "Ebony Black                      10\n",
       "Shale                            10\n",
       "Mesa                              9\n",
       "Nero Ade                          8\n",
       "Chestnut                          8\n",
       "Adrenaline Red                    7\n",
       "Light Titanium                    7\n",
       "Titan Black / Quarzit             7\n",
       "Portland                          6\n",
       "Platinum                          6\n",
       "Dark Galvanized                   6\n",
       "Light Platinum / Jet Black        6\n",
       "Charles Blue                      6\n",
       "Ice                               6\n",
       "Mountain Brown                    6\n",
       "Canberra Beige/Black              6\n",
       "Name: count, dtype: int64"
      ]
     },
     "execution_count": 24,
     "metadata": {},
     "output_type": "execute_result"
    }
   ],
   "source": [
    "# Look at colours value counts for binning\n",
    "int_col_counts = cleaned_train['int_col'].value_counts()\n",
    "int_col_counts.head(50)"
   ]
  },
  {
   "cell_type": "code",
   "execution_count": 25,
   "id": "23d72d13",
   "metadata": {
    "execution": {
     "iopub.execute_input": "2024-06-13T21:16:29.292809Z",
     "iopub.status.busy": "2024-06-13T21:16:29.292026Z",
     "iopub.status.idle": "2024-06-13T21:16:29.308386Z",
     "shell.execute_reply": "2024-06-13T21:16:29.307181Z"
    },
    "papermill": {
     "duration": 0.040484,
     "end_time": "2024-06-13T21:16:29.311095",
     "exception": false,
     "start_time": "2024-06-13T21:16:29.270611",
     "status": "completed"
    },
    "tags": []
   },
   "outputs": [],
   "source": [
    "cleaned_train.loc[cleaned_train['int_col'] == '–', 'int_col'] = 'Other'"
   ]
  },
  {
   "cell_type": "code",
   "execution_count": 26,
   "id": "f184bf46",
   "metadata": {
    "execution": {
     "iopub.execute_input": "2024-06-13T21:16:29.353690Z",
     "iopub.status.busy": "2024-06-13T21:16:29.353243Z",
     "iopub.status.idle": "2024-06-13T21:16:30.155877Z",
     "shell.execute_reply": "2024-06-13T21:16:30.154625Z"
    },
    "papermill": {
     "duration": 0.827649,
     "end_time": "2024-06-13T21:16:30.158793",
     "exception": false,
     "start_time": "2024-06-13T21:16:29.331144",
     "status": "completed"
    },
    "tags": []
   },
   "outputs": [
    {
     "data": {
      "text/plain": [
       "int_col\n",
       "Black                    27600\n",
       "Beige                     7582\n",
       "Gray                      5901\n",
       "Brown                     1838\n",
       "Other                     1202\n",
       "Red                       1182\n",
       "White                      892\n",
       "Jet Black                  306\n",
       "Ebony                      201\n",
       "Orange                     173\n",
       "Blue                       147\n",
       "Silver                     100\n",
       "Gold                        89\n",
       "Green                       46\n",
       "Global Black                44\n",
       "Medium Stone                36\n",
       "Charcoal                    31\n",
       "Diesel Gray / Black         26\n",
       "Rioja Red                   25\n",
       "White / Brown               22\n",
       "Medium Dark Slate           22\n",
       "Black Onyx                  22\n",
       "Graphite                    20\n",
       "Light Slate                 17\n",
       "Medium Earth Gray           17\n",
       "Shara Beige                 16\n",
       "Canberra Beige              14\n",
       "Ceramic                     13\n",
       "Deep Chestnut               13\n",
       "Medium Light Camel          13\n",
       "Sandstone                   12\n",
       "Tan                         11\n",
       "Ebony / Ebony Accents       11\n",
       "Charcoal Black              10\n",
       "Ebony Black                 10\n",
       "Shale                       10\n",
       "Name: count, dtype: int64"
      ]
     },
     "execution_count": 26,
     "metadata": {},
     "output_type": "execute_result"
    }
   ],
   "source": [
    "cutoff_value = 10\n",
    "int_col_types_to_replace = int_col_counts[int_col_counts < cutoff_value].index\n",
    "\n",
    "# Replace in the dataframe\n",
    "for int_col_c in int_col_types_to_replace:\n",
    "    cleaned_train.loc[cleaned_train['int_col'] == int_col_c, 'int_col'] = \"Other\"\n",
    "\n",
    "# Check the updated value counts\n",
    "int_col_counts = cleaned_train['int_col'].value_counts()\n",
    "int_col_counts"
   ]
  },
  {
   "cell_type": "code",
   "execution_count": 27,
   "id": "15d32e21",
   "metadata": {
    "execution": {
     "iopub.execute_input": "2024-06-13T21:16:30.201625Z",
     "iopub.status.busy": "2024-06-13T21:16:30.201171Z",
     "iopub.status.idle": "2024-06-13T21:16:30.252789Z",
     "shell.execute_reply": "2024-06-13T21:16:30.251276Z"
    },
    "papermill": {
     "duration": 0.076464,
     "end_time": "2024-06-13T21:16:30.255687",
     "exception": false,
     "start_time": "2024-06-13T21:16:30.179223",
     "status": "completed"
    },
    "tags": []
   },
   "outputs": [
    {
     "data": {
      "text/plain": [
       "brand             51\n",
       "model             94\n",
       "model_year        34\n",
       "milage          3093\n",
       "fuel_type          6\n",
       "engine           106\n",
       "transmission      29\n",
       "ext_col           32\n",
       "int_col           36\n",
       "accident           2\n",
       "clean_title        1\n",
       "price           1108\n",
       "dtype: int64"
      ]
     },
     "execution_count": 27,
     "metadata": {},
     "output_type": "execute_result"
    }
   ],
   "source": [
    "# Determine the cleaned number of unique values in each column.\n",
    "unique_counts = cleaned_train.nunique()\n",
    "unique_counts"
   ]
  },
  {
   "cell_type": "code",
   "execution_count": 28,
   "id": "c297acab",
   "metadata": {
    "execution": {
     "iopub.execute_input": "2024-06-13T21:16:30.298681Z",
     "iopub.status.busy": "2024-06-13T21:16:30.298146Z",
     "iopub.status.idle": "2024-06-13T21:16:30.311567Z",
     "shell.execute_reply": "2024-06-13T21:16:30.310348Z"
    },
    "papermill": {
     "duration": 0.038675,
     "end_time": "2024-06-13T21:16:30.314690",
     "exception": false,
     "start_time": "2024-06-13T21:16:30.276015",
     "status": "completed"
    },
    "tags": []
   },
   "outputs": [],
   "source": [
    "#The last column \"Clean_title\" is the same \"Yes\" answer for all rows, that gives no value to analysis. \n",
    "#Drop this column.\n",
    "final_train=cleaned_train.drop(columns=['clean_title'])\n"
   ]
  },
  {
   "cell_type": "code",
   "execution_count": 29,
   "id": "33ec749c",
   "metadata": {
    "execution": {
     "iopub.execute_input": "2024-06-13T21:16:30.357508Z",
     "iopub.status.busy": "2024-06-13T21:16:30.357128Z",
     "iopub.status.idle": "2024-06-13T21:16:30.435730Z",
     "shell.execute_reply": "2024-06-13T21:16:30.434564Z"
    },
    "papermill": {
     "duration": 0.104522,
     "end_time": "2024-06-13T21:16:30.439954",
     "exception": false,
     "start_time": "2024-06-13T21:16:30.335432",
     "status": "completed"
    },
    "tags": []
   },
   "outputs": [
    {
     "name": "stdout",
     "output_type": "stream",
     "text": [
      "brand\n",
      "BMW              6331\n",
      "Ford             6008\n",
      "Mercedes-Benz    4118\n",
      "Chevrolet        3829\n",
      "Audi             2676\n",
      "Toyota           2174\n",
      "Jeep             2138\n",
      "Lexus            2121\n",
      "Porsche          1805\n",
      "Land             1567\n",
      "Cadillac         1387\n",
      "Nissan           1178\n",
      "GMC               972\n",
      "Dodge             932\n",
      "INFINITI          904\n",
      "RAM               883\n",
      "Mazda             737\n",
      "Subaru            727\n",
      "Lincoln           724\n",
      "Hyundai           687\n",
      "Honda             620\n",
      "Volkswagen        617\n",
      "Jaguar            590\n",
      "Acura             559\n",
      "Kia               498\n",
      "Volvo             429\n",
      "MINI              360\n",
      "Chrysler          253\n",
      "Maserati          243\n",
      "Buick             219\n",
      "Genesis           211\n",
      "Mitsubishi        179\n",
      "Hummer            175\n",
      "Pontiac           146\n",
      "Alfa              130\n",
      "Bentley           127\n",
      "Tesla              93\n",
      "Saturn             58\n",
      "Rolls-Royce        53\n",
      "Scion              52\n",
      "Lamborghini        42\n",
      "McLaren            20\n",
      "Aston              20\n",
      "Mercury            20\n",
      "Ferrari            19\n",
      "FIAT               16\n",
      "Lotus              10\n",
      "Rivian              9\n",
      "Suzuki              4\n",
      "Maybach             3\n",
      "Plymouth            1\n",
      "Name: count, dtype: int64\n",
      "model\n",
      "Other                      30227\n",
      "F-150 XLT                    733\n",
      "M3 Base                      610\n",
      "X5 xDrive35i                 590\n",
      "F-150 Lariat                 451\n",
      "                           ...  \n",
      "335 i xDrive                 103\n",
      "Sequoia Limited              100\n",
      "Golf GTI 2.0T SE 4-Door      100\n",
      "Civic EX                     100\n",
      "Cayman Base                  100\n",
      "Name: count, Length: 94, dtype: int64\n",
      "model_year\n",
      "2018    4428\n",
      "2016    4381\n",
      "2017    3693\n",
      "2019    3563\n",
      "2015    3492\n",
      "2020    3119\n",
      "2014    2853\n",
      "2021    2726\n",
      "2013    2360\n",
      "2012    2062\n",
      "2011    2056\n",
      "2022    2007\n",
      "2008    1694\n",
      "2007    1537\n",
      "2010    1455\n",
      "2005     935\n",
      "2009     924\n",
      "2006     844\n",
      "2004     731\n",
      "2023     685\n",
      "2003     551\n",
      "2001     455\n",
      "2002     385\n",
      "1999     175\n",
      "2000     147\n",
      "1998     114\n",
      "1997      79\n",
      "1996      71\n",
      "1993      46\n",
      "1995      42\n",
      "1994      35\n",
      "2024      15\n",
      "1992      12\n",
      "1974       2\n",
      "Name: count, dtype: int64\n",
      "milage\n",
      "60000     351\n",
      "120000    335\n",
      "110000    329\n",
      "170000    319\n",
      "87500     272\n",
      "         ... \n",
      "32580       1\n",
      "51803       1\n",
      "135570      1\n",
      "93100       1\n",
      "28750       1\n",
      "Name: count, Length: 3093, dtype: int64\n",
      "fuel_type\n",
      "Gasoline          43613\n",
      "E85 Flex Fuel      1435\n",
      "Hybrid             1323\n",
      "Diesel              889\n",
      "Other               266\n",
      "Plug-In Hybrid      148\n",
      "Name: count, dtype: int64\n",
      "engine\n",
      "Other                                                    20309\n",
      "300.0HP 3.0L Straight 6 Cylinder Engine Gasoline Fuel     1411\n",
      "355.0HP 5.3L 8 Cylinder Engine Gasoline Fuel              1067\n",
      "240.0HP 2.0L 4 Cylinder Engine Gasoline Fuel              1044\n",
      "285.0HP 3.6L V6 Cylinder Engine Gasoline Fuel              924\n",
      "                                                         ...  \n",
      "280.0HP 3.6L V6 Cylinder Engine Gasoline Fuel              105\n",
      "300.0HP 4.2L 8 Cylinder Engine Gasoline Fuel               103\n",
      "188.0HP 3.0L V6 Cylinder Engine Diesel Fuel                103\n",
      "310.0HP 3.0L V6 Cylinder Engine Gasoline Fuel              102\n",
      "518.0HP 5.0L 8 Cylinder Engine Gasoline Fuel               102\n",
      "Name: count, Length: 106, dtype: int64\n",
      "transmission\n",
      "A/T                                  15558\n",
      "8-Speed A/T                           5804\n",
      "6-Speed A/T                           5791\n",
      "Transmission w/Dual Shift Mode        5284\n",
      "6-Speed M/T                           3384\n",
      "7-Speed A/T                           2786\n",
      "10-Speed A/T                          1603\n",
      "5-Speed A/T                           1171\n",
      "8-Speed Automatic                      953\n",
      "9-Speed A/T                            805\n",
      "4-Speed A/T                            739\n",
      "5-Speed M/T                            711\n",
      "CVT Transmission                       680\n",
      "10-Speed Automatic                     519\n",
      "6-Speed Automatic                      483\n",
      "Automatic                              357\n",
      "M/T                                    339\n",
      "9-Speed Automatic                      279\n",
      "Automatic CVT                           91\n",
      "Transmission Overdrive Switch           53\n",
      "7-Speed Automatic with Auto-Shift       53\n",
      "7-Speed M/T                             46\n",
      "1-Speed A/T                             43\n",
      "Other                                   41\n",
      "7-Speed Automatic                       31\n",
      "5-Speed Automatic                       22\n",
      "6-Speed Manual                          18\n",
      "8-Speed Automatic with Auto-Shift       17\n",
      "6-Speed Automatic with Auto-Shift       13\n",
      "Name: count, dtype: int64\n",
      "ext_col\n",
      "Black                        13237\n",
      "White                        12006\n",
      "Gray                          6605\n",
      "Silver                        4751\n",
      "Blue                          4156\n",
      "Red                           2699\n",
      "Other                          983\n",
      "Green                          565\n",
      "Gold                           463\n",
      "Beige                          433\n",
      "Brown                          364\n",
      "Yellow                         277\n",
      "Orange                         243\n",
      "Agate Black Metallic           105\n",
      "Bright White Clearcoat          99\n",
      "Purple                          90\n",
      "Black Clearcoat                 77\n",
      "Summit White                    71\n",
      "Diamond Black                   59\n",
      "Silver Ice Metallic             57\n",
      "Delmonico Red Pearlcoat         51\n",
      "Soul Red Crystal Metallic       45\n",
      "Snowflake White Pearl           32\n",
      "Jet Black Mica                  27\n",
      "Ebony Twilight Metallic         27\n",
      "Firecracker Red Clearcoat       25\n",
      "Sonic Silver Metallic           23\n",
      "Cajun Red Tintcoat              22\n",
      "Black Sapphire Metallic         21\n",
      "Iconic Silver Metallic          21\n",
      "Magnetic Metallic               20\n",
      "Oxford White                    20\n",
      "Name: count, dtype: int64\n",
      "int_col\n",
      "Black                    27600\n",
      "Beige                     7582\n",
      "Gray                      5901\n",
      "Brown                     1838\n",
      "Other                     1202\n",
      "Red                       1182\n",
      "White                      892\n",
      "Jet Black                  306\n",
      "Ebony                      201\n",
      "Orange                     173\n",
      "Blue                       147\n",
      "Silver                     100\n",
      "Gold                        89\n",
      "Green                       46\n",
      "Global Black                44\n",
      "Medium Stone                36\n",
      "Charcoal                    31\n",
      "Diesel Gray / Black         26\n",
      "Rioja Red                   25\n",
      "White / Brown               22\n",
      "Medium Dark Slate           22\n",
      "Black Onyx                  22\n",
      "Graphite                    20\n",
      "Light Slate                 17\n",
      "Medium Earth Gray           17\n",
      "Shara Beige                 16\n",
      "Canberra Beige              14\n",
      "Ceramic                     13\n",
      "Deep Chestnut               13\n",
      "Medium Light Camel          13\n",
      "Sandstone                   12\n",
      "Tan                         11\n",
      "Ebony / Ebony Accents       11\n",
      "Charcoal Black              10\n",
      "Ebony Black                 10\n",
      "Shale                       10\n",
      "Name: count, dtype: int64\n",
      "accident\n",
      "None reported                             33864\n",
      "At least 1 accident or damage reported    13810\n",
      "Name: count, dtype: int64\n",
      "price\n",
      "15000    649\n",
      "12000    495\n",
      "30000    448\n",
      "8500     424\n",
      "17500    420\n",
      "        ... \n",
      "43389      1\n",
      "23739      1\n",
      "33531      1\n",
      "28906      1\n",
      "37998      1\n",
      "Name: count, Length: 1108, dtype: int64\n"
     ]
    }
   ],
   "source": [
    "# Display the value counts for each column\n",
    "for column in final_train.columns:\n",
    "    value_counts = final_train[column].value_counts()\n",
    "    print(value_counts)\n"
   ]
  },
  {
   "cell_type": "markdown",
   "id": "3c52d89e",
   "metadata": {
    "papermill": {
     "duration": 0.020643,
     "end_time": "2024-06-13T21:16:30.483128",
     "exception": false,
     "start_time": "2024-06-13T21:16:30.462485",
     "status": "completed"
    },
    "tags": []
   },
   "source": [
    "***Liner Regression***"
   ]
  },
  {
   "cell_type": "code",
   "execution_count": 30,
   "id": "b4707007",
   "metadata": {
    "execution": {
     "iopub.execute_input": "2024-06-13T21:16:30.526736Z",
     "iopub.status.busy": "2024-06-13T21:16:30.525945Z",
     "iopub.status.idle": "2024-06-13T21:16:30.937749Z",
     "shell.execute_reply": "2024-06-13T21:16:30.936455Z"
    },
    "papermill": {
     "duration": 0.437065,
     "end_time": "2024-06-13T21:16:30.940878",
     "exception": false,
     "start_time": "2024-06-13T21:16:30.503813",
     "status": "completed"
    },
    "tags": []
   },
   "outputs": [],
   "source": [
    "from sklearn.linear_model import LinearRegression"
   ]
  },
  {
   "cell_type": "code",
   "execution_count": 31,
   "id": "41790909",
   "metadata": {
    "execution": {
     "iopub.execute_input": "2024-06-13T21:16:30.984735Z",
     "iopub.status.busy": "2024-06-13T21:16:30.984303Z",
     "iopub.status.idle": "2024-06-13T21:16:31.093626Z",
     "shell.execute_reply": "2024-06-13T21:16:31.092430Z"
    },
    "papermill": {
     "duration": 0.134463,
     "end_time": "2024-06-13T21:16:31.096343",
     "exception": false,
     "start_time": "2024-06-13T21:16:30.961880",
     "status": "completed"
    },
    "tags": []
   },
   "outputs": [
    {
     "data": {
      "text/plain": [
       "(47674, 359)"
      ]
     },
     "execution_count": 31,
     "metadata": {},
     "output_type": "execute_result"
    }
   ],
   "source": [
    "# Convert categorical data to numeric with `pd.get_dummies`\n",
    "X = pd.get_dummies(final_train)\n",
    "X.shape\n"
   ]
  },
  {
   "cell_type": "code",
   "execution_count": 32,
   "id": "b3bdd933",
   "metadata": {
    "execution": {
     "iopub.execute_input": "2024-06-13T21:16:31.141504Z",
     "iopub.status.busy": "2024-06-13T21:16:31.141069Z",
     "iopub.status.idle": "2024-06-13T21:16:31.146914Z",
     "shell.execute_reply": "2024-06-13T21:16:31.145628Z"
    },
    "papermill": {
     "duration": 0.032202,
     "end_time": "2024-06-13T21:16:31.149583",
     "exception": false,
     "start_time": "2024-06-13T21:16:31.117381",
     "status": "completed"
    },
    "tags": []
   },
   "outputs": [],
   "source": [
    "# Split our preprocessed data into our features and target arrays\n",
    "y=X['price'].values.reshape(-1, 1)"
   ]
  },
  {
   "cell_type": "code",
   "execution_count": 33,
   "id": "9d7cdee3",
   "metadata": {
    "execution": {
     "iopub.execute_input": "2024-06-13T21:16:31.193974Z",
     "iopub.status.busy": "2024-06-13T21:16:31.193576Z",
     "iopub.status.idle": "2024-06-13T21:16:31.216558Z",
     "shell.execute_reply": "2024-06-13T21:16:31.215237Z"
    },
    "papermill": {
     "duration": 0.048622,
     "end_time": "2024-06-13T21:16:31.219591",
     "exception": false,
     "start_time": "2024-06-13T21:16:31.170969",
     "status": "completed"
    },
    "tags": []
   },
   "outputs": [],
   "source": [
    "#Removing the price from the prediction features\n",
    "X = X.drop(['price'], axis=1)\n"
   ]
  },
  {
   "cell_type": "code",
   "execution_count": 34,
   "id": "0433c2b9",
   "metadata": {
    "execution": {
     "iopub.execute_input": "2024-06-13T21:16:31.264661Z",
     "iopub.status.busy": "2024-06-13T21:16:31.264236Z",
     "iopub.status.idle": "2024-06-13T21:16:32.856727Z",
     "shell.execute_reply": "2024-06-13T21:16:32.855592Z"
    },
    "papermill": {
     "duration": 1.619249,
     "end_time": "2024-06-13T21:16:32.860439",
     "exception": false,
     "start_time": "2024-06-13T21:16:31.241190",
     "status": "completed"
    },
    "tags": []
   },
   "outputs": [
    {
     "data": {
      "text/html": [
       "<style>#sk-container-id-1 {color: black;background-color: white;}#sk-container-id-1 pre{padding: 0;}#sk-container-id-1 div.sk-toggleable {background-color: white;}#sk-container-id-1 label.sk-toggleable__label {cursor: pointer;display: block;width: 100%;margin-bottom: 0;padding: 0.3em;box-sizing: border-box;text-align: center;}#sk-container-id-1 label.sk-toggleable__label-arrow:before {content: \"▸\";float: left;margin-right: 0.25em;color: #696969;}#sk-container-id-1 label.sk-toggleable__label-arrow:hover:before {color: black;}#sk-container-id-1 div.sk-estimator:hover label.sk-toggleable__label-arrow:before {color: black;}#sk-container-id-1 div.sk-toggleable__content {max-height: 0;max-width: 0;overflow: hidden;text-align: left;background-color: #f0f8ff;}#sk-container-id-1 div.sk-toggleable__content pre {margin: 0.2em;color: black;border-radius: 0.25em;background-color: #f0f8ff;}#sk-container-id-1 input.sk-toggleable__control:checked~div.sk-toggleable__content {max-height: 200px;max-width: 100%;overflow: auto;}#sk-container-id-1 input.sk-toggleable__control:checked~label.sk-toggleable__label-arrow:before {content: \"▾\";}#sk-container-id-1 div.sk-estimator input.sk-toggleable__control:checked~label.sk-toggleable__label {background-color: #d4ebff;}#sk-container-id-1 div.sk-label input.sk-toggleable__control:checked~label.sk-toggleable__label {background-color: #d4ebff;}#sk-container-id-1 input.sk-hidden--visually {border: 0;clip: rect(1px 1px 1px 1px);clip: rect(1px, 1px, 1px, 1px);height: 1px;margin: -1px;overflow: hidden;padding: 0;position: absolute;width: 1px;}#sk-container-id-1 div.sk-estimator {font-family: monospace;background-color: #f0f8ff;border: 1px dotted black;border-radius: 0.25em;box-sizing: border-box;margin-bottom: 0.5em;}#sk-container-id-1 div.sk-estimator:hover {background-color: #d4ebff;}#sk-container-id-1 div.sk-parallel-item::after {content: \"\";width: 100%;border-bottom: 1px solid gray;flex-grow: 1;}#sk-container-id-1 div.sk-label:hover label.sk-toggleable__label {background-color: #d4ebff;}#sk-container-id-1 div.sk-serial::before {content: \"\";position: absolute;border-left: 1px solid gray;box-sizing: border-box;top: 0;bottom: 0;left: 50%;z-index: 0;}#sk-container-id-1 div.sk-serial {display: flex;flex-direction: column;align-items: center;background-color: white;padding-right: 0.2em;padding-left: 0.2em;position: relative;}#sk-container-id-1 div.sk-item {position: relative;z-index: 1;}#sk-container-id-1 div.sk-parallel {display: flex;align-items: stretch;justify-content: center;background-color: white;position: relative;}#sk-container-id-1 div.sk-item::before, #sk-container-id-1 div.sk-parallel-item::before {content: \"\";position: absolute;border-left: 1px solid gray;box-sizing: border-box;top: 0;bottom: 0;left: 50%;z-index: -1;}#sk-container-id-1 div.sk-parallel-item {display: flex;flex-direction: column;z-index: 1;position: relative;background-color: white;}#sk-container-id-1 div.sk-parallel-item:first-child::after {align-self: flex-end;width: 50%;}#sk-container-id-1 div.sk-parallel-item:last-child::after {align-self: flex-start;width: 50%;}#sk-container-id-1 div.sk-parallel-item:only-child::after {width: 0;}#sk-container-id-1 div.sk-dashed-wrapped {border: 1px dashed gray;margin: 0 0.4em 0.5em 0.4em;box-sizing: border-box;padding-bottom: 0.4em;background-color: white;}#sk-container-id-1 div.sk-label label {font-family: monospace;font-weight: bold;display: inline-block;line-height: 1.2em;}#sk-container-id-1 div.sk-label-container {text-align: center;}#sk-container-id-1 div.sk-container {/* jupyter's `normalize.less` sets `[hidden] { display: none; }` but bootstrap.min.css set `[hidden] { display: none !important; }` so we also need the `!important` here to be able to override the default hidden behavior on the sphinx rendered scikit-learn.org. See: https://github.com/scikit-learn/scikit-learn/issues/21755 */display: inline-block !important;position: relative;}#sk-container-id-1 div.sk-text-repr-fallback {display: none;}</style><div id=\"sk-container-id-1\" class=\"sk-top-container\"><div class=\"sk-text-repr-fallback\"><pre>LinearRegression()</pre><b>In a Jupyter environment, please rerun this cell to show the HTML representation or trust the notebook. <br />On GitHub, the HTML representation is unable to render, please try loading this page with nbviewer.org.</b></div><div class=\"sk-container\" hidden><div class=\"sk-item\"><div class=\"sk-estimator sk-toggleable\"><input class=\"sk-toggleable__control sk-hidden--visually\" id=\"sk-estimator-id-1\" type=\"checkbox\" checked><label for=\"sk-estimator-id-1\" class=\"sk-toggleable__label sk-toggleable__label-arrow\">LinearRegression</label><div class=\"sk-toggleable__content\"><pre>LinearRegression()</pre></div></div></div></div></div>"
      ],
      "text/plain": [
       "LinearRegression()"
      ]
     },
     "execution_count": 34,
     "metadata": {},
     "output_type": "execute_result"
    }
   ],
   "source": [
    "lm = LinearRegression()\n",
    "lm.fit(X,y)"
   ]
  },
  {
   "cell_type": "code",
   "execution_count": 35,
   "id": "e1e0f606",
   "metadata": {
    "execution": {
     "iopub.execute_input": "2024-06-13T21:16:32.953006Z",
     "iopub.status.busy": "2024-06-13T21:16:32.952590Z",
     "iopub.status.idle": "2024-06-13T21:16:33.138075Z",
     "shell.execute_reply": "2024-06-13T21:16:33.136350Z"
    },
    "papermill": {
     "duration": 0.237138,
     "end_time": "2024-06-13T21:16:33.143555",
     "exception": false,
     "start_time": "2024-06-13T21:16:32.906417",
     "status": "completed"
    },
    "tags": []
   },
   "outputs": [
    {
     "data": {
      "text/plain": [
       "array([[41478.50668335],\n",
       "       [15646.14181519],\n",
       "       [16779.60705566],\n",
       "       [51436.94760132],\n",
       "       [ 8594.50393677]])"
      ]
     },
     "execution_count": 35,
     "metadata": {},
     "output_type": "execute_result"
    }
   ],
   "source": [
    "#make predictions\n",
    "yhat = lm.predict(X)\n",
    "yhat[0:5]"
   ]
  },
  {
   "cell_type": "code",
   "execution_count": 36,
   "id": "2ccee15c",
   "metadata": {
    "execution": {
     "iopub.execute_input": "2024-06-13T21:16:33.236756Z",
     "iopub.status.busy": "2024-06-13T21:16:33.235873Z",
     "iopub.status.idle": "2024-06-13T21:16:33.247418Z",
     "shell.execute_reply": "2024-06-13T21:16:33.245709Z"
    },
    "papermill": {
     "duration": 0.064125,
     "end_time": "2024-06-13T21:16:33.252927",
     "exception": false,
     "start_time": "2024-06-13T21:16:33.188802",
     "status": "completed"
    },
    "tags": []
   },
   "outputs": [
    {
     "data": {
      "text/plain": [
       "array([-5.78806342e+10])"
      ]
     },
     "execution_count": 36,
     "metadata": {},
     "output_type": "execute_result"
    }
   ],
   "source": [
    "#find the intercept\n",
    "lm.intercept_"
   ]
  },
  {
   "cell_type": "code",
   "execution_count": 37,
   "id": "2010a76e",
   "metadata": {
    "execution": {
     "iopub.execute_input": "2024-06-13T21:16:33.297326Z",
     "iopub.status.busy": "2024-06-13T21:16:33.296945Z",
     "iopub.status.idle": "2024-06-13T21:16:33.309437Z",
     "shell.execute_reply": "2024-06-13T21:16:33.308301Z"
    },
    "papermill": {
     "duration": 0.037599,
     "end_time": "2024-06-13T21:16:33.311868",
     "exception": false,
     "start_time": "2024-06-13T21:16:33.274269",
     "status": "completed"
    },
    "tags": []
   },
   "outputs": [
    {
     "data": {
      "text/plain": [
       "array([[ 1.04101121e+03, -9.14066169e-02,  5.84567407e+09,\n",
       "         5.84567505e+09,  5.84568304e+09,  5.84567819e+09,\n",
       "         5.84567821e+09,  5.84568112e+09,  5.84567410e+09,\n",
       "         5.84567498e+09,  5.84567648e+09,  5.84567185e+09,\n",
       "         5.84567747e+09,  5.84566276e+09,  5.84567719e+09,\n",
       "         5.84567775e+09,  5.84567416e+09,  5.84567705e+09,\n",
       "         5.84567472e+09,  5.84567595e+09,  5.84567034e+09,\n",
       "         5.84567549e+09,  5.84567664e+09,  5.84567532e+09,\n",
       "         5.84567178e+09,  5.84567836e+09,  5.84567731e+09,\n",
       "         5.84567704e+09,  5.84567577e+09,  5.84568672e+09,\n",
       "         5.84567010e+09,  5.84567890e+09,  5.84571338e+09,\n",
       "         5.84567207e+09,  5.84568160e+09,  5.84568067e+09,\n",
       "         5.84568057e+09,  5.84567180e+09,  5.84567407e+09,\n",
       "         5.84566212e+09,  5.84567739e+09,  5.84568110e+09,\n",
       "         5.84568040e+09,  5.84567911e+09,  5.84569007e+09,\n",
       "         5.84567450e+09,  5.84566869e+09,  5.84567214e+09,\n",
       "         5.84566721e+09,  5.84568089e+09,  5.84567739e+09,\n",
       "         5.84567233e+09,  5.84567475e+09,  8.06180035e+07,\n",
       "         8.06206104e+07,  8.06177487e+07,  8.06169907e+07,\n",
       "         8.06171113e+07,  8.06188426e+07,  8.06179659e+07,\n",
       "         8.06180235e+07,  8.06181467e+07,  8.06231328e+07,\n",
       "         8.06204045e+07,  8.06158169e+07,  8.06181980e+07,\n",
       "         8.06197551e+07,  8.06186571e+07,  8.06237473e+07,\n",
       "         8.06171072e+07,  8.06142525e+07,  8.06142927e+07,\n",
       "         8.06162958e+07,  8.06164768e+07,  8.06147987e+07,\n",
       "         8.06164233e+07,  8.06194436e+07,  8.06258657e+07,\n",
       "         8.06194232e+07,  8.06171684e+07,  8.06166442e+07,\n",
       "         8.06188631e+07,  8.06165918e+07,  8.06197287e+07,\n",
       "         8.06200326e+07,  8.06163812e+07,  8.06229615e+07,\n",
       "         8.06194174e+07,  8.06207792e+07,  8.06208336e+07,\n",
       "         8.06115996e+07,  8.06161987e+07,  8.06227299e+07,\n",
       "         8.06207911e+07,  8.06235168e+07,  8.06228257e+07,\n",
       "         8.06194151e+07,  8.06250553e+07,  8.06200890e+07,\n",
       "         8.06229666e+07,  8.06188363e+07,  8.06298193e+07,\n",
       "         8.06224630e+07,  8.06180881e+07,  8.06253450e+07,\n",
       "         8.06231763e+07,  8.06187183e+07,  8.06190680e+07,\n",
       "         8.06220847e+07,  8.06140118e+07,  8.06184038e+07,\n",
       "         8.06182090e+07,  8.06201403e+07,  8.06209366e+07,\n",
       "         8.06177881e+07,  8.06185835e+07,  8.06190426e+07,\n",
       "         8.06210869e+07,  8.06189889e+07,  8.06201659e+07,\n",
       "         8.06204123e+07,  8.06207019e+07,  8.06194389e+07,\n",
       "         8.06225642e+07,  8.06170937e+07,  8.06195779e+07,\n",
       "         8.06202154e+07,  8.06211863e+07,  8.06140889e+07,\n",
       "         8.06230278e+07,  8.06209702e+07,  8.06179671e+07,\n",
       "         8.06196700e+07,  8.06195325e+07,  8.06208219e+07,\n",
       "         8.06188875e+07,  8.06195870e+07,  8.06197954e+07,\n",
       "         8.06204470e+07,  8.06159837e+07,  8.06243902e+07,\n",
       "         8.06232606e+07,  8.06253635e+07,  8.06201763e+07,\n",
       "         8.06211626e+07,  8.06222105e+07,  8.06187557e+07,\n",
       "         1.77758107e+10,  1.77758044e+10,  1.77758045e+10,\n",
       "         1.77758030e+10,  1.77758036e+10,  1.77758029e+10,\n",
       "         2.24364644e+09,  2.24364270e+09,  2.24364343e+09,\n",
       "         2.24364215e+09,  2.24364784e+09,  2.24364026e+09,\n",
       "         2.24364220e+09,  2.24363909e+09,  2.24364237e+09,\n",
       "         2.24364235e+09,  2.24363714e+09,  2.24363838e+09,\n",
       "         2.24364033e+09,  2.24364216e+09,  2.24364077e+09,\n",
       "         2.24363625e+09,  2.24363645e+09,  2.24363876e+09,\n",
       "         2.24364083e+09,  2.24363894e+09,  2.24363745e+09,\n",
       "         2.24363892e+09,  2.24364420e+09,  2.24364007e+09,\n",
       "         2.24364349e+09,  2.24363880e+09,  2.24364200e+09,\n",
       "         2.24364192e+09,  2.24364267e+09,  2.24364151e+09,\n",
       "         2.24364192e+09,  2.24364261e+09,  2.24363782e+09,\n",
       "         2.24364221e+09,  2.24364277e+09,  2.24364343e+09,\n",
       "         2.24364366e+09,  2.24364030e+09,  2.24364551e+09,\n",
       "         2.24364263e+09,  2.24364459e+09,  2.24364375e+09,\n",
       "         2.24364511e+09,  2.24364131e+09,  2.24363868e+09,\n",
       "         2.24363735e+09,  2.24364256e+09,  2.24364319e+09,\n",
       "         2.24364600e+09,  2.24364523e+09,  2.24363841e+09,\n",
       "         2.24364159e+09,  2.24364135e+09,  2.24363834e+09,\n",
       "         2.24364385e+09,  2.24363979e+09,  2.24364274e+09,\n",
       "         2.24364297e+09,  2.24364585e+09,  2.24364146e+09,\n",
       "         2.24364638e+09,  2.24364404e+09,  2.24364112e+09,\n",
       "         2.24364001e+09,  2.24364366e+09,  2.24364401e+09,\n",
       "         2.24364486e+09,  2.24364830e+09,  2.24364304e+09,\n",
       "         2.24364960e+09,  2.24364201e+09,  2.24364091e+09,\n",
       "         2.24364702e+09,  2.24364802e+09,  2.24365009e+09,\n",
       "         2.24365206e+09,  2.24364374e+09,  2.24364788e+09,\n",
       "         2.24364999e+09,  2.24364374e+09,  2.24364520e+09,\n",
       "         2.24364411e+09,  2.24364538e+09,  2.24364231e+09,\n",
       "         2.24364401e+09,  2.24365007e+09,  2.24365178e+09,\n",
       "         2.24365155e+09,  2.24364707e+09,  2.24364667e+09,\n",
       "         2.24365298e+09,  2.24365205e+09,  2.24365250e+09,\n",
       "         2.24364838e+09,  2.24365266e+09,  2.24364849e+09,\n",
       "         2.24364583e+09,  2.24364218e+09,  2.24364903e+09,\n",
       "         2.24364576e+09,  2.24365268e+09,  2.24365380e+09,\n",
       "         2.24364723e+09,  2.24364949e+09,  2.24364384e+09,\n",
       "         2.24365047e+09,  3.78217503e+09,  3.78217834e+09,\n",
       "         3.78218055e+09,  3.78217532e+09,  3.78217445e+09,\n",
       "         3.78217717e+09,  3.78217654e+09,  3.78217299e+09,\n",
       "         3.78217494e+09,  3.78216962e+09,  3.78217615e+09,\n",
       "         3.78217883e+09,  3.78217640e+09,  3.78217510e+09,\n",
       "         3.78217664e+09,  3.78218764e+09,  3.78217665e+09,\n",
       "         3.78217590e+09,  3.78217501e+09,  3.78217802e+09,\n",
       "         3.78217708e+09,  3.78217403e+09,  3.78217736e+09,\n",
       "         3.78217389e+09,  3.78217284e+09,  3.78217566e+09,\n",
       "         3.78217974e+09,  3.78217505e+09,  3.78217641e+09,\n",
       "         1.38633798e+09,  1.38633921e+09,  1.38633920e+09,\n",
       "         1.38634073e+09,  1.38634105e+09,  1.38633964e+09,\n",
       "         1.38634132e+09,  1.38633808e+09,  1.38633556e+09,\n",
       "         1.38634076e+09,  1.38633946e+09,  1.38634113e+09,\n",
       "         1.38633823e+09,  1.38633874e+09,  1.38633961e+09,\n",
       "         1.38634190e+09,  1.38634030e+09,  1.38633901e+09,\n",
       "         1.38633589e+09,  1.38634057e+09,  1.38633896e+09,\n",
       "         1.38634002e+09,  1.38633938e+09,  1.38633903e+09,\n",
       "         1.38633844e+09,  1.38633961e+09,  1.38633968e+09,\n",
       "         1.38634066e+09,  1.38633817e+09,  1.38633946e+09,\n",
       "         1.38633918e+09,  1.38633869e+09, -5.39041332e+09,\n",
       "        -5.39041216e+09, -5.39041528e+09, -5.39041303e+09,\n",
       "        -5.39041094e+09, -5.39041201e+09, -5.39041696e+09,\n",
       "        -5.39041382e+09, -5.39041662e+09, -5.39040999e+09,\n",
       "        -5.39041365e+09, -5.39041535e+09, -5.39041376e+09,\n",
       "        -5.39041501e+09, -5.39040962e+09, -5.39041207e+09,\n",
       "        -5.39040883e+09, -5.39041294e+09, -5.39041229e+09,\n",
       "        -5.39041332e+09, -5.39041451e+09, -5.39041217e+09,\n",
       "        -5.39040925e+09, -5.39041167e+09, -5.39041456e+09,\n",
       "        -5.39041263e+09, -5.39041289e+09, -5.39041150e+09,\n",
       "        -5.39040618e+09, -5.39040741e+09, -5.39041238e+09,\n",
       "        -5.39041108e+09, -5.39041171e+09, -5.39041626e+09,\n",
       "        -5.39041127e+09, -5.39041149e+09,  3.21547225e+10,\n",
       "         3.21547244e+10]])"
      ]
     },
     "execution_count": 37,
     "metadata": {},
     "output_type": "execute_result"
    }
   ],
   "source": [
    "#find the slope\n",
    "lm.coef_"
   ]
  },
  {
   "cell_type": "code",
   "execution_count": 38,
   "id": "580d65be",
   "metadata": {
    "execution": {
     "iopub.execute_input": "2024-06-13T21:16:33.358708Z",
     "iopub.status.busy": "2024-06-13T21:16:33.357412Z",
     "iopub.status.idle": "2024-06-13T21:16:33.365164Z",
     "shell.execute_reply": "2024-06-13T21:16:33.364044Z"
    },
    "papermill": {
     "duration": 0.033447,
     "end_time": "2024-06-13T21:16:33.367635",
     "exception": false,
     "start_time": "2024-06-13T21:16:33.334188",
     "status": "completed"
    },
    "tags": []
   },
   "outputs": [
    {
     "name": "stdout",
     "output_type": "stream",
     "text": [
      "Mean Squared Error (MSE): 93163025.59848437\n"
     ]
    }
   ],
   "source": [
    "#find the MSE\n",
    "from sklearn.metrics import mean_squared_error\n",
    "\n",
    "# Calculate the mean squared error\n",
    "mse = mean_squared_error(y, yhat)\n",
    "\n",
    "# Print the MSE\n",
    "print(\"Mean Squared Error (MSE):\", mse)\n"
   ]
  },
  {
   "cell_type": "code",
   "execution_count": 39,
   "id": "74dcef1e",
   "metadata": {
    "execution": {
     "iopub.execute_input": "2024-06-13T21:16:33.413691Z",
     "iopub.status.busy": "2024-06-13T21:16:33.413221Z",
     "iopub.status.idle": "2024-06-13T21:16:33.421726Z",
     "shell.execute_reply": "2024-06-13T21:16:33.420106Z"
    },
    "papermill": {
     "duration": 0.034321,
     "end_time": "2024-06-13T21:16:33.424269",
     "exception": false,
     "start_time": "2024-06-13T21:16:33.389948",
     "status": "completed"
    },
    "tags": []
   },
   "outputs": [
    {
     "data": {
      "text/plain": [
       "9652.099543544107"
      ]
     },
     "execution_count": 39,
     "metadata": {},
     "output_type": "execute_result"
    }
   ],
   "source": [
    "#find the RMSE\n",
    "rmse = np.sqrt(mse)\n",
    "rmse"
   ]
  },
  {
   "cell_type": "code",
   "execution_count": 40,
   "id": "1c8ac966",
   "metadata": {
    "execution": {
     "iopub.execute_input": "2024-06-13T21:16:33.470787Z",
     "iopub.status.busy": "2024-06-13T21:16:33.470343Z",
     "iopub.status.idle": "2024-06-13T21:16:33.479563Z",
     "shell.execute_reply": "2024-06-13T21:16:33.478431Z"
    },
    "papermill": {
     "duration": 0.035105,
     "end_time": "2024-06-13T21:16:33.481920",
     "exception": false,
     "start_time": "2024-06-13T21:16:33.446815",
     "status": "completed"
    },
    "tags": []
   },
   "outputs": [
    {
     "data": {
      "text/plain": [
       "0.6073775536095762"
      ]
     },
     "execution_count": 40,
     "metadata": {},
     "output_type": "execute_result"
    }
   ],
   "source": [
    "#find rscore\n",
    "from sklearn.metrics import r2_score\n",
    "r2_score(y, yhat)"
   ]
  }
 ],
 "metadata": {
  "kaggle": {
   "accelerator": "none",
   "dataSources": [
    {
     "datasetId": 5130497,
     "sourceId": 8579062,
     "sourceType": "datasetVersion"
    }
   ],
   "dockerImageVersionId": 30715,
   "isGpuEnabled": false,
   "isInternetEnabled": true,
   "language": "python",
   "sourceType": "notebook"
  },
  "kernelspec": {
   "display_name": "Python 3",
   "language": "python",
   "name": "python3"
  },
  "language_info": {
   "codemirror_mode": {
    "name": "ipython",
    "version": 3
   },
   "file_extension": ".py",
   "mimetype": "text/x-python",
   "name": "python",
   "nbconvert_exporter": "python",
   "pygments_lexer": "ipython3",
   "version": "3.10.13"
  },
  "papermill": {
   "default_parameters": {},
   "duration": 41.66324,
   "end_time": "2024-06-13T21:16:34.126323",
   "environment_variables": {},
   "exception": null,
   "input_path": "__notebook__.ipynb",
   "output_path": "__notebook__.ipynb",
   "parameters": {},
   "start_time": "2024-06-13T21:15:52.463083",
   "version": "2.5.0"
  }
 },
 "nbformat": 4,
 "nbformat_minor": 5
}
