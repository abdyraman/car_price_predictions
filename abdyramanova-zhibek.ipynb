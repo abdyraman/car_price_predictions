{
 "cells": [
  {
   "cell_type": "code",
   "execution_count": 1,
   "id": "c9a7ffdf",
   "metadata": {
    "_cell_guid": "b1076dfc-b9ad-4769-8c92-a6c4dae69d19",
    "_uuid": "8f2839f25d086af736a60e9eeb907d3b93b6e0e5",
    "execution": {
     "iopub.execute_input": "2024-06-18T15:24:57.084402Z",
     "iopub.status.busy": "2024-06-18T15:24:57.083975Z",
     "iopub.status.idle": "2024-06-18T15:24:59.310500Z",
     "shell.execute_reply": "2024-06-18T15:24:59.308941Z"
    },
    "papermill": {
     "duration": 2.247984,
     "end_time": "2024-06-18T15:24:59.313263",
     "exception": false,
     "start_time": "2024-06-18T15:24:57.065279",
     "status": "completed"
    },
    "tags": []
   },
   "outputs": [
    {
     "name": "stdout",
     "output_type": "stream",
     "text": [
      "/kaggle/input/kagglexfellowship/kagglex-cohort4/sample_submission.csv\n",
      "/kaggle/input/kagglexfellowship/kagglex-cohort4/train.csv\n",
      "/kaggle/input/kagglexfellowship/kagglex-cohort4/test.csv\n"
     ]
    }
   ],
   "source": [
    "# This Python 3 environment comes with many helpful analytics libraries installed\n",
    "# It is defined by the kaggle/python Docker image: https://github.com/kaggle/docker-python\n",
    "# For example, here's several helpful packages to load\n",
    "\n",
    "import numpy as np # linear algebra\n",
    "import pandas as pd # data processing, CSV file I/O (e.g. pd.read_csv)\n",
    "import seaborn as sns\n",
    "import matplotlib.pyplot as plt\n",
    "\n",
    "# Input data files are available in the read-only \"../input/\" directory\n",
    "# For example, running this (by clicking run or pressing Shift+Enter) will list all files under the input directory\n",
    "\n",
    "import os\n",
    "for dirname, _, filenames in os.walk('/kaggle/input'):\n",
    "    for filename in filenames:\n",
    "        print(os.path.join(dirname, filename))\n",
    "\n",
    "# You can write up to 20GB to the current directory (/kaggle/working/) that gets preserved as output when you create a version using \"Save & Run All\" \n",
    "# You can also write temporary files to /kaggle/temp/, but they won't be saved outside of the current session"
   ]
  },
  {
   "cell_type": "code",
   "execution_count": 2,
   "id": "3377644e",
   "metadata": {
    "execution": {
     "iopub.execute_input": "2024-06-18T15:24:59.348778Z",
     "iopub.status.busy": "2024-06-18T15:24:59.348247Z",
     "iopub.status.idle": "2024-06-18T15:24:59.846483Z",
     "shell.execute_reply": "2024-06-18T15:24:59.845257Z"
    },
    "papermill": {
     "duration": 0.51907,
     "end_time": "2024-06-18T15:24:59.849303",
     "exception": false,
     "start_time": "2024-06-18T15:24:59.330233",
     "status": "completed"
    },
    "tags": []
   },
   "outputs": [],
   "source": [
    "#  Import and read the data \n",
    "train = pd.read_csv('/kaggle/input/kagglexfellowship/kagglex-cohort4/train.csv')\n",
    "test=pd.read_csv('/kaggle/input/kagglexfellowship/kagglex-cohort4/test.csv')\n",
    "subm=pd.read_csv('/kaggle/input/kagglexfellowship/kagglex-cohort4/sample_submission.csv')\n"
   ]
  },
  {
   "cell_type": "code",
   "execution_count": 3,
   "id": "161dc1b4",
   "metadata": {
    "execution": {
     "iopub.execute_input": "2024-06-18T15:24:59.884582Z",
     "iopub.status.busy": "2024-06-18T15:24:59.884212Z",
     "iopub.status.idle": "2024-06-18T15:24:59.899559Z",
     "shell.execute_reply": "2024-06-18T15:24:59.898345Z"
    },
    "papermill": {
     "duration": 0.035848,
     "end_time": "2024-06-18T15:24:59.901965",
     "exception": false,
     "start_time": "2024-06-18T15:24:59.866117",
     "status": "completed"
    },
    "tags": []
   },
   "outputs": [],
   "source": [
    "#Drop the non-beneficial ID columns and assign ID column as labels\n",
    "def set_index (df):\n",
    "    df.set_index('id', inplace=True)\n",
    "    return df\n",
    "\n",
    "train_df=set_index(train)\n",
    "test_df=set_index(test)"
   ]
  },
  {
   "cell_type": "markdown",
   "id": "99a3da57",
   "metadata": {
    "papermill": {
     "duration": 0.016184,
     "end_time": "2024-06-18T15:24:59.934973",
     "exception": false,
     "start_time": "2024-06-18T15:24:59.918789",
     "status": "completed"
    },
    "tags": []
   },
   "source": [
    "# Data Exploration"
   ]
  },
  {
   "cell_type": "code",
   "execution_count": 4,
   "id": "0bbb1f23",
   "metadata": {
    "execution": {
     "iopub.execute_input": "2024-06-18T15:24:59.970668Z",
     "iopub.status.busy": "2024-06-18T15:24:59.969808Z",
     "iopub.status.idle": "2024-06-18T15:24:59.978968Z",
     "shell.execute_reply": "2024-06-18T15:24:59.978002Z"
    },
    "papermill": {
     "duration": 0.029117,
     "end_time": "2024-06-18T15:24:59.981204",
     "exception": false,
     "start_time": "2024-06-18T15:24:59.952087",
     "status": "completed"
    },
    "tags": []
   },
   "outputs": [
    {
     "data": {
      "text/plain": [
       "brand           object\n",
       "model           object\n",
       "model_year       int64\n",
       "milage           int64\n",
       "fuel_type       object\n",
       "engine          object\n",
       "transmission    object\n",
       "ext_col         object\n",
       "int_col         object\n",
       "accident        object\n",
       "clean_title     object\n",
       "price            int64\n",
       "dtype: object"
      ]
     },
     "execution_count": 4,
     "metadata": {},
     "output_type": "execute_result"
    }
   ],
   "source": [
    "# Checking the datatypes for train dataset\n",
    "train_df.dtypes"
   ]
  },
  {
   "cell_type": "code",
   "execution_count": 5,
   "id": "c65509d6",
   "metadata": {
    "execution": {
     "iopub.execute_input": "2024-06-18T15:25:00.016705Z",
     "iopub.status.busy": "2024-06-18T15:25:00.015727Z",
     "iopub.status.idle": "2024-06-18T15:25:00.024106Z",
     "shell.execute_reply": "2024-06-18T15:25:00.023134Z"
    },
    "papermill": {
     "duration": 0.028725,
     "end_time": "2024-06-18T15:25:00.026544",
     "exception": false,
     "start_time": "2024-06-18T15:24:59.997819",
     "status": "completed"
    },
    "tags": []
   },
   "outputs": [
    {
     "data": {
      "text/plain": [
       "brand           object\n",
       "model           object\n",
       "model_year       int64\n",
       "milage           int64\n",
       "fuel_type       object\n",
       "engine          object\n",
       "transmission    object\n",
       "ext_col         object\n",
       "int_col         object\n",
       "accident        object\n",
       "clean_title     object\n",
       "dtype: object"
      ]
     },
     "execution_count": 5,
     "metadata": {},
     "output_type": "execute_result"
    }
   ],
   "source": [
    "test_df.dtypes"
   ]
  },
  {
   "cell_type": "code",
   "execution_count": 6,
   "id": "ac2843ab",
   "metadata": {
    "execution": {
     "iopub.execute_input": "2024-06-18T15:25:00.061906Z",
     "iopub.status.busy": "2024-06-18T15:25:00.061527Z",
     "iopub.status.idle": "2024-06-18T15:25:00.066755Z",
     "shell.execute_reply": "2024-06-18T15:25:00.065554Z"
    },
    "papermill": {
     "duration": 0.025733,
     "end_time": "2024-06-18T15:25:00.069080",
     "exception": false,
     "start_time": "2024-06-18T15:25:00.043347",
     "status": "completed"
    },
    "tags": []
   },
   "outputs": [],
   "source": [
    "#Determine the number of unique values in each column\n",
    "def dataset_unique_counts(df):\n",
    "    unique_counts = df.nunique()\n",
    "    print(unique_counts)"
   ]
  },
  {
   "cell_type": "code",
   "execution_count": 7,
   "id": "af1c4fb5",
   "metadata": {
    "execution": {
     "iopub.execute_input": "2024-06-18T15:25:00.104888Z",
     "iopub.status.busy": "2024-06-18T15:25:00.104506Z",
     "iopub.status.idle": "2024-06-18T15:25:00.167547Z",
     "shell.execute_reply": "2024-06-18T15:25:00.166425Z"
    },
    "papermill": {
     "duration": 0.084254,
     "end_time": "2024-06-18T15:25:00.170469",
     "exception": false,
     "start_time": "2024-06-18T15:25:00.086215",
     "status": "completed"
    },
    "tags": []
   },
   "outputs": [
    {
     "name": "stdout",
     "output_type": "stream",
     "text": [
      "brand             53\n",
      "model           1827\n",
      "model_year        34\n",
      "milage          3212\n",
      "fuel_type          7\n",
      "engine          1061\n",
      "transmission      46\n",
      "ext_col          260\n",
      "int_col          124\n",
      "accident           2\n",
      "clean_title        1\n",
      "price           1481\n",
      "dtype: int64\n"
     ]
    }
   ],
   "source": [
    "#Unique values for train dataset\n",
    "dataset_unique_counts(train_df)"
   ]
  },
  {
   "cell_type": "code",
   "execution_count": 8,
   "id": "bcf2eb63",
   "metadata": {
    "execution": {
     "iopub.execute_input": "2024-06-18T15:25:00.206993Z",
     "iopub.status.busy": "2024-06-18T15:25:00.206609Z",
     "iopub.status.idle": "2024-06-18T15:25:00.246854Z",
     "shell.execute_reply": "2024-06-18T15:25:00.245451Z"
    },
    "papermill": {
     "duration": 0.061975,
     "end_time": "2024-06-18T15:25:00.249497",
     "exception": false,
     "start_time": "2024-06-18T15:25:00.187522",
     "status": "completed"
    },
    "tags": []
   },
   "outputs": [
    {
     "name": "stdout",
     "output_type": "stream",
     "text": [
      "brand             53\n",
      "model           1791\n",
      "model_year        34\n",
      "milage          2973\n",
      "fuel_type          7\n",
      "engine          1038\n",
      "transmission      44\n",
      "ext_col          230\n",
      "int_col          111\n",
      "accident           2\n",
      "clean_title        1\n",
      "dtype: int64\n"
     ]
    }
   ],
   "source": [
    "#Unique values for test dataset\n",
    "dataset_unique_counts(test_df)"
   ]
  },
  {
   "cell_type": "code",
   "execution_count": 9,
   "id": "4bcdac88",
   "metadata": {
    "execution": {
     "iopub.execute_input": "2024-06-18T15:25:00.286025Z",
     "iopub.status.busy": "2024-06-18T15:25:00.285612Z",
     "iopub.status.idle": "2024-06-18T15:25:00.292477Z",
     "shell.execute_reply": "2024-06-18T15:25:00.291268Z"
    },
    "papermill": {
     "duration": 0.028632,
     "end_time": "2024-06-18T15:25:00.295298",
     "exception": false,
     "start_time": "2024-06-18T15:25:00.266666",
     "status": "completed"
    },
    "tags": []
   },
   "outputs": [],
   "source": [
    "def price_plot(df):\n",
    "    plt.figure(figsize=(8, 6))\n",
    "    sns.stripplot(data=df, y='price', jitter=True, color='purple', alpha=0.5)\n",
    "    plt.title('Strip Plot: Price Distribution')\n",
    "    plt.ylabel('Price')\n",
    "    plt.grid(True)\n",
    "    plt.show()"
   ]
  },
  {
   "cell_type": "code",
   "execution_count": 10,
   "id": "7e437349",
   "metadata": {
    "execution": {
     "iopub.execute_input": "2024-06-18T15:25:00.332243Z",
     "iopub.status.busy": "2024-06-18T15:25:00.331825Z",
     "iopub.status.idle": "2024-06-18T15:25:00.840112Z",
     "shell.execute_reply": "2024-06-18T15:25:00.839004Z"
    },
    "papermill": {
     "duration": 0.529043,
     "end_time": "2024-06-18T15:25:00.842440",
     "exception": false,
     "start_time": "2024-06-18T15:25:00.313397",
     "status": "completed"
    },
    "tags": []
   },
   "outputs": [
    {
     "name": "stderr",
     "output_type": "stream",
     "text": [
      "/opt/conda/lib/python3.10/site-packages/seaborn/_oldcore.py:1119: FutureWarning: use_inf_as_na option is deprecated and will be removed in a future version. Convert inf values to NaN before operating instead.\n",
      "  with pd.option_context('mode.use_inf_as_na', True):\n",
      "/opt/conda/lib/python3.10/site-packages/seaborn/_oldcore.py:1119: FutureWarning: use_inf_as_na option is deprecated and will be removed in a future version. Convert inf values to NaN before operating instead.\n",
      "  with pd.option_context('mode.use_inf_as_na', True):\n",
      "/opt/conda/lib/python3.10/site-packages/seaborn/_oldcore.py:1075: FutureWarning: When grouping with a length-1 list-like, you will need to pass a length-1 tuple to get_group in a future version of pandas. Pass `(name,)` instead of `name` to silence this warning.\n",
      "  data_subset = grouped_data.get_group(pd_key)\n"
     ]
    },
    {
     "data": {
      "image/png": "[encoded data removed]",
      "text/plain": [
       "<Figure size 800x600 with 1 Axes>"
      ]
     },
     "metadata": {},
     "output_type": "display_data"
    }
   ],
   "source": [
    "price_plot(train_df)"
   ]
  },
  {
   "cell_type": "markdown",
   "id": "cbf68f24",
   "metadata": {
    "papermill": {
     "duration": 0.01766,
     "end_time": "2024-06-18T15:25:00.878231",
     "exception": false,
     "start_time": "2024-06-18T15:25:00.860571",
     "status": "completed"
    },
    "tags": []
   },
   "source": [
    "Above Histogram shows that most cars lie in the lower range of price.\n",
    "The above graph has outliers from 0.4 onwards, which need to be removed."
   ]
  },
  {
   "cell_type": "code",
   "execution_count": 11,
   "id": "fc0e697a",
   "metadata": {
    "execution": {
     "iopub.execute_input": "2024-06-18T15:25:00.915241Z",
     "iopub.status.busy": "2024-06-18T15:25:00.914830Z",
     "iopub.status.idle": "2024-06-18T15:25:00.934167Z",
     "shell.execute_reply": "2024-06-18T15:25:00.932965Z"
    },
    "papermill": {
     "duration": 0.040862,
     "end_time": "2024-06-18T15:25:00.936659",
     "exception": false,
     "start_time": "2024-06-18T15:25:00.895797",
     "status": "completed"
    },
    "tags": []
   },
   "outputs": [
    {
     "data": {
      "text/plain": [
       "count    5.427300e+04\n",
       "mean     3.921844e+04\n",
       "std      7.282634e+04\n",
       "min      2.000000e+03\n",
       "25%      1.550000e+04\n",
       "50%      2.800000e+04\n",
       "75%      4.500000e+04\n",
       "max      2.954083e+06\n",
       "Name: price, dtype: float64"
      ]
     },
     "execution_count": 11,
     "metadata": {},
     "output_type": "execute_result"
    }
   ],
   "source": [
    "#Train data needs to be cleaned from outliers\n",
    "train_df['price'].describe()\n"
   ]
  },
  {
   "cell_type": "code",
   "execution_count": 12,
   "id": "7d7ed43b",
   "metadata": {
    "execution": {
     "iopub.execute_input": "2024-06-18T15:25:00.974135Z",
     "iopub.status.busy": "2024-06-18T15:25:00.973760Z",
     "iopub.status.idle": "2024-06-18T15:25:00.984248Z",
     "shell.execute_reply": "2024-06-18T15:25:00.983034Z"
    },
    "papermill": {
     "duration": 0.032113,
     "end_time": "2024-06-18T15:25:00.986627",
     "exception": false,
     "start_time": "2024-06-18T15:25:00.954514",
     "status": "completed"
    },
    "tags": []
   },
   "outputs": [
    {
     "name": "stdout",
     "output_type": "stream",
     "text": [
      "29500.0\n"
     ]
    }
   ],
   "source": [
    "#identify and remove outliers from the data df in relation to price column using IQR method\n",
    "Q1 = train_df['price'].quantile(0.25)\n",
    "Q3 = train_df['price'].quantile(0.75)\n",
    "IQR = Q3 - Q1\n",
    "print(IQR)"
   ]
  },
  {
   "cell_type": "code",
   "execution_count": 13,
   "id": "ea722142",
   "metadata": {
    "execution": {
     "iopub.execute_input": "2024-06-18T15:25:01.026069Z",
     "iopub.status.busy": "2024-06-18T15:25:01.025707Z",
     "iopub.status.idle": "2024-06-18T15:25:01.041675Z",
     "shell.execute_reply": "2024-06-18T15:25:01.040711Z"
    },
    "papermill": {
     "duration": 0.039102,
     "end_time": "2024-06-18T15:25:01.044060",
     "exception": false,
     "start_time": "2024-06-18T15:25:01.004958",
     "status": "completed"
    },
    "tags": []
   },
   "outputs": [
    {
     "data": {
      "text/plain": [
       "(47678, 12)"
      ]
     },
     "execution_count": 13,
     "metadata": {},
     "output_type": "execute_result"
    }
   ],
   "source": [
    "#use IQR value to filter out the outliers\n",
    "outliersfree_df = train_df[~((train_df['price'] < (Q1 - 1.5 * IQR)) |(train_df['price'] > (Q3 + 0.7 * IQR)))]\n",
    "outliersfree_df.shape"
   ]
  },
  {
   "cell_type": "markdown",
   "id": "a87bd4ac",
   "metadata": {
    "papermill": {
     "duration": 0.017702,
     "end_time": "2024-06-18T15:25:01.079910",
     "exception": false,
     "start_time": "2024-06-18T15:25:01.062208",
     "status": "completed"
    },
    "tags": []
   },
   "source": [
    "The above plot looks more homogeneous than the previous one after removal of outliers."
   ]
  },
  {
   "cell_type": "code",
   "execution_count": 14,
   "id": "a0940d0b",
   "metadata": {
    "execution": {
     "iopub.execute_input": "2024-06-18T15:25:01.118170Z",
     "iopub.status.busy": "2024-06-18T15:25:01.117800Z",
     "iopub.status.idle": "2024-06-18T15:25:01.130968Z",
     "shell.execute_reply": "2024-06-18T15:25:01.129968Z"
    },
    "papermill": {
     "duration": 0.035176,
     "end_time": "2024-06-18T15:25:01.133404",
     "exception": false,
     "start_time": "2024-06-18T15:25:01.098228",
     "status": "completed"
    },
    "tags": []
   },
   "outputs": [
    {
     "data": {
      "text/plain": [
       "count    47678.000000\n",
       "mean     26943.079219\n",
       "std      15404.132778\n",
       "min       2000.000000\n",
       "25%      14500.000000\n",
       "50%      24900.000000\n",
       "75%      37475.500000\n",
       "max      65500.000000\n",
       "Name: price, dtype: float64"
      ]
     },
     "execution_count": 14,
     "metadata": {},
     "output_type": "execute_result"
    }
   ],
   "source": [
    "#Train data needs to be cleaned from outliers\n",
    "outliersfree_df['price'].describe()"
   ]
  },
  {
   "cell_type": "markdown",
   "id": "e272d74f",
   "metadata": {
    "papermill": {
     "duration": 0.018358,
     "end_time": "2024-06-18T15:25:01.170384",
     "exception": false,
     "start_time": "2024-06-18T15:25:01.152026",
     "status": "completed"
    },
    "tags": []
   },
   "source": [
    "# **Data wrangling**"
   ]
  },
  {
   "cell_type": "markdown",
   "id": "f5b1838b",
   "metadata": {
    "papermill": {
     "duration": 0.017981,
     "end_time": "2024-06-18T15:25:01.206919",
     "exception": false,
     "start_time": "2024-06-18T15:25:01.188938",
     "status": "completed"
    },
    "tags": []
   },
   "source": [
    "I will reduce the number of features in string data categories, and will remain the numeric categories as they are."
   ]
  },
  {
   "cell_type": "code",
   "execution_count": 15,
   "id": "082ca2db",
   "metadata": {
    "execution": {
     "iopub.execute_input": "2024-06-18T15:25:01.245304Z",
     "iopub.status.busy": "2024-06-18T15:25:01.244899Z",
     "iopub.status.idle": "2024-06-18T15:25:01.296220Z",
     "shell.execute_reply": "2024-06-18T15:25:01.294861Z"
    },
    "papermill": {
     "duration": 0.073468,
     "end_time": "2024-06-18T15:25:01.298758",
     "exception": false,
     "start_time": "2024-06-18T15:25:01.225290",
     "status": "completed"
    },
    "tags": []
   },
   "outputs": [
    {
     "name": "stdout",
     "output_type": "stream",
     "text": [
      "brand             51\n",
      "model           1795\n",
      "model_year        34\n",
      "milage          3093\n",
      "fuel_type          7\n",
      "engine          1045\n",
      "transmission      43\n",
      "ext_col          245\n",
      "int_col          118\n",
      "accident           2\n",
      "clean_title        1\n",
      "price           1108\n",
      "dtype: int64\n"
     ]
    }
   ],
   "source": [
    "#Determine the number of unique values in each column.\n",
    "dataset_unique_counts(outliersfree_df)"
   ]
  },
  {
   "cell_type": "code",
   "execution_count": 16,
   "id": "8c565412",
   "metadata": {
    "execution": {
     "iopub.execute_input": "2024-06-18T15:25:01.339242Z",
     "iopub.status.busy": "2024-06-18T15:25:01.338827Z",
     "iopub.status.idle": "2024-06-18T15:25:01.379815Z",
     "shell.execute_reply": "2024-06-18T15:25:01.378599Z"
    },
    "papermill": {
     "duration": 0.064507,
     "end_time": "2024-06-18T15:25:01.382604",
     "exception": false,
     "start_time": "2024-06-18T15:25:01.318097",
     "status": "completed"
    },
    "tags": []
   },
   "outputs": [
    {
     "name": "stdout",
     "output_type": "stream",
     "text": [
      "brand             53\n",
      "model           1791\n",
      "model_year        34\n",
      "milage          2973\n",
      "fuel_type          7\n",
      "engine          1038\n",
      "transmission      44\n",
      "ext_col          230\n",
      "int_col          111\n",
      "accident           2\n",
      "clean_title        1\n",
      "dtype: int64\n"
     ]
    }
   ],
   "source": [
    "#Determine the number of unique values in each column.\n",
    "dataset_unique_counts(test_df)"
   ]
  },
  {
   "cell_type": "markdown",
   "id": "68450719",
   "metadata": {
    "papermill": {
     "duration": 0.018485,
     "end_time": "2024-06-18T15:25:01.420099",
     "exception": false,
     "start_time": "2024-06-18T15:25:01.401614",
     "status": "completed"
    },
    "tags": []
   },
   "source": [
    "***Model cleaning***"
   ]
  },
  {
   "cell_type": "code",
   "execution_count": 17,
   "id": "1121e1b6",
   "metadata": {
    "execution": {
     "iopub.execute_input": "2024-06-18T15:25:01.525717Z",
     "iopub.status.busy": "2024-06-18T15:25:01.525319Z",
     "iopub.status.idle": "2024-06-18T15:25:01.531026Z",
     "shell.execute_reply": "2024-06-18T15:25:01.529934Z"
    },
    "papermill": {
     "duration": 0.094327,
     "end_time": "2024-06-18T15:25:01.533452",
     "exception": false,
     "start_time": "2024-06-18T15:25:01.439125",
     "status": "completed"
    },
    "tags": []
   },
   "outputs": [],
   "source": [
    "# Value counts function \n",
    "def feature_value_counts(df, column_name):\n",
    "    value_counts = df[column_name].value_counts()\n",
    "    return value_counts"
   ]
  },
  {
   "cell_type": "markdown",
   "id": "38193d89",
   "metadata": {
    "papermill": {
     "duration": 0.018453,
     "end_time": "2024-06-18T15:25:01.570902",
     "exception": false,
     "start_time": "2024-06-18T15:25:01.552449",
     "status": "completed"
    },
    "tags": []
   },
   "source": [
    "Brand feature"
   ]
  },
  {
   "cell_type": "code",
   "execution_count": 18,
   "id": "52784bf3",
   "metadata": {
    "execution": {
     "iopub.execute_input": "2024-06-18T15:25:01.610786Z",
     "iopub.status.busy": "2024-06-18T15:25:01.610005Z",
     "iopub.status.idle": "2024-06-18T15:25:01.989734Z",
     "shell.execute_reply": "2024-06-18T15:25:01.988600Z"
    },
    "papermill": {
     "duration": 0.403,
     "end_time": "2024-06-18T15:25:01.992793",
     "exception": false,
     "start_time": "2024-06-18T15:25:01.589793",
     "status": "completed"
    },
    "tags": []
   },
   "outputs": [],
   "source": [
    "brand_counts_train = feature_value_counts(outliersfree_df, 'brand')\n",
    "brand_counts_test = feature_value_counts(test_df, 'brand')\n",
    "\n",
    "cutoff_value = 400 # Keep if database has 451 and more records of this car model\n",
    "brand_types_to_replace = brand_counts_train[brand_counts_train < cutoff_value].index\n",
    "\n",
    "# Replace models in the training dataframe\n",
    "for brand_c in brand_types_to_replace:\n",
    "    outliersfree_df.loc[outliersfree_df['brand'] == brand_c, 'brand'] = \"Other\"\n",
    "\n",
    "# Apply the same replacements to the test dataframe\n",
    "test_df.loc[test_df['brand'].isin(brand_types_to_replace), 'brand'] = \"Other\"\n",
    "test_df.loc[~test_df['brand'].isin(outliersfree_df['brand'].unique()), 'brand'] = \"Other\"\n",
    "\n",
    "# Check the updated value counts\n",
    "brand_counts_train_updated = outliersfree_df['brand'].value_counts()\n",
    "brand_counts_test_updated = test_df['brand'].value_counts()\n"
   ]
  },
  {
   "cell_type": "markdown",
   "id": "b42c9ea6",
   "metadata": {
    "papermill": {
     "duration": 0.019026,
     "end_time": "2024-06-18T15:25:02.030923",
     "exception": false,
     "start_time": "2024-06-18T15:25:02.011897",
     "status": "completed"
    },
    "tags": []
   },
   "source": [
    "*Model feature*"
   ]
  },
  {
   "cell_type": "code",
   "execution_count": 19,
   "id": "3cddfb93",
   "metadata": {
    "execution": {
     "iopub.execute_input": "2024-06-18T15:25:02.070694Z",
     "iopub.status.busy": "2024-06-18T15:25:02.070293Z",
     "iopub.status.idle": "2024-06-18T15:25:19.272373Z",
     "shell.execute_reply": "2024-06-18T15:25:19.271327Z"
    },
    "papermill": {
     "duration": 17.225302,
     "end_time": "2024-06-18T15:25:19.275237",
     "exception": false,
     "start_time": "2024-06-18T15:25:02.049935",
     "status": "completed"
    },
    "tags": []
   },
   "outputs": [],
   "source": [
    "model_counts_train = feature_value_counts(outliersfree_df, 'model')\n",
    "model_counts_test = feature_value_counts(test_df, 'model')\n",
    "\n",
    "cutoff_value = 400 # Keep if database has 451 and more records of this car model\n",
    "model_types_to_replace = model_counts_train[model_counts_train < cutoff_value].index\n",
    "\n",
    "# Replace models in the training dataframe\n",
    "for model_c in model_types_to_replace:\n",
    "    outliersfree_df.loc[outliersfree_df['model'] == model_c, 'model'] = \"Other\"\n",
    "\n",
    "# Apply the same replacements to the test dataframe\n",
    "test_df.loc[test_df['model'].isin(model_types_to_replace), 'model'] = \"Other\"\n",
    "test_df.loc[~test_df['model'].isin(outliersfree_df['model'].unique()), 'model'] = \"Other\"\n",
    "\n",
    "# Check the updated value counts\n",
    "model_counts_train_updated = outliersfree_df['model'].value_counts()\n",
    "model_counts_test_updated = test_df['model'].value_counts()\n"
   ]
  },
  {
   "cell_type": "markdown",
   "id": "940e121e",
   "metadata": {
    "papermill": {
     "duration": 0.018501,
     "end_time": "2024-06-18T15:25:19.312968",
     "exception": false,
     "start_time": "2024-06-18T15:25:19.294467",
     "status": "completed"
    },
    "tags": []
   },
   "source": [
    "*Fuel feature*"
   ]
  },
  {
   "cell_type": "code",
   "execution_count": 20,
   "id": "924c3f82",
   "metadata": {
    "execution": {
     "iopub.execute_input": "2024-06-18T15:25:19.352473Z",
     "iopub.status.busy": "2024-06-18T15:25:19.352012Z",
     "iopub.status.idle": "2024-06-18T15:25:19.358474Z",
     "shell.execute_reply": "2024-06-18T15:25:19.357241Z"
    },
    "papermill": {
     "duration": 0.029386,
     "end_time": "2024-06-18T15:25:19.361151",
     "exception": false,
     "start_time": "2024-06-18T15:25:19.331765",
     "status": "completed"
    },
    "tags": []
   },
   "outputs": [],
   "source": [
    "# Replace '–' with 'Other' in the 'fuel_type' column\n",
    "def cleaning_not_supported_and_dashes(df):\n",
    "    # Replace unsupported dashes with 'Other'\n",
    "    df.loc[df['fuel_type'] == '–', 'fuel_type'] = 'Other'\n",
    "    # Remove rows where 'fuel_type' is 'not supported'\n",
    "    cleaned_df = df[df['fuel_type'] != 'not supported']\n",
    "    # Calculate and return the value counts of the cleaned 'fuel_type' column\n",
    "    fuel_counts = cleaned_df['fuel_type'].value_counts()\n",
    "    return cleaned_df"
   ]
  },
  {
   "cell_type": "code",
   "execution_count": 21,
   "id": "37972b2b",
   "metadata": {
    "execution": {
     "iopub.execute_input": "2024-06-18T15:25:19.401116Z",
     "iopub.status.busy": "2024-06-18T15:25:19.400723Z",
     "iopub.status.idle": "2024-06-18T15:25:19.448164Z",
     "shell.execute_reply": "2024-06-18T15:25:19.447093Z"
    },
    "papermill": {
     "duration": 0.070244,
     "end_time": "2024-06-18T15:25:19.450733",
     "exception": false,
     "start_time": "2024-06-18T15:25:19.380489",
     "status": "completed"
    },
    "tags": []
   },
   "outputs": [
    {
     "data": {
      "text/plain": [
       "fuel_type\n",
       "Gasoline          43613\n",
       "E85 Flex Fuel      1435\n",
       "Hybrid             1323\n",
       "Diesel              889\n",
       "Other               266\n",
       "Plug-In Hybrid      148\n",
       "Name: count, dtype: int64"
      ]
     },
     "execution_count": 21,
     "metadata": {},
     "output_type": "execute_result"
    }
   ],
   "source": [
    "cleaned_train=cleaning_not_supported_and_dashes(outliersfree_df)\n",
    "feature_value_counts(cleaned_train, 'fuel_type')\n"
   ]
  },
  {
   "cell_type": "code",
   "execution_count": 22,
   "id": "e58b410c",
   "metadata": {
    "execution": {
     "iopub.execute_input": "2024-06-18T15:25:19.491119Z",
     "iopub.status.busy": "2024-06-18T15:25:19.490705Z",
     "iopub.status.idle": "2024-06-18T15:25:19.531658Z",
     "shell.execute_reply": "2024-06-18T15:25:19.530439Z"
    },
    "papermill": {
     "duration": 0.064432,
     "end_time": "2024-06-18T15:25:19.534111",
     "exception": false,
     "start_time": "2024-06-18T15:25:19.469679",
     "status": "completed"
    },
    "tags": []
   },
   "outputs": [
    {
     "data": {
      "text/plain": [
       "fuel_type\n",
       "Gasoline          33033\n",
       "Hybrid             1112\n",
       "E85 Flex Fuel      1018\n",
       "Diesel              671\n",
       "Other               197\n",
       "Plug-In Hybrid      148\n",
       "Name: count, dtype: int64"
      ]
     },
     "execution_count": 22,
     "metadata": {},
     "output_type": "execute_result"
    }
   ],
   "source": [
    "cleaned_test=cleaning_not_supported_and_dashes(test_df)\n",
    "feature_value_counts(cleaned_test, 'fuel_type')\n"
   ]
  },
  {
   "cell_type": "markdown",
   "id": "9ba2fcf7",
   "metadata": {
    "papermill": {
     "duration": 0.019509,
     "end_time": "2024-06-18T15:25:19.575321",
     "exception": false,
     "start_time": "2024-06-18T15:25:19.555812",
     "status": "completed"
    },
    "tags": []
   },
   "source": [
    "*Engine feature*"
   ]
  },
  {
   "cell_type": "code",
   "execution_count": 23,
   "id": "726609a4",
   "metadata": {
    "execution": {
     "iopub.execute_input": "2024-06-18T15:25:19.616262Z",
     "iopub.status.busy": "2024-06-18T15:25:19.615825Z",
     "iopub.status.idle": "2024-06-18T15:25:29.499154Z",
     "shell.execute_reply": "2024-06-18T15:25:29.498151Z"
    },
    "papermill": {
     "duration": 9.906931,
     "end_time": "2024-06-18T15:25:29.501922",
     "exception": false,
     "start_time": "2024-06-18T15:25:19.594991",
     "status": "completed"
    },
    "tags": []
   },
   "outputs": [],
   "source": [
    "#Reducing the features unique values\n",
    "engine_counts_train = feature_value_counts(cleaned_train, 'engine')\n",
    "engine_counts_test = feature_value_counts(cleaned_test, 'engine')\n",
    "\n",
    "cutoff_value = 400 # Keep if database has 451 and more records of this car model\n",
    "engine_types_to_replace = engine_counts_train[engine_counts_train < cutoff_value].index\n",
    "\n",
    "# Replace models in the training dataframe\n",
    "for engine_c in engine_types_to_replace:\n",
    "    cleaned_train.loc[cleaned_train['engine'] == engine_c, 'engine'] = \"Other\"\n",
    "\n",
    "# Apply the same replacements to the test dataframe\n",
    "cleaned_test.loc[cleaned_test['engine'].isin(engine_types_to_replace), 'engine'] = \"Other\"\n",
    "cleaned_test.loc[~cleaned_test['engine'].isin(cleaned_train['engine'].unique()), 'engine'] = \"Other\"\n",
    "\n",
    "# Check the updated value counts\n",
    "engine_counts_train_updated = cleaned_train['engine'].value_counts()\n",
    "engine_counts_test_updated = cleaned_test['engine'].value_counts()\n"
   ]
  },
  {
   "cell_type": "markdown",
   "id": "3725a939",
   "metadata": {
    "papermill": {
     "duration": 0.018594,
     "end_time": "2024-06-18T15:25:29.539531",
     "exception": false,
     "start_time": "2024-06-18T15:25:29.520937",
     "status": "completed"
    },
    "tags": []
   },
   "source": [
    "*Transmission feature*"
   ]
  },
  {
   "cell_type": "code",
   "execution_count": 24,
   "id": "e5afedd1",
   "metadata": {
    "execution": {
     "iopub.execute_input": "2024-06-18T15:25:29.579138Z",
     "iopub.status.busy": "2024-06-18T15:25:29.578742Z",
     "iopub.status.idle": "2024-06-18T15:25:29.862976Z",
     "shell.execute_reply": "2024-06-18T15:25:29.861993Z"
    },
    "papermill": {
     "duration": 0.307398,
     "end_time": "2024-06-18T15:25:29.865814",
     "exception": false,
     "start_time": "2024-06-18T15:25:29.558416",
     "status": "completed"
    },
    "tags": []
   },
   "outputs": [],
   "source": [
    "#Reducing the features unique values\n",
    "trans_counts_train = feature_value_counts(cleaned_train, 'transmission')\n",
    "trans_counts_test = feature_value_counts(cleaned_test, 'transmission')\n",
    "\n",
    "cutoff_value = 100 # Keep if database has 451 and more records of this car model\n",
    "trans_types_to_replace = trans_counts_train[trans_counts_train < cutoff_value].index\n",
    "\n",
    "# Replace models in the training dataframe\n",
    "for trans_c in trans_types_to_replace:\n",
    "    cleaned_train.loc[cleaned_train['transmission'] == trans_c, 'transmission'] = \"Other\"\n",
    "\n",
    "# Apply the same replacements to the test dataframe\n",
    "cleaned_test.loc[cleaned_test['transmission'].isin(trans_types_to_replace), 'transmission'] = \"Other\"\n",
    "cleaned_test.loc[~cleaned_test['transmission'].isin(cleaned_train['transmission'].unique()), 'transmission'] = \"Other\"\n",
    "\n",
    "# Check the updated value counts\n",
    "trans_counts_train_updated = cleaned_train['transmission'].value_counts()\n",
    "trans_counts_test_updated = cleaned_test['transmission'].value_counts()\n"
   ]
  },
  {
   "cell_type": "markdown",
   "id": "961a5283",
   "metadata": {
    "papermill": {
     "duration": 0.018584,
     "end_time": "2024-06-18T15:25:29.903394",
     "exception": false,
     "start_time": "2024-06-18T15:25:29.884810",
     "status": "completed"
    },
    "tags": []
   },
   "source": [
    "*External colour feature*"
   ]
  },
  {
   "cell_type": "code",
   "execution_count": 25,
   "id": "ba3fdde4",
   "metadata": {
    "execution": {
     "iopub.execute_input": "2024-06-18T15:25:29.943010Z",
     "iopub.status.busy": "2024-06-18T15:25:29.942642Z",
     "iopub.status.idle": "2024-06-18T15:25:32.239281Z",
     "shell.execute_reply": "2024-06-18T15:25:32.238336Z"
    },
    "papermill": {
     "duration": 2.319504,
     "end_time": "2024-06-18T15:25:32.241950",
     "exception": false,
     "start_time": "2024-06-18T15:25:29.922446",
     "status": "completed"
    },
    "tags": []
   },
   "outputs": [],
   "source": [
    "#Reducing the features unique values\n",
    "ext_col_counts_train = feature_value_counts(cleaned_train, 'ext_col')\n",
    "ext_col_counts_test = feature_value_counts(cleaned_test, 'ext_col')\n",
    "\n",
    "cutoff_value = 1000 # Keep if database has 451 and more records of this car model\n",
    "ext_col_types_to_replace =ext_col_counts_train[ext_col_counts_train < cutoff_value].index\n",
    "\n",
    "# Replace models in the training dataframe\n",
    "for ext_col_c in ext_col_types_to_replace:\n",
    "    cleaned_train.loc[cleaned_train['ext_col'] == ext_col_c, 'ext_col'] = \"Other\"\n",
    "\n",
    "# Apply the same replacements to the test dataframe\n",
    "cleaned_test.loc[cleaned_test['ext_col'].isin(ext_col_types_to_replace), 'ext_col'] = \"Other\"\n",
    "cleaned_test.loc[~cleaned_test['ext_col'].isin(cleaned_train['ext_col'].unique()), 'ext_col'] = \"Other\"\n",
    "\n",
    "# Check the updated value counts\n",
    "ext_col_counts_train_updated = cleaned_train['ext_col'].value_counts()\n",
    "ext_col_counts_test_updated = cleaned_test['ext_col'].value_counts()"
   ]
  },
  {
   "cell_type": "markdown",
   "id": "cc65bcf0",
   "metadata": {
    "papermill": {
     "duration": 0.018676,
     "end_time": "2024-06-18T15:25:32.280505",
     "exception": false,
     "start_time": "2024-06-18T15:25:32.261829",
     "status": "completed"
    },
    "tags": []
   },
   "source": [
    "*Internal colour feature*"
   ]
  },
  {
   "cell_type": "code",
   "execution_count": 26,
   "id": "c05c3146",
   "metadata": {
    "execution": {
     "iopub.execute_input": "2024-06-18T15:25:32.320237Z",
     "iopub.status.busy": "2024-06-18T15:25:32.319722Z",
     "iopub.status.idle": "2024-06-18T15:25:33.460525Z",
     "shell.execute_reply": "2024-06-18T15:25:33.459127Z"
    },
    "papermill": {
     "duration": 1.164143,
     "end_time": "2024-06-18T15:25:33.463549",
     "exception": false,
     "start_time": "2024-06-18T15:25:32.299406",
     "status": "completed"
    },
    "tags": []
   },
   "outputs": [],
   "source": [
    "#Reducing the features unique values\n",
    "int_col_counts_train = feature_value_counts(cleaned_train, 'int_col')\n",
    "int_col_counts_test = feature_value_counts(cleaned_test, 'int_col')\n",
    "\n",
    "cutoff_value = 1050 # Keep if database has 451 and more records of this car model\n",
    "int_col_types_to_replace =int_col_counts_train[int_col_counts_train < cutoff_value].index\n",
    "\n",
    "# Replace models in the training dataframe\n",
    "for int_col_c in int_col_types_to_replace:\n",
    "    cleaned_train.loc[cleaned_train['int_col'] == int_col_c, 'int_col'] = \"Other\"\n",
    "\n",
    "# Apply the same replacements to the test dataframe\n",
    "cleaned_test.loc[cleaned_test['int_col'].isin(int_col_types_to_replace), 'int_col'] = \"Other\"\n",
    "cleaned_test.loc[~cleaned_test['int_col'].isin(cleaned_train['int_col'].unique()), 'int_col'] = \"Other\"\n",
    "\n",
    "# Check the updated value counts\n",
    "int_col_counts_train_updated = cleaned_train['int_col'].value_counts()\n",
    "int_col_counts_test_updated = cleaned_test['int_col'].value_counts()"
   ]
  },
  {
   "cell_type": "markdown",
   "id": "8107cba1",
   "metadata": {
    "papermill": {
     "duration": 0.018915,
     "end_time": "2024-06-18T15:25:33.501684",
     "exception": false,
     "start_time": "2024-06-18T15:25:33.482769",
     "status": "completed"
    },
    "tags": []
   },
   "source": [
    "*Drop clean title that has only one value 'clean_title'*"
   ]
  },
  {
   "cell_type": "code",
   "execution_count": 27,
   "id": "ab867c36",
   "metadata": {
    "execution": {
     "iopub.execute_input": "2024-06-18T15:25:33.541442Z",
     "iopub.status.busy": "2024-06-18T15:25:33.541013Z",
     "iopub.status.idle": "2024-06-18T15:25:33.558767Z",
     "shell.execute_reply": "2024-06-18T15:25:33.557659Z"
    },
    "papermill": {
     "duration": 0.04078,
     "end_time": "2024-06-18T15:25:33.561506",
     "exception": false,
     "start_time": "2024-06-18T15:25:33.520726",
     "status": "completed"
    },
    "tags": []
   },
   "outputs": [],
   "source": [
    "#The last column \"Clean_title\" is the same \"Yes\" answer for all rows, that gives no value to analysis. \n",
    "#Drop this column.\n",
    "final_train=cleaned_train.drop(columns=['clean_title'])\n",
    "final_test=cleaned_test.drop(columns=['clean_title'])\n"
   ]
  },
  {
   "cell_type": "code",
   "execution_count": 28,
   "id": "95e6a556",
   "metadata": {
    "execution": {
     "iopub.execute_input": "2024-06-18T15:25:33.602566Z",
     "iopub.status.busy": "2024-06-18T15:25:33.602047Z",
     "iopub.status.idle": "2024-06-18T15:25:33.646400Z",
     "shell.execute_reply": "2024-06-18T15:25:33.644811Z"
    },
    "papermill": {
     "duration": 0.068346,
     "end_time": "2024-06-18T15:25:33.649011",
     "exception": false,
     "start_time": "2024-06-18T15:25:33.580665",
     "status": "completed"
    },
    "tags": []
   },
   "outputs": [
    {
     "name": "stdout",
     "output_type": "stream",
     "text": [
      "brand             27\n",
      "model              6\n",
      "model_year        34\n",
      "milage          3093\n",
      "fuel_type          6\n",
      "engine            18\n",
      "transmission      19\n",
      "ext_col            7\n",
      "int_col            6\n",
      "accident           2\n",
      "price           1108\n",
      "dtype: int64\n"
     ]
    }
   ],
   "source": [
    "dataset_unique_counts(final_train)"
   ]
  },
  {
   "cell_type": "code",
   "execution_count": 29,
   "id": "c6713019",
   "metadata": {
    "execution": {
     "iopub.execute_input": "2024-06-18T15:25:33.689143Z",
     "iopub.status.busy": "2024-06-18T15:25:33.688745Z",
     "iopub.status.idle": "2024-06-18T15:25:33.723094Z",
     "shell.execute_reply": "2024-06-18T15:25:33.721681Z"
    },
    "papermill": {
     "duration": 0.057733,
     "end_time": "2024-06-18T15:25:33.725818",
     "exception": false,
     "start_time": "2024-06-18T15:25:33.668085",
     "status": "completed"
    },
    "tags": []
   },
   "outputs": [
    {
     "name": "stdout",
     "output_type": "stream",
     "text": [
      "brand             27\n",
      "model              6\n",
      "model_year        34\n",
      "milage          2973\n",
      "fuel_type          6\n",
      "engine            18\n",
      "transmission      19\n",
      "ext_col            7\n",
      "int_col            6\n",
      "accident           2\n",
      "dtype: int64\n"
     ]
    }
   ],
   "source": [
    "dataset_unique_counts(final_test)"
   ]
  },
  {
   "cell_type": "markdown",
   "id": "4e534fce",
   "metadata": {
    "papermill": {
     "duration": 0.019032,
     "end_time": "2024-06-18T15:25:33.764304",
     "exception": false,
     "start_time": "2024-06-18T15:25:33.745272",
     "status": "completed"
    },
    "tags": []
   },
   "source": [
    "***Liner Regression***"
   ]
  },
  {
   "cell_type": "code",
   "execution_count": 30,
   "id": "a25d11d2",
   "metadata": {
    "execution": {
     "iopub.execute_input": "2024-06-18T15:25:33.805711Z",
     "iopub.status.busy": "2024-06-18T15:25:33.805279Z",
     "iopub.status.idle": "2024-06-18T15:25:34.155163Z",
     "shell.execute_reply": "2024-06-18T15:25:34.154072Z"
    },
    "papermill": {
     "duration": 0.374502,
     "end_time": "2024-06-18T15:25:34.158118",
     "exception": false,
     "start_time": "2024-06-18T15:25:33.783616",
     "status": "completed"
    },
    "tags": []
   },
   "outputs": [],
   "source": [
    "from sklearn.linear_model import LinearRegression"
   ]
  },
  {
   "cell_type": "code",
   "execution_count": 31,
   "id": "e268c267",
   "metadata": {
    "execution": {
     "iopub.execute_input": "2024-06-18T15:25:34.198716Z",
     "iopub.status.busy": "2024-06-18T15:25:34.198304Z",
     "iopub.status.idle": "2024-06-18T15:25:34.282152Z",
     "shell.execute_reply": "2024-06-18T15:25:34.281021Z"
    },
    "papermill": {
     "duration": 0.106908,
     "end_time": "2024-06-18T15:25:34.284729",
     "exception": false,
     "start_time": "2024-06-18T15:25:34.177821",
     "status": "completed"
    },
    "tags": []
   },
   "outputs": [
    {
     "data": {
      "text/plain": [
       "(47674, 94)"
      ]
     },
     "execution_count": 31,
     "metadata": {},
     "output_type": "execute_result"
    }
   ],
   "source": [
    "# Convert categorical data to numeric with `pd.get_dummies`\n",
    "X = pd.get_dummies(final_train)\n",
    "X.shape\n"
   ]
  },
  {
   "cell_type": "code",
   "execution_count": 32,
   "id": "0816c0cf",
   "metadata": {
    "execution": {
     "iopub.execute_input": "2024-06-18T15:25:34.326141Z",
     "iopub.status.busy": "2024-06-18T15:25:34.325681Z",
     "iopub.status.idle": "2024-06-18T15:25:34.385705Z",
     "shell.execute_reply": "2024-06-18T15:25:34.384692Z"
    },
    "papermill": {
     "duration": 0.083308,
     "end_time": "2024-06-18T15:25:34.388043",
     "exception": false,
     "start_time": "2024-06-18T15:25:34.304735",
     "status": "completed"
    },
    "tags": []
   },
   "outputs": [
    {
     "data": {
      "text/plain": [
       "(36179, 93)"
      ]
     },
     "execution_count": 32,
     "metadata": {},
     "output_type": "execute_result"
    }
   ],
   "source": [
    "# Convert categorical data to numeric with `pd.get_dummies`\n",
    "X_test = pd.get_dummies(final_test)\n",
    "X_test.shape\n"
   ]
  },
  {
   "cell_type": "code",
   "execution_count": 33,
   "id": "6d150c3a",
   "metadata": {
    "execution": {
     "iopub.execute_input": "2024-06-18T15:25:34.428975Z",
     "iopub.status.busy": "2024-06-18T15:25:34.428200Z",
     "iopub.status.idle": "2024-06-18T15:25:34.433592Z",
     "shell.execute_reply": "2024-06-18T15:25:34.432469Z"
    },
    "papermill": {
     "duration": 0.028417,
     "end_time": "2024-06-18T15:25:34.435908",
     "exception": false,
     "start_time": "2024-06-18T15:25:34.407491",
     "status": "completed"
    },
    "tags": []
   },
   "outputs": [],
   "source": [
    "# Split our preprocessed data into our features and target arrays\n",
    "y=X['price'].values.reshape(-1, 1)"
   ]
  },
  {
   "cell_type": "code",
   "execution_count": 34,
   "id": "3362fe14",
   "metadata": {
    "execution": {
     "iopub.execute_input": "2024-06-18T15:25:34.478027Z",
     "iopub.status.busy": "2024-06-18T15:25:34.476683Z",
     "iopub.status.idle": "2024-06-18T15:25:34.488776Z",
     "shell.execute_reply": "2024-06-18T15:25:34.487631Z"
    },
    "papermill": {
     "duration": 0.035517,
     "end_time": "2024-06-18T15:25:34.491143",
     "exception": false,
     "start_time": "2024-06-18T15:25:34.455626",
     "status": "completed"
    },
    "tags": []
   },
   "outputs": [
    {
     "data": {
      "text/plain": [
       "(47674, 93)"
      ]
     },
     "execution_count": 34,
     "metadata": {},
     "output_type": "execute_result"
    }
   ],
   "source": [
    "#Removing the price from the prediction features\n",
    "X = X.drop(['price'], axis=1)\n",
    "X.shape"
   ]
  },
  {
   "cell_type": "code",
   "execution_count": 35,
   "id": "de7ca621",
   "metadata": {
    "execution": {
     "iopub.execute_input": "2024-06-18T15:25:34.532451Z",
     "iopub.status.busy": "2024-06-18T15:25:34.531758Z",
     "iopub.status.idle": "2024-06-18T15:25:34.912422Z",
     "shell.execute_reply": "2024-06-18T15:25:34.910931Z"
    },
    "papermill": {
     "duration": 0.40567,
     "end_time": "2024-06-18T15:25:34.916486",
     "exception": false,
     "start_time": "2024-06-18T15:25:34.510816",
     "status": "completed"
    },
    "tags": []
   },
   "outputs": [
    {
     "data": {
      "text/html": [
       "<style>#sk-container-id-1 {color: black;background-color: white;}#sk-container-id-1 pre{padding: 0;}#sk-container-id-1 div.sk-toggleable {background-color: white;}#sk-container-id-1 label.sk-toggleable__label {cursor: pointer;display: block;width: 100%;margin-bottom: 0;padding: 0.3em;box-sizing: border-box;text-align: center;}#sk-container-id-1 label.sk-toggleable__label-arrow:before {content: \"▸\";float: left;margin-right: 0.25em;color: #696969;}#sk-container-id-1 label.sk-toggleable__label-arrow:hover:before {color: black;}#sk-container-id-1 div.sk-estimator:hover label.sk-toggleable__label-arrow:before {color: black;}#sk-container-id-1 div.sk-toggleable__content {max-height: 0;max-width: 0;overflow: hidden;text-align: left;background-color: #f0f8ff;}#sk-container-id-1 div.sk-toggleable__content pre {margin: 0.2em;color: black;border-radius: 0.25em;background-color: #f0f8ff;}#sk-container-id-1 input.sk-toggleable__control:checked~div.sk-toggleable__content {max-height: 200px;max-width: 100%;overflow: auto;}#sk-container-id-1 input.sk-toggleable__control:checked~label.sk-toggleable__label-arrow:before {content: \"▾\";}#sk-container-id-1 div.sk-estimator input.sk-toggleable__control:checked~label.sk-toggleable__label {background-color: #d4ebff;}#sk-container-id-1 div.sk-label input.sk-toggleable__control:checked~label.sk-toggleable__label {background-color: #d4ebff;}#sk-container-id-1 input.sk-hidden--visually {border: 0;clip: rect(1px 1px 1px 1px);clip: rect(1px, 1px, 1px, 1px);height: 1px;margin: -1px;overflow: hidden;padding: 0;position: absolute;width: 1px;}#sk-container-id-1 div.sk-estimator {font-family: monospace;background-color: #f0f8ff;border: 1px dotted black;border-radius: 0.25em;box-sizing: border-box;margin-bottom: 0.5em;}#sk-container-id-1 div.sk-estimator:hover {background-color: #d4ebff;}#sk-container-id-1 div.sk-parallel-item::after {content: \"\";width: 100%;border-bottom: 1px solid gray;flex-grow: 1;}#sk-container-id-1 div.sk-label:hover label.sk-toggleable__label {background-color: #d4ebff;}#sk-container-id-1 div.sk-serial::before {content: \"\";position: absolute;border-left: 1px solid gray;box-sizing: border-box;top: 0;bottom: 0;left: 50%;z-index: 0;}#sk-container-id-1 div.sk-serial {display: flex;flex-direction: column;align-items: center;background-color: white;padding-right: 0.2em;padding-left: 0.2em;position: relative;}#sk-container-id-1 div.sk-item {position: relative;z-index: 1;}#sk-container-id-1 div.sk-parallel {display: flex;align-items: stretch;justify-content: center;background-color: white;position: relative;}#sk-container-id-1 div.sk-item::before, #sk-container-id-1 div.sk-parallel-item::before {content: \"\";position: absolute;border-left: 1px solid gray;box-sizing: border-box;top: 0;bottom: 0;left: 50%;z-index: -1;}#sk-container-id-1 div.sk-parallel-item {display: flex;flex-direction: column;z-index: 1;position: relative;background-color: white;}#sk-container-id-1 div.sk-parallel-item:first-child::after {align-self: flex-end;width: 50%;}#sk-container-id-1 div.sk-parallel-item:last-child::after {align-self: flex-start;width: 50%;}#sk-container-id-1 div.sk-parallel-item:only-child::after {width: 0;}#sk-container-id-1 div.sk-dashed-wrapped {border: 1px dashed gray;margin: 0 0.4em 0.5em 0.4em;box-sizing: border-box;padding-bottom: 0.4em;background-color: white;}#sk-container-id-1 div.sk-label label {font-family: monospace;font-weight: bold;display: inline-block;line-height: 1.2em;}#sk-container-id-1 div.sk-label-container {text-align: center;}#sk-container-id-1 div.sk-container {/* jupyter's `normalize.less` sets `[hidden] { display: none; }` but bootstrap.min.css set `[hidden] { display: none !important; }` so we also need the `!important` here to be able to override the default hidden behavior on the sphinx rendered scikit-learn.org. See: https://github.com/scikit-learn/scikit-learn/issues/21755 */display: inline-block !important;position: relative;}#sk-container-id-1 div.sk-text-repr-fallback {display: none;}</style><div id=\"sk-container-id-1\" class=\"sk-top-container\"><div class=\"sk-text-repr-fallback\"><pre>LinearRegression()</pre><b>In a Jupyter environment, please rerun this cell to show the HTML representation or trust the notebook. <br />On GitHub, the HTML representation is unable to render, please try loading this page with nbviewer.org.</b></div><div class=\"sk-container\" hidden><div class=\"sk-item\"><div class=\"sk-estimator sk-toggleable\"><input class=\"sk-toggleable__control sk-hidden--visually\" id=\"sk-estimator-id-1\" type=\"checkbox\" checked><label for=\"sk-estimator-id-1\" class=\"sk-toggleable__label sk-toggleable__label-arrow\">LinearRegression</label><div class=\"sk-toggleable__content\"><pre>LinearRegression()</pre></div></div></div></div></div>"
      ],
      "text/plain": [
       "LinearRegression()"
      ]
     },
     "execution_count": 35,
     "metadata": {},
     "output_type": "execute_result"
    }
   ],
   "source": [
    "lm = LinearRegression()\n",
    "lm.fit(X,y)"
   ]
  },
  {
   "cell_type": "code",
   "execution_count": 36,
   "id": "761cf372",
   "metadata": {
    "execution": {
     "iopub.execute_input": "2024-06-18T15:25:35.003315Z",
     "iopub.status.busy": "2024-06-18T15:25:35.002627Z",
     "iopub.status.idle": "2024-06-18T15:25:35.072938Z",
     "shell.execute_reply": "2024-06-18T15:25:35.071504Z"
    },
    "papermill": {
     "duration": 0.118561,
     "end_time": "2024-06-18T15:25:35.076945",
     "exception": false,
     "start_time": "2024-06-18T15:25:34.958384",
     "status": "completed"
    },
    "tags": []
   },
   "outputs": [
    {
     "data": {
      "text/plain": [
       "array([[41873.09637451],\n",
       "       [15701.23382568],\n",
       "       [19036.22875977],\n",
       "       [48699.51989746],\n",
       "       [ 7557.17590332]])"
      ]
     },
     "execution_count": 36,
     "metadata": {},
     "output_type": "execute_result"
    }
   ],
   "source": [
    "#make predictions train\n",
    "yhat = lm.predict(X)\n",
    "yhat[0:5]"
   ]
  },
  {
   "cell_type": "code",
   "execution_count": 37,
   "id": "364ea0ac",
   "metadata": {
    "execution": {
     "iopub.execute_input": "2024-06-18T15:25:35.167266Z",
     "iopub.status.busy": "2024-06-18T15:25:35.166577Z",
     "iopub.status.idle": "2024-06-18T15:25:35.177127Z",
     "shell.execute_reply": "2024-06-18T15:25:35.175426Z"
    },
    "papermill": {
     "duration": 0.062295,
     "end_time": "2024-06-18T15:25:35.182300",
     "exception": false,
     "start_time": "2024-06-18T15:25:35.120005",
     "status": "completed"
    },
    "tags": []
   },
   "outputs": [
    {
     "data": {
      "text/plain": [
       "array([-3.81357569e+11])"
      ]
     },
     "execution_count": 37,
     "metadata": {},
     "output_type": "execute_result"
    }
   ],
   "source": [
    "#find the intercept\n",
    "lm.intercept_"
   ]
  },
  {
   "cell_type": "code",
   "execution_count": 38,
   "id": "8fb24bd5",
   "metadata": {
    "execution": {
     "iopub.execute_input": "2024-06-18T15:25:35.226806Z",
     "iopub.status.busy": "2024-06-18T15:25:35.226004Z",
     "iopub.status.idle": "2024-06-18T15:25:35.233960Z",
     "shell.execute_reply": "2024-06-18T15:25:35.232899Z"
    },
    "papermill": {
     "duration": 0.032064,
     "end_time": "2024-06-18T15:25:35.236564",
     "exception": false,
     "start_time": "2024-06-18T15:25:35.204500",
     "status": "completed"
    },
    "tags": []
   },
   "outputs": [
    {
     "data": {
      "text/plain": [
       "array([[ 1.03959621e+03, -9.85426584e-02,  3.15709358e+10,\n",
       "         3.15709380e+10,  3.15709409e+10,  3.15709370e+10,\n",
       "         3.15709399e+10,  3.15709393e+10,  3.15709396e+10,\n",
       "         3.15709375e+10,  3.15709370e+10,  3.15709327e+10,\n",
       "         3.15709367e+10,  3.15709411e+10,  3.15709376e+10,\n",
       "         3.15709340e+10,  3.15709417e+10,  3.15709403e+10,\n",
       "         3.15709396e+10,  3.15709347e+10,  3.15709414e+10,\n",
       "         3.15709362e+10,  3.15709375e+10,  3.15709426e+10,\n",
       "         3.15709413e+10,  3.15709342e+10,  3.15709408e+10,\n",
       "         3.15709337e+10,  3.15709372e+10, -1.28403372e+10,\n",
       "        -1.28403407e+10, -1.28403377e+10, -1.28403407e+10,\n",
       "        -1.28403404e+10, -1.28403401e+10,  1.95168181e+11,\n",
       "         1.95168173e+11,  1.95168172e+11,  1.95168172e+11,\n",
       "         1.95168178e+11,  1.95168170e+11, -1.75769273e+10,\n",
       "        -1.75769292e+10, -1.75769314e+10, -1.75769284e+10,\n",
       "        -1.75769302e+10, -1.75769218e+10, -1.75769238e+10,\n",
       "        -1.75769298e+10, -1.75769301e+10, -1.75769232e+10,\n",
       "        -1.75769259e+10, -1.75769183e+10, -1.75769257e+10,\n",
       "        -1.75769203e+10, -1.75769163e+10, -1.75769178e+10,\n",
       "        -1.75769195e+10, -1.75769233e+10,  7.62488663e+10,\n",
       "         7.62488664e+10,  7.62488634e+10,  7.62488616e+10,\n",
       "         7.62488639e+10,  7.62488599e+10,  7.62488611e+10,\n",
       "         7.62488631e+10,  7.62488643e+10,  7.62488647e+10,\n",
       "         7.62488632e+10,  7.62488655e+10,  7.62488636e+10,\n",
       "         7.62488613e+10,  7.62488640e+10,  7.62488595e+10,\n",
       "         7.62488632e+10,  7.62488645e+10,  7.62488642e+10,\n",
       "        -3.03466760e+10, -3.03466757e+10, -3.03466757e+10,\n",
       "        -3.03466759e+10, -3.03466761e+10, -3.03466769e+10,\n",
       "        -3.03466761e+10,  1.45777838e+11,  1.45777839e+11,\n",
       "         1.45777841e+11,  1.45777839e+11,  1.45777839e+11,\n",
       "         1.45777841e+11, -6.64636578e+09, -6.64636353e+09]])"
      ]
     },
     "execution_count": 38,
     "metadata": {},
     "output_type": "execute_result"
    }
   ],
   "source": [
    "#find the slope\n",
    "lm.coef_"
   ]
  },
  {
   "cell_type": "code",
   "execution_count": 39,
   "id": "4d2a0122",
   "metadata": {
    "execution": {
     "iopub.execute_input": "2024-06-18T15:25:35.279456Z",
     "iopub.status.busy": "2024-06-18T15:25:35.279012Z",
     "iopub.status.idle": "2024-06-18T15:25:35.286244Z",
     "shell.execute_reply": "2024-06-18T15:25:35.285185Z"
    },
    "papermill": {
     "duration": 0.031454,
     "end_time": "2024-06-18T15:25:35.288723",
     "exception": false,
     "start_time": "2024-06-18T15:25:35.257269",
     "status": "completed"
    },
    "tags": []
   },
   "outputs": [
    {
     "name": "stdout",
     "output_type": "stream",
     "text": [
      "Mean Squared Error (MSE): 100875230.18026106\n"
     ]
    }
   ],
   "source": [
    "#find the MSE\n",
    "from sklearn.metrics import mean_squared_error\n",
    "\n",
    "# Calculate the mean squared error\n",
    "mse = mean_squared_error(y, yhat)\n",
    "\n",
    "# Print the MSE\n",
    "print(\"Mean Squared Error (MSE):\", mse)\n"
   ]
  },
  {
   "cell_type": "code",
   "execution_count": 40,
   "id": "68d94ce3",
   "metadata": {
    "execution": {
     "iopub.execute_input": "2024-06-18T15:25:35.332684Z",
     "iopub.status.busy": "2024-06-18T15:25:35.332296Z",
     "iopub.status.idle": "2024-06-18T15:25:35.340007Z",
     "shell.execute_reply": "2024-06-18T15:25:35.338893Z"
    },
    "papermill": {
     "duration": 0.032676,
     "end_time": "2024-06-18T15:25:35.342462",
     "exception": false,
     "start_time": "2024-06-18T15:25:35.309786",
     "status": "completed"
    },
    "tags": []
   },
   "outputs": [
    {
     "data": {
      "text/plain": [
       "10043.666172282961"
      ]
     },
     "execution_count": 40,
     "metadata": {},
     "output_type": "execute_result"
    }
   ],
   "source": [
    "#find the RMSE\n",
    "rmse = np.sqrt(mse)\n",
    "rmse"
   ]
  },
  {
   "cell_type": "code",
   "execution_count": 41,
   "id": "f47428d0",
   "metadata": {
    "execution": {
     "iopub.execute_input": "2024-06-18T15:25:35.386679Z",
     "iopub.status.busy": "2024-06-18T15:25:35.386296Z",
     "iopub.status.idle": "2024-06-18T15:25:35.395295Z",
     "shell.execute_reply": "2024-06-18T15:25:35.394008Z"
    },
    "papermill": {
     "duration": 0.034412,
     "end_time": "2024-06-18T15:25:35.397726",
     "exception": false,
     "start_time": "2024-06-18T15:25:35.363314",
     "status": "completed"
    },
    "tags": []
   },
   "outputs": [
    {
     "data": {
      "text/plain": [
       "0.5748755539105683"
      ]
     },
     "execution_count": 41,
     "metadata": {},
     "output_type": "execute_result"
    }
   ],
   "source": [
    "#find rscore\n",
    "from sklearn.metrics import r2_score\n",
    "r2_score(y, yhat)"
   ]
  },
  {
   "cell_type": "markdown",
   "id": "fd0744a1",
   "metadata": {
    "papermill": {
     "duration": 0.022108,
     "end_time": "2024-06-18T15:25:35.440798",
     "exception": false,
     "start_time": "2024-06-18T15:25:35.418690",
     "status": "completed"
    },
    "tags": []
   },
   "source": [
    "# Validation with test data"
   ]
  },
  {
   "cell_type": "code",
   "execution_count": 42,
   "id": "752e5bd3",
   "metadata": {
    "execution": {
     "iopub.execute_input": "2024-06-18T15:25:35.484472Z",
     "iopub.status.busy": "2024-06-18T15:25:35.484032Z",
     "iopub.status.idle": "2024-06-18T15:25:35.537867Z",
     "shell.execute_reply": "2024-06-18T15:25:35.536415Z"
    },
    "papermill": {
     "duration": 0.08102,
     "end_time": "2024-06-18T15:25:35.542896",
     "exception": false,
     "start_time": "2024-06-18T15:25:35.461876",
     "status": "completed"
    },
    "tags": []
   },
   "outputs": [
    {
     "data": {
      "text/plain": [
       "array([[20519.85388184],\n",
       "       [25864.53521729],\n",
       "       [35269.60144043],\n",
       "       ...,\n",
       "       [22872.03234863],\n",
       "       [40577.75476074],\n",
       "       [14579.48297119]])"
      ]
     },
     "execution_count": 42,
     "metadata": {},
     "output_type": "execute_result"
    }
   ],
   "source": [
    "#make predictions test\n",
    "yhat_test = lm.predict(X_test)\n",
    "yhat_test"
   ]
  }
 ],
 "metadata": {
  "kaggle": {
   "accelerator": "none",
   "dataSources": [
    {
     "datasetId": 5130497,
     "sourceId": 8579062,
     "sourceType": "datasetVersion"
    }
   ],
   "dockerImageVersionId": 30715,
   "isGpuEnabled": false,
   "isInternetEnabled": true,
   "language": "python",
   "sourceType": "notebook"
  },
  "kernelspec": {
   "display_name": "Python 3",
   "language": "python",
   "name": "python3"
  },
  "language_info": {
   "codemirror_mode": {
    "name": "ipython",
    "version": 3
   },
   "file_extension": ".py",
   "mimetype": "text/x-python",
   "name": "python",
   "nbconvert_exporter": "python",
   "pygments_lexer": "ipython3",
   "version": "3.10.13"
  },
  "papermill": {
   "default_parameters": {},
   "duration": 42.212817,
   "end_time": "2024-06-18T15:25:36.218329",
   "environment_variables": {},
   "exception": null,
   "input_path": "__notebook__.ipynb",
   "output_path": "__notebook__.ipynb",
   "parameters": {},
   "start_time": "2024-06-18T15:24:54.005512",
   "version": "2.5.0"
  }
 },
 "nbformat": 4,
 "nbformat_minor": 5
}
