{
 "cells": [
  {
   "cell_type": "code",
   "execution_count": 1,
   "id": "93f33e5b",
   "metadata": {
    "_cell_guid": "b1076dfc-b9ad-4769-8c92-a6c4dae69d19",
    "_uuid": "8f2839f25d086af736a60e9eeb907d3b93b6e0e5",
    "execution": {
     "iopub.execute_input": "2024-06-03T17:44:37.147685Z",
     "iopub.status.busy": "2024-06-03T17:44:37.147314Z",
     "iopub.status.idle": "2024-06-03T17:44:37.957577Z",
     "shell.execute_reply": "2024-06-03T17:44:37.956369Z"
    },
    "papermill": {
     "duration": 0.823135,
     "end_time": "2024-06-03T17:44:37.959971",
     "exception": false,
     "start_time": "2024-06-03T17:44:37.136836",
     "status": "completed"
    },
    "tags": []
   },
   "outputs": [
    {
     "name": "stdout",
     "output_type": "stream",
     "text": [
      "/kaggle/input/kagglexfellowship/kagglex-cohort4/sample_submission.csv\n",
      "/kaggle/input/kagglexfellowship/kagglex-cohort4/train.csv\n",
      "/kaggle/input/kagglexfellowship/kagglex-cohort4/test.csv\n"
     ]
    }
   ],
   "source": [
    "# This Python 3 environment comes with many helpful analytics libraries installed\n",
    "# It is defined by the kaggle/python Docker image: https://github.com/kaggle/docker-python\n",
    "# For example, here's several helpful packages to load\n",
    "\n",
    "import numpy as np # linear algebra\n",
    "import pandas as pd # data processing, CSV file I/O (e.g. pd.read_csv)\n",
    "\n",
    "# Input data files are available in the read-only \"../input/\" directory\n",
    "# For example, running this (by clicking run or pressing Shift+Enter) will list all files under the input directory\n",
    "\n",
    "import os\n",
    "for dirname, _, filenames in os.walk('/kaggle/input'):\n",
    "    for filename in filenames:\n",
    "        print(os.path.join(dirname, filename))\n",
    "\n",
    "# You can write up to 20GB to the current directory (/kaggle/working/) that gets preserved as output when you create a version using \"Save & Run All\" \n",
    "# You can also write temporary files to /kaggle/temp/, but they won't be saved outside of the current session"
   ]
  },
  {
   "cell_type": "code",
   "execution_count": 2,
   "id": "39b2b9a3",
   "metadata": {
    "execution": {
     "iopub.execute_input": "2024-06-03T17:44:37.978870Z",
     "iopub.status.busy": "2024-06-03T17:44:37.978385Z",
     "iopub.status.idle": "2024-06-03T17:44:38.415256Z",
     "shell.execute_reply": "2024-06-03T17:44:38.414121Z"
    },
    "papermill": {
     "duration": 0.449042,
     "end_time": "2024-06-03T17:44:38.417787",
     "exception": false,
     "start_time": "2024-06-03T17:44:37.968745",
     "status": "completed"
    },
    "tags": []
   },
   "outputs": [],
   "source": [
    "#  Import and read the data and assign ID column as labels\n",
    "train = pd.read_csv('/kaggle/input/kagglexfellowship/kagglex-cohort4/train.csv')\n",
    "test=pd.read_csv('/kaggle/input/kagglexfellowship/kagglex-cohort4/test.csv')\n",
    "subm=pd.read_csv('/kaggle/input/kagglexfellowship/kagglex-cohort4/sample_submission.csv')\n"
   ]
  },
  {
   "cell_type": "code",
   "execution_count": 3,
   "id": "68daab74",
   "metadata": {
    "execution": {
     "iopub.execute_input": "2024-06-03T17:44:38.437608Z",
     "iopub.status.busy": "2024-06-03T17:44:38.436657Z",
     "iopub.status.idle": "2024-06-03T17:44:38.452649Z",
     "shell.execute_reply": "2024-06-03T17:44:38.451514Z"
    },
    "papermill": {
     "duration": 0.028186,
     "end_time": "2024-06-03T17:44:38.454823",
     "exception": false,
     "start_time": "2024-06-03T17:44:38.426637",
     "status": "completed"
    },
    "tags": []
   },
   "outputs": [],
   "source": [
    "#Drop the non-beneficial ID columns\n",
    "def set_index (df):\n",
    "    df.set_index('id', inplace=True)\n",
    "    return df\n",
    "\n",
    "train_df=set_index(train)\n",
    "test_df=set_index(test)\n",
    "submission_df=set_index(subm)\n"
   ]
  },
  {
   "cell_type": "code",
   "execution_count": 4,
   "id": "038ec423",
   "metadata": {
    "execution": {
     "iopub.execute_input": "2024-06-03T17:44:38.474654Z",
     "iopub.status.busy": "2024-06-03T17:44:38.473562Z",
     "iopub.status.idle": "2024-06-03T17:44:38.528668Z",
     "shell.execute_reply": "2024-06-03T17:44:38.527689Z"
    },
    "papermill": {
     "duration": 0.067239,
     "end_time": "2024-06-03T17:44:38.531054",
     "exception": false,
     "start_time": "2024-06-03T17:44:38.463815",
     "status": "completed"
    },
    "tags": []
   },
   "outputs": [
    {
     "data": {
      "text/plain": [
       "brand             53\n",
       "model           1827\n",
       "model_year        34\n",
       "milage          3212\n",
       "fuel_type          7\n",
       "engine          1061\n",
       "transmission      46\n",
       "ext_col          260\n",
       "int_col          124\n",
       "accident           2\n",
       "clean_title        1\n",
       "price           1481\n",
       "dtype: int64"
      ]
     },
     "execution_count": 4,
     "metadata": {},
     "output_type": "execute_result"
    }
   ],
   "source": [
    "#Determine the number of unique values in each column.\n",
    "unique_counts = train_df.nunique()\n",
    "unique_counts"
   ]
  },
  {
   "cell_type": "markdown",
   "id": "3a064c79",
   "metadata": {
    "papermill": {
     "duration": 0.008544,
     "end_time": "2024-06-03T17:44:38.548310",
     "exception": false,
     "start_time": "2024-06-03T17:44:38.539766",
     "status": "completed"
    },
    "tags": []
   },
   "source": [
    "I will reduce the number of features in string data categories, and will remain the numeric categories as they are."
   ]
  },
  {
   "cell_type": "code",
   "execution_count": 5,
   "id": "0b65a1ed",
   "metadata": {
    "execution": {
     "iopub.execute_input": "2024-06-03T17:44:38.567105Z",
     "iopub.status.busy": "2024-06-03T17:44:38.566708Z",
     "iopub.status.idle": "2024-06-03T17:44:38.579739Z",
     "shell.execute_reply": "2024-06-03T17:44:38.578894Z"
    },
    "papermill": {
     "duration": 0.025006,
     "end_time": "2024-06-03T17:44:38.582003",
     "exception": false,
     "start_time": "2024-06-03T17:44:38.556997",
     "status": "completed"
    },
    "tags": []
   },
   "outputs": [
    {
     "data": {
      "text/plain": [
       "brand\n",
       "BMW              7369\n",
       "Ford             6706\n",
       "Mercedes-Benz    5087\n",
       "Chevrolet        4424\n",
       "Audi             2922\n",
       "Porsche          2627\n",
       "Toyota           2315\n",
       "Lexus            2257\n",
       "Jeep             2247\n",
       "Land             1995\n",
       "Cadillac         1565\n",
       "Nissan           1252\n",
       "GMC              1076\n",
       "Dodge            1011\n",
       "RAM               966\n",
       "INFINITI          957\n",
       "Lincoln           767\n",
       "Mazda             748\n",
       "Subaru            739\n",
       "Hyundai           694\n",
       "Jaguar            661\n",
       "Volkswagen        628\n",
       "Honda             624\n",
       "Acura             580\n",
       "Kia               526\n",
       "Volvo             452\n",
       "MINI              364\n",
       "Maserati          293\n",
       "Bentley           284\n",
       "Chrysler          258\n",
       "Genesis           249\n",
       "Buick             228\n",
       "Mitsubishi        182\n",
       "Hummer            176\n",
       "Pontiac           149\n",
       "Alfa              144\n",
       "Rolls-Royce       142\n",
       "Lamborghini       122\n",
       "Tesla             110\n",
       "Ferrari            87\n",
       "Saturn             58\n",
       "Scion              53\n",
       "Aston              50\n",
       "McLaren            43\n",
       "Rivian             27\n",
       "Mercury            20\n",
       "FIAT               16\n",
       "Lotus              12\n",
       "Suzuki              4\n",
       "Maybach             3\n",
       "Lucid               2\n",
       "Plymouth            1\n",
       "Bugatti             1\n",
       "Name: count, dtype: int64"
      ]
     },
     "execution_count": 5,
     "metadata": {},
     "output_type": "execute_result"
    }
   ],
   "source": [
    "#Look at brand value counts for binning\n",
    "brand_counts = train_df['brand'].value_counts()\n",
    "brand_counts #keep all car brands "
   ]
  },
  {
   "cell_type": "markdown",
   "id": "9820021d",
   "metadata": {
    "papermill": {
     "duration": 0.008479,
     "end_time": "2024-06-03T17:44:38.599279",
     "exception": false,
     "start_time": "2024-06-03T17:44:38.590800",
     "status": "completed"
    },
    "tags": []
   },
   "source": [
    "***Model cleaning***"
   ]
  },
  {
   "cell_type": "code",
   "execution_count": 6,
   "id": "5463e539",
   "metadata": {
    "execution": {
     "iopub.execute_input": "2024-06-03T17:44:38.618789Z",
     "iopub.status.busy": "2024-06-03T17:44:38.618080Z",
     "iopub.status.idle": "2024-06-03T17:44:38.630924Z",
     "shell.execute_reply": "2024-06-03T17:44:38.629923Z"
    },
    "papermill": {
     "duration": 0.025156,
     "end_time": "2024-06-03T17:44:38.633247",
     "exception": false,
     "start_time": "2024-06-03T17:44:38.608091",
     "status": "completed"
    },
    "tags": []
   },
   "outputs": [
    {
     "data": {
      "text/plain": [
       "model\n",
       "F-150 XLT             780\n",
       "M3 Base               682\n",
       "X5 xDrive35i          615\n",
       "F-150 Lariat          496\n",
       "Mustang GT Premium    466\n",
       "                     ... \n",
       "Suburban 2500           1\n",
       "TLX Tech                1\n",
       "Rogue Sport S           1\n",
       "A8 4.0                  1\n",
       "S-10 LS                 1\n",
       "Name: count, Length: 1827, dtype: int64"
      ]
     },
     "execution_count": 6,
     "metadata": {},
     "output_type": "execute_result"
    }
   ],
   "source": [
    "# Look at model value counts for binning\n",
    "model_counts =train_df['model'].value_counts()\n",
    "model_counts"
   ]
  },
  {
   "cell_type": "code",
   "execution_count": 7,
   "id": "44aa6ea4",
   "metadata": {
    "execution": {
     "iopub.execute_input": "2024-06-03T17:44:38.653567Z",
     "iopub.status.busy": "2024-06-03T17:44:38.652865Z",
     "iopub.status.idle": "2024-06-03T17:44:46.999775Z",
     "shell.execute_reply": "2024-06-03T17:44:46.998735Z"
    },
    "papermill": {
     "duration": 8.359615,
     "end_time": "2024-06-03T17:44:47.002401",
     "exception": false,
     "start_time": "2024-06-03T17:44:38.642786",
     "status": "completed"
    },
    "tags": []
   },
   "outputs": [
    {
     "name": "stdout",
     "output_type": "stream",
     "text": [
      "model\n",
      "Other                   32335\n",
      "F-150 XLT                 780\n",
      "M3 Base                   682\n",
      "X5 xDrive35i              615\n",
      "F-150 Lariat              496\n",
      "                        ...  \n",
      "X6 xDrive35i              101\n",
      "S-Class S 550 4MATIC      101\n",
      "Mustang Premium           100\n",
      "AMG C 63 Base             100\n",
      "Civic EX                  100\n",
      "Name: count, Length: 115, dtype: int64\n"
     ]
    }
   ],
   "source": [
    "#Reducing the number of car models as a fuature\n",
    "cutoff_value = 100 #keep if database has 100 and more records of this car model\n",
    "model_types_to_replace = model_counts[model_counts < cutoff_value].index\n",
    "\n",
    "# Replace in the dataframe\n",
    "for model_c in model_types_to_replace:\n",
    "    train_df.loc[train_df['model'] == model_c, 'model'] = \"Other\"\n",
    "\n",
    "# Check the updated value counts\n",
    "model_counts = train_df['model'].value_counts()\n",
    "print(model_counts)"
   ]
  },
  {
   "cell_type": "markdown",
   "id": "a39190e6",
   "metadata": {
    "papermill": {
     "duration": 0.008635,
     "end_time": "2024-06-03T17:44:47.020090",
     "exception": false,
     "start_time": "2024-06-03T17:44:47.011455",
     "status": "completed"
    },
    "tags": []
   },
   "source": [
    "**Fuel cleaning**"
   ]
  },
  {
   "cell_type": "code",
   "execution_count": 8,
   "id": "ed95142d",
   "metadata": {
    "execution": {
     "iopub.execute_input": "2024-06-03T17:44:47.039404Z",
     "iopub.status.busy": "2024-06-03T17:44:47.039061Z",
     "iopub.status.idle": "2024-06-03T17:44:47.050298Z",
     "shell.execute_reply": "2024-06-03T17:44:47.049230Z"
    },
    "papermill": {
     "duration": 0.02338,
     "end_time": "2024-06-03T17:44:47.052410",
     "exception": false,
     "start_time": "2024-06-03T17:44:47.029030",
     "status": "completed"
    },
    "tags": []
   },
   "outputs": [
    {
     "data": {
      "text/plain": [
       "fuel_type\n",
       "Gasoline          49439\n",
       "Hybrid             1766\n",
       "E85 Flex Fuel      1479\n",
       "Diesel             1109\n",
       "–                   294\n",
       "Plug-In Hybrid      182\n",
       "not supported         4\n",
       "Name: count, dtype: int64"
      ]
     },
     "execution_count": 8,
     "metadata": {},
     "output_type": "execute_result"
    }
   ],
   "source": [
    "# Look at fuel value counts for binning\n",
    "fuel_counts = train_df['fuel_type'].value_counts()\n",
    "fuel_counts"
   ]
  },
  {
   "cell_type": "code",
   "execution_count": 9,
   "id": "d8f0b28c",
   "metadata": {
    "execution": {
     "iopub.execute_input": "2024-06-03T17:44:47.072294Z",
     "iopub.status.busy": "2024-06-03T17:44:47.071953Z",
     "iopub.status.idle": "2024-06-03T17:44:47.102915Z",
     "shell.execute_reply": "2024-06-03T17:44:47.101923Z"
    },
    "papermill": {
     "duration": 0.043639,
     "end_time": "2024-06-03T17:44:47.105255",
     "exception": false,
     "start_time": "2024-06-03T17:44:47.061616",
     "status": "completed"
    },
    "tags": []
   },
   "outputs": [
    {
     "data": {
      "text/plain": [
       "fuel_type\n",
       "Gasoline          49439\n",
       "Hybrid             1766\n",
       "E85 Flex Fuel      1479\n",
       "Diesel             1109\n",
       "Other               294\n",
       "Plug-In Hybrid      182\n",
       "Name: count, dtype: int64"
      ]
     },
     "execution_count": 9,
     "metadata": {},
     "output_type": "execute_result"
    }
   ],
   "source": [
    "# Replace '–' with 'Other' in the 'fuel_type' column\n",
    "train_df.loc[train_df['fuel_type'] == '–', 'fuel_type'] = 'Other'\n",
    "cleaned_train = train_df[train_df['fuel_type'] != 'not supported']\n",
    "fuel_counts = cleaned_train['fuel_type'].value_counts()\n",
    "fuel_counts"
   ]
  },
  {
   "cell_type": "markdown",
   "id": "83b076dd",
   "metadata": {
    "papermill": {
     "duration": 0.008892,
     "end_time": "2024-06-03T17:44:47.123476",
     "exception": false,
     "start_time": "2024-06-03T17:44:47.114584",
     "status": "completed"
    },
    "tags": []
   },
   "source": [
    "***Engine cleaning***"
   ]
  },
  {
   "cell_type": "code",
   "execution_count": 10,
   "id": "2c18ca9a",
   "metadata": {
    "execution": {
     "iopub.execute_input": "2024-06-03T17:44:47.143538Z",
     "iopub.status.busy": "2024-06-03T17:44:47.143164Z",
     "iopub.status.idle": "2024-06-03T17:44:47.156082Z",
     "shell.execute_reply": "2024-06-03T17:44:47.155026Z"
    },
    "papermill": {
     "duration": 0.025671,
     "end_time": "2024-06-03T17:44:47.158335",
     "exception": false,
     "start_time": "2024-06-03T17:44:47.132664",
     "status": "completed"
    },
    "tags": []
   },
   "outputs": [
    {
     "data": {
      "text/plain": [
       "engine\n",
       "300.0HP 3.0L Straight 6 Cylinder Engine Gasoline Fuel    1452\n",
       "355.0HP 5.3L 8 Cylinder Engine Gasoline Fuel             1125\n",
       "240.0HP 2.0L 4 Cylinder Engine Gasoline Fuel             1054\n",
       "285.0HP 3.6L V6 Cylinder Engine Gasoline Fuel             979\n",
       "420.0HP 6.2L 8 Cylinder Engine Gasoline Fuel              893\n",
       "                                                         ... \n",
       "4.4 Liter GDI DOHC Twin Turbo                               1\n",
       "150.0HP 2.0L 4 Cylinder Engine Diesel Fuel                  1\n",
       "3.0 Liter Twin Turbo                                        1\n",
       "3.0 Liter SC ULEV                                           1\n",
       "321.0HP 3.0L V6 Cylinder Engine Gas/Electric Hybrid         1\n",
       "Name: count, Length: 1059, dtype: int64"
      ]
     },
     "execution_count": 10,
     "metadata": {},
     "output_type": "execute_result"
    }
   ],
   "source": [
    "# Look at endine value counts for binning\n",
    "engine_counts = cleaned_train['engine'].value_counts()\n",
    "engine_counts"
   ]
  },
  {
   "cell_type": "code",
   "execution_count": 11,
   "id": "7d917680",
   "metadata": {
    "execution": {
     "iopub.execute_input": "2024-06-03T17:44:47.178467Z",
     "iopub.status.busy": "2024-06-03T17:44:47.178120Z",
     "iopub.status.idle": "2024-06-03T17:44:51.941169Z",
     "shell.execute_reply": "2024-06-03T17:44:51.940140Z"
    },
    "papermill": {
     "duration": 4.77592,
     "end_time": "2024-06-03T17:44:51.943571",
     "exception": false,
     "start_time": "2024-06-03T17:44:47.167651",
     "status": "completed"
    },
    "tags": []
   },
   "outputs": [
    {
     "data": {
      "text/plain": [
       "engine\n",
       "Other                                                    21178\n",
       "300.0HP 3.0L Straight 6 Cylinder Engine Gasoline Fuel     1452\n",
       "355.0HP 5.3L 8 Cylinder Engine Gasoline Fuel              1125\n",
       "240.0HP 2.0L 4 Cylinder Engine Gasoline Fuel              1054\n",
       "285.0HP 3.6L V6 Cylinder Engine Gasoline Fuel              979\n",
       "                                                         ...  \n",
       "3.5L V6 24V PDI DOHC                                       104\n",
       "410.0HP 6.4L 8 Cylinder Engine Gasoline Fuel               103\n",
       "365.0HP 3.3L V6 Cylinder Engine Gasoline Fuel              100\n",
       "350.0HP 3.4L Flat 6 Cylinder Engine Gasoline Fuel          100\n",
       "3.0L V6 24V GDI DOHC Twin Turbo                            100\n",
       "Name: count, Length: 128, dtype: int64"
      ]
     },
     "execution_count": 11,
     "metadata": {},
     "output_type": "execute_result"
    }
   ],
   "source": [
    "cutoff_value = 100\n",
    "engine_types_to_replace = engine_counts[engine_counts < cutoff_value].index\n",
    "\n",
    "# Replace in the dataframe\n",
    "for engine_c in engine_types_to_replace:\n",
    "    cleaned_train.loc[cleaned_train['engine'] == engine_c, 'engine'] = \"Other\"\n",
    "\n",
    "# Check the updated value counts\n",
    "engine_counts = cleaned_train['engine'].value_counts()\n",
    "engine_counts"
   ]
  },
  {
   "cell_type": "markdown",
   "id": "bde6ccd9",
   "metadata": {
    "papermill": {
     "duration": 0.009073,
     "end_time": "2024-06-03T17:44:51.962386",
     "exception": false,
     "start_time": "2024-06-03T17:44:51.953313",
     "status": "completed"
    },
    "tags": []
   },
   "source": [
    "***Transmission***"
   ]
  },
  {
   "cell_type": "code",
   "execution_count": 12,
   "id": "b0e3a927",
   "metadata": {
    "execution": {
     "iopub.execute_input": "2024-06-03T17:44:51.983379Z",
     "iopub.status.busy": "2024-06-03T17:44:51.982444Z",
     "iopub.status.idle": "2024-06-03T17:44:51.994653Z",
     "shell.execute_reply": "2024-06-03T17:44:51.993631Z"
    },
    "papermill": {
     "duration": 0.024868,
     "end_time": "2024-06-03T17:44:51.996678",
     "exception": false,
     "start_time": "2024-06-03T17:44:51.971810",
     "status": "completed"
    },
    "tags": []
   },
   "outputs": [
    {
     "data": {
      "text/plain": [
       "transmission\n",
       "A/T                                                   16754\n",
       "8-Speed A/T                                            7287\n",
       "Transmission w/Dual Shift Mode                         6453\n",
       "6-Speed A/T                                            5944\n",
       "6-Speed M/T                                            3618\n",
       "7-Speed A/T                                            3415\n",
       "10-Speed A/T                                           2187\n",
       "8-Speed Automatic                                      1189\n",
       "5-Speed A/T                                            1185\n",
       "9-Speed A/T                                            1073\n",
       "4-Speed A/T                                             764\n",
       "5-Speed M/T                                             718\n",
       "CVT Transmission                                        692\n",
       "10-Speed Automatic                                      642\n",
       "6-Speed Automatic                                       516\n",
       "Automatic                                               441\n",
       "M/T                                                     359\n",
       "9-Speed Automatic                                       344\n",
       "7-Speed Automatic with Auto-Shift                       110\n",
       "7-Speed M/T                                             104\n",
       "Automatic CVT                                            95\n",
       "1-Speed A/T                                              60\n",
       "8-Speed Automatic with Auto-Shift                        55\n",
       "Transmission Overdrive Switch                            54\n",
       "7-Speed Automatic                                        41\n",
       "6-Speed Manual                                           34\n",
       "5-Speed Automatic                                        24\n",
       "7-Speed Manual                                           22\n",
       "6-Speed Automatic with Auto-Shift                        17\n",
       "8-Speed Manual                                            9\n",
       "4-Speed Automatic                                         8\n",
       "7-Speed                                                   7\n",
       "–                                                         7\n",
       "7-Speed DCT Automatic                                     6\n",
       "1-Speed Automatic                                         6\n",
       "6-Speed Electronically Controlled Automatic with O        6\n",
       "10-Speed Automatic with Overdrive                         5\n",
       "2-Speed A/T                                               5\n",
       "6-Speed                                                   3\n",
       "9-Speed Automatic with Auto-Shift                         2\n",
       "SCHEDULED FOR OR IN PRODUCTION                            2\n",
       "6 Speed Mt                                                2\n",
       "CVT-F                                                     1\n",
       "F                                                         1\n",
       "Variable                                                  1\n",
       "6 Speed At/Mt                                             1\n",
       "Name: count, dtype: int64"
      ]
     },
     "execution_count": 12,
     "metadata": {},
     "output_type": "execute_result"
    }
   ],
   "source": [
    "# Look at trans value counts for binning\n",
    "trans_counts = cleaned_train['transmission'].value_counts()\n",
    "trans_counts"
   ]
  },
  {
   "cell_type": "code",
   "execution_count": 13,
   "id": "25df86fb",
   "metadata": {
    "execution": {
     "iopub.execute_input": "2024-06-03T17:44:52.019083Z",
     "iopub.status.busy": "2024-06-03T17:44:52.018301Z",
     "iopub.status.idle": "2024-06-03T17:44:52.116276Z",
     "shell.execute_reply": "2024-06-03T17:44:52.115200Z"
    },
    "papermill": {
     "duration": 0.11204,
     "end_time": "2024-06-03T17:44:52.118671",
     "exception": false,
     "start_time": "2024-06-03T17:44:52.006631",
     "status": "completed"
    },
    "tags": []
   },
   "outputs": [
    {
     "data": {
      "text/plain": [
       "transmission\n",
       "A/T                                  16754\n",
       "8-Speed A/T                           7287\n",
       "Transmission w/Dual Shift Mode        6453\n",
       "6-Speed A/T                           5944\n",
       "6-Speed M/T                           3618\n",
       "7-Speed A/T                           3415\n",
       "10-Speed A/T                          2187\n",
       "8-Speed Automatic                     1189\n",
       "5-Speed A/T                           1185\n",
       "9-Speed A/T                           1073\n",
       "4-Speed A/T                            764\n",
       "5-Speed M/T                            718\n",
       "CVT Transmission                       692\n",
       "10-Speed Automatic                     642\n",
       "6-Speed Automatic                      516\n",
       "Automatic                              441\n",
       "M/T                                    359\n",
       "9-Speed Automatic                      344\n",
       "7-Speed Automatic with Auto-Shift      110\n",
       "7-Speed M/T                            104\n",
       "Automatic CVT                           95\n",
       "Other                                   72\n",
       "1-Speed A/T                             60\n",
       "8-Speed Automatic with Auto-Shift       55\n",
       "Transmission Overdrive Switch           54\n",
       "7-Speed Automatic                       41\n",
       "6-Speed Manual                          34\n",
       "5-Speed Automatic                       24\n",
       "7-Speed Manual                          22\n",
       "6-Speed Automatic with Auto-Shift       17\n",
       "Name: count, dtype: int64"
      ]
     },
     "execution_count": 13,
     "metadata": {},
     "output_type": "execute_result"
    }
   ],
   "source": [
    "cutoff_value = 10\n",
    "trans_types_to_replace = trans_counts[trans_counts < cutoff_value].index\n",
    "\n",
    "# Replace in the dataframe\n",
    "for trans_c in trans_types_to_replace:\n",
    "    cleaned_train.loc[cleaned_train['transmission'] == trans_c, 'transmission'] = \"Other\"\n",
    "\n",
    "# Check the updated value counts\n",
    "trans_counts = cleaned_train['transmission'].value_counts()\n",
    "trans_counts"
   ]
  },
  {
   "cell_type": "markdown",
   "id": "36c32e35",
   "metadata": {
    "papermill": {
     "duration": 0.009542,
     "end_time": "2024-06-03T17:44:52.138073",
     "exception": false,
     "start_time": "2024-06-03T17:44:52.128531",
     "status": "completed"
    },
    "tags": []
   },
   "source": [
    "***External colour***"
   ]
  },
  {
   "cell_type": "code",
   "execution_count": 14,
   "id": "65807751",
   "metadata": {
    "execution": {
     "iopub.execute_input": "2024-06-03T17:44:52.159706Z",
     "iopub.status.busy": "2024-06-03T17:44:52.158787Z",
     "iopub.status.idle": "2024-06-03T17:44:52.171153Z",
     "shell.execute_reply": "2024-06-03T17:44:52.170135Z"
    },
    "papermill": {
     "duration": 0.025678,
     "end_time": "2024-06-03T17:44:52.173485",
     "exception": false,
     "start_time": "2024-06-03T17:44:52.147807",
     "status": "completed"
    },
    "tags": []
   },
   "outputs": [
    {
     "data": {
      "text/plain": [
       "ext_col\n",
       "Black                                 15078\n",
       "White                                 13422\n",
       "Gray                                   7908\n",
       "Silver                                 5158\n",
       "Blue                                   4668\n",
       "Red                                    3013\n",
       "Green                                   763\n",
       "Gold                                    484\n",
       "Beige                                   455\n",
       "Brown                                   386\n",
       "Orange                                  328\n",
       "Yellow                                  306\n",
       "Agate Black Metallic                    113\n",
       "Bright White Clearcoat                  105\n",
       "Purple                                   94\n",
       "Summit White                             88\n",
       "Black Clearcoat                          83\n",
       "Diamond Black                            72\n",
       "Silver Ice Metallic                      62\n",
       "Delmonico Red Pearlcoat                  56\n",
       "Soul Red Crystal Metallic                45\n",
       "–                                        41\n",
       "Ebony Twilight Metallic                  32\n",
       "Snowflake White Pearl                    32\n",
       "Firecracker Red Clearcoat                29\n",
       "Jet Black Mica                           29\n",
       "Dark Matter Metallic                     28\n",
       "Black Sapphire Metallic                  27\n",
       "Shadow Gray Metallic                     26\n",
       "Oxford White                             25\n",
       "Iconic Silver Metallic                   25\n",
       "Cajun Red Tintcoat                       24\n",
       "Sonic Silver Metallic                    23\n",
       "Magnetic Metallic                        22\n",
       "Velvet Red Pearlcoat                     20\n",
       "Midnight Black Metallic                  20\n",
       "Satin Steel Metallic                     17\n",
       "White Frost Tri-Coat                     17\n",
       "Beluga Black                             17\n",
       "Deep Black Pearl Effect                  17\n",
       "Mosaic Black Metallic                    17\n",
       "Patriot Blue Pearlcoat                   16\n",
       "Obsidian Black Metallic                  16\n",
       "Glacial White Pearl                      16\n",
       "Granite Crystal Clearcoat Metallic       16\n",
       "Dark Moon Blue Metallic                  16\n",
       "Brilliant Silver Metallic                16\n",
       "Blu                                      16\n",
       "Atomic Silver                            15\n",
       "Black Obsidian                           15\n",
       "Name: count, dtype: int64"
      ]
     },
     "execution_count": 14,
     "metadata": {},
     "output_type": "execute_result"
    }
   ],
   "source": [
    "# Look at colours value counts for binning\n",
    "ext_col_counts = cleaned_train['ext_col'].value_counts()\n",
    "ext_col_counts.head(50)"
   ]
  },
  {
   "cell_type": "code",
   "execution_count": 15,
   "id": "ebe9a2de",
   "metadata": {
    "execution": {
     "iopub.execute_input": "2024-06-03T17:44:52.195596Z",
     "iopub.status.busy": "2024-06-03T17:44:52.194744Z",
     "iopub.status.idle": "2024-06-03T17:44:53.381563Z",
     "shell.execute_reply": "2024-06-03T17:44:53.380578Z"
    },
    "papermill": {
     "duration": 1.200383,
     "end_time": "2024-06-03T17:44:53.383940",
     "exception": false,
     "start_time": "2024-06-03T17:44:52.183557",
     "status": "completed"
    },
    "tags": []
   },
   "outputs": [
    {
     "data": {
      "text/plain": [
       "ext_col\n",
       "Black                        15078\n",
       "White                        13422\n",
       "Gray                          7908\n",
       "Silver                        5158\n",
       "Blue                          4668\n",
       "Red                           3013\n",
       "Other                         1582\n",
       "Green                          763\n",
       "Gold                           484\n",
       "Beige                          455\n",
       "Brown                          386\n",
       "Orange                         328\n",
       "Yellow                         306\n",
       "Agate Black Metallic           113\n",
       "Bright White Clearcoat         105\n",
       "Purple                          94\n",
       "Summit White                    88\n",
       "Black Clearcoat                 83\n",
       "Diamond Black                   72\n",
       "Silver Ice Metallic             62\n",
       "Delmonico Red Pearlcoat         56\n",
       "Soul Red Crystal Metallic       45\n",
       "Name: count, dtype: int64"
      ]
     },
     "execution_count": 15,
     "metadata": {},
     "output_type": "execute_result"
    }
   ],
   "source": [
    "cutoff_value = 45\n",
    "ext_col_types_to_replace = ext_col_counts[ext_col_counts < cutoff_value].index\n",
    "\n",
    "# Replace in the dataframe\n",
    "for ext_col_c in ext_col_types_to_replace:\n",
    "    cleaned_train.loc[cleaned_train['ext_col'] == ext_col_c, 'ext_col'] = \"Other\"\n",
    "\n",
    "# Check the updated value counts\n",
    "ext_col_counts = cleaned_train['ext_col'].value_counts()\n",
    "ext_col_counts"
   ]
  },
  {
   "cell_type": "code",
   "execution_count": 16,
   "id": "3d181e16",
   "metadata": {
    "execution": {
     "iopub.execute_input": "2024-06-03T17:44:53.406243Z",
     "iopub.status.busy": "2024-06-03T17:44:53.405841Z",
     "iopub.status.idle": "2024-06-03T17:44:53.417918Z",
     "shell.execute_reply": "2024-06-03T17:44:53.416901Z"
    },
    "papermill": {
     "duration": 0.025479,
     "end_time": "2024-06-03T17:44:53.419972",
     "exception": false,
     "start_time": "2024-06-03T17:44:53.394493",
     "status": "completed"
    },
    "tags": []
   },
   "outputs": [
    {
     "data": {
      "text/plain": [
       "int_col\n",
       "Ebony / Pimento              5\n",
       "Camel                        4\n",
       "Cocoa / Dune                 4\n",
       "Dark Gray                    4\n",
       "Dark Ash                     4\n",
       "Medium Ash Gray              4\n",
       "AMG Black                    4\n",
       "Black / Stone Grey           4\n",
       "Ash                          4\n",
       "Walnut                       4\n",
       "Sport                        3\n",
       "Nougat Brown                 3\n",
       "Sand Beige                   3\n",
       "Almond Beige                 3\n",
       "Mistral Gray / Raven         3\n",
       "Rock Gray                    3\n",
       "Amber                        3\n",
       "Graystone                    2\n",
       "Caramel                      2\n",
       "Tupelo                       2\n",
       "Very Light Cashmere          2\n",
       "Pimento Red w/Ebony          2\n",
       "Medium Pewter                2\n",
       "Whisper Beige                2\n",
       "Titan Black                  2\n",
       "Slate                        2\n",
       "Cobalt Blue                  2\n",
       "Silk Beige/Espresso Brown    2\n",
       "Beluga                       2\n",
       "Giallo Taurus / Nero Ade     2\n",
       "Black / Graphite             2\n",
       "Light Gray                   1\n",
       "Blk                          1\n",
       "Espresso                     1\n",
       "Black/Gun Metal              1\n",
       "Parchment.                   1\n",
       "Tan/Ebony                    1\n",
       "Cappuccino                   1\n",
       "Mocha                        1\n",
       "Black w/Red Stitching        1\n",
       "Linen                        1\n",
       "Black / Gray                 1\n",
       "Ivory / Ebony                1\n",
       "Camel Leather                1\n",
       "BLACK                        1\n",
       "Cloud                        1\n",
       "Black/Red                    1\n",
       "Oyster/Black                 1\n",
       "Oyster W/Contrast            1\n",
       "Red/Black                    1\n",
       "Name: count, dtype: int64"
      ]
     },
     "execution_count": 16,
     "metadata": {},
     "output_type": "execute_result"
    }
   ],
   "source": [
    "# Look at colours value counts for binning\n",
    "int_col_counts = cleaned_train['int_col'].value_counts()\n",
    "int_col_counts.tail(50)"
   ]
  },
  {
   "cell_type": "code",
   "execution_count": 17,
   "id": "f2e7baed",
   "metadata": {
    "execution": {
     "iopub.execute_input": "2024-06-03T17:44:53.442153Z",
     "iopub.status.busy": "2024-06-03T17:44:53.441765Z",
     "iopub.status.idle": "2024-06-03T17:44:53.452416Z",
     "shell.execute_reply": "2024-06-03T17:44:53.451593Z"
    },
    "papermill": {
     "duration": 0.024369,
     "end_time": "2024-06-03T17:44:53.454675",
     "exception": false,
     "start_time": "2024-06-03T17:44:53.430306",
     "status": "completed"
    },
    "tags": []
   },
   "outputs": [],
   "source": [
    "cleaned_train.loc[cleaned_train['int_col'] == '–', 'int_col'] = 'Other'"
   ]
  },
  {
   "cell_type": "code",
   "execution_count": 18,
   "id": "b72873fa",
   "metadata": {
    "execution": {
     "iopub.execute_input": "2024-06-03T17:44:53.477221Z",
     "iopub.status.busy": "2024-06-03T17:44:53.476859Z",
     "iopub.status.idle": "2024-06-03T17:44:53.890015Z",
     "shell.execute_reply": "2024-06-03T17:44:53.888841Z"
    },
    "papermill": {
     "duration": 0.427394,
     "end_time": "2024-06-03T17:44:53.892492",
     "exception": false,
     "start_time": "2024-06-03T17:44:53.465098",
     "status": "completed"
    },
    "tags": []
   },
   "outputs": [
    {
     "data": {
      "text/plain": [
       "int_col\n",
       "Black                    31818\n",
       "Beige                     7995\n",
       "Gray                      6250\n",
       "Brown                     2239\n",
       "Red                       1499\n",
       "Other                     1355\n",
       "White                     1172\n",
       "Jet Black                  365\n",
       "Orange                     248\n",
       "Ebony                      237\n",
       "Blue                       212\n",
       "Silver                     129\n",
       "Gold                        95\n",
       "Global Black                58\n",
       "Green                       56\n",
       "Medium Stone                39\n",
       "Black Onyx                  34\n",
       "Charcoal                    32\n",
       "Nero Ade                    32\n",
       "Diesel Gray / Black         30\n",
       "Rioja Red                   28\n",
       "Medium Dark Slate           25\n",
       "White / Brown               22\n",
       "Portland                    22\n",
       "Graphite                    22\n",
       "Medium Earth Gray           21\n",
       "Tan                         19\n",
       "Light Slate                 17\n",
       "Hotspur                     17\n",
       "Adrenaline Red              17\n",
       "Shara Beige                 16\n",
       "Canberra Beige              16\n",
       "Sandstone                   15\n",
       "Ceramic                     14\n",
       "Hotspur Hide                14\n",
       "Deep Chestnut               13\n",
       "Medium Light Camel          13\n",
       "Mesa                        11\n",
       "Ebony Black                 11\n",
       "Ebony / Ebony Accents       11\n",
       "Charles Blue                10\n",
       "Shale                       10\n",
       "Charcoal Black              10\n",
       "Name: count, dtype: int64"
      ]
     },
     "execution_count": 18,
     "metadata": {},
     "output_type": "execute_result"
    }
   ],
   "source": [
    "cutoff_value = 10\n",
    "int_col_types_to_replace = int_col_counts[int_col_counts < cutoff_value].index\n",
    "\n",
    "# Replace in the dataframe\n",
    "for int_col_c in int_col_types_to_replace:\n",
    "    cleaned_train.loc[cleaned_train['int_col'] == int_col_c, 'int_col'] = \"Other\"\n",
    "\n",
    "# Check the updated value counts\n",
    "int_col_counts = cleaned_train['int_col'].value_counts()\n",
    "int_col_counts"
   ]
  },
  {
   "cell_type": "code",
   "execution_count": 19,
   "id": "eca6fdef",
   "metadata": {
    "execution": {
     "iopub.execute_input": "2024-06-03T17:44:53.915049Z",
     "iopub.status.busy": "2024-06-03T17:44:53.914668Z",
     "iopub.status.idle": "2024-06-03T17:44:53.957302Z",
     "shell.execute_reply": "2024-06-03T17:44:53.956358Z"
    },
    "papermill": {
     "duration": 0.056517,
     "end_time": "2024-06-03T17:44:53.959595",
     "exception": false,
     "start_time": "2024-06-03T17:44:53.903078",
     "status": "completed"
    },
    "tags": []
   },
   "outputs": [
    {
     "data": {
      "text/plain": [
       "brand             53\n",
       "model            115\n",
       "model_year        34\n",
       "milage          3212\n",
       "fuel_type          6\n",
       "engine           128\n",
       "transmission      30\n",
       "ext_col           22\n",
       "int_col           43\n",
       "accident           2\n",
       "clean_title        1\n",
       "price           1481\n",
       "dtype: int64"
      ]
     },
     "execution_count": 19,
     "metadata": {},
     "output_type": "execute_result"
    }
   ],
   "source": [
    "# Determine the cleaned number of unique values in each column.\n",
    "unique_counts = cleaned_train.nunique()\n",
    "unique_counts"
   ]
  },
  {
   "cell_type": "code",
   "execution_count": 20,
   "id": "0172b32d",
   "metadata": {
    "execution": {
     "iopub.execute_input": "2024-06-03T17:44:53.982615Z",
     "iopub.status.busy": "2024-06-03T17:44:53.982255Z",
     "iopub.status.idle": "2024-06-03T17:44:53.992531Z",
     "shell.execute_reply": "2024-06-03T17:44:53.991712Z"
    },
    "papermill": {
     "duration": 0.024629,
     "end_time": "2024-06-03T17:44:53.994976",
     "exception": false,
     "start_time": "2024-06-03T17:44:53.970347",
     "status": "completed"
    },
    "tags": []
   },
   "outputs": [],
   "source": [
    "#The last column \"Clean_title\" is the same \"Yes\" answer for all rows, that gives no value to analysis. \n",
    "#Drop this column.\n",
    "final_train=cleaned_train.drop(columns=['clean_title'])\n"
   ]
  },
  {
   "cell_type": "code",
   "execution_count": 21,
   "id": "aad804ed",
   "metadata": {
    "execution": {
     "iopub.execute_input": "2024-06-03T17:44:54.017531Z",
     "iopub.status.busy": "2024-06-03T17:44:54.017177Z",
     "iopub.status.idle": "2024-06-03T17:44:54.063533Z",
     "shell.execute_reply": "2024-06-03T17:44:54.062364Z"
    },
    "papermill": {
     "duration": 0.061541,
     "end_time": "2024-06-03T17:44:54.067064",
     "exception": false,
     "start_time": "2024-06-03T17:44:54.005523",
     "status": "completed"
    },
    "tags": []
   },
   "outputs": [
    {
     "name": "stdout",
     "output_type": "stream",
     "text": [
      "brand\n",
      "BMW              7369\n",
      "Ford             6706\n",
      "Mercedes-Benz    5087\n",
      "Chevrolet        4424\n",
      "Audi             2922\n",
      "Porsche          2627\n",
      "Toyota           2312\n",
      "Lexus            2257\n",
      "Jeep             2247\n",
      "Land             1995\n",
      "Cadillac         1565\n",
      "Nissan           1251\n",
      "GMC              1076\n",
      "Dodge            1011\n",
      "RAM               966\n",
      "INFINITI          957\n",
      "Lincoln           767\n",
      "Mazda             748\n",
      "Subaru            739\n",
      "Hyundai           694\n",
      "Jaguar            661\n",
      "Volkswagen        628\n",
      "Honda             624\n",
      "Acura             580\n",
      "Kia               526\n",
      "Volvo             452\n",
      "MINI              364\n",
      "Maserati          293\n",
      "Bentley           284\n",
      "Chrysler          258\n",
      "Genesis           249\n",
      "Buick             228\n",
      "Mitsubishi        182\n",
      "Hummer            176\n",
      "Pontiac           149\n",
      "Alfa              144\n",
      "Rolls-Royce       142\n",
      "Lamborghini       122\n",
      "Tesla             110\n",
      "Ferrari            87\n",
      "Saturn             58\n",
      "Scion              53\n",
      "Aston              50\n",
      "McLaren            43\n",
      "Rivian             27\n",
      "Mercury            20\n",
      "FIAT               16\n",
      "Lotus              12\n",
      "Suzuki              4\n",
      "Maybach             3\n",
      "Lucid               2\n",
      "Plymouth            1\n",
      "Bugatti             1\n",
      "Name: count, dtype: int64\n",
      "model\n",
      "Other                   32331\n",
      "F-150 XLT                 780\n",
      "M3 Base                   682\n",
      "X5 xDrive35i              615\n",
      "F-150 Lariat              496\n",
      "                        ...  \n",
      "X6 xDrive35i              101\n",
      "S-Class S 550 4MATIC      101\n",
      "Mustang Premium           100\n",
      "AMG C 63 Base             100\n",
      "Civic EX                  100\n",
      "Name: count, Length: 115, dtype: int64\n",
      "model_year\n",
      "2018    4887\n",
      "2016    4692\n",
      "2017    4041\n",
      "2019    4014\n",
      "2020    4012\n",
      "2021    3781\n",
      "2015    3715\n",
      "2022    3140\n",
      "2014    2941\n",
      "2013    2452\n",
      "2011    2106\n",
      "2012    2101\n",
      "2023    1793\n",
      "2008    1741\n",
      "2007    1584\n",
      "2010    1508\n",
      "2009     983\n",
      "2005     967\n",
      "2006     865\n",
      "2004     745\n",
      "2003     557\n",
      "2001     461\n",
      "2002     391\n",
      "1999     176\n",
      "2000     152\n",
      "1998     117\n",
      "1997      80\n",
      "1996      76\n",
      "1995      48\n",
      "1993      47\n",
      "2024      42\n",
      "1994      37\n",
      "1992      12\n",
      "1974       5\n",
      "Name: count, dtype: int64\n",
      "milage\n",
      "60000     361\n",
      "120000    341\n",
      "110000    335\n",
      "170000    320\n",
      "40000     301\n",
      "         ... \n",
      "15300       1\n",
      "12875       1\n",
      "24981       1\n",
      "13028       1\n",
      "28750       1\n",
      "Name: count, Length: 3212, dtype: int64\n",
      "fuel_type\n",
      "Gasoline          49439\n",
      "Hybrid             1766\n",
      "E85 Flex Fuel      1479\n",
      "Diesel             1109\n",
      "Other               294\n",
      "Plug-In Hybrid      182\n",
      "Name: count, dtype: int64\n",
      "engine\n",
      "Other                                                    21178\n",
      "300.0HP 3.0L Straight 6 Cylinder Engine Gasoline Fuel     1452\n",
      "355.0HP 5.3L 8 Cylinder Engine Gasoline Fuel              1125\n",
      "240.0HP 2.0L 4 Cylinder Engine Gasoline Fuel              1054\n",
      "285.0HP 3.6L V6 Cylinder Engine Gasoline Fuel              979\n",
      "                                                         ...  \n",
      "3.5L V6 24V PDI DOHC                                       104\n",
      "410.0HP 6.4L 8 Cylinder Engine Gasoline Fuel               103\n",
      "365.0HP 3.3L V6 Cylinder Engine Gasoline Fuel              100\n",
      "350.0HP 3.4L Flat 6 Cylinder Engine Gasoline Fuel          100\n",
      "3.0L V6 24V GDI DOHC Twin Turbo                            100\n",
      "Name: count, Length: 128, dtype: int64\n",
      "transmission\n",
      "A/T                                  16754\n",
      "8-Speed A/T                           7287\n",
      "Transmission w/Dual Shift Mode        6453\n",
      "6-Speed A/T                           5944\n",
      "6-Speed M/T                           3618\n",
      "7-Speed A/T                           3415\n",
      "10-Speed A/T                          2187\n",
      "8-Speed Automatic                     1189\n",
      "5-Speed A/T                           1185\n",
      "9-Speed A/T                           1073\n",
      "4-Speed A/T                            764\n",
      "5-Speed M/T                            718\n",
      "CVT Transmission                       692\n",
      "10-Speed Automatic                     642\n",
      "6-Speed Automatic                      516\n",
      "Automatic                              441\n",
      "M/T                                    359\n",
      "9-Speed Automatic                      344\n",
      "7-Speed Automatic with Auto-Shift      110\n",
      "7-Speed M/T                            104\n",
      "Automatic CVT                           95\n",
      "Other                                   72\n",
      "1-Speed A/T                             60\n",
      "8-Speed Automatic with Auto-Shift       55\n",
      "Transmission Overdrive Switch           54\n",
      "7-Speed Automatic                       41\n",
      "6-Speed Manual                          34\n",
      "5-Speed Automatic                       24\n",
      "7-Speed Manual                          22\n",
      "6-Speed Automatic with Auto-Shift       17\n",
      "Name: count, dtype: int64\n",
      "ext_col\n",
      "Black                        15078\n",
      "White                        13422\n",
      "Gray                          7908\n",
      "Silver                        5158\n",
      "Blue                          4668\n",
      "Red                           3013\n",
      "Other                         1582\n",
      "Green                          763\n",
      "Gold                           484\n",
      "Beige                          455\n",
      "Brown                          386\n",
      "Orange                         328\n",
      "Yellow                         306\n",
      "Agate Black Metallic           113\n",
      "Bright White Clearcoat         105\n",
      "Purple                          94\n",
      "Summit White                    88\n",
      "Black Clearcoat                 83\n",
      "Diamond Black                   72\n",
      "Silver Ice Metallic             62\n",
      "Delmonico Red Pearlcoat         56\n",
      "Soul Red Crystal Metallic       45\n",
      "Name: count, dtype: int64\n",
      "int_col\n",
      "Black                    31818\n",
      "Beige                     7995\n",
      "Gray                      6250\n",
      "Brown                     2239\n",
      "Red                       1499\n",
      "Other                     1355\n",
      "White                     1172\n",
      "Jet Black                  365\n",
      "Orange                     248\n",
      "Ebony                      237\n",
      "Blue                       212\n",
      "Silver                     129\n",
      "Gold                        95\n",
      "Global Black                58\n",
      "Green                       56\n",
      "Medium Stone                39\n",
      "Black Onyx                  34\n",
      "Charcoal                    32\n",
      "Nero Ade                    32\n",
      "Diesel Gray / Black         30\n",
      "Rioja Red                   28\n",
      "Medium Dark Slate           25\n",
      "White / Brown               22\n",
      "Portland                    22\n",
      "Graphite                    22\n",
      "Medium Earth Gray           21\n",
      "Tan                         19\n",
      "Light Slate                 17\n",
      "Hotspur                     17\n",
      "Adrenaline Red              17\n",
      "Shara Beige                 16\n",
      "Canberra Beige              16\n",
      "Sandstone                   15\n",
      "Ceramic                     14\n",
      "Hotspur Hide                14\n",
      "Deep Chestnut               13\n",
      "Medium Light Camel          13\n",
      "Mesa                        11\n",
      "Ebony Black                 11\n",
      "Ebony / Ebony Accents       11\n",
      "Charles Blue                10\n",
      "Shale                       10\n",
      "Charcoal Black              10\n",
      "Name: count, dtype: int64\n",
      "accident\n",
      "None reported                             39892\n",
      "At least 1 accident or damage reported    14377\n",
      "Name: count, dtype: int64\n",
      "price\n",
      "15000    649\n",
      "12000    495\n",
      "30000    448\n",
      "8500     424\n",
      "17500    420\n",
      "        ... \n",
      "38998      1\n",
      "23739      1\n",
      "28298      1\n",
      "43389      1\n",
      "37998      1\n",
      "Name: count, Length: 1481, dtype: int64\n"
     ]
    }
   ],
   "source": [
    "# Display the value counts for each column\n",
    "for column in final_train.columns:\n",
    "    value_counts = final_train[column].value_counts()\n",
    "    print(value_counts)\n"
   ]
  },
  {
   "cell_type": "markdown",
   "id": "969ed37c",
   "metadata": {
    "papermill": {
     "duration": 0.010631,
     "end_time": "2024-06-03T17:44:54.088730",
     "exception": false,
     "start_time": "2024-06-03T17:44:54.078099",
     "status": "completed"
    },
    "tags": []
   },
   "source": [
    "***Liner Regression***"
   ]
  },
  {
   "cell_type": "code",
   "execution_count": 22,
   "id": "14cb4f8b",
   "metadata": {
    "execution": {
     "iopub.execute_input": "2024-06-03T17:44:54.112045Z",
     "iopub.status.busy": "2024-06-03T17:44:54.111665Z",
     "iopub.status.idle": "2024-06-03T17:44:55.361729Z",
     "shell.execute_reply": "2024-06-03T17:44:55.360601Z"
    },
    "papermill": {
     "duration": 1.26463,
     "end_time": "2024-06-03T17:44:55.364264",
     "exception": false,
     "start_time": "2024-06-03T17:44:54.099634",
     "status": "completed"
    },
    "tags": []
   },
   "outputs": [],
   "source": [
    "from sklearn.linear_model import LinearRegression"
   ]
  },
  {
   "cell_type": "code",
   "execution_count": 23,
   "id": "efcd17b9",
   "metadata": {
    "execution": {
     "iopub.execute_input": "2024-06-03T17:44:55.387969Z",
     "iopub.status.busy": "2024-06-03T17:44:55.387568Z",
     "iopub.status.idle": "2024-06-03T17:44:55.496262Z",
     "shell.execute_reply": "2024-06-03T17:44:55.495090Z"
    },
    "papermill": {
     "duration": 0.123147,
     "end_time": "2024-06-03T17:44:55.498604",
     "exception": false,
     "start_time": "2024-06-03T17:44:55.375457",
     "status": "completed"
    },
    "tags": []
   },
   "outputs": [
    {
     "data": {
      "text/plain": [
       "(54269, 402)"
      ]
     },
     "execution_count": 23,
     "metadata": {},
     "output_type": "execute_result"
    }
   ],
   "source": [
    "# Convert categorical data to numeric with `pd.get_dummies`\n",
    "X = pd.get_dummies(final_train)\n",
    "X.shape\n"
   ]
  },
  {
   "cell_type": "code",
   "execution_count": 24,
   "id": "87f08561",
   "metadata": {
    "execution": {
     "iopub.execute_input": "2024-06-03T17:44:55.523122Z",
     "iopub.status.busy": "2024-06-03T17:44:55.522197Z",
     "iopub.status.idle": "2024-06-03T17:44:55.527393Z",
     "shell.execute_reply": "2024-06-03T17:44:55.526284Z"
    },
    "papermill": {
     "duration": 0.019719,
     "end_time": "2024-06-03T17:44:55.529513",
     "exception": false,
     "start_time": "2024-06-03T17:44:55.509794",
     "status": "completed"
    },
    "tags": []
   },
   "outputs": [],
   "source": [
    "# Split our preprocessed data into our features and target arrays\n",
    "y=X['price'].values.reshape(-1, 1)"
   ]
  },
  {
   "cell_type": "code",
   "execution_count": 25,
   "id": "7842455e",
   "metadata": {
    "execution": {
     "iopub.execute_input": "2024-06-03T17:44:55.553123Z",
     "iopub.status.busy": "2024-06-03T17:44:55.552723Z",
     "iopub.status.idle": "2024-06-03T17:44:55.577840Z",
     "shell.execute_reply": "2024-06-03T17:44:55.576957Z"
    },
    "papermill": {
     "duration": 0.03986,
     "end_time": "2024-06-03T17:44:55.580421",
     "exception": false,
     "start_time": "2024-06-03T17:44:55.540561",
     "status": "completed"
    },
    "tags": []
   },
   "outputs": [],
   "source": [
    "#Removing the price from the prediction features\n",
    "X = X.drop(['price'], axis=1)\n"
   ]
  },
  {
   "cell_type": "code",
   "execution_count": 26,
   "id": "dd98d872",
   "metadata": {
    "execution": {
     "iopub.execute_input": "2024-06-03T17:44:55.604212Z",
     "iopub.status.busy": "2024-06-03T17:44:55.603796Z",
     "iopub.status.idle": "2024-06-03T17:44:58.442223Z",
     "shell.execute_reply": "2024-06-03T17:44:58.440913Z"
    },
    "papermill": {
     "duration": 2.870127,
     "end_time": "2024-06-03T17:44:58.461604",
     "exception": false,
     "start_time": "2024-06-03T17:44:55.591477",
     "status": "completed"
    },
    "tags": []
   },
   "outputs": [
    {
     "data": {
      "text/html": [
       "<style>#sk-container-id-1 {color: black;background-color: white;}#sk-container-id-1 pre{padding: 0;}#sk-container-id-1 div.sk-toggleable {background-color: white;}#sk-container-id-1 label.sk-toggleable__label {cursor: pointer;display: block;width: 100%;margin-bottom: 0;padding: 0.3em;box-sizing: border-box;text-align: center;}#sk-container-id-1 label.sk-toggleable__label-arrow:before {content: \"▸\";float: left;margin-right: 0.25em;color: #696969;}#sk-container-id-1 label.sk-toggleable__label-arrow:hover:before {color: black;}#sk-container-id-1 div.sk-estimator:hover label.sk-toggleable__label-arrow:before {color: black;}#sk-container-id-1 div.sk-toggleable__content {max-height: 0;max-width: 0;overflow: hidden;text-align: left;background-color: #f0f8ff;}#sk-container-id-1 div.sk-toggleable__content pre {margin: 0.2em;color: black;border-radius: 0.25em;background-color: #f0f8ff;}#sk-container-id-1 input.sk-toggleable__control:checked~div.sk-toggleable__content {max-height: 200px;max-width: 100%;overflow: auto;}#sk-container-id-1 input.sk-toggleable__control:checked~label.sk-toggleable__label-arrow:before {content: \"▾\";}#sk-container-id-1 div.sk-estimator input.sk-toggleable__control:checked~label.sk-toggleable__label {background-color: #d4ebff;}#sk-container-id-1 div.sk-label input.sk-toggleable__control:checked~label.sk-toggleable__label {background-color: #d4ebff;}#sk-container-id-1 input.sk-hidden--visually {border: 0;clip: rect(1px 1px 1px 1px);clip: rect(1px, 1px, 1px, 1px);height: 1px;margin: -1px;overflow: hidden;padding: 0;position: absolute;width: 1px;}#sk-container-id-1 div.sk-estimator {font-family: monospace;background-color: #f0f8ff;border: 1px dotted black;border-radius: 0.25em;box-sizing: border-box;margin-bottom: 0.5em;}#sk-container-id-1 div.sk-estimator:hover {background-color: #d4ebff;}#sk-container-id-1 div.sk-parallel-item::after {content: \"\";width: 100%;border-bottom: 1px solid gray;flex-grow: 1;}#sk-container-id-1 div.sk-label:hover label.sk-toggleable__label {background-color: #d4ebff;}#sk-container-id-1 div.sk-serial::before {content: \"\";position: absolute;border-left: 1px solid gray;box-sizing: border-box;top: 0;bottom: 0;left: 50%;z-index: 0;}#sk-container-id-1 div.sk-serial {display: flex;flex-direction: column;align-items: center;background-color: white;padding-right: 0.2em;padding-left: 0.2em;position: relative;}#sk-container-id-1 div.sk-item {position: relative;z-index: 1;}#sk-container-id-1 div.sk-parallel {display: flex;align-items: stretch;justify-content: center;background-color: white;position: relative;}#sk-container-id-1 div.sk-item::before, #sk-container-id-1 div.sk-parallel-item::before {content: \"\";position: absolute;border-left: 1px solid gray;box-sizing: border-box;top: 0;bottom: 0;left: 50%;z-index: -1;}#sk-container-id-1 div.sk-parallel-item {display: flex;flex-direction: column;z-index: 1;position: relative;background-color: white;}#sk-container-id-1 div.sk-parallel-item:first-child::after {align-self: flex-end;width: 50%;}#sk-container-id-1 div.sk-parallel-item:last-child::after {align-self: flex-start;width: 50%;}#sk-container-id-1 div.sk-parallel-item:only-child::after {width: 0;}#sk-container-id-1 div.sk-dashed-wrapped {border: 1px dashed gray;margin: 0 0.4em 0.5em 0.4em;box-sizing: border-box;padding-bottom: 0.4em;background-color: white;}#sk-container-id-1 div.sk-label label {font-family: monospace;font-weight: bold;display: inline-block;line-height: 1.2em;}#sk-container-id-1 div.sk-label-container {text-align: center;}#sk-container-id-1 div.sk-container {/* jupyter's `normalize.less` sets `[hidden] { display: none; }` but bootstrap.min.css set `[hidden] { display: none !important; }` so we also need the `!important` here to be able to override the default hidden behavior on the sphinx rendered scikit-learn.org. See: https://github.com/scikit-learn/scikit-learn/issues/21755 */display: inline-block !important;position: relative;}#sk-container-id-1 div.sk-text-repr-fallback {display: none;}</style><div id=\"sk-container-id-1\" class=\"sk-top-container\"><div class=\"sk-text-repr-fallback\"><pre>LinearRegression()</pre><b>In a Jupyter environment, please rerun this cell to show the HTML representation or trust the notebook. <br />On GitHub, the HTML representation is unable to render, please try loading this page with nbviewer.org.</b></div><div class=\"sk-container\" hidden><div class=\"sk-item\"><div class=\"sk-estimator sk-toggleable\"><input class=\"sk-toggleable__control sk-hidden--visually\" id=\"sk-estimator-id-1\" type=\"checkbox\" checked><label for=\"sk-estimator-id-1\" class=\"sk-toggleable__label sk-toggleable__label-arrow\">LinearRegression</label><div class=\"sk-toggleable__content\"><pre>LinearRegression()</pre></div></div></div></div></div>"
      ],
      "text/plain": [
       "LinearRegression()"
      ]
     },
     "execution_count": 26,
     "metadata": {},
     "output_type": "execute_result"
    }
   ],
   "source": [
    "lm = LinearRegression()\n",
    "lm.fit(X,y)"
   ]
  },
  {
   "cell_type": "code",
   "execution_count": 27,
   "id": "14157049",
   "metadata": {
    "execution": {
     "iopub.execute_input": "2024-06-03T17:44:58.537373Z",
     "iopub.status.busy": "2024-06-03T17:44:58.537003Z",
     "iopub.status.idle": "2024-06-03T17:44:58.787197Z",
     "shell.execute_reply": "2024-06-03T17:44:58.785740Z"
    },
    "papermill": {
     "duration": 0.288992,
     "end_time": "2024-06-03T17:44:58.790739",
     "exception": false,
     "start_time": "2024-06-03T17:44:58.501747",
     "status": "completed"
    },
    "tags": []
   },
   "outputs": [
    {
     "data": {
      "text/plain": [
       "array([[49089.09643555],\n",
       "       [17925.02093506],\n",
       "       [15693.41137695],\n",
       "       [79381.78552246],\n",
       "       [16228.65808105]])"
      ]
     },
     "execution_count": 27,
     "metadata": {},
     "output_type": "execute_result"
    }
   ],
   "source": [
    "#make predictions\n",
    "yhat = lm.predict(X)\n",
    "yhat[0:5]"
   ]
  },
  {
   "cell_type": "code",
   "execution_count": 28,
   "id": "ee5dbd93",
   "metadata": {
    "execution": {
     "iopub.execute_input": "2024-06-03T17:44:58.832145Z",
     "iopub.status.busy": "2024-06-03T17:44:58.831432Z",
     "iopub.status.idle": "2024-06-03T17:44:58.839908Z",
     "shell.execute_reply": "2024-06-03T17:44:58.838740Z"
    },
    "papermill": {
     "duration": 0.036494,
     "end_time": "2024-06-03T17:44:58.847239",
     "exception": false,
     "start_time": "2024-06-03T17:44:58.810745",
     "status": "completed"
    },
    "tags": []
   },
   "outputs": [
    {
     "data": {
      "text/plain": [
       "array([-3.8856667e+11])"
      ]
     },
     "execution_count": 28,
     "metadata": {},
     "output_type": "execute_result"
    }
   ],
   "source": [
    "#find the intercept\n",
    "lm.intercept_"
   ]
  },
  {
   "cell_type": "code",
   "execution_count": 29,
   "id": "792ef1f5",
   "metadata": {
    "execution": {
     "iopub.execute_input": "2024-06-03T17:44:58.888373Z",
     "iopub.status.busy": "2024-06-03T17:44:58.887496Z",
     "iopub.status.idle": "2024-06-03T17:44:58.901041Z",
     "shell.execute_reply": "2024-06-03T17:44:58.900288Z"
    },
    "papermill": {
     "duration": 0.036323,
     "end_time": "2024-06-03T17:44:58.902932",
     "exception": false,
     "start_time": "2024-06-03T17:44:58.866609",
     "status": "completed"
    },
    "tags": []
   },
   "outputs": [
    {
     "data": {
      "text/plain": [
       "array([[ 1.37498991e+03, -1.68339632e-01,  1.77728590e+11,\n",
       "         1.77728589e+11,  1.77728651e+11,  1.77728599e+11,\n",
       "         1.77728594e+11,  1.77728631e+11,  1.77730434e+11,\n",
       "         1.77728584e+11,  1.77728589e+11,  1.77728589e+11,\n",
       "         1.77728586e+11,  1.77728592e+11,  1.77728568e+11,\n",
       "         1.77728680e+11,  1.77728589e+11,  1.77728590e+11,\n",
       "         1.77728592e+11,  1.77728586e+11,  1.77728588e+11,\n",
       "         1.77728577e+11,  1.77728588e+11,  1.77728594e+11,\n",
       "         1.77728586e+11,  1.77728580e+11,  1.77728671e+11,\n",
       "         1.77728596e+11,  1.77728592e+11,  1.77728588e+11,\n",
       "         1.77728594e+11,  1.77728583e+11,  1.77728579e+11,\n",
       "         1.77728599e+11,  1.77728621e+11,  1.77728581e+11,\n",
       "         1.77728637e+11,  1.77728601e+11,  1.77728591e+11,\n",
       "         1.77728582e+11,  1.77728591e+11,  1.77728553e+11,\n",
       "         1.77728585e+11,  1.77728610e+11,  1.77728590e+11,\n",
       "         1.77728610e+11,  1.77728716e+11,  1.77728585e+11,\n",
       "         1.77728581e+11,  1.77728584e+11,  1.77728577e+11,\n",
       "         1.77728589e+11,  1.77728590e+11,  1.77728583e+11,\n",
       "         1.77728585e+11, -1.51176687e+10, -1.51176456e+10,\n",
       "        -1.51176748e+10, -1.51176753e+10, -1.51176718e+10,\n",
       "        -1.51176704e+10, -1.51176726e+10, -1.51176751e+10,\n",
       "        -1.51176740e+10, -1.51176764e+10, -1.51176357e+10,\n",
       "        -1.51176490e+10, -1.51176796e+10, -1.51176741e+10,\n",
       "        -1.51176735e+10, -1.51176748e+10, -1.51176801e+10,\n",
       "        -1.51176650e+10, -1.51176815e+10, -1.51176728e+10,\n",
       "        -1.51176241e+10, -1.51176790e+10, -1.51176768e+10,\n",
       "        -1.51176734e+10, -1.51176705e+10, -1.51176740e+10,\n",
       "        -1.51176743e+10, -1.51176976e+10, -1.51176743e+10,\n",
       "        -1.51176688e+10, -1.51176485e+10, -1.51176607e+10,\n",
       "        -1.51176772e+10, -1.51176694e+10, -1.51176722e+10,\n",
       "        -1.51176777e+10, -1.51176749e+10, -1.51176808e+10,\n",
       "        -1.51176750e+10, -1.51176656e+10, -1.51176696e+10,\n",
       "        -1.51176760e+10, -1.51176693e+10, -1.51176674e+10,\n",
       "        -1.51176724e+10, -1.51176690e+10, -1.51176726e+10,\n",
       "        -1.51176702e+10, -1.51176779e+10, -1.51176925e+10,\n",
       "        -1.51176777e+10, -1.51176839e+10, -1.51176594e+10,\n",
       "        -1.51177295e+10, -1.51176697e+10, -1.51176694e+10,\n",
       "        -1.51176386e+10, -1.51176759e+10, -1.51176650e+10,\n",
       "        -1.51176714e+10, -1.51176779e+10, -1.51176591e+10,\n",
       "        -1.51176689e+10, -1.51176706e+10, -1.51176553e+10,\n",
       "        -1.51176726e+10, -1.51176697e+10, -1.51176694e+10,\n",
       "        -1.51176866e+10, -1.51176580e+10, -1.51176816e+10,\n",
       "        -1.51176709e+10, -1.51176785e+10, -1.51176701e+10,\n",
       "        -1.51176711e+10, -1.51176705e+10, -1.51176686e+10,\n",
       "        -1.51176750e+10, -1.51176664e+10, -1.51176744e+10,\n",
       "        -1.51176730e+10, -1.51176702e+10, -1.51176686e+10,\n",
       "        -1.51176621e+10, -1.51176646e+10, -1.51176613e+10,\n",
       "        -1.51176756e+10, -1.51176786e+10, -1.51176458e+10,\n",
       "        -1.51176452e+10, -1.51176816e+10, -1.51176522e+10,\n",
       "        -1.51176856e+10, -1.51176789e+10, -1.51176576e+10,\n",
       "        -1.51176787e+10, -1.51176690e+10, -1.51176697e+10,\n",
       "        -1.51176844e+10, -1.51176694e+10, -1.51176642e+10,\n",
       "        -1.51176648e+10, -1.51176716e+10, -1.51176692e+10,\n",
       "        -1.51176711e+10, -1.51176682e+10, -1.51176730e+10,\n",
       "        -1.51176681e+10, -1.51176678e+10, -1.51176672e+10,\n",
       "        -1.51176558e+10, -1.51176721e+10, -1.51176654e+10,\n",
       "        -1.51176858e+10, -1.51176760e+10,  3.25761092e+11,\n",
       "         3.25761078e+11,  3.25761080e+11,  3.25761078e+11,\n",
       "         3.25761082e+11,  3.25761075e+11, -4.20361172e+10,\n",
       "        -4.20361221e+10, -4.20361208e+10, -4.20361299e+10,\n",
       "        -4.20361167e+10, -4.20361346e+10, -4.20361262e+10,\n",
       "        -4.20361276e+10, -4.20361074e+10, -4.20361238e+10,\n",
       "        -4.20361310e+10, -4.20361411e+10, -4.20361240e+10,\n",
       "        -4.20361228e+10, -4.20361201e+10, -4.20361361e+10,\n",
       "        -4.20361380e+10, -4.20361359e+10, -4.20361332e+10,\n",
       "        -4.20361279e+10, -4.20361321e+10, -4.20361367e+10,\n",
       "        -4.20361293e+10, -4.20361353e+10, -4.20361219e+10,\n",
       "        -4.20361384e+10, -4.20361295e+10, -4.20361213e+10,\n",
       "        -4.20361258e+10, -4.20361286e+10, -4.20361222e+10,\n",
       "        -4.20361247e+10, -4.20361314e+10, -4.20361243e+10,\n",
       "        -4.20361228e+10, -4.20361213e+10, -4.20361241e+10,\n",
       "        -4.20361221e+10, -4.20361274e+10, -4.20361208e+10,\n",
       "        -4.20361235e+10, -4.20361167e+10, -4.20361234e+10,\n",
       "        -4.20361244e+10, -4.20361145e+10, -4.20361313e+10,\n",
       "        -4.20361233e+10, -4.20361293e+10, -4.20361315e+10,\n",
       "        -4.20361435e+10, -4.20361244e+10, -4.20361242e+10,\n",
       "        -4.20361160e+10, -4.20361127e+10, -4.20361343e+10,\n",
       "        -4.20361271e+10, -4.20361218e+10, -4.20361276e+10,\n",
       "        -4.20361261e+10, -4.20361362e+10, -4.20361213e+10,\n",
       "        -4.20361319e+10, -4.20361093e+10, -4.20361158e+10,\n",
       "        -4.20361283e+10, -4.20361212e+10, -4.20361248e+10,\n",
       "        -4.20361269e+10, -4.20361361e+10, -4.20361242e+10,\n",
       "        -4.20361310e+10, -4.20361249e+10, -4.20361211e+10,\n",
       "        -4.20361309e+10, -4.20361289e+10, -4.20361011e+10,\n",
       "        -4.20361300e+10, -4.20361274e+10, -4.20361226e+10,\n",
       "        -4.20361154e+10, -4.20361015e+10, -4.20361257e+10,\n",
       "        -4.20361042e+10, -4.20361089e+10, -4.20361207e+10,\n",
       "        -4.20361154e+10, -4.20361088e+10, -4.20361285e+10,\n",
       "        -4.20361147e+10, -4.20361184e+10, -4.20361166e+10,\n",
       "        -4.20361450e+10, -4.20361195e+10, -4.20361119e+10,\n",
       "        -4.20361207e+10, -4.20361163e+10, -4.20361165e+10,\n",
       "        -4.20360945e+10, -4.20361071e+10, -4.20361157e+10,\n",
       "        -4.20361196e+10, -4.20361150e+10, -4.20361261e+10,\n",
       "        -4.20361330e+10, -4.20361139e+10, -4.20361171e+10,\n",
       "        -4.20361187e+10, -4.20361100e+10, -4.20361278e+10,\n",
       "        -4.20361086e+10, -4.20360954e+10, -4.20360976e+10,\n",
       "        -4.20361223e+10, -4.20361110e+10, -4.20361117e+10,\n",
       "        -4.20361101e+10, -4.20361267e+10, -4.20361104e+10,\n",
       "        -4.20360871e+10, -4.20361097e+10, -4.20361157e+10,\n",
       "        -4.20361428e+10, -4.20361069e+10, -4.20360881e+10,\n",
       "        -4.20361045e+10, -4.20361093e+10, -4.20361202e+10,\n",
       "        -4.20361135e+10,  3.12059260e+10,  3.12059299e+10,\n",
       "         3.12059438e+10,  3.12059386e+10,  3.12059230e+10,\n",
       "         3.12059563e+10,  3.12059254e+10,  3.12059196e+10,\n",
       "         3.12059326e+10,  3.12059694e+10,  3.12059271e+10,\n",
       "         3.12060080e+10,  3.12059274e+10,  3.12059295e+10,\n",
       "         3.12059921e+10,  3.12059515e+10,  3.12059691e+10,\n",
       "         3.12059284e+10,  3.12059368e+10,  3.12060110e+10,\n",
       "         3.12059277e+10,  3.12059306e+10,  3.12059245e+10,\n",
       "         3.12059368e+10,  3.12059220e+10,  3.12059188e+10,\n",
       "         3.12059236e+10,  3.12059902e+10,  3.12059227e+10,\n",
       "         3.12059270e+10, -2.63563556e+11, -2.63563545e+11,\n",
       "        -2.63563546e+11, -2.63563554e+11, -2.63563547e+11,\n",
       "        -2.63563571e+11, -2.63563548e+11, -2.63563576e+11,\n",
       "        -2.63563574e+11, -2.63563547e+11, -2.63563544e+11,\n",
       "        -2.63563540e+11, -2.63563543e+11, -2.63563550e+11,\n",
       "        -2.63563548e+11, -2.63563539e+11, -2.63563547e+11,\n",
       "        -2.63563561e+11, -2.63563557e+11, -2.63563556e+11,\n",
       "        -2.63563547e+11, -2.63563548e+11,  8.53906926e+10,\n",
       "         8.53906852e+10,  8.53906856e+10,  8.53907003e+10,\n",
       "         8.53906905e+10,  8.53906915e+10,  8.53906774e+10,\n",
       "         8.53906672e+10,  8.53906711e+10,  8.53906542e+10,\n",
       "         8.53906145e+10,  8.53906800e+10,  8.53906990e+10,\n",
       "         8.53906972e+10,  8.53906824e+10,  8.53906887e+10,\n",
       "         8.53907047e+10,  8.53906838e+10,  8.53906858e+10,\n",
       "         8.53906863e+10,  8.53906884e+10,  8.53907441e+10,\n",
       "         8.53907308e+10,  8.53906847e+10,  8.53906692e+10,\n",
       "         8.53906775e+10,  8.53906908e+10,  8.53906785e+10,\n",
       "         8.53906697e+10,  8.53906773e+10,  8.53907075e+10,\n",
       "         8.53906905e+10,  8.53906848e+10,  8.53907222e+10,\n",
       "         8.53906872e+10,  8.53906959e+10,  8.53906853e+10,\n",
       "         8.53906744e+10,  8.53906709e+10,  8.53906853e+10,\n",
       "         8.53907207e+10,  8.53906918e+10,  8.53906798e+10,\n",
       "         8.91949993e+10,  8.91950033e+10]])"
      ]
     },
     "execution_count": 29,
     "metadata": {},
     "output_type": "execute_result"
    }
   ],
   "source": [
    "#find the slope\n",
    "lm.coef_"
   ]
  },
  {
   "cell_type": "code",
   "execution_count": 30,
   "id": "83dfe3d8",
   "metadata": {
    "execution": {
     "iopub.execute_input": "2024-06-03T17:44:58.928707Z",
     "iopub.status.busy": "2024-06-03T17:44:58.927703Z",
     "iopub.status.idle": "2024-06-03T17:44:58.935829Z",
     "shell.execute_reply": "2024-06-03T17:44:58.934592Z"
    },
    "papermill": {
     "duration": 0.02325,
     "end_time": "2024-06-03T17:44:58.937968",
     "exception": false,
     "start_time": "2024-06-03T17:44:58.914718",
     "status": "completed"
    },
    "tags": []
   },
   "outputs": [
    {
     "name": "stdout",
     "output_type": "stream",
     "text": [
      "Mean Squared Error (MSE): 4606546005.919433\n"
     ]
    }
   ],
   "source": [
    "#find the MSE\n",
    "from sklearn.metrics import mean_squared_error\n",
    "\n",
    "# Calculate the mean squared error\n",
    "mse = mean_squared_error(y, yhat)\n",
    "\n",
    "# Print the MSE\n",
    "print(\"Mean Squared Error (MSE):\", mse)\n"
   ]
  },
  {
   "cell_type": "code",
   "execution_count": 31,
   "id": "d0d2532a",
   "metadata": {
    "execution": {
     "iopub.execute_input": "2024-06-03T17:44:59.020796Z",
     "iopub.status.busy": "2024-06-03T17:44:59.019807Z",
     "iopub.status.idle": "2024-06-03T17:44:59.026616Z",
     "shell.execute_reply": "2024-06-03T17:44:59.025588Z"
    },
    "papermill": {
     "duration": 0.078981,
     "end_time": "2024-06-03T17:44:59.028744",
     "exception": false,
     "start_time": "2024-06-03T17:44:58.949763",
     "status": "completed"
    },
    "tags": []
   },
   "outputs": [
    {
     "data": {
      "text/plain": [
       "67871.5404710946"
      ]
     },
     "execution_count": 31,
     "metadata": {},
     "output_type": "execute_result"
    }
   ],
   "source": [
    "#find the RMSE\n",
    "rmse = np.sqrt(mse)\n",
    "rmse"
   ]
  },
  {
   "cell_type": "code",
   "execution_count": 32,
   "id": "0678c4c2",
   "metadata": {
    "execution": {
     "iopub.execute_input": "2024-06-03T17:44:59.054113Z",
     "iopub.status.busy": "2024-06-03T17:44:59.053716Z",
     "iopub.status.idle": "2024-06-03T17:44:59.061591Z",
     "shell.execute_reply": "2024-06-03T17:44:59.060598Z"
    },
    "papermill": {
     "duration": 0.023053,
     "end_time": "2024-06-03T17:44:59.063704",
     "exception": false,
     "start_time": "2024-06-03T17:44:59.040651",
     "status": "completed"
    },
    "tags": []
   },
   "outputs": [
    {
     "data": {
      "text/plain": [
       "0.13148212159271466"
      ]
     },
     "execution_count": 32,
     "metadata": {},
     "output_type": "execute_result"
    }
   ],
   "source": [
    "#find rscore\n",
    "from sklearn.metrics import r2_score\n",
    "r2_score(y, yhat)"
   ]
  }
 ],
 "metadata": {
  "kaggle": {
   "accelerator": "none",
   "dataSources": [
    {
     "datasetId": 5130497,
     "sourceId": 8579062,
     "sourceType": "datasetVersion"
    }
   ],
   "dockerImageVersionId": 30715,
   "isGpuEnabled": false,
   "isInternetEnabled": true,
   "language": "python",
   "sourceType": "notebook"
  },
  "kernelspec": {
   "display_name": "Python 3",
   "language": "python",
   "name": "python3"
  },
  "language_info": {
   "codemirror_mode": {
    "name": "ipython",
    "version": 3
   },
   "file_extension": ".py",
   "mimetype": "text/x-python",
   "name": "python",
   "nbconvert_exporter": "python",
   "pygments_lexer": "ipython3",
   "version": "3.10.13"
  },
  "papermill": {
   "default_parameters": {},
   "duration": 25.262722,
   "end_time": "2024-06-03T17:44:59.696233",
   "environment_variables": {},
   "exception": null,
   "input_path": "__notebook__.ipynb",
   "output_path": "__notebook__.ipynb",
   "parameters": {},
   "start_time": "2024-06-03T17:44:34.433511",
   "version": "2.5.0"
  }
 },
 "nbformat": 4,
 "nbformat_minor": 5
}
